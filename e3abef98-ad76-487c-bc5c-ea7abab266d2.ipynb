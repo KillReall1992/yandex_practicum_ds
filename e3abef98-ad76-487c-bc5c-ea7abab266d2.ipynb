{
 "cells": [
  {
   "cell_type": "markdown",
   "id": "ac0dbd52",
   "metadata": {},
   "source": [
    "\n",
    "Привет, меня зовут Головатский Николай, я буду проверять твой проект.\n",
    "\n",
    "В Практикуме принято общаться на \"ты\", однако если это неудобно - дай знать, и можем перейти на более официальное общение.\n",
    "\n",
    "Ниже ты найдешь мои комментарии - **пожалуйста, не перемещай, не изменяй и не удаляй их,** это может усложнить и затянуть повторную проверку. \n",
    "\n",
    "Я буду использовать цветовую разметку: \n",
    "\n",
    "<div class=\"alert alert-block alert-success\">\n",
    "<b>Комментарий ревьюера✅:</b> Если все сделано хорошо.</div>\n",
    "\n",
    "<div class=\"alert alert-block alert-warning\">\n",
    "<b>Комментарий ревьюера⚠️:</b> Некритичное замечание, реккомендация на будущее. Для принятия проекта исправление не обязательно.</div>\n",
    "\n",
    "<div class=\"alert alert-block alert-danger\">\n",
    "<b>Комментарий ревьюера❌:</b> Критичная ошибка, необходимо исправить, иначе проект не будет принят.\n",
    "</div>\n",
    "\n",
    "Давай работать над проектом в диалоге: если ты что-то меняешь в проекте или отвечаешь на мои комменатри — пиши об этом. Мне будет легче отследить изменения, если ты выделишь свои комментарии:\n",
    "Например так:\n",
    "<div class=\"alert alert-block alert-info\">\n",
    "<b>Комментарий студента:</b> \n",
    "Hello World!\n",
    "</div>\n",
    "\n",
    "Если писать особо нечего, просто оставляй комментарий с галочкой ☑️.\n",
    "\n",
    "<div class=\"alert alert-block alert-success\">\n",
    "<b>Общее впечатление:</b> \n",
    "    \n",
    "- Спасибо за работу :)\n",
    "- Определенно могу сказать, что проект очень сильный;\n",
    "- Мне очень понравилось, как ты детально погружаешься в данные и не упускаешь никаких мелочей;\n",
    "- В проекте осталось пара моментов, после правки которых, я смогу принять работу😉\n",
    "    \n",
    "</div>"
   ]
  },
  {
   "cell_type": "markdown",
   "id": "1f4401d5",
   "metadata": {},
   "source": [
    "# Исследование надежности заемщиков."
   ]
  },
  {
   "cell_type": "markdown",
   "id": "fbd817a6",
   "metadata": {},
   "source": [
    "<div class=\"alert alert-block alert-danger\">\n",
    "<b>Комментарий ревьюера❌:</b> На этом этапе было бы неплохо описать суть проекта. Краткое введение делает проект понятней и помогает ориентироваться\n",
    "</div>"
   ]
  },
  {
   "cell_type": "markdown",
   "id": "fe4ce8de",
   "metadata": {},
   "source": [
    "На данных кредитного отдела банка мы проведем исследование влияния семейного положения и количества детей клиента на факт погашения кредита в срок.\n",
    "\n",
    "**Цель исследования** — ответить на четыре вопроса:\n",
    "1. Есть ли зависимость между количеством детей и возвратом кредита в срок?\n",
    "2. Есть ли зависимость между семейным положением и возвратом кредита в срок?\n",
    "3. Есть ли зависимость между уровнем дохода и возвратом кредита в срок?\n",
    "4. Как разные цели кредита влияют на его возврат в срок?\n",
    "\n",
    "**Ход исследования**\n",
    "Данные о клиентах мы возьмем из файла `/datasets/data.csv`. О качестве данных ничего не известно. Поэтому необходимо провести обзор данных. \n",
    " \n",
    "Таким образом, исследование пройдёт в три этапа:\n",
    " 1. Обзор данных.\n",
    " 2. Предобработка данных.\n",
    " 3. Ответы на вопросы.\n"
   ]
  },
  {
   "cell_type": "markdown",
   "id": "2af98427",
   "metadata": {},
   "source": [
    "<div class=\"alert alert-block alert-success\">\n",
    "<b>Комментарий ревьюера_v2✅:</b> Огонь🔥🔥🔥\n",
    "</div>"
   ]
  },
  {
   "cell_type": "markdown",
   "id": "cc91844f",
   "metadata": {},
   "source": [
    "### Шаг 1. Обзор данных"
   ]
  },
  {
   "cell_type": "code",
   "execution_count": 1,
   "id": "773edbe8",
   "metadata": {},
   "outputs": [
    {
     "data": {
      "text/html": [
       "<div>\n",
       "<style scoped>\n",
       "    .dataframe tbody tr th:only-of-type {\n",
       "        vertical-align: middle;\n",
       "    }\n",
       "\n",
       "    .dataframe tbody tr th {\n",
       "        vertical-align: top;\n",
       "    }\n",
       "\n",
       "    .dataframe thead th {\n",
       "        text-align: right;\n",
       "    }\n",
       "</style>\n",
       "<table border=\"1\" class=\"dataframe\">\n",
       "  <thead>\n",
       "    <tr style=\"text-align: right;\">\n",
       "      <th></th>\n",
       "      <th>children</th>\n",
       "      <th>days_employed</th>\n",
       "      <th>dob_years</th>\n",
       "      <th>education</th>\n",
       "      <th>education_id</th>\n",
       "      <th>family_status</th>\n",
       "      <th>family_status_id</th>\n",
       "      <th>gender</th>\n",
       "      <th>income_type</th>\n",
       "      <th>debt</th>\n",
       "      <th>total_income</th>\n",
       "      <th>purpose</th>\n",
       "    </tr>\n",
       "  </thead>\n",
       "  <tbody>\n",
       "    <tr>\n",
       "      <td>0</td>\n",
       "      <td>1</td>\n",
       "      <td>-8437.673028</td>\n",
       "      <td>42</td>\n",
       "      <td>высшее</td>\n",
       "      <td>0</td>\n",
       "      <td>женат / замужем</td>\n",
       "      <td>0</td>\n",
       "      <td>F</td>\n",
       "      <td>сотрудник</td>\n",
       "      <td>0</td>\n",
       "      <td>253875.639453</td>\n",
       "      <td>покупка жилья</td>\n",
       "    </tr>\n",
       "    <tr>\n",
       "      <td>1</td>\n",
       "      <td>1</td>\n",
       "      <td>-4024.803754</td>\n",
       "      <td>36</td>\n",
       "      <td>среднее</td>\n",
       "      <td>1</td>\n",
       "      <td>женат / замужем</td>\n",
       "      <td>0</td>\n",
       "      <td>F</td>\n",
       "      <td>сотрудник</td>\n",
       "      <td>0</td>\n",
       "      <td>112080.014102</td>\n",
       "      <td>приобретение автомобиля</td>\n",
       "    </tr>\n",
       "    <tr>\n",
       "      <td>2</td>\n",
       "      <td>0</td>\n",
       "      <td>-5623.422610</td>\n",
       "      <td>33</td>\n",
       "      <td>Среднее</td>\n",
       "      <td>1</td>\n",
       "      <td>женат / замужем</td>\n",
       "      <td>0</td>\n",
       "      <td>M</td>\n",
       "      <td>сотрудник</td>\n",
       "      <td>0</td>\n",
       "      <td>145885.952297</td>\n",
       "      <td>покупка жилья</td>\n",
       "    </tr>\n",
       "    <tr>\n",
       "      <td>3</td>\n",
       "      <td>3</td>\n",
       "      <td>-4124.747207</td>\n",
       "      <td>32</td>\n",
       "      <td>среднее</td>\n",
       "      <td>1</td>\n",
       "      <td>женат / замужем</td>\n",
       "      <td>0</td>\n",
       "      <td>M</td>\n",
       "      <td>сотрудник</td>\n",
       "      <td>0</td>\n",
       "      <td>267628.550329</td>\n",
       "      <td>дополнительное образование</td>\n",
       "    </tr>\n",
       "    <tr>\n",
       "      <td>4</td>\n",
       "      <td>0</td>\n",
       "      <td>340266.072047</td>\n",
       "      <td>53</td>\n",
       "      <td>среднее</td>\n",
       "      <td>1</td>\n",
       "      <td>гражданский брак</td>\n",
       "      <td>1</td>\n",
       "      <td>F</td>\n",
       "      <td>пенсионер</td>\n",
       "      <td>0</td>\n",
       "      <td>158616.077870</td>\n",
       "      <td>сыграть свадьбу</td>\n",
       "    </tr>\n",
       "  </tbody>\n",
       "</table>\n",
       "</div>"
      ],
      "text/plain": [
       "   children  days_employed  dob_years education  education_id  \\\n",
       "0         1   -8437.673028         42    высшее             0   \n",
       "1         1   -4024.803754         36   среднее             1   \n",
       "2         0   -5623.422610         33   Среднее             1   \n",
       "3         3   -4124.747207         32   среднее             1   \n",
       "4         0  340266.072047         53   среднее             1   \n",
       "\n",
       "      family_status  family_status_id gender income_type  debt   total_income  \\\n",
       "0   женат / замужем                 0      F   сотрудник     0  253875.639453   \n",
       "1   женат / замужем                 0      F   сотрудник     0  112080.014102   \n",
       "2   женат / замужем                 0      M   сотрудник     0  145885.952297   \n",
       "3   женат / замужем                 0      M   сотрудник     0  267628.550329   \n",
       "4  гражданский брак                 1      F   пенсионер     0  158616.077870   \n",
       "\n",
       "                      purpose  \n",
       "0               покупка жилья  \n",
       "1     приобретение автомобиля  \n",
       "2               покупка жилья  \n",
       "3  дополнительное образование  \n",
       "4             сыграть свадьбу  "
      ]
     },
     "execution_count": 1,
     "metadata": {},
     "output_type": "execute_result"
    }
   ],
   "source": [
    "import pandas as pd\n",
    "pd = pd.read_csv('/datasets/data.csv')\n",
    "pd.head(5)"
   ]
  },
  {
   "cell_type": "markdown",
   "id": "0dff6548",
   "metadata": {},
   "source": [
    "### Шаг 2.1 Заполнение пропусков"
   ]
  },
  {
   "cell_type": "markdown",
   "id": "f896a6b3",
   "metadata": {},
   "source": [
    "Проверяем какие столбцы не заполнены:"
   ]
  },
  {
   "cell_type": "code",
   "execution_count": 2,
   "id": "5e4f0f02",
   "metadata": {},
   "outputs": [
    {
     "name": "stdout",
     "output_type": "stream",
     "text": [
      "<class 'pandas.core.frame.DataFrame'>\n",
      "RangeIndex: 21525 entries, 0 to 21524\n",
      "Data columns (total 12 columns):\n",
      "children            21525 non-null int64\n",
      "days_employed       19351 non-null float64\n",
      "dob_years           21525 non-null int64\n",
      "education           21525 non-null object\n",
      "education_id        21525 non-null int64\n",
      "family_status       21525 non-null object\n",
      "family_status_id    21525 non-null int64\n",
      "gender              21525 non-null object\n",
      "income_type         21525 non-null object\n",
      "debt                21525 non-null int64\n",
      "total_income        19351 non-null float64\n",
      "purpose             21525 non-null object\n",
      "dtypes: float64(2), int64(5), object(5)\n",
      "memory usage: 2.0+ MB\n"
     ]
    }
   ],
   "source": [
    "pd.info()"
   ]
  },
  {
   "cell_type": "markdown",
   "id": "d945262a",
   "metadata": {},
   "source": [
    "<div class=\"alert alert-block alert-success\">\n",
    "<b>Комментарий ревьюера✅:</b> Хорошее начало, информация о данных изучена👍</div>"
   ]
  },
  {
   "cell_type": "markdown",
   "id": "f6d8f5a4",
   "metadata": {},
   "source": [
    "Не заполнены две колонки days_employed и total_income.<br>\n",
    "Эти две колонки связаны с данными о работе, поэтому есть два варианта почему они отсутствуют:<br>\n",
    "&emsp;1) Клиенты отказались заполнять данную информацию;<br>\n",
    "&emsp;2) Данные не подтягиваются из сторонних систем.<br>\n",
    "Перед тем как посчитать медианные значение необходимо исправить ошибки в колонке days_employed, выведем экстремумы положительных и отрицательных значений:"
   ]
  },
  {
   "cell_type": "code",
   "execution_count": 3,
   "id": "21524a57",
   "metadata": {},
   "outputs": [
    {
     "name": "stdout",
     "output_type": "stream",
     "text": [
      "Максимальное положительное значение: 401755\n",
      "Минимальное положительное значение: 328728\n",
      "Максимальное отрицательное значение: -24\n",
      "Минимальное отрицательное значение: -18388\n"
     ]
    }
   ],
   "source": [
    "print('Максимальное положительное значение:', int(pd['days_employed'][pd['days_employed'] > 0 ].max()))\n",
    "print('Минимальное положительное значение:', int(pd['days_employed'][pd['days_employed'] > 0 ].min()))\n",
    "print('Максимальное отрицательное значение:', int(pd['days_employed'][pd['days_employed'] < 0 ].max()))\n",
    "print('Минимальное отрицательное значение:', int(pd['days_employed'][pd['days_employed'] < 0 ].min()))"
   ]
  },
  {
   "cell_type": "markdown",
   "id": "77c97b01",
   "metadata": {},
   "source": [
    "<div class=\"alert alert-block alert-warning\">\n",
    "<b>Комментарий ревьюера⚠️:</b> Для изучения распределения количественного столбца подойдет метод describe() "
   ]
  },
  {
   "cell_type": "code",
   "execution_count": 4,
   "id": "d9a3eb1a",
   "metadata": {},
   "outputs": [
    {
     "data": {
      "text/plain": [
       "count     19351.000000\n",
       "mean      63046.497661\n",
       "std      140827.311974\n",
       "min      -18388.949901\n",
       "25%       -2747.423625\n",
       "50%       -1203.369529\n",
       "75%        -291.095954\n",
       "max      401755.400475\n",
       "Name: days_employed, dtype: float64"
      ]
     },
     "execution_count": 4,
     "metadata": {},
     "output_type": "execute_result"
    }
   ],
   "source": [
    "# Код ревьюера\n",
    "pd.days_employed.describe()"
   ]
  },
  {
   "cell_type": "markdown",
   "id": "06b3ffde",
   "metadata": {},
   "source": [
    "Положительные значения имеют сильно больший порядок, чем отрицательные, делаем предположение, что нарушена размерность и указаны часы, а не дни, так как в днях сложно ориентироваться посмотрим значения в годах:"
   ]
  },
  {
   "cell_type": "code",
   "execution_count": 5,
   "id": "4e5ff5f8",
   "metadata": {},
   "outputs": [
    {
     "name": "stdout",
     "output_type": "stream",
     "text": [
      "Максимальное количество лет стажа: 45\n",
      "Минимальное количество лет стажа: 37\n"
     ]
    }
   ],
   "source": [
    "print('Максимальное количество лет стажа:', int(pd['days_employed'][pd['days_employed'] > 0 ].max() / 24 / 364))\n",
    "print('Минимальное количество лет стажа:', int(pd['days_employed'][pd['days_employed'] > 0 ].min() / 24 / 364))"
   ]
  },
  {
   "cell_type": "markdown",
   "id": "f20df713",
   "metadata": {},
   "source": [
    "Наше предположение, о том что в положительных значениях указаны часы корректно.<br>\n",
    "Необходимо выяснить на сколько корректно, что у данных клиентов слишком большой стаж 37 и 45 лет, путем проверки среднего возраста клиентов с положительными значениями:"
   ]
  },
  {
   "cell_type": "code",
   "execution_count": 6,
   "id": "5f7d63eb",
   "metadata": {},
   "outputs": [
    {
     "name": "stdout",
     "output_type": "stream",
     "text": [
      "Средний возраст клиентов: 59\n"
     ]
    }
   ],
   "source": [
    "print('Средний возраст клиентов:', int(pd['dob_years'][pd['days_employed'] > 0 ].mean()))"
   ]
  },
  {
   "cell_type": "markdown",
   "id": "3bf47b05",
   "metadata": {},
   "source": [
    "Средний возраст клиента 59 лет, для них стаж в 37-45 лет вполне нормально.<br>\n",
    "Переводим часы в дни для положительных значений и берем модуль для отрицательных значений и выводим получившиеся значения:"
   ]
  },
  {
   "cell_type": "code",
   "execution_count": 7,
   "id": "ee96838b",
   "metadata": {},
   "outputs": [
    {
     "name": "stdout",
     "output_type": "stream",
     "text": [
      "Максимальное положительное значение: 18388\n",
      "Минимальное положительное значение: 24\n"
     ]
    }
   ],
   "source": [
    "pd.loc[(pd['days_employed'] > 0), 'days_employed'] = (pd['days_employed'] / 24)\n",
    "pd.loc[(pd['days_employed'] < 0), 'days_employed'] = (abs(pd['days_employed']))\n",
    "print('Максимальное положительное значение:', int(pd['days_employed'][pd['days_employed'] > 0 ].max()))\n",
    "print('Минимальное положительное значение:', int(pd['days_employed'][pd['days_employed'] > 0 ].min()))"
   ]
  },
  {
   "cell_type": "markdown",
   "id": "00316065",
   "metadata": {},
   "source": [
    "Находим долю пропущенных значений в столбцах:"
   ]
  },
  {
   "cell_type": "markdown",
   "id": "da97419f",
   "metadata": {},
   "source": [
    "<div class=\"alert alert-block alert-warning\">\n",
    "<b>Комментарий ревьюера⚠️:</b> Ты обработал значения в столбце, но не учел, что он не участвует в исследовании, так что его можно было оставить в исходном состоянии) "
   ]
  },
  {
   "cell_type": "code",
   "execution_count": 8,
   "id": "c3490d1c",
   "metadata": {},
   "outputs": [
    {
     "name": "stdout",
     "output_type": "stream",
     "text": [
      "Доля пропущенных значений в столбце days_employed: 10%\n",
      "Доля пропущенных значений в столбце total_income: 10%\n"
     ]
    }
   ],
   "source": [
    "days_employed_missed = len(pd[pd['days_employed'].isna()]) / len(pd['days_employed'])\n",
    "total_income_missed = len(pd[pd['total_income'].isna()]) / len(pd['total_income'])\n",
    "print(f'Доля пропущенных значений в столбце days_employed: {days_employed_missed :.0%}')\n",
    "print(f'Доля пропущенных значений в столбце total_income: {total_income_missed :.0%}')"
   ]
  },
  {
   "cell_type": "markdown",
   "id": "bd299945",
   "metadata": {},
   "source": [
    "Отсутствуют 10% значений.<br>\n",
    "Это большое количество отсутствующих значений, которое повлияет на результаты, соответственно их необходимо заполнить либо средними, либо медианными значениями.<br>\n",
    "Обоснование выбора медианного значения для заполнения, а не среднего:"
   ]
  },
  {
   "cell_type": "markdown",
   "id": "8938e344",
   "metadata": {},
   "source": [
    "<div class=\"alert alert-block alert-success\">\n",
    "<b>Комментарий ревьюера✅:</b> Долю пропусков можно посмотреть так - df.isna().mean() 😉</div>"
   ]
  },
  {
   "cell_type": "code",
   "execution_count": 9,
   "id": "08c496fb",
   "metadata": {},
   "outputs": [
    {
     "name": "stdout",
     "output_type": "stream",
     "text": [
      "Среднее значение по колонке days_employed: 4641\n",
      "Медианное значение по колонке days_employed: 2194\n",
      "Среднее значение по колонке total_income: 167422\n",
      "Медианное значение по колонке total_income: 145017\n"
     ]
    }
   ],
   "source": [
    "days_employed_mean = pd['days_employed'].mean()\n",
    "days_employed_median = pd['days_employed'].median()\n",
    "total_income_mean = pd['total_income'].mean()\n",
    "total_income_median = pd['total_income'].median()\n",
    "print('Среднее значение по колонке days_employed:', int(days_employed_mean))\n",
    "print('Медианное значение по колонке days_employed:', int(days_employed_median))\n",
    "print('Среднее значение по колонке total_income:', int(total_income_mean))\n",
    "print('Медианное значение по колонке total_income:', int(total_income_median))"
   ]
  },
  {
   "cell_type": "markdown",
   "id": "c6218e59",
   "metadata": {},
   "source": [
    "Медианные значения меньше, по тому что в выборку не попадают сверх огромные зарплаты и экстремально низкие зарплаты, поэтому более соответствуют действительности.<br>\n",
    "Заполняем отсутствующие значения медианными и убеждаемся, что колонки заполнены:"
   ]
  },
  {
   "cell_type": "code",
   "execution_count": 10,
   "id": "62bcce7a",
   "metadata": {},
   "outputs": [
    {
     "name": "stdout",
     "output_type": "stream",
     "text": [
      "<class 'pandas.core.frame.DataFrame'>\n",
      "RangeIndex: 21525 entries, 0 to 21524\n",
      "Data columns (total 12 columns):\n",
      "children            21525 non-null int64\n",
      "days_employed       21525 non-null float64\n",
      "dob_years           21525 non-null int64\n",
      "education           21525 non-null object\n",
      "education_id        21525 non-null int64\n",
      "family_status       21525 non-null object\n",
      "family_status_id    21525 non-null int64\n",
      "gender              21525 non-null object\n",
      "income_type         21525 non-null object\n",
      "debt                21525 non-null int64\n",
      "total_income        21525 non-null float64\n",
      "purpose             21525 non-null object\n",
      "dtypes: float64(2), int64(5), object(5)\n",
      "memory usage: 2.0+ MB\n"
     ]
    }
   ],
   "source": [
    "pd['days_employed'] = pd['days_employed'].fillna(value=days_employed_median)\n",
    "pd['total_income'] = pd['total_income'].fillna(value=total_income_median)\n",
    "pd.info()"
   ]
  },
  {
   "cell_type": "markdown",
   "id": "9e055228",
   "metadata": {},
   "source": [
    "<div class=\"alert alert-block alert-warning\">\n",
    "<b>Комментарий ревьюера⚠️:</b> Заполнить пропуски медианами - хорошее решение. \n",
    "    \n",
    "Есть еще один, более интересный способ заполнения пропусков. Например, доход клиента (total_income) можно заполнить медианными значениями в разрезе income_type - для каждого income_type посчитать медианный total_income и заполнить пропуски ими. Так мы не усредним данные и меньше повлияем на распределение)"
   ]
  },
  {
   "cell_type": "markdown",
   "id": "2fd662a1",
   "metadata": {},
   "source": [
    "### Шаг 2.2 Проверка данных на аномалии и исправления."
   ]
  },
  {
   "cell_type": "markdown",
   "id": "fca709e7",
   "metadata": {},
   "source": [
    "#### Проверка значений колонки children:"
   ]
  },
  {
   "cell_type": "code",
   "execution_count": 11,
   "id": "30084c82",
   "metadata": {},
   "outputs": [
    {
     "data": {
      "text/plain": [
       " 0     14149\n",
       " 1      4818\n",
       " 2      2055\n",
       " 3       330\n",
       " 20       76\n",
       "-1        47\n",
       " 4        41\n",
       " 5         9\n",
       "Name: children, dtype: int64"
      ]
     },
     "execution_count": 11,
     "metadata": {},
     "output_type": "execute_result"
    }
   ],
   "source": [
    "pd['children'].value_counts()"
   ]
  },
  {
   "cell_type": "markdown",
   "id": "5da90c02",
   "metadata": {},
   "source": [
    "Есть некорректные значения -1 и 20, заменим их на среднее значение количества детей. <br>\n",
    "Значение -1 это скорее всего отсутствие данных, а 20 это техническая ошибка системы. <br>\n",
    "Расчет среднего количества детей на клиента:"
   ]
  },
  {
   "cell_type": "code",
   "execution_count": 12,
   "id": "ca908faf",
   "metadata": {},
   "outputs": [
    {
     "name": "stdout",
     "output_type": "stream",
     "text": [
      "Среднее количество детей: 0.4731800766283525\n"
     ]
    }
   ],
   "source": [
    "corret_cn = [0,1,2,3,4,5]\n",
    "corret_cn_df = pd[pd['children'].isin(corret_cn)]\n",
    "print('Среднее количество детей:', corret_cn_df['children'].mean())"
   ]
  },
  {
   "cell_type": "markdown",
   "id": "cf10dfe2",
   "metadata": {},
   "source": [
    "Среднее количество детей 0.47, поэтому вставляем 0 на место не корректных значений и проводим проверку:"
   ]
  },
  {
   "cell_type": "code",
   "execution_count": 13,
   "id": "0a7deb14",
   "metadata": {},
   "outputs": [
    {
     "data": {
      "text/plain": [
       "0    14272\n",
       "1     4818\n",
       "2     2055\n",
       "3      330\n",
       "4       41\n",
       "5        9\n",
       "Name: children, dtype: int64"
      ]
     },
     "execution_count": 13,
     "metadata": {},
     "output_type": "execute_result"
    }
   ],
   "source": [
    "pd['children'] = pd['children'].replace(-1, 0)\n",
    "pd['children'] = pd['children'].replace(20, 0)\n",
    "pd['children'].value_counts()"
   ]
  },
  {
   "cell_type": "markdown",
   "id": "d71fa798",
   "metadata": {},
   "source": [
    "<div class=\"alert alert-block alert-success\">\n",
    "<b>Комментарий ревьюера✅:</b> Логичное предположение, засчитано🔥</div>"
   ]
  },
  {
   "cell_type": "markdown",
   "id": "39d38e85",
   "metadata": {},
   "source": [
    "#### Проверка значений колонки dob_years:"
   ]
  },
  {
   "cell_type": "code",
   "execution_count": 14,
   "id": "9a7c0f4f",
   "metadata": {},
   "outputs": [
    {
     "data": {
      "text/plain": [
       "35    617\n",
       "40    609\n",
       "41    607\n",
       "34    603\n",
       "38    598\n",
       "42    597\n",
       "33    581\n",
       "39    573\n",
       "31    560\n",
       "36    555\n",
       "44    547\n",
       "29    545\n",
       "30    540\n",
       "48    538\n",
       "37    537\n",
       "50    514\n",
       "43    513\n",
       "32    510\n",
       "49    508\n",
       "28    503\n",
       "45    497\n",
       "27    493\n",
       "56    487\n",
       "52    484\n",
       "47    480\n",
       "54    479\n",
       "46    475\n",
       "58    461\n",
       "57    460\n",
       "53    459\n",
       "51    448\n",
       "59    444\n",
       "55    443\n",
       "26    408\n",
       "60    377\n",
       "25    357\n",
       "61    355\n",
       "62    352\n",
       "63    269\n",
       "64    265\n",
       "24    264\n",
       "23    254\n",
       "65    194\n",
       "66    183\n",
       "22    183\n",
       "67    167\n",
       "21    111\n",
       "0     101\n",
       "68     99\n",
       "69     85\n",
       "70     65\n",
       "71     58\n",
       "20     51\n",
       "72     33\n",
       "19     14\n",
       "73      8\n",
       "74      6\n",
       "75      1\n",
       "Name: dob_years, dtype: int64"
      ]
     },
     "execution_count": 14,
     "metadata": {},
     "output_type": "execute_result"
    }
   ],
   "source": [
    "pd['dob_years'].value_counts()"
   ]
  },
  {
   "cell_type": "markdown",
   "id": "6f6e8610",
   "metadata": {},
   "source": [
    "101 значение \"0\", заменяем отсутствующие значения на средние и проверяем результат:"
   ]
  },
  {
   "cell_type": "code",
   "execution_count": 15,
   "id": "7be4068d",
   "metadata": {},
   "outputs": [
    {
     "name": "stdout",
     "output_type": "stream",
     "text": [
      "Количество нулевых значений: 0\n"
     ]
    }
   ],
   "source": [
    "pd.loc[(pd['dob_years'] == 0), 'dob_years'] = (int(pd['dob_years'][pd['dob_years'] != 0].mean()))\n",
    "print('Количество нулевых значений:', len(pd[pd['dob_years'] == 0]))"
   ]
  },
  {
   "cell_type": "markdown",
   "id": "441e8dcd",
   "metadata": {},
   "source": [
    "<div class=\"alert alert-block alert-success\">\n",
    "<b>Комментарий ревьюера✅:</b> Согласен😉</div>"
   ]
  },
  {
   "cell_type": "markdown",
   "id": "6398c281",
   "metadata": {},
   "source": [
    "#### Проверка значений колонки education:"
   ]
  },
  {
   "cell_type": "code",
   "execution_count": 16,
   "id": "458954a6",
   "metadata": {},
   "outputs": [
    {
     "data": {
      "text/plain": [
       "среднее                13750\n",
       "высшее                  4718\n",
       "СРЕДНЕЕ                  772\n",
       "Среднее                  711\n",
       "неоконченное высшее      668\n",
       "ВЫСШЕЕ                   274\n",
       "Высшее                   268\n",
       "начальное                250\n",
       "Неоконченное высшее       47\n",
       "НЕОКОНЧЕННОЕ ВЫСШЕЕ       29\n",
       "НАЧАЛЬНОЕ                 17\n",
       "Начальное                 15\n",
       "ученая степень             4\n",
       "УЧЕНАЯ СТЕПЕНЬ             1\n",
       "Ученая степень             1\n",
       "Name: education, dtype: int64"
      ]
     },
     "execution_count": 16,
     "metadata": {},
     "output_type": "execute_result"
    }
   ],
   "source": [
    "pd['education'].value_counts()"
   ]
  },
  {
   "cell_type": "markdown",
   "id": "6d8a2d90",
   "metadata": {},
   "source": [
    "Все значения корректные, но отличается регистр, соответственно поправляем регистр и проверяем результат:"
   ]
  },
  {
   "cell_type": "code",
   "execution_count": 17,
   "id": "de5ec334",
   "metadata": {},
   "outputs": [
    {
     "data": {
      "text/plain": [
       "среднее                15233\n",
       "высшее                  5260\n",
       "неоконченное высшее      744\n",
       "начальное                282\n",
       "ученая степень             6\n",
       "Name: education, dtype: int64"
      ]
     },
     "execution_count": 17,
     "metadata": {},
     "output_type": "execute_result"
    }
   ],
   "source": [
    "pd['education'] = pd['education'].str.lower()\n",
    "pd['education'].value_counts()"
   ]
  },
  {
   "cell_type": "markdown",
   "id": "9f3344a8",
   "metadata": {},
   "source": [
    "<div class=\"alert alert-block alert-success\">\n",
    "<b>Комментарий ревьюера✅:</b> Все верно😉</div>"
   ]
  },
  {
   "cell_type": "markdown",
   "id": "c9f91451",
   "metadata": {},
   "source": [
    "#### Проверка значений колонки education_id:"
   ]
  },
  {
   "cell_type": "code",
   "execution_count": 18,
   "id": "7a944823",
   "metadata": {},
   "outputs": [
    {
     "data": {
      "text/plain": [
       "1    15233\n",
       "0     5260\n",
       "2      744\n",
       "3      282\n",
       "4        6\n",
       "Name: education_id, dtype: int64"
      ]
     },
     "execution_count": 18,
     "metadata": {},
     "output_type": "execute_result"
    }
   ],
   "source": [
    "pd['education_id'].value_counts()"
   ]
  },
  {
   "cell_type": "markdown",
   "id": "5a0ad64a",
   "metadata": {},
   "source": [
    "Проверяем что id уникален:"
   ]
  },
  {
   "cell_type": "code",
   "execution_count": 19,
   "id": "9b932153",
   "metadata": {},
   "outputs": [
    {
     "data": {
      "text/html": [
       "<div>\n",
       "<style scoped>\n",
       "    .dataframe tbody tr th:only-of-type {\n",
       "        vertical-align: middle;\n",
       "    }\n",
       "\n",
       "    .dataframe tbody tr th {\n",
       "        vertical-align: top;\n",
       "    }\n",
       "\n",
       "    .dataframe thead th {\n",
       "        text-align: right;\n",
       "    }\n",
       "</style>\n",
       "<table border=\"1\" class=\"dataframe\">\n",
       "  <thead>\n",
       "    <tr style=\"text-align: right;\">\n",
       "      <th></th>\n",
       "      <th>education</th>\n",
       "      <th>education_id</th>\n",
       "    </tr>\n",
       "  </thead>\n",
       "  <tbody>\n",
       "    <tr>\n",
       "      <td>0</td>\n",
       "      <td>высшее</td>\n",
       "      <td>0</td>\n",
       "    </tr>\n",
       "    <tr>\n",
       "      <td>1</td>\n",
       "      <td>среднее</td>\n",
       "      <td>1</td>\n",
       "    </tr>\n",
       "    <tr>\n",
       "      <td>2</td>\n",
       "      <td>неоконченное высшее</td>\n",
       "      <td>2</td>\n",
       "    </tr>\n",
       "    <tr>\n",
       "      <td>3</td>\n",
       "      <td>начальное</td>\n",
       "      <td>3</td>\n",
       "    </tr>\n",
       "    <tr>\n",
       "      <td>4</td>\n",
       "      <td>ученая степень</td>\n",
       "      <td>4</td>\n",
       "    </tr>\n",
       "  </tbody>\n",
       "</table>\n",
       "</div>"
      ],
      "text/plain": [
       "             education  education_id\n",
       "0               высшее             0\n",
       "1              среднее             1\n",
       "2  неоконченное высшее             2\n",
       "3            начальное             3\n",
       "4       ученая степень             4"
      ]
     },
     "execution_count": 19,
     "metadata": {},
     "output_type": "execute_result"
    }
   ],
   "source": [
    "pd[['education', 'education_id']].drop_duplicates().reset_index(drop=True)"
   ]
  },
  {
   "cell_type": "markdown",
   "id": "df15ec03",
   "metadata": {},
   "source": [
    "<div class=\"alert alert-block alert-success\">\n",
    "<b>Комментарий ревьюера✅:</b> 🔥🔥🔥</div>"
   ]
  },
  {
   "cell_type": "markdown",
   "id": "2546e7cd",
   "metadata": {},
   "source": [
    " #### Проверка значений колонки family_status:"
   ]
  },
  {
   "cell_type": "code",
   "execution_count": 20,
   "id": "0cbf2625",
   "metadata": {},
   "outputs": [
    {
     "data": {
      "text/plain": [
       "женат / замужем          12380\n",
       "гражданский брак          4177\n",
       "Не женат / не замужем     2813\n",
       "в разводе                 1195\n",
       "вдовец / вдова             960\n",
       "Name: family_status, dtype: int64"
      ]
     },
     "execution_count": 20,
     "metadata": {},
     "output_type": "execute_result"
    }
   ],
   "source": [
    "pd['family_status'].value_counts()"
   ]
  },
  {
   "cell_type": "markdown",
   "id": "518fcd45",
   "metadata": {},
   "source": [
    "Необходимо привести все значения к единому регистру и провести проверку.<br>\n",
    "Такие ошибки возникают при ручном вводе данных оператором."
   ]
  },
  {
   "cell_type": "code",
   "execution_count": 21,
   "id": "a38bab31",
   "metadata": {},
   "outputs": [
    {
     "data": {
      "text/plain": [
       "женат / замужем          12380\n",
       "гражданский брак          4177\n",
       "не женат / не замужем     2813\n",
       "в разводе                 1195\n",
       "вдовец / вдова             960\n",
       "Name: family_status, dtype: int64"
      ]
     },
     "execution_count": 21,
     "metadata": {},
     "output_type": "execute_result"
    }
   ],
   "source": [
    "pd['family_status'] = pd['family_status'].str.lower()\n",
    "pd['family_status'].value_counts()"
   ]
  },
  {
   "cell_type": "markdown",
   "id": "44bc6dd7",
   "metadata": {},
   "source": [
    "<div class=\"alert alert-block alert-success\">\n",
    "<b>Комментарий ревьюера✅:</b> Тут все хорошо🔥 </div>"
   ]
  },
  {
   "cell_type": "markdown",
   "id": "3df97fd3",
   "metadata": {},
   "source": [
    "#### Проверка значений колонки family_status_id:"
   ]
  },
  {
   "cell_type": "code",
   "execution_count": 22,
   "id": "8c21c8cd",
   "metadata": {},
   "outputs": [
    {
     "data": {
      "text/plain": [
       "0    12380\n",
       "1     4177\n",
       "4     2813\n",
       "3     1195\n",
       "2      960\n",
       "Name: family_status_id, dtype: int64"
      ]
     },
     "execution_count": 22,
     "metadata": {},
     "output_type": "execute_result"
    }
   ],
   "source": [
    "pd['family_status_id'].value_counts()"
   ]
  },
  {
   "cell_type": "markdown",
   "id": "de5a8ec2",
   "metadata": {},
   "source": [
    "Со значениями все в порядке, необходимо удостовериться, что id уникален:"
   ]
  },
  {
   "cell_type": "code",
   "execution_count": 23,
   "id": "da380a3e",
   "metadata": {},
   "outputs": [
    {
     "data": {
      "text/html": [
       "<div>\n",
       "<style scoped>\n",
       "    .dataframe tbody tr th:only-of-type {\n",
       "        vertical-align: middle;\n",
       "    }\n",
       "\n",
       "    .dataframe tbody tr th {\n",
       "        vertical-align: top;\n",
       "    }\n",
       "\n",
       "    .dataframe thead th {\n",
       "        text-align: right;\n",
       "    }\n",
       "</style>\n",
       "<table border=\"1\" class=\"dataframe\">\n",
       "  <thead>\n",
       "    <tr style=\"text-align: right;\">\n",
       "      <th></th>\n",
       "      <th>family_status</th>\n",
       "      <th>family_status_id</th>\n",
       "    </tr>\n",
       "  </thead>\n",
       "  <tbody>\n",
       "    <tr>\n",
       "      <td>0</td>\n",
       "      <td>женат / замужем</td>\n",
       "      <td>0</td>\n",
       "    </tr>\n",
       "    <tr>\n",
       "      <td>1</td>\n",
       "      <td>гражданский брак</td>\n",
       "      <td>1</td>\n",
       "    </tr>\n",
       "    <tr>\n",
       "      <td>2</td>\n",
       "      <td>вдовец / вдова</td>\n",
       "      <td>2</td>\n",
       "    </tr>\n",
       "    <tr>\n",
       "      <td>3</td>\n",
       "      <td>в разводе</td>\n",
       "      <td>3</td>\n",
       "    </tr>\n",
       "    <tr>\n",
       "      <td>4</td>\n",
       "      <td>не женат / не замужем</td>\n",
       "      <td>4</td>\n",
       "    </tr>\n",
       "  </tbody>\n",
       "</table>\n",
       "</div>"
      ],
      "text/plain": [
       "           family_status  family_status_id\n",
       "0        женат / замужем                 0\n",
       "1       гражданский брак                 1\n",
       "2         вдовец / вдова                 2\n",
       "3              в разводе                 3\n",
       "4  не женат / не замужем                 4"
      ]
     },
     "execution_count": 23,
     "metadata": {},
     "output_type": "execute_result"
    }
   ],
   "source": [
    "pd[['family_status', 'family_status_id']].drop_duplicates().reset_index(drop=True)"
   ]
  },
  {
   "cell_type": "markdown",
   "id": "f5a44fae",
   "metadata": {},
   "source": [
    "<div class=\"alert alert-block alert-success\">\n",
    "<b>Комментарий ревьюера✅:</b> 👍 </div>"
   ]
  },
  {
   "cell_type": "markdown",
   "id": "b162ce97",
   "metadata": {},
   "source": [
    "#### Проверка значений колонки gender:"
   ]
  },
  {
   "cell_type": "code",
   "execution_count": 24,
   "id": "8547ce13",
   "metadata": {},
   "outputs": [
    {
     "data": {
      "text/plain": [
       "F      14236\n",
       "M       7288\n",
       "XNA        1\n",
       "Name: gender, dtype: int64"
      ]
     },
     "execution_count": 24,
     "metadata": {},
     "output_type": "execute_result"
    }
   ],
   "source": [
    "pd['gender'].value_counts()"
   ]
  },
  {
   "cell_type": "markdown",
   "id": "6bb87e54",
   "metadata": {},
   "source": [
    "Удаляем строку с одним отсутствующим значением, на расчеты не повлияет "
   ]
  },
  {
   "cell_type": "code",
   "execution_count": 25,
   "id": "8a70ec54",
   "metadata": {},
   "outputs": [],
   "source": [
    "pd = pd.drop(pd[pd['gender'] == 'XNA'].index)"
   ]
  },
  {
   "cell_type": "markdown",
   "id": "a38d6a6a",
   "metadata": {},
   "source": [
    "<div class=\"alert alert-block alert-success\">\n",
    "<b>Комментарий ревьюера✅:</b> Согласен😉</div>"
   ]
  },
  {
   "cell_type": "markdown",
   "id": "6450f32b",
   "metadata": {},
   "source": [
    "<div class=\"alert alert-block alert-success\">\n",
    "<b>Комментарий ревьюера✅:</b> Тут что то не то с заголовком😉</div>"
   ]
  },
  {
   "cell_type": "markdown",
   "id": "80bd5da2",
   "metadata": {},
   "source": [
    "<div class=\"alert alert-block alert-info\">\n",
    "<b>Комментарий студента:</b> \n",
    "Убрал лишний заголовок)\n",
    "</div>"
   ]
  },
  {
   "cell_type": "markdown",
   "id": "a3880cbe",
   "metadata": {},
   "source": [
    "<div class=\"alert alert-block alert-success\">\n",
    "<b>Комментарий ревьюера_v2✅:</b> 👍\n",
    "</div>"
   ]
  },
  {
   "cell_type": "markdown",
   "id": "20b103e4",
   "metadata": {},
   "source": [
    "#### Проверка значений колонки income_type:"
   ]
  },
  {
   "cell_type": "code",
   "execution_count": 26,
   "id": "33908d81",
   "metadata": {},
   "outputs": [
    {
     "data": {
      "text/plain": [
       "сотрудник          11119\n",
       "компаньон           5084\n",
       "пенсионер           3856\n",
       "госслужащий         1459\n",
       "предприниматель        2\n",
       "безработный            2\n",
       "в декрете              1\n",
       "студент                1\n",
       "Name: income_type, dtype: int64"
      ]
     },
     "execution_count": 26,
     "metadata": {},
     "output_type": "execute_result"
    }
   ],
   "source": [
    "pd['income_type'].value_counts()"
   ]
  },
  {
   "cell_type": "markdown",
   "id": "d3104eca",
   "metadata": {},
   "source": [
    "Значения в колонке логически корректны."
   ]
  },
  {
   "cell_type": "markdown",
   "id": "3e5fca5e",
   "metadata": {},
   "source": [
    "<div class=\"alert alert-block alert-warning\">\n",
    "<b>Комментарий ревьюера⚠️:</b> Отлично, но я бы добавил вывод, что все в порядке. Еще ты задублил это пункт😉</div>"
   ]
  },
  {
   "cell_type": "markdown",
   "id": "35ac4232",
   "metadata": {},
   "source": [
    "#### Проверка значений колонки debt:"
   ]
  },
  {
   "cell_type": "code",
   "execution_count": 27,
   "id": "336a479d",
   "metadata": {},
   "outputs": [
    {
     "data": {
      "text/plain": [
       "0    19783\n",
       "1     1741\n",
       "Name: debt, dtype: int64"
      ]
     },
     "execution_count": 27,
     "metadata": {},
     "output_type": "execute_result"
    }
   ],
   "source": [
    "pd['debt'].value_counts()"
   ]
  },
  {
   "cell_type": "markdown",
   "id": "cc558a3f",
   "metadata": {},
   "source": [
    "Значения в колонке логически корректны."
   ]
  },
  {
   "cell_type": "markdown",
   "id": "34593fd8",
   "metadata": {},
   "source": [
    "#### Проверка колонки income_type на отсутствие значение <= 0"
   ]
  },
  {
   "cell_type": "code",
   "execution_count": 28,
   "id": "620ff339",
   "metadata": {},
   "outputs": [
    {
     "data": {
      "text/html": [
       "<div>\n",
       "<style scoped>\n",
       "    .dataframe tbody tr th:only-of-type {\n",
       "        vertical-align: middle;\n",
       "    }\n",
       "\n",
       "    .dataframe tbody tr th {\n",
       "        vertical-align: top;\n",
       "    }\n",
       "\n",
       "    .dataframe thead th {\n",
       "        text-align: right;\n",
       "    }\n",
       "</style>\n",
       "<table border=\"1\" class=\"dataframe\">\n",
       "  <thead>\n",
       "    <tr style=\"text-align: right;\">\n",
       "      <th></th>\n",
       "      <th>children</th>\n",
       "      <th>days_employed</th>\n",
       "      <th>dob_years</th>\n",
       "      <th>education</th>\n",
       "      <th>education_id</th>\n",
       "      <th>family_status</th>\n",
       "      <th>family_status_id</th>\n",
       "      <th>gender</th>\n",
       "      <th>income_type</th>\n",
       "      <th>debt</th>\n",
       "      <th>total_income</th>\n",
       "      <th>purpose</th>\n",
       "    </tr>\n",
       "  </thead>\n",
       "  <tbody>\n",
       "  </tbody>\n",
       "</table>\n",
       "</div>"
      ],
      "text/plain": [
       "Empty DataFrame\n",
       "Columns: [children, days_employed, dob_years, education, education_id, family_status, family_status_id, gender, income_type, debt, total_income, purpose]\n",
       "Index: []"
      ]
     },
     "execution_count": 28,
     "metadata": {},
     "output_type": "execute_result"
    }
   ],
   "source": [
    "pd[pd['total_income'] <= 0]"
   ]
  },
  {
   "cell_type": "markdown",
   "id": "3d7bdb0c",
   "metadata": {},
   "source": [
    "#### Проверка значений колонки purpose:"
   ]
  },
  {
   "cell_type": "code",
   "execution_count": 29,
   "id": "e5010cf8",
   "metadata": {},
   "outputs": [
    {
     "data": {
      "text/plain": [
       "свадьба                                   797\n",
       "на проведение свадьбы                     777\n",
       "сыграть свадьбу                           774\n",
       "операции с недвижимостью                  676\n",
       "покупка коммерческой недвижимости         664\n",
       "операции с жильем                         653\n",
       "покупка жилья для сдачи                   653\n",
       "операции с коммерческой недвижимостью     651\n",
       "жилье                                     647\n",
       "покупка жилья                             647\n",
       "покупка жилья для семьи                   641\n",
       "строительство собственной недвижимости    635\n",
       "недвижимость                              634\n",
       "операции со своей недвижимостью           630\n",
       "строительство жилой недвижимости          626\n",
       "покупка недвижимости                      623\n",
       "покупка своего жилья                      620\n",
       "строительство недвижимости                620\n",
       "ремонт жилью                              612\n",
       "покупка жилой недвижимости                607\n",
       "на покупку своего автомобиля              505\n",
       "заняться высшим образованием              496\n",
       "автомобиль                                495\n",
       "сделка с подержанным автомобилем          489\n",
       "свой автомобиль                           480\n",
       "на покупку подержанного автомобиля        479\n",
       "автомобили                                478\n",
       "на покупку автомобиля                     472\n",
       "приобретение автомобиля                   462\n",
       "дополнительное образование                462\n",
       "сделка с автомобилем                      455\n",
       "высшее образование                        453\n",
       "образование                               447\n",
       "получение дополнительного образования     447\n",
       "получение образования                     443\n",
       "профильное образование                    436\n",
       "получение высшего образования             426\n",
       "заняться образованием                     412\n",
       "Name: purpose, dtype: int64"
      ]
     },
     "execution_count": 29,
     "metadata": {},
     "output_type": "execute_result"
    }
   ],
   "source": [
    "pd['purpose'].value_counts()"
   ]
  },
  {
   "cell_type": "markdown",
   "id": "6bc67f24",
   "metadata": {},
   "source": [
    "Значения в колонке логически корректны."
   ]
  },
  {
   "cell_type": "markdown",
   "id": "f94c0e04",
   "metadata": {},
   "source": [
    "<div class=\"alert alert-block alert-success\">\n",
    "<b>Комментарий ревьюера✅:</b> Молодец, все аномалии изучены и исправлены верно. Двигаемся дальше🔥</div>"
   ]
  },
  {
   "cell_type": "markdown",
   "id": "6cce6369",
   "metadata": {},
   "source": [
    "### Шаг 2.3. Изменение типов данных."
   ]
  },
  {
   "cell_type": "markdown",
   "id": "106d3eee",
   "metadata": {},
   "source": [
    "Заменяем вещественный тип данных в столбце total_income на целочисленный.\n",
    "Выведем тип данных колонки total_income:"
   ]
  },
  {
   "cell_type": "code",
   "execution_count": 30,
   "id": "5d0ee569",
   "metadata": {},
   "outputs": [
    {
     "data": {
      "text/plain": [
       "dtype('float64')"
      ]
     },
     "execution_count": 30,
     "metadata": {},
     "output_type": "execute_result"
    }
   ],
   "source": [
    "pd['total_income'].dtypes"
   ]
  },
  {
   "cell_type": "markdown",
   "id": "764bb74e",
   "metadata": {},
   "source": [
    "Производим замену типа в колонке total_income и проверяем тип в результирующей колонки:"
   ]
  },
  {
   "cell_type": "code",
   "execution_count": 31,
   "id": "c478ca81",
   "metadata": {},
   "outputs": [
    {
     "data": {
      "text/plain": [
       "dtype('int64')"
      ]
     },
     "execution_count": 31,
     "metadata": {},
     "output_type": "execute_result"
    }
   ],
   "source": [
    "pd['total_income'] = pd['total_income'].astype('int64')\n",
    "pd['total_income'].dtypes"
   ]
  },
  {
   "cell_type": "markdown",
   "id": "a1a236ea",
   "metadata": {},
   "source": [
    "<div class=\"alert alert-block alert-success\">\n",
    "<b>Комментарий ревьюера✅:</b> На этом этапе нечего добавить, все круто👍</div>"
   ]
  },
  {
   "cell_type": "markdown",
   "id": "b8a23586",
   "metadata": {},
   "source": [
    "### Шаг 2.4. Удаление дубликатов."
   ]
  },
  {
   "cell_type": "code",
   "execution_count": 32,
   "id": "b82fd18e",
   "metadata": {},
   "outputs": [
    {
     "name": "stdout",
     "output_type": "stream",
     "text": [
      "Количество удаленных дубликатов строк: 71\n"
     ]
    }
   ],
   "source": [
    "count_pd = len(pd)\n",
    "pd = pd.drop_duplicates().reset_index(drop=True)\n",
    "print('Количество удаленных дубликатов строк:',count_pd -len(pd))"
   ]
  },
  {
   "cell_type": "markdown",
   "id": "a7624705",
   "metadata": {},
   "source": [
    "<div class=\"alert alert-block alert-success\">\n",
    "<b>Комментарий ревьюера✅:</b> Молодец, дубликаты удалены верно👍"
   ]
  },
  {
   "cell_type": "markdown",
   "id": "c32a3ded",
   "metadata": {},
   "source": [
    "### Шаг 2.5. Формирование дополнительных датафреймов словарей, декомпозиция исходного датафрейма."
   ]
  },
  {
   "cell_type": "markdown",
   "id": "7ebb2f73",
   "metadata": {},
   "source": [
    "Создаем словарь по колонке education:"
   ]
  },
  {
   "cell_type": "code",
   "execution_count": 33,
   "id": "bac1ae53",
   "metadata": {},
   "outputs": [
    {
     "data": {
      "text/html": [
       "<div>\n",
       "<style scoped>\n",
       "    .dataframe tbody tr th:only-of-type {\n",
       "        vertical-align: middle;\n",
       "    }\n",
       "\n",
       "    .dataframe tbody tr th {\n",
       "        vertical-align: top;\n",
       "    }\n",
       "\n",
       "    .dataframe thead th {\n",
       "        text-align: right;\n",
       "    }\n",
       "</style>\n",
       "<table border=\"1\" class=\"dataframe\">\n",
       "  <thead>\n",
       "    <tr style=\"text-align: right;\">\n",
       "      <th></th>\n",
       "      <th>education_id</th>\n",
       "      <th>education</th>\n",
       "    </tr>\n",
       "  </thead>\n",
       "  <tbody>\n",
       "    <tr>\n",
       "      <td>0</td>\n",
       "      <td>0</td>\n",
       "      <td>высшее</td>\n",
       "    </tr>\n",
       "    <tr>\n",
       "      <td>1</td>\n",
       "      <td>1</td>\n",
       "      <td>среднее</td>\n",
       "    </tr>\n",
       "    <tr>\n",
       "      <td>2</td>\n",
       "      <td>2</td>\n",
       "      <td>неоконченное высшее</td>\n",
       "    </tr>\n",
       "    <tr>\n",
       "      <td>3</td>\n",
       "      <td>3</td>\n",
       "      <td>начальное</td>\n",
       "    </tr>\n",
       "    <tr>\n",
       "      <td>4</td>\n",
       "      <td>4</td>\n",
       "      <td>ученая степень</td>\n",
       "    </tr>\n",
       "  </tbody>\n",
       "</table>\n",
       "</div>"
      ],
      "text/plain": [
       "   education_id            education\n",
       "0             0               высшее\n",
       "1             1              среднее\n",
       "2             2  неоконченное высшее\n",
       "3             3            начальное\n",
       "4             4       ученая степень"
      ]
     },
     "execution_count": 33,
     "metadata": {},
     "output_type": "execute_result"
    }
   ],
   "source": [
    "education_dict = pd[['education_id','education']].drop_duplicates().reset_index(drop=True)\n",
    "education_dict"
   ]
  },
  {
   "cell_type": "markdown",
   "id": "e477d9d2",
   "metadata": {},
   "source": [
    "Создаем словарь по колонке family_status:"
   ]
  },
  {
   "cell_type": "code",
   "execution_count": 34,
   "id": "5f87719c",
   "metadata": {},
   "outputs": [
    {
     "data": {
      "text/html": [
       "<div>\n",
       "<style scoped>\n",
       "    .dataframe tbody tr th:only-of-type {\n",
       "        vertical-align: middle;\n",
       "    }\n",
       "\n",
       "    .dataframe tbody tr th {\n",
       "        vertical-align: top;\n",
       "    }\n",
       "\n",
       "    .dataframe thead th {\n",
       "        text-align: right;\n",
       "    }\n",
       "</style>\n",
       "<table border=\"1\" class=\"dataframe\">\n",
       "  <thead>\n",
       "    <tr style=\"text-align: right;\">\n",
       "      <th></th>\n",
       "      <th>family_status_id</th>\n",
       "      <th>family_status</th>\n",
       "    </tr>\n",
       "  </thead>\n",
       "  <tbody>\n",
       "    <tr>\n",
       "      <td>0</td>\n",
       "      <td>0</td>\n",
       "      <td>женат / замужем</td>\n",
       "    </tr>\n",
       "    <tr>\n",
       "      <td>1</td>\n",
       "      <td>1</td>\n",
       "      <td>гражданский брак</td>\n",
       "    </tr>\n",
       "    <tr>\n",
       "      <td>2</td>\n",
       "      <td>2</td>\n",
       "      <td>вдовец / вдова</td>\n",
       "    </tr>\n",
       "    <tr>\n",
       "      <td>3</td>\n",
       "      <td>3</td>\n",
       "      <td>в разводе</td>\n",
       "    </tr>\n",
       "    <tr>\n",
       "      <td>4</td>\n",
       "      <td>4</td>\n",
       "      <td>не женат / не замужем</td>\n",
       "    </tr>\n",
       "  </tbody>\n",
       "</table>\n",
       "</div>"
      ],
      "text/plain": [
       "   family_status_id          family_status\n",
       "0                 0        женат / замужем\n",
       "1                 1       гражданский брак\n",
       "2                 2         вдовец / вдова\n",
       "3                 3              в разводе\n",
       "4                 4  не женат / не замужем"
      ]
     },
     "execution_count": 34,
     "metadata": {},
     "output_type": "execute_result"
    }
   ],
   "source": [
    "family_status_dict = pd[['family_status_id','family_status']].drop_duplicates().reset_index(drop=True)\n",
    "family_status_dict"
   ]
  },
  {
   "cell_type": "markdown",
   "id": "341d02d2",
   "metadata": {},
   "source": [
    "Удаляем колонки отправленные в словари и проверяем результирующую таблицу:"
   ]
  },
  {
   "cell_type": "code",
   "execution_count": 35,
   "id": "bd71e036",
   "metadata": {},
   "outputs": [
    {
     "data": {
      "text/html": [
       "<div>\n",
       "<style scoped>\n",
       "    .dataframe tbody tr th:only-of-type {\n",
       "        vertical-align: middle;\n",
       "    }\n",
       "\n",
       "    .dataframe tbody tr th {\n",
       "        vertical-align: top;\n",
       "    }\n",
       "\n",
       "    .dataframe thead th {\n",
       "        text-align: right;\n",
       "    }\n",
       "</style>\n",
       "<table border=\"1\" class=\"dataframe\">\n",
       "  <thead>\n",
       "    <tr style=\"text-align: right;\">\n",
       "      <th></th>\n",
       "      <th>children</th>\n",
       "      <th>days_employed</th>\n",
       "      <th>dob_years</th>\n",
       "      <th>education_id</th>\n",
       "      <th>family_status_id</th>\n",
       "      <th>gender</th>\n",
       "      <th>income_type</th>\n",
       "      <th>debt</th>\n",
       "      <th>total_income</th>\n",
       "      <th>purpose</th>\n",
       "    </tr>\n",
       "  </thead>\n",
       "  <tbody>\n",
       "    <tr>\n",
       "      <td>0</td>\n",
       "      <td>1</td>\n",
       "      <td>8437.673028</td>\n",
       "      <td>42</td>\n",
       "      <td>0</td>\n",
       "      <td>0</td>\n",
       "      <td>F</td>\n",
       "      <td>сотрудник</td>\n",
       "      <td>0</td>\n",
       "      <td>253875</td>\n",
       "      <td>покупка жилья</td>\n",
       "    </tr>\n",
       "    <tr>\n",
       "      <td>1</td>\n",
       "      <td>1</td>\n",
       "      <td>4024.803754</td>\n",
       "      <td>36</td>\n",
       "      <td>1</td>\n",
       "      <td>0</td>\n",
       "      <td>F</td>\n",
       "      <td>сотрудник</td>\n",
       "      <td>0</td>\n",
       "      <td>112080</td>\n",
       "      <td>приобретение автомобиля</td>\n",
       "    </tr>\n",
       "    <tr>\n",
       "      <td>2</td>\n",
       "      <td>0</td>\n",
       "      <td>5623.422610</td>\n",
       "      <td>33</td>\n",
       "      <td>1</td>\n",
       "      <td>0</td>\n",
       "      <td>M</td>\n",
       "      <td>сотрудник</td>\n",
       "      <td>0</td>\n",
       "      <td>145885</td>\n",
       "      <td>покупка жилья</td>\n",
       "    </tr>\n",
       "    <tr>\n",
       "      <td>3</td>\n",
       "      <td>3</td>\n",
       "      <td>4124.747207</td>\n",
       "      <td>32</td>\n",
       "      <td>1</td>\n",
       "      <td>0</td>\n",
       "      <td>M</td>\n",
       "      <td>сотрудник</td>\n",
       "      <td>0</td>\n",
       "      <td>267628</td>\n",
       "      <td>дополнительное образование</td>\n",
       "    </tr>\n",
       "    <tr>\n",
       "      <td>4</td>\n",
       "      <td>0</td>\n",
       "      <td>14177.753002</td>\n",
       "      <td>53</td>\n",
       "      <td>1</td>\n",
       "      <td>1</td>\n",
       "      <td>F</td>\n",
       "      <td>пенсионер</td>\n",
       "      <td>0</td>\n",
       "      <td>158616</td>\n",
       "      <td>сыграть свадьбу</td>\n",
       "    </tr>\n",
       "  </tbody>\n",
       "</table>\n",
       "</div>"
      ],
      "text/plain": [
       "   children  days_employed  dob_years  education_id  family_status_id gender  \\\n",
       "0         1    8437.673028         42             0                 0      F   \n",
       "1         1    4024.803754         36             1                 0      F   \n",
       "2         0    5623.422610         33             1                 0      M   \n",
       "3         3    4124.747207         32             1                 0      M   \n",
       "4         0   14177.753002         53             1                 1      F   \n",
       "\n",
       "  income_type  debt  total_income                     purpose  \n",
       "0   сотрудник     0        253875               покупка жилья  \n",
       "1   сотрудник     0        112080     приобретение автомобиля  \n",
       "2   сотрудник     0        145885               покупка жилья  \n",
       "3   сотрудник     0        267628  дополнительное образование  \n",
       "4   пенсионер     0        158616             сыграть свадьбу  "
      ]
     },
     "execution_count": 35,
     "metadata": {},
     "output_type": "execute_result"
    }
   ],
   "source": [
    "pd = pd.drop(columns=['education', 'family_status'])\n",
    "pd.head(5)"
   ]
  },
  {
   "cell_type": "markdown",
   "id": "f1cf28ba",
   "metadata": {},
   "source": [
    "<div class=\"alert alert-block alert-success\">\n",
    "<b>Комментарий ревьюера✅:</b> Сделано верно, молодец🔥</div>"
   ]
  },
  {
   "cell_type": "markdown",
   "id": "32700338",
   "metadata": {},
   "source": [
    "### Шаг 2.6. Категоризация дохода."
   ]
  },
  {
   "cell_type": "markdown",
   "id": "1275b35a",
   "metadata": {},
   "source": [
    "Создаем функцию категоризации по определенным правилам, применяем ее к столбцу total_income_category и производим проверку:"
   ]
  },
  {
   "cell_type": "code",
   "execution_count": 36,
   "id": "217a0dae",
   "metadata": {},
   "outputs": [
    {
     "data": {
      "text/plain": [
       "C    16016\n",
       "B     5040\n",
       "D      350\n",
       "A       25\n",
       "E       22\n",
       "Name: total_income_category, dtype: int64"
      ]
     },
     "execution_count": 36,
     "metadata": {},
     "output_type": "execute_result"
    }
   ],
   "source": [
    "def total_income_category(row):\n",
    "    if 0 <= row['total_income'] <= 30000 :\n",
    "        return 'E'\n",
    "    if 30001 <= row['total_income'] <= 50000 :\n",
    "        return 'D'\n",
    "    if 50001 <= row['total_income'] <= 200000 :\n",
    "        return 'C'\n",
    "    if 200001 <= row['total_income'] <= 1000000 :\n",
    "        return 'B'\n",
    "    if row['total_income'] >= 1000001 :\n",
    "        return 'A'\n",
    "    return 'error'\n",
    "\n",
    "pd['total_income_category'] = pd.apply(total_income_category, axis=1) \n",
    "\n",
    "pd['total_income_category'].value_counts()"
   ]
  },
  {
   "cell_type": "markdown",
   "id": "27f0e453",
   "metadata": {},
   "source": [
    "<div class=\"alert alert-block alert-success\">\n",
    "<b>Комментарий ревьюера✅:</b> Функция написана верно, круто что результат ее выполнения проверен👍"
   ]
  },
  {
   "cell_type": "markdown",
   "id": "237de1dd",
   "metadata": {},
   "source": [
    "### Шаг 2.7. Категоризация целей кредита."
   ]
  },
  {
   "cell_type": "markdown",
   "id": "b60d52b9",
   "metadata": {},
   "source": [
    "Данные заполнены от руки и есть основные 4 цели для взятия кредита, соответственно создаем функцию категоризации и применяем ее к столбцу total_income_category и производим проверку:"
   ]
  },
  {
   "cell_type": "code",
   "execution_count": 37,
   "id": "6826dfff",
   "metadata": {},
   "outputs": [
    {
     "data": {
      "text/plain": [
       "операции с недвижимостью    10810\n",
       "операции с автомобилем       4306\n",
       "получение образования        4013\n",
       "проведение свадьбы           2324\n",
       "Name: purpose_category, dtype: int64"
      ]
     },
     "execution_count": 37,
     "metadata": {},
     "output_type": "execute_result"
    }
   ],
   "source": [
    "def age_group_unemployed(row):\n",
    "    purpose = row['purpose']\n",
    "    if 'свадьб' in purpose:\n",
    "        return 'проведение свадьбы'\n",
    "    if 'недвиж' in purpose or 'жиль' in purpose:\n",
    "        return 'операции с недвижимостью'\n",
    "    if 'авто' in purpose:\n",
    "        return 'операции с автомобилем'\n",
    "    if 'образ' in purpose:\n",
    "        return 'получение образования'\n",
    "    \n",
    "pd['purpose_category'] = pd.apply(age_group_unemployed, axis=1)\n",
    "\n",
    "pd['purpose_category'].value_counts()"
   ]
  },
  {
   "cell_type": "code",
   "execution_count": 38,
   "id": "31a75f07",
   "metadata": {},
   "outputs": [
    {
     "data": {
      "text/html": [
       "<div>\n",
       "<style scoped>\n",
       "    .dataframe tbody tr th:only-of-type {\n",
       "        vertical-align: middle;\n",
       "    }\n",
       "\n",
       "    .dataframe tbody tr th {\n",
       "        vertical-align: top;\n",
       "    }\n",
       "\n",
       "    .dataframe thead th {\n",
       "        text-align: right;\n",
       "    }\n",
       "</style>\n",
       "<table border=\"1\" class=\"dataframe\">\n",
       "  <thead>\n",
       "    <tr style=\"text-align: right;\">\n",
       "      <th></th>\n",
       "      <th>children</th>\n",
       "      <th>days_employed</th>\n",
       "      <th>dob_years</th>\n",
       "      <th>education_id</th>\n",
       "      <th>family_status_id</th>\n",
       "      <th>gender</th>\n",
       "      <th>income_type</th>\n",
       "      <th>debt</th>\n",
       "      <th>total_income</th>\n",
       "      <th>purpose</th>\n",
       "      <th>total_income_category</th>\n",
       "      <th>purpose_category</th>\n",
       "    </tr>\n",
       "  </thead>\n",
       "  <tbody>\n",
       "    <tr>\n",
       "      <td>0</td>\n",
       "      <td>1</td>\n",
       "      <td>8437.673028</td>\n",
       "      <td>42</td>\n",
       "      <td>0</td>\n",
       "      <td>0</td>\n",
       "      <td>F</td>\n",
       "      <td>сотрудник</td>\n",
       "      <td>0</td>\n",
       "      <td>253875</td>\n",
       "      <td>покупка жилья</td>\n",
       "      <td>B</td>\n",
       "      <td>операции с недвижимостью</td>\n",
       "    </tr>\n",
       "    <tr>\n",
       "      <td>1</td>\n",
       "      <td>1</td>\n",
       "      <td>4024.803754</td>\n",
       "      <td>36</td>\n",
       "      <td>1</td>\n",
       "      <td>0</td>\n",
       "      <td>F</td>\n",
       "      <td>сотрудник</td>\n",
       "      <td>0</td>\n",
       "      <td>112080</td>\n",
       "      <td>приобретение автомобиля</td>\n",
       "      <td>C</td>\n",
       "      <td>операции с автомобилем</td>\n",
       "    </tr>\n",
       "    <tr>\n",
       "      <td>2</td>\n",
       "      <td>0</td>\n",
       "      <td>5623.422610</td>\n",
       "      <td>33</td>\n",
       "      <td>1</td>\n",
       "      <td>0</td>\n",
       "      <td>M</td>\n",
       "      <td>сотрудник</td>\n",
       "      <td>0</td>\n",
       "      <td>145885</td>\n",
       "      <td>покупка жилья</td>\n",
       "      <td>C</td>\n",
       "      <td>операции с недвижимостью</td>\n",
       "    </tr>\n",
       "    <tr>\n",
       "      <td>3</td>\n",
       "      <td>3</td>\n",
       "      <td>4124.747207</td>\n",
       "      <td>32</td>\n",
       "      <td>1</td>\n",
       "      <td>0</td>\n",
       "      <td>M</td>\n",
       "      <td>сотрудник</td>\n",
       "      <td>0</td>\n",
       "      <td>267628</td>\n",
       "      <td>дополнительное образование</td>\n",
       "      <td>B</td>\n",
       "      <td>получение образования</td>\n",
       "    </tr>\n",
       "    <tr>\n",
       "      <td>4</td>\n",
       "      <td>0</td>\n",
       "      <td>14177.753002</td>\n",
       "      <td>53</td>\n",
       "      <td>1</td>\n",
       "      <td>1</td>\n",
       "      <td>F</td>\n",
       "      <td>пенсионер</td>\n",
       "      <td>0</td>\n",
       "      <td>158616</td>\n",
       "      <td>сыграть свадьбу</td>\n",
       "      <td>C</td>\n",
       "      <td>проведение свадьбы</td>\n",
       "    </tr>\n",
       "  </tbody>\n",
       "</table>\n",
       "</div>"
      ],
      "text/plain": [
       "   children  days_employed  dob_years  education_id  family_status_id gender  \\\n",
       "0         1    8437.673028         42             0                 0      F   \n",
       "1         1    4024.803754         36             1                 0      F   \n",
       "2         0    5623.422610         33             1                 0      M   \n",
       "3         3    4124.747207         32             1                 0      M   \n",
       "4         0   14177.753002         53             1                 1      F   \n",
       "\n",
       "  income_type  debt  total_income                     purpose  \\\n",
       "0   сотрудник     0        253875               покупка жилья   \n",
       "1   сотрудник     0        112080     приобретение автомобиля   \n",
       "2   сотрудник     0        145885               покупка жилья   \n",
       "3   сотрудник     0        267628  дополнительное образование   \n",
       "4   пенсионер     0        158616             сыграть свадьбу   \n",
       "\n",
       "  total_income_category          purpose_category  \n",
       "0                     B  операции с недвижимостью  \n",
       "1                     C    операции с автомобилем  \n",
       "2                     C  операции с недвижимостью  \n",
       "3                     B     получение образования  \n",
       "4                     C        проведение свадьбы  "
      ]
     },
     "execution_count": 38,
     "metadata": {},
     "output_type": "execute_result"
    }
   ],
   "source": [
    "pd.head(5)"
   ]
  },
  {
   "cell_type": "markdown",
   "id": "1d5bc99d",
   "metadata": {},
   "source": [
    "<div class=\"alert alert-block alert-success\">\n",
    "<b>Комментарий ревьюера✅:</b> Тут все верно, функция отрабатывает правильно. Проверка результата ее выполнений проведена👍</div>"
   ]
  },
  {
   "cell_type": "markdown",
   "id": "63405203",
   "metadata": {},
   "source": [
    "### Шаг 2.8. Ответы на вопросы."
   ]
  },
  {
   "cell_type": "markdown",
   "id": "64116b5a",
   "metadata": {},
   "source": [
    "##### Вопрос 1: Есть ли зависимость между количеством детей и возвратом кредита в срок?"
   ]
  },
  {
   "cell_type": "code",
   "execution_count": 39,
   "id": "a5fcb4d8",
   "metadata": {},
   "outputs": [
    {
     "data": {
      "text/html": [
       "<div>\n",
       "<style scoped>\n",
       "    .dataframe tbody tr th:only-of-type {\n",
       "        vertical-align: middle;\n",
       "    }\n",
       "\n",
       "    .dataframe tbody tr th {\n",
       "        vertical-align: top;\n",
       "    }\n",
       "\n",
       "    .dataframe thead th {\n",
       "        text-align: right;\n",
       "    }\n",
       "</style>\n",
       "<table border=\"1\" class=\"dataframe\">\n",
       "  <thead>\n",
       "    <tr style=\"text-align: right;\">\n",
       "      <th>debt</th>\n",
       "      <th>0</th>\n",
       "      <th>1</th>\n",
       "      <th>percent_off_debt</th>\n",
       "    </tr>\n",
       "    <tr>\n",
       "      <th>children</th>\n",
       "      <th></th>\n",
       "      <th></th>\n",
       "      <th></th>\n",
       "    </tr>\n",
       "  </thead>\n",
       "  <tbody>\n",
       "    <tr>\n",
       "      <td>0</td>\n",
       "      <td>13141.0</td>\n",
       "      <td>1072.0</td>\n",
       "      <td>7.542391</td>\n",
       "    </tr>\n",
       "    <tr>\n",
       "      <td>1</td>\n",
       "      <td>4364.0</td>\n",
       "      <td>444.0</td>\n",
       "      <td>9.234609</td>\n",
       "    </tr>\n",
       "    <tr>\n",
       "      <td>2</td>\n",
       "      <td>1858.0</td>\n",
       "      <td>194.0</td>\n",
       "      <td>9.454191</td>\n",
       "    </tr>\n",
       "    <tr>\n",
       "      <td>3</td>\n",
       "      <td>303.0</td>\n",
       "      <td>27.0</td>\n",
       "      <td>8.181818</td>\n",
       "    </tr>\n",
       "    <tr>\n",
       "      <td>4</td>\n",
       "      <td>37.0</td>\n",
       "      <td>4.0</td>\n",
       "      <td>9.756098</td>\n",
       "    </tr>\n",
       "    <tr>\n",
       "      <td>5</td>\n",
       "      <td>9.0</td>\n",
       "      <td>NaN</td>\n",
       "      <td>NaN</td>\n",
       "    </tr>\n",
       "  </tbody>\n",
       "</table>\n",
       "</div>"
      ],
      "text/plain": [
       "debt            0       1  percent_off_debt\n",
       "children                                   \n",
       "0         13141.0  1072.0          7.542391\n",
       "1          4364.0   444.0          9.234609\n",
       "2          1858.0   194.0          9.454191\n",
       "3           303.0    27.0          8.181818\n",
       "4            37.0     4.0          9.756098\n",
       "5             9.0     NaN               NaN"
      ]
     },
     "execution_count": 39,
     "metadata": {},
     "output_type": "execute_result"
    }
   ],
   "source": [
    "first_quest = pd.pivot_table(index='children', columns='debt', values='dob_years', aggfunc='count')\n",
    "first_quest['percent_off_debt'] = first_quest[1] / (first_quest[0] + first_quest[1]) * 100\n",
    "first_quest"
   ]
  },
  {
   "cell_type": "markdown",
   "id": "9c81342b",
   "metadata": {},
   "source": [
    "##### Вывод 1:"
   ]
  },
  {
   "cell_type": "markdown",
   "id": "e0a713f3",
   "metadata": {},
   "source": [
    "Зависимость приблизительно 2% между критериями есть дети/нет детей, независимо от количества, так же необходимо учитывать, что расчет по количеству детей - 3, 4 и 5 необходимо использовать аккуратно при принятии решения, из-за не репрезентативности выборки."
   ]
  },
  {
   "cell_type": "markdown",
   "id": "494a133a",
   "metadata": {},
   "source": [
    "<div class=\"alert alert-block alert-success\">\n",
    "<b>Комментарий ревьюера✅:</b> Ответ верный👍</div>"
   ]
  },
  {
   "cell_type": "markdown",
   "id": "0207e784",
   "metadata": {},
   "source": [
    "##### Вопрос 2: Есть ли зависимость между семейным положением и возвратом кредита в срок?"
   ]
  },
  {
   "cell_type": "code",
   "execution_count": 40,
   "id": "1ca952ef",
   "metadata": {},
   "outputs": [
    {
     "data": {
      "text/html": [
       "<div>\n",
       "<style scoped>\n",
       "    .dataframe tbody tr th:only-of-type {\n",
       "        vertical-align: middle;\n",
       "    }\n",
       "\n",
       "    .dataframe tbody tr th {\n",
       "        vertical-align: top;\n",
       "    }\n",
       "\n",
       "    .dataframe thead th {\n",
       "        text-align: right;\n",
       "    }\n",
       "</style>\n",
       "<table border=\"1\" class=\"dataframe\">\n",
       "  <thead>\n",
       "    <tr style=\"text-align: right;\">\n",
       "      <th></th>\n",
       "      <th>0</th>\n",
       "      <th>1</th>\n",
       "      <th>family_status</th>\n",
       "      <th>percent_off_debt</th>\n",
       "    </tr>\n",
       "  </thead>\n",
       "  <tbody>\n",
       "    <tr>\n",
       "      <td>0</td>\n",
       "      <td>896</td>\n",
       "      <td>63</td>\n",
       "      <td>вдовец / вдова</td>\n",
       "      <td>6.569343</td>\n",
       "    </tr>\n",
       "    <tr>\n",
       "      <td>1</td>\n",
       "      <td>1110</td>\n",
       "      <td>85</td>\n",
       "      <td>в разводе</td>\n",
       "      <td>7.112971</td>\n",
       "    </tr>\n",
       "    <tr>\n",
       "      <td>2</td>\n",
       "      <td>11408</td>\n",
       "      <td>931</td>\n",
       "      <td>женат / замужем</td>\n",
       "      <td>7.545182</td>\n",
       "    </tr>\n",
       "    <tr>\n",
       "      <td>3</td>\n",
       "      <td>3762</td>\n",
       "      <td>388</td>\n",
       "      <td>гражданский брак</td>\n",
       "      <td>9.349398</td>\n",
       "    </tr>\n",
       "    <tr>\n",
       "      <td>4</td>\n",
       "      <td>2536</td>\n",
       "      <td>274</td>\n",
       "      <td>не женат / не замужем</td>\n",
       "      <td>9.750890</td>\n",
       "    </tr>\n",
       "  </tbody>\n",
       "</table>\n",
       "</div>"
      ],
      "text/plain": [
       "       0    1          family_status  percent_off_debt\n",
       "0    896   63         вдовец / вдова          6.569343\n",
       "1   1110   85              в разводе          7.112971\n",
       "2  11408  931        женат / замужем          7.545182\n",
       "3   3762  388       гражданский брак          9.349398\n",
       "4   2536  274  не женат / не замужем          9.750890"
      ]
     },
     "execution_count": 40,
     "metadata": {},
     "output_type": "execute_result"
    }
   ],
   "source": [
    "second_quest = pd.pivot_table(index='family_status_id', columns='debt', values='dob_years', aggfunc='count')\n",
    "second_quest['percent_off_debt'] = second_quest[1] / (second_quest[0] + second_quest[1]) * 100\n",
    "second_quest = second_quest.merge(family_status_dict, how='inner', on='family_status_id')[[0, 1, 'family_status', 'percent_off_debt']].sort_values(by=['percent_off_debt']).reset_index(drop=True)\n",
    "second_quest"
   ]
  },
  {
   "cell_type": "markdown",
   "id": "0a23ff95",
   "metadata": {},
   "source": [
    "##### Вывод 2:"
   ]
  },
  {
   "cell_type": "markdown",
   "id": "c8f6e9a1",
   "metadata": {},
   "source": [
    "Минимальное количество просрочек допускают вдовцы/вдовы и люди в разводе - 6.6%, 7.1% соответственно;<br>\n",
    "Чуть больше просрочек допускают люди в зарегестрированном браке - 7.5%;<br>\n",
    "И с большим отрывом почти в 2% клиенты с не зарегестрированным браком и не женат / не замужем 9.3%, 9.8%."
   ]
  },
  {
   "cell_type": "markdown",
   "id": "655a9413",
   "metadata": {},
   "source": [
    "<div class=\"alert alert-block alert-success\">\n",
    "<b>Комментарий ревьюера✅:</b> Вывод правильный👍)</div>"
   ]
  },
  {
   "cell_type": "markdown",
   "id": "928adce3",
   "metadata": {},
   "source": [
    "##### Вопрос 3: Есть ли зависимость между уровнем дохода и возвратом кредита в срок?"
   ]
  },
  {
   "cell_type": "code",
   "execution_count": 41,
   "id": "83b25dfd",
   "metadata": {},
   "outputs": [
    {
     "data": {
      "text/html": [
       "<div>\n",
       "<style scoped>\n",
       "    .dataframe tbody tr th:only-of-type {\n",
       "        vertical-align: middle;\n",
       "    }\n",
       "\n",
       "    .dataframe tbody tr th {\n",
       "        vertical-align: top;\n",
       "    }\n",
       "\n",
       "    .dataframe thead th {\n",
       "        text-align: right;\n",
       "    }\n",
       "</style>\n",
       "<table border=\"1\" class=\"dataframe\">\n",
       "  <thead>\n",
       "    <tr style=\"text-align: right;\">\n",
       "      <th>debt</th>\n",
       "      <th>0</th>\n",
       "      <th>1</th>\n",
       "      <th>percent_off_debt</th>\n",
       "    </tr>\n",
       "    <tr>\n",
       "      <th>total_income_category</th>\n",
       "      <th></th>\n",
       "      <th></th>\n",
       "      <th></th>\n",
       "    </tr>\n",
       "  </thead>\n",
       "  <tbody>\n",
       "    <tr>\n",
       "      <td>A</td>\n",
       "      <td>23</td>\n",
       "      <td>2</td>\n",
       "      <td>8.000000</td>\n",
       "    </tr>\n",
       "    <tr>\n",
       "      <td>B</td>\n",
       "      <td>4684</td>\n",
       "      <td>356</td>\n",
       "      <td>7.063492</td>\n",
       "    </tr>\n",
       "    <tr>\n",
       "      <td>C</td>\n",
       "      <td>14656</td>\n",
       "      <td>1360</td>\n",
       "      <td>8.491508</td>\n",
       "    </tr>\n",
       "    <tr>\n",
       "      <td>D</td>\n",
       "      <td>329</td>\n",
       "      <td>21</td>\n",
       "      <td>6.000000</td>\n",
       "    </tr>\n",
       "    <tr>\n",
       "      <td>E</td>\n",
       "      <td>20</td>\n",
       "      <td>2</td>\n",
       "      <td>9.090909</td>\n",
       "    </tr>\n",
       "  </tbody>\n",
       "</table>\n",
       "</div>"
      ],
      "text/plain": [
       "debt                       0     1  percent_off_debt\n",
       "total_income_category                               \n",
       "A                         23     2          8.000000\n",
       "B                       4684   356          7.063492\n",
       "C                      14656  1360          8.491508\n",
       "D                        329    21          6.000000\n",
       "E                         20     2          9.090909"
      ]
     },
     "execution_count": 41,
     "metadata": {},
     "output_type": "execute_result"
    }
   ],
   "source": [
    "third_quest =  pd.pivot_table(index='total_income_category', columns='debt', values='dob_years', aggfunc='count')\n",
    "third_quest['percent_off_debt'] = third_quest[1] / (third_quest[0] + third_quest[1]) * 100\n",
    "third_quest"
   ]
  },
  {
   "cell_type": "markdown",
   "id": "177a060e",
   "metadata": {},
   "source": [
    "##### Вывод 3:"
   ]
  },
  {
   "cell_type": "markdown",
   "id": "e1393721",
   "metadata": {},
   "source": [
    "Клиенты с очень низким и очень высоким доходом составляют не репрезентаитивныю выборку, поэтому их не рассматриваем, категории А, Е.<br>\n",
    "Самое маленькое количество просрочек допускают люди с доходом от 30 тыс. руб до 50 тыс. руб. - 6%,<br>\n",
    "Второе по величение количества просрочек допускают люди с доходом от 200 тыс. руб до 1 млн. руб. - 7.06%,<br>\n",
    "Самое большое количество просрочек допускают люди с доходом от 50 тыс. руб до 200 тыс. руб. - 8.49%"
   ]
  },
  {
   "cell_type": "markdown",
   "id": "53581270",
   "metadata": {},
   "source": [
    "<div class=\"alert alert-block alert-success\">\n",
    "<b>Комментарий ревьюера✅:</b> Согласен😉</div>"
   ]
  },
  {
   "cell_type": "markdown",
   "id": "35ef50b4",
   "metadata": {},
   "source": [
    "##### Вопрос 4: Как разные цели кредита влияют на его возврат в срок?"
   ]
  },
  {
   "cell_type": "code",
   "execution_count": 42,
   "id": "c73d3ac6",
   "metadata": {},
   "outputs": [
    {
     "data": {
      "text/html": [
       "<div>\n",
       "<style scoped>\n",
       "    .dataframe tbody tr th:only-of-type {\n",
       "        vertical-align: middle;\n",
       "    }\n",
       "\n",
       "    .dataframe tbody tr th {\n",
       "        vertical-align: top;\n",
       "    }\n",
       "\n",
       "    .dataframe thead th {\n",
       "        text-align: right;\n",
       "    }\n",
       "</style>\n",
       "<table border=\"1\" class=\"dataframe\">\n",
       "  <thead>\n",
       "    <tr style=\"text-align: right;\">\n",
       "      <th>debt</th>\n",
       "      <th>0</th>\n",
       "      <th>1</th>\n",
       "      <th>percent_off_debt</th>\n",
       "    </tr>\n",
       "    <tr>\n",
       "      <th>purpose_category</th>\n",
       "      <th></th>\n",
       "      <th></th>\n",
       "      <th></th>\n",
       "    </tr>\n",
       "  </thead>\n",
       "  <tbody>\n",
       "    <tr>\n",
       "      <td>операции с недвижимостью</td>\n",
       "      <td>10028</td>\n",
       "      <td>782</td>\n",
       "      <td>7.234043</td>\n",
       "    </tr>\n",
       "    <tr>\n",
       "      <td>проведение свадьбы</td>\n",
       "      <td>2138</td>\n",
       "      <td>186</td>\n",
       "      <td>8.003442</td>\n",
       "    </tr>\n",
       "    <tr>\n",
       "      <td>получение образования</td>\n",
       "      <td>3643</td>\n",
       "      <td>370</td>\n",
       "      <td>9.220035</td>\n",
       "    </tr>\n",
       "    <tr>\n",
       "      <td>операции с автомобилем</td>\n",
       "      <td>3903</td>\n",
       "      <td>403</td>\n",
       "      <td>9.359034</td>\n",
       "    </tr>\n",
       "  </tbody>\n",
       "</table>\n",
       "</div>"
      ],
      "text/plain": [
       "debt                          0    1  percent_off_debt\n",
       "purpose_category                                      \n",
       "операции с недвижимостью  10028  782          7.234043\n",
       "проведение свадьбы         2138  186          8.003442\n",
       "получение образования      3643  370          9.220035\n",
       "операции с автомобилем     3903  403          9.359034"
      ]
     },
     "execution_count": 42,
     "metadata": {},
     "output_type": "execute_result"
    }
   ],
   "source": [
    "fourth_quest = pd.pivot_table(index='purpose_category', columns='debt', values='dob_years', aggfunc='count')\n",
    "fourth_quest['percent_off_debt'] = fourth_quest[1] / (fourth_quest[0] + fourth_quest[1]) * 100\n",
    "fourth_quest = fourth_quest.sort_values(by=['percent_off_debt'])\n",
    "fourth_quest"
   ]
  },
  {
   "cell_type": "markdown",
   "id": "bd9866ad",
   "metadata": {},
   "source": [
    "##### Вывод 4:"
   ]
  },
  {
   "cell_type": "markdown",
   "id": "cdd6ab99",
   "metadata": {},
   "source": [
    "Наименьшее количество клиентов допускающих просрочку с целью кредита \"операции с недвижимостью\" - 7.23%,<br>\n",
    "Далее идут клиенты с целью кредита \"проведение свадьбы\", количество клиентов допускающих просрочку - 8%,<br>\n",
    "Далее идут клиенты с целью кредита \"получение образования\" и \"операции с автомобилем\", количество клиентов допускающих просрочку - 9.22% и 9.33% соответственно."
   ]
  },
  {
   "cell_type": "markdown",
   "id": "a3d56e18",
   "metadata": {},
   "source": [
    "<div class=\"alert alert-block alert-success\">\n",
    "<b>Комментарий ревьюера✅:</b> Аргументировано👍</div>"
   ]
  },
  {
   "cell_type": "markdown",
   "id": "3ec67158",
   "metadata": {},
   "source": [
    "## Общий вывод:"
   ]
  },
  {
   "cell_type": "markdown",
   "id": "0fb948f2",
   "metadata": {},
   "source": [
    "**Шаг 1. Обзор данных.**<br>\n",
    "Часть значений в колонках days_employed и total_income не заполнена.<br>\n",
    "\n",
    "**Шаг 2.1 Заполнение пропусков.**<br>\n",
    "1. Заполняем медианными значениями колонку days_employed, предварительно скорректировав значения;<br>\n",
    "    1. Положительные значения делим на 24, так как значения занесли в часах;<br>\n",
    "    2. Отрицательные значения переводим в положительные.<br>\n",
    "2. total_income заполняем медианными значениями;<br>\n",
    "\n",
    "**Шаг 2.2 Проверка данных на аномалии и исправления.**<br>\n",
    "1. Корректируем колонку \"children\" - заменяем некорректные значения -1 и 20 на среднее значение количества детей;<br>\n",
    "2. Корректируем колонку \"dob_years\" - заменяем значение \"0\" на средние;<br>\n",
    "3. Корректируем колонку \"education\" - делаем по всей колонке единый регистр;<br>\n",
    "4. Корректируем колонку \"family_status\" - делаем по всей колонке единый регистр;<br>\n",
    "5. Корректируем колонку \"gender\" - удаление одной строки со значением \"XNA\".<br>\n",
    "\n",
    "**Шаг 2.3. Изменение типов данных.**<br>\n",
    "Заменяем вещественный тип данных в столбце total_income на целочисленный для удобства дальнейших расчетов.<br>\n",
    "\n",
    "**Шаг 2.4. Удаление дубликатов.**<br>\n",
    "Удалена 71 задублированная строка.<br>\n",
    "\n",
    "**Шаг 2.5. Формирование дополнительных датафреймов словарей, декомпозиция исходного датафрейма.<br>**\n",
    "Для удобства использования датафрейма были сформированы 2 словаря:<br>\n",
    "* education_dict <br>\n",
    "* family_status_dict <br>\n",
    "\n",
    "Удалены  колонки pd['education'], pd['family_status'].\n",
    "\n",
    "**Шаг 2.6. Категоризация дохода.**<br>\n",
    "Присваиваем клиенту категорию в зависимости от дохода в столбец pd['total_income_category'] на основании диапазонов, указанных ниже: <br>\n",
    "* 0–30000 — 'E';<br>\n",
    "* 30001–50000 — 'D';<br>\n",
    "* 50001–200000 — 'C';<br>\n",
    "* 200001–1000000 — 'B';<br>\n",
    "* 1000001 и выше — 'A'.<br>\n",
    "\n",
    "**Шаг 2.7. Категоризация целей кредита.**<br>\n",
    "Присваиваем клиенту одну из четырех категорий в зависимости от цели кредита в столбец pd['purpose_category'] согласно списку ниже: <br>\n",
    "* операции с автомобилем;<br>\n",
    "* операции с недвижимостью;<br>\n",
    "* проведение свадьбы;<br>\n",
    "* получение образования.<br>\n",
    "\n",
    "**Шаг 2.8. Ответы на вопросы.**<br>\n",
    "* Вопрос 1: Есть ли зависимость между количеством детей и возвратом кредита в срок?<br>\n",
    "    - Зависимость приблизительно 2% между критериями есть дети/нет детей, независимо от количества<br>\n",
    "* Вопрос 2: Есть ли зависимость между семейным положением и возвратом кредита в срок?<br>\n",
    "    - Минимальное количество просрочек допускают вдовцы/вдовы и люди в разводе - 6.6%, 7.1% соответственно;<br>\n",
    "    - Чуть больше просрочек допускают люди в зарегестрированном браке - 7.5%;<br>\n",
    "    - И с большим отрывом почти в 2% клиенты с не зарегестрированным браком и не женат / не замужем 9.3%, 9.8%.<br>\n",
    "* Вопрос 3: Есть ли зависимость между уровнем дохода и возвратом кредита в срок?<br>\n",
    "    - Клиенты с очень низким и очень высоким доходом составляют не репрезентаитивныю выборку, поэтому их не рассматриваем, категории А, Е.<br>\n",
    "    - Самое маленькое количество просрочек допускают люди с доходом от 30 тыс. руб до 50 тыс. руб. - 6%,<br>\n",
    "    - Второе по величение количества просрочек допускают люди с доходом от 200 тыс. руб до 1 млн. руб. - 7.06%,<br>\n",
    "    - Самое большое количество просрочек допускают люди с доходом от 50 тыс. руб до 200 тыс. руб. - 8.49%<br>\n",
    "* Вопрос 4: Как разные цели кредита влияют на его возврат в срок?<br>\n",
    "    - Наименьшее количество клиентов допускающих просрочку с целью кредита \"операции с недвижимостью\" - 7.23%,<br>\n",
    "    - Далее идут клиенты с целью кредита \"проведение свадьбы\", количество клиентов допускающих просрочку - 8%,<br>\n",
    "    - Далее идут клиенты с целью кредита \"получение образования\" и \"операции с автомобилем\", количество клиентов    допускающих просрочку - 9.22% и 9.33% соответственно.<br>\n",
    "\n",
    "**Вывод:**\n",
    "На основе проведенного анализа можно построить модель кредитного скоринга состоящую из четырех факторов со следующим подразделением:<br>\n",
    "* Наличие детей (да/нет):<br>\n",
    "    - Есть дети;<br>\n",
    "    - Нет детей.<br>\n",
    "* Семейное положение:<br>\n",
    "    - Вдовец / вдова;<br>\n",
    "    - В разводе, женат / замужем;<br>\n",
    "    - Гражданский брак, не женат / не замужем;<br>\n",
    "* Уровень дохода:<br>\n",
    "    - 0 тыс. руб. - 30 тыс. руб.;<br>\n",
    "    - 30 тыс. руб. - 50 тыс. руб.;<br>\n",
    "    - 50 тыс. руб. - 200 тыс. руб.;<br>\n",
    "    - 200 тыс. руб. - 1 млн. руб.;<br>\n",
    "    - более 1 млн. руб.;<br>\n",
    "* Цель кредита.<br>\n",
    "    - операции с недвижимостью<br>\n",
    "    - проведение свадьбы<br>\n",
    "    - получение образования<br>\n",
    "    - операции с автомобилем<br>\n",
    "\n",
    "Идеальный клиент обладает следующим набором факторов:<br>\n",
    "1. Наличие детей - да;<br>\n",
    "2. Семейное положение - вдовец / вдова;<br>\n",
    "3. Уровень дохода - от 30 тыс. руб до 50 тыс. руб;<br>\n",
    "4. Цель кредита - операции с недвижимостью.<br>\n",
    "\n",
    "\n",
    "\n",
    "\n"
   ]
  },
  {
   "cell_type": "markdown",
   "id": "4c6d18eb",
   "metadata": {},
   "source": [
    "<div class=\"alert alert-block alert-danger\">\n",
    "<b>Комментарий ревьюера❌:</b> В конце проекта принято кратко описывать все проделанные шаги и полученные результаты. Зачем это нужно - когда проект захочет посмотреть будущий работодатель, у него может не быть времени на подробный разбор кода. Вероятнее всего он бегло просмотрит код, но захочет изучить результат, который будет в общем выводе. Поэтому все же советую написать общий вывод)\n",
    "</div>"
   ]
  },
  {
   "cell_type": "markdown",
   "id": "39d286fa",
   "metadata": {},
   "source": [
    "<div class=\"alert alert-block alert-success\">\n",
    "<b>Комментарий ревьюера_v2✅:</b> Отличный вывод, другое дело🔥🔥🔥\n",
    "</div>"
   ]
  },
  {
   "cell_type": "markdown",
   "id": "3600b141",
   "metadata": {},
   "source": [
    "<div class=\"alert alert-block alert-success\">\n",
    "<b>Комментарий ревьюера✅:</b>Мне очень понравилась твоя работа. Все рассуждения верные, очень логичные и осмысленные. Ничего лишнего, всё по полкам. Ты подробно разбираешься в деталях, для будущего аналитика это очень важная черта😊\n",
    "\n",
    "Проект еще нужно немного доработать, а именно:\n",
    "\n",
    "- добавить краткое описание проекта в самом начале\n",
    "    \n",
    "- поправить общий вывод\n",
    "    \n",
    "Остальные замечания оставляю на твое усмотрение😉\n",
    "\n",
    "Жду твою работу на повторное ревью.\n",
    "    \n",
    "[Тут есть полезные приемы Markdown](https://paulradzkov.com/2014/markdown_cheatsheet/)\n",
    "\n",
    "</div>"
   ]
  },
  {
   "cell_type": "markdown",
   "id": "fa3d09d0",
   "metadata": {},
   "source": [
    "<div class=\"alert alert-block alert-success\">\n",
    "<b>Комментарий ревьюера_v2✅:</b> Отличная работа, проект принимаю. Могу с уверенностью сказать - ты хорошо владеешь пройденным материалом. Желаю удачи в дальнейшей учебе🔥 </div>"
   ]
  },
  {
   "cell_type": "code",
   "execution_count": null,
   "id": "265fe5fa",
   "metadata": {},
   "outputs": [],
   "source": []
  }
 ],
 "metadata": {
  "ExecuteTimeLog": [
   {
    "duration": 1181,
    "start_time": "2022-02-22T16:09:03.688Z"
   },
   {
    "duration": 64,
    "start_time": "2022-02-22T16:09:10.089Z"
   },
   {
    "duration": 90,
    "start_time": "2022-02-22T16:09:15.916Z"
   },
   {
    "duration": 52,
    "start_time": "2022-02-22T16:09:29.227Z"
   },
   {
    "duration": 58,
    "start_time": "2022-02-22T16:10:20.324Z"
   },
   {
    "duration": 485,
    "start_time": "2022-02-22T16:11:27.212Z"
   },
   {
    "duration": 477,
    "start_time": "2022-02-22T16:15:05.894Z"
   },
   {
    "duration": 58,
    "start_time": "2022-02-22T16:15:25.566Z"
   },
   {
    "duration": 7,
    "start_time": "2022-02-22T16:15:42.458Z"
   },
   {
    "duration": 5,
    "start_time": "2022-02-22T16:16:06.818Z"
   },
   {
    "duration": 19,
    "start_time": "2022-02-22T16:16:23.888Z"
   },
   {
    "duration": 5,
    "start_time": "2022-02-22T16:18:28.612Z"
   },
   {
    "duration": 51,
    "start_time": "2022-02-22T16:18:41.182Z"
   },
   {
    "duration": 7,
    "start_time": "2022-02-22T16:18:49.256Z"
   },
   {
    "duration": 6,
    "start_time": "2022-02-22T16:19:02.022Z"
   },
   {
    "duration": 24,
    "start_time": "2022-02-22T16:19:16.429Z"
   },
   {
    "duration": 361,
    "start_time": "2022-02-22T16:22:03.432Z"
   },
   {
    "duration": 24,
    "start_time": "2022-02-22T16:22:35.608Z"
   },
   {
    "duration": 22,
    "start_time": "2022-02-22T16:22:51.317Z"
   },
   {
    "duration": 23,
    "start_time": "2022-02-22T16:23:16.703Z"
   },
   {
    "duration": 336,
    "start_time": "2022-02-22T16:30:47.274Z"
   },
   {
    "duration": 352,
    "start_time": "2022-02-22T16:31:11.813Z"
   },
   {
    "duration": 340,
    "start_time": "2022-02-22T16:31:25.981Z"
   },
   {
    "duration": 9,
    "start_time": "2022-02-22T16:32:34.346Z"
   },
   {
    "duration": 10,
    "start_time": "2022-02-22T16:32:48.221Z"
   },
   {
    "duration": 9,
    "start_time": "2022-02-22T16:32:57.937Z"
   },
   {
    "duration": 10,
    "start_time": "2022-02-22T16:37:56.738Z"
   },
   {
    "duration": 23,
    "start_time": "2022-02-22T16:38:09.272Z"
   },
   {
    "duration": 12,
    "start_time": "2022-02-22T16:38:22.194Z"
   },
   {
    "duration": 10,
    "start_time": "2022-02-22T16:38:45.682Z"
   },
   {
    "duration": 11,
    "start_time": "2022-02-22T16:39:45.830Z"
   },
   {
    "duration": 14,
    "start_time": "2022-02-22T16:42:29.145Z"
   },
   {
    "duration": 17,
    "start_time": "2022-02-22T16:42:39.875Z"
   },
   {
    "duration": 26,
    "start_time": "2022-02-22T16:43:42.767Z"
   },
   {
    "duration": 52,
    "start_time": "2022-02-22T16:43:48.036Z"
   },
   {
    "duration": 53,
    "start_time": "2022-02-22T16:44:02.601Z"
   },
   {
    "duration": 28,
    "start_time": "2022-02-22T16:44:07.657Z"
   },
   {
    "duration": 121,
    "start_time": "2022-02-22T16:44:41.829Z"
   },
   {
    "duration": 27,
    "start_time": "2022-02-22T16:44:46.746Z"
   },
   {
    "duration": 25,
    "start_time": "2022-02-22T16:44:52.300Z"
   },
   {
    "duration": 17,
    "start_time": "2022-02-22T16:45:01.857Z"
   },
   {
    "duration": 18,
    "start_time": "2022-02-22T16:45:23.392Z"
   },
   {
    "duration": 6,
    "start_time": "2022-02-22T16:46:00.494Z"
   },
   {
    "duration": 6,
    "start_time": "2022-02-22T16:57:45.904Z"
   },
   {
    "duration": 6,
    "start_time": "2022-02-22T16:58:08.006Z"
   },
   {
    "duration": 322,
    "start_time": "2022-02-22T17:08:14.332Z"
   },
   {
    "duration": 323,
    "start_time": "2022-02-22T17:08:20.696Z"
   },
   {
    "duration": 30,
    "start_time": "2022-02-22T17:08:52.884Z"
   },
   {
    "duration": 17,
    "start_time": "2022-02-22T17:08:57.902Z"
   },
   {
    "duration": 426,
    "start_time": "2022-02-22T17:09:50.786Z"
   },
   {
    "duration": 5,
    "start_time": "2022-02-22T17:10:00.369Z"
   },
   {
    "duration": 5,
    "start_time": "2022-02-22T17:10:08.735Z"
   },
   {
    "duration": 19,
    "start_time": "2022-02-22T17:10:39.512Z"
   },
   {
    "duration": 7,
    "start_time": "2022-02-22T17:11:35.929Z"
   },
   {
    "duration": 5,
    "start_time": "2022-02-22T17:12:37.885Z"
   },
   {
    "duration": 6,
    "start_time": "2022-02-22T17:13:05.719Z"
   },
   {
    "duration": 13,
    "start_time": "2022-02-22T17:13:45.492Z"
   },
   {
    "duration": 6,
    "start_time": "2022-02-22T17:14:59.527Z"
   },
   {
    "duration": 6,
    "start_time": "2022-02-22T17:15:48.861Z"
   },
   {
    "duration": 7,
    "start_time": "2022-02-22T17:16:07.900Z"
   },
   {
    "duration": 19,
    "start_time": "2022-02-22T17:16:14.871Z"
   },
   {
    "duration": 123,
    "start_time": "2022-02-22T17:18:27.394Z"
   },
   {
    "duration": 8,
    "start_time": "2022-02-22T17:18:35.217Z"
   },
   {
    "duration": 21,
    "start_time": "2022-02-22T17:18:42.134Z"
   },
   {
    "duration": 8,
    "start_time": "2022-02-22T17:18:50.288Z"
   },
   {
    "duration": 8,
    "start_time": "2022-02-22T17:19:42.740Z"
   },
   {
    "duration": 10,
    "start_time": "2022-02-22T17:20:15.891Z"
   },
   {
    "duration": 326,
    "start_time": "2022-02-22T17:34:40.039Z"
   },
   {
    "duration": 348,
    "start_time": "2022-02-22T17:34:46.775Z"
   },
   {
    "duration": 1564,
    "start_time": "2022-02-22T17:35:27.818Z"
   },
   {
    "duration": 1099,
    "start_time": "2022-02-22T17:35:44.023Z"
   },
   {
    "duration": 600,
    "start_time": "2022-02-22T17:36:29.488Z"
   },
   {
    "duration": 654,
    "start_time": "2022-02-22T17:37:04.725Z"
   },
   {
    "duration": 564,
    "start_time": "2022-02-22T17:39:39.482Z"
   },
   {
    "duration": 113,
    "start_time": "2022-02-22T17:44:30.282Z"
   },
   {
    "duration": 104,
    "start_time": "2022-02-22T17:44:35.728Z"
   },
   {
    "duration": 330,
    "start_time": "2022-02-22T17:44:47.948Z"
   },
   {
    "duration": 10,
    "start_time": "2022-02-22T17:48:44.242Z"
   },
   {
    "duration": 11,
    "start_time": "2022-02-22T17:48:50.892Z"
   },
   {
    "duration": 17,
    "start_time": "2022-02-22T17:48:52.829Z"
   },
   {
    "duration": 11,
    "start_time": "2022-02-22T17:49:02.317Z"
   },
   {
    "duration": 10,
    "start_time": "2022-02-22T17:49:15.848Z"
   },
   {
    "duration": 13,
    "start_time": "2022-02-22T17:49:48.225Z"
   },
   {
    "duration": 12,
    "start_time": "2022-02-22T17:49:52.339Z"
   },
   {
    "duration": 11,
    "start_time": "2022-02-22T17:50:12.225Z"
   },
   {
    "duration": 216,
    "start_time": "2022-02-22T17:50:15.254Z"
   },
   {
    "duration": 211,
    "start_time": "2022-02-22T17:50:20.394Z"
   },
   {
    "duration": 59,
    "start_time": "2022-02-22T17:50:46.055Z"
   },
   {
    "duration": 21,
    "start_time": "2022-02-22T17:50:46.343Z"
   },
   {
    "duration": 211,
    "start_time": "2022-02-22T17:50:46.649Z"
   },
   {
    "duration": 243,
    "start_time": "2022-02-22T17:51:01.261Z"
   },
   {
    "duration": 70,
    "start_time": "2022-02-22T17:51:59.204Z"
   },
   {
    "duration": 21,
    "start_time": "2022-02-22T17:51:59.505Z"
   },
   {
    "duration": 24,
    "start_time": "2022-02-22T17:51:59.843Z"
   },
   {
    "duration": 60,
    "start_time": "2022-02-22T17:52:08.737Z"
   },
   {
    "duration": 28,
    "start_time": "2022-02-22T17:52:09.586Z"
   },
   {
    "duration": 21,
    "start_time": "2022-02-22T17:52:26.256Z"
   },
   {
    "duration": 220,
    "start_time": "2022-02-22T17:52:46.579Z"
   },
   {
    "duration": 60,
    "start_time": "2022-02-22T17:57:43.668Z"
   },
   {
    "duration": 19,
    "start_time": "2022-02-22T17:57:43.987Z"
   },
   {
    "duration": 220,
    "start_time": "2022-02-22T17:57:44.295Z"
   },
   {
    "duration": 227,
    "start_time": "2022-02-22T17:58:14.080Z"
   },
   {
    "duration": 59,
    "start_time": "2022-02-22T17:58:19.526Z"
   },
   {
    "duration": 19,
    "start_time": "2022-02-22T17:58:19.823Z"
   },
   {
    "duration": 227,
    "start_time": "2022-02-22T17:58:20.112Z"
   },
   {
    "duration": 229,
    "start_time": "2022-02-22T17:59:51.822Z"
   },
   {
    "duration": 62,
    "start_time": "2022-02-22T18:00:21.144Z"
   },
   {
    "duration": 20,
    "start_time": "2022-02-22T18:00:21.432Z"
   },
   {
    "duration": 390,
    "start_time": "2022-02-22T18:00:21.723Z"
   },
   {
    "duration": 226,
    "start_time": "2022-02-22T18:02:09.312Z"
   },
   {
    "duration": 60,
    "start_time": "2022-02-22T18:02:35.313Z"
   },
   {
    "duration": 24,
    "start_time": "2022-02-22T18:02:35.667Z"
   },
   {
    "duration": 236,
    "start_time": "2022-02-22T18:02:36.021Z"
   },
   {
    "duration": 223,
    "start_time": "2022-02-22T18:05:06.866Z"
   },
   {
    "duration": 60,
    "start_time": "2022-02-22T18:05:45.964Z"
   },
   {
    "duration": 20,
    "start_time": "2022-02-22T18:05:46.252Z"
   },
   {
    "duration": 223,
    "start_time": "2022-02-22T18:05:46.574Z"
   },
   {
    "duration": 60,
    "start_time": "2022-02-22T18:06:12.351Z"
   },
   {
    "duration": 19,
    "start_time": "2022-02-22T18:06:12.664Z"
   },
   {
    "duration": 220,
    "start_time": "2022-02-22T18:06:12.979Z"
   },
   {
    "duration": 603,
    "start_time": "2022-02-22T18:08:13.683Z"
   },
   {
    "duration": 22,
    "start_time": "2022-02-22T18:08:15.057Z"
   },
   {
    "duration": 218,
    "start_time": "2022-02-22T18:08:15.434Z"
   },
   {
    "duration": 60,
    "start_time": "2022-02-22T18:09:12.403Z"
   },
   {
    "duration": 21,
    "start_time": "2022-02-22T18:09:12.747Z"
   },
   {
    "duration": 13183,
    "start_time": "2022-02-22T18:09:13.037Z"
   },
   {
    "duration": 2998,
    "start_time": "2022-02-22T18:09:33.449Z"
   },
   {
    "duration": 58,
    "start_time": "2022-02-22T18:10:28.557Z"
   },
   {
    "duration": 22,
    "start_time": "2022-02-22T18:10:28.839Z"
   },
   {
    "duration": 214,
    "start_time": "2022-02-22T18:10:29.137Z"
   },
   {
    "duration": 56,
    "start_time": "2022-02-22T18:10:41.555Z"
   },
   {
    "duration": 29,
    "start_time": "2022-02-22T18:10:41.867Z"
   },
   {
    "duration": 217,
    "start_time": "2022-02-22T18:10:42.252Z"
   },
   {
    "duration": 68,
    "start_time": "2022-02-22T18:10:50.356Z"
   },
   {
    "duration": 20,
    "start_time": "2022-02-22T18:10:50.654Z"
   },
   {
    "duration": 214,
    "start_time": "2022-02-22T18:10:50.960Z"
   },
   {
    "duration": 2852,
    "start_time": "2022-02-22T18:11:28.464Z"
   },
   {
    "duration": 57,
    "start_time": "2022-02-22T18:11:32.383Z"
   },
   {
    "duration": 20,
    "start_time": "2022-02-22T18:11:32.687Z"
   },
   {
    "duration": 2849,
    "start_time": "2022-02-22T18:11:33.635Z"
   },
   {
    "duration": 58,
    "start_time": "2022-02-22T18:11:56.408Z"
   },
   {
    "duration": 21,
    "start_time": "2022-02-22T18:11:56.753Z"
   },
   {
    "duration": 2889,
    "start_time": "2022-02-22T18:11:57.110Z"
   },
   {
    "duration": 3,
    "start_time": "2022-02-22T18:12:35.793Z"
   },
   {
    "duration": 4,
    "start_time": "2022-02-22T18:12:40.503Z"
   },
   {
    "duration": 3,
    "start_time": "2022-02-22T18:12:48.759Z"
   },
   {
    "duration": 3,
    "start_time": "2022-02-22T18:12:55.483Z"
   },
   {
    "duration": 210,
    "start_time": "2022-02-22T18:20:13.209Z"
   },
   {
    "duration": 61,
    "start_time": "2022-02-22T18:20:17.984Z"
   },
   {
    "duration": 20,
    "start_time": "2022-02-22T18:20:18.252Z"
   },
   {
    "duration": 216,
    "start_time": "2022-02-22T18:20:18.543Z"
   },
   {
    "duration": 720,
    "start_time": "2022-02-22T18:23:01.201Z"
   },
   {
    "duration": 89,
    "start_time": "2022-02-22T18:23:09.968Z"
   },
   {
    "duration": 21,
    "start_time": "2022-02-22T18:23:10.238Z"
   },
   {
    "duration": 237,
    "start_time": "2022-02-22T18:23:10.536Z"
   },
   {
    "duration": 58,
    "start_time": "2022-02-22T18:23:34.079Z"
   },
   {
    "duration": 20,
    "start_time": "2022-02-22T18:23:34.353Z"
   },
   {
    "duration": 245,
    "start_time": "2022-02-22T18:23:34.635Z"
   },
   {
    "duration": 510,
    "start_time": "2022-02-22T18:24:05.353Z"
   },
   {
    "duration": 58,
    "start_time": "2022-02-22T18:24:32.491Z"
   },
   {
    "duration": 19,
    "start_time": "2022-02-22T18:24:32.783Z"
   },
   {
    "duration": 225,
    "start_time": "2022-02-22T18:24:33.062Z"
   },
   {
    "duration": 62,
    "start_time": "2022-02-22T18:25:06.879Z"
   },
   {
    "duration": 21,
    "start_time": "2022-02-22T18:25:07.149Z"
   },
   {
    "duration": 230,
    "start_time": "2022-02-22T18:25:07.440Z"
   },
   {
    "duration": 7,
    "start_time": "2022-02-22T18:25:30.264Z"
   },
   {
    "duration": 59,
    "start_time": "2022-02-22T18:27:22.500Z"
   },
   {
    "duration": 20,
    "start_time": "2022-02-22T18:27:22.856Z"
   },
   {
    "duration": 6,
    "start_time": "2022-02-22T18:27:25.651Z"
   },
   {
    "duration": 61,
    "start_time": "2022-02-22T18:28:15.258Z"
   },
   {
    "duration": 22,
    "start_time": "2022-02-22T18:28:15.554Z"
   },
   {
    "duration": 6,
    "start_time": "2022-02-22T18:28:16.392Z"
   },
   {
    "duration": 6,
    "start_time": "2022-02-22T18:33:46.293Z"
   },
   {
    "duration": 111,
    "start_time": "2022-02-22T18:39:00.668Z"
   },
   {
    "duration": 317,
    "start_time": "2022-02-22T18:39:06.421Z"
   },
   {
    "duration": 7,
    "start_time": "2022-02-22T18:41:25.459Z"
   },
   {
    "duration": 15,
    "start_time": "2022-02-22T18:41:35.736Z"
   },
   {
    "duration": 337,
    "start_time": "2022-02-22T18:41:49.762Z"
   },
   {
    "duration": 9,
    "start_time": "2022-02-22T18:42:09.739Z"
   },
   {
    "duration": 9,
    "start_time": "2022-02-22T18:42:31.004Z"
   },
   {
    "duration": 1077,
    "start_time": "2022-02-23T11:05:41.443Z"
   },
   {
    "duration": 35,
    "start_time": "2022-02-23T11:05:43.527Z"
   },
   {
    "duration": 17,
    "start_time": "2022-02-23T11:05:43.902Z"
   },
   {
    "duration": 11,
    "start_time": "2022-02-23T11:05:44.243Z"
   },
   {
    "duration": 98,
    "start_time": "2022-02-23T11:06:30.959Z"
   },
   {
    "duration": 33,
    "start_time": "2022-02-23T11:06:31.253Z"
   },
   {
    "duration": 22,
    "start_time": "2022-02-23T11:06:31.566Z"
   },
   {
    "duration": 12,
    "start_time": "2022-02-23T11:08:04.324Z"
   },
   {
    "duration": 8,
    "start_time": "2022-02-23T11:08:16.605Z"
   },
   {
    "duration": 7,
    "start_time": "2022-02-23T11:08:42.050Z"
   },
   {
    "duration": 122,
    "start_time": "2022-02-23T11:09:17.704Z"
   },
   {
    "duration": 12,
    "start_time": "2022-02-23T11:09:32.825Z"
   },
   {
    "duration": 12,
    "start_time": "2022-02-23T11:09:50.879Z"
   },
   {
    "duration": 13,
    "start_time": "2022-02-23T11:17:30.238Z"
   },
   {
    "duration": 98,
    "start_time": "2022-02-23T11:18:24.353Z"
   },
   {
    "duration": 30,
    "start_time": "2022-02-23T11:18:24.623Z"
   },
   {
    "duration": 11,
    "start_time": "2022-02-23T11:18:24.994Z"
   },
   {
    "duration": 25,
    "start_time": "2022-02-23T11:20:44.029Z"
   },
   {
    "duration": 491,
    "start_time": "2022-02-23T11:21:18.169Z"
   },
   {
    "duration": 22,
    "start_time": "2022-02-23T11:21:31.354Z"
   },
   {
    "duration": 33,
    "start_time": "2022-02-23T11:22:07.624Z"
   },
   {
    "duration": 23,
    "start_time": "2022-02-23T11:23:17.251Z"
   },
   {
    "duration": 23,
    "start_time": "2022-02-23T11:23:27.452Z"
   },
   {
    "duration": 24,
    "start_time": "2022-02-23T11:25:07.759Z"
   },
   {
    "duration": 26,
    "start_time": "2022-02-23T11:26:04.774Z"
   },
   {
    "duration": 25,
    "start_time": "2022-02-23T11:29:34.861Z"
   },
   {
    "duration": 28,
    "start_time": "2022-02-23T11:29:56.208Z"
   },
   {
    "duration": 26,
    "start_time": "2022-02-23T11:35:29.451Z"
   },
   {
    "duration": 27,
    "start_time": "2022-02-23T11:36:01.636Z"
   },
   {
    "duration": 122,
    "start_time": "2022-02-23T11:44:01.331Z"
   },
   {
    "duration": 138,
    "start_time": "2022-02-23T11:44:09.536Z"
   },
   {
    "duration": 126,
    "start_time": "2022-02-23T11:44:16.624Z"
   },
   {
    "duration": 125,
    "start_time": "2022-02-23T11:44:21.706Z"
   },
   {
    "duration": 23,
    "start_time": "2022-02-23T11:44:36.957Z"
   },
   {
    "duration": 122,
    "start_time": "2022-02-23T11:45:16.874Z"
   },
   {
    "duration": 22,
    "start_time": "2022-02-23T11:45:24.837Z"
   },
   {
    "duration": 96,
    "start_time": "2022-02-23T11:45:31.124Z"
   },
   {
    "duration": 37,
    "start_time": "2022-02-23T11:45:31.695Z"
   },
   {
    "duration": 24,
    "start_time": "2022-02-23T11:45:31.994Z"
   },
   {
    "duration": 10,
    "start_time": "2022-02-23T11:45:32.324Z"
   },
   {
    "duration": 100,
    "start_time": "2022-02-23T11:47:41.024Z"
   },
   {
    "duration": 33,
    "start_time": "2022-02-23T11:47:41.321Z"
   },
   {
    "duration": 53,
    "start_time": "2022-02-23T11:47:41.618Z"
   },
   {
    "duration": 14,
    "start_time": "2022-02-23T11:47:41.910Z"
   },
   {
    "duration": 97,
    "start_time": "2022-02-23T11:48:13.203Z"
   },
   {
    "duration": 34,
    "start_time": "2022-02-23T11:48:13.465Z"
   },
   {
    "duration": 76,
    "start_time": "2022-02-23T11:48:13.753Z"
   },
   {
    "duration": 14,
    "start_time": "2022-02-23T11:48:14.042Z"
   },
   {
    "duration": 37,
    "start_time": "2022-02-23T11:50:29.832Z"
   },
   {
    "duration": 10,
    "start_time": "2022-02-23T11:50:37.051Z"
   },
   {
    "duration": 4712,
    "start_time": "2022-02-23T11:55:07.943Z"
   },
   {
    "duration": 97,
    "start_time": "2022-02-23T11:55:37.863Z"
   },
   {
    "duration": 42,
    "start_time": "2022-02-23T11:55:38.144Z"
   },
   {
    "duration": 4729,
    "start_time": "2022-02-23T11:55:38.467Z"
   },
   {
    "duration": 5320,
    "start_time": "2022-02-23T11:56:28.600Z"
   },
   {
    "duration": 5349,
    "start_time": "2022-02-23T11:56:39.411Z"
   },
   {
    "duration": 102,
    "start_time": "2022-02-23T11:56:47.163Z"
   },
   {
    "duration": 31,
    "start_time": "2022-02-23T11:56:47.475Z"
   },
   {
    "duration": 5367,
    "start_time": "2022-02-23T11:56:47.782Z"
   },
   {
    "duration": -61,
    "start_time": "2022-02-23T11:56:53.213Z"
   },
   {
    "duration": 382,
    "start_time": "2022-02-23T11:57:11.772Z"
   },
   {
    "duration": 475,
    "start_time": "2022-02-23T11:57:26.303Z"
   },
   {
    "duration": 116,
    "start_time": "2022-02-23T11:57:44.759Z"
   },
   {
    "duration": 30,
    "start_time": "2022-02-23T11:57:54.375Z"
   },
   {
    "duration": 25,
    "start_time": "2022-02-23T11:58:06.765Z"
   },
   {
    "duration": 9250,
    "start_time": "2022-02-23T11:59:04.824Z"
   },
   {
    "duration": 13,
    "start_time": "2022-02-23T11:59:43.002Z"
   },
   {
    "duration": 13,
    "start_time": "2022-02-23T11:59:55.172Z"
   },
   {
    "duration": 21,
    "start_time": "2022-02-23T12:00:18.951Z"
   },
   {
    "duration": 20,
    "start_time": "2022-02-23T12:03:12.491Z"
   },
   {
    "duration": 16,
    "start_time": "2022-02-23T12:05:17.020Z"
   },
   {
    "duration": 11,
    "start_time": "2022-02-23T12:08:57.249Z"
   },
   {
    "duration": 14,
    "start_time": "2022-02-23T12:12:26.740Z"
   },
   {
    "duration": 23,
    "start_time": "2022-02-23T12:13:41.124Z"
   },
   {
    "duration": 25,
    "start_time": "2022-02-23T12:15:42.491Z"
   },
   {
    "duration": 23,
    "start_time": "2022-02-23T12:15:55.884Z"
   },
   {
    "duration": 25,
    "start_time": "2022-02-23T12:17:20.363Z"
   },
   {
    "duration": 33,
    "start_time": "2022-02-23T12:33:57.109Z"
   },
   {
    "duration": 35,
    "start_time": "2022-02-23T12:34:38.068Z"
   },
   {
    "duration": 27,
    "start_time": "2022-02-23T12:34:56.457Z"
   },
   {
    "duration": 38,
    "start_time": "2022-02-23T12:36:46.883Z"
   },
   {
    "duration": 41,
    "start_time": "2022-02-23T12:44:01.352Z"
   },
   {
    "duration": 410,
    "start_time": "2022-02-23T12:44:21.488Z"
   },
   {
    "duration": 32,
    "start_time": "2022-02-23T12:44:21.901Z"
   },
   {
    "duration": 42,
    "start_time": "2022-02-23T12:44:22.250Z"
   },
   {
    "duration": 40,
    "start_time": "2022-02-23T12:46:29.744Z"
   },
   {
    "duration": 116,
    "start_time": "2022-02-23T12:47:01.796Z"
   },
   {
    "duration": 32,
    "start_time": "2022-02-23T12:47:02.082Z"
   },
   {
    "duration": 43,
    "start_time": "2022-02-23T12:47:02.396Z"
   },
   {
    "duration": 11,
    "start_time": "2022-02-23T12:47:02.714Z"
   },
   {
    "duration": 90,
    "start_time": "2022-02-23T12:48:50.296Z"
   },
   {
    "duration": 34,
    "start_time": "2022-02-23T12:48:50.584Z"
   },
   {
    "duration": 77,
    "start_time": "2022-02-23T12:48:50.882Z"
   },
   {
    "duration": 11,
    "start_time": "2022-02-23T12:48:51.194Z"
   },
   {
    "duration": 69,
    "start_time": "2022-02-23T12:50:06.232Z"
   },
   {
    "duration": 46,
    "start_time": "2022-02-23T12:51:24.141Z"
   },
   {
    "duration": 67,
    "start_time": "2022-02-23T12:52:38.080Z"
   },
   {
    "duration": 71,
    "start_time": "2022-02-23T12:53:00.241Z"
   },
   {
    "duration": 70,
    "start_time": "2022-02-23T12:53:40.098Z"
   },
   {
    "duration": 84,
    "start_time": "2022-02-23T12:54:52.546Z"
   },
   {
    "duration": 8989,
    "start_time": "2022-02-23T12:56:02.675Z"
   },
   {
    "duration": 10361,
    "start_time": "2022-02-23T12:56:18.904Z"
   },
   {
    "duration": 70,
    "start_time": "2022-02-23T12:56:37.100Z"
   },
   {
    "duration": 426,
    "start_time": "2022-02-23T12:56:49.523Z"
   },
   {
    "duration": 72,
    "start_time": "2022-02-23T12:57:02.365Z"
   },
   {
    "duration": 505,
    "start_time": "2022-02-23T12:57:32.534Z"
   },
   {
    "duration": 411,
    "start_time": "2022-02-23T12:58:08.678Z"
   },
   {
    "duration": 564,
    "start_time": "2022-02-23T12:58:15.884Z"
   },
   {
    "duration": 62,
    "start_time": "2022-02-23T12:58:28.815Z"
   },
   {
    "duration": 430,
    "start_time": "2022-02-23T12:59:00.180Z"
   },
   {
    "duration": 66,
    "start_time": "2022-02-23T12:59:35.601Z"
   },
   {
    "duration": 79,
    "start_time": "2022-02-23T13:00:14.248Z"
   },
   {
    "duration": 66,
    "start_time": "2022-02-23T13:02:22.542Z"
   },
   {
    "duration": 70,
    "start_time": "2022-02-23T13:03:23.069Z"
   },
   {
    "duration": 68,
    "start_time": "2022-02-23T13:03:30.596Z"
   },
   {
    "duration": 85,
    "start_time": "2022-02-23T13:04:29.846Z"
   },
   {
    "duration": 159,
    "start_time": "2022-02-23T13:10:26.770Z"
   },
   {
    "duration": 94,
    "start_time": "2022-02-23T13:11:31.650Z"
   },
   {
    "duration": 100,
    "start_time": "2022-02-23T13:12:03.540Z"
   },
   {
    "duration": 99,
    "start_time": "2022-02-23T13:12:11.867Z"
   },
   {
    "duration": 447,
    "start_time": "2022-02-23T13:12:37.340Z"
   },
   {
    "duration": 101,
    "start_time": "2022-02-23T13:13:00.119Z"
   },
   {
    "duration": 101,
    "start_time": "2022-02-23T13:14:00.468Z"
   },
   {
    "duration": 95,
    "start_time": "2022-02-23T13:15:26.384Z"
   },
   {
    "duration": 514,
    "start_time": "2022-02-23T13:18:19.850Z"
   },
   {
    "duration": 88,
    "start_time": "2022-02-23T13:20:47.276Z"
   },
   {
    "duration": 31,
    "start_time": "2022-02-23T13:20:47.530Z"
   },
   {
    "duration": 507,
    "start_time": "2022-02-23T13:20:47.838Z"
   },
   {
    "duration": 27,
    "start_time": "2022-02-23T13:20:58.109Z"
   },
   {
    "duration": 805,
    "start_time": "2022-02-23T13:23:11.990Z"
   },
   {
    "duration": 108,
    "start_time": "2022-02-23T13:23:30.543Z"
   },
   {
    "duration": 37,
    "start_time": "2022-02-23T13:23:36.047Z"
   },
   {
    "duration": 26,
    "start_time": "2022-02-23T13:25:46.178Z"
   },
   {
    "duration": 27,
    "start_time": "2022-02-23T13:25:52.316Z"
   },
   {
    "duration": 18,
    "start_time": "2022-02-23T13:27:56.128Z"
   },
   {
    "duration": 21,
    "start_time": "2022-02-23T13:28:10.383Z"
   },
   {
    "duration": 29,
    "start_time": "2022-02-23T13:28:50.632Z"
   },
   {
    "duration": 18,
    "start_time": "2022-02-23T13:29:19.773Z"
   },
   {
    "duration": 16,
    "start_time": "2022-02-23T13:29:30.963Z"
   },
   {
    "duration": 30,
    "start_time": "2022-02-23T13:29:37.334Z"
   },
   {
    "duration": 360,
    "start_time": "2022-02-23T13:31:40.023Z"
   },
   {
    "duration": 39,
    "start_time": "2022-02-23T13:32:56.305Z"
   },
   {
    "duration": 734,
    "start_time": "2022-02-25T08:15:18.471Z"
   },
   {
    "duration": 21,
    "start_time": "2022-02-25T08:15:19.207Z"
   },
   {
    "duration": 345,
    "start_time": "2022-02-25T08:15:19.230Z"
   },
   {
    "duration": 22,
    "start_time": "2022-02-25T08:15:19.578Z"
   },
   {
    "duration": 12,
    "start_time": "2022-02-25T08:22:49.098Z"
   },
   {
    "duration": 337,
    "start_time": "2022-02-25T08:40:57.518Z"
   },
   {
    "duration": 272,
    "start_time": "2022-02-25T08:43:10.084Z"
   },
   {
    "duration": 6670,
    "start_time": "2022-02-25T08:43:17.503Z"
   },
   {
    "duration": 326,
    "start_time": "2022-02-25T08:43:35.333Z"
   },
   {
    "duration": 278,
    "start_time": "2022-02-25T08:43:59.622Z"
   },
   {
    "duration": 83,
    "start_time": "2022-02-25T08:52:07.480Z"
   },
   {
    "duration": 24,
    "start_time": "2022-02-25T08:52:07.765Z"
   },
   {
    "duration": 317,
    "start_time": "2022-02-25T08:52:08.079Z"
   },
   {
    "duration": 22,
    "start_time": "2022-02-25T08:52:08.503Z"
   },
   {
    "duration": 14,
    "start_time": "2022-02-25T08:52:13.527Z"
   },
   {
    "duration": 12,
    "start_time": "2022-02-25T08:52:30.295Z"
   },
   {
    "duration": 16,
    "start_time": "2022-02-25T08:57:10.689Z"
   },
   {
    "duration": 33,
    "start_time": "2022-02-25T09:00:43.570Z"
   },
   {
    "duration": 27,
    "start_time": "2022-02-25T09:00:51.806Z"
   },
   {
    "duration": 526,
    "start_time": "2022-02-25T09:18:44.172Z"
   },
   {
    "duration": 19,
    "start_time": "2022-02-25T09:18:51.148Z"
   },
   {
    "duration": 511,
    "start_time": "2022-02-25T09:38:32.623Z"
   },
   {
    "duration": 254,
    "start_time": "2022-02-25T09:38:37.871Z"
   },
   {
    "duration": 247,
    "start_time": "2022-02-25T09:39:24.001Z"
   },
   {
    "duration": 65,
    "start_time": "2022-02-25T09:45:02.719Z"
   },
   {
    "duration": 32,
    "start_time": "2022-02-25T09:45:58.601Z"
   },
   {
    "duration": 91,
    "start_time": "2022-02-25T09:50:49.241Z"
   },
   {
    "duration": 97,
    "start_time": "2022-02-25T09:51:59.147Z"
   },
   {
    "duration": 87,
    "start_time": "2022-02-25T09:52:08.625Z"
   },
   {
    "duration": 25,
    "start_time": "2022-02-25T09:53:21.676Z"
   },
   {
    "duration": 25,
    "start_time": "2022-02-25T09:53:36.019Z"
   },
   {
    "duration": 26,
    "start_time": "2022-02-25T09:54:36.737Z"
   },
   {
    "duration": 26,
    "start_time": "2022-02-25T09:55:26.662Z"
   },
   {
    "duration": 24,
    "start_time": "2022-02-25T09:55:44.715Z"
   },
   {
    "duration": 71,
    "start_time": "2022-02-25T09:55:52.988Z"
   },
   {
    "duration": 26,
    "start_time": "2022-02-25T09:55:54.301Z"
   },
   {
    "duration": 61,
    "start_time": "2022-02-25T09:56:20.221Z"
   },
   {
    "duration": 26,
    "start_time": "2022-02-25T09:56:20.528Z"
   },
   {
    "duration": 27,
    "start_time": "2022-02-25T09:58:42.865Z"
   },
   {
    "duration": 19,
    "start_time": "2022-02-25T09:59:07.870Z"
   },
   {
    "duration": 2131,
    "start_time": "2022-02-25T09:59:15.294Z"
   },
   {
    "duration": 26,
    "start_time": "2022-02-25T09:59:17.427Z"
   },
   {
    "duration": 18,
    "start_time": "2022-02-25T10:00:40.324Z"
   },
   {
    "duration": 74,
    "start_time": "2022-02-25T10:00:45.248Z"
   },
   {
    "duration": 20,
    "start_time": "2022-02-25T10:00:45.577Z"
   },
   {
    "duration": 26,
    "start_time": "2022-02-25T10:00:54.118Z"
   },
   {
    "duration": 66,
    "start_time": "2022-02-25T10:01:00.079Z"
   },
   {
    "duration": 29,
    "start_time": "2022-02-25T10:01:00.390Z"
   },
   {
    "duration": 31,
    "start_time": "2022-02-25T11:08:50.188Z"
   },
   {
    "duration": 74,
    "start_time": "2022-02-25T11:09:06.250Z"
   },
   {
    "duration": 30,
    "start_time": "2022-02-25T11:09:06.546Z"
   },
   {
    "duration": 71,
    "start_time": "2022-02-25T11:09:06.892Z"
   },
   {
    "duration": 64,
    "start_time": "2022-02-25T11:10:46.326Z"
   },
   {
    "duration": 29,
    "start_time": "2022-02-25T11:10:48.064Z"
   },
   {
    "duration": 63,
    "start_time": "2022-02-25T11:12:02.446Z"
   },
   {
    "duration": 27,
    "start_time": "2022-02-25T11:12:02.744Z"
   },
   {
    "duration": 28,
    "start_time": "2022-02-25T11:13:46.139Z"
   },
   {
    "duration": 64,
    "start_time": "2022-02-25T11:13:50.356Z"
   },
   {
    "duration": 29,
    "start_time": "2022-02-25T11:13:51.409Z"
   },
   {
    "duration": 877,
    "start_time": "2022-02-25T18:25:54.800Z"
   },
   {
    "duration": 40,
    "start_time": "2022-02-25T18:25:55.683Z"
   },
   {
    "duration": 72,
    "start_time": "2022-02-25T18:44:40.664Z"
   },
   {
    "duration": 45,
    "start_time": "2022-02-25T18:45:01.885Z"
   },
   {
    "duration": 89,
    "start_time": "2022-02-25T18:49:56.047Z"
   },
   {
    "duration": 49,
    "start_time": "2022-02-25T18:49:56.452Z"
   },
   {
    "duration": 89,
    "start_time": "2022-02-25T18:51:39.467Z"
   },
   {
    "duration": 104,
    "start_time": "2022-02-25T19:04:55.056Z"
   },
   {
    "duration": 105,
    "start_time": "2022-02-25T19:28:02.185Z"
   },
   {
    "duration": 66,
    "start_time": "2022-02-25T19:28:02.429Z"
   },
   {
    "duration": 207,
    "start_time": "2022-02-25T19:28:02.720Z"
   },
   {
    "duration": 46,
    "start_time": "2022-02-25T19:28:03.006Z"
   },
   {
    "duration": 30,
    "start_time": "2022-02-25T19:28:03.353Z"
   },
   {
    "duration": 59,
    "start_time": "2022-02-25T19:28:05.112Z"
   },
   {
    "duration": 89,
    "start_time": "2022-02-25T19:29:18.679Z"
   },
   {
    "duration": 47,
    "start_time": "2022-02-25T19:29:18.962Z"
   },
   {
    "duration": 137,
    "start_time": "2022-02-25T19:29:19.258Z"
   },
   {
    "duration": 28,
    "start_time": "2022-02-25T19:29:19.558Z"
   },
   {
    "duration": 32,
    "start_time": "2022-02-25T19:29:20.457Z"
   },
   {
    "duration": 31,
    "start_time": "2022-02-25T19:30:13.747Z"
   },
   {
    "duration": 88,
    "start_time": "2022-02-25T19:30:17.177Z"
   },
   {
    "duration": 50,
    "start_time": "2022-02-25T19:30:17.450Z"
   },
   {
    "duration": 149,
    "start_time": "2022-02-25T19:30:17.748Z"
   },
   {
    "duration": 38,
    "start_time": "2022-02-25T19:30:18.228Z"
   },
   {
    "duration": 34,
    "start_time": "2022-02-25T19:30:19.296Z"
   },
   {
    "duration": 510,
    "start_time": "2022-02-25T19:30:42.019Z"
   },
   {
    "duration": 29,
    "start_time": "2022-02-25T19:30:57.609Z"
   },
   {
    "duration": 79,
    "start_time": "2022-02-25T19:31:03.482Z"
   },
   {
    "duration": 45,
    "start_time": "2022-02-25T19:31:03.764Z"
   },
   {
    "duration": 139,
    "start_time": "2022-02-25T19:31:04.080Z"
   },
   {
    "duration": 28,
    "start_time": "2022-02-25T19:31:04.388Z"
   },
   {
    "duration": 30,
    "start_time": "2022-02-25T19:31:05.516Z"
   },
   {
    "duration": 19,
    "start_time": "2022-02-25T19:40:39.738Z"
   },
   {
    "duration": 495,
    "start_time": "2022-02-25T19:43:38.261Z"
   },
   {
    "duration": 392,
    "start_time": "2022-02-25T19:43:51.244Z"
   },
   {
    "duration": 388,
    "start_time": "2022-02-25T19:44:00.608Z"
   },
   {
    "duration": 421,
    "start_time": "2022-02-25T19:47:31.051Z"
   },
   {
    "duration": 10165,
    "start_time": "2022-02-25T19:52:14.572Z"
   },
   {
    "duration": 9299,
    "start_time": "2022-02-25T19:53:06.887Z"
   },
   {
    "duration": 7,
    "start_time": "2022-02-25T19:54:16.477Z"
   },
   {
    "duration": 10231,
    "start_time": "2022-02-25T19:54:23.522Z"
   },
   {
    "duration": 9721,
    "start_time": "2022-02-25T19:54:52.173Z"
   },
   {
    "duration": 15,
    "start_time": "2022-02-25T19:56:21.061Z"
   },
   {
    "duration": 478,
    "start_time": "2022-02-25T19:56:34.581Z"
   },
   {
    "duration": 15,
    "start_time": "2022-02-25T19:56:53.177Z"
   },
   {
    "duration": 344,
    "start_time": "2022-02-25T22:07:45.044Z"
   },
   {
    "duration": 945,
    "start_time": "2022-02-25T22:07:50.087Z"
   },
   {
    "duration": 49,
    "start_time": "2022-02-25T22:07:51.035Z"
   },
   {
    "duration": 177,
    "start_time": "2022-02-25T22:07:51.087Z"
   },
   {
    "duration": 32,
    "start_time": "2022-02-25T22:07:51.267Z"
   },
   {
    "duration": 53,
    "start_time": "2022-02-25T22:07:51.301Z"
   },
   {
    "duration": 43,
    "start_time": "2022-02-25T22:07:51.525Z"
   },
   {
    "duration": 886,
    "start_time": "2022-02-25T22:07:51.829Z"
   },
   {
    "duration": 429,
    "start_time": "2022-02-25T22:07:52.718Z"
   },
   {
    "duration": 18,
    "start_time": "2022-02-25T22:07:53.150Z"
   },
   {
    "duration": 348,
    "start_time": "2022-02-25T22:07:53.171Z"
   },
   {
    "duration": 279,
    "start_time": "2022-02-25T22:08:07.208Z"
   },
   {
    "duration": 92,
    "start_time": "2022-02-25T22:08:54.588Z"
   },
   {
    "duration": 102,
    "start_time": "2022-02-25T22:09:08.381Z"
   },
   {
    "duration": 265,
    "start_time": "2022-02-25T22:09:12.454Z"
   },
   {
    "duration": 34,
    "start_time": "2022-02-25T22:09:36.907Z"
   },
   {
    "duration": 5047,
    "start_time": "2022-02-25T22:15:08.788Z"
   },
   {
    "duration": 33,
    "start_time": "2022-02-25T22:19:42.471Z"
   },
   {
    "duration": 5567,
    "start_time": "2022-02-25T22:19:58.367Z"
   },
   {
    "duration": 28,
    "start_time": "2022-02-25T22:20:59.841Z"
   },
   {
    "duration": 32,
    "start_time": "2022-02-25T22:21:07.776Z"
   },
   {
    "duration": 6106,
    "start_time": "2022-02-25T22:21:18.014Z"
   },
   {
    "duration": 35,
    "start_time": "2022-02-25T22:21:24.963Z"
   },
   {
    "duration": 29,
    "start_time": "2022-02-25T22:21:30.489Z"
   },
   {
    "duration": 38,
    "start_time": "2022-02-25T22:22:10.167Z"
   },
   {
    "duration": 38,
    "start_time": "2022-02-25T22:23:14.898Z"
   },
   {
    "duration": 35,
    "start_time": "2022-02-25T22:23:23.430Z"
   },
   {
    "duration": 49,
    "start_time": "2022-02-25T22:24:58.668Z"
   },
   {
    "duration": 53,
    "start_time": "2022-02-25T22:26:32.835Z"
   },
   {
    "duration": 39,
    "start_time": "2022-02-25T22:28:55.824Z"
   },
   {
    "duration": 360,
    "start_time": "2022-02-25T22:33:37.177Z"
   },
   {
    "duration": 34,
    "start_time": "2022-02-25T22:34:02.008Z"
   },
   {
    "duration": 49,
    "start_time": "2022-02-25T22:39:49.160Z"
   },
   {
    "duration": 314,
    "start_time": "2022-02-25T22:42:45.916Z"
   },
   {
    "duration": 56,
    "start_time": "2022-02-25T22:43:22.653Z"
   },
   {
    "duration": 56,
    "start_time": "2022-02-25T22:43:28.516Z"
   },
   {
    "duration": 49,
    "start_time": "2022-02-25T22:44:49.292Z"
   },
   {
    "duration": 59,
    "start_time": "2022-02-25T22:44:53.212Z"
   },
   {
    "duration": 6848,
    "start_time": "2022-02-25T22:46:55.163Z"
   },
   {
    "duration": 59,
    "start_time": "2022-02-25T22:47:08.604Z"
   },
   {
    "duration": 606,
    "start_time": "2022-02-25T22:48:03.120Z"
   },
   {
    "duration": 346,
    "start_time": "2022-02-25T22:49:02.316Z"
   },
   {
    "duration": 468,
    "start_time": "2022-02-25T22:50:05.360Z"
   },
   {
    "duration": 58,
    "start_time": "2022-02-25T22:50:10.035Z"
   },
   {
    "duration": 325,
    "start_time": "2022-02-25T22:50:27.253Z"
   },
   {
    "duration": 62,
    "start_time": "2022-02-25T22:50:39.650Z"
   },
   {
    "duration": 59,
    "start_time": "2022-02-25T22:51:26.551Z"
   },
   {
    "duration": 60,
    "start_time": "2022-02-25T22:51:44.980Z"
   },
   {
    "duration": 327,
    "start_time": "2022-02-25T22:52:48.118Z"
   },
   {
    "duration": 60,
    "start_time": "2022-02-25T22:53:00.671Z"
   },
   {
    "duration": 65,
    "start_time": "2022-02-25T22:53:22.950Z"
   },
   {
    "duration": 77,
    "start_time": "2022-02-25T22:54:07.557Z"
   },
   {
    "duration": 7428,
    "start_time": "2022-02-25T22:54:43.543Z"
   },
   {
    "duration": 83,
    "start_time": "2022-02-25T22:54:58.724Z"
   },
   {
    "duration": 94,
    "start_time": "2022-02-25T22:58:32.803Z"
   },
   {
    "duration": 81,
    "start_time": "2022-02-25T22:59:13.930Z"
   },
   {
    "duration": 79,
    "start_time": "2022-02-25T23:01:17.750Z"
   },
   {
    "duration": 82,
    "start_time": "2022-02-25T23:01:38.857Z"
   },
   {
    "duration": 110,
    "start_time": "2022-02-25T23:09:01.093Z"
   },
   {
    "duration": 79,
    "start_time": "2022-02-25T23:09:06.033Z"
   },
   {
    "duration": 94,
    "start_time": "2022-02-25T23:19:35.861Z"
   },
   {
    "duration": 94,
    "start_time": "2022-02-25T23:19:53.665Z"
   },
   {
    "duration": 96,
    "start_time": "2022-02-25T23:20:15.289Z"
   },
   {
    "duration": 100,
    "start_time": "2022-02-25T23:20:55.508Z"
   },
   {
    "duration": 107,
    "start_time": "2022-02-25T23:21:16.408Z"
   },
   {
    "duration": 104,
    "start_time": "2022-02-25T23:21:27.047Z"
   },
   {
    "duration": 638,
    "start_time": "2022-02-26T10:29:21.133Z"
   },
   {
    "duration": 29,
    "start_time": "2022-02-26T10:29:21.773Z"
   },
   {
    "duration": 103,
    "start_time": "2022-02-26T10:29:21.804Z"
   },
   {
    "duration": 18,
    "start_time": "2022-02-26T10:29:21.920Z"
   },
   {
    "duration": 19,
    "start_time": "2022-02-26T10:29:22.195Z"
   },
   {
    "duration": 25,
    "start_time": "2022-02-26T10:29:22.486Z"
   },
   {
    "duration": 466,
    "start_time": "2022-02-26T10:29:22.790Z"
   },
   {
    "duration": 221,
    "start_time": "2022-02-26T10:29:23.257Z"
   },
   {
    "duration": 10,
    "start_time": "2022-02-26T10:29:23.479Z"
   },
   {
    "duration": 71,
    "start_time": "2022-02-26T10:29:23.491Z"
   },
   {
    "duration": 57,
    "start_time": "2022-02-26T10:31:15.331Z"
   },
   {
    "duration": 55,
    "start_time": "2022-02-26T10:37:16.734Z"
   },
   {
    "duration": 58,
    "start_time": "2022-02-26T11:03:00.658Z"
   },
   {
    "duration": 13,
    "start_time": "2022-02-26T11:03:04.392Z"
   },
   {
    "duration": 7,
    "start_time": "2022-02-26T11:03:26.089Z"
   },
   {
    "duration": 6,
    "start_time": "2022-02-26T11:03:50.961Z"
   },
   {
    "duration": 7,
    "start_time": "2022-02-26T11:08:53.954Z"
   },
   {
    "duration": 9,
    "start_time": "2022-02-26T11:09:01.786Z"
   },
   {
    "duration": 10,
    "start_time": "2022-02-26T11:10:22.278Z"
   },
   {
    "duration": 10,
    "start_time": "2022-02-26T11:11:11.226Z"
   },
   {
    "duration": 634,
    "start_time": "2022-02-26T12:23:04.527Z"
   },
   {
    "duration": 11,
    "start_time": "2022-02-26T12:23:52.698Z"
   },
   {
    "duration": 53,
    "start_time": "2022-02-26T12:26:17.153Z"
   },
   {
    "duration": 11,
    "start_time": "2022-02-26T12:26:20.148Z"
   },
   {
    "duration": 10,
    "start_time": "2022-02-26T12:27:06.214Z"
   },
   {
    "duration": 8,
    "start_time": "2022-02-26T12:27:06.832Z"
   },
   {
    "duration": 7,
    "start_time": "2022-02-26T12:28:02.337Z"
   },
   {
    "duration": 5,
    "start_time": "2022-02-26T12:28:46.790Z"
   },
   {
    "duration": 14,
    "start_time": "2022-02-26T12:30:03.189Z"
   },
   {
    "duration": 256,
    "start_time": "2022-02-26T12:30:23.550Z"
   },
   {
    "duration": 11,
    "start_time": "2022-02-26T12:30:38.110Z"
   },
   {
    "duration": 54,
    "start_time": "2022-02-26T12:31:07.407Z"
   },
   {
    "duration": 12,
    "start_time": "2022-02-26T12:31:07.828Z"
   },
   {
    "duration": 9,
    "start_time": "2022-02-26T12:31:08.150Z"
   },
   {
    "duration": 7,
    "start_time": "2022-02-26T12:31:10.377Z"
   },
   {
    "duration": 5,
    "start_time": "2022-02-26T12:31:13.645Z"
   },
   {
    "duration": 13,
    "start_time": "2022-02-26T12:31:14.715Z"
   },
   {
    "duration": 65,
    "start_time": "2022-02-26T12:31:42.152Z"
   },
   {
    "duration": 7,
    "start_time": "2022-02-26T12:31:48.386Z"
   },
   {
    "duration": 7,
    "start_time": "2022-02-26T12:32:34.015Z"
   },
   {
    "duration": 7,
    "start_time": "2022-02-26T12:33:17.473Z"
   },
   {
    "duration": 12,
    "start_time": "2022-02-26T12:33:41.224Z"
   },
   {
    "duration": 5,
    "start_time": "2022-02-26T12:33:45.890Z"
   },
   {
    "duration": 7,
    "start_time": "2022-02-26T12:34:37.907Z"
   },
   {
    "duration": 7,
    "start_time": "2022-02-26T12:35:41.691Z"
   },
   {
    "duration": 102,
    "start_time": "2022-02-26T12:36:20.563Z"
   },
   {
    "duration": 7,
    "start_time": "2022-02-26T12:36:55.238Z"
   },
   {
    "duration": 7,
    "start_time": "2022-02-26T12:37:02.125Z"
   },
   {
    "duration": 6,
    "start_time": "2022-02-26T12:37:06.518Z"
   },
   {
    "duration": 10,
    "start_time": "2022-02-26T12:37:40.713Z"
   },
   {
    "duration": 8,
    "start_time": "2022-02-26T12:37:47.546Z"
   },
   {
    "duration": 17,
    "start_time": "2022-02-26T12:37:56.189Z"
   },
   {
    "duration": 6,
    "start_time": "2022-02-26T12:38:01.637Z"
   },
   {
    "duration": 14,
    "start_time": "2022-02-26T12:38:04.287Z"
   },
   {
    "duration": 12,
    "start_time": "2022-02-26T12:38:24.817Z"
   },
   {
    "duration": 8,
    "start_time": "2022-02-26T12:38:31.899Z"
   },
   {
    "duration": 17,
    "start_time": "2022-02-26T12:38:41.530Z"
   },
   {
    "duration": 6,
    "start_time": "2022-02-26T12:38:50.826Z"
   },
   {
    "duration": 13,
    "start_time": "2022-02-26T12:38:52.279Z"
   },
   {
    "duration": 12,
    "start_time": "2022-02-26T12:39:04.095Z"
   },
   {
    "duration": 7,
    "start_time": "2022-02-26T12:39:05.727Z"
   },
   {
    "duration": 9,
    "start_time": "2022-02-26T12:39:08.070Z"
   },
   {
    "duration": 61,
    "start_time": "2022-02-26T12:39:10.529Z"
   },
   {
    "duration": 8,
    "start_time": "2022-02-26T12:39:10.695Z"
   },
   {
    "duration": 8,
    "start_time": "2022-02-26T12:39:16.006Z"
   },
   {
    "duration": 7,
    "start_time": "2022-02-26T12:39:18.312Z"
   },
   {
    "duration": 5,
    "start_time": "2022-02-26T12:39:20.567Z"
   },
   {
    "duration": 62,
    "start_time": "2022-02-26T12:39:23.325Z"
   },
   {
    "duration": 9,
    "start_time": "2022-02-26T12:39:30.378Z"
   },
   {
    "duration": 86,
    "start_time": "2022-02-26T12:39:47.522Z"
   },
   {
    "duration": 8,
    "start_time": "2022-02-26T12:39:47.996Z"
   },
   {
    "duration": 8,
    "start_time": "2022-02-26T12:39:52.141Z"
   },
   {
    "duration": 13,
    "start_time": "2022-02-26T12:40:50.604Z"
   },
   {
    "duration": 14,
    "start_time": "2022-02-26T12:40:50.918Z"
   },
   {
    "duration": 21,
    "start_time": "2022-02-26T12:41:04.290Z"
   },
   {
    "duration": 8,
    "start_time": "2022-02-26T12:41:25.232Z"
   },
   {
    "duration": 67,
    "start_time": "2022-02-26T12:41:25.242Z"
   },
   {
    "duration": 2068,
    "start_time": "2022-02-26T12:41:23.243Z"
   },
   {
    "duration": 2061,
    "start_time": "2022-02-26T12:41:23.251Z"
   },
   {
    "duration": 2059,
    "start_time": "2022-02-26T12:41:23.254Z"
   },
   {
    "duration": 8,
    "start_time": "2022-02-26T12:41:30.511Z"
   },
   {
    "duration": 9,
    "start_time": "2022-02-26T12:41:30.808Z"
   },
   {
    "duration": 58,
    "start_time": "2022-02-26T12:41:30.978Z"
   },
   {
    "duration": 13,
    "start_time": "2022-02-26T12:41:31.136Z"
   },
   {
    "duration": 178,
    "start_time": "2022-02-26T12:41:37.515Z"
   },
   {
    "duration": 177,
    "start_time": "2022-02-26T12:41:37.819Z"
   },
   {
    "duration": 294,
    "start_time": "2022-02-26T12:41:38.150Z"
   },
   {
    "duration": 51,
    "start_time": "2022-02-26T12:42:00.951Z"
   },
   {
    "duration": 11,
    "start_time": "2022-02-26T12:42:01.391Z"
   },
   {
    "duration": 10,
    "start_time": "2022-02-26T12:42:01.695Z"
   },
   {
    "duration": 7,
    "start_time": "2022-02-26T12:42:02.001Z"
   },
   {
    "duration": 5,
    "start_time": "2022-02-26T12:42:02.315Z"
   },
   {
    "duration": 13,
    "start_time": "2022-02-26T12:42:02.619Z"
   },
   {
    "duration": 7,
    "start_time": "2022-02-26T12:42:02.935Z"
   },
   {
    "duration": 7,
    "start_time": "2022-02-26T12:42:03.430Z"
   },
   {
    "duration": 11,
    "start_time": "2022-02-26T12:42:03.751Z"
   },
   {
    "duration": 6,
    "start_time": "2022-02-26T12:42:04.097Z"
   },
   {
    "duration": 7,
    "start_time": "2022-02-26T12:42:04.482Z"
   },
   {
    "duration": 8,
    "start_time": "2022-02-26T12:42:04.923Z"
   },
   {
    "duration": 6,
    "start_time": "2022-02-26T12:42:05.511Z"
   },
   {
    "duration": 10,
    "start_time": "2022-02-26T12:42:05.856Z"
   },
   {
    "duration": 7,
    "start_time": "2022-02-26T12:42:06.355Z"
   },
   {
    "duration": 16,
    "start_time": "2022-02-26T12:42:06.711Z"
   },
   {
    "duration": 6,
    "start_time": "2022-02-26T12:42:07.212Z"
   },
   {
    "duration": 13,
    "start_time": "2022-02-26T12:42:07.566Z"
   },
   {
    "duration": 8,
    "start_time": "2022-02-26T12:42:08.085Z"
   },
   {
    "duration": 21,
    "start_time": "2022-02-26T12:42:08.439Z"
   },
   {
    "duration": 6,
    "start_time": "2022-02-26T12:42:08.963Z"
   },
   {
    "duration": 14,
    "start_time": "2022-02-26T12:42:09.293Z"
   },
   {
    "duration": 7,
    "start_time": "2022-02-26T12:42:09.766Z"
   },
   {
    "duration": 8,
    "start_time": "2022-02-26T12:42:10.088Z"
   },
   {
    "duration": 9,
    "start_time": "2022-02-26T12:42:10.588Z"
   },
   {
    "duration": 7,
    "start_time": "2022-02-26T12:42:11.107Z"
   },
   {
    "duration": 7,
    "start_time": "2022-02-26T12:42:11.661Z"
   },
   {
    "duration": 9,
    "start_time": "2022-02-26T12:42:12.304Z"
   },
   {
    "duration": 9,
    "start_time": "2022-02-26T12:42:12.970Z"
   },
   {
    "duration": 17,
    "start_time": "2022-02-26T12:42:13.664Z"
   },
   {
    "duration": 31,
    "start_time": "2022-02-26T12:42:14.009Z"
   },
   {
    "duration": 98,
    "start_time": "2022-02-26T12:42:14.507Z"
   },
   {
    "duration": 13,
    "start_time": "2022-02-26T12:42:15.067Z"
   },
   {
    "duration": 13,
    "start_time": "2022-02-26T12:42:15.437Z"
   },
   {
    "duration": 51,
    "start_time": "2022-02-26T12:42:38.420Z"
   },
   {
    "duration": 10,
    "start_time": "2022-02-26T12:42:38.890Z"
   },
   {
    "duration": 14,
    "start_time": "2022-02-26T12:42:39.198Z"
   },
   {
    "duration": 6,
    "start_time": "2022-02-26T12:42:39.511Z"
   },
   {
    "duration": 5,
    "start_time": "2022-02-26T12:42:39.841Z"
   },
   {
    "duration": 12,
    "start_time": "2022-02-26T12:42:40.179Z"
   },
   {
    "duration": 7,
    "start_time": "2022-02-26T12:42:40.500Z"
   },
   {
    "duration": 8,
    "start_time": "2022-02-26T12:42:40.990Z"
   },
   {
    "duration": 12,
    "start_time": "2022-02-26T12:42:41.349Z"
   },
   {
    "duration": 6,
    "start_time": "2022-02-26T12:42:41.682Z"
   },
   {
    "duration": 7,
    "start_time": "2022-02-26T12:42:42.036Z"
   },
   {
    "duration": 7,
    "start_time": "2022-02-26T12:42:42.404Z"
   },
   {
    "duration": 6,
    "start_time": "2022-02-26T12:42:42.957Z"
   },
   {
    "duration": 10,
    "start_time": "2022-02-26T12:42:43.417Z"
   },
   {
    "duration": 7,
    "start_time": "2022-02-26T12:42:44.051Z"
   },
   {
    "duration": 17,
    "start_time": "2022-02-26T12:42:44.653Z"
   },
   {
    "duration": 6,
    "start_time": "2022-02-26T12:42:45.165Z"
   },
   {
    "duration": 13,
    "start_time": "2022-02-26T12:42:45.522Z"
   },
   {
    "duration": 8,
    "start_time": "2022-02-26T12:42:46.018Z"
   },
   {
    "duration": 17,
    "start_time": "2022-02-26T12:42:46.372Z"
   },
   {
    "duration": 6,
    "start_time": "2022-02-26T12:42:46.937Z"
   },
   {
    "duration": 13,
    "start_time": "2022-02-26T12:42:47.295Z"
   },
   {
    "duration": 7,
    "start_time": "2022-02-26T12:42:47.899Z"
   },
   {
    "duration": 9,
    "start_time": "2022-02-26T12:42:48.275Z"
   },
   {
    "duration": 7,
    "start_time": "2022-02-26T12:42:48.841Z"
   },
   {
    "duration": 8,
    "start_time": "2022-02-26T12:42:49.405Z"
   },
   {
    "duration": 7,
    "start_time": "2022-02-26T12:42:50.068Z"
   },
   {
    "duration": 8,
    "start_time": "2022-02-26T12:42:50.722Z"
   },
   {
    "duration": 7,
    "start_time": "2022-02-26T12:42:51.227Z"
   },
   {
    "duration": 17,
    "start_time": "2022-02-26T12:42:51.784Z"
   },
   {
    "duration": 33,
    "start_time": "2022-02-26T12:42:52.238Z"
   },
   {
    "duration": 11,
    "start_time": "2022-02-26T12:42:53.167Z"
   },
   {
    "duration": 13,
    "start_time": "2022-02-26T12:42:53.584Z"
   },
   {
    "duration": 20,
    "start_time": "2022-02-26T12:42:53.930Z"
   },
   {
    "duration": 7,
    "start_time": "2022-02-26T12:42:54.466Z"
   },
   {
    "duration": 8,
    "start_time": "2022-02-26T12:42:54.880Z"
   },
   {
    "duration": 12,
    "start_time": "2022-02-26T12:43:02.558Z"
   },
   {
    "duration": 65,
    "start_time": "2022-02-26T12:43:07.024Z"
   },
   {
    "duration": 493,
    "start_time": "2022-02-26T12:43:07.351Z"
   },
   {
    "duration": 491,
    "start_time": "2022-02-26T12:43:25.198Z"
   },
   {
    "duration": 226,
    "start_time": "2022-02-26T12:43:25.888Z"
   },
   {
    "duration": 12,
    "start_time": "2022-02-26T12:43:26.115Z"
   },
   {
    "duration": 18,
    "start_time": "2022-02-26T12:43:26.251Z"
   },
   {
    "duration": 19,
    "start_time": "2022-02-26T12:43:26.820Z"
   },
   {
    "duration": 24,
    "start_time": "2022-02-26T12:43:27.337Z"
   },
   {
    "duration": 19,
    "start_time": "2022-02-26T12:43:27.874Z"
   },
   {
    "duration": 20,
    "start_time": "2022-02-26T12:43:28.484Z"
   },
   {
    "duration": 178,
    "start_time": "2022-02-26T12:44:39.736Z"
   },
   {
    "duration": 54,
    "start_time": "2022-02-26T12:45:01.751Z"
   },
   {
    "duration": 10,
    "start_time": "2022-02-26T12:45:02.179Z"
   },
   {
    "duration": 10,
    "start_time": "2022-02-26T12:45:02.457Z"
   },
   {
    "duration": 7,
    "start_time": "2022-02-26T12:45:02.751Z"
   },
   {
    "duration": 10,
    "start_time": "2022-02-26T12:45:03.043Z"
   },
   {
    "duration": 13,
    "start_time": "2022-02-26T12:45:03.331Z"
   },
   {
    "duration": 7,
    "start_time": "2022-02-26T12:45:03.622Z"
   },
   {
    "duration": 8,
    "start_time": "2022-02-26T12:45:04.079Z"
   },
   {
    "duration": 18,
    "start_time": "2022-02-26T12:45:04.377Z"
   },
   {
    "duration": 6,
    "start_time": "2022-02-26T12:45:04.680Z"
   },
   {
    "duration": 8,
    "start_time": "2022-02-26T12:45:04.969Z"
   },
   {
    "duration": 8,
    "start_time": "2022-02-26T12:45:05.258Z"
   },
   {
    "duration": 7,
    "start_time": "2022-02-26T12:45:05.692Z"
   },
   {
    "duration": 10,
    "start_time": "2022-02-26T12:45:05.981Z"
   },
   {
    "duration": 6,
    "start_time": "2022-02-26T12:45:06.295Z"
   },
   {
    "duration": 9,
    "start_time": "2022-02-26T12:45:06.637Z"
   },
   {
    "duration": 6,
    "start_time": "2022-02-26T12:45:06.968Z"
   },
   {
    "duration": 9,
    "start_time": "2022-02-26T12:45:07.307Z"
   },
   {
    "duration": 9,
    "start_time": "2022-02-26T12:45:07.965Z"
   },
   {
    "duration": 25,
    "start_time": "2022-02-26T12:45:08.295Z"
   },
   {
    "duration": 6,
    "start_time": "2022-02-26T12:45:08.761Z"
   },
   {
    "duration": 12,
    "start_time": "2022-02-26T12:45:09.074Z"
   },
   {
    "duration": 8,
    "start_time": "2022-02-26T12:45:09.532Z"
   },
   {
    "duration": 18,
    "start_time": "2022-02-26T12:45:09.845Z"
   },
   {
    "duration": 6,
    "start_time": "2022-02-26T12:45:11.333Z"
   },
   {
    "duration": 17,
    "start_time": "2022-02-26T12:45:11.341Z"
   },
   {
    "duration": 6,
    "start_time": "2022-02-26T12:45:11.360Z"
   },
   {
    "duration": 13,
    "start_time": "2022-02-26T12:45:11.367Z"
   },
   {
    "duration": 7,
    "start_time": "2022-02-26T12:45:11.789Z"
   },
   {
    "duration": 6,
    "start_time": "2022-02-26T12:45:12.263Z"
   },
   {
    "duration": 5,
    "start_time": "2022-02-26T12:45:12.769Z"
   },
   {
    "duration": 8,
    "start_time": "2022-02-26T12:45:13.292Z"
   },
   {
    "duration": 8,
    "start_time": "2022-02-26T12:45:13.783Z"
   },
   {
    "duration": 11,
    "start_time": "2022-02-26T12:45:15.115Z"
   },
   {
    "duration": 13,
    "start_time": "2022-02-26T12:45:15.316Z"
   },
   {
    "duration": 20,
    "start_time": "2022-02-26T12:45:15.679Z"
   },
   {
    "duration": 11,
    "start_time": "2022-02-26T12:45:16.216Z"
   },
   {
    "duration": 12,
    "start_time": "2022-02-26T12:45:16.579Z"
   },
   {
    "duration": 13,
    "start_time": "2022-02-26T12:45:16.915Z"
   },
   {
    "duration": 488,
    "start_time": "2022-02-26T12:45:17.389Z"
   },
   {
    "duration": 222,
    "start_time": "2022-02-26T12:45:17.897Z"
   },
   {
    "duration": 12,
    "start_time": "2022-02-26T12:45:18.120Z"
   },
   {
    "duration": 18,
    "start_time": "2022-02-26T12:45:18.230Z"
   },
   {
    "duration": 20,
    "start_time": "2022-02-26T12:45:18.786Z"
   },
   {
    "duration": 24,
    "start_time": "2022-02-26T12:45:19.396Z"
   },
   {
    "duration": 18,
    "start_time": "2022-02-26T12:45:20.120Z"
   },
   {
    "duration": 20,
    "start_time": "2022-02-26T12:45:20.882Z"
   },
   {
    "duration": 49,
    "start_time": "2022-02-26T13:17:32.929Z"
   },
   {
    "duration": 10,
    "start_time": "2022-02-26T13:17:33.365Z"
   },
   {
    "duration": 10,
    "start_time": "2022-02-26T13:17:33.647Z"
   },
   {
    "duration": 7,
    "start_time": "2022-02-26T13:17:33.934Z"
   },
   {
    "duration": 6,
    "start_time": "2022-02-26T13:17:34.234Z"
   },
   {
    "duration": 13,
    "start_time": "2022-02-26T13:17:34.494Z"
   },
   {
    "duration": 8,
    "start_time": "2022-02-26T13:17:34.790Z"
   },
   {
    "duration": 7,
    "start_time": "2022-02-26T13:17:35.240Z"
   },
   {
    "duration": 12,
    "start_time": "2022-02-26T13:17:35.529Z"
   },
   {
    "duration": 6,
    "start_time": "2022-02-26T13:17:35.995Z"
   },
   {
    "duration": 7,
    "start_time": "2022-02-26T13:17:36.293Z"
   },
   {
    "duration": 9,
    "start_time": "2022-02-26T13:17:36.598Z"
   },
   {
    "duration": 7,
    "start_time": "2022-02-26T13:17:36.896Z"
   },
   {
    "duration": 9,
    "start_time": "2022-02-26T13:17:37.195Z"
   },
   {
    "duration": 6,
    "start_time": "2022-02-26T13:17:37.531Z"
   },
   {
    "duration": 9,
    "start_time": "2022-02-26T13:17:37.868Z"
   },
   {
    "duration": 5,
    "start_time": "2022-02-26T13:17:38.205Z"
   },
   {
    "duration": 9,
    "start_time": "2022-02-26T13:17:38.563Z"
   },
   {
    "duration": 6,
    "start_time": "2022-02-26T13:17:38.902Z"
   },
   {
    "duration": 10,
    "start_time": "2022-02-26T13:17:39.280Z"
   },
   {
    "duration": 7,
    "start_time": "2022-02-26T13:17:39.724Z"
   },
   {
    "duration": 17,
    "start_time": "2022-02-26T13:17:40.229Z"
   },
   {
    "duration": 5,
    "start_time": "2022-02-26T13:17:40.633Z"
   },
   {
    "duration": 12,
    "start_time": "2022-02-26T13:17:40.984Z"
   },
   {
    "duration": 7,
    "start_time": "2022-02-26T13:17:41.370Z"
   },
   {
    "duration": 18,
    "start_time": "2022-02-26T13:17:41.780Z"
   },
   {
    "duration": 6,
    "start_time": "2022-02-26T13:17:42.157Z"
   },
   {
    "duration": 14,
    "start_time": "2022-02-26T13:17:42.585Z"
   },
   {
    "duration": 7,
    "start_time": "2022-02-26T13:17:43.018Z"
   },
   {
    "duration": 8,
    "start_time": "2022-02-26T13:17:43.628Z"
   },
   {
    "duration": 7,
    "start_time": "2022-02-26T13:17:44.035Z"
   },
   {
    "duration": 7,
    "start_time": "2022-02-26T13:17:44.377Z"
   },
   {
    "duration": 6,
    "start_time": "2022-02-26T13:17:44.754Z"
   },
   {
    "duration": 9,
    "start_time": "2022-02-26T13:17:45.114Z"
   },
   {
    "duration": 7,
    "start_time": "2022-02-26T13:17:45.460Z"
   },
   {
    "duration": 12,
    "start_time": "2022-02-26T13:17:46.007Z"
   },
   {
    "duration": 14,
    "start_time": "2022-02-26T13:17:46.378Z"
   },
   {
    "duration": 21,
    "start_time": "2022-02-26T13:17:46.771Z"
   },
   {
    "duration": 11,
    "start_time": "2022-02-26T13:17:47.382Z"
   },
   {
    "duration": 12,
    "start_time": "2022-02-26T13:17:47.960Z"
   },
   {
    "duration": 12,
    "start_time": "2022-02-26T13:17:48.314Z"
   },
   {
    "duration": 487,
    "start_time": "2022-02-26T13:17:48.826Z"
   },
   {
    "duration": 229,
    "start_time": "2022-02-26T13:17:49.711Z"
   },
   {
    "duration": 13,
    "start_time": "2022-02-26T13:17:50.280Z"
   },
   {
    "duration": 19,
    "start_time": "2022-02-26T13:17:50.468Z"
   },
   {
    "duration": 12,
    "start_time": "2022-02-26T13:18:07.067Z"
   },
   {
    "duration": 21,
    "start_time": "2022-02-26T13:18:07.515Z"
   },
   {
    "duration": 23,
    "start_time": "2022-02-26T13:18:07.982Z"
   },
   {
    "duration": 20,
    "start_time": "2022-02-26T13:18:08.460Z"
   },
   {
    "duration": 20,
    "start_time": "2022-02-26T13:18:08.967Z"
   },
   {
    "duration": 55,
    "start_time": "2022-02-26T13:33:15.655Z"
   },
   {
    "duration": 10,
    "start_time": "2022-02-26T13:33:16.071Z"
   },
   {
    "duration": 9,
    "start_time": "2022-02-26T13:33:16.358Z"
   },
   {
    "duration": 7,
    "start_time": "2022-02-26T13:33:16.648Z"
   },
   {
    "duration": 5,
    "start_time": "2022-02-26T13:33:16.945Z"
   },
   {
    "duration": 14,
    "start_time": "2022-02-26T13:33:17.237Z"
   },
   {
    "duration": 9,
    "start_time": "2022-02-26T13:33:17.520Z"
   },
   {
    "duration": 10,
    "start_time": "2022-02-26T13:33:17.791Z"
   },
   {
    "duration": 13,
    "start_time": "2022-02-26T13:33:18.075Z"
   },
   {
    "duration": 6,
    "start_time": "2022-02-26T13:33:18.487Z"
   },
   {
    "duration": 9,
    "start_time": "2022-02-26T13:33:18.781Z"
   },
   {
    "duration": 8,
    "start_time": "2022-02-26T13:33:19.083Z"
   },
   {
    "duration": 7,
    "start_time": "2022-02-26T13:33:19.389Z"
   },
   {
    "duration": 9,
    "start_time": "2022-02-26T13:33:19.694Z"
   },
   {
    "duration": 7,
    "start_time": "2022-02-26T13:33:20.016Z"
   },
   {
    "duration": 10,
    "start_time": "2022-02-26T13:33:20.361Z"
   },
   {
    "duration": 7,
    "start_time": "2022-02-26T13:33:20.672Z"
   },
   {
    "duration": 10,
    "start_time": "2022-02-26T13:33:20.978Z"
   },
   {
    "duration": 8,
    "start_time": "2022-02-26T13:33:21.468Z"
   },
   {
    "duration": 15,
    "start_time": "2022-02-26T13:33:21.741Z"
   },
   {
    "duration": 5,
    "start_time": "2022-02-26T13:33:22.064Z"
   },
   {
    "duration": 13,
    "start_time": "2022-02-26T13:33:22.368Z"
   },
   {
    "duration": 7,
    "start_time": "2022-02-26T13:33:22.690Z"
   },
   {
    "duration": 18,
    "start_time": "2022-02-26T13:33:23.003Z"
   },
   {
    "duration": 6,
    "start_time": "2022-02-26T13:33:23.292Z"
   },
   {
    "duration": 15,
    "start_time": "2022-02-26T13:33:23.613Z"
   },
   {
    "duration": 7,
    "start_time": "2022-02-26T13:33:23.935Z"
   },
   {
    "duration": 8,
    "start_time": "2022-02-26T13:33:24.257Z"
   },
   {
    "duration": 7,
    "start_time": "2022-02-26T13:33:24.578Z"
   },
   {
    "duration": 7,
    "start_time": "2022-02-26T13:33:24.890Z"
   },
   {
    "duration": 5,
    "start_time": "2022-02-26T13:33:25.235Z"
   },
   {
    "duration": 8,
    "start_time": "2022-02-26T13:33:25.553Z"
   },
   {
    "duration": 8,
    "start_time": "2022-02-26T13:33:25.932Z"
   },
   {
    "duration": 12,
    "start_time": "2022-02-26T13:33:26.426Z"
   },
   {
    "duration": 14,
    "start_time": "2022-02-26T13:33:26.772Z"
   },
   {
    "duration": 23,
    "start_time": "2022-02-26T13:33:27.091Z"
   },
   {
    "duration": 12,
    "start_time": "2022-02-26T13:33:27.559Z"
   },
   {
    "duration": 12,
    "start_time": "2022-02-26T13:33:27.887Z"
   },
   {
    "duration": 14,
    "start_time": "2022-02-26T13:33:28.216Z"
   },
   {
    "duration": 498,
    "start_time": "2022-02-26T13:33:28.732Z"
   },
   {
    "duration": 239,
    "start_time": "2022-02-26T13:33:29.231Z"
   },
   {
    "duration": 11,
    "start_time": "2022-02-26T13:33:29.472Z"
   },
   {
    "duration": 21,
    "start_time": "2022-02-26T13:33:29.857Z"
   },
   {
    "duration": 24,
    "start_time": "2022-02-26T13:33:30.517Z"
   },
   {
    "duration": 19,
    "start_time": "2022-02-26T13:33:31.173Z"
   },
   {
    "duration": 22,
    "start_time": "2022-02-26T13:33:31.986Z"
   },
   {
    "duration": 1025,
    "start_time": "2022-02-26T21:54:54.775Z"
   },
   {
    "duration": 22,
    "start_time": "2022-02-26T21:54:55.804Z"
   },
   {
    "duration": 16,
    "start_time": "2022-02-26T21:54:55.830Z"
   },
   {
    "duration": 12,
    "start_time": "2022-02-26T21:54:56.212Z"
   },
   {
    "duration": 9,
    "start_time": "2022-02-26T21:54:56.532Z"
   },
   {
    "duration": 27,
    "start_time": "2022-02-26T21:54:56.838Z"
   },
   {
    "duration": 12,
    "start_time": "2022-02-26T21:54:57.136Z"
   },
   {
    "duration": 13,
    "start_time": "2022-02-26T21:54:57.441Z"
   },
   {
    "duration": 23,
    "start_time": "2022-02-26T21:54:57.754Z"
   },
   {
    "duration": 10,
    "start_time": "2022-02-26T21:54:58.244Z"
   },
   {
    "duration": 10,
    "start_time": "2022-02-26T21:54:58.565Z"
   },
   {
    "duration": 14,
    "start_time": "2022-02-26T21:54:58.892Z"
   },
   {
    "duration": 9,
    "start_time": "2022-02-26T21:54:59.360Z"
   },
   {
    "duration": 14,
    "start_time": "2022-02-26T21:54:59.697Z"
   },
   {
    "duration": 9,
    "start_time": "2022-02-26T21:55:00.035Z"
   },
   {
    "duration": 24,
    "start_time": "2022-02-26T21:55:00.370Z"
   },
   {
    "duration": 8,
    "start_time": "2022-02-26T21:55:00.718Z"
   },
   {
    "duration": 17,
    "start_time": "2022-02-26T21:55:01.066Z"
   },
   {
    "duration": 10,
    "start_time": "2022-02-26T21:55:01.401Z"
   },
   {
    "duration": 28,
    "start_time": "2022-02-26T21:55:01.740Z"
   },
   {
    "duration": 9,
    "start_time": "2022-02-26T21:55:02.068Z"
   },
   {
    "duration": 20,
    "start_time": "2022-02-26T21:55:02.413Z"
   },
   {
    "duration": 11,
    "start_time": "2022-02-26T21:55:02.734Z"
   },
   {
    "duration": 12,
    "start_time": "2022-02-26T21:55:03.063Z"
   },
   {
    "duration": 10,
    "start_time": "2022-02-26T21:55:03.395Z"
   },
   {
    "duration": 10,
    "start_time": "2022-02-26T21:55:03.738Z"
   },
   {
    "duration": 10,
    "start_time": "2022-02-26T21:55:04.069Z"
   },
   {
    "duration": 12,
    "start_time": "2022-02-26T21:55:04.407Z"
   },
   {
    "duration": 11,
    "start_time": "2022-02-26T21:55:04.719Z"
   },
   {
    "duration": 17,
    "start_time": "2022-02-26T21:55:05.234Z"
   },
   {
    "duration": 18,
    "start_time": "2022-02-26T21:55:05.574Z"
   },
   {
    "duration": 28,
    "start_time": "2022-02-26T21:55:05.919Z"
   },
   {
    "duration": 20,
    "start_time": "2022-02-26T21:55:06.432Z"
   },
   {
    "duration": 22,
    "start_time": "2022-02-26T21:55:06.771Z"
   },
   {
    "duration": 19,
    "start_time": "2022-02-26T21:55:07.122Z"
   },
   {
    "duration": 840,
    "start_time": "2022-02-26T21:55:07.629Z"
   },
   {
    "duration": 382,
    "start_time": "2022-02-26T21:55:08.472Z"
   },
   {
    "duration": 27,
    "start_time": "2022-02-26T21:55:08.857Z"
   },
   {
    "duration": 38,
    "start_time": "2022-02-26T21:55:08.887Z"
   },
   {
    "duration": 37,
    "start_time": "2022-02-26T21:55:09.579Z"
   },
   {
    "duration": 30,
    "start_time": "2022-02-26T21:55:10.280Z"
   },
   {
    "duration": 31,
    "start_time": "2022-02-26T21:55:11.021Z"
   },
   {
    "duration": 66,
    "start_time": "2022-02-26T22:45:59.769Z"
   },
   {
    "duration": 69,
    "start_time": "2022-02-26T22:46:07.865Z"
   },
   {
    "duration": 17,
    "start_time": "2022-02-26T22:52:23.087Z"
   },
   {
    "duration": 13,
    "start_time": "2022-02-26T22:52:29.288Z"
   },
   {
    "duration": 68,
    "start_time": "2022-02-26T22:56:54.657Z"
   },
   {
    "duration": 14,
    "start_time": "2022-02-26T22:57:02.648Z"
   },
   {
    "duration": 13,
    "start_time": "2022-02-26T22:57:12.954Z"
   },
   {
    "duration": 10,
    "start_time": "2022-02-26T22:57:19.089Z"
   },
   {
    "duration": 23,
    "start_time": "2022-02-26T22:57:24.138Z"
   },
   {
    "duration": 8,
    "start_time": "2022-02-26T22:57:25.397Z"
   },
   {
    "duration": 17,
    "start_time": "2022-02-26T22:57:32.188Z"
   },
   {
    "duration": 10,
    "start_time": "2022-02-26T22:59:08.372Z"
   },
   {
    "duration": 25,
    "start_time": "2022-02-26T22:59:14.391Z"
   },
   {
    "duration": 9,
    "start_time": "2022-02-26T22:59:15.119Z"
   },
   {
    "duration": 18,
    "start_time": "2022-02-26T22:59:17.617Z"
   },
   {
    "duration": 10,
    "start_time": "2022-02-26T22:59:19.269Z"
   },
   {
    "duration": 10,
    "start_time": "2022-02-26T22:59:42.439Z"
   },
   {
    "duration": 11,
    "start_time": "2022-02-26T22:59:52.238Z"
   },
   {
    "duration": 10,
    "start_time": "2022-02-26T22:59:53.917Z"
   },
   {
    "duration": 10,
    "start_time": "2022-02-26T22:59:56.944Z"
   },
   {
    "duration": 12,
    "start_time": "2022-02-26T22:59:59.693Z"
   },
   {
    "duration": 11,
    "start_time": "2022-02-26T23:00:06.437Z"
   },
   {
    "duration": 15,
    "start_time": "2022-02-26T23:00:09.342Z"
   },
   {
    "duration": 398,
    "start_time": "2022-02-26T23:00:11.707Z"
   },
   {
    "duration": 76,
    "start_time": "2022-02-26T23:00:37.328Z"
   },
   {
    "duration": 15,
    "start_time": "2022-02-26T23:00:37.769Z"
   },
   {
    "duration": 14,
    "start_time": "2022-02-26T23:00:38.084Z"
   },
   {
    "duration": 9,
    "start_time": "2022-02-26T23:00:38.388Z"
   },
   {
    "duration": 6,
    "start_time": "2022-02-26T23:00:38.685Z"
   },
   {
    "duration": 18,
    "start_time": "2022-02-26T23:00:38.998Z"
   },
   {
    "duration": 10,
    "start_time": "2022-02-26T23:00:39.302Z"
   },
   {
    "duration": 10,
    "start_time": "2022-02-26T23:00:39.609Z"
   },
   {
    "duration": 16,
    "start_time": "2022-02-26T23:00:39.940Z"
   },
   {
    "duration": 7,
    "start_time": "2022-02-26T23:00:40.428Z"
   },
   {
    "duration": 12,
    "start_time": "2022-02-26T23:00:40.750Z"
   },
   {
    "duration": 13,
    "start_time": "2022-02-26T23:00:41.094Z"
   },
   {
    "duration": 11,
    "start_time": "2022-02-26T23:00:41.456Z"
   },
   {
    "duration": 14,
    "start_time": "2022-02-26T23:00:41.810Z"
   },
   {
    "duration": 11,
    "start_time": "2022-02-26T23:00:42.227Z"
   },
   {
    "duration": 25,
    "start_time": "2022-02-26T23:00:42.659Z"
   },
   {
    "duration": 10,
    "start_time": "2022-02-26T23:00:43.043Z"
   },
   {
    "duration": 20,
    "start_time": "2022-02-26T23:00:43.376Z"
   },
   {
    "duration": 11,
    "start_time": "2022-02-26T23:00:43.722Z"
   },
   {
    "duration": 27,
    "start_time": "2022-02-26T23:00:44.084Z"
   },
   {
    "duration": 8,
    "start_time": "2022-02-26T23:00:44.437Z"
   },
   {
    "duration": 19,
    "start_time": "2022-02-26T23:00:44.790Z"
   },
   {
    "duration": 12,
    "start_time": "2022-02-26T23:00:45.175Z"
   },
   {
    "duration": 11,
    "start_time": "2022-02-26T23:00:45.537Z"
   },
   {
    "duration": 10,
    "start_time": "2022-02-26T23:00:46.317Z"
   },
   {
    "duration": 10,
    "start_time": "2022-02-26T23:00:46.992Z"
   },
   {
    "duration": 9,
    "start_time": "2022-02-26T23:00:47.356Z"
   },
   {
    "duration": 12,
    "start_time": "2022-02-26T23:00:47.721Z"
   },
   {
    "duration": 10,
    "start_time": "2022-02-26T23:00:48.181Z"
   },
   {
    "duration": 14,
    "start_time": "2022-02-26T23:00:48.840Z"
   },
   {
    "duration": 17,
    "start_time": "2022-02-26T23:00:49.298Z"
   },
   {
    "duration": 30,
    "start_time": "2022-02-26T23:00:50.310Z"
   },
   {
    "duration": 16,
    "start_time": "2022-02-26T23:00:52.550Z"
   },
   {
    "duration": 16,
    "start_time": "2022-02-26T23:00:55.278Z"
   },
   {
    "duration": 19,
    "start_time": "2022-02-26T23:00:55.595Z"
   },
   {
    "duration": 798,
    "start_time": "2022-02-26T23:00:56.110Z"
   },
   {
    "duration": 374,
    "start_time": "2022-02-26T23:00:56.910Z"
   },
   {
    "duration": 16,
    "start_time": "2022-02-26T23:00:57.287Z"
   },
   {
    "duration": 32,
    "start_time": "2022-02-26T23:00:57.322Z"
   },
   {
    "duration": 36,
    "start_time": "2022-02-26T23:00:58.030Z"
   },
   {
    "duration": 33,
    "start_time": "2022-02-26T23:00:58.761Z"
   },
   {
    "duration": 33,
    "start_time": "2022-02-26T23:00:59.468Z"
   },
   {
    "duration": 7,
    "start_time": "2022-02-26T23:03:37.335Z"
   },
   {
    "duration": 6,
    "start_time": "2022-02-26T23:03:54.406Z"
   },
   {
    "duration": 6,
    "start_time": "2022-02-26T23:04:00.841Z"
   },
   {
    "duration": 7,
    "start_time": "2022-02-26T23:04:01.708Z"
   },
   {
    "duration": 5,
    "start_time": "2022-02-26T23:04:04.815Z"
   },
   {
    "duration": 8,
    "start_time": "2022-02-26T23:04:05.736Z"
   },
   {
    "duration": 31,
    "start_time": "2022-02-26T23:04:06.112Z"
   },
   {
    "duration": 206,
    "start_time": "2022-02-26T23:05:38.846Z"
   },
   {
    "duration": 69,
    "start_time": "2022-02-26T23:05:48.120Z"
   },
   {
    "duration": 16,
    "start_time": "2022-02-26T23:05:48.528Z"
   },
   {
    "duration": 15,
    "start_time": "2022-02-26T23:05:48.809Z"
   },
   {
    "duration": 10,
    "start_time": "2022-02-26T23:05:49.130Z"
   },
   {
    "duration": 7,
    "start_time": "2022-02-26T23:05:49.452Z"
   },
   {
    "duration": 20,
    "start_time": "2022-02-26T23:05:49.766Z"
   },
   {
    "duration": 10,
    "start_time": "2022-02-26T23:05:50.150Z"
   },
   {
    "duration": 13,
    "start_time": "2022-02-26T23:05:50.537Z"
   },
   {
    "duration": 17,
    "start_time": "2022-02-26T23:05:50.944Z"
   },
   {
    "duration": 8,
    "start_time": "2022-02-26T23:05:51.461Z"
   },
   {
    "duration": 10,
    "start_time": "2022-02-26T23:05:52.056Z"
   },
   {
    "duration": 11,
    "start_time": "2022-02-26T23:05:52.535Z"
   },
   {
    "duration": 9,
    "start_time": "2022-02-26T23:05:52.955Z"
   },
   {
    "duration": 12,
    "start_time": "2022-02-26T23:05:53.332Z"
   },
   {
    "duration": 10,
    "start_time": "2022-02-26T23:05:53.702Z"
   },
   {
    "duration": 24,
    "start_time": "2022-02-26T23:05:54.087Z"
   },
   {
    "duration": 8,
    "start_time": "2022-02-26T23:05:54.474Z"
   },
   {
    "duration": 18,
    "start_time": "2022-02-26T23:05:54.819Z"
   },
   {
    "duration": 11,
    "start_time": "2022-02-26T23:05:55.167Z"
   },
   {
    "duration": 27,
    "start_time": "2022-02-26T23:05:55.460Z"
   },
   {
    "duration": 8,
    "start_time": "2022-02-26T23:05:55.793Z"
   },
   {
    "duration": 23,
    "start_time": "2022-02-26T23:05:56.136Z"
   },
   {
    "duration": 10,
    "start_time": "2022-02-26T23:05:56.498Z"
   },
   {
    "duration": 11,
    "start_time": "2022-02-26T23:05:56.859Z"
   },
   {
    "duration": 10,
    "start_time": "2022-02-26T23:05:57.211Z"
   },
   {
    "duration": 13,
    "start_time": "2022-02-26T23:05:57.566Z"
   },
   {
    "duration": 10,
    "start_time": "2022-02-26T23:05:57.903Z"
   },
   {
    "duration": 15,
    "start_time": "2022-02-26T23:05:58.250Z"
   },
   {
    "duration": 11,
    "start_time": "2022-02-26T23:05:58.577Z"
   },
   {
    "duration": 6,
    "start_time": "2022-02-26T23:05:59.052Z"
   },
   {
    "duration": 8,
    "start_time": "2022-02-26T23:05:59.404Z"
   },
   {
    "duration": 33,
    "start_time": "2022-02-26T23:05:59.751Z"
   },
   {
    "duration": 16,
    "start_time": "2022-02-26T23:06:00.242Z"
   },
   {
    "duration": 16,
    "start_time": "2022-02-26T23:06:00.579Z"
   },
   {
    "duration": 20,
    "start_time": "2022-02-26T23:06:00.909Z"
   },
   {
    "duration": 822,
    "start_time": "2022-02-26T23:06:01.423Z"
   },
   {
    "duration": 395,
    "start_time": "2022-02-26T23:06:02.248Z"
   },
   {
    "duration": 16,
    "start_time": "2022-02-26T23:06:02.646Z"
   },
   {
    "duration": 32,
    "start_time": "2022-02-26T23:06:02.685Z"
   },
   {
    "duration": 38,
    "start_time": "2022-02-26T23:06:03.392Z"
   },
   {
    "duration": 31,
    "start_time": "2022-02-26T23:06:04.106Z"
   },
   {
    "duration": 31,
    "start_time": "2022-02-26T23:06:04.814Z"
   },
   {
    "duration": 624,
    "start_time": "2022-03-07T11:13:42.169Z"
   },
   {
    "duration": 11,
    "start_time": "2022-03-07T11:13:42.794Z"
   },
   {
    "duration": 10,
    "start_time": "2022-03-07T11:13:42.807Z"
   },
   {
    "duration": 6,
    "start_time": "2022-03-07T11:13:42.818Z"
   },
   {
    "duration": 4,
    "start_time": "2022-03-07T11:13:42.826Z"
   },
   {
    "duration": 39,
    "start_time": "2022-03-07T11:13:42.831Z"
   },
   {
    "duration": 8,
    "start_time": "2022-03-07T11:13:42.872Z"
   },
   {
    "duration": 8,
    "start_time": "2022-03-07T11:13:42.883Z"
   },
   {
    "duration": 13,
    "start_time": "2022-03-07T11:13:42.894Z"
   },
   {
    "duration": 5,
    "start_time": "2022-03-07T11:13:42.909Z"
   },
   {
    "duration": 45,
    "start_time": "2022-03-07T11:13:42.915Z"
   },
   {
    "duration": 8,
    "start_time": "2022-03-07T11:13:42.961Z"
   },
   {
    "duration": 5,
    "start_time": "2022-03-07T11:13:42.971Z"
   },
   {
    "duration": 10,
    "start_time": "2022-03-07T11:13:42.978Z"
   },
   {
    "duration": 9,
    "start_time": "2022-03-07T11:13:42.989Z"
   },
   {
    "duration": 17,
    "start_time": "2022-03-07T11:13:42.999Z"
   },
   {
    "duration": 42,
    "start_time": "2022-03-07T11:13:43.017Z"
   },
   {
    "duration": 12,
    "start_time": "2022-03-07T11:13:43.061Z"
   },
   {
    "duration": 6,
    "start_time": "2022-03-07T11:13:43.075Z"
   },
   {
    "duration": 19,
    "start_time": "2022-03-07T11:13:43.083Z"
   },
   {
    "duration": 5,
    "start_time": "2022-03-07T11:13:43.103Z"
   },
   {
    "duration": 13,
    "start_time": "2022-03-07T11:13:43.110Z"
   },
   {
    "duration": 7,
    "start_time": "2022-03-07T11:13:43.161Z"
   },
   {
    "duration": 10,
    "start_time": "2022-03-07T11:13:43.170Z"
   },
   {
    "duration": 6,
    "start_time": "2022-03-07T11:13:43.182Z"
   },
   {
    "duration": 8,
    "start_time": "2022-03-07T11:13:43.190Z"
   },
   {
    "duration": 6,
    "start_time": "2022-03-07T11:13:43.199Z"
   },
   {
    "duration": 7,
    "start_time": "2022-03-07T11:13:43.207Z"
   },
   {
    "duration": 44,
    "start_time": "2022-03-07T11:13:43.216Z"
   },
   {
    "duration": 4,
    "start_time": "2022-03-07T11:13:43.261Z"
   },
   {
    "duration": 6,
    "start_time": "2022-03-07T11:13:43.266Z"
   },
   {
    "duration": 23,
    "start_time": "2022-03-07T11:13:43.273Z"
   },
   {
    "duration": 11,
    "start_time": "2022-03-07T11:13:43.297Z"
   },
   {
    "duration": 23,
    "start_time": "2022-03-07T11:13:43.309Z"
   },
   {
    "duration": 36,
    "start_time": "2022-03-07T11:13:43.334Z"
   },
   {
    "duration": 518,
    "start_time": "2022-03-07T11:13:43.372Z"
   },
   {
    "duration": 239,
    "start_time": "2022-03-07T11:13:43.891Z"
   },
   {
    "duration": 11,
    "start_time": "2022-03-07T11:13:44.132Z"
   },
   {
    "duration": 33,
    "start_time": "2022-03-07T11:13:44.145Z"
   },
   {
    "duration": 23,
    "start_time": "2022-03-07T11:13:44.180Z"
   },
   {
    "duration": 18,
    "start_time": "2022-03-07T11:13:44.205Z"
   },
   {
    "duration": 45,
    "start_time": "2022-03-07T11:13:44.225Z"
   },
   {
    "duration": 9,
    "start_time": "2022-03-07T11:16:46.579Z"
   },
   {
    "duration": 619,
    "start_time": "2022-03-07T11:27:18.084Z"
   },
   {
    "duration": 11,
    "start_time": "2022-03-07T11:27:18.705Z"
   },
   {
    "duration": 10,
    "start_time": "2022-03-07T11:27:18.720Z"
   },
   {
    "duration": 31,
    "start_time": "2022-03-07T11:27:18.731Z"
   },
   {
    "duration": 7,
    "start_time": "2022-03-07T11:27:18.764Z"
   },
   {
    "duration": 4,
    "start_time": "2022-03-07T11:27:18.773Z"
   },
   {
    "duration": 14,
    "start_time": "2022-03-07T11:27:18.780Z"
   },
   {
    "duration": 6,
    "start_time": "2022-03-07T11:27:18.797Z"
   },
   {
    "duration": 12,
    "start_time": "2022-03-07T11:27:18.804Z"
   },
   {
    "duration": 49,
    "start_time": "2022-03-07T11:27:18.817Z"
   },
   {
    "duration": 6,
    "start_time": "2022-03-07T11:27:18.868Z"
   },
   {
    "duration": 7,
    "start_time": "2022-03-07T11:27:18.876Z"
   },
   {
    "duration": 8,
    "start_time": "2022-03-07T11:27:18.884Z"
   },
   {
    "duration": 5,
    "start_time": "2022-03-07T11:27:18.894Z"
   },
   {
    "duration": 8,
    "start_time": "2022-03-07T11:27:18.901Z"
   },
   {
    "duration": 49,
    "start_time": "2022-03-07T11:27:18.911Z"
   },
   {
    "duration": 18,
    "start_time": "2022-03-07T11:27:18.962Z"
   },
   {
    "duration": 6,
    "start_time": "2022-03-07T11:27:18.981Z"
   },
   {
    "duration": 19,
    "start_time": "2022-03-07T11:27:18.989Z"
   },
   {
    "duration": 8,
    "start_time": "2022-03-07T11:27:19.010Z"
   },
   {
    "duration": 56,
    "start_time": "2022-03-07T11:27:19.020Z"
   },
   {
    "duration": 6,
    "start_time": "2022-03-07T11:27:19.081Z"
   },
   {
    "duration": 13,
    "start_time": "2022-03-07T11:27:19.089Z"
   },
   {
    "duration": 6,
    "start_time": "2022-03-07T11:27:19.104Z"
   },
   {
    "duration": 9,
    "start_time": "2022-03-07T11:27:19.112Z"
   },
   {
    "duration": 40,
    "start_time": "2022-03-07T11:27:19.123Z"
   },
   {
    "duration": 9,
    "start_time": "2022-03-07T11:27:19.164Z"
   },
   {
    "duration": 5,
    "start_time": "2022-03-07T11:27:19.174Z"
   },
   {
    "duration": 9,
    "start_time": "2022-03-07T11:27:19.181Z"
   },
   {
    "duration": 8,
    "start_time": "2022-03-07T11:27:19.191Z"
   },
   {
    "duration": 4,
    "start_time": "2022-03-07T11:27:19.201Z"
   },
   {
    "duration": 5,
    "start_time": "2022-03-07T11:27:19.207Z"
   },
   {
    "duration": 64,
    "start_time": "2022-03-07T11:27:19.213Z"
   },
   {
    "duration": 11,
    "start_time": "2022-03-07T11:27:19.278Z"
   },
   {
    "duration": 11,
    "start_time": "2022-03-07T11:27:19.291Z"
   },
   {
    "duration": 12,
    "start_time": "2022-03-07T11:27:19.303Z"
   },
   {
    "duration": 555,
    "start_time": "2022-03-07T11:27:19.317Z"
   },
   {
    "duration": 244,
    "start_time": "2022-03-07T11:27:19.873Z"
   },
   {
    "duration": 11,
    "start_time": "2022-03-07T11:27:20.119Z"
   },
   {
    "duration": 35,
    "start_time": "2022-03-07T11:27:20.132Z"
   },
   {
    "duration": 24,
    "start_time": "2022-03-07T11:27:20.169Z"
   },
   {
    "duration": 28,
    "start_time": "2022-03-07T11:27:20.195Z"
   },
   {
    "duration": 31,
    "start_time": "2022-03-07T11:27:20.235Z"
   },
   {
    "duration": 58,
    "start_time": "2022-03-09T20:20:31.312Z"
   },
   {
    "duration": 62,
    "start_time": "2022-03-09T20:20:37.700Z"
   },
   {
    "duration": 200,
    "start_time": "2022-03-09T20:24:25.640Z"
   },
   {
    "duration": 166,
    "start_time": "2022-03-09T20:24:25.934Z"
   },
   {
    "duration": 171,
    "start_time": "2022-03-09T20:24:26.417Z"
   },
   {
    "duration": 162,
    "start_time": "2022-03-09T20:24:27.422Z"
   },
   {
    "duration": 162,
    "start_time": "2022-03-09T20:24:27.913Z"
   },
   {
    "duration": 215,
    "start_time": "2022-03-09T20:24:28.259Z"
   },
   {
    "duration": 166,
    "start_time": "2022-03-09T20:24:29.002Z"
   },
   {
    "duration": 178,
    "start_time": "2022-03-09T20:24:29.705Z"
   },
   {
    "duration": -50,
    "start_time": "2022-03-09T20:24:29.934Z"
   },
   {
    "duration": 174,
    "start_time": "2022-03-09T20:24:30.557Z"
   },
   {
    "duration": 168,
    "start_time": "2022-03-09T20:24:31.425Z"
   },
   {
    "duration": 172,
    "start_time": "2022-03-09T20:24:32.646Z"
   },
   {
    "duration": 600,
    "start_time": "2022-03-09T20:24:41.843Z"
   },
   {
    "duration": 11,
    "start_time": "2022-03-09T20:24:44.458Z"
   },
   {
    "duration": 10,
    "start_time": "2022-03-09T20:24:45.818Z"
   },
   {
    "duration": 8,
    "start_time": "2022-03-09T20:24:46.644Z"
   },
   {
    "duration": 6,
    "start_time": "2022-03-09T20:24:47.577Z"
   },
   {
    "duration": 5,
    "start_time": "2022-03-09T20:24:48.403Z"
   },
   {
    "duration": 13,
    "start_time": "2022-03-09T20:24:49.410Z"
   },
   {
    "duration": 7,
    "start_time": "2022-03-09T20:24:50.710Z"
   },
   {
    "duration": 7,
    "start_time": "2022-03-09T20:24:52.145Z"
   },
   {
    "duration": 11,
    "start_time": "2022-03-09T20:24:53.373Z"
   },
   {
    "duration": 6,
    "start_time": "2022-03-09T20:24:54.696Z"
   },
   {
    "duration": 7,
    "start_time": "2022-03-09T20:24:55.506Z"
   },
   {
    "duration": 8,
    "start_time": "2022-03-09T20:24:56.303Z"
   },
   {
    "duration": 6,
    "start_time": "2022-03-09T20:24:57.533Z"
   },
   {
    "duration": 8,
    "start_time": "2022-03-09T20:24:58.433Z"
   },
   {
    "duration": 8,
    "start_time": "2022-03-09T20:24:59.396Z"
   },
   {
    "duration": 16,
    "start_time": "2022-03-09T20:24:59.920Z"
   },
   {
    "duration": 6,
    "start_time": "2022-03-09T20:25:00.732Z"
   },
   {
    "duration": 13,
    "start_time": "2022-03-09T20:25:01.277Z"
   },
   {
    "duration": 7,
    "start_time": "2022-03-09T20:25:02.114Z"
   },
   {
    "duration": 20,
    "start_time": "2022-03-09T20:25:02.660Z"
   },
   {
    "duration": 6,
    "start_time": "2022-03-09T20:25:03.480Z"
   },
   {
    "duration": 13,
    "start_time": "2022-03-09T20:25:04.025Z"
   },
   {
    "duration": 7,
    "start_time": "2022-03-09T20:25:04.797Z"
   },
   {
    "duration": 8,
    "start_time": "2022-03-09T20:25:05.335Z"
   },
   {
    "duration": 7,
    "start_time": "2022-03-09T20:25:06.605Z"
   },
   {
    "duration": 6,
    "start_time": "2022-03-09T20:25:07.577Z"
   },
   {
    "duration": 8,
    "start_time": "2022-03-09T20:25:08.374Z"
   },
   {
    "duration": 8,
    "start_time": "2022-03-09T20:25:08.918Z"
   },
   {
    "duration": 4,
    "start_time": "2022-03-09T20:25:12.601Z"
   },
   {
    "duration": 5,
    "start_time": "2022-03-09T20:25:13.106Z"
   },
   {
    "duration": 24,
    "start_time": "2022-03-09T20:25:13.856Z"
   },
   {
    "duration": 12,
    "start_time": "2022-03-09T20:25:15.002Z"
   },
   {
    "duration": 11,
    "start_time": "2022-03-09T20:25:15.517Z"
   },
   {
    "duration": 13,
    "start_time": "2022-03-09T20:25:16.032Z"
   },
   {
    "duration": 475,
    "start_time": "2022-03-09T20:25:17.093Z"
   },
   {
    "duration": 225,
    "start_time": "2022-03-09T20:25:18.251Z"
   },
   {
    "duration": 10,
    "start_time": "2022-03-09T20:25:18.760Z"
   },
   {
    "duration": 21,
    "start_time": "2022-03-09T20:25:24.785Z"
   },
   {
    "duration": 22,
    "start_time": "2022-03-09T20:25:26.247Z"
   },
   {
    "duration": 20,
    "start_time": "2022-03-09T20:25:27.812Z"
   },
   {
    "duration": 21,
    "start_time": "2022-03-09T20:25:29.386Z"
   },
   {
    "duration": 874,
    "start_time": "2022-03-10T06:44:31.901Z"
   },
   {
    "duration": 15,
    "start_time": "2022-03-10T06:44:32.778Z"
   },
   {
    "duration": 15,
    "start_time": "2022-03-10T06:44:32.796Z"
   },
   {
    "duration": 13,
    "start_time": "2022-03-10T06:44:32.833Z"
   },
   {
    "duration": 10,
    "start_time": "2022-03-10T06:44:32.848Z"
   },
   {
    "duration": 6,
    "start_time": "2022-03-10T06:44:32.861Z"
   },
   {
    "duration": 22,
    "start_time": "2022-03-10T06:44:32.870Z"
   },
   {
    "duration": 45,
    "start_time": "2022-03-10T06:44:32.894Z"
   },
   {
    "duration": 11,
    "start_time": "2022-03-10T06:44:32.943Z"
   },
   {
    "duration": 22,
    "start_time": "2022-03-10T06:44:32.957Z"
   },
   {
    "duration": 8,
    "start_time": "2022-03-10T06:44:32.981Z"
   },
   {
    "duration": 10,
    "start_time": "2022-03-10T06:44:33.033Z"
   },
   {
    "duration": 11,
    "start_time": "2022-03-10T06:44:33.045Z"
   },
   {
    "duration": 8,
    "start_time": "2022-03-10T06:44:33.058Z"
   },
   {
    "duration": 11,
    "start_time": "2022-03-10T06:44:33.069Z"
   },
   {
    "duration": 52,
    "start_time": "2022-03-10T06:44:33.083Z"
   },
   {
    "duration": 26,
    "start_time": "2022-03-10T06:44:33.138Z"
   },
   {
    "duration": 10,
    "start_time": "2022-03-10T06:44:33.167Z"
   },
   {
    "duration": 60,
    "start_time": "2022-03-10T06:44:33.179Z"
   },
   {
    "duration": 9,
    "start_time": "2022-03-10T06:44:33.242Z"
   },
   {
    "duration": 30,
    "start_time": "2022-03-10T06:44:33.253Z"
   },
   {
    "duration": 7,
    "start_time": "2022-03-10T06:44:33.285Z"
   },
   {
    "duration": 51,
    "start_time": "2022-03-10T06:44:33.295Z"
   },
   {
    "duration": 9,
    "start_time": "2022-03-10T06:44:33.349Z"
   },
   {
    "duration": 10,
    "start_time": "2022-03-10T06:44:33.361Z"
   },
   {
    "duration": 15,
    "start_time": "2022-03-10T06:44:33.373Z"
   },
   {
    "duration": 40,
    "start_time": "2022-03-10T06:44:33.393Z"
   },
   {
    "duration": 14,
    "start_time": "2022-03-10T06:44:33.436Z"
   },
   {
    "duration": 11,
    "start_time": "2022-03-10T06:44:33.453Z"
   },
   {
    "duration": 5,
    "start_time": "2022-03-10T06:44:33.467Z"
   },
   {
    "duration": 9,
    "start_time": "2022-03-10T06:44:33.474Z"
   },
   {
    "duration": 77,
    "start_time": "2022-03-10T06:44:33.486Z"
   },
   {
    "duration": 15,
    "start_time": "2022-03-10T06:44:33.565Z"
   },
   {
    "duration": 13,
    "start_time": "2022-03-10T06:44:33.582Z"
   },
   {
    "duration": 47,
    "start_time": "2022-03-10T06:44:33.597Z"
   },
   {
    "duration": 838,
    "start_time": "2022-03-10T06:44:33.647Z"
   },
   {
    "duration": 386,
    "start_time": "2022-03-10T06:44:34.487Z"
   },
   {
    "duration": 17,
    "start_time": "2022-03-10T06:44:34.876Z"
   },
   {
    "duration": 59,
    "start_time": "2022-03-10T06:44:34.896Z"
   },
   {
    "duration": 36,
    "start_time": "2022-03-10T06:44:34.958Z"
   },
   {
    "duration": 52,
    "start_time": "2022-03-10T06:44:34.997Z"
   },
   {
    "duration": 29,
    "start_time": "2022-03-10T06:44:35.052Z"
   }
  ],
  "kernelspec": {
   "display_name": "Python 3 (ipykernel)",
   "language": "python",
   "name": "python3"
  },
  "language_info": {
   "codemirror_mode": {
    "name": "ipython",
    "version": 3
   },
   "file_extension": ".py",
   "mimetype": "text/x-python",
   "name": "python",
   "nbconvert_exporter": "python",
   "pygments_lexer": "ipython3",
   "version": "3.9.5"
  },
  "toc": {
   "base_numbering": 1,
   "nav_menu": {},
   "number_sections": true,
   "sideBar": true,
   "skip_h1_title": true,
   "title_cell": "Table of Contents",
   "title_sidebar": "Contents",
   "toc_cell": false,
   "toc_position": {
    "height": "calc(100% - 180px)",
    "left": "10px",
    "top": "150px",
    "width": "270.391px"
   },
   "toc_section_display": true,
   "toc_window_display": true
  }
 },
 "nbformat": 4,
 "nbformat_minor": 5
}
