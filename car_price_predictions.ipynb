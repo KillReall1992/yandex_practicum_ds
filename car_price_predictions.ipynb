{
 "cells": [
  {
   "cell_type": "markdown",
   "metadata": {},
   "source": [
    "# Определение стоимости автомобилей"
   ]
  },
  {
   "cell_type": "markdown",
   "metadata": {},
   "source": [
    "Сервис по продаже автомобилей с пробегом «Не бит, не крашен» разрабатывает приложение для привлечения новых клиентов. В нём можно быстро узнать рыночную стоимость своего автомобиля. В вашем распоряжении исторические данные: технические характеристики, комплектации и цены автомобилей. Вам нужно построить модель для определения стоимости. \n",
    "\n",
    "Заказчику важны:\n",
    "\n",
    "- качество предсказания;\n",
    "- скорость предсказания;\n",
    "- время обучения."
   ]
  },
  {
   "cell_type": "markdown",
   "metadata": {},
   "source": [
    "## Подготовка данных"
   ]
  },
  {
   "cell_type": "markdown",
   "metadata": {},
   "source": [
    "### Загрузка библиотек и данных"
   ]
  },
  {
   "cell_type": "code",
   "execution_count": 74,
   "metadata": {},
   "outputs": [],
   "source": [
    "import pandas as pd\n",
    "import numpy as np\n",
    "import seaborn as sns\n",
    "import matplotlib.pyplot as plt\n",
    "from matplotlib.pyplot import figure\n",
    "\n",
    "from sklearn.preprocessing import StandardScaler\n",
    "from sklearn.model_selection import train_test_split\n",
    "\n",
    "import lightgbm as lgb\n",
    "import xgboost as xgb\n",
    "from sklearn.ensemble import RandomForestRegressor\n",
    "\n",
    "from sklearn.preprocessing import OrdinalEncoder\n",
    "\n",
    "from sklearn.model_selection import GridSearchCV\n",
    "from sklearn.model_selection import RandomizedSearchCV\n",
    "\n",
    "from sklearn.metrics import mean_squared_error\n",
    "\n",
    "from scipy import stats as st\n",
    "\n",
    "random = 12345\n",
    "\n",
    "import warnings\n",
    "warnings.filterwarnings('ignore')\n",
    "\n",
    "import time"
   ]
  },
  {
   "cell_type": "code",
   "execution_count": 75,
   "metadata": {},
   "outputs": [],
   "source": [
    "auto = pd.read_csv('/datasets/autos.csv')"
   ]
  },
  {
   "cell_type": "markdown",
   "metadata": {},
   "source": [
    "###  Осмотр данных"
   ]
  },
  {
   "cell_type": "code",
   "execution_count": 76,
   "metadata": {
    "scrolled": true
   },
   "outputs": [
    {
     "data": {
      "text/html": [
       "<div>\n",
       "<style scoped>\n",
       "    .dataframe tbody tr th:only-of-type {\n",
       "        vertical-align: middle;\n",
       "    }\n",
       "\n",
       "    .dataframe tbody tr th {\n",
       "        vertical-align: top;\n",
       "    }\n",
       "\n",
       "    .dataframe thead th {\n",
       "        text-align: right;\n",
       "    }\n",
       "</style>\n",
       "<table border=\"1\" class=\"dataframe\">\n",
       "  <thead>\n",
       "    <tr style=\"text-align: right;\">\n",
       "      <th></th>\n",
       "      <th>DateCrawled</th>\n",
       "      <th>Price</th>\n",
       "      <th>VehicleType</th>\n",
       "      <th>RegistrationYear</th>\n",
       "      <th>Gearbox</th>\n",
       "      <th>Power</th>\n",
       "      <th>Model</th>\n",
       "      <th>Kilometer</th>\n",
       "      <th>RegistrationMonth</th>\n",
       "      <th>FuelType</th>\n",
       "      <th>Brand</th>\n",
       "      <th>NotRepaired</th>\n",
       "      <th>DateCreated</th>\n",
       "      <th>NumberOfPictures</th>\n",
       "      <th>PostalCode</th>\n",
       "      <th>LastSeen</th>\n",
       "    </tr>\n",
       "  </thead>\n",
       "  <tbody>\n",
       "    <tr>\n",
       "      <th>0</th>\n",
       "      <td>2016-03-24 11:52:17</td>\n",
       "      <td>480</td>\n",
       "      <td>NaN</td>\n",
       "      <td>1993</td>\n",
       "      <td>manual</td>\n",
       "      <td>0</td>\n",
       "      <td>golf</td>\n",
       "      <td>150000</td>\n",
       "      <td>0</td>\n",
       "      <td>petrol</td>\n",
       "      <td>volkswagen</td>\n",
       "      <td>NaN</td>\n",
       "      <td>2016-03-24 00:00:00</td>\n",
       "      <td>0</td>\n",
       "      <td>70435</td>\n",
       "      <td>2016-04-07 03:16:57</td>\n",
       "    </tr>\n",
       "    <tr>\n",
       "      <th>1</th>\n",
       "      <td>2016-03-24 10:58:45</td>\n",
       "      <td>18300</td>\n",
       "      <td>coupe</td>\n",
       "      <td>2011</td>\n",
       "      <td>manual</td>\n",
       "      <td>190</td>\n",
       "      <td>NaN</td>\n",
       "      <td>125000</td>\n",
       "      <td>5</td>\n",
       "      <td>gasoline</td>\n",
       "      <td>audi</td>\n",
       "      <td>yes</td>\n",
       "      <td>2016-03-24 00:00:00</td>\n",
       "      <td>0</td>\n",
       "      <td>66954</td>\n",
       "      <td>2016-04-07 01:46:50</td>\n",
       "    </tr>\n",
       "    <tr>\n",
       "      <th>2</th>\n",
       "      <td>2016-03-14 12:52:21</td>\n",
       "      <td>9800</td>\n",
       "      <td>suv</td>\n",
       "      <td>2004</td>\n",
       "      <td>auto</td>\n",
       "      <td>163</td>\n",
       "      <td>grand</td>\n",
       "      <td>125000</td>\n",
       "      <td>8</td>\n",
       "      <td>gasoline</td>\n",
       "      <td>jeep</td>\n",
       "      <td>NaN</td>\n",
       "      <td>2016-03-14 00:00:00</td>\n",
       "      <td>0</td>\n",
       "      <td>90480</td>\n",
       "      <td>2016-04-05 12:47:46</td>\n",
       "    </tr>\n",
       "    <tr>\n",
       "      <th>3</th>\n",
       "      <td>2016-03-17 16:54:04</td>\n",
       "      <td>1500</td>\n",
       "      <td>small</td>\n",
       "      <td>2001</td>\n",
       "      <td>manual</td>\n",
       "      <td>75</td>\n",
       "      <td>golf</td>\n",
       "      <td>150000</td>\n",
       "      <td>6</td>\n",
       "      <td>petrol</td>\n",
       "      <td>volkswagen</td>\n",
       "      <td>no</td>\n",
       "      <td>2016-03-17 00:00:00</td>\n",
       "      <td>0</td>\n",
       "      <td>91074</td>\n",
       "      <td>2016-03-17 17:40:17</td>\n",
       "    </tr>\n",
       "    <tr>\n",
       "      <th>4</th>\n",
       "      <td>2016-03-31 17:25:20</td>\n",
       "      <td>3600</td>\n",
       "      <td>small</td>\n",
       "      <td>2008</td>\n",
       "      <td>manual</td>\n",
       "      <td>69</td>\n",
       "      <td>fabia</td>\n",
       "      <td>90000</td>\n",
       "      <td>7</td>\n",
       "      <td>gasoline</td>\n",
       "      <td>skoda</td>\n",
       "      <td>no</td>\n",
       "      <td>2016-03-31 00:00:00</td>\n",
       "      <td>0</td>\n",
       "      <td>60437</td>\n",
       "      <td>2016-04-06 10:17:21</td>\n",
       "    </tr>\n",
       "  </tbody>\n",
       "</table>\n",
       "</div>"
      ],
      "text/plain": [
       "           DateCrawled  Price VehicleType  RegistrationYear Gearbox  Power  \\\n",
       "0  2016-03-24 11:52:17    480         NaN              1993  manual      0   \n",
       "1  2016-03-24 10:58:45  18300       coupe              2011  manual    190   \n",
       "2  2016-03-14 12:52:21   9800         suv              2004    auto    163   \n",
       "3  2016-03-17 16:54:04   1500       small              2001  manual     75   \n",
       "4  2016-03-31 17:25:20   3600       small              2008  manual     69   \n",
       "\n",
       "   Model  Kilometer  RegistrationMonth  FuelType       Brand NotRepaired  \\\n",
       "0   golf     150000                  0    petrol  volkswagen         NaN   \n",
       "1    NaN     125000                  5  gasoline        audi         yes   \n",
       "2  grand     125000                  8  gasoline        jeep         NaN   \n",
       "3   golf     150000                  6    petrol  volkswagen          no   \n",
       "4  fabia      90000                  7  gasoline       skoda          no   \n",
       "\n",
       "           DateCreated  NumberOfPictures  PostalCode             LastSeen  \n",
       "0  2016-03-24 00:00:00                 0       70435  2016-04-07 03:16:57  \n",
       "1  2016-03-24 00:00:00                 0       66954  2016-04-07 01:46:50  \n",
       "2  2016-03-14 00:00:00                 0       90480  2016-04-05 12:47:46  \n",
       "3  2016-03-17 00:00:00                 0       91074  2016-03-17 17:40:17  \n",
       "4  2016-03-31 00:00:00                 0       60437  2016-04-06 10:17:21  "
      ]
     },
     "metadata": {},
     "output_type": "display_data"
    },
    {
     "name": "stdout",
     "output_type": "stream",
     "text": [
      "<class 'pandas.core.frame.DataFrame'>\n",
      "RangeIndex: 354369 entries, 0 to 354368\n",
      "Data columns (total 16 columns):\n",
      " #   Column             Non-Null Count   Dtype \n",
      "---  ------             --------------   ----- \n",
      " 0   DateCrawled        354369 non-null  object\n",
      " 1   Price              354369 non-null  int64 \n",
      " 2   VehicleType        316879 non-null  object\n",
      " 3   RegistrationYear   354369 non-null  int64 \n",
      " 4   Gearbox            334536 non-null  object\n",
      " 5   Power              354369 non-null  int64 \n",
      " 6   Model              334664 non-null  object\n",
      " 7   Kilometer          354369 non-null  int64 \n",
      " 8   RegistrationMonth  354369 non-null  int64 \n",
      " 9   FuelType           321474 non-null  object\n",
      " 10  Brand              354369 non-null  object\n",
      " 11  NotRepaired        283215 non-null  object\n",
      " 12  DateCreated        354369 non-null  object\n",
      " 13  NumberOfPictures   354369 non-null  int64 \n",
      " 14  PostalCode         354369 non-null  int64 \n",
      " 15  LastSeen           354369 non-null  object\n",
      "dtypes: int64(7), object(9)\n",
      "memory usage: 43.3+ MB\n"
     ]
    },
    {
     "data": {
      "text/plain": [
       "None"
      ]
     },
     "metadata": {},
     "output_type": "display_data"
    },
    {
     "data": {
      "text/html": [
       "<div>\n",
       "<style scoped>\n",
       "    .dataframe tbody tr th:only-of-type {\n",
       "        vertical-align: middle;\n",
       "    }\n",
       "\n",
       "    .dataframe tbody tr th {\n",
       "        vertical-align: top;\n",
       "    }\n",
       "\n",
       "    .dataframe thead th {\n",
       "        text-align: right;\n",
       "    }\n",
       "</style>\n",
       "<table border=\"1\" class=\"dataframe\">\n",
       "  <thead>\n",
       "    <tr style=\"text-align: right;\">\n",
       "      <th></th>\n",
       "      <th>Price</th>\n",
       "      <th>RegistrationYear</th>\n",
       "      <th>Power</th>\n",
       "      <th>Kilometer</th>\n",
       "      <th>RegistrationMonth</th>\n",
       "      <th>NumberOfPictures</th>\n",
       "      <th>PostalCode</th>\n",
       "    </tr>\n",
       "  </thead>\n",
       "  <tbody>\n",
       "    <tr>\n",
       "      <th>count</th>\n",
       "      <td>354369.000000</td>\n",
       "      <td>354369.000000</td>\n",
       "      <td>354369.000000</td>\n",
       "      <td>354369.000000</td>\n",
       "      <td>354369.000000</td>\n",
       "      <td>354369.0</td>\n",
       "      <td>354369.000000</td>\n",
       "    </tr>\n",
       "    <tr>\n",
       "      <th>mean</th>\n",
       "      <td>4416.656776</td>\n",
       "      <td>2004.234448</td>\n",
       "      <td>110.094337</td>\n",
       "      <td>128211.172535</td>\n",
       "      <td>5.714645</td>\n",
       "      <td>0.0</td>\n",
       "      <td>50508.689087</td>\n",
       "    </tr>\n",
       "    <tr>\n",
       "      <th>std</th>\n",
       "      <td>4514.158514</td>\n",
       "      <td>90.227958</td>\n",
       "      <td>189.850405</td>\n",
       "      <td>37905.341530</td>\n",
       "      <td>3.726421</td>\n",
       "      <td>0.0</td>\n",
       "      <td>25783.096248</td>\n",
       "    </tr>\n",
       "    <tr>\n",
       "      <th>min</th>\n",
       "      <td>0.000000</td>\n",
       "      <td>1000.000000</td>\n",
       "      <td>0.000000</td>\n",
       "      <td>5000.000000</td>\n",
       "      <td>0.000000</td>\n",
       "      <td>0.0</td>\n",
       "      <td>1067.000000</td>\n",
       "    </tr>\n",
       "    <tr>\n",
       "      <th>25%</th>\n",
       "      <td>1050.000000</td>\n",
       "      <td>1999.000000</td>\n",
       "      <td>69.000000</td>\n",
       "      <td>125000.000000</td>\n",
       "      <td>3.000000</td>\n",
       "      <td>0.0</td>\n",
       "      <td>30165.000000</td>\n",
       "    </tr>\n",
       "    <tr>\n",
       "      <th>50%</th>\n",
       "      <td>2700.000000</td>\n",
       "      <td>2003.000000</td>\n",
       "      <td>105.000000</td>\n",
       "      <td>150000.000000</td>\n",
       "      <td>6.000000</td>\n",
       "      <td>0.0</td>\n",
       "      <td>49413.000000</td>\n",
       "    </tr>\n",
       "    <tr>\n",
       "      <th>75%</th>\n",
       "      <td>6400.000000</td>\n",
       "      <td>2008.000000</td>\n",
       "      <td>143.000000</td>\n",
       "      <td>150000.000000</td>\n",
       "      <td>9.000000</td>\n",
       "      <td>0.0</td>\n",
       "      <td>71083.000000</td>\n",
       "    </tr>\n",
       "    <tr>\n",
       "      <th>max</th>\n",
       "      <td>20000.000000</td>\n",
       "      <td>9999.000000</td>\n",
       "      <td>20000.000000</td>\n",
       "      <td>150000.000000</td>\n",
       "      <td>12.000000</td>\n",
       "      <td>0.0</td>\n",
       "      <td>99998.000000</td>\n",
       "    </tr>\n",
       "  </tbody>\n",
       "</table>\n",
       "</div>"
      ],
      "text/plain": [
       "               Price  RegistrationYear          Power      Kilometer  \\\n",
       "count  354369.000000     354369.000000  354369.000000  354369.000000   \n",
       "mean     4416.656776       2004.234448     110.094337  128211.172535   \n",
       "std      4514.158514         90.227958     189.850405   37905.341530   \n",
       "min         0.000000       1000.000000       0.000000    5000.000000   \n",
       "25%      1050.000000       1999.000000      69.000000  125000.000000   \n",
       "50%      2700.000000       2003.000000     105.000000  150000.000000   \n",
       "75%      6400.000000       2008.000000     143.000000  150000.000000   \n",
       "max     20000.000000       9999.000000   20000.000000  150000.000000   \n",
       "\n",
       "       RegistrationMonth  NumberOfPictures     PostalCode  \n",
       "count      354369.000000          354369.0  354369.000000  \n",
       "mean            5.714645               0.0   50508.689087  \n",
       "std             3.726421               0.0   25783.096248  \n",
       "min             0.000000               0.0    1067.000000  \n",
       "25%             3.000000               0.0   30165.000000  \n",
       "50%             6.000000               0.0   49413.000000  \n",
       "75%             9.000000               0.0   71083.000000  \n",
       "max            12.000000               0.0   99998.000000  "
      ]
     },
     "metadata": {},
     "output_type": "display_data"
    }
   ],
   "source": [
    "display(auto.head(5))\n",
    "display(auto.info())\n",
    "display(auto.describe())"
   ]
  },
  {
   "cell_type": "markdown",
   "metadata": {},
   "source": [
    "### Обработка данных"
   ]
  },
  {
   "cell_type": "markdown",
   "metadata": {},
   "source": [
    "#### Колонка Price"
   ]
  },
  {
   "cell_type": "code",
   "execution_count": 77,
   "metadata": {
    "scrolled": true
   },
   "outputs": [
    {
     "data": {
      "text/plain": [
       "<matplotlib.axes._subplots.AxesSubplot at 0x7fb9cc841ad0>"
      ]
     },
     "execution_count": 77,
     "metadata": {},
     "output_type": "execute_result"
    },
    {
     "data": {
      "image/png": "[encoded data removed]",
      "text/plain": [
       "<Figure size 1080x360 with 1 Axes>"
      ]
     },
     "metadata": {
      "needs_background": "light"
     },
     "output_type": "display_data"
    }
   ],
   "source": [
    "auto['Price'].hist(bins=300, figsize=(15,5))"
   ]
  },
  {
   "cell_type": "markdown",
   "metadata": {},
   "source": [
    "Видим большое количество значений возле нуля, рассмотри более детально"
   ]
  },
  {
   "cell_type": "code",
   "execution_count": 78,
   "metadata": {},
   "outputs": [
    {
     "data": {
      "text/plain": [
       "<matplotlib.axes._subplots.AxesSubplot at 0x7fb98480b550>"
      ]
     },
     "execution_count": 78,
     "metadata": {},
     "output_type": "execute_result"
    },
    {
     "data": {
      "image/png": "[encoded data removed]",
      "text/plain": [
       "<Figure size 1080x360 with 1 Axes>"
      ]
     },
     "metadata": {
      "needs_background": "light"
     },
     "output_type": "display_data"
    }
   ],
   "source": [
    "auto['Price'].hist(bins=100, figsize=(15,5), range=[1, 100])"
   ]
  },
  {
   "cell_type": "markdown",
   "metadata": {},
   "source": [
    "Посмотрим сами объявления с ценой меньше 100 евро"
   ]
  },
  {
   "cell_type": "code",
   "execution_count": 79,
   "metadata": {},
   "outputs": [
    {
     "data": {
      "text/html": [
       "<div>\n",
       "<style scoped>\n",
       "    .dataframe tbody tr th:only-of-type {\n",
       "        vertical-align: middle;\n",
       "    }\n",
       "\n",
       "    .dataframe tbody tr th {\n",
       "        vertical-align: top;\n",
       "    }\n",
       "\n",
       "    .dataframe thead th {\n",
       "        text-align: right;\n",
       "    }\n",
       "</style>\n",
       "<table border=\"1\" class=\"dataframe\">\n",
       "  <thead>\n",
       "    <tr style=\"text-align: right;\">\n",
       "      <th></th>\n",
       "      <th>DateCrawled</th>\n",
       "      <th>Price</th>\n",
       "      <th>VehicleType</th>\n",
       "      <th>RegistrationYear</th>\n",
       "      <th>Gearbox</th>\n",
       "      <th>Power</th>\n",
       "      <th>Model</th>\n",
       "      <th>Kilometer</th>\n",
       "      <th>RegistrationMonth</th>\n",
       "      <th>FuelType</th>\n",
       "      <th>Brand</th>\n",
       "      <th>NotRepaired</th>\n",
       "      <th>DateCreated</th>\n",
       "      <th>NumberOfPictures</th>\n",
       "      <th>PostalCode</th>\n",
       "      <th>LastSeen</th>\n",
       "    </tr>\n",
       "  </thead>\n",
       "  <tbody>\n",
       "    <tr>\n",
       "      <th>7</th>\n",
       "      <td>2016-03-21 18:54:38</td>\n",
       "      <td>0</td>\n",
       "      <td>sedan</td>\n",
       "      <td>1980</td>\n",
       "      <td>manual</td>\n",
       "      <td>50</td>\n",
       "      <td>other</td>\n",
       "      <td>40000</td>\n",
       "      <td>7</td>\n",
       "      <td>petrol</td>\n",
       "      <td>volkswagen</td>\n",
       "      <td>no</td>\n",
       "      <td>2016-03-21 00:00:00</td>\n",
       "      <td>0</td>\n",
       "      <td>19348</td>\n",
       "      <td>2016-03-25 16:47:58</td>\n",
       "    </tr>\n",
       "    <tr>\n",
       "      <th>40</th>\n",
       "      <td>2016-03-26 22:06:17</td>\n",
       "      <td>0</td>\n",
       "      <td>NaN</td>\n",
       "      <td>1990</td>\n",
       "      <td>NaN</td>\n",
       "      <td>0</td>\n",
       "      <td>corsa</td>\n",
       "      <td>150000</td>\n",
       "      <td>1</td>\n",
       "      <td>petrol</td>\n",
       "      <td>opel</td>\n",
       "      <td>NaN</td>\n",
       "      <td>2016-03-26 00:00:00</td>\n",
       "      <td>0</td>\n",
       "      <td>56412</td>\n",
       "      <td>2016-03-27 17:43:34</td>\n",
       "    </tr>\n",
       "    <tr>\n",
       "      <th>59</th>\n",
       "      <td>2016-03-29 15:48:15</td>\n",
       "      <td>1</td>\n",
       "      <td>suv</td>\n",
       "      <td>1994</td>\n",
       "      <td>manual</td>\n",
       "      <td>286</td>\n",
       "      <td>NaN</td>\n",
       "      <td>150000</td>\n",
       "      <td>11</td>\n",
       "      <td>NaN</td>\n",
       "      <td>sonstige_autos</td>\n",
       "      <td>NaN</td>\n",
       "      <td>2016-03-29 00:00:00</td>\n",
       "      <td>0</td>\n",
       "      <td>53721</td>\n",
       "      <td>2016-04-06 01:44:38</td>\n",
       "    </tr>\n",
       "    <tr>\n",
       "      <th>89</th>\n",
       "      <td>2016-03-28 09:37:01</td>\n",
       "      <td>1</td>\n",
       "      <td>sedan</td>\n",
       "      <td>1995</td>\n",
       "      <td>manual</td>\n",
       "      <td>113</td>\n",
       "      <td>e_klasse</td>\n",
       "      <td>150000</td>\n",
       "      <td>4</td>\n",
       "      <td>gasoline</td>\n",
       "      <td>mercedes_benz</td>\n",
       "      <td>no</td>\n",
       "      <td>2016-03-28 00:00:00</td>\n",
       "      <td>0</td>\n",
       "      <td>40589</td>\n",
       "      <td>2016-04-06 12:15:54</td>\n",
       "    </tr>\n",
       "    <tr>\n",
       "      <th>111</th>\n",
       "      <td>2016-03-19 18:40:12</td>\n",
       "      <td>0</td>\n",
       "      <td>NaN</td>\n",
       "      <td>2017</td>\n",
       "      <td>manual</td>\n",
       "      <td>0</td>\n",
       "      <td>golf</td>\n",
       "      <td>5000</td>\n",
       "      <td>12</td>\n",
       "      <td>petrol</td>\n",
       "      <td>volkswagen</td>\n",
       "      <td>NaN</td>\n",
       "      <td>2016-03-19 00:00:00</td>\n",
       "      <td>0</td>\n",
       "      <td>21698</td>\n",
       "      <td>2016-04-01 08:47:05</td>\n",
       "    </tr>\n",
       "    <tr>\n",
       "      <th>...</th>\n",
       "      <td>...</td>\n",
       "      <td>...</td>\n",
       "      <td>...</td>\n",
       "      <td>...</td>\n",
       "      <td>...</td>\n",
       "      <td>...</td>\n",
       "      <td>...</td>\n",
       "      <td>...</td>\n",
       "      <td>...</td>\n",
       "      <td>...</td>\n",
       "      <td>...</td>\n",
       "      <td>...</td>\n",
       "      <td>...</td>\n",
       "      <td>...</td>\n",
       "      <td>...</td>\n",
       "      <td>...</td>\n",
       "    </tr>\n",
       "    <tr>\n",
       "      <th>354238</th>\n",
       "      <td>2016-03-20 14:55:07</td>\n",
       "      <td>0</td>\n",
       "      <td>small</td>\n",
       "      <td>2002</td>\n",
       "      <td>manual</td>\n",
       "      <td>60</td>\n",
       "      <td>fiesta</td>\n",
       "      <td>150000</td>\n",
       "      <td>3</td>\n",
       "      <td>petrol</td>\n",
       "      <td>ford</td>\n",
       "      <td>NaN</td>\n",
       "      <td>2016-03-20 00:00:00</td>\n",
       "      <td>0</td>\n",
       "      <td>33659</td>\n",
       "      <td>2016-04-06 18:45:23</td>\n",
       "    </tr>\n",
       "    <tr>\n",
       "      <th>354248</th>\n",
       "      <td>2016-03-24 13:48:05</td>\n",
       "      <td>0</td>\n",
       "      <td>small</td>\n",
       "      <td>1999</td>\n",
       "      <td>manual</td>\n",
       "      <td>53</td>\n",
       "      <td>swift</td>\n",
       "      <td>150000</td>\n",
       "      <td>3</td>\n",
       "      <td>petrol</td>\n",
       "      <td>suzuki</td>\n",
       "      <td>NaN</td>\n",
       "      <td>2016-03-24 00:00:00</td>\n",
       "      <td>0</td>\n",
       "      <td>42329</td>\n",
       "      <td>2016-04-07 05:17:24</td>\n",
       "    </tr>\n",
       "    <tr>\n",
       "      <th>354277</th>\n",
       "      <td>2016-03-10 22:55:50</td>\n",
       "      <td>0</td>\n",
       "      <td>small</td>\n",
       "      <td>1999</td>\n",
       "      <td>manual</td>\n",
       "      <td>37</td>\n",
       "      <td>arosa</td>\n",
       "      <td>150000</td>\n",
       "      <td>7</td>\n",
       "      <td>petrol</td>\n",
       "      <td>seat</td>\n",
       "      <td>yes</td>\n",
       "      <td>2016-03-10 00:00:00</td>\n",
       "      <td>0</td>\n",
       "      <td>22559</td>\n",
       "      <td>2016-03-12 23:46:32</td>\n",
       "    </tr>\n",
       "    <tr>\n",
       "      <th>354309</th>\n",
       "      <td>2016-03-09 22:37:41</td>\n",
       "      <td>99</td>\n",
       "      <td>small</td>\n",
       "      <td>1999</td>\n",
       "      <td>manual</td>\n",
       "      <td>60</td>\n",
       "      <td>arosa</td>\n",
       "      <td>150000</td>\n",
       "      <td>1</td>\n",
       "      <td>petrol</td>\n",
       "      <td>seat</td>\n",
       "      <td>yes</td>\n",
       "      <td>2016-03-09 00:00:00</td>\n",
       "      <td>0</td>\n",
       "      <td>91301</td>\n",
       "      <td>2016-04-06 22:15:32</td>\n",
       "    </tr>\n",
       "    <tr>\n",
       "      <th>354364</th>\n",
       "      <td>2016-03-21 09:50:58</td>\n",
       "      <td>0</td>\n",
       "      <td>NaN</td>\n",
       "      <td>2005</td>\n",
       "      <td>manual</td>\n",
       "      <td>0</td>\n",
       "      <td>colt</td>\n",
       "      <td>150000</td>\n",
       "      <td>7</td>\n",
       "      <td>petrol</td>\n",
       "      <td>mitsubishi</td>\n",
       "      <td>yes</td>\n",
       "      <td>2016-03-21 00:00:00</td>\n",
       "      <td>0</td>\n",
       "      <td>2694</td>\n",
       "      <td>2016-03-21 10:42:49</td>\n",
       "    </tr>\n",
       "  </tbody>\n",
       "</table>\n",
       "<p>13314 rows × 16 columns</p>\n",
       "</div>"
      ],
      "text/plain": [
       "                DateCrawled  Price VehicleType  RegistrationYear Gearbox  \\\n",
       "7       2016-03-21 18:54:38      0       sedan              1980  manual   \n",
       "40      2016-03-26 22:06:17      0         NaN              1990     NaN   \n",
       "59      2016-03-29 15:48:15      1         suv              1994  manual   \n",
       "89      2016-03-28 09:37:01      1       sedan              1995  manual   \n",
       "111     2016-03-19 18:40:12      0         NaN              2017  manual   \n",
       "...                     ...    ...         ...               ...     ...   \n",
       "354238  2016-03-20 14:55:07      0       small              2002  manual   \n",
       "354248  2016-03-24 13:48:05      0       small              1999  manual   \n",
       "354277  2016-03-10 22:55:50      0       small              1999  manual   \n",
       "354309  2016-03-09 22:37:41     99       small              1999  manual   \n",
       "354364  2016-03-21 09:50:58      0         NaN              2005  manual   \n",
       "\n",
       "        Power     Model  Kilometer  RegistrationMonth  FuelType  \\\n",
       "7          50     other      40000                  7    petrol   \n",
       "40          0     corsa     150000                  1    petrol   \n",
       "59        286       NaN     150000                 11       NaN   \n",
       "89        113  e_klasse     150000                  4  gasoline   \n",
       "111         0      golf       5000                 12    petrol   \n",
       "...       ...       ...        ...                ...       ...   \n",
       "354238     60    fiesta     150000                  3    petrol   \n",
       "354248     53     swift     150000                  3    petrol   \n",
       "354277     37     arosa     150000                  7    petrol   \n",
       "354309     60     arosa     150000                  1    petrol   \n",
       "354364      0      colt     150000                  7    petrol   \n",
       "\n",
       "                 Brand NotRepaired          DateCreated  NumberOfPictures  \\\n",
       "7           volkswagen          no  2016-03-21 00:00:00                 0   \n",
       "40                opel         NaN  2016-03-26 00:00:00                 0   \n",
       "59      sonstige_autos         NaN  2016-03-29 00:00:00                 0   \n",
       "89       mercedes_benz          no  2016-03-28 00:00:00                 0   \n",
       "111         volkswagen         NaN  2016-03-19 00:00:00                 0   \n",
       "...                ...         ...                  ...               ...   \n",
       "354238            ford         NaN  2016-03-20 00:00:00                 0   \n",
       "354248          suzuki         NaN  2016-03-24 00:00:00                 0   \n",
       "354277            seat         yes  2016-03-10 00:00:00                 0   \n",
       "354309            seat         yes  2016-03-09 00:00:00                 0   \n",
       "354364      mitsubishi         yes  2016-03-21 00:00:00                 0   \n",
       "\n",
       "        PostalCode             LastSeen  \n",
       "7            19348  2016-03-25 16:47:58  \n",
       "40           56412  2016-03-27 17:43:34  \n",
       "59           53721  2016-04-06 01:44:38  \n",
       "89           40589  2016-04-06 12:15:54  \n",
       "111          21698  2016-04-01 08:47:05  \n",
       "...            ...                  ...  \n",
       "354238       33659  2016-04-06 18:45:23  \n",
       "354248       42329  2016-04-07 05:17:24  \n",
       "354277       22559  2016-03-12 23:46:32  \n",
       "354309       91301  2016-04-06 22:15:32  \n",
       "354364        2694  2016-03-21 10:42:49  \n",
       "\n",
       "[13314 rows x 16 columns]"
      ]
     },
     "execution_count": 79,
     "metadata": {},
     "output_type": "execute_result"
    }
   ],
   "source": [
    "auto[auto['Price'] < 100]"
   ]
  },
  {
   "cell_type": "markdown",
   "metadata": {},
   "source": [
    "Большое количество строк с нулевой ценой и подозрительно низкой ценой, это скорее всего не рыночные варианты:\n",
    "- Сломанные;\n",
    "- Старые;\n",
    "- Не расстаможенные\n",
    "и тп\n",
    "\n",
    "А так как мы рассматриваем модель для рыночных вариантов то эти данные удаляем, тем более что их всего около 4%."
   ]
  },
  {
   "cell_type": "code",
   "execution_count": 80,
   "metadata": {},
   "outputs": [],
   "source": [
    "auto = auto[auto['Price'] > 100]"
   ]
  },
  {
   "cell_type": "markdown",
   "metadata": {},
   "source": [
    "#### Колонка VehicleType"
   ]
  },
  {
   "cell_type": "code",
   "execution_count": 81,
   "metadata": {},
   "outputs": [
    {
     "data": {
      "text/plain": [
       "sedan          88965\n",
       "small          77029\n",
       "wagon          63384\n",
       "bus            28256\n",
       "convertible    19807\n",
       "coupe          15534\n",
       "suv            11758\n",
       "other           3040\n",
       "Name: VehicleType, dtype: int64"
      ]
     },
     "metadata": {},
     "output_type": "display_data"
    },
    {
     "name": "stdout",
     "output_type": "stream",
     "text": [
      "Количество пропущенных значений: 32251\n"
     ]
    }
   ],
   "source": [
    "display(auto['VehicleType'].value_counts())\n",
    "print('Количество пропущенных значений:', auto['VehicleType'].isna().sum())"
   ]
  },
  {
   "cell_type": "markdown",
   "metadata": {},
   "source": [
    "Заменяем NaN на 'nondef' чтобы наша модель учитывала когда в объявлении нет данных по признаку"
   ]
  },
  {
   "cell_type": "code",
   "execution_count": 82,
   "metadata": {},
   "outputs": [],
   "source": [
    "auto['VehicleType'].fillna('nondef', inplace=True)"
   ]
  },
  {
   "cell_type": "code",
   "execution_count": 83,
   "metadata": {},
   "outputs": [
    {
     "name": "stdout",
     "output_type": "stream",
     "text": [
      "Количество пропущенных значений: 0\n"
     ]
    }
   ],
   "source": [
    "print('Количество пропущенных значений:', auto['VehicleType'].isna().sum())"
   ]
  },
  {
   "cell_type": "markdown",
   "metadata": {},
   "source": [
    "#### Колонка RegistrationYear"
   ]
  },
  {
   "cell_type": "code",
   "execution_count": 84,
   "metadata": {},
   "outputs": [
    {
     "data": {
      "text/plain": [
       "<matplotlib.axes._subplots.AxesSubplot at 0x7fb9b0b829d0>"
      ]
     },
     "execution_count": 84,
     "metadata": {},
     "output_type": "execute_result"
    },
    {
     "data": {
      "image/png": "[encoded data removed]",
      "text/plain": [
       "<Figure size 1080x360 with 1 Axes>"
      ]
     },
     "metadata": {
      "needs_background": "light"
     },
     "output_type": "display_data"
    }
   ],
   "source": [
    "auto['RegistrationYear'].hist(bins=300, figsize=(15,5))"
   ]
  },
  {
   "cell_type": "markdown",
   "metadata": {},
   "source": [
    "Взглянем на подозрительные года регистрации авто более 2022 года и ниже 1950 года"
   ]
  },
  {
   "cell_type": "code",
   "execution_count": 85,
   "metadata": {},
   "outputs": [
    {
     "data": {
      "text/html": [
       "<div>\n",
       "<style scoped>\n",
       "    .dataframe tbody tr th:only-of-type {\n",
       "        vertical-align: middle;\n",
       "    }\n",
       "\n",
       "    .dataframe tbody tr th {\n",
       "        vertical-align: top;\n",
       "    }\n",
       "\n",
       "    .dataframe thead th {\n",
       "        text-align: right;\n",
       "    }\n",
       "</style>\n",
       "<table border=\"1\" class=\"dataframe\">\n",
       "  <thead>\n",
       "    <tr style=\"text-align: right;\">\n",
       "      <th></th>\n",
       "      <th>DateCrawled</th>\n",
       "      <th>Price</th>\n",
       "      <th>VehicleType</th>\n",
       "      <th>RegistrationYear</th>\n",
       "      <th>Gearbox</th>\n",
       "      <th>Power</th>\n",
       "      <th>Model</th>\n",
       "      <th>Kilometer</th>\n",
       "      <th>RegistrationMonth</th>\n",
       "      <th>FuelType</th>\n",
       "      <th>Brand</th>\n",
       "      <th>NotRepaired</th>\n",
       "      <th>DateCreated</th>\n",
       "      <th>NumberOfPictures</th>\n",
       "      <th>PostalCode</th>\n",
       "      <th>LastSeen</th>\n",
       "    </tr>\n",
       "  </thead>\n",
       "  <tbody>\n",
       "    <tr>\n",
       "      <th>15</th>\n",
       "      <td>2016-03-11 21:39:15</td>\n",
       "      <td>450</td>\n",
       "      <td>small</td>\n",
       "      <td>1910</td>\n",
       "      <td>NaN</td>\n",
       "      <td>0</td>\n",
       "      <td>ka</td>\n",
       "      <td>5000</td>\n",
       "      <td>0</td>\n",
       "      <td>petrol</td>\n",
       "      <td>ford</td>\n",
       "      <td>NaN</td>\n",
       "      <td>2016-03-11 00:00:00</td>\n",
       "      <td>0</td>\n",
       "      <td>24148</td>\n",
       "      <td>2016-03-19 08:46:47</td>\n",
       "    </tr>\n",
       "    <tr>\n",
       "      <th>1928</th>\n",
       "      <td>2016-03-25 15:58:21</td>\n",
       "      <td>7000</td>\n",
       "      <td>suv</td>\n",
       "      <td>1945</td>\n",
       "      <td>manual</td>\n",
       "      <td>48</td>\n",
       "      <td>other</td>\n",
       "      <td>150000</td>\n",
       "      <td>2</td>\n",
       "      <td>petrol</td>\n",
       "      <td>volkswagen</td>\n",
       "      <td>no</td>\n",
       "      <td>2016-03-25 00:00:00</td>\n",
       "      <td>0</td>\n",
       "      <td>58135</td>\n",
       "      <td>2016-03-25 15:58:21</td>\n",
       "    </tr>\n",
       "    <tr>\n",
       "      <th>2273</th>\n",
       "      <td>2016-03-15 21:44:32</td>\n",
       "      <td>1800</td>\n",
       "      <td>convertible</td>\n",
       "      <td>1925</td>\n",
       "      <td>NaN</td>\n",
       "      <td>0</td>\n",
       "      <td>NaN</td>\n",
       "      <td>5000</td>\n",
       "      <td>1</td>\n",
       "      <td>NaN</td>\n",
       "      <td>sonstige_autos</td>\n",
       "      <td>no</td>\n",
       "      <td>2016-03-15 00:00:00</td>\n",
       "      <td>0</td>\n",
       "      <td>79288</td>\n",
       "      <td>2016-04-07 05:15:34</td>\n",
       "    </tr>\n",
       "    <tr>\n",
       "      <th>6977</th>\n",
       "      <td>2016-03-24 08:37:22</td>\n",
       "      <td>135</td>\n",
       "      <td>nondef</td>\n",
       "      <td>1910</td>\n",
       "      <td>NaN</td>\n",
       "      <td>0</td>\n",
       "      <td>NaN</td>\n",
       "      <td>5000</td>\n",
       "      <td>0</td>\n",
       "      <td>NaN</td>\n",
       "      <td>opel</td>\n",
       "      <td>NaN</td>\n",
       "      <td>2016-03-24 00:00:00</td>\n",
       "      <td>0</td>\n",
       "      <td>19374</td>\n",
       "      <td>2016-04-06 20:46:08</td>\n",
       "    </tr>\n",
       "    <tr>\n",
       "      <th>10183</th>\n",
       "      <td>2016-03-27 13:59:08</td>\n",
       "      <td>1250</td>\n",
       "      <td>nondef</td>\n",
       "      <td>1910</td>\n",
       "      <td>NaN</td>\n",
       "      <td>0</td>\n",
       "      <td>other</td>\n",
       "      <td>5000</td>\n",
       "      <td>0</td>\n",
       "      <td>NaN</td>\n",
       "      <td>audi</td>\n",
       "      <td>NaN</td>\n",
       "      <td>2016-03-27 00:00:00</td>\n",
       "      <td>0</td>\n",
       "      <td>18445</td>\n",
       "      <td>2016-04-07 10:45:31</td>\n",
       "    </tr>\n",
       "    <tr>\n",
       "      <th>...</th>\n",
       "      <td>...</td>\n",
       "      <td>...</td>\n",
       "      <td>...</td>\n",
       "      <td>...</td>\n",
       "      <td>...</td>\n",
       "      <td>...</td>\n",
       "      <td>...</td>\n",
       "      <td>...</td>\n",
       "      <td>...</td>\n",
       "      <td>...</td>\n",
       "      <td>...</td>\n",
       "      <td>...</td>\n",
       "      <td>...</td>\n",
       "      <td>...</td>\n",
       "      <td>...</td>\n",
       "      <td>...</td>\n",
       "    </tr>\n",
       "    <tr>\n",
       "      <th>340759</th>\n",
       "      <td>2016-04-04 23:55:47</td>\n",
       "      <td>700</td>\n",
       "      <td>nondef</td>\n",
       "      <td>1600</td>\n",
       "      <td>manual</td>\n",
       "      <td>1600</td>\n",
       "      <td>a3</td>\n",
       "      <td>150000</td>\n",
       "      <td>4</td>\n",
       "      <td>petrol</td>\n",
       "      <td>audi</td>\n",
       "      <td>no</td>\n",
       "      <td>2016-04-04 00:00:00</td>\n",
       "      <td>0</td>\n",
       "      <td>86343</td>\n",
       "      <td>2016-04-05 06:44:07</td>\n",
       "    </tr>\n",
       "    <tr>\n",
       "      <th>346046</th>\n",
       "      <td>2016-03-26 16:45:28</td>\n",
       "      <td>18900</td>\n",
       "      <td>suv</td>\n",
       "      <td>1943</td>\n",
       "      <td>manual</td>\n",
       "      <td>60</td>\n",
       "      <td>other</td>\n",
       "      <td>150000</td>\n",
       "      <td>3</td>\n",
       "      <td>petrol</td>\n",
       "      <td>volkswagen</td>\n",
       "      <td>no</td>\n",
       "      <td>2016-03-26 00:00:00</td>\n",
       "      <td>0</td>\n",
       "      <td>51065</td>\n",
       "      <td>2016-03-26 16:45:28</td>\n",
       "    </tr>\n",
       "    <tr>\n",
       "      <th>351682</th>\n",
       "      <td>2016-03-12 00:57:39</td>\n",
       "      <td>11500</td>\n",
       "      <td>nondef</td>\n",
       "      <td>1800</td>\n",
       "      <td>NaN</td>\n",
       "      <td>16</td>\n",
       "      <td>other</td>\n",
       "      <td>5000</td>\n",
       "      <td>6</td>\n",
       "      <td>petrol</td>\n",
       "      <td>fiat</td>\n",
       "      <td>NaN</td>\n",
       "      <td>2016-03-11 00:00:00</td>\n",
       "      <td>0</td>\n",
       "      <td>16515</td>\n",
       "      <td>2016-04-05 19:47:27</td>\n",
       "    </tr>\n",
       "    <tr>\n",
       "      <th>353531</th>\n",
       "      <td>2016-03-16 21:56:55</td>\n",
       "      <td>6000</td>\n",
       "      <td>sedan</td>\n",
       "      <td>1937</td>\n",
       "      <td>manual</td>\n",
       "      <td>38</td>\n",
       "      <td>other</td>\n",
       "      <td>5000</td>\n",
       "      <td>0</td>\n",
       "      <td>petrol</td>\n",
       "      <td>mercedes_benz</td>\n",
       "      <td>NaN</td>\n",
       "      <td>2016-03-16 00:00:00</td>\n",
       "      <td>0</td>\n",
       "      <td>23936</td>\n",
       "      <td>2016-03-30 18:47:41</td>\n",
       "    </tr>\n",
       "    <tr>\n",
       "      <th>353961</th>\n",
       "      <td>2016-03-17 13:54:22</td>\n",
       "      <td>200</td>\n",
       "      <td>nondef</td>\n",
       "      <td>1910</td>\n",
       "      <td>NaN</td>\n",
       "      <td>0</td>\n",
       "      <td>NaN</td>\n",
       "      <td>5000</td>\n",
       "      <td>0</td>\n",
       "      <td>petrol</td>\n",
       "      <td>sonstige_autos</td>\n",
       "      <td>NaN</td>\n",
       "      <td>2016-03-17 00:00:00</td>\n",
       "      <td>0</td>\n",
       "      <td>42289</td>\n",
       "      <td>2016-03-31 22:46:47</td>\n",
       "    </tr>\n",
       "  </tbody>\n",
       "</table>\n",
       "<p>213 rows × 16 columns</p>\n",
       "</div>"
      ],
      "text/plain": [
       "                DateCrawled  Price  VehicleType  RegistrationYear Gearbox  \\\n",
       "15      2016-03-11 21:39:15    450        small              1910     NaN   \n",
       "1928    2016-03-25 15:58:21   7000          suv              1945  manual   \n",
       "2273    2016-03-15 21:44:32   1800  convertible              1925     NaN   \n",
       "6977    2016-03-24 08:37:22    135       nondef              1910     NaN   \n",
       "10183   2016-03-27 13:59:08   1250       nondef              1910     NaN   \n",
       "...                     ...    ...          ...               ...     ...   \n",
       "340759  2016-04-04 23:55:47    700       nondef              1600  manual   \n",
       "346046  2016-03-26 16:45:28  18900          suv              1943  manual   \n",
       "351682  2016-03-12 00:57:39  11500       nondef              1800     NaN   \n",
       "353531  2016-03-16 21:56:55   6000        sedan              1937  manual   \n",
       "353961  2016-03-17 13:54:22    200       nondef              1910     NaN   \n",
       "\n",
       "        Power  Model  Kilometer  RegistrationMonth FuelType           Brand  \\\n",
       "15          0     ka       5000                  0   petrol            ford   \n",
       "1928       48  other     150000                  2   petrol      volkswagen   \n",
       "2273        0    NaN       5000                  1      NaN  sonstige_autos   \n",
       "6977        0    NaN       5000                  0      NaN            opel   \n",
       "10183       0  other       5000                  0      NaN            audi   \n",
       "...       ...    ...        ...                ...      ...             ...   \n",
       "340759   1600     a3     150000                  4   petrol            audi   \n",
       "346046     60  other     150000                  3   petrol      volkswagen   \n",
       "351682     16  other       5000                  6   petrol            fiat   \n",
       "353531     38  other       5000                  0   petrol   mercedes_benz   \n",
       "353961      0    NaN       5000                  0   petrol  sonstige_autos   \n",
       "\n",
       "       NotRepaired          DateCreated  NumberOfPictures  PostalCode  \\\n",
       "15             NaN  2016-03-11 00:00:00                 0       24148   \n",
       "1928            no  2016-03-25 00:00:00                 0       58135   \n",
       "2273            no  2016-03-15 00:00:00                 0       79288   \n",
       "6977           NaN  2016-03-24 00:00:00                 0       19374   \n",
       "10183          NaN  2016-03-27 00:00:00                 0       18445   \n",
       "...            ...                  ...               ...         ...   \n",
       "340759          no  2016-04-04 00:00:00                 0       86343   \n",
       "346046          no  2016-03-26 00:00:00                 0       51065   \n",
       "351682         NaN  2016-03-11 00:00:00                 0       16515   \n",
       "353531         NaN  2016-03-16 00:00:00                 0       23936   \n",
       "353961         NaN  2016-03-17 00:00:00                 0       42289   \n",
       "\n",
       "                   LastSeen  \n",
       "15      2016-03-19 08:46:47  \n",
       "1928    2016-03-25 15:58:21  \n",
       "2273    2016-04-07 05:15:34  \n",
       "6977    2016-04-06 20:46:08  \n",
       "10183   2016-04-07 10:45:31  \n",
       "...                     ...  \n",
       "340759  2016-04-05 06:44:07  \n",
       "346046  2016-03-26 16:45:28  \n",
       "351682  2016-04-05 19:47:27  \n",
       "353531  2016-03-30 18:47:41  \n",
       "353961  2016-03-31 22:46:47  \n",
       "\n",
       "[213 rows x 16 columns]"
      ]
     },
     "execution_count": 85,
     "metadata": {},
     "output_type": "execute_result"
    }
   ],
   "source": [
    "auto.query('RegistrationYear < 1950 or RegistrationYear > 2022')"
   ]
  },
  {
   "cell_type": "markdown",
   "metadata": {},
   "source": [
    "Значений не много, на модель не повлияет поэтому удаляем их"
   ]
  },
  {
   "cell_type": "code",
   "execution_count": 86,
   "metadata": {},
   "outputs": [],
   "source": [
    "auto = auto.query('RegistrationYear >= 1950 and RegistrationYear <= 2022')"
   ]
  },
  {
   "cell_type": "code",
   "execution_count": 87,
   "metadata": {},
   "outputs": [
    {
     "data": {
      "text/plain": [
       "<matplotlib.axes._subplots.AxesSubplot at 0x7fb96f7bf990>"
      ]
     },
     "execution_count": 87,
     "metadata": {},
     "output_type": "execute_result"
    },
    {
     "data": {
      "image/png": "[encoded data removed]",
      "text/plain": [
       "<Figure size 1080x360 with 1 Axes>"
      ]
     },
     "metadata": {
      "needs_background": "light"
     },
     "output_type": "display_data"
    }
   ],
   "source": [
    "auto['RegistrationYear'].hist(bins=70, figsize=(15,5))"
   ]
  },
  {
   "cell_type": "code",
   "execution_count": 88,
   "metadata": {},
   "outputs": [
    {
     "data": {
      "text/plain": [
       "count    339811.000000\n",
       "mean       2003.246466\n",
       "std           7.184909\n",
       "min        1950.000000\n",
       "25%        1999.000000\n",
       "50%        2003.000000\n",
       "75%        2008.000000\n",
       "max        2019.000000\n",
       "Name: RegistrationYear, dtype: float64"
      ]
     },
     "execution_count": 88,
     "metadata": {},
     "output_type": "execute_result"
    }
   ],
   "source": [
    "auto['RegistrationYear'].describe()"
   ]
  },
  {
   "cell_type": "code",
   "execution_count": 89,
   "metadata": {},
   "outputs": [
    {
     "name": "stdout",
     "output_type": "stream",
     "text": [
      "Вывод года сбора данных: [2016]\n"
     ]
    }
   ],
   "source": [
    "print(\"Вывод года сбора данных:\", pd.to_datetime(auto['DateCrawled']).dt.year.unique())\n",
    "auto['year'] = pd.to_datetime(auto['DateCrawled']).dt.year"
   ]
  },
  {
   "cell_type": "code",
   "execution_count": 90,
   "metadata": {},
   "outputs": [],
   "source": [
    "auto = auto[auto['RegistrationYear'] < 2017]"
   ]
  },
  {
   "cell_type": "code",
   "execution_count": 91,
   "metadata": {},
   "outputs": [
    {
     "data": {
      "text/plain": [
       "<matplotlib.axes._subplots.AxesSubplot at 0x7fb96f27e890>"
      ]
     },
     "execution_count": 91,
     "metadata": {},
     "output_type": "execute_result"
    },
    {
     "data": {
      "image/png": "[encoded data removed]",
      "text/plain": [
       "<Figure size 1080x360 with 1 Axes>"
      ]
     },
     "metadata": {
      "needs_background": "light"
     },
     "output_type": "display_data"
    }
   ],
   "source": [
    "auto.boxplot(by ='year', column = ['RegistrationYear'], figsize=(15,5))"
   ]
  },
  {
   "cell_type": "code",
   "execution_count": 92,
   "metadata": {},
   "outputs": [],
   "source": [
    "Q1 = auto['RegistrationYear'].quantile(0.25)\n",
    "Q3 = auto['RegistrationYear'].quantile(0.75)\n",
    "IQR = Q3 - Q1\n",
    "\n",
    "auto = auto[(auto['RegistrationYear'] > Q1-1.5*IQR )]"
   ]
  },
  {
   "cell_type": "code",
   "execution_count": 93,
   "metadata": {},
   "outputs": [
    {
     "data": {
      "text/plain": [
       "<matplotlib.axes._subplots.AxesSubplot at 0x7fb96f2f1450>"
      ]
     },
     "execution_count": 93,
     "metadata": {},
     "output_type": "execute_result"
    },
    {
     "data": {
      "image/png": "[encoded data removed]",
      "text/plain": [
       "<Figure size 1080x360 with 1 Axes>"
      ]
     },
     "metadata": {
      "needs_background": "light"
     },
     "output_type": "display_data"
    }
   ],
   "source": [
    "auto.boxplot(by ='year', column = ['RegistrationYear'], figsize=(15,5))"
   ]
  },
  {
   "cell_type": "markdown",
   "metadata": {},
   "source": [
    "#### Колонка Gearbox"
   ]
  },
  {
   "cell_type": "code",
   "execution_count": 94,
   "metadata": {},
   "outputs": [
    {
     "data": {
      "text/plain": [
       "manual    244857\n",
       "auto       61419\n",
       "Name: Gearbox, dtype: int64"
      ]
     },
     "execution_count": 94,
     "metadata": {},
     "output_type": "execute_result"
    }
   ],
   "source": [
    "auto['Gearbox'].value_counts()"
   ]
  },
  {
   "cell_type": "code",
   "execution_count": 95,
   "metadata": {},
   "outputs": [
    {
     "name": "stdout",
     "output_type": "stream",
     "text": [
      "Количество пропущенных значений: 13480\n"
     ]
    }
   ],
   "source": [
    "print('Количество пропущенных значений:', auto['Gearbox'].isna().sum())"
   ]
  },
  {
   "cell_type": "markdown",
   "metadata": {},
   "source": [
    "Заменяем NaN на 'nondef' чтобы наша модель учитывала когда в объявлении нет данных по признаку"
   ]
  },
  {
   "cell_type": "code",
   "execution_count": 96,
   "metadata": {},
   "outputs": [],
   "source": [
    "auto['Gearbox'].fillna('nondef', inplace=True)"
   ]
  },
  {
   "cell_type": "code",
   "execution_count": 97,
   "metadata": {},
   "outputs": [
    {
     "name": "stdout",
     "output_type": "stream",
     "text": [
      "Количество пропущенных значений: 0\n"
     ]
    }
   ],
   "source": [
    "print('Количество пропущенных значений:', auto['Gearbox'].isna().sum())"
   ]
  },
  {
   "cell_type": "markdown",
   "metadata": {},
   "source": [
    "# Колонка Power"
   ]
  },
  {
   "cell_type": "code",
   "execution_count": 98,
   "metadata": {},
   "outputs": [
    {
     "data": {
      "text/plain": [
       "<matplotlib.axes._subplots.AxesSubplot at 0x7fb96f1825d0>"
      ]
     },
     "execution_count": 98,
     "metadata": {},
     "output_type": "execute_result"
    },
    {
     "data": {
      "image/png": "[encoded data removed]",
      "text/plain": [
       "<Figure size 1080x360 with 1 Axes>"
      ]
     },
     "metadata": {
      "needs_background": "light"
     },
     "output_type": "display_data"
    }
   ],
   "source": [
    "auto['Power'].hist(bins=300, figsize=(15,5))"
   ]
  },
  {
   "cell_type": "markdown",
   "metadata": {},
   "source": [
    "Для того что бы определить какие значения отсекать посмотрим до 1000 лс"
   ]
  },
  {
   "cell_type": "code",
   "execution_count": 99,
   "metadata": {},
   "outputs": [
    {
     "data": {
      "text/plain": [
       "<matplotlib.axes._subplots.AxesSubplot at 0x7fb96fb04e50>"
      ]
     },
     "execution_count": 99,
     "metadata": {},
     "output_type": "execute_result"
    },
    {
     "data": {
      "image/png": "[encoded data removed]",
      "text/plain": [
       "<Figure size 1080x360 with 1 Axes>"
      ]
     },
     "metadata": {
      "needs_background": "light"
     },
     "output_type": "display_data"
    }
   ],
   "source": [
    "auto['Power'].hist(bins=200, figsize=(15,5), range=[0, 1000])"
   ]
  },
  {
   "cell_type": "markdown",
   "metadata": {},
   "source": [
    "Посмотрим на объявления до 20 л.с"
   ]
  },
  {
   "cell_type": "code",
   "execution_count": 100,
   "metadata": {},
   "outputs": [
    {
     "data": {
      "text/html": [
       "<div>\n",
       "<style scoped>\n",
       "    .dataframe tbody tr th:only-of-type {\n",
       "        vertical-align: middle;\n",
       "    }\n",
       "\n",
       "    .dataframe tbody tr th {\n",
       "        vertical-align: top;\n",
       "    }\n",
       "\n",
       "    .dataframe thead th {\n",
       "        text-align: right;\n",
       "    }\n",
       "</style>\n",
       "<table border=\"1\" class=\"dataframe\">\n",
       "  <thead>\n",
       "    <tr style=\"text-align: right;\">\n",
       "      <th></th>\n",
       "      <th>DateCrawled</th>\n",
       "      <th>Price</th>\n",
       "      <th>VehicleType</th>\n",
       "      <th>RegistrationYear</th>\n",
       "      <th>Gearbox</th>\n",
       "      <th>Power</th>\n",
       "      <th>Model</th>\n",
       "      <th>Kilometer</th>\n",
       "      <th>RegistrationMonth</th>\n",
       "      <th>FuelType</th>\n",
       "      <th>Brand</th>\n",
       "      <th>NotRepaired</th>\n",
       "      <th>DateCreated</th>\n",
       "      <th>NumberOfPictures</th>\n",
       "      <th>PostalCode</th>\n",
       "      <th>LastSeen</th>\n",
       "      <th>year</th>\n",
       "    </tr>\n",
       "  </thead>\n",
       "  <tbody>\n",
       "    <tr>\n",
       "      <th>0</th>\n",
       "      <td>2016-03-24 11:52:17</td>\n",
       "      <td>480</td>\n",
       "      <td>nondef</td>\n",
       "      <td>1993</td>\n",
       "      <td>manual</td>\n",
       "      <td>0</td>\n",
       "      <td>golf</td>\n",
       "      <td>150000</td>\n",
       "      <td>0</td>\n",
       "      <td>petrol</td>\n",
       "      <td>volkswagen</td>\n",
       "      <td>NaN</td>\n",
       "      <td>2016-03-24 00:00:00</td>\n",
       "      <td>0</td>\n",
       "      <td>70435</td>\n",
       "      <td>2016-04-07 03:16:57</td>\n",
       "      <td>2016</td>\n",
       "    </tr>\n",
       "    <tr>\n",
       "      <th>32</th>\n",
       "      <td>2016-03-15 20:59:01</td>\n",
       "      <td>245</td>\n",
       "      <td>sedan</td>\n",
       "      <td>1994</td>\n",
       "      <td>nondef</td>\n",
       "      <td>0</td>\n",
       "      <td>golf</td>\n",
       "      <td>150000</td>\n",
       "      <td>2</td>\n",
       "      <td>petrol</td>\n",
       "      <td>volkswagen</td>\n",
       "      <td>no</td>\n",
       "      <td>2016-03-15 00:00:00</td>\n",
       "      <td>0</td>\n",
       "      <td>44145</td>\n",
       "      <td>2016-03-17 18:17:43</td>\n",
       "      <td>2016</td>\n",
       "    </tr>\n",
       "    <tr>\n",
       "      <th>37</th>\n",
       "      <td>2016-03-28 17:50:15</td>\n",
       "      <td>1500</td>\n",
       "      <td>nondef</td>\n",
       "      <td>2016</td>\n",
       "      <td>nondef</td>\n",
       "      <td>0</td>\n",
       "      <td>kangoo</td>\n",
       "      <td>150000</td>\n",
       "      <td>1</td>\n",
       "      <td>gasoline</td>\n",
       "      <td>renault</td>\n",
       "      <td>no</td>\n",
       "      <td>2016-03-28 00:00:00</td>\n",
       "      <td>0</td>\n",
       "      <td>46483</td>\n",
       "      <td>2016-03-30 09:18:02</td>\n",
       "      <td>2016</td>\n",
       "    </tr>\n",
       "    <tr>\n",
       "      <th>54</th>\n",
       "      <td>2016-03-17 07:56:40</td>\n",
       "      <td>4700</td>\n",
       "      <td>wagon</td>\n",
       "      <td>2005</td>\n",
       "      <td>manual</td>\n",
       "      <td>0</td>\n",
       "      <td>signum</td>\n",
       "      <td>150000</td>\n",
       "      <td>0</td>\n",
       "      <td>NaN</td>\n",
       "      <td>opel</td>\n",
       "      <td>no</td>\n",
       "      <td>2016-03-17 00:00:00</td>\n",
       "      <td>0</td>\n",
       "      <td>88433</td>\n",
       "      <td>2016-04-04 04:17:32</td>\n",
       "      <td>2016</td>\n",
       "    </tr>\n",
       "    <tr>\n",
       "      <th>55</th>\n",
       "      <td>2016-03-26 10:39:35</td>\n",
       "      <td>550</td>\n",
       "      <td>wagon</td>\n",
       "      <td>1999</td>\n",
       "      <td>manual</td>\n",
       "      <td>0</td>\n",
       "      <td>astra</td>\n",
       "      <td>150000</td>\n",
       "      <td>8</td>\n",
       "      <td>gasoline</td>\n",
       "      <td>opel</td>\n",
       "      <td>yes</td>\n",
       "      <td>2016-03-26 00:00:00</td>\n",
       "      <td>0</td>\n",
       "      <td>56759</td>\n",
       "      <td>2016-04-01 23:17:27</td>\n",
       "      <td>2016</td>\n",
       "    </tr>\n",
       "    <tr>\n",
       "      <th>69</th>\n",
       "      <td>2016-04-01 11:56:40</td>\n",
       "      <td>1200</td>\n",
       "      <td>coupe</td>\n",
       "      <td>2001</td>\n",
       "      <td>nondef</td>\n",
       "      <td>0</td>\n",
       "      <td>astra</td>\n",
       "      <td>150000</td>\n",
       "      <td>0</td>\n",
       "      <td>NaN</td>\n",
       "      <td>opel</td>\n",
       "      <td>NaN</td>\n",
       "      <td>2016-04-01 00:00:00</td>\n",
       "      <td>0</td>\n",
       "      <td>47249</td>\n",
       "      <td>2016-04-07 08:46:07</td>\n",
       "      <td>2016</td>\n",
       "    </tr>\n",
       "    <tr>\n",
       "      <th>70</th>\n",
       "      <td>2016-03-08 01:36:42</td>\n",
       "      <td>800</td>\n",
       "      <td>small</td>\n",
       "      <td>1993</td>\n",
       "      <td>manual</td>\n",
       "      <td>0</td>\n",
       "      <td>polo</td>\n",
       "      <td>150000</td>\n",
       "      <td>3</td>\n",
       "      <td>petrol</td>\n",
       "      <td>volkswagen</td>\n",
       "      <td>no</td>\n",
       "      <td>2016-03-08 00:00:00</td>\n",
       "      <td>0</td>\n",
       "      <td>8258</td>\n",
       "      <td>2016-04-05 23:46:00</td>\n",
       "      <td>2016</td>\n",
       "    </tr>\n",
       "    <tr>\n",
       "      <th>90</th>\n",
       "      <td>2016-03-23 11:53:21</td>\n",
       "      <td>2400</td>\n",
       "      <td>sedan</td>\n",
       "      <td>2003</td>\n",
       "      <td>manual</td>\n",
       "      <td>0</td>\n",
       "      <td>a4</td>\n",
       "      <td>150000</td>\n",
       "      <td>9</td>\n",
       "      <td>gasoline</td>\n",
       "      <td>audi</td>\n",
       "      <td>NaN</td>\n",
       "      <td>2016-03-23 00:00:00</td>\n",
       "      <td>0</td>\n",
       "      <td>40210</td>\n",
       "      <td>2016-03-23 11:53:21</td>\n",
       "      <td>2016</td>\n",
       "    </tr>\n",
       "    <tr>\n",
       "      <th>94</th>\n",
       "      <td>2016-03-28 16:37:43</td>\n",
       "      <td>8390</td>\n",
       "      <td>nondef</td>\n",
       "      <td>2009</td>\n",
       "      <td>nondef</td>\n",
       "      <td>0</td>\n",
       "      <td>insignia</td>\n",
       "      <td>150000</td>\n",
       "      <td>0</td>\n",
       "      <td>NaN</td>\n",
       "      <td>opel</td>\n",
       "      <td>NaN</td>\n",
       "      <td>2016-03-28 00:00:00</td>\n",
       "      <td>0</td>\n",
       "      <td>29221</td>\n",
       "      <td>2016-03-30 07:44:59</td>\n",
       "      <td>2016</td>\n",
       "    </tr>\n",
       "    <tr>\n",
       "      <th>98</th>\n",
       "      <td>2016-03-11 19:00:25</td>\n",
       "      <td>4290</td>\n",
       "      <td>bus</td>\n",
       "      <td>2008</td>\n",
       "      <td>manual</td>\n",
       "      <td>0</td>\n",
       "      <td>combo</td>\n",
       "      <td>150000</td>\n",
       "      <td>2</td>\n",
       "      <td>gasoline</td>\n",
       "      <td>opel</td>\n",
       "      <td>no</td>\n",
       "      <td>2016-03-11 00:00:00</td>\n",
       "      <td>0</td>\n",
       "      <td>23568</td>\n",
       "      <td>2016-04-05 22:45:32</td>\n",
       "      <td>2016</td>\n",
       "    </tr>\n",
       "  </tbody>\n",
       "</table>\n",
       "</div>"
      ],
      "text/plain": [
       "            DateCrawled  Price VehicleType  RegistrationYear Gearbox  Power  \\\n",
       "0   2016-03-24 11:52:17    480      nondef              1993  manual      0   \n",
       "32  2016-03-15 20:59:01    245       sedan              1994  nondef      0   \n",
       "37  2016-03-28 17:50:15   1500      nondef              2016  nondef      0   \n",
       "54  2016-03-17 07:56:40   4700       wagon              2005  manual      0   \n",
       "55  2016-03-26 10:39:35    550       wagon              1999  manual      0   \n",
       "69  2016-04-01 11:56:40   1200       coupe              2001  nondef      0   \n",
       "70  2016-03-08 01:36:42    800       small              1993  manual      0   \n",
       "90  2016-03-23 11:53:21   2400       sedan              2003  manual      0   \n",
       "94  2016-03-28 16:37:43   8390      nondef              2009  nondef      0   \n",
       "98  2016-03-11 19:00:25   4290         bus              2008  manual      0   \n",
       "\n",
       "       Model  Kilometer  RegistrationMonth  FuelType       Brand NotRepaired  \\\n",
       "0       golf     150000                  0    petrol  volkswagen         NaN   \n",
       "32      golf     150000                  2    petrol  volkswagen          no   \n",
       "37    kangoo     150000                  1  gasoline     renault          no   \n",
       "54    signum     150000                  0       NaN        opel          no   \n",
       "55     astra     150000                  8  gasoline        opel         yes   \n",
       "69     astra     150000                  0       NaN        opel         NaN   \n",
       "70      polo     150000                  3    petrol  volkswagen          no   \n",
       "90        a4     150000                  9  gasoline        audi         NaN   \n",
       "94  insignia     150000                  0       NaN        opel         NaN   \n",
       "98     combo     150000                  2  gasoline        opel          no   \n",
       "\n",
       "            DateCreated  NumberOfPictures  PostalCode             LastSeen  \\\n",
       "0   2016-03-24 00:00:00                 0       70435  2016-04-07 03:16:57   \n",
       "32  2016-03-15 00:00:00                 0       44145  2016-03-17 18:17:43   \n",
       "37  2016-03-28 00:00:00                 0       46483  2016-03-30 09:18:02   \n",
       "54  2016-03-17 00:00:00                 0       88433  2016-04-04 04:17:32   \n",
       "55  2016-03-26 00:00:00                 0       56759  2016-04-01 23:17:27   \n",
       "69  2016-04-01 00:00:00                 0       47249  2016-04-07 08:46:07   \n",
       "70  2016-03-08 00:00:00                 0        8258  2016-04-05 23:46:00   \n",
       "90  2016-03-23 00:00:00                 0       40210  2016-03-23 11:53:21   \n",
       "94  2016-03-28 00:00:00                 0       29221  2016-03-30 07:44:59   \n",
       "98  2016-03-11 00:00:00                 0       23568  2016-04-05 22:45:32   \n",
       "\n",
       "    year  \n",
       "0   2016  \n",
       "32  2016  \n",
       "37  2016  \n",
       "54  2016  \n",
       "55  2016  \n",
       "69  2016  \n",
       "70  2016  \n",
       "90  2016  \n",
       "94  2016  \n",
       "98  2016  "
      ]
     },
     "execution_count": 100,
     "metadata": {},
     "output_type": "execute_result"
    }
   ],
   "source": [
    "auto.query('Power <= 20').head(10)"
   ]
  },
  {
   "cell_type": "markdown",
   "metadata": {},
   "source": [
    "Видим что тут в основном нули, посмотрим сколько их"
   ]
  },
  {
   "cell_type": "code",
   "execution_count": 101,
   "metadata": {},
   "outputs": [
    {
     "name": "stdout",
     "output_type": "stream",
     "text": [
      "Количество объявлений с автомобилями менее 20 л.с.: 29986\n"
     ]
    }
   ],
   "source": [
    "print('Количество объявлений с автомобилями менее 20 л.с.:', (auto['Power'] <= 20).sum())"
   ]
  },
  {
   "cell_type": "markdown",
   "metadata": {},
   "source": [
    "Видно что таких объявлений значительное количество, но не критическое удалим их, но будем иметь ввиду что если наша модель будет плохо обрабатывать значения близкие к нулю то необходимо будет доработать данные в этой части"
   ]
  },
  {
   "cell_type": "code",
   "execution_count": 102,
   "metadata": {},
   "outputs": [],
   "source": [
    "auto = auto[auto['Power'] >= 20]"
   ]
  },
  {
   "cell_type": "markdown",
   "metadata": {},
   "source": [
    "Посмотрим на данные более 500 л.с."
   ]
  },
  {
   "cell_type": "code",
   "execution_count": 103,
   "metadata": {},
   "outputs": [
    {
     "data": {
      "text/plain": [
       "count      375.000000\n",
       "mean      3020.341333\n",
       "std       4165.503293\n",
       "min        504.000000\n",
       "25%        750.500000\n",
       "50%       1390.000000\n",
       "75%       2012.500000\n",
       "max      20000.000000\n",
       "Name: Power, dtype: float64"
      ]
     },
     "metadata": {},
     "output_type": "display_data"
    },
    {
     "data": {
      "text/html": [
       "<div>\n",
       "<style scoped>\n",
       "    .dataframe tbody tr th:only-of-type {\n",
       "        vertical-align: middle;\n",
       "    }\n",
       "\n",
       "    .dataframe tbody tr th {\n",
       "        vertical-align: top;\n",
       "    }\n",
       "\n",
       "    .dataframe thead th {\n",
       "        text-align: right;\n",
       "    }\n",
       "</style>\n",
       "<table border=\"1\" class=\"dataframe\">\n",
       "  <thead>\n",
       "    <tr style=\"text-align: right;\">\n",
       "      <th></th>\n",
       "      <th>DateCrawled</th>\n",
       "      <th>Price</th>\n",
       "      <th>VehicleType</th>\n",
       "      <th>RegistrationYear</th>\n",
       "      <th>Gearbox</th>\n",
       "      <th>Power</th>\n",
       "      <th>Model</th>\n",
       "      <th>Kilometer</th>\n",
       "      <th>RegistrationMonth</th>\n",
       "      <th>FuelType</th>\n",
       "      <th>Brand</th>\n",
       "      <th>NotRepaired</th>\n",
       "      <th>DateCreated</th>\n",
       "      <th>NumberOfPictures</th>\n",
       "      <th>PostalCode</th>\n",
       "      <th>LastSeen</th>\n",
       "      <th>year</th>\n",
       "    </tr>\n",
       "  </thead>\n",
       "  <tbody>\n",
       "    <tr>\n",
       "      <th>1816</th>\n",
       "      <td>2016-03-22 20:52:00</td>\n",
       "      <td>3200</td>\n",
       "      <td>small</td>\n",
       "      <td>2004</td>\n",
       "      <td>manual</td>\n",
       "      <td>1398</td>\n",
       "      <td>corolla</td>\n",
       "      <td>5000</td>\n",
       "      <td>6</td>\n",
       "      <td>petrol</td>\n",
       "      <td>toyota</td>\n",
       "      <td>no</td>\n",
       "      <td>2016-03-22 00:00:00</td>\n",
       "      <td>0</td>\n",
       "      <td>22043</td>\n",
       "      <td>2016-03-22 21:43:26</td>\n",
       "      <td>2016</td>\n",
       "    </tr>\n",
       "    <tr>\n",
       "      <th>4060</th>\n",
       "      <td>2016-04-03 20:31:00</td>\n",
       "      <td>3100</td>\n",
       "      <td>sedan</td>\n",
       "      <td>2005</td>\n",
       "      <td>manual</td>\n",
       "      <td>953</td>\n",
       "      <td>colt</td>\n",
       "      <td>150000</td>\n",
       "      <td>4</td>\n",
       "      <td>gasoline</td>\n",
       "      <td>mitsubishi</td>\n",
       "      <td>no</td>\n",
       "      <td>2016-04-03 00:00:00</td>\n",
       "      <td>0</td>\n",
       "      <td>60326</td>\n",
       "      <td>2016-04-07 14:56:46</td>\n",
       "      <td>2016</td>\n",
       "    </tr>\n",
       "    <tr>\n",
       "      <th>5328</th>\n",
       "      <td>2016-03-29 19:44:48</td>\n",
       "      <td>500</td>\n",
       "      <td>wagon</td>\n",
       "      <td>1999</td>\n",
       "      <td>manual</td>\n",
       "      <td>1001</td>\n",
       "      <td>astra</td>\n",
       "      <td>150000</td>\n",
       "      <td>7</td>\n",
       "      <td>petrol</td>\n",
       "      <td>opel</td>\n",
       "      <td>NaN</td>\n",
       "      <td>2016-03-29 00:00:00</td>\n",
       "      <td>0</td>\n",
       "      <td>33154</td>\n",
       "      <td>2016-04-06 05:44:36</td>\n",
       "      <td>2016</td>\n",
       "    </tr>\n",
       "    <tr>\n",
       "      <th>6296</th>\n",
       "      <td>2016-03-31 23:50:47</td>\n",
       "      <td>599</td>\n",
       "      <td>small</td>\n",
       "      <td>2002</td>\n",
       "      <td>manual</td>\n",
       "      <td>603</td>\n",
       "      <td>matiz</td>\n",
       "      <td>5000</td>\n",
       "      <td>11</td>\n",
       "      <td>petrol</td>\n",
       "      <td>chevrolet</td>\n",
       "      <td>yes</td>\n",
       "      <td>2016-03-31 00:00:00</td>\n",
       "      <td>0</td>\n",
       "      <td>44379</td>\n",
       "      <td>2016-04-01 03:41:52</td>\n",
       "      <td>2016</td>\n",
       "    </tr>\n",
       "    <tr>\n",
       "      <th>6504</th>\n",
       "      <td>2016-03-14 15:54:34</td>\n",
       "      <td>3000</td>\n",
       "      <td>small</td>\n",
       "      <td>2009</td>\n",
       "      <td>manual</td>\n",
       "      <td>771</td>\n",
       "      <td>punto</td>\n",
       "      <td>125000</td>\n",
       "      <td>0</td>\n",
       "      <td>petrol</td>\n",
       "      <td>fiat</td>\n",
       "      <td>NaN</td>\n",
       "      <td>2016-03-14 00:00:00</td>\n",
       "      <td>0</td>\n",
       "      <td>40721</td>\n",
       "      <td>2016-03-14 15:54:34</td>\n",
       "      <td>2016</td>\n",
       "    </tr>\n",
       "  </tbody>\n",
       "</table>\n",
       "</div>"
      ],
      "text/plain": [
       "              DateCrawled  Price VehicleType  RegistrationYear Gearbox  Power  \\\n",
       "1816  2016-03-22 20:52:00   3200       small              2004  manual   1398   \n",
       "4060  2016-04-03 20:31:00   3100       sedan              2005  manual    953   \n",
       "5328  2016-03-29 19:44:48    500       wagon              1999  manual   1001   \n",
       "6296  2016-03-31 23:50:47    599       small              2002  manual    603   \n",
       "6504  2016-03-14 15:54:34   3000       small              2009  manual    771   \n",
       "\n",
       "        Model  Kilometer  RegistrationMonth  FuelType       Brand NotRepaired  \\\n",
       "1816  corolla       5000                  6    petrol      toyota          no   \n",
       "4060     colt     150000                  4  gasoline  mitsubishi          no   \n",
       "5328    astra     150000                  7    petrol        opel         NaN   \n",
       "6296    matiz       5000                 11    petrol   chevrolet         yes   \n",
       "6504    punto     125000                  0    petrol        fiat         NaN   \n",
       "\n",
       "              DateCreated  NumberOfPictures  PostalCode             LastSeen  \\\n",
       "1816  2016-03-22 00:00:00                 0       22043  2016-03-22 21:43:26   \n",
       "4060  2016-04-03 00:00:00                 0       60326  2016-04-07 14:56:46   \n",
       "5328  2016-03-29 00:00:00                 0       33154  2016-04-06 05:44:36   \n",
       "6296  2016-03-31 00:00:00                 0       44379  2016-04-01 03:41:52   \n",
       "6504  2016-03-14 00:00:00                 0       40721  2016-03-14 15:54:34   \n",
       "\n",
       "      year  \n",
       "1816  2016  \n",
       "4060  2016  \n",
       "5328  2016  \n",
       "6296  2016  \n",
       "6504  2016  "
      ]
     },
     "metadata": {},
     "output_type": "display_data"
    },
    {
     "name": "stdout",
     "output_type": "stream",
     "text": [
      "Количество объявлений с автомобилями более 500 л.с.: 408\n"
     ]
    }
   ],
   "source": [
    "display(auto.query('Power > 500')['Power'].describe())\n",
    "display(auto.query('Power > 500').head())\n",
    "print('Количество объявлений с автомобилями более 500 л.с.:', (auto['Power'] >= 500).sum())"
   ]
  },
  {
   "cell_type": "markdown",
   "metadata": {},
   "source": [
    "Види что это в большинстве своем подозрительные объявления о обычных автомобилях, с ошибкой в поле мощности.<br>\n",
    "Отсекаем объявления с мощностью более 500 лс.<br>"
   ]
  },
  {
   "cell_type": "code",
   "execution_count": 104,
   "metadata": {},
   "outputs": [
    {
     "data": {
      "text/plain": [
       "(0, 1000)"
      ]
     },
     "execution_count": 104,
     "metadata": {},
     "output_type": "execute_result"
    },
    {
     "data": {
      "image/png": "[encoded data removed]",
      "text/plain": [
       "<Figure size 432x288 with 1 Axes>"
      ]
     },
     "metadata": {
      "needs_background": "light"
     },
     "output_type": "display_data"
    }
   ],
   "source": [
    "sns.boxplot(auto['Power'])\n",
    "plt.xlim(0, 1000)"
   ]
  },
  {
   "cell_type": "code",
   "execution_count": 105,
   "metadata": {},
   "outputs": [
    {
     "name": "stdout",
     "output_type": "stream",
     "text": [
      "255.0\n"
     ]
    }
   ],
   "source": [
    "Q1 = auto['Power'].quantile(0.25)\n",
    "Q3 = auto['Power'].quantile(0.75)\n",
    "IQR = Q3 - Q1\n",
    "\n",
    "auto = auto[(auto['Power'] < Q3 + 1.5 * IQR )]\n",
    "print(Q3 + 1.5 * IQR)"
   ]
  },
  {
   "cell_type": "code",
   "execution_count": 106,
   "metadata": {},
   "outputs": [
    {
     "data": {
      "text/plain": [
       "<matplotlib.axes._subplots.AxesSubplot at 0x7fb970b9d190>"
      ]
     },
     "execution_count": 106,
     "metadata": {},
     "output_type": "execute_result"
    },
    {
     "data": {
      "image/png": "[encoded data removed]",
      "text/plain": [
       "<Figure size 432x288 with 1 Axes>"
      ]
     },
     "metadata": {
      "needs_background": "light"
     },
     "output_type": "display_data"
    }
   ],
   "source": [
    "sns.boxplot(auto['Power'])"
   ]
  },
  {
   "cell_type": "markdown",
   "metadata": {},
   "source": [
    "#### Колонка Model"
   ]
  },
  {
   "cell_type": "code",
   "execution_count": 107,
   "metadata": {},
   "outputs": [
    {
     "data": {
      "text/plain": [
       "golf          24046\n",
       "other         17338\n",
       "3er           16853\n",
       "polo          10502\n",
       "corsa          9944\n",
       "              ...  \n",
       "i3                5\n",
       "samara            5\n",
       "6er               3\n",
       "911               3\n",
       "rangerover        2\n",
       "Name: Model, Length: 246, dtype: int64"
      ]
     },
     "execution_count": 107,
     "metadata": {},
     "output_type": "execute_result"
    }
   ],
   "source": [
    "auto['Model'].value_counts()"
   ]
  },
  {
   "cell_type": "code",
   "execution_count": 108,
   "metadata": {},
   "outputs": [
    {
     "data": {
      "text/html": [
       "<div>\n",
       "<style scoped>\n",
       "    .dataframe tbody tr th:only-of-type {\n",
       "        vertical-align: middle;\n",
       "    }\n",
       "\n",
       "    .dataframe tbody tr th {\n",
       "        vertical-align: top;\n",
       "    }\n",
       "\n",
       "    .dataframe thead th {\n",
       "        text-align: right;\n",
       "    }\n",
       "</style>\n",
       "<table border=\"1\" class=\"dataframe\">\n",
       "  <thead>\n",
       "    <tr style=\"text-align: right;\">\n",
       "      <th></th>\n",
       "      <th>DateCrawled</th>\n",
       "      <th>Price</th>\n",
       "      <th>VehicleType</th>\n",
       "      <th>RegistrationYear</th>\n",
       "      <th>Gearbox</th>\n",
       "      <th>Power</th>\n",
       "      <th>Model</th>\n",
       "      <th>Kilometer</th>\n",
       "      <th>RegistrationMonth</th>\n",
       "      <th>FuelType</th>\n",
       "      <th>Brand</th>\n",
       "      <th>NotRepaired</th>\n",
       "      <th>DateCreated</th>\n",
       "      <th>NumberOfPictures</th>\n",
       "      <th>PostalCode</th>\n",
       "      <th>LastSeen</th>\n",
       "      <th>year</th>\n",
       "    </tr>\n",
       "  </thead>\n",
       "  <tbody>\n",
       "    <tr>\n",
       "      <th>1</th>\n",
       "      <td>2016-03-24 10:58:45</td>\n",
       "      <td>18300</td>\n",
       "      <td>coupe</td>\n",
       "      <td>2011</td>\n",
       "      <td>manual</td>\n",
       "      <td>190</td>\n",
       "      <td>NaN</td>\n",
       "      <td>125000</td>\n",
       "      <td>5</td>\n",
       "      <td>gasoline</td>\n",
       "      <td>audi</td>\n",
       "      <td>yes</td>\n",
       "      <td>2016-03-24 00:00:00</td>\n",
       "      <td>0</td>\n",
       "      <td>66954</td>\n",
       "      <td>2016-04-07 01:46:50</td>\n",
       "      <td>2016</td>\n",
       "    </tr>\n",
       "    <tr>\n",
       "      <th>81</th>\n",
       "      <td>2016-04-03 12:56:45</td>\n",
       "      <td>350</td>\n",
       "      <td>small</td>\n",
       "      <td>1997</td>\n",
       "      <td>manual</td>\n",
       "      <td>54</td>\n",
       "      <td>NaN</td>\n",
       "      <td>150000</td>\n",
       "      <td>3</td>\n",
       "      <td>NaN</td>\n",
       "      <td>fiat</td>\n",
       "      <td>yes</td>\n",
       "      <td>2016-04-03 00:00:00</td>\n",
       "      <td>0</td>\n",
       "      <td>45665</td>\n",
       "      <td>2016-04-05 11:47:13</td>\n",
       "      <td>2016</td>\n",
       "    </tr>\n",
       "    <tr>\n",
       "      <th>135</th>\n",
       "      <td>2016-03-27 20:51:23</td>\n",
       "      <td>1450</td>\n",
       "      <td>sedan</td>\n",
       "      <td>1992</td>\n",
       "      <td>manual</td>\n",
       "      <td>136</td>\n",
       "      <td>NaN</td>\n",
       "      <td>150000</td>\n",
       "      <td>0</td>\n",
       "      <td>NaN</td>\n",
       "      <td>audi</td>\n",
       "      <td>no</td>\n",
       "      <td>2016-03-27 00:00:00</td>\n",
       "      <td>0</td>\n",
       "      <td>38709</td>\n",
       "      <td>2016-04-05 20:17:31</td>\n",
       "      <td>2016</td>\n",
       "    </tr>\n",
       "    <tr>\n",
       "      <th>151</th>\n",
       "      <td>2016-03-27 20:47:22</td>\n",
       "      <td>6799</td>\n",
       "      <td>small</td>\n",
       "      <td>2009</td>\n",
       "      <td>nondef</td>\n",
       "      <td>60</td>\n",
       "      <td>NaN</td>\n",
       "      <td>20000</td>\n",
       "      <td>5</td>\n",
       "      <td>petrol</td>\n",
       "      <td>volkswagen</td>\n",
       "      <td>no</td>\n",
       "      <td>2016-03-27 00:00:00</td>\n",
       "      <td>0</td>\n",
       "      <td>89077</td>\n",
       "      <td>2016-03-27 20:47:22</td>\n",
       "      <td>2016</td>\n",
       "    </tr>\n",
       "    <tr>\n",
       "      <th>161</th>\n",
       "      <td>2016-03-28 10:50:04</td>\n",
       "      <td>1495</td>\n",
       "      <td>wagon</td>\n",
       "      <td>2001</td>\n",
       "      <td>nondef</td>\n",
       "      <td>64</td>\n",
       "      <td>NaN</td>\n",
       "      <td>150000</td>\n",
       "      <td>9</td>\n",
       "      <td>gasoline</td>\n",
       "      <td>volkswagen</td>\n",
       "      <td>NaN</td>\n",
       "      <td>2016-03-28 00:00:00</td>\n",
       "      <td>0</td>\n",
       "      <td>99086</td>\n",
       "      <td>2016-04-04 11:45:46</td>\n",
       "      <td>2016</td>\n",
       "    </tr>\n",
       "  </tbody>\n",
       "</table>\n",
       "</div>"
      ],
      "text/plain": [
       "             DateCrawled  Price VehicleType  RegistrationYear Gearbox  Power  \\\n",
       "1    2016-03-24 10:58:45  18300       coupe              2011  manual    190   \n",
       "81   2016-04-03 12:56:45    350       small              1997  manual     54   \n",
       "135  2016-03-27 20:51:23   1450       sedan              1992  manual    136   \n",
       "151  2016-03-27 20:47:22   6799       small              2009  nondef     60   \n",
       "161  2016-03-28 10:50:04   1495       wagon              2001  nondef     64   \n",
       "\n",
       "    Model  Kilometer  RegistrationMonth  FuelType       Brand NotRepaired  \\\n",
       "1     NaN     125000                  5  gasoline        audi         yes   \n",
       "81    NaN     150000                  3       NaN        fiat         yes   \n",
       "135   NaN     150000                  0       NaN        audi          no   \n",
       "151   NaN      20000                  5    petrol  volkswagen          no   \n",
       "161   NaN     150000                  9  gasoline  volkswagen         NaN   \n",
       "\n",
       "             DateCreated  NumberOfPictures  PostalCode             LastSeen  \\\n",
       "1    2016-03-24 00:00:00                 0       66954  2016-04-07 01:46:50   \n",
       "81   2016-04-03 00:00:00                 0       45665  2016-04-05 11:47:13   \n",
       "135  2016-03-27 00:00:00                 0       38709  2016-04-05 20:17:31   \n",
       "151  2016-03-27 00:00:00                 0       89077  2016-03-27 20:47:22   \n",
       "161  2016-03-28 00:00:00                 0       99086  2016-04-04 11:45:46   \n",
       "\n",
       "     year  \n",
       "1    2016  \n",
       "81   2016  \n",
       "135  2016  \n",
       "151  2016  \n",
       "161  2016  "
      ]
     },
     "execution_count": 108,
     "metadata": {},
     "output_type": "execute_result"
    }
   ],
   "source": [
    "auto[auto['Model'].isna()].head()"
   ]
  },
  {
   "cell_type": "markdown",
   "metadata": {},
   "source": [
    "Заменяем NaN на 'nondef' чтобы наша модель учитывала когда в объявлении нет данных по признаку"
   ]
  },
  {
   "cell_type": "code",
   "execution_count": 109,
   "metadata": {},
   "outputs": [],
   "source": [
    "auto['Model'].fillna('nondef', inplace=True)"
   ]
  },
  {
   "cell_type": "code",
   "execution_count": 110,
   "metadata": {},
   "outputs": [
    {
     "name": "stdout",
     "output_type": "stream",
     "text": [
      "Количество пропущенных значений: 0\n"
     ]
    }
   ],
   "source": [
    "print('Количество пропущенных значений:', auto['Model'].isna().sum())"
   ]
  },
  {
   "cell_type": "markdown",
   "metadata": {},
   "source": [
    "#### Колонка Kilometer"
   ]
  },
  {
   "cell_type": "code",
   "execution_count": 111,
   "metadata": {},
   "outputs": [
    {
     "data": {
      "text/plain": [
       "<matplotlib.axes._subplots.AxesSubplot at 0x7fb970fb2810>"
      ]
     },
     "execution_count": 111,
     "metadata": {},
     "output_type": "execute_result"
    },
    {
     "data": {
      "image/png": "[encoded data removed]",
      "text/plain": [
       "<Figure size 1080x360 with 1 Axes>"
      ]
     },
     "metadata": {
      "needs_background": "light"
     },
     "output_type": "display_data"
    }
   ],
   "source": [
    "auto['Kilometer'].hist(bins=30, figsize=(15,5))"
   ]
  },
  {
   "cell_type": "code",
   "execution_count": 112,
   "metadata": {},
   "outputs": [
    {
     "name": "stdout",
     "output_type": "stream",
     "text": [
      "Количество пропущенных значений: 0\n"
     ]
    }
   ],
   "source": [
    "print('Количество пропущенных значений:', auto['Kilometer'].isna().sum())"
   ]
  },
  {
   "cell_type": "markdown",
   "metadata": {},
   "source": [
    "#### Колонка RegistrationMonth"
   ]
  },
  {
   "cell_type": "code",
   "execution_count": 113,
   "metadata": {},
   "outputs": [
    {
     "data": {
      "text/plain": [
       "<matplotlib.axes._subplots.AxesSubplot at 0x7fb970fd82d0>"
      ]
     },
     "execution_count": 113,
     "metadata": {},
     "output_type": "execute_result"
    },
    {
     "data": {
      "image/png": "[encoded data removed]",
      "text/plain": [
       "<Figure size 1080x360 with 1 Axes>"
      ]
     },
     "metadata": {
      "needs_background": "light"
     },
     "output_type": "display_data"
    }
   ],
   "source": [
    "auto['RegistrationMonth'].hist(bins=30, figsize=(15,5))"
   ]
  },
  {
   "cell_type": "code",
   "execution_count": 114,
   "metadata": {},
   "outputs": [
    {
     "name": "stdout",
     "output_type": "stream",
     "text": [
      "Количество пропущенных значений: 0\n"
     ]
    }
   ],
   "source": [
    "print('Количество пропущенных значений:', auto['RegistrationMonth'].isna().sum())"
   ]
  },
  {
   "cell_type": "markdown",
   "metadata": {},
   "source": [
    "#### Колонка FuelType"
   ]
  },
  {
   "cell_type": "code",
   "execution_count": 115,
   "metadata": {},
   "outputs": [
    {
     "data": {
      "text/plain": [
       "<matplotlib.axes._subplots.AxesSubplot at 0x7fb970aba610>"
      ]
     },
     "execution_count": 115,
     "metadata": {},
     "output_type": "execute_result"
    },
    {
     "data": {
      "image/png": "[encoded data removed]",
      "text/plain": [
       "<Figure size 1080x360 with 1 Axes>"
      ]
     },
     "metadata": {
      "needs_background": "light"
     },
     "output_type": "display_data"
    }
   ],
   "source": [
    "auto['FuelType'].hist(bins=30, figsize=(15,5))"
   ]
  },
  {
   "cell_type": "code",
   "execution_count": 116,
   "metadata": {},
   "outputs": [
    {
     "name": "stdout",
     "output_type": "stream",
     "text": [
      "Количество пропущенных значений: 14590\n"
     ]
    }
   ],
   "source": [
    "print('Количество пропущенных значений:', auto['FuelType'].isna().sum())"
   ]
  },
  {
   "cell_type": "code",
   "execution_count": 117,
   "metadata": {},
   "outputs": [],
   "source": [
    "auto['FuelType'].fillna('nondef', inplace=True)"
   ]
  },
  {
   "cell_type": "code",
   "execution_count": 118,
   "metadata": {},
   "outputs": [
    {
     "name": "stdout",
     "output_type": "stream",
     "text": [
      "Количество пропущенных значений: 0\n"
     ]
    }
   ],
   "source": [
    "print('Количество пропущенных значений:', auto['FuelType'].isna().sum())"
   ]
  },
  {
   "cell_type": "markdown",
   "metadata": {},
   "source": [
    "#### Колонка Brand"
   ]
  },
  {
   "cell_type": "code",
   "execution_count": 119,
   "metadata": {},
   "outputs": [
    {
     "data": {
      "text/plain": [
       "volkswagen        62149\n",
       "opel              31692\n",
       "bmw               30069\n",
       "mercedes_benz     24728\n",
       "audi              24062\n",
       "ford              20112\n",
       "renault           13706\n",
       "peugeot            9337\n",
       "fiat               7404\n",
       "seat               5755\n",
       "skoda              4912\n",
       "mazda              4611\n",
       "smart              4477\n",
       "citroen            4132\n",
       "toyota             3969\n",
       "nissan             3887\n",
       "hyundai            3089\n",
       "mini               2950\n",
       "volvo              2702\n",
       "mitsubishi         2442\n",
       "honda              2337\n",
       "kia                2081\n",
       "suzuki             1914\n",
       "alfa_romeo         1877\n",
       "chevrolet          1270\n",
       "chrysler           1101\n",
       "sonstige_autos      955\n",
       "dacia               799\n",
       "daihatsu            601\n",
       "subaru              586\n",
       "jeep                527\n",
       "saab                447\n",
       "land_rover          403\n",
       "daewoo              402\n",
       "lancia              356\n",
       "rover               355\n",
       "jaguar              303\n",
       "porsche             272\n",
       "lada                137\n",
       "trabant             122\n",
       "Name: Brand, dtype: int64"
      ]
     },
     "execution_count": 119,
     "metadata": {},
     "output_type": "execute_result"
    }
   ],
   "source": [
    "auto['Brand'].value_counts()"
   ]
  },
  {
   "cell_type": "code",
   "execution_count": 120,
   "metadata": {},
   "outputs": [
    {
     "name": "stdout",
     "output_type": "stream",
     "text": [
      "Количество пропущенных значений: 0\n"
     ]
    }
   ],
   "source": [
    "print('Количество пропущенных значений:', auto['Brand'].isna().sum())"
   ]
  },
  {
   "cell_type": "markdown",
   "metadata": {},
   "source": [
    "#### Колонка NotRepaired"
   ]
  },
  {
   "cell_type": "code",
   "execution_count": 121,
   "metadata": {},
   "outputs": [
    {
     "data": {
      "text/plain": [
       "no     215286\n",
       "yes     27250\n",
       "Name: NotRepaired, dtype: int64"
      ]
     },
     "execution_count": 121,
     "metadata": {},
     "output_type": "execute_result"
    }
   ],
   "source": [
    "auto['NotRepaired'].value_counts()"
   ]
  },
  {
   "cell_type": "code",
   "execution_count": 122,
   "metadata": {},
   "outputs": [
    {
     "name": "stdout",
     "output_type": "stream",
     "text": [
      "Количество пропущенных значений: 40494\n"
     ]
    }
   ],
   "source": [
    "print('Количество пропущенных значений:', auto['NotRepaired'].isna().sum())"
   ]
  },
  {
   "cell_type": "code",
   "execution_count": 123,
   "metadata": {},
   "outputs": [],
   "source": [
    "auto['NotRepaired'].fillna('nondef', inplace=True)"
   ]
  },
  {
   "cell_type": "code",
   "execution_count": 124,
   "metadata": {},
   "outputs": [
    {
     "name": "stdout",
     "output_type": "stream",
     "text": [
      "Количество пропущенных значений: 0\n"
     ]
    }
   ],
   "source": [
    "print('Количество пропущенных значений:', auto['NotRepaired'].isna().sum())"
   ]
  },
  {
   "cell_type": "markdown",
   "metadata": {},
   "source": [
    "#### Колонка DateCreated"
   ]
  },
  {
   "cell_type": "code",
   "execution_count": 125,
   "metadata": {},
   "outputs": [
    {
     "data": {
      "text/plain": [
       "2016-04-03 00:00:00    11167\n",
       "2016-04-04 00:00:00    10723\n",
       "2016-03-12 00:00:00    10450\n",
       "2016-03-20 00:00:00    10390\n",
       "2016-03-21 00:00:00    10064\n",
       "                       ...  \n",
       "2015-11-02 00:00:00        1\n",
       "2016-01-18 00:00:00        1\n",
       "2016-01-19 00:00:00        1\n",
       "2016-01-16 00:00:00        1\n",
       "2016-01-20 00:00:00        1\n",
       "Name: DateCreated, Length: 105, dtype: int64"
      ]
     },
     "execution_count": 125,
     "metadata": {},
     "output_type": "execute_result"
    }
   ],
   "source": [
    "auto['DateCreated'].value_counts()"
   ]
  },
  {
   "cell_type": "code",
   "execution_count": 126,
   "metadata": {},
   "outputs": [
    {
     "name": "stdout",
     "output_type": "stream",
     "text": [
      "Количество пропущенных значений: 0\n"
     ]
    }
   ],
   "source": [
    "print('Количество пропущенных значений:', auto['DateCreated'].isna().sum())"
   ]
  },
  {
   "cell_type": "markdown",
   "metadata": {},
   "source": [
    "#### Колонка NumberOfPictures"
   ]
  },
  {
   "cell_type": "code",
   "execution_count": 127,
   "metadata": {},
   "outputs": [
    {
     "data": {
      "text/plain": [
       "0    283030\n",
       "Name: NumberOfPictures, dtype: int64"
      ]
     },
     "execution_count": 127,
     "metadata": {},
     "output_type": "execute_result"
    }
   ],
   "source": [
    "auto['NumberOfPictures'].value_counts()"
   ]
  },
  {
   "cell_type": "code",
   "execution_count": 128,
   "metadata": {},
   "outputs": [
    {
     "name": "stdout",
     "output_type": "stream",
     "text": [
      "Количество пропущенных значений: 0\n"
     ]
    }
   ],
   "source": [
    "print('Количество пропущенных значений:', auto['NumberOfPictures'].isna().sum())"
   ]
  },
  {
   "cell_type": "markdown",
   "metadata": {},
   "source": [
    "#### Колонка PostalCode"
   ]
  },
  {
   "cell_type": "code",
   "execution_count": 129,
   "metadata": {},
   "outputs": [
    {
     "data": {
      "text/plain": [
       "10115    722\n",
       "65428    494\n",
       "66333    270\n",
       "52525    240\n",
       "78224    238\n",
       "        ... \n",
       "88719      1\n",
       "82444      1\n",
       "63931      1\n",
       "31094      1\n",
       "38879      1\n",
       "Name: PostalCode, Length: 8105, dtype: int64"
      ]
     },
     "execution_count": 129,
     "metadata": {},
     "output_type": "execute_result"
    }
   ],
   "source": [
    "auto['PostalCode'].value_counts()"
   ]
  },
  {
   "cell_type": "code",
   "execution_count": 130,
   "metadata": {},
   "outputs": [
    {
     "name": "stdout",
     "output_type": "stream",
     "text": [
      "Количество пропущенных значений: 0\n"
     ]
    }
   ],
   "source": [
    "print('Количество пропущенных значений:', auto['PostalCode'].isna().sum())"
   ]
  },
  {
   "cell_type": "markdown",
   "metadata": {},
   "source": [
    "#### Колонка LastSeen"
   ]
  },
  {
   "cell_type": "code",
   "execution_count": 131,
   "metadata": {},
   "outputs": [
    {
     "data": {
      "text/plain": [
       "2016-04-06 12:15:45    15\n",
       "2016-04-06 12:44:51    15\n",
       "2016-04-06 12:46:17    15\n",
       "2016-04-07 09:44:27    15\n",
       "2016-04-06 12:17:37    14\n",
       "                       ..\n",
       "2016-03-26 13:36:43     1\n",
       "2016-03-15 10:44:45     1\n",
       "2016-04-02 09:47:49     1\n",
       "2016-03-13 02:17:59     1\n",
       "2016-03-16 19:50:21     1\n",
       "Name: LastSeen, Length: 149740, dtype: int64"
      ]
     },
     "execution_count": 131,
     "metadata": {},
     "output_type": "execute_result"
    }
   ],
   "source": [
    "auto['LastSeen'].value_counts()"
   ]
  },
  {
   "cell_type": "code",
   "execution_count": 132,
   "metadata": {},
   "outputs": [
    {
     "name": "stdout",
     "output_type": "stream",
     "text": [
      "Количество пропущенных значений: 0\n"
     ]
    }
   ],
   "source": [
    "print('Количество пропущенных значений:', auto['LastSeen'].isna().sum())"
   ]
  },
  {
   "cell_type": "markdown",
   "metadata": {},
   "source": [
    "#### Вывод"
   ]
  },
  {
   "cell_type": "markdown",
   "metadata": {},
   "source": [
    "- Удалены объявления с ценой менее 100 евро;\n",
    "- В колоке VehicleType отсутствующие значения заменены на nondef;\n",
    "- Удалены объявления с RegistrationYear меньше 1989 года и больше 2016 года;\n",
    "- В колоке Gearbox отсутствующие значения заменены на nondef;\n",
    "- Удалены объявления с мощностью до 20 л.с. и более 255 л.с.;\n",
    "- В колоке Model отсутствующие значения заменены на nondef;\n",
    "- В колоке FuelType отсутствующие значения заменены на nondef;\n",
    "- В колоке NotRepaired отсутствующие значения заменены на nondef."
   ]
  },
  {
   "cell_type": "markdown",
   "metadata": {},
   "source": [
    "### Выбор данных как признаки"
   ]
  },
  {
   "cell_type": "markdown",
   "metadata": {},
   "source": [
    "Колонки которые не помогут модели определения цены:\n",
    "- DateCrawled \n",
    "- RegistrationMonth \n",
    "- NumberOfPictures \n",
    "- DateCreated \n",
    "- LastSeen"
   ]
  },
  {
   "cell_type": "markdown",
   "metadata": {},
   "source": [
    "Колонки которые будем использовать как признаки:\n",
    "- VehicleType \n",
    "- RegistrationYear \n",
    "- Gearbox \n",
    "- Power \n",
    "- Model \n",
    "- Kilometer \n",
    "- FuelType \n",
    "- Brand \n",
    "- NotRepaired \n",
    "- PostalCode"
   ]
  },
  {
   "cell_type": "markdown",
   "metadata": {},
   "source": [
    "Целевая колонка:\n",
    "- Price"
   ]
  },
  {
   "cell_type": "code",
   "execution_count": 133,
   "metadata": {},
   "outputs": [],
   "source": [
    "features = auto[['VehicleType', 'RegistrationYear', 'Gearbox', 'Power', 'Model', 'Kilometer', 'FuelType', 'Brand', 'NotRepaired', 'PostalCode']]\n",
    "target = auto['Price']"
   ]
  },
  {
   "cell_type": "markdown",
   "metadata": {},
   "source": [
    "Здесь была попытка кодировать категоральные признаки через OHE, но стало настолько много колонок, что в дальнейшем это привело к запредельному времени обучения даже на простых моделях."
   ]
  },
  {
   "cell_type": "markdown",
   "metadata": {},
   "source": [
    "Кодирование категоральных признаков"
   ]
  },
  {
   "cell_type": "code",
   "execution_count": 136,
   "metadata": {},
   "outputs": [
    {
     "data": {
      "text/html": [
       "<div>\n",
       "<style scoped>\n",
       "    .dataframe tbody tr th:only-of-type {\n",
       "        vertical-align: middle;\n",
       "    }\n",
       "\n",
       "    .dataframe tbody tr th {\n",
       "        vertical-align: top;\n",
       "    }\n",
       "\n",
       "    .dataframe thead th {\n",
       "        text-align: right;\n",
       "    }\n",
       "</style>\n",
       "<table border=\"1\" class=\"dataframe\">\n",
       "  <thead>\n",
       "    <tr style=\"text-align: right;\">\n",
       "      <th></th>\n",
       "      <th>VehicleType</th>\n",
       "      <th>Gearbox</th>\n",
       "      <th>Model</th>\n",
       "      <th>FuelType</th>\n",
       "      <th>Brand</th>\n",
       "      <th>NotRepaired</th>\n",
       "      <th>RegistrationYear</th>\n",
       "      <th>Power</th>\n",
       "      <th>Kilometer</th>\n",
       "      <th>PostalCode</th>\n",
       "    </tr>\n",
       "  </thead>\n",
       "  <tbody>\n",
       "    <tr>\n",
       "      <th>1</th>\n",
       "      <td>2.0</td>\n",
       "      <td>1.0</td>\n",
       "      <td>161.0</td>\n",
       "      <td>2.0</td>\n",
       "      <td>1.0</td>\n",
       "      <td>2.0</td>\n",
       "      <td>2011</td>\n",
       "      <td>190</td>\n",
       "      <td>125000</td>\n",
       "      <td>66954</td>\n",
       "    </tr>\n",
       "    <tr>\n",
       "      <th>2</th>\n",
       "      <td>7.0</td>\n",
       "      <td>0.0</td>\n",
       "      <td>117.0</td>\n",
       "      <td>2.0</td>\n",
       "      <td>14.0</td>\n",
       "      <td>1.0</td>\n",
       "      <td>2004</td>\n",
       "      <td>163</td>\n",
       "      <td>125000</td>\n",
       "      <td>90480</td>\n",
       "    </tr>\n",
       "    <tr>\n",
       "      <th>3</th>\n",
       "      <td>6.0</td>\n",
       "      <td>1.0</td>\n",
       "      <td>116.0</td>\n",
       "      <td>7.0</td>\n",
       "      <td>38.0</td>\n",
       "      <td>0.0</td>\n",
       "      <td>2001</td>\n",
       "      <td>75</td>\n",
       "      <td>150000</td>\n",
       "      <td>91074</td>\n",
       "    </tr>\n",
       "    <tr>\n",
       "      <th>4</th>\n",
       "      <td>6.0</td>\n",
       "      <td>1.0</td>\n",
       "      <td>101.0</td>\n",
       "      <td>2.0</td>\n",
       "      <td>31.0</td>\n",
       "      <td>0.0</td>\n",
       "      <td>2008</td>\n",
       "      <td>69</td>\n",
       "      <td>90000</td>\n",
       "      <td>60437</td>\n",
       "    </tr>\n",
       "    <tr>\n",
       "      <th>5</th>\n",
       "      <td>5.0</td>\n",
       "      <td>1.0</td>\n",
       "      <td>11.0</td>\n",
       "      <td>7.0</td>\n",
       "      <td>2.0</td>\n",
       "      <td>2.0</td>\n",
       "      <td>1995</td>\n",
       "      <td>102</td>\n",
       "      <td>150000</td>\n",
       "      <td>33775</td>\n",
       "    </tr>\n",
       "  </tbody>\n",
       "</table>\n",
       "</div>"
      ],
      "text/plain": [
       "   VehicleType  Gearbox  Model  FuelType  Brand  NotRepaired  \\\n",
       "1          2.0      1.0  161.0       2.0    1.0          2.0   \n",
       "2          7.0      0.0  117.0       2.0   14.0          1.0   \n",
       "3          6.0      1.0  116.0       7.0   38.0          0.0   \n",
       "4          6.0      1.0  101.0       2.0   31.0          0.0   \n",
       "5          5.0      1.0   11.0       7.0    2.0          2.0   \n",
       "\n",
       "   RegistrationYear  Power  Kilometer  PostalCode  \n",
       "1              2011    190     125000       66954  \n",
       "2              2004    163     125000       90480  \n",
       "3              2001     75     150000       91074  \n",
       "4              2008     69      90000       60437  \n",
       "5              1995    102     150000       33775  "
      ]
     },
     "execution_count": 136,
     "metadata": {},
     "output_type": "execute_result"
    }
   ],
   "source": [
    "cathegorial = ['VehicleType', 'Gearbox', 'Model',\n",
    "               'FuelType', 'Brand', 'NotRepaired']\n",
    "encoder = OrdinalEncoder()\n",
    "features_cathegorial = pd.DataFrame(\n",
    "    encoder.fit_transform(features[cathegorial]),\n",
    "    index=features[cathegorial].index,\n",
    "    columns=features[cathegorial].columns\n",
    ")\n",
    "\n",
    "non_coded = features[['RegistrationYear', 'Power', 'Kilometer', 'PostalCode']]\n",
    "features = pd.concat([features_cathegorial, non_coded], axis=1)\n",
    "\n",
    "\n",
    "features.head()"
   ]
  },
  {
   "cell_type": "markdown",
   "metadata": {},
   "source": [
    "Разделение на тренировочную и тестовую выборки"
   ]
  },
  {
   "cell_type": "code",
   "execution_count": 137,
   "metadata": {},
   "outputs": [],
   "source": [
    "features_train, features_valid, target_train, target_valid = train_test_split(\n",
    "    features, target, test_size=0.25, random_state=random)"
   ]
  },
  {
   "cell_type": "markdown",
   "metadata": {},
   "source": [
    "### Вывод"
   ]
  },
  {
   "cell_type": "markdown",
   "metadata": {},
   "source": [
    "- Библиотеки и данные загружены;\n",
    "- По результатам обработки данных:\n",
    "    - Удалены объявления с ценой менее 100 евро;\n",
    "    - В колоке VehicleType отсутствующие значения заменены на nondef;\n",
    "    - Удалены объявления с RegistrationYear меньше 1950 года и больше 2022 года;\n",
    "    - В колоке Gearbox отсутствующие значения заменены на nondef;\n",
    "    - Удалены объявления с мощностью до 20 л.с. и более 500 л.с.;\n",
    "    - В колоке Model отсутствующие значения заменены на nondef;\n",
    "    - В колоке FuelType отсутствующие значения заменены на nondef;\n",
    "    - В колоке NotRepaired отсутствующие значения заменены на nondef.\n",
    "- Выбраны следующие колонки как признаки:\n",
    "    - VehicleType;\n",
    "    - RegistrationYear;\n",
    "    - Gearbox;\n",
    "    - Power;\n",
    "    - Model;\n",
    "    - Kilometer;\n",
    "    - FuelType;\n",
    "    - Brand;\n",
    "    - NotRepaired;\n",
    "    - PostalCode.\n",
    "- Целевой признак\n",
    "    - Price.\n",
    "- Категоральные признаки преобразованы с помощью OrdinalEncoder."
   ]
  },
  {
   "cell_type": "markdown",
   "metadata": {},
   "source": [
    "## Обучение моделей"
   ]
  },
  {
   "cell_type": "code",
   "execution_count": 138,
   "metadata": {},
   "outputs": [],
   "source": [
    "variable = ['RMSE', 'T_train', 'T_predict']\n",
    "model = ['RandomForestRegressor', 'LGBMRegressor', 'XGBRegressor']\n",
    "RMSE = []\n",
    "training_time = []\n",
    "prediction_time = []"
   ]
  },
  {
   "cell_type": "code",
   "execution_count": 139,
   "metadata": {},
   "outputs": [
    {
     "name": "stdout",
     "output_type": "stream",
     "text": [
      "Fitting 5 folds for each of 10 candidates, totalling 50 fits\n"
     ]
    },
    {
     "name": "stderr",
     "output_type": "stream",
     "text": [
      "[Parallel(n_jobs=4)]: Using backend LokyBackend with 4 concurrent workers.\n",
      "[Parallel(n_jobs=4)]: Done  33 tasks      | elapsed:  2.9min\n",
      "[Parallel(n_jobs=4)]: Done  50 out of  50 | elapsed:  4.2min finished\n"
     ]
    },
    {
     "name": "stdout",
     "output_type": "stream",
     "text": [
      "-----------------------\n",
      "Лучшие параметры модели:\n",
      "RandomForestRegressor(bootstrap=False, ccp_alpha=0.0, criterion='mse',\n",
      "                      max_depth=24, max_features='sqrt', max_leaf_nodes=None,\n",
      "                      max_samples=None, min_impurity_decrease=0.0,\n",
      "                      min_impurity_split=None, min_samples_leaf=2,\n",
      "                      min_samples_split=2, min_weight_fraction_leaf=0.0,\n",
      "                      n_estimators=41, n_jobs=None, oob_score=False,\n",
      "                      random_state=12345, verbose=0, warm_start=False)\n",
      "\n",
      "\"root_mean_squared_error:\n",
      "1421.654469187636\n",
      "-----------------------\n",
      "RMSE модели линейной регрессии на валидационной выборке: 1374.7285358416825\n",
      "Затраченное время на обучение модели: 13.166781902313232\n",
      "Затраченное время предсказания модели: 0.8252851963043213\n"
     ]
    }
   ],
   "source": [
    "param_grid = {'n_estimators': [int(x) for x in np.linspace(start = 10, stop = 80, num = 30)],\n",
    "               'max_features': ['auto', 'sqrt'],\n",
    "               'max_depth': [6, 10, 24],\n",
    "               'min_samples_split': [2, 5],\n",
    "               'min_samples_leaf': [1, 2],\n",
    "               'bootstrap': [True, False]}\n",
    "\n",
    "rf_RandomGrid = RandomizedSearchCV(estimator = RandomForestRegressor(random_state=12345)\n",
    "                                   , param_distributions = param_grid\n",
    "                                   , cv = 5\n",
    "                                   , verbose=2\n",
    "                                   , n_jobs = 4\n",
    "                                   , scoring=\"neg_mean_squared_error\"\n",
    "                                   , random_state = 12345)\n",
    "  \n",
    "rf_RandomGrid.fit(features_train, target_train)\n",
    "\n",
    "print('-----------------------')\n",
    "print('Лучшие параметры модели:')\n",
    "print(rf_RandomGrid.best_estimator_)\n",
    "print('')\n",
    "print('\"root_mean_squared_error:')\n",
    "print(np.sqrt(-rf_RandomGrid.best_score_))\n",
    "print('-----------------------')\n",
    "\n",
    "best_rf_regressor = RandomForestRegressor(n_estimators = rf_RandomGrid.best_params_[\"n_estimators\"],\n",
    "                            max_features      = rf_RandomGrid.best_params_[\"max_features\"],\n",
    "                            max_depth         = rf_RandomGrid.best_params_[\"max_depth\"],\n",
    "                            min_samples_split = rf_RandomGrid.best_params_[\"min_samples_split\"],\n",
    "                            min_samples_leaf  = rf_RandomGrid.best_params_[\"min_samples_leaf\"],\n",
    "                            bootstrap         = rf_RandomGrid.best_params_[\"bootstrap\"])\n",
    "\n",
    "t0 = time.time()\n",
    "best_rf_regressor.fit(features_train, target_train)\n",
    "t1 = time.time()\n",
    "\n",
    "t2 = time.time()\n",
    "predictions = best_rf_regressor.predict(features_valid)\n",
    "t3 = time.time()\n",
    "\n",
    "#Так можно вывести результаты всех итераций\n",
    "#cv_results = rf_RandomGrid.cv_results_\n",
    "#for mean_score, params in zip(cv_results[\"mean_test_score\"], cv_results[\"params\"]):\n",
    "#    print(np.sqrt(-mean_score), params)\n",
    "\n",
    "result = mean_squared_error(target_valid, predictions) ** 0.5\n",
    "print(\"RMSE модели линейной регрессии на валидационной выборке:\", result)\n",
    "\n",
    "print('Затраченное время на обучение модели:', t1-t0)\n",
    "print('Затраченное время предсказания модели:', t3-t2)\n",
    "\n",
    "RMSE.append(result)\n",
    "training_time.append(t1-t0)\n",
    "prediction_time.append(t3-t2)"
   ]
  },
  {
   "cell_type": "code",
   "execution_count": 140,
   "metadata": {},
   "outputs": [
    {
     "data": {
      "image/png": "[encoded data removed]",
      "text/plain": [
       "<Figure size 720x504 with 1 Axes>"
      ]
     },
     "metadata": {
      "needs_background": "light"
     },
     "output_type": "display_data"
    }
   ],
   "source": [
    "feature_names = features_train.columns \n",
    "importances = best_rf_regressor.feature_importances_\n",
    "model_importances = pd.Series(importances, index=feature_names)\n",
    "\n",
    "std = np.std([best_rf_regressor.feature_importances_ for tree in str(1000)], axis=0)\n",
    "\n",
    "fig, ax = plt.subplots(figsize=(10,7))\n",
    "model_importances.sort_values(ascending=False).plot.bar(yerr=std, ax=ax)\n",
    "ax.set_title(\"Feature importances\")\n",
    "ax.set_ylabel(\"Mean decrease in impurity\")\n",
    "fig.tight_layout()"
   ]
  },
  {
   "cell_type": "code",
   "execution_count": 142,
   "metadata": {},
   "outputs": [
    {
     "name": "stdout",
     "output_type": "stream",
     "text": [
      "Fitting 5 folds for each of 8 candidates, totalling 40 fits\n"
     ]
    },
    {
     "name": "stderr",
     "output_type": "stream",
     "text": [
      "[Parallel(n_jobs=1)]: Using backend SequentialBackend with 1 concurrent workers.\n",
      "[Parallel(n_jobs=1)]: Done  40 out of  40 | elapsed:   36.3s finished\n"
     ]
    },
    {
     "name": "stdout",
     "output_type": "stream",
     "text": [
      "-----------------------\n",
      "Лучшие параметры модели:\n",
      "LGBMRegressor(boosting_type='gbdt', class_weight=None, colsample_bytree=1.0,\n",
      "              importance_type='split', learning_rate=0.1, max_depth=-1,\n",
      "              min_child_samples=20, min_child_weight=0.001, min_split_gain=0.0,\n",
      "              n_estimators=100, n_jobs=-1, num_leaves=50, objective=None,\n",
      "              random_state=12345, reg_alpha=0.0, reg_lambda=0.0, silent=True,\n",
      "              subsample=1.0, subsample_for_bin=200000, subsample_freq=0)\n",
      "\n",
      "\"root_mean_squared_error:\n",
      "1512.2973374618512\n",
      "-----------------------\n",
      "RMSE модели линейной регрессии на валидационной выборке: 1487.7203302377177\n",
      "Затраченное время на обучение модели: 1.7266008853912354\n",
      "Затраченное время на предсказание модели: 0.667546272277832\n"
     ]
    }
   ],
   "source": [
    "params = {\n",
    "    'num_leaves': [7, 50],\n",
    "    'learning_rate': [0.1, 0.003],\n",
    "    'n_estimators': [1, 100],\n",
    "}\n",
    "\n",
    "lgbm_RandomGrid = RandomizedSearchCV(lgb.LGBMRegressor(random_state=12345), \n",
    "                                     params, \n",
    "                                     verbose=1, \n",
    "                                     scoring='neg_mean_squared_error',\n",
    "                                     cv=5,\n",
    "                                     random_state = 12345)\n",
    "\n",
    "lgbm_RandomGrid.fit(features_train, target_train)\n",
    "\n",
    "\n",
    "print('-----------------------')\n",
    "print('Лучшие параметры модели:')\n",
    "print(lgbm_RandomGrid.best_estimator_)\n",
    "print('')\n",
    "print('\"root_mean_squared_error:')\n",
    "print(np.sqrt(-lgbm_RandomGrid.best_score_))\n",
    "print('-----------------------')\n",
    "\n",
    "best_lgbm_regressor = lgb.LGBMRegressor(learning_rate = lgbm_RandomGrid.best_params_[\"learning_rate\"],\n",
    "                           n_estimators  = lgbm_RandomGrid.best_params_[\"n_estimators\"],\n",
    "                           num_leaves     = lgbm_RandomGrid.best_params_[\"num_leaves\"],\n",
    "                           eval_metric='rmse')\n",
    "\n",
    "t0 = time.time()\n",
    "best_lgbm_regressor.fit(features_train, target_train)\n",
    "t1 = time.time()\n",
    "\n",
    "t2 = time.time()\n",
    "predictions = best_lgbm_regressor.predict(features_valid)\n",
    "t3 = time.time()\n",
    "\n",
    "result = mean_squared_error(target_valid, predictions) ** 0.5\n",
    "print(\"RMSE модели линейной регрессии на валидационной выборке:\", result)\n",
    "\n",
    "print('Затраченное время на обучение модели:', t1-t0)\n",
    "print('Затраченное время на предсказание модели:', t3-t2)\n",
    "\n",
    "RMSE.append(result)\n",
    "training_time.append(t1-t0)\n",
    "prediction_time.append(t3-t2)"
   ]
  },
  {
   "cell_type": "code",
   "execution_count": 143,
   "metadata": {},
   "outputs": [
    {
     "data": {
      "image/png": "[encoded data removed]",
      "text/plain": [
       "<Figure size 720x504 with 1 Axes>"
      ]
     },
     "metadata": {
      "needs_background": "light"
     },
     "output_type": "display_data"
    }
   ],
   "source": [
    "feature_names = features_train.columns \n",
    "importances = best_lgbm_regressor.feature_importances_\n",
    "model_importances = pd.Series(importances, index=feature_names)\n",
    "\n",
    "std = np.std([best_lgbm_regressor.feature_importances_ for tree in str(1000)], axis=0)\n",
    "\n",
    "fig, ax = plt.subplots(figsize=(10,7))\n",
    "model_importances.sort_values(ascending=False).plot.bar(yerr=std, ax=ax)\n",
    "ax.set_title(\"Feature importances\")\n",
    "ax.set_ylabel(\"Mean decrease in impurity\")\n",
    "fig.tight_layout()"
   ]
  },
  {
   "cell_type": "code",
   "execution_count": 144,
   "metadata": {
    "scrolled": true
   },
   "outputs": [
    {
     "name": "stdout",
     "output_type": "stream",
     "text": [
      "[00:05:50] WARNING: src/objective/regression_obj.cu:152: reg:linear is now deprecated in favor of reg:squarederror.\n",
      "[00:06:45] WARNING: src/objective/regression_obj.cu:152: reg:linear is now deprecated in favor of reg:squarederror.\n",
      "[00:07:40] WARNING: src/objective/regression_obj.cu:152: reg:linear is now deprecated in favor of reg:squarederror.\n",
      "[00:08:35] WARNING: src/objective/regression_obj.cu:152: reg:linear is now deprecated in favor of reg:squarederror.\n",
      "[00:09:30] WARNING: src/objective/regression_obj.cu:152: reg:linear is now deprecated in favor of reg:squarederror.\n",
      "[00:10:25] WARNING: src/objective/regression_obj.cu:152: reg:linear is now deprecated in favor of reg:squarederror.\n",
      "[00:13:25] WARNING: src/objective/regression_obj.cu:152: reg:linear is now deprecated in favor of reg:squarederror.\n",
      "[00:16:30] WARNING: src/objective/regression_obj.cu:152: reg:linear is now deprecated in favor of reg:squarederror.\n",
      "[00:19:24] WARNING: src/objective/regression_obj.cu:152: reg:linear is now deprecated in favor of reg:squarederror.\n",
      "[00:22:18] WARNING: src/objective/regression_obj.cu:152: reg:linear is now deprecated in favor of reg:squarederror.\n",
      "[00:25:11] WARNING: src/objective/regression_obj.cu:152: reg:linear is now deprecated in favor of reg:squarederror.\n",
      "[00:26:06] WARNING: src/objective/regression_obj.cu:152: reg:linear is now deprecated in favor of reg:squarederror.\n",
      "[00:27:01] WARNING: src/objective/regression_obj.cu:152: reg:linear is now deprecated in favor of reg:squarederror.\n",
      "[00:27:57] WARNING: src/objective/regression_obj.cu:152: reg:linear is now deprecated in favor of reg:squarederror.\n",
      "[00:28:53] WARNING: src/objective/regression_obj.cu:152: reg:linear is now deprecated in favor of reg:squarederror.\n",
      "[00:29:48] WARNING: src/objective/regression_obj.cu:152: reg:linear is now deprecated in favor of reg:squarederror.\n",
      "[00:32:52] WARNING: src/objective/regression_obj.cu:152: reg:linear is now deprecated in favor of reg:squarederror.\n",
      "[00:35:55] WARNING: src/objective/regression_obj.cu:152: reg:linear is now deprecated in favor of reg:squarederror.\n",
      "[00:39:23] WARNING: src/objective/regression_obj.cu:152: reg:linear is now deprecated in favor of reg:squarederror.\n",
      "[00:42:40] WARNING: src/objective/regression_obj.cu:152: reg:linear is now deprecated in favor of reg:squarederror.\n",
      "[00:45:58] WARNING: src/objective/regression_obj.cu:152: reg:linear is now deprecated in favor of reg:squarederror.\n",
      "-----------------------\n",
      "Лучшие параметры модели:\n",
      "LGBMRegressor(boosting_type='gbdt', class_weight=None, colsample_bytree=1.0,\n",
      "              importance_type='split', learning_rate=0.1, max_depth=-1,\n",
      "              min_child_samples=20, min_child_weight=0.001, min_split_gain=0.0,\n",
      "              n_estimators=100, n_jobs=-1, num_leaves=50, objective=None,\n",
      "              random_state=12345, reg_alpha=0.0, reg_lambda=0.0, silent=True,\n",
      "              subsample=1.0, subsample_for_bin=200000, subsample_freq=0)\n",
      "\n",
      "\"root_mean_squared_error:\n",
      "1512.2973374618512\n",
      "-----------------------\n",
      "[00:50:08] WARNING: src/objective/regression_obj.cu:152: reg:linear is now deprecated in favor of reg:squarederror.\n",
      "RMSE модели линейной регрессии на валидационной выборке: 1612.529556416402\n",
      "Затраченное время на обучение модели: 248.83585500717163\n",
      "Затраченное время на предсказание модели: 12.643049955368042\n"
     ]
    }
   ],
   "source": [
    "param_grid = {\"max_depth\":    [10, 30],\n",
    "              \"learning_rate\": [0.01, 0.015]}\n",
    "\n",
    "\n",
    "XGBR_RandomGrid = RandomizedSearchCV(xgb.XGBRegressor(eval_metric='rmse', n_estimators = 150, random_state = 12345),\n",
    "                                     param_grid,\n",
    "                                     cv=5,\n",
    "                                     random_state=12345)\n",
    "\n",
    "XGBR_RandomGrid.fit(features_train, target_train)\n",
    "\n",
    "print('-----------------------')\n",
    "print('Лучшие параметры модели:')\n",
    "print(lgbm_RandomGrid.best_estimator_)\n",
    "print('')\n",
    "print('\"root_mean_squared_error:')\n",
    "print(np.sqrt(-lgbm_RandomGrid.best_score_))\n",
    "print('-----------------------')\n",
    "\n",
    "best_xgbr_regressor = xgb.XGBRegressor(learning_rate = XGBR_RandomGrid.best_params_[\"learning_rate\"],\n",
    "                           n_estimators  = 150,\n",
    "                           max_depth     = XGBR_RandomGrid.best_params_[\"max_depth\"],\n",
    "                           eval_metric='rmse')\n",
    "\n",
    "t0 = time.time()\n",
    "best_xgbr_regressor.fit(features_train, target_train)\n",
    "t1 = time.time()\n",
    "\n",
    "t2 = time.time()\n",
    "predictions = best_xgbr_regressor.predict(features_valid)\n",
    "t3 = time.time()\n",
    "\n",
    "result = np.sqrt(mean_squared_error(target_valid, predictions))\n",
    "print(\"RMSE модели линейной регрессии на валидационной выборке:\", result)\n",
    "\n",
    "print('Затраченное время на обучение модели:', t1-t0)\n",
    "print('Затраченное время на предсказание модели:', t3-t2)\n",
    "\n",
    "RMSE.append(result)\n",
    "training_time.append(t1-t0)\n",
    "prediction_time.append(t3-t2)"
   ]
  },
  {
   "cell_type": "code",
   "execution_count": 145,
   "metadata": {},
   "outputs": [
    {
     "data": {
      "image/png": "[encoded data removed]",
      "text/plain": [
       "<Figure size 720x504 with 1 Axes>"
      ]
     },
     "metadata": {
      "needs_background": "light"
     },
     "output_type": "display_data"
    }
   ],
   "source": [
    "feature_names = features_train.columns \n",
    "importances = best_xgbr_regressor.feature_importances_\n",
    "model_importances = pd.Series(importances, index=feature_names)\n",
    "\n",
    "std = np.std([best_lgbm_regressor.feature_importances_ for tree in str(1000)], axis=0)\n",
    "\n",
    "fig, ax = plt.subplots(figsize=(10,7))\n",
    "model_importances.sort_values(ascending=False).plot.bar(yerr=std, ax=ax)\n",
    "ax.set_title(\"Feature importances\")\n",
    "ax.set_ylabel(\"Mean decrease in impurity\")\n",
    "fig.tight_layout()"
   ]
  },
  {
   "cell_type": "markdown",
   "metadata": {},
   "source": [
    "## Анализ моделей"
   ]
  },
  {
   "cell_type": "markdown",
   "metadata": {},
   "source": [
    "**Модель RandomForestRegressor:**<br>\n",
    "С помощью модели RandomForestRegressor получили лучший результат на тренировочной выборке RMSE - 1421 на валидационной выборке RMSE - 1375 на следующих параметрах:\n",
    "- n_estimators - 41;\n",
    "- min_samples_split - 2;\n",
    "- min_samples_leaf - 2;\n",
    "- max_features - sqrt;\n",
    "- max_depth - 24;\n",
    "- bootstrap - False.\n",
    "\n",
    "Затраченное время:\n",
    "- На обучение модели: 13 с;\n",
    "- На предсказание: 0.8 с.\n",
    "\n",
    "**Модель LightGBM:**<br>\n",
    "С помощью модели lightgbm получили лучший результат на тренировочной выборке RMSE - 1512 на валидационной выборке RMSE - 1488 на следующих параметрах:\n",
    "- objective - rmse;\n",
    "- learning_rate - 0.1;\n",
    "- num_leaves - 50;\n",
    "- subsample - 1.0.\n",
    "\n",
    "Затраченное время:\n",
    "- На нахождение лучшей модели: 2 с;\n",
    "- На предсказание: 0.7 с.\n",
    "\n",
    "**Модель XGBRegressor:**<br>\n",
    "С помощью модели XGBRegressor получили лучший результат на тренировочной выборке RMSE - 1071 на валидационной выборке RMSE - 1773 на следующих параметрах:\n",
    "- max_depth - (-1);\n",
    "- learning_rate - 0.1;\n",
    "- n_estimators - 150.\n",
    "\n",
    "Затраченное время:\n",
    "- На нахождение лучшей модели: 249 с;\n",
    "- На предсказание: 13 с."
   ]
  },
  {
   "cell_type": "code",
   "execution_count": 146,
   "metadata": {},
   "outputs": [
    {
     "data": {
      "text/html": [
       "<div>\n",
       "<style scoped>\n",
       "    .dataframe tbody tr th:only-of-type {\n",
       "        vertical-align: middle;\n",
       "    }\n",
       "\n",
       "    .dataframe tbody tr th {\n",
       "        vertical-align: top;\n",
       "    }\n",
       "\n",
       "    .dataframe thead th {\n",
       "        text-align: right;\n",
       "    }\n",
       "</style>\n",
       "<table border=\"1\" class=\"dataframe\">\n",
       "  <thead>\n",
       "    <tr style=\"text-align: right;\">\n",
       "      <th></th>\n",
       "      <th>RMSE</th>\n",
       "      <th>T_train</th>\n",
       "      <th>T_predict</th>\n",
       "    </tr>\n",
       "  </thead>\n",
       "  <tbody>\n",
       "    <tr>\n",
       "      <th>RandomForestRegressor</th>\n",
       "      <td>1374.728536</td>\n",
       "      <td>13.166782</td>\n",
       "      <td>0.825285</td>\n",
       "    </tr>\n",
       "    <tr>\n",
       "      <th>LGBMRegressor</th>\n",
       "      <td>1487.720330</td>\n",
       "      <td>1.726601</td>\n",
       "      <td>0.667546</td>\n",
       "    </tr>\n",
       "    <tr>\n",
       "      <th>XGBRegressor</th>\n",
       "      <td>1612.529556</td>\n",
       "      <td>248.835855</td>\n",
       "      <td>12.643050</td>\n",
       "    </tr>\n",
       "  </tbody>\n",
       "</table>\n",
       "</div>"
      ],
      "text/plain": [
       "                              RMSE     T_train  T_predict\n",
       "RandomForestRegressor  1374.728536   13.166782   0.825285\n",
       "LGBMRegressor          1487.720330    1.726601   0.667546\n",
       "XGBRegressor           1612.529556  248.835855  12.643050"
      ]
     },
     "metadata": {},
     "output_type": "display_data"
    }
   ],
   "source": [
    "res_df = pd.DataFrame(np.column_stack([RMSE, training_time, prediction_time]), \n",
    "                               columns=variable, index=model)\n",
    "display(res_df)"
   ]
  },
  {
   "cell_type": "markdown",
   "metadata": {},
   "source": [
    "**Выбор модели останавливаем на RandomForestRegressor, так как она показала лучший параметр RMSE и приемлимую скорость обучения и предсказания.**"
   ]
  },
  {
   "cell_type": "markdown",
   "metadata": {},
   "source": [
    "## Вывод"
   ]
  },
  {
   "cell_type": "markdown",
   "metadata": {},
   "source": [
    "**Подготовка данных:**\n",
    "- Библиотеки и данные загружены;\n",
    "- По результатам обработки данных:\n",
    "    - Удалены объявления с ценой менее 100 евро;\n",
    "    - В колоке VehicleType отсутствующие значения заменены на nondef;\n",
    "    - Удалены объявления с RegistrationYear меньше 1989 года и больше 2017 года;\n",
    "    - В колоке Gearbox отсутствующие значения заменены на nondef;\n",
    "    - Удалены объявления с мощностью до 20 л.с. и более 255 л.с.;\n",
    "    - В колоке Model отсутствующие значения заменены на nondef;\n",
    "    - В колоке FuelType отсутствующие значения заменены на nondef;\n",
    "    - В колоке NotRepaired отсутствующие значения заменены на nondef.\n",
    "- Выбраны следующие колонки как признаки:\n",
    "    - VehicleType;\n",
    "    - RegistrationYear;\n",
    "    - Gearbox;\n",
    "    - Power;\n",
    "    - Model;\n",
    "    - Kilometer;\n",
    "    - FuelType;\n",
    "    - Brand;\n",
    "    - NotRepaired;\n",
    "    - PostalCode.\n",
    "- Целевой признак\n",
    "    - Price.\n",
    "- Категоральные признаки преобразованы с помощью OrdinalEncoder.\n",
    "\n",
    "**Обучены модели RandomForestRegressor, LightGBM, XGBRegressor и проведен их анализ**<br>\n",
    "**Модель RandomForestRegressor:**<br>\n",
    "С помощью модели RandomForestRegressor получили лучший результат на тренировочной выборке RMSE - 1421 на валидационной выборке RMSE - 1375 на следующих параметрах:\n",
    "- n_estimators - 41;\n",
    "- min_samples_split - 2;\n",
    "- min_samples_leaf - 2;\n",
    "- max_features - sqrt;\n",
    "- max_depth - 24;\n",
    "- bootstrap - False.\n",
    "\n",
    "Затраченное время:\n",
    "- На обучение модели: 13 с;\n",
    "- На предсказание: 0.8 с.\n",
    "\n",
    "**Модель LightGBM:**<br>\n",
    "С помощью модели lightgbm получили лучший результат на тренировочной выборке RMSE - 1512 на валидационной выборке RMSE - 1488 на следующих параметрах:\n",
    "- objective - rmse;\n",
    "- learning_rate - 0.1;\n",
    "- num_leaves - 50;\n",
    "- subsample - 1.0.\n",
    "\n",
    "Затраченное время:\n",
    "- На нахождение лучшей модели: 2 с;\n",
    "- На предсказание: 0.7 с.\n",
    "\n",
    "**Модель XGBRegressor:**<br>\n",
    "С помощью модели XGBRegressor получили лучший результат на тренировочной выборке RMSE - 1071 на валидационной выборке RMSE - 1773 на следующих параметрах:\n",
    "- max_depth - (-1);\n",
    "- learning_rate - 0.1;\n",
    "- n_estimators - 150.\n",
    "\n",
    "Затраченное время:\n",
    "- На нахождение лучшей модели: 249 с;\n",
    "- На предсказание: 13 с.\n",
    "\n",
    "**Выбор модели останавливаем на RandomForestRegressor, так как она показала лучший параметр RMSE и приемлимую скорость обучения и предсказания.**"
   ]
  }
 ],
 "metadata": {
  "ExecuteTimeLog": [
   {
    "duration": 47,
    "start_time": "2022-06-29T18:45:51.350Z"
   },
   {
    "duration": 1844,
    "start_time": "2022-06-29T18:45:56.600Z"
   },
   {
    "duration": 138,
    "start_time": "2022-06-29T18:45:58.447Z"
   },
   {
    "duration": 1202,
    "start_time": "2022-06-29T18:48:50.271Z"
   },
   {
    "duration": 253,
    "start_time": "2022-06-29T18:49:04.846Z"
   },
   {
    "duration": 658,
    "start_time": "2022-06-29T18:49:06.225Z"
   },
   {
    "duration": 313,
    "start_time": "2022-06-29T18:49:08.899Z"
   },
   {
    "duration": 35,
    "start_time": "2022-06-29T18:49:09.283Z"
   },
   {
    "duration": 70,
    "start_time": "2022-06-29T18:49:09.677Z"
   },
   {
    "duration": 45,
    "start_time": "2022-06-29T18:49:10.846Z"
   },
   {
    "duration": 27,
    "start_time": "2022-06-29T18:49:11.315Z"
   },
   {
    "duration": 25,
    "start_time": "2022-06-29T18:49:11.520Z"
   },
   {
    "duration": 522,
    "start_time": "2022-06-29T18:49:11.936Z"
   },
   {
    "duration": 26,
    "start_time": "2022-06-29T18:49:12.460Z"
   },
   {
    "duration": 71,
    "start_time": "2022-06-29T18:49:12.688Z"
   },
   {
    "duration": 237,
    "start_time": "2022-06-29T18:49:12.866Z"
   },
   {
    "duration": 18,
    "start_time": "2022-06-29T18:49:13.105Z"
   },
   {
    "duration": 34,
    "start_time": "2022-06-29T18:49:14.747Z"
   },
   {
    "duration": 32,
    "start_time": "2022-06-29T18:49:14.905Z"
   },
   {
    "duration": 17,
    "start_time": "2022-06-29T18:49:15.305Z"
   },
   {
    "duration": 16,
    "start_time": "2022-06-29T18:49:15.506Z"
   },
   {
    "duration": 621,
    "start_time": "2022-06-29T18:49:16.009Z"
   },
   {
    "duration": 391,
    "start_time": "2022-06-29T18:49:17.819Z"
   },
   {
    "duration": 27,
    "start_time": "2022-06-29T18:49:18.562Z"
   },
   {
    "duration": 6,
    "start_time": "2022-06-29T18:49:19.031Z"
   },
   {
    "duration": 52,
    "start_time": "2022-06-29T18:49:19.757Z"
   },
   {
    "duration": 38,
    "start_time": "2022-06-29T18:49:20.258Z"
   },
   {
    "duration": 47,
    "start_time": "2022-06-29T18:49:21.198Z"
   },
   {
    "duration": 44,
    "start_time": "2022-06-29T18:49:24.512Z"
   },
   {
    "duration": 39,
    "start_time": "2022-06-29T18:49:32.664Z"
   },
   {
    "duration": 15,
    "start_time": "2022-06-29T18:49:35.236Z"
   },
   {
    "duration": 14,
    "start_time": "2022-06-29T18:49:43.050Z"
   },
   {
    "duration": 63,
    "start_time": "2022-06-29T18:56:24.501Z"
   },
   {
    "duration": 65,
    "start_time": "2022-06-29T18:56:40.613Z"
   },
   {
    "duration": 49,
    "start_time": "2022-06-29T18:56:55.765Z"
   },
   {
    "duration": 45668,
    "start_time": "2022-06-29T18:57:01.467Z"
   },
   {
    "duration": 5,
    "start_time": "2022-06-29T18:57:53.636Z"
   },
   {
    "duration": 56,
    "start_time": "2022-06-29T18:58:42.027Z"
   },
   {
    "duration": 52,
    "start_time": "2022-06-29T18:58:52.845Z"
   },
   {
    "duration": 9,
    "start_time": "2022-06-29T18:59:00.887Z"
   },
   {
    "duration": 82,
    "start_time": "2022-06-29T18:59:25.757Z"
   },
   {
    "duration": 117,
    "start_time": "2022-06-29T18:59:32.383Z"
   },
   {
    "duration": 10,
    "start_time": "2022-06-29T18:59:41.691Z"
   },
   {
    "duration": 9,
    "start_time": "2022-06-29T18:59:49.174Z"
   },
   {
    "duration": 30,
    "start_time": "2022-06-29T19:00:22.185Z"
   },
   {
    "duration": 33,
    "start_time": "2022-06-29T19:00:33.401Z"
   },
   {
    "duration": 32,
    "start_time": "2022-06-29T19:01:35.784Z"
   },
   {
    "duration": 41,
    "start_time": "2022-06-29T19:01:42.329Z"
   },
   {
    "duration": 11,
    "start_time": "2022-06-29T19:01:53.072Z"
   },
   {
    "duration": 389,
    "start_time": "2022-06-29T19:03:07.454Z"
   },
   {
    "duration": 359,
    "start_time": "2022-06-29T19:03:14.617Z"
   },
   {
    "duration": 354,
    "start_time": "2022-06-29T19:03:41.002Z"
   },
   {
    "duration": 400,
    "start_time": "2022-06-29T19:04:26.297Z"
   },
   {
    "duration": 416,
    "start_time": "2022-06-29T19:04:40.543Z"
   },
   {
    "duration": 439,
    "start_time": "2022-06-29T19:05:07.099Z"
   },
   {
    "duration": 1677,
    "start_time": "2022-06-29T19:05:16.782Z"
   },
   {
    "duration": 391,
    "start_time": "2022-06-29T19:05:25.704Z"
   },
   {
    "duration": 364,
    "start_time": "2022-06-29T19:05:57.282Z"
   },
   {
    "duration": 1547,
    "start_time": "2022-06-29T19:06:48.571Z"
   },
   {
    "duration": 354,
    "start_time": "2022-06-29T19:07:46.702Z"
   },
   {
    "duration": 6,
    "start_time": "2022-06-29T19:08:13.712Z"
   },
   {
    "duration": 2171,
    "start_time": "2022-06-29T19:08:39.184Z"
   },
   {
    "duration": 1103,
    "start_time": "2022-06-29T19:08:41.357Z"
   },
   {
    "duration": 141,
    "start_time": "2022-06-29T19:08:45.954Z"
   },
   {
    "duration": 46,
    "start_time": "2022-06-29T19:08:46.214Z"
   },
   {
    "duration": 504,
    "start_time": "2022-06-29T19:08:46.503Z"
   },
   {
    "duration": 6,
    "start_time": "2022-06-29T19:08:48.054Z"
   },
   {
    "duration": 280,
    "start_time": "2022-06-29T19:09:23.595Z"
   },
   {
    "duration": 177,
    "start_time": "2022-06-29T19:11:07.799Z"
   },
   {
    "duration": 54,
    "start_time": "2022-06-29T19:11:35.514Z"
   },
   {
    "duration": 30,
    "start_time": "2022-06-29T19:11:45.165Z"
   },
   {
    "duration": 35,
    "start_time": "2022-06-29T19:11:56.460Z"
   },
   {
    "duration": 53,
    "start_time": "2022-06-29T19:12:14.403Z"
   },
   {
    "duration": 12,
    "start_time": "2022-06-29T19:12:33.567Z"
   },
   {
    "duration": 45,
    "start_time": "2022-06-29T19:12:39.538Z"
   },
   {
    "duration": 53,
    "start_time": "2022-06-29T19:13:28.910Z"
   },
   {
    "duration": 43,
    "start_time": "2022-06-29T19:13:32.838Z"
   },
   {
    "duration": 49,
    "start_time": "2022-06-29T19:13:51.722Z"
   },
   {
    "duration": 131,
    "start_time": "2022-06-29T19:14:56.160Z"
   },
   {
    "duration": 149,
    "start_time": "2022-06-29T19:15:06.904Z"
   },
   {
    "duration": 8,
    "start_time": "2022-06-29T19:15:19.301Z"
   },
   {
    "duration": 930,
    "start_time": "2022-06-29T19:15:19.311Z"
   },
   {
    "duration": 262,
    "start_time": "2022-06-29T19:15:20.243Z"
   },
   {
    "duration": 636,
    "start_time": "2022-06-29T19:15:20.507Z"
   },
   {
    "duration": 284,
    "start_time": "2022-06-29T19:15:21.145Z"
   },
   {
    "duration": 48,
    "start_time": "2022-06-29T19:15:21.433Z"
   },
   {
    "duration": 76,
    "start_time": "2022-06-29T19:15:21.484Z"
   },
   {
    "duration": 47,
    "start_time": "2022-06-29T19:15:21.562Z"
   },
   {
    "duration": 37,
    "start_time": "2022-06-29T19:15:21.611Z"
   },
   {
    "duration": 18,
    "start_time": "2022-06-29T19:15:21.650Z"
   },
   {
    "duration": 609,
    "start_time": "2022-06-29T19:15:21.670Z"
   },
   {
    "duration": 163,
    "start_time": "2022-06-29T19:15:22.282Z"
   },
   {
    "duration": 49,
    "start_time": "2022-06-29T19:15:22.447Z"
   },
   {
    "duration": 388,
    "start_time": "2022-06-29T19:15:22.499Z"
   },
   {
    "duration": 22,
    "start_time": "2022-06-29T19:15:22.889Z"
   },
   {
    "duration": 133,
    "start_time": "2022-06-29T19:15:22.913Z"
   },
   {
    "duration": 17,
    "start_time": "2022-06-29T19:16:17.199Z"
   },
   {
    "duration": 5,
    "start_time": "2022-06-29T19:16:58.243Z"
   },
   {
    "duration": 15,
    "start_time": "2022-06-29T19:17:12.896Z"
   },
   {
    "duration": 168,
    "start_time": "2022-06-29T19:17:37.809Z"
   },
   {
    "duration": 11,
    "start_time": "2022-06-29T19:18:01.803Z"
   },
   {
    "duration": 466,
    "start_time": "2022-06-29T19:18:11.260Z"
   },
   {
    "duration": 1104,
    "start_time": "2022-06-29T19:23:54.935Z"
   },
   {
    "duration": 465,
    "start_time": "2022-06-29T19:24:04.265Z"
   },
   {
    "duration": 22,
    "start_time": "2022-06-29T19:25:21.940Z"
   },
   {
    "duration": 11,
    "start_time": "2022-06-29T19:25:25.454Z"
   },
   {
    "duration": 6,
    "start_time": "2022-06-29T19:25:30.364Z"
   },
   {
    "duration": 18,
    "start_time": "2022-06-29T19:25:35.169Z"
   },
   {
    "duration": 6,
    "start_time": "2022-06-29T19:27:32.190Z"
   },
   {
    "duration": 845,
    "start_time": "2022-06-29T19:27:32.197Z"
   },
   {
    "duration": 284,
    "start_time": "2022-06-29T19:27:33.044Z"
   },
   {
    "duration": 607,
    "start_time": "2022-06-29T19:27:33.332Z"
   },
   {
    "duration": 285,
    "start_time": "2022-06-29T19:27:33.941Z"
   },
   {
    "duration": 34,
    "start_time": "2022-06-29T19:27:34.230Z"
   },
   {
    "duration": 72,
    "start_time": "2022-06-29T19:27:34.266Z"
   },
   {
    "duration": 57,
    "start_time": "2022-06-29T19:27:34.340Z"
   },
   {
    "duration": 18,
    "start_time": "2022-06-29T19:27:34.400Z"
   },
   {
    "duration": 39,
    "start_time": "2022-06-29T19:27:34.420Z"
   },
   {
    "duration": 630,
    "start_time": "2022-06-29T19:27:34.461Z"
   },
   {
    "duration": 35,
    "start_time": "2022-06-29T19:27:35.093Z"
   },
   {
    "duration": 73,
    "start_time": "2022-06-29T19:27:35.130Z"
   },
   {
    "duration": 235,
    "start_time": "2022-06-29T19:27:35.205Z"
   },
   {
    "duration": 17,
    "start_time": "2022-06-29T19:27:35.442Z"
   },
   {
    "duration": 176,
    "start_time": "2022-06-29T19:27:35.461Z"
   },
   {
    "duration": 496,
    "start_time": "2022-06-29T19:27:35.640Z"
   },
   {
    "duration": 18,
    "start_time": "2022-06-29T19:27:36.138Z"
   },
   {
    "duration": 13,
    "start_time": "2022-06-29T19:30:34.945Z"
   },
   {
    "duration": 10,
    "start_time": "2022-06-29T19:30:45.154Z"
   },
   {
    "duration": 25,
    "start_time": "2022-06-29T19:31:42.515Z"
   },
   {
    "duration": 50,
    "start_time": "2022-06-29T19:32:38.081Z"
   },
   {
    "duration": 53,
    "start_time": "2022-06-29T19:33:00.741Z"
   },
   {
    "duration": 73,
    "start_time": "2022-06-29T19:33:50.353Z"
   },
   {
    "duration": 507,
    "start_time": "2022-06-29T19:33:57.402Z"
   },
   {
    "duration": 57,
    "start_time": "2022-06-29T19:51:25.580Z"
   },
   {
    "duration": 423,
    "start_time": "2022-06-29T19:51:26.184Z"
   },
   {
    "duration": 6,
    "start_time": "2022-06-29T19:51:49.355Z"
   },
   {
    "duration": 907,
    "start_time": "2022-06-29T19:51:49.363Z"
   },
   {
    "duration": 298,
    "start_time": "2022-06-29T19:51:50.271Z"
   },
   {
    "duration": 743,
    "start_time": "2022-06-29T19:51:50.572Z"
   },
   {
    "duration": 305,
    "start_time": "2022-06-29T19:51:51.317Z"
   },
   {
    "duration": 41,
    "start_time": "2022-06-29T19:51:51.626Z"
   },
   {
    "duration": 64,
    "start_time": "2022-06-29T19:51:51.668Z"
   },
   {
    "duration": 73,
    "start_time": "2022-06-29T19:51:51.734Z"
   },
   {
    "duration": 40,
    "start_time": "2022-06-29T19:51:51.810Z"
   },
   {
    "duration": 24,
    "start_time": "2022-06-29T19:51:51.852Z"
   },
   {
    "duration": 616,
    "start_time": "2022-06-29T19:51:51.878Z"
   },
   {
    "duration": 24,
    "start_time": "2022-06-29T19:51:52.496Z"
   },
   {
    "duration": 97,
    "start_time": "2022-06-29T19:51:52.522Z"
   },
   {
    "duration": 331,
    "start_time": "2022-06-29T19:51:52.622Z"
   },
   {
    "duration": 19,
    "start_time": "2022-06-29T19:51:52.955Z"
   },
   {
    "duration": 202,
    "start_time": "2022-06-29T19:51:52.975Z"
   },
   {
    "duration": 530,
    "start_time": "2022-06-29T19:51:53.179Z"
   },
   {
    "duration": 89,
    "start_time": "2022-06-29T19:51:53.710Z"
   },
   {
    "duration": 514,
    "start_time": "2022-06-29T19:51:53.801Z"
   },
   {
    "duration": 66,
    "start_time": "2022-06-29T19:51:54.317Z"
   },
   {
    "duration": 7,
    "start_time": "2022-06-29T19:54:26.080Z"
   },
   {
    "duration": 769,
    "start_time": "2022-06-29T19:54:26.090Z"
   },
   {
    "duration": 228,
    "start_time": "2022-06-29T19:54:26.861Z"
   },
   {
    "duration": 695,
    "start_time": "2022-06-29T19:54:27.091Z"
   },
   {
    "duration": 257,
    "start_time": "2022-06-29T19:54:27.789Z"
   },
   {
    "duration": 28,
    "start_time": "2022-06-29T19:54:28.047Z"
   },
   {
    "duration": 61,
    "start_time": "2022-06-29T19:54:28.077Z"
   },
   {
    "duration": 46,
    "start_time": "2022-06-29T19:54:28.139Z"
   },
   {
    "duration": 15,
    "start_time": "2022-06-29T19:54:28.187Z"
   },
   {
    "duration": 29,
    "start_time": "2022-06-29T19:54:28.204Z"
   },
   {
    "duration": 477,
    "start_time": "2022-06-29T19:54:28.235Z"
   },
   {
    "duration": 29,
    "start_time": "2022-06-29T19:54:28.714Z"
   },
   {
    "duration": 59,
    "start_time": "2022-06-29T19:54:28.745Z"
   },
   {
    "duration": 250,
    "start_time": "2022-06-29T19:54:28.806Z"
   },
   {
    "duration": 17,
    "start_time": "2022-06-29T19:54:29.058Z"
   },
   {
    "duration": 183,
    "start_time": "2022-06-29T19:54:29.076Z"
   },
   {
    "duration": 76,
    "start_time": "2022-06-29T19:54:29.261Z"
   },
   {
    "duration": 431,
    "start_time": "2022-06-29T19:54:29.339Z"
   },
   {
    "duration": 63,
    "start_time": "2022-06-29T19:54:29.772Z"
   },
   {
    "duration": 441,
    "start_time": "2022-06-29T19:54:29.836Z"
   },
   {
    "duration": 6,
    "start_time": "2022-06-29T19:55:18.092Z"
   },
   {
    "duration": 758,
    "start_time": "2022-06-29T19:55:18.099Z"
   },
   {
    "duration": 249,
    "start_time": "2022-06-29T19:55:18.859Z"
   },
   {
    "duration": 512,
    "start_time": "2022-06-29T19:55:19.111Z"
   },
   {
    "duration": 490,
    "start_time": "2022-06-29T19:55:19.625Z"
   },
   {
    "duration": 35,
    "start_time": "2022-06-29T19:55:20.116Z"
   },
   {
    "duration": 51,
    "start_time": "2022-06-29T19:55:20.152Z"
   },
   {
    "duration": 59,
    "start_time": "2022-06-29T19:55:20.205Z"
   },
   {
    "duration": 17,
    "start_time": "2022-06-29T19:55:20.266Z"
   },
   {
    "duration": 17,
    "start_time": "2022-06-29T19:55:20.285Z"
   },
   {
    "duration": 480,
    "start_time": "2022-06-29T19:55:20.323Z"
   },
   {
    "duration": 30,
    "start_time": "2022-06-29T19:55:20.805Z"
   },
   {
    "duration": 65,
    "start_time": "2022-06-29T19:55:20.836Z"
   },
   {
    "duration": 234,
    "start_time": "2022-06-29T19:55:20.903Z"
   },
   {
    "duration": 17,
    "start_time": "2022-06-29T19:55:21.139Z"
   },
   {
    "duration": 180,
    "start_time": "2022-06-29T19:55:21.158Z"
   },
   {
    "duration": 70,
    "start_time": "2022-06-29T19:55:21.339Z"
   },
   {
    "duration": 415,
    "start_time": "2022-06-29T19:55:21.423Z"
   },
   {
    "duration": 55,
    "start_time": "2022-06-29T19:55:21.839Z"
   },
   {
    "duration": 431,
    "start_time": "2022-06-29T19:55:21.896Z"
   },
   {
    "duration": 31,
    "start_time": "2022-06-29T19:55:22.329Z"
   },
   {
    "duration": 16,
    "start_time": "2022-06-29T19:55:22.362Z"
   },
   {
    "duration": 17,
    "start_time": "2022-06-29T19:55:22.379Z"
   },
   {
    "duration": 37,
    "start_time": "2022-06-29T19:55:22.397Z"
   },
   {
    "duration": 613,
    "start_time": "2022-06-29T19:55:22.435Z"
   },
   {
    "duration": 374,
    "start_time": "2022-06-29T19:55:23.049Z"
   },
   {
    "duration": 28,
    "start_time": "2022-06-29T19:55:23.424Z"
   },
   {
    "duration": 5,
    "start_time": "2022-06-29T19:55:23.455Z"
   },
   {
    "duration": 64,
    "start_time": "2022-06-29T19:55:23.461Z"
   },
   {
    "duration": 28,
    "start_time": "2022-06-29T19:55:23.527Z"
   },
   {
    "duration": 47,
    "start_time": "2022-06-29T19:55:23.556Z"
   },
   {
    "duration": 107,
    "start_time": "2022-06-29T19:55:23.622Z"
   },
   {
    "duration": 107,
    "start_time": "2022-06-29T19:55:59.523Z"
   },
   {
    "duration": 5,
    "start_time": "2022-06-29T19:56:12.292Z"
   },
   {
    "duration": 855,
    "start_time": "2022-06-29T19:56:12.300Z"
   },
   {
    "duration": 249,
    "start_time": "2022-06-29T19:56:13.156Z"
   },
   {
    "duration": 789,
    "start_time": "2022-06-29T19:56:13.406Z"
   },
   {
    "duration": 253,
    "start_time": "2022-06-29T19:56:14.197Z"
   },
   {
    "duration": 28,
    "start_time": "2022-06-29T19:56:14.451Z"
   },
   {
    "duration": 67,
    "start_time": "2022-06-29T19:56:14.481Z"
   },
   {
    "duration": 45,
    "start_time": "2022-06-29T19:56:14.550Z"
   },
   {
    "duration": 30,
    "start_time": "2022-06-29T19:56:14.596Z"
   },
   {
    "duration": 14,
    "start_time": "2022-06-29T19:56:14.628Z"
   },
   {
    "duration": 487,
    "start_time": "2022-06-29T19:56:14.644Z"
   },
   {
    "duration": 25,
    "start_time": "2022-06-29T19:56:15.133Z"
   },
   {
    "duration": 79,
    "start_time": "2022-06-29T19:56:15.160Z"
   },
   {
    "duration": 237,
    "start_time": "2022-06-29T19:56:15.243Z"
   },
   {
    "duration": 17,
    "start_time": "2022-06-29T19:56:15.482Z"
   },
   {
    "duration": 191,
    "start_time": "2022-06-29T19:56:15.501Z"
   },
   {
    "duration": 73,
    "start_time": "2022-06-29T19:56:15.694Z"
   },
   {
    "duration": 443,
    "start_time": "2022-06-29T19:56:15.768Z"
   },
   {
    "duration": 72,
    "start_time": "2022-06-29T19:56:16.213Z"
   },
   {
    "duration": 408,
    "start_time": "2022-06-29T19:56:16.286Z"
   },
   {
    "duration": 34,
    "start_time": "2022-06-29T19:56:16.696Z"
   },
   {
    "duration": 20,
    "start_time": "2022-06-29T19:56:16.731Z"
   },
   {
    "duration": 16,
    "start_time": "2022-06-29T19:56:16.753Z"
   },
   {
    "duration": 16,
    "start_time": "2022-06-29T19:56:16.771Z"
   },
   {
    "duration": 507,
    "start_time": "2022-06-29T19:56:16.789Z"
   },
   {
    "duration": 380,
    "start_time": "2022-06-29T19:56:17.298Z"
   },
   {
    "duration": 32,
    "start_time": "2022-06-29T19:56:17.679Z"
   },
   {
    "duration": 5,
    "start_time": "2022-06-29T19:56:17.722Z"
   },
   {
    "duration": 65,
    "start_time": "2022-06-29T19:56:17.729Z"
   },
   {
    "duration": 53,
    "start_time": "2022-06-29T19:56:17.796Z"
   },
   {
    "duration": 2,
    "start_time": "2022-06-29T19:56:17.851Z"
   },
   {
    "duration": 154,
    "start_time": "2022-06-29T19:56:17.855Z"
   },
   {
    "duration": 111,
    "start_time": "2022-06-29T19:56:29.249Z"
   },
   {
    "duration": 430,
    "start_time": "2022-06-29T19:56:35.394Z"
   },
   {
    "duration": 29,
    "start_time": "2022-06-29T19:57:19.711Z"
   },
   {
    "duration": 99,
    "start_time": "2022-06-29T19:57:28.698Z"
   },
   {
    "duration": 55,
    "start_time": "2022-06-29T20:00:54.519Z"
   },
   {
    "duration": 6,
    "start_time": "2022-06-29T20:01:18.041Z"
   },
   {
    "duration": 781,
    "start_time": "2022-06-29T20:01:18.049Z"
   },
   {
    "duration": 267,
    "start_time": "2022-06-29T20:01:18.831Z"
   },
   {
    "duration": 529,
    "start_time": "2022-06-29T20:01:19.100Z"
   },
   {
    "duration": 242,
    "start_time": "2022-06-29T20:01:19.631Z"
   },
   {
    "duration": 30,
    "start_time": "2022-06-29T20:01:19.874Z"
   },
   {
    "duration": 81,
    "start_time": "2022-06-29T20:01:19.906Z"
   },
   {
    "duration": 56,
    "start_time": "2022-06-29T20:01:19.989Z"
   },
   {
    "duration": 16,
    "start_time": "2022-06-29T20:01:20.047Z"
   },
   {
    "duration": 19,
    "start_time": "2022-06-29T20:01:20.065Z"
   },
   {
    "duration": 491,
    "start_time": "2022-06-29T20:01:20.085Z"
   },
   {
    "duration": 27,
    "start_time": "2022-06-29T20:01:20.578Z"
   },
   {
    "duration": 85,
    "start_time": "2022-06-29T20:01:20.606Z"
   },
   {
    "duration": 234,
    "start_time": "2022-06-29T20:01:20.694Z"
   },
   {
    "duration": 17,
    "start_time": "2022-06-29T20:01:20.929Z"
   },
   {
    "duration": 200,
    "start_time": "2022-06-29T20:01:20.948Z"
   },
   {
    "duration": 79,
    "start_time": "2022-06-29T20:01:21.150Z"
   },
   {
    "duration": 440,
    "start_time": "2022-06-29T20:01:21.230Z"
   },
   {
    "duration": 82,
    "start_time": "2022-06-29T20:01:21.671Z"
   },
   {
    "duration": 428,
    "start_time": "2022-06-29T20:01:21.755Z"
   },
   {
    "duration": 50,
    "start_time": "2022-06-29T20:01:22.185Z"
   },
   {
    "duration": 16,
    "start_time": "2022-06-29T20:01:22.237Z"
   },
   {
    "duration": 20,
    "start_time": "2022-06-29T20:01:22.254Z"
   },
   {
    "duration": 14,
    "start_time": "2022-06-29T20:01:22.277Z"
   },
   {
    "duration": 672,
    "start_time": "2022-06-29T20:01:22.293Z"
   },
   {
    "duration": 378,
    "start_time": "2022-06-29T20:01:22.967Z"
   },
   {
    "duration": 29,
    "start_time": "2022-06-29T20:01:23.346Z"
   },
   {
    "duration": 4,
    "start_time": "2022-06-29T20:01:23.376Z"
   },
   {
    "duration": 78,
    "start_time": "2022-06-29T20:01:23.382Z"
   },
   {
    "duration": 39,
    "start_time": "2022-06-29T20:01:23.461Z"
   },
   {
    "duration": 133,
    "start_time": "2022-06-29T20:01:23.502Z"
   },
   {
    "duration": 48,
    "start_time": "2022-06-29T20:01:23.637Z"
   },
   {
    "duration": 120,
    "start_time": "2022-06-29T20:01:23.687Z"
   },
   {
    "duration": 10,
    "start_time": "2022-06-29T20:01:37.979Z"
   },
   {
    "duration": 96,
    "start_time": "2022-06-29T20:01:38.652Z"
   },
   {
    "duration": 7,
    "start_time": "2022-06-29T20:01:45.930Z"
   },
   {
    "duration": 780,
    "start_time": "2022-06-29T20:01:45.939Z"
   },
   {
    "duration": 252,
    "start_time": "2022-06-29T20:01:46.721Z"
   },
   {
    "duration": 906,
    "start_time": "2022-06-29T20:01:46.974Z"
   },
   {
    "duration": 265,
    "start_time": "2022-06-29T20:01:47.883Z"
   },
   {
    "duration": 29,
    "start_time": "2022-06-29T20:01:48.150Z"
   },
   {
    "duration": 73,
    "start_time": "2022-06-29T20:01:48.180Z"
   },
   {
    "duration": 48,
    "start_time": "2022-06-29T20:01:48.255Z"
   },
   {
    "duration": 26,
    "start_time": "2022-06-29T20:01:48.304Z"
   },
   {
    "duration": 16,
    "start_time": "2022-06-29T20:01:48.332Z"
   },
   {
    "duration": 547,
    "start_time": "2022-06-29T20:01:48.350Z"
   },
   {
    "duration": 36,
    "start_time": "2022-06-29T20:01:48.899Z"
   },
   {
    "duration": 73,
    "start_time": "2022-06-29T20:01:48.937Z"
   },
   {
    "duration": 233,
    "start_time": "2022-06-29T20:01:49.022Z"
   },
   {
    "duration": 19,
    "start_time": "2022-06-29T20:01:49.257Z"
   },
   {
    "duration": 194,
    "start_time": "2022-06-29T20:01:49.278Z"
   },
   {
    "duration": 89,
    "start_time": "2022-06-29T20:01:49.474Z"
   },
   {
    "duration": 423,
    "start_time": "2022-06-29T20:01:49.565Z"
   },
   {
    "duration": 71,
    "start_time": "2022-06-29T20:01:49.990Z"
   },
   {
    "duration": 403,
    "start_time": "2022-06-29T20:01:50.063Z"
   },
   {
    "duration": 30,
    "start_time": "2022-06-29T20:01:50.467Z"
   },
   {
    "duration": 28,
    "start_time": "2022-06-29T20:01:50.499Z"
   },
   {
    "duration": 19,
    "start_time": "2022-06-29T20:01:50.529Z"
   },
   {
    "duration": 16,
    "start_time": "2022-06-29T20:01:50.549Z"
   },
   {
    "duration": 504,
    "start_time": "2022-06-29T20:01:50.567Z"
   },
   {
    "duration": 390,
    "start_time": "2022-06-29T20:01:51.073Z"
   },
   {
    "duration": 26,
    "start_time": "2022-06-29T20:01:51.465Z"
   },
   {
    "duration": 4,
    "start_time": "2022-06-29T20:01:51.492Z"
   },
   {
    "duration": 84,
    "start_time": "2022-06-29T20:01:51.498Z"
   },
   {
    "duration": 29,
    "start_time": "2022-06-29T20:01:51.584Z"
   },
   {
    "duration": 127,
    "start_time": "2022-06-29T20:01:51.614Z"
   },
   {
    "duration": 56,
    "start_time": "2022-06-29T20:01:51.743Z"
   },
   {
    "duration": 111,
    "start_time": "2022-06-29T20:01:51.801Z"
   },
   {
    "duration": 15,
    "start_time": "2022-06-29T20:04:47.028Z"
   },
   {
    "duration": 6,
    "start_time": "2022-06-29T20:04:51.501Z"
   },
   {
    "duration": 842,
    "start_time": "2022-06-29T20:04:51.509Z"
   },
   {
    "duration": 269,
    "start_time": "2022-06-29T20:04:52.353Z"
   },
   {
    "duration": 555,
    "start_time": "2022-06-29T20:04:52.624Z"
   },
   {
    "duration": 259,
    "start_time": "2022-06-29T20:04:53.182Z"
   },
   {
    "duration": 27,
    "start_time": "2022-06-29T20:04:53.443Z"
   },
   {
    "duration": 61,
    "start_time": "2022-06-29T20:04:53.472Z"
   },
   {
    "duration": 46,
    "start_time": "2022-06-29T20:04:53.534Z"
   },
   {
    "duration": 19,
    "start_time": "2022-06-29T20:04:53.582Z"
   },
   {
    "duration": 30,
    "start_time": "2022-06-29T20:04:53.602Z"
   },
   {
    "duration": 515,
    "start_time": "2022-06-29T20:04:53.634Z"
   },
   {
    "duration": 27,
    "start_time": "2022-06-29T20:04:54.151Z"
   },
   {
    "duration": 65,
    "start_time": "2022-06-29T20:04:54.181Z"
   },
   {
    "duration": 775,
    "start_time": "2022-06-29T20:04:54.248Z"
   },
   {
    "duration": 18,
    "start_time": "2022-06-29T20:04:55.024Z"
   },
   {
    "duration": 190,
    "start_time": "2022-06-29T20:04:55.044Z"
   },
   {
    "duration": 67,
    "start_time": "2022-06-29T20:04:55.236Z"
   },
   {
    "duration": 441,
    "start_time": "2022-06-29T20:04:55.305Z"
   },
   {
    "duration": 56,
    "start_time": "2022-06-29T20:04:55.747Z"
   },
   {
    "duration": 460,
    "start_time": "2022-06-29T20:04:55.805Z"
   },
   {
    "duration": 31,
    "start_time": "2022-06-29T20:04:56.267Z"
   },
   {
    "duration": 38,
    "start_time": "2022-06-29T20:04:56.300Z"
   },
   {
    "duration": 22,
    "start_time": "2022-06-29T20:04:56.340Z"
   },
   {
    "duration": 20,
    "start_time": "2022-06-29T20:04:56.364Z"
   },
   {
    "duration": 620,
    "start_time": "2022-06-29T20:04:56.386Z"
   },
   {
    "duration": 381,
    "start_time": "2022-06-29T20:04:57.008Z"
   },
   {
    "duration": 36,
    "start_time": "2022-06-29T20:04:57.391Z"
   },
   {
    "duration": 4,
    "start_time": "2022-06-29T20:04:57.429Z"
   },
   {
    "duration": 48,
    "start_time": "2022-06-29T20:04:57.435Z"
   },
   {
    "duration": 49,
    "start_time": "2022-06-29T20:04:57.484Z"
   },
   {
    "duration": 126,
    "start_time": "2022-06-29T20:04:57.534Z"
   },
   {
    "duration": 73,
    "start_time": "2022-06-29T20:04:57.662Z"
   },
   {
    "duration": 112,
    "start_time": "2022-06-29T20:04:57.737Z"
   },
   {
    "duration": 30,
    "start_time": "2022-06-29T20:04:57.851Z"
   },
   {
    "duration": 46,
    "start_time": "2022-06-29T20:04:57.883Z"
   },
   {
    "duration": 16,
    "start_time": "2022-06-29T20:04:57.931Z"
   },
   {
    "duration": 37,
    "start_time": "2022-06-29T20:04:57.951Z"
   },
   {
    "duration": 200,
    "start_time": "2022-06-29T20:04:57.990Z"
   },
   {
    "duration": 5,
    "start_time": "2022-06-29T20:04:58.191Z"
   },
   {
    "duration": 196,
    "start_time": "2022-06-29T20:04:58.197Z"
   },
   {
    "duration": 5,
    "start_time": "2022-06-29T20:04:58.395Z"
   },
   {
    "duration": 280,
    "start_time": "2022-06-29T20:04:58.402Z"
   },
   {
    "duration": 14,
    "start_time": "2022-06-29T20:04:58.683Z"
   },
   {
    "duration": 33,
    "start_time": "2022-06-29T20:04:58.699Z"
   },
   {
    "duration": 26,
    "start_time": "2022-06-29T20:04:58.733Z"
   },
   {
    "duration": 29,
    "start_time": "2022-06-29T20:04:58.760Z"
   },
   {
    "duration": 15,
    "start_time": "2022-06-29T20:04:58.790Z"
   },
   {
    "duration": 37,
    "start_time": "2022-06-29T20:04:58.807Z"
   },
   {
    "duration": 17,
    "start_time": "2022-06-29T20:04:58.845Z"
   },
   {
    "duration": 16,
    "start_time": "2022-06-29T20:04:58.863Z"
   },
   {
    "duration": 15,
    "start_time": "2022-06-29T20:04:58.881Z"
   },
   {
    "duration": 48,
    "start_time": "2022-06-29T20:04:58.898Z"
   },
   {
    "duration": 19,
    "start_time": "2022-06-29T20:04:58.948Z"
   },
   {
    "duration": 7,
    "start_time": "2022-06-29T20:04:58.969Z"
   },
   {
    "duration": 3,
    "start_time": "2022-06-29T20:04:58.978Z"
   },
   {
    "duration": 11,
    "start_time": "2022-06-29T20:04:58.983Z"
   },
   {
    "duration": 30,
    "start_time": "2022-06-29T20:04:58.996Z"
   },
   {
    "duration": 236,
    "start_time": "2022-06-29T20:04:59.028Z"
   },
   {
    "duration": 24,
    "start_time": "2022-06-29T20:04:59.266Z"
   },
   {
    "duration": 32,
    "start_time": "2022-06-29T20:04:59.291Z"
   },
   {
    "duration": 2,
    "start_time": "2022-06-29T20:04:59.325Z"
   },
   {
    "duration": 7,
    "start_time": "2022-06-29T20:04:59.329Z"
   },
   {
    "duration": 480,
    "start_time": "2022-06-29T20:04:59.338Z"
   },
   {
    "duration": 40,
    "start_time": "2022-06-29T20:04:59.820Z"
   },
   {
    "duration": 700687,
    "start_time": "2022-06-29T20:04:59.862Z"
   },
   {
    "duration": 23,
    "start_time": "2022-06-29T20:19:23.619Z"
   },
   {
    "duration": 13,
    "start_time": "2022-06-29T20:19:31.231Z"
   },
   {
    "duration": 23,
    "start_time": "2022-06-29T20:19:51.595Z"
   },
   {
    "duration": 64,
    "start_time": "2022-06-29T20:53:39.896Z"
   },
   {
    "duration": 1514,
    "start_time": "2022-06-29T20:53:49.220Z"
   },
   {
    "duration": 853,
    "start_time": "2022-06-29T20:53:50.737Z"
   },
   {
    "duration": 273,
    "start_time": "2022-06-29T20:53:51.591Z"
   },
   {
    "duration": 648,
    "start_time": "2022-06-29T20:53:51.866Z"
   },
   {
    "duration": 331,
    "start_time": "2022-06-29T20:53:52.517Z"
   },
   {
    "duration": 31,
    "start_time": "2022-06-29T20:53:52.849Z"
   },
   {
    "duration": 80,
    "start_time": "2022-06-29T20:53:52.882Z"
   },
   {
    "duration": 69,
    "start_time": "2022-06-29T20:53:52.963Z"
   },
   {
    "duration": 23,
    "start_time": "2022-06-29T20:53:53.040Z"
   },
   {
    "duration": 20,
    "start_time": "2022-06-29T20:53:53.065Z"
   },
   {
    "duration": 515,
    "start_time": "2022-06-29T20:53:53.087Z"
   },
   {
    "duration": 41,
    "start_time": "2022-06-29T20:53:53.604Z"
   },
   {
    "duration": 61,
    "start_time": "2022-06-29T20:53:53.646Z"
   },
   {
    "duration": 244,
    "start_time": "2022-06-29T20:53:53.711Z"
   },
   {
    "duration": 18,
    "start_time": "2022-06-29T20:53:53.957Z"
   },
   {
    "duration": 190,
    "start_time": "2022-06-29T20:53:53.977Z"
   },
   {
    "duration": 84,
    "start_time": "2022-06-29T20:53:54.169Z"
   },
   {
    "duration": 455,
    "start_time": "2022-06-29T20:53:54.255Z"
   },
   {
    "duration": 57,
    "start_time": "2022-06-29T20:53:54.712Z"
   },
   {
    "duration": 463,
    "start_time": "2022-06-29T20:53:54.771Z"
   },
   {
    "duration": 33,
    "start_time": "2022-06-29T20:53:55.235Z"
   },
   {
    "duration": 15,
    "start_time": "2022-06-29T20:53:55.270Z"
   },
   {
    "duration": 19,
    "start_time": "2022-06-29T20:53:55.287Z"
   },
   {
    "duration": 32,
    "start_time": "2022-06-29T20:53:55.308Z"
   },
   {
    "duration": 634,
    "start_time": "2022-06-29T20:53:55.342Z"
   },
   {
    "duration": 391,
    "start_time": "2022-06-29T20:53:55.978Z"
   },
   {
    "duration": 27,
    "start_time": "2022-06-29T20:53:56.370Z"
   },
   {
    "duration": 4,
    "start_time": "2022-06-29T20:53:56.399Z"
   },
   {
    "duration": 57,
    "start_time": "2022-06-29T20:53:56.405Z"
   },
   {
    "duration": 28,
    "start_time": "2022-06-29T20:53:56.464Z"
   },
   {
    "duration": 120,
    "start_time": "2022-06-29T20:53:56.494Z"
   },
   {
    "duration": 51,
    "start_time": "2022-06-29T20:53:56.627Z"
   },
   {
    "duration": 113,
    "start_time": "2022-06-29T20:53:56.680Z"
   },
   {
    "duration": 42,
    "start_time": "2022-06-29T20:53:56.795Z"
   },
   {
    "duration": 29,
    "start_time": "2022-06-29T20:53:56.839Z"
   },
   {
    "duration": 14,
    "start_time": "2022-06-29T20:53:56.870Z"
   },
   {
    "duration": 21,
    "start_time": "2022-06-29T20:53:56.885Z"
   },
   {
    "duration": 211,
    "start_time": "2022-06-29T20:53:56.907Z"
   },
   {
    "duration": 14,
    "start_time": "2022-06-29T20:53:57.123Z"
   },
   {
    "duration": 200,
    "start_time": "2022-06-29T20:53:57.138Z"
   },
   {
    "duration": 4,
    "start_time": "2022-06-29T20:53:57.344Z"
   },
   {
    "duration": 393,
    "start_time": "2022-06-29T20:53:57.350Z"
   },
   {
    "duration": 14,
    "start_time": "2022-06-29T20:53:57.745Z"
   },
   {
    "duration": 20,
    "start_time": "2022-06-29T20:53:57.761Z"
   },
   {
    "duration": 15,
    "start_time": "2022-06-29T20:53:57.783Z"
   },
   {
    "duration": 51,
    "start_time": "2022-06-29T20:53:57.800Z"
   },
   {
    "duration": 20,
    "start_time": "2022-06-29T20:53:57.852Z"
   },
   {
    "duration": 29,
    "start_time": "2022-06-29T20:53:57.874Z"
   },
   {
    "duration": 34,
    "start_time": "2022-06-29T20:53:57.904Z"
   },
   {
    "duration": 21,
    "start_time": "2022-06-29T20:53:57.940Z"
   },
   {
    "duration": 17,
    "start_time": "2022-06-29T20:53:57.964Z"
   },
   {
    "duration": 41,
    "start_time": "2022-06-29T20:53:57.983Z"
   },
   {
    "duration": 24,
    "start_time": "2022-06-29T20:53:58.028Z"
   },
   {
    "duration": 9,
    "start_time": "2022-06-29T20:53:58.054Z"
   },
   {
    "duration": 6,
    "start_time": "2022-06-29T20:53:58.064Z"
   },
   {
    "duration": 12,
    "start_time": "2022-06-29T20:53:58.071Z"
   },
   {
    "duration": 3,
    "start_time": "2022-06-29T20:53:58.085Z"
   },
   {
    "duration": 215,
    "start_time": "2022-06-29T20:53:58.090Z"
   },
   {
    "duration": 31,
    "start_time": "2022-06-29T20:53:58.307Z"
   },
   {
    "duration": 20,
    "start_time": "2022-06-29T20:53:58.340Z"
   },
   {
    "duration": 2,
    "start_time": "2022-06-29T20:53:58.362Z"
   },
   {
    "duration": 7,
    "start_time": "2022-06-29T20:53:58.366Z"
   },
   {
    "duration": 495,
    "start_time": "2022-06-29T20:53:58.375Z"
   },
   {
    "duration": 40,
    "start_time": "2022-06-29T20:53:58.871Z"
   },
   {
    "duration": 96873,
    "start_time": "2022-06-29T20:54:00.760Z"
   },
   {
    "duration": 163249,
    "start_time": "2022-06-29T20:56:46.459Z"
   }
  ],
  "kernelspec": {
   "display_name": "Python 3 (ipykernel)",
   "language": "python",
   "name": "python3"
  },
  "language_info": {
   "codemirror_mode": {
    "name": "ipython",
    "version": 3
   },
   "file_extension": ".py",
   "mimetype": "text/x-python",
   "name": "python",
   "nbconvert_exporter": "python",
   "pygments_lexer": "ipython3",
   "version": "3.9.12"
  },
  "toc": {
   "base_numbering": 1,
   "nav_menu": {},
   "number_sections": true,
   "sideBar": true,
   "skip_h1_title": true,
   "title_cell": "Table of Contents",
   "title_sidebar": "Contents",
   "toc_cell": false,
   "toc_position": {
    "height": "calc(100% - 180px)",
    "left": "10px",
    "top": "150px",
    "width": "287.188px"
   },
   "toc_section_display": true,
   "toc_window_display": true
  }
 },
 "nbformat": 4,
 "nbformat_minor": 4
}
