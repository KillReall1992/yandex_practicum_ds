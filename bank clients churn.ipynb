{
 "cells": [
  {
   "cell_type": "markdown",
   "metadata": {
    "toc": true
   },
   "source": [
    "<h1>Содержание<span class=\"tocSkip\"></span></h1>\n",
    "<div class=\"toc\"><ul class=\"toc-item\"><li><span><a href=\"#Подготовка-данных\" data-toc-modified-id=\"Подготовка-данных-1\"><span class=\"toc-item-num\">1&nbsp;&nbsp;</span>Подготовка данных</a></span><ul class=\"toc-item\"><li><span><a href=\"#Загрузка-данных-и-библиотек\" data-toc-modified-id=\"Загрузка-данных-и-библиотек-1.1\"><span class=\"toc-item-num\">1.1&nbsp;&nbsp;</span>Загрузка данных и библиотек</a></span></li><li><span><a href=\"#Осмотр-данных\" data-toc-modified-id=\"Осмотр-данных-1.2\"><span class=\"toc-item-num\">1.2&nbsp;&nbsp;</span>Осмотр данных</a></span></li><li><span><a href=\"#Подготовка-данных\" data-toc-modified-id=\"Подготовка-данных-1.3\"><span class=\"toc-item-num\">1.3&nbsp;&nbsp;</span>Подготовка данных</a></span></li><li><span><a href=\"#Подготовка-датасета-для-разделения-на-features-and-target\" data-toc-modified-id=\"Подготовка-датасета-для-разделения-на-features-and-target-1.4\"><span class=\"toc-item-num\">1.4&nbsp;&nbsp;</span>Подготовка датасета для разделения на features and target</a></span></li><li><span><a href=\"#Масштабирование-данных-и-разделение-на-тестовую-и-валидационную-выборки\" data-toc-modified-id=\"Масштабирование-данных-и-разделение-на-тестовую-и-валидационную-выборки-1.5\"><span class=\"toc-item-num\">1.5&nbsp;&nbsp;</span>Масштабирование данных и разделение на тестовую и валидационную выборки</a></span></li><li><span><a href=\"#Поиск-важности-признаков\" data-toc-modified-id=\"Поиск-важности-признаков-1.6\"><span class=\"toc-item-num\">1.6&nbsp;&nbsp;</span>Поиск важности признаков</a></span></li><li><span><a href=\"#Вывод\" data-toc-modified-id=\"Вывод-1.7\"><span class=\"toc-item-num\">1.7&nbsp;&nbsp;</span>Вывод</a></span></li></ul></li><li><span><a href=\"#Исследование-задачи\" data-toc-modified-id=\"Исследование-задачи-2\"><span class=\"toc-item-num\">2&nbsp;&nbsp;</span>Исследование задачи</a></span><ul class=\"toc-item\"><li><span><a href=\"#Исследование-балансов-классов\" data-toc-modified-id=\"Исследование-балансов-классов-2.1\"><span class=\"toc-item-num\">2.1&nbsp;&nbsp;</span>Исследование балансов классов</a></span></li><li><span><a href=\"#Построение-ROC-кривой\" data-toc-modified-id=\"Построение-ROC-кривой-2.2\"><span class=\"toc-item-num\">2.2&nbsp;&nbsp;</span>Построение ROC-кривой</a></span></li><li><span><a href=\"#Изучение-моделей-без-учета-дисбаланса-классов\" data-toc-modified-id=\"Изучение-моделей-без-учета-дисбаланса-классов-2.3\"><span class=\"toc-item-num\">2.3&nbsp;&nbsp;</span>Изучение моделей без учета дисбаланса классов</a></span><ul class=\"toc-item\"><li><span><a href=\"#Изучение-модели-DecisionTree\" data-toc-modified-id=\"Изучение-модели-DecisionTree-2.3.1\"><span class=\"toc-item-num\">2.3.1&nbsp;&nbsp;</span>Изучение модели DecisionTree</a></span></li><li><span><a href=\"#Изучение-модели-RandomForest\" data-toc-modified-id=\"Изучение-модели-RandomForest-2.3.2\"><span class=\"toc-item-num\">2.3.2&nbsp;&nbsp;</span>Изучение модели RandomForest</a></span></li><li><span><a href=\"#Изучение-модели-LogisticRegression\" data-toc-modified-id=\"Изучение-модели-LogisticRegression-2.3.3\"><span class=\"toc-item-num\">2.3.3&nbsp;&nbsp;</span>Изучение модели LogisticRegression</a></span></li><li><span><a href=\"#Проверка-моделей-на-адекватность\" data-toc-modified-id=\"Проверка-моделей-на-адекватность-2.3.4\"><span class=\"toc-item-num\">2.3.4&nbsp;&nbsp;</span>Проверка моделей на адекватность</a></span></li><li><span><a href=\"#Вывод\" data-toc-modified-id=\"Вывод-2.3.5\"><span class=\"toc-item-num\">2.3.5&nbsp;&nbsp;</span>Вывод</a></span></li></ul></li><li><span><a href=\"#Вывод\" data-toc-modified-id=\"Вывод-2.4\"><span class=\"toc-item-num\">2.4&nbsp;&nbsp;</span>Вывод</a></span></li></ul></li><li><span><a href=\"#Борьба-с-дисбалансом\" data-toc-modified-id=\"Борьба-с-дисбалансом-3\"><span class=\"toc-item-num\">3&nbsp;&nbsp;</span>Борьба с дисбалансом</a></span><ul class=\"toc-item\"><li><span><a href=\"#Вариант-борьбы-с-разностью-весов-с-помощью-class_weight='balanced'\" data-toc-modified-id=\"Вариант-борьбы-с-разностью-весов-с-помощью-class_weight='balanced'-3.1\"><span class=\"toc-item-num\">3.1&nbsp;&nbsp;</span>Вариант борьбы с разностью весов с помощью class_weight='balanced'</a></span></li><li><span><a href=\"#Вариант-борьбы-с-разностью-весов-с-помощью-upsample\" data-toc-modified-id=\"Вариант-борьбы-с-разностью-весов-с-помощью-upsample-3.2\"><span class=\"toc-item-num\">3.2&nbsp;&nbsp;</span>Вариант борьбы с разностью весов с помощью upsample</a></span></li><li><span><a href=\"#Вариант-борьбы-с-разностью-весов-с-помощью-downsample\" data-toc-modified-id=\"Вариант-борьбы-с-разностью-весов-с-помощью-downsample-3.3\"><span class=\"toc-item-num\">3.3&nbsp;&nbsp;</span>Вариант борьбы с разностью весов с помощью downsample</a></span></li><li><span><a href=\"#Вывод\" data-toc-modified-id=\"Вывод-3.4\"><span class=\"toc-item-num\">3.4&nbsp;&nbsp;</span>Вывод</a></span></li></ul></li><li><span><a href=\"#Тестирование-модели\" data-toc-modified-id=\"Тестирование-модели-4\"><span class=\"toc-item-num\">4&nbsp;&nbsp;</span>Тестирование модели</a></span></li><li><span><a href=\"#Вывод\" data-toc-modified-id=\"Вывод-5\"><span class=\"toc-item-num\">5&nbsp;&nbsp;</span>Вывод</a></span></li><li><span><a href=\"#Чек-лист-готовности-проекта\" data-toc-modified-id=\"Чек-лист-готовности-проекта-6\"><span class=\"toc-item-num\">6&nbsp;&nbsp;</span>Чек-лист готовности проекта</a></span></li></ul></div>"
   ]
  },
  {
   "cell_type": "markdown",
   "metadata": {},
   "source": [
    "# Отток клиентов"
   ]
  },
  {
   "cell_type": "markdown",
   "metadata": {},
   "source": [
    "Из «Бета-Банка» стали уходить клиенты. Каждый месяц. Немного, но заметно. Банковские маркетологи посчитали: сохранять текущих клиентов дешевле, чем привлекать новых.\n",
    "\n",
    "Нужно спрогнозировать, уйдёт клиент из банка в ближайшее время или нет. Вам предоставлены исторические данные о поведении клиентов и расторжении договоров с банком. \n",
    "\n",
    "Постройте модель с предельно большим значением *F1*-меры. Чтобы сдать проект успешно, нужно довести метрику до 0.59. Проверьте *F1*-меру на тестовой выборке самостоятельно.\n",
    "\n",
    "Дополнительно измеряйте *AUC-ROC*, сравнивайте её значение с *F1*-мерой.\n",
    "\n",
    "Источник данных: [https://www.kaggle.com/barelydedicated/bank-customer-churn-modeling](https://www.kaggle.com/barelydedicated/bank-customer-churn-modeling)"
   ]
  },
  {
   "cell_type": "markdown",
   "metadata": {},
   "source": [
    "## Подготовка данных"
   ]
  },
  {
   "cell_type": "markdown",
   "metadata": {},
   "source": [
    "### Загрузка данных и библиотек"
   ]
  },
  {
   "cell_type": "code",
   "execution_count": 143,
   "metadata": {},
   "outputs": [],
   "source": [
    "import pandas as pd\n",
    "import numpy as np\n",
    "import seaborn as sns\n",
    "import matplotlib.pyplot as plt\n",
    "\n",
    "from sklearn.preprocessing import StandardScaler\n",
    "from sklearn.model_selection import train_test_split\n",
    "from sklearn.linear_model import LinearRegression\n",
    "from sklearn.tree import DecisionTreeRegressor\n",
    "from sklearn.ensemble import RandomForestRegressor\n",
    "from sklearn.metrics import mean_absolute_error\n",
    "from sklearn.preprocessing import OrdinalEncoder\n",
    "from sklearn.ensemble import RandomForestClassifier\n",
    "from sklearn.metrics import recall_score\n",
    "from sklearn.metrics import precision_score \n",
    "from sklearn.model_selection import GridSearchCV\n",
    "from sklearn.model_selection import RandomizedSearchCV\n",
    "from sklearn.tree import DecisionTreeClassifier\n",
    "from sklearn.metrics import confusion_matrix\n",
    "from sklearn.metrics import f1_score\n",
    "from sklearn.linear_model import LogisticRegression\n",
    "from sklearn.metrics import roc_auc_score\n",
    "from sklearn.metrics import roc_curve \n",
    "from sklearn.metrics import accuracy_score\n",
    "from sklearn.dummy import DummyClassifier\n",
    "from sklearn.utils import shuffle\n",
    "\n",
    "import warnings\n",
    "warnings.filterwarnings('ignore')\n",
    "\n",
    "data = pd.read_csv('/datasets/Churn.csv')"
   ]
  },
  {
   "cell_type": "markdown",
   "metadata": {},
   "source": [
    "Данные и библиотеки загружены"
   ]
  },
  {
   "cell_type": "markdown",
   "metadata": {},
   "source": [
    "### Осмотр данных"
   ]
  },
  {
   "cell_type": "code",
   "execution_count": 144,
   "metadata": {},
   "outputs": [
    {
     "data": {
      "text/html": [
       "<div>\n",
       "<style scoped>\n",
       "    .dataframe tbody tr th:only-of-type {\n",
       "        vertical-align: middle;\n",
       "    }\n",
       "\n",
       "    .dataframe tbody tr th {\n",
       "        vertical-align: top;\n",
       "    }\n",
       "\n",
       "    .dataframe thead th {\n",
       "        text-align: right;\n",
       "    }\n",
       "</style>\n",
       "<table border=\"1\" class=\"dataframe\">\n",
       "  <thead>\n",
       "    <tr style=\"text-align: right;\">\n",
       "      <th></th>\n",
       "      <th>RowNumber</th>\n",
       "      <th>CustomerId</th>\n",
       "      <th>Surname</th>\n",
       "      <th>CreditScore</th>\n",
       "      <th>Geography</th>\n",
       "      <th>Gender</th>\n",
       "      <th>Age</th>\n",
       "      <th>Tenure</th>\n",
       "      <th>Balance</th>\n",
       "      <th>NumOfProducts</th>\n",
       "      <th>HasCrCard</th>\n",
       "      <th>IsActiveMember</th>\n",
       "      <th>EstimatedSalary</th>\n",
       "      <th>Exited</th>\n",
       "    </tr>\n",
       "  </thead>\n",
       "  <tbody>\n",
       "    <tr>\n",
       "      <th>0</th>\n",
       "      <td>1</td>\n",
       "      <td>15634602</td>\n",
       "      <td>Hargrave</td>\n",
       "      <td>619</td>\n",
       "      <td>France</td>\n",
       "      <td>Female</td>\n",
       "      <td>42</td>\n",
       "      <td>2.0</td>\n",
       "      <td>0.00</td>\n",
       "      <td>1</td>\n",
       "      <td>1</td>\n",
       "      <td>1</td>\n",
       "      <td>101348.88</td>\n",
       "      <td>1</td>\n",
       "    </tr>\n",
       "    <tr>\n",
       "      <th>1</th>\n",
       "      <td>2</td>\n",
       "      <td>15647311</td>\n",
       "      <td>Hill</td>\n",
       "      <td>608</td>\n",
       "      <td>Spain</td>\n",
       "      <td>Female</td>\n",
       "      <td>41</td>\n",
       "      <td>1.0</td>\n",
       "      <td>83807.86</td>\n",
       "      <td>1</td>\n",
       "      <td>0</td>\n",
       "      <td>1</td>\n",
       "      <td>112542.58</td>\n",
       "      <td>0</td>\n",
       "    </tr>\n",
       "  </tbody>\n",
       "</table>\n",
       "</div>"
      ],
      "text/plain": [
       "   RowNumber  CustomerId   Surname  CreditScore Geography  Gender  Age  \\\n",
       "0          1    15634602  Hargrave          619    France  Female   42   \n",
       "1          2    15647311      Hill          608     Spain  Female   41   \n",
       "\n",
       "   Tenure   Balance  NumOfProducts  HasCrCard  IsActiveMember  \\\n",
       "0     2.0      0.00              1          1               1   \n",
       "1     1.0  83807.86              1          0               1   \n",
       "\n",
       "   EstimatedSalary  Exited  \n",
       "0        101348.88       1  \n",
       "1        112542.58       0  "
      ]
     },
     "metadata": {},
     "output_type": "display_data"
    },
    {
     "name": "stdout",
     "output_type": "stream",
     "text": [
      "<class 'pandas.core.frame.DataFrame'>\n",
      "RangeIndex: 10000 entries, 0 to 9999\n",
      "Data columns (total 14 columns):\n",
      " #   Column           Non-Null Count  Dtype  \n",
      "---  ------           --------------  -----  \n",
      " 0   RowNumber        10000 non-null  int64  \n",
      " 1   CustomerId       10000 non-null  int64  \n",
      " 2   Surname          10000 non-null  object \n",
      " 3   CreditScore      10000 non-null  int64  \n",
      " 4   Geography        10000 non-null  object \n",
      " 5   Gender           10000 non-null  object \n",
      " 6   Age              10000 non-null  int64  \n",
      " 7   Tenure           9091 non-null   float64\n",
      " 8   Balance          10000 non-null  float64\n",
      " 9   NumOfProducts    10000 non-null  int64  \n",
      " 10  HasCrCard        10000 non-null  int64  \n",
      " 11  IsActiveMember   10000 non-null  int64  \n",
      " 12  EstimatedSalary  10000 non-null  float64\n",
      " 13  Exited           10000 non-null  int64  \n",
      "dtypes: float64(3), int64(8), object(3)\n",
      "memory usage: 1.1+ MB\n"
     ]
    },
    {
     "data": {
      "text/plain": [
       "None"
      ]
     },
     "metadata": {},
     "output_type": "display_data"
    },
    {
     "data": {
      "text/plain": [
       "RowNumber            0\n",
       "CustomerId           0\n",
       "Surname              0\n",
       "CreditScore          0\n",
       "Geography            0\n",
       "Gender               0\n",
       "Age                  0\n",
       "Tenure             909\n",
       "Balance              0\n",
       "NumOfProducts        0\n",
       "HasCrCard            0\n",
       "IsActiveMember       0\n",
       "EstimatedSalary      0\n",
       "Exited               0\n",
       "dtype: int64"
      ]
     },
     "metadata": {},
     "output_type": "display_data"
    },
    {
     "data": {
      "text/html": [
       "<div>\n",
       "<style scoped>\n",
       "    .dataframe tbody tr th:only-of-type {\n",
       "        vertical-align: middle;\n",
       "    }\n",
       "\n",
       "    .dataframe tbody tr th {\n",
       "        vertical-align: top;\n",
       "    }\n",
       "\n",
       "    .dataframe thead th {\n",
       "        text-align: right;\n",
       "    }\n",
       "</style>\n",
       "<table border=\"1\" class=\"dataframe\">\n",
       "  <thead>\n",
       "    <tr style=\"text-align: right;\">\n",
       "      <th></th>\n",
       "      <th>RowNumber</th>\n",
       "      <th>CustomerId</th>\n",
       "      <th>CreditScore</th>\n",
       "      <th>Age</th>\n",
       "      <th>Tenure</th>\n",
       "      <th>Balance</th>\n",
       "      <th>NumOfProducts</th>\n",
       "      <th>HasCrCard</th>\n",
       "      <th>IsActiveMember</th>\n",
       "      <th>EstimatedSalary</th>\n",
       "      <th>Exited</th>\n",
       "    </tr>\n",
       "  </thead>\n",
       "  <tbody>\n",
       "    <tr>\n",
       "      <th>count</th>\n",
       "      <td>10000.00000</td>\n",
       "      <td>1.000000e+04</td>\n",
       "      <td>10000.000000</td>\n",
       "      <td>10000.000000</td>\n",
       "      <td>9091.000000</td>\n",
       "      <td>10000.000000</td>\n",
       "      <td>10000.000000</td>\n",
       "      <td>10000.00000</td>\n",
       "      <td>10000.000000</td>\n",
       "      <td>10000.000000</td>\n",
       "      <td>10000.000000</td>\n",
       "    </tr>\n",
       "    <tr>\n",
       "      <th>mean</th>\n",
       "      <td>5000.50000</td>\n",
       "      <td>1.569094e+07</td>\n",
       "      <td>650.528800</td>\n",
       "      <td>38.921800</td>\n",
       "      <td>4.997690</td>\n",
       "      <td>76485.889288</td>\n",
       "      <td>1.530200</td>\n",
       "      <td>0.70550</td>\n",
       "      <td>0.515100</td>\n",
       "      <td>100090.239881</td>\n",
       "      <td>0.203700</td>\n",
       "    </tr>\n",
       "    <tr>\n",
       "      <th>std</th>\n",
       "      <td>2886.89568</td>\n",
       "      <td>7.193619e+04</td>\n",
       "      <td>96.653299</td>\n",
       "      <td>10.487806</td>\n",
       "      <td>2.894723</td>\n",
       "      <td>62397.405202</td>\n",
       "      <td>0.581654</td>\n",
       "      <td>0.45584</td>\n",
       "      <td>0.499797</td>\n",
       "      <td>57510.492818</td>\n",
       "      <td>0.402769</td>\n",
       "    </tr>\n",
       "    <tr>\n",
       "      <th>min</th>\n",
       "      <td>1.00000</td>\n",
       "      <td>1.556570e+07</td>\n",
       "      <td>350.000000</td>\n",
       "      <td>18.000000</td>\n",
       "      <td>0.000000</td>\n",
       "      <td>0.000000</td>\n",
       "      <td>1.000000</td>\n",
       "      <td>0.00000</td>\n",
       "      <td>0.000000</td>\n",
       "      <td>11.580000</td>\n",
       "      <td>0.000000</td>\n",
       "    </tr>\n",
       "    <tr>\n",
       "      <th>25%</th>\n",
       "      <td>2500.75000</td>\n",
       "      <td>1.562853e+07</td>\n",
       "      <td>584.000000</td>\n",
       "      <td>32.000000</td>\n",
       "      <td>2.000000</td>\n",
       "      <td>0.000000</td>\n",
       "      <td>1.000000</td>\n",
       "      <td>0.00000</td>\n",
       "      <td>0.000000</td>\n",
       "      <td>51002.110000</td>\n",
       "      <td>0.000000</td>\n",
       "    </tr>\n",
       "    <tr>\n",
       "      <th>50%</th>\n",
       "      <td>5000.50000</td>\n",
       "      <td>1.569074e+07</td>\n",
       "      <td>652.000000</td>\n",
       "      <td>37.000000</td>\n",
       "      <td>5.000000</td>\n",
       "      <td>97198.540000</td>\n",
       "      <td>1.000000</td>\n",
       "      <td>1.00000</td>\n",
       "      <td>1.000000</td>\n",
       "      <td>100193.915000</td>\n",
       "      <td>0.000000</td>\n",
       "    </tr>\n",
       "    <tr>\n",
       "      <th>75%</th>\n",
       "      <td>7500.25000</td>\n",
       "      <td>1.575323e+07</td>\n",
       "      <td>718.000000</td>\n",
       "      <td>44.000000</td>\n",
       "      <td>7.000000</td>\n",
       "      <td>127644.240000</td>\n",
       "      <td>2.000000</td>\n",
       "      <td>1.00000</td>\n",
       "      <td>1.000000</td>\n",
       "      <td>149388.247500</td>\n",
       "      <td>0.000000</td>\n",
       "    </tr>\n",
       "    <tr>\n",
       "      <th>max</th>\n",
       "      <td>10000.00000</td>\n",
       "      <td>1.581569e+07</td>\n",
       "      <td>850.000000</td>\n",
       "      <td>92.000000</td>\n",
       "      <td>10.000000</td>\n",
       "      <td>250898.090000</td>\n",
       "      <td>4.000000</td>\n",
       "      <td>1.00000</td>\n",
       "      <td>1.000000</td>\n",
       "      <td>199992.480000</td>\n",
       "      <td>1.000000</td>\n",
       "    </tr>\n",
       "  </tbody>\n",
       "</table>\n",
       "</div>"
      ],
      "text/plain": [
       "         RowNumber    CustomerId   CreditScore           Age       Tenure  \\\n",
       "count  10000.00000  1.000000e+04  10000.000000  10000.000000  9091.000000   \n",
       "mean    5000.50000  1.569094e+07    650.528800     38.921800     4.997690   \n",
       "std     2886.89568  7.193619e+04     96.653299     10.487806     2.894723   \n",
       "min        1.00000  1.556570e+07    350.000000     18.000000     0.000000   \n",
       "25%     2500.75000  1.562853e+07    584.000000     32.000000     2.000000   \n",
       "50%     5000.50000  1.569074e+07    652.000000     37.000000     5.000000   \n",
       "75%     7500.25000  1.575323e+07    718.000000     44.000000     7.000000   \n",
       "max    10000.00000  1.581569e+07    850.000000     92.000000    10.000000   \n",
       "\n",
       "             Balance  NumOfProducts    HasCrCard  IsActiveMember  \\\n",
       "count   10000.000000   10000.000000  10000.00000    10000.000000   \n",
       "mean    76485.889288       1.530200      0.70550        0.515100   \n",
       "std     62397.405202       0.581654      0.45584        0.499797   \n",
       "min         0.000000       1.000000      0.00000        0.000000   \n",
       "25%         0.000000       1.000000      0.00000        0.000000   \n",
       "50%     97198.540000       1.000000      1.00000        1.000000   \n",
       "75%    127644.240000       2.000000      1.00000        1.000000   \n",
       "max    250898.090000       4.000000      1.00000        1.000000   \n",
       "\n",
       "       EstimatedSalary        Exited  \n",
       "count     10000.000000  10000.000000  \n",
       "mean     100090.239881      0.203700  \n",
       "std       57510.492818      0.402769  \n",
       "min          11.580000      0.000000  \n",
       "25%       51002.110000      0.000000  \n",
       "50%      100193.915000      0.000000  \n",
       "75%      149388.247500      0.000000  \n",
       "max      199992.480000      1.000000  "
      ]
     },
     "metadata": {},
     "output_type": "display_data"
    }
   ],
   "source": [
    "display(data.head(2))\n",
    "display(data.info())\n",
    "display(data.isna().sum())\n",
    "display(data.describe())"
   ]
  },
  {
   "cell_type": "markdown",
   "metadata": {},
   "source": [
    "Вывод: \n",
    "* В колонке Tenure отсутствуют значения."
   ]
  },
  {
   "cell_type": "markdown",
   "metadata": {},
   "source": [
    "### Подготовка данных"
   ]
  },
  {
   "cell_type": "code",
   "execution_count": 145,
   "metadata": {},
   "outputs": [],
   "source": [
    "data = data.query('Tenure.notnull()', engine='python')"
   ]
  },
  {
   "cell_type": "code",
   "execution_count": 146,
   "metadata": {},
   "outputs": [
    {
     "name": "stdout",
     "output_type": "stream",
     "text": [
      "<class 'pandas.core.frame.DataFrame'>\n",
      "Int64Index: 9091 entries, 0 to 9998\n",
      "Data columns (total 14 columns):\n",
      " #   Column           Non-Null Count  Dtype  \n",
      "---  ------           --------------  -----  \n",
      " 0   RowNumber        9091 non-null   int64  \n",
      " 1   CustomerId       9091 non-null   int64  \n",
      " 2   Surname          9091 non-null   object \n",
      " 3   CreditScore      9091 non-null   int64  \n",
      " 4   Geography        9091 non-null   object \n",
      " 5   Gender           9091 non-null   object \n",
      " 6   Age              9091 non-null   int64  \n",
      " 7   Tenure           9091 non-null   float64\n",
      " 8   Balance          9091 non-null   float64\n",
      " 9   NumOfProducts    9091 non-null   int64  \n",
      " 10  HasCrCard        9091 non-null   int64  \n",
      " 11  IsActiveMember   9091 non-null   int64  \n",
      " 12  EstimatedSalary  9091 non-null   float64\n",
      " 13  Exited           9091 non-null   int64  \n",
      "dtypes: float64(3), int64(8), object(3)\n",
      "memory usage: 1.0+ MB\n"
     ]
    }
   ],
   "source": [
    "data.info()"
   ]
  },
  {
   "cell_type": "markdown",
   "metadata": {},
   "source": [
    "Вывод: так как мы не знаем как повлияет замена значений в колонке Tenure удаляем эти данные."
   ]
  },
  {
   "cell_type": "markdown",
   "metadata": {},
   "source": [
    "### Подготовка датасета для разделения на features and target"
   ]
  },
  {
   "cell_type": "markdown",
   "metadata": {},
   "source": [
    "Здравый смысл подсказывает, что от RowNumber CustomerId Surname не может зависить уход клиента из банка"
   ]
  },
  {
   "cell_type": "code",
   "execution_count": 147,
   "metadata": {},
   "outputs": [],
   "source": [
    "ds_for_modelling = data.drop(columns=['RowNumber', 'CustomerId', 'Surname'])"
   ]
  },
  {
   "cell_type": "code",
   "execution_count": 148,
   "metadata": {},
   "outputs": [
    {
     "data": {
      "text/html": [
       "<div>\n",
       "<style scoped>\n",
       "    .dataframe tbody tr th:only-of-type {\n",
       "        vertical-align: middle;\n",
       "    }\n",
       "\n",
       "    .dataframe tbody tr th {\n",
       "        vertical-align: top;\n",
       "    }\n",
       "\n",
       "    .dataframe thead th {\n",
       "        text-align: right;\n",
       "    }\n",
       "</style>\n",
       "<table border=\"1\" class=\"dataframe\">\n",
       "  <thead>\n",
       "    <tr style=\"text-align: right;\">\n",
       "      <th></th>\n",
       "      <th>CreditScore</th>\n",
       "      <th>Geography</th>\n",
       "      <th>Gender</th>\n",
       "      <th>Age</th>\n",
       "      <th>Tenure</th>\n",
       "      <th>Balance</th>\n",
       "      <th>NumOfProducts</th>\n",
       "      <th>HasCrCard</th>\n",
       "      <th>IsActiveMember</th>\n",
       "      <th>EstimatedSalary</th>\n",
       "      <th>Exited</th>\n",
       "    </tr>\n",
       "  </thead>\n",
       "  <tbody>\n",
       "    <tr>\n",
       "      <th>0</th>\n",
       "      <td>619</td>\n",
       "      <td>France</td>\n",
       "      <td>Female</td>\n",
       "      <td>42</td>\n",
       "      <td>2.0</td>\n",
       "      <td>0.00</td>\n",
       "      <td>1</td>\n",
       "      <td>1</td>\n",
       "      <td>1</td>\n",
       "      <td>101348.88</td>\n",
       "      <td>1</td>\n",
       "    </tr>\n",
       "    <tr>\n",
       "      <th>1</th>\n",
       "      <td>608</td>\n",
       "      <td>Spain</td>\n",
       "      <td>Female</td>\n",
       "      <td>41</td>\n",
       "      <td>1.0</td>\n",
       "      <td>83807.86</td>\n",
       "      <td>1</td>\n",
       "      <td>0</td>\n",
       "      <td>1</td>\n",
       "      <td>112542.58</td>\n",
       "      <td>0</td>\n",
       "    </tr>\n",
       "  </tbody>\n",
       "</table>\n",
       "</div>"
      ],
      "text/plain": [
       "   CreditScore Geography  Gender  Age  Tenure   Balance  NumOfProducts  \\\n",
       "0          619    France  Female   42     2.0      0.00              1   \n",
       "1          608     Spain  Female   41     1.0  83807.86              1   \n",
       "\n",
       "   HasCrCard  IsActiveMember  EstimatedSalary  Exited  \n",
       "0          1               1        101348.88       1  \n",
       "1          0               1        112542.58       0  "
      ]
     },
     "execution_count": 148,
     "metadata": {},
     "output_type": "execute_result"
    }
   ],
   "source": [
    "ds_for_modelling.head(2)"
   ]
  },
  {
   "cell_type": "markdown",
   "metadata": {},
   "source": [
    "Необходимо текстовые колонки переформатировать в цифровые"
   ]
  },
  {
   "cell_type": "code",
   "execution_count": 150,
   "metadata": {},
   "outputs": [
    {
     "data": {
      "text/html": [
       "<div>\n",
       "<style scoped>\n",
       "    .dataframe tbody tr th:only-of-type {\n",
       "        vertical-align: middle;\n",
       "    }\n",
       "\n",
       "    .dataframe tbody tr th {\n",
       "        vertical-align: top;\n",
       "    }\n",
       "\n",
       "    .dataframe thead th {\n",
       "        text-align: right;\n",
       "    }\n",
       "</style>\n",
       "<table border=\"1\" class=\"dataframe\">\n",
       "  <thead>\n",
       "    <tr style=\"text-align: right;\">\n",
       "      <th></th>\n",
       "      <th>CreditScore</th>\n",
       "      <th>Age</th>\n",
       "      <th>Tenure</th>\n",
       "      <th>Balance</th>\n",
       "      <th>NumOfProducts</th>\n",
       "      <th>HasCrCard</th>\n",
       "      <th>IsActiveMember</th>\n",
       "      <th>EstimatedSalary</th>\n",
       "      <th>Exited</th>\n",
       "      <th>Male</th>\n",
       "      <th>Germany</th>\n",
       "      <th>Spain</th>\n",
       "    </tr>\n",
       "  </thead>\n",
       "  <tbody>\n",
       "    <tr>\n",
       "      <th>0</th>\n",
       "      <td>619</td>\n",
       "      <td>42</td>\n",
       "      <td>2.0</td>\n",
       "      <td>0.00</td>\n",
       "      <td>1</td>\n",
       "      <td>1</td>\n",
       "      <td>1</td>\n",
       "      <td>101348.88</td>\n",
       "      <td>1</td>\n",
       "      <td>0</td>\n",
       "      <td>0</td>\n",
       "      <td>0</td>\n",
       "    </tr>\n",
       "    <tr>\n",
       "      <th>1</th>\n",
       "      <td>608</td>\n",
       "      <td>41</td>\n",
       "      <td>1.0</td>\n",
       "      <td>83807.86</td>\n",
       "      <td>1</td>\n",
       "      <td>0</td>\n",
       "      <td>1</td>\n",
       "      <td>112542.58</td>\n",
       "      <td>0</td>\n",
       "      <td>0</td>\n",
       "      <td>0</td>\n",
       "      <td>1</td>\n",
       "    </tr>\n",
       "  </tbody>\n",
       "</table>\n",
       "</div>"
      ],
      "text/plain": [
       "   CreditScore  Age  Tenure   Balance  NumOfProducts  HasCrCard  \\\n",
       "0          619   42     2.0      0.00              1          1   \n",
       "1          608   41     1.0  83807.86              1          0   \n",
       "\n",
       "   IsActiveMember  EstimatedSalary  Exited  Male  Germany  Spain  \n",
       "0               1        101348.88       1     0        0      0  \n",
       "1               1        112542.58       0     0        0      1  "
      ]
     },
     "execution_count": 150,
     "metadata": {},
     "output_type": "execute_result"
    }
   ],
   "source": [
    "gender_ohe = pd.get_dummies(ds_for_modelling[\"Gender\"], drop_first=True)\n",
    "country_ohe = pd.get_dummies(ds_for_modelling[\"Geography\"], drop_first=True)\n",
    "\n",
    "ds_for_modelling.drop([\"Gender\", \"Geography\"], axis=1, inplace=True)\n",
    "\n",
    "data_ohe = pd.concat([ds_for_modelling, gender_ohe, country_ohe], axis=1)\n",
    "\n",
    "data_ohe.head(2)"
   ]
  },
  {
   "cell_type": "code",
   "execution_count": 151,
   "metadata": {},
   "outputs": [],
   "source": [
    "target = data_ohe['Exited']\n",
    "features = data_ohe.drop(['Exited'] , axis=1)"
   ]
  },
  {
   "cell_type": "markdown",
   "metadata": {},
   "source": [
    "Вывод:\n",
    "* Колонки RowNumber, CustomerId, Surname удалены, так как не влияют на уход клиента из банка\n",
    "* Текстовые колонки перевели в цифровые с помощью get_dummies()."
   ]
  },
  {
   "cell_type": "markdown",
   "metadata": {},
   "source": [
    "### Масштабирование данных и разделение на тестовую и валидационную выборки"
   ]
  },
  {
   "cell_type": "code",
   "execution_count": 152,
   "metadata": {},
   "outputs": [],
   "source": [
    "features = pd.DataFrame(features, columns = features.columns)"
   ]
  },
  {
   "cell_type": "code",
   "execution_count": 153,
   "metadata": {},
   "outputs": [],
   "source": [
    "features_train, features_test, target_train, target_test = train_test_split(features\n",
    "                                                                            , target\n",
    "                                                                            , test_size=0.25\n",
    "                                                                            , train_size=0.75\n",
    "                                                                            , random_state=12345\n",
    "                                                                            , stratify=target)\n"
   ]
  },
  {
   "cell_type": "markdown",
   "metadata": {},
   "source": [
    "Масштабирование данных"
   ]
  },
  {
   "cell_type": "code",
   "execution_count": 155,
   "metadata": {},
   "outputs": [],
   "source": [
    "numeric = ['CreditScore', 'Age', 'Balance', 'EstimatedSalary']\n",
    "scaler = StandardScaler()\n",
    "scaler.fit_transform(features_train[numeric])\n",
    "pd.options.mode.chained_assignment = None\n",
    "features_train[numeric] = scaler.transform(features_train[numeric])\n",
    "features_test[numeric] = scaler.transform(features_test[numeric])"
   ]
  },
  {
   "cell_type": "code",
   "execution_count": 156,
   "metadata": {},
   "outputs": [
    {
     "data": {
      "text/html": [
       "<div>\n",
       "<style scoped>\n",
       "    .dataframe tbody tr th:only-of-type {\n",
       "        vertical-align: middle;\n",
       "    }\n",
       "\n",
       "    .dataframe tbody tr th {\n",
       "        vertical-align: top;\n",
       "    }\n",
       "\n",
       "    .dataframe thead th {\n",
       "        text-align: right;\n",
       "    }\n",
       "</style>\n",
       "<table border=\"1\" class=\"dataframe\">\n",
       "  <thead>\n",
       "    <tr style=\"text-align: right;\">\n",
       "      <th></th>\n",
       "      <th>CreditScore</th>\n",
       "      <th>Age</th>\n",
       "      <th>Tenure</th>\n",
       "      <th>Balance</th>\n",
       "      <th>NumOfProducts</th>\n",
       "      <th>HasCrCard</th>\n",
       "      <th>IsActiveMember</th>\n",
       "      <th>EstimatedSalary</th>\n",
       "      <th>Male</th>\n",
       "      <th>Germany</th>\n",
       "      <th>Spain</th>\n",
       "    </tr>\n",
       "  </thead>\n",
       "  <tbody>\n",
       "    <tr>\n",
       "      <th>9993</th>\n",
       "      <td>-0.073656</td>\n",
       "      <td>-1.036332</td>\n",
       "      <td>7.0</td>\n",
       "      <td>1.262714</td>\n",
       "      <td>1</td>\n",
       "      <td>1</td>\n",
       "      <td>0</td>\n",
       "      <td>-1.224135</td>\n",
       "      <td>1</td>\n",
       "      <td>0</td>\n",
       "      <td>0</td>\n",
       "    </tr>\n",
       "    <tr>\n",
       "      <th>0</th>\n",
       "      <td>-0.333215</td>\n",
       "      <td>0.298422</td>\n",
       "      <td>2.0</td>\n",
       "      <td>-1.226255</td>\n",
       "      <td>1</td>\n",
       "      <td>1</td>\n",
       "      <td>1</td>\n",
       "      <td>0.032686</td>\n",
       "      <td>0</td>\n",
       "      <td>0</td>\n",
       "      <td>0</td>\n",
       "    </tr>\n",
       "  </tbody>\n",
       "</table>\n",
       "</div>"
      ],
      "text/plain": [
       "      CreditScore       Age  Tenure   Balance  NumOfProducts  HasCrCard  \\\n",
       "9993    -0.073656 -1.036332     7.0  1.262714              1          1   \n",
       "0       -0.333215  0.298422     2.0 -1.226255              1          1   \n",
       "\n",
       "      IsActiveMember  EstimatedSalary  Male  Germany  Spain  \n",
       "9993               0        -1.224135     1        0      0  \n",
       "0                  1         0.032686     0        0      0  "
      ]
     },
     "metadata": {},
     "output_type": "display_data"
    },
    {
     "data": {
      "text/html": [
       "<div>\n",
       "<style scoped>\n",
       "    .dataframe tbody tr th:only-of-type {\n",
       "        vertical-align: middle;\n",
       "    }\n",
       "\n",
       "    .dataframe tbody tr th {\n",
       "        vertical-align: top;\n",
       "    }\n",
       "\n",
       "    .dataframe thead th {\n",
       "        text-align: right;\n",
       "    }\n",
       "</style>\n",
       "<table border=\"1\" class=\"dataframe\">\n",
       "  <thead>\n",
       "    <tr style=\"text-align: right;\">\n",
       "      <th></th>\n",
       "      <th>CreditScore</th>\n",
       "      <th>Age</th>\n",
       "      <th>Tenure</th>\n",
       "      <th>Balance</th>\n",
       "      <th>NumOfProducts</th>\n",
       "      <th>HasCrCard</th>\n",
       "      <th>IsActiveMember</th>\n",
       "      <th>EstimatedSalary</th>\n",
       "      <th>Male</th>\n",
       "      <th>Germany</th>\n",
       "      <th>Spain</th>\n",
       "    </tr>\n",
       "  </thead>\n",
       "  <tbody>\n",
       "    <tr>\n",
       "      <th>8337</th>\n",
       "      <td>-1.215718</td>\n",
       "      <td>0.203082</td>\n",
       "      <td>9.0</td>\n",
       "      <td>-1.226255</td>\n",
       "      <td>2</td>\n",
       "      <td>1</td>\n",
       "      <td>0</td>\n",
       "      <td>-1.490725</td>\n",
       "      <td>1</td>\n",
       "      <td>0</td>\n",
       "      <td>0</td>\n",
       "    </tr>\n",
       "    <tr>\n",
       "      <th>9169</th>\n",
       "      <td>1.192995</td>\n",
       "      <td>0.584441</td>\n",
       "      <td>6.0</td>\n",
       "      <td>-1.226255</td>\n",
       "      <td>2</td>\n",
       "      <td>0</td>\n",
       "      <td>0</td>\n",
       "      <td>0.830912</td>\n",
       "      <td>0</td>\n",
       "      <td>0</td>\n",
       "      <td>0</td>\n",
       "    </tr>\n",
       "  </tbody>\n",
       "</table>\n",
       "</div>"
      ],
      "text/plain": [
       "      CreditScore       Age  Tenure   Balance  NumOfProducts  HasCrCard  \\\n",
       "8337    -1.215718  0.203082     9.0 -1.226255              2          1   \n",
       "9169     1.192995  0.584441     6.0 -1.226255              2          0   \n",
       "\n",
       "      IsActiveMember  EstimatedSalary  Male  Germany  Spain  \n",
       "8337               0        -1.490725     1        0      0  \n",
       "9169               0         0.830912     0        0      0  "
      ]
     },
     "metadata": {},
     "output_type": "display_data"
    },
    {
     "data": {
      "text/plain": [
       "9993    0\n",
       "0       1\n",
       "Name: Exited, dtype: int64"
      ]
     },
     "metadata": {},
     "output_type": "display_data"
    },
    {
     "data": {
      "text/plain": [
       "8337    0\n",
       "9169    0\n",
       "Name: Exited, dtype: int64"
      ]
     },
     "metadata": {},
     "output_type": "display_data"
    }
   ],
   "source": [
    "display(features_train.head(2))\n",
    "display(features_test.head(2))\n",
    "\n",
    "target_train = target_train.astype('int64')\n",
    "target_test = target_test.astype('int64')\n",
    "\n",
    "display(target_train.head(2))\n",
    "display(target_test.head(2))"
   ]
  },
  {
   "cell_type": "markdown",
   "metadata": {},
   "source": [
    "### Поиск важности признаков"
   ]
  },
  {
   "cell_type": "code",
   "execution_count": 157,
   "metadata": {},
   "outputs": [
    {
     "data": {
      "text/plain": [
       "0.9998533294221179"
      ]
     },
     "metadata": {},
     "output_type": "display_data"
    },
    {
     "data": {
      "image/png": "[encoded data removed]",
      "text/plain": [
       "<Figure size 2160x1080 with 1 Axes>"
      ]
     },
     "metadata": {},
     "output_type": "display_data"
    },
    {
     "data": {
      "text/plain": [
       "None"
      ]
     },
     "metadata": {},
     "output_type": "display_data"
    },
    {
     "data": {
      "text/html": [
       "<div>\n",
       "<style scoped>\n",
       "    .dataframe tbody tr th:only-of-type {\n",
       "        vertical-align: middle;\n",
       "    }\n",
       "\n",
       "    .dataframe tbody tr th {\n",
       "        vertical-align: top;\n",
       "    }\n",
       "\n",
       "    .dataframe thead th {\n",
       "        text-align: right;\n",
       "    }\n",
       "</style>\n",
       "<table border=\"1\" class=\"dataframe\">\n",
       "  <thead>\n",
       "    <tr style=\"text-align: right;\">\n",
       "      <th></th>\n",
       "      <th>Features</th>\n",
       "      <th>Gini-Importance</th>\n",
       "    </tr>\n",
       "  </thead>\n",
       "  <tbody>\n",
       "    <tr>\n",
       "      <th>0</th>\n",
       "      <td>Age</td>\n",
       "      <td>0.235662</td>\n",
       "    </tr>\n",
       "    <tr>\n",
       "      <th>1</th>\n",
       "      <td>EstimatedSalary</td>\n",
       "      <td>0.149218</td>\n",
       "    </tr>\n",
       "    <tr>\n",
       "      <th>2</th>\n",
       "      <td>CreditScore</td>\n",
       "      <td>0.145397</td>\n",
       "    </tr>\n",
       "    <tr>\n",
       "      <th>3</th>\n",
       "      <td>Balance</td>\n",
       "      <td>0.141231</td>\n",
       "    </tr>\n",
       "    <tr>\n",
       "      <th>4</th>\n",
       "      <td>NumOfProducts</td>\n",
       "      <td>0.128307</td>\n",
       "    </tr>\n",
       "    <tr>\n",
       "      <th>5</th>\n",
       "      <td>Tenure</td>\n",
       "      <td>0.081153</td>\n",
       "    </tr>\n",
       "    <tr>\n",
       "      <th>6</th>\n",
       "      <td>IsActiveMember</td>\n",
       "      <td>0.038119</td>\n",
       "    </tr>\n",
       "    <tr>\n",
       "      <th>7</th>\n",
       "      <td>Male</td>\n",
       "      <td>0.028095</td>\n",
       "    </tr>\n",
       "    <tr>\n",
       "      <th>8</th>\n",
       "      <td>Exited</td>\n",
       "      <td>0.019938</td>\n",
       "    </tr>\n",
       "    <tr>\n",
       "      <th>9</th>\n",
       "      <td>HasCrCard</td>\n",
       "      <td>0.019134</td>\n",
       "    </tr>\n",
       "    <tr>\n",
       "      <th>10</th>\n",
       "      <td>Germany</td>\n",
       "      <td>0.013745</td>\n",
       "    </tr>\n",
       "  </tbody>\n",
       "</table>\n",
       "</div>"
      ],
      "text/plain": [
       "           Features  Gini-Importance\n",
       "0               Age         0.235662\n",
       "1   EstimatedSalary         0.149218\n",
       "2       CreditScore         0.145397\n",
       "3           Balance         0.141231\n",
       "4     NumOfProducts         0.128307\n",
       "5            Tenure         0.081153\n",
       "6    IsActiveMember         0.038119\n",
       "7              Male         0.028095\n",
       "8            Exited         0.019938\n",
       "9         HasCrCard         0.019134\n",
       "10          Germany         0.013745"
      ]
     },
     "metadata": {},
     "output_type": "display_data"
    }
   ],
   "source": [
    "rfc = RandomForestClassifier()\n",
    "rfc.fit(features_train, target_train)\n",
    "display(rfc.score(features_train, target_train))\n",
    "# 1.0\n",
    "feats = {}\n",
    "for feature, importance in zip(data_ohe.columns, rfc.feature_importances_):\n",
    "    feats[feature] = importance\n",
    "importances = pd.DataFrame.from_dict(feats, orient='index').rename(columns={0: 'Gini-Importance'})\n",
    "importances = importances.sort_values(by='Gini-Importance', ascending=False)\n",
    "importances = importances.reset_index()\n",
    "importances = importances.rename(columns={'index': 'Features'})\n",
    "sns.set(font_scale = 5)\n",
    "sns.set(style=\"whitegrid\", color_codes=True, font_scale = 1.7)\n",
    "fig, ax = plt.subplots()\n",
    "fig.set_size_inches(30,15)\n",
    "sns.barplot(x=importances['Gini-Importance'], y=importances['Features'], data=importances, color='skyblue')\n",
    "plt.xlabel('Importance', fontsize=25, weight = 'bold')\n",
    "plt.ylabel('Features', fontsize=25, weight = 'bold')\n",
    "plt.title('Feature Importance', fontsize=25, weight = 'bold')\n",
    "display(plt.show())\n",
    "display(importances)"
   ]
  },
  {
   "cell_type": "markdown",
   "metadata": {},
   "source": [
    "### Вывод"
   ]
  },
  {
   "cell_type": "markdown",
   "metadata": {},
   "source": [
    "* Отсутствующие значения в колонке Tenure удаляем так как их замена не известным образом повлияет на ход исследования;\n",
    "* Колонки RowNumber, CustomerId, Surname удалены, так как не влияют на уход клиента из банка\n",
    "* Текстовые колонки перевели в цифровые с помощью get_dummies();\n",
    "* Проведено масштабирование данных с помощью метода StandardScaler;\n",
    "* Датасет разделен на две выборки обучающую и тестовую:\n",
    "    * features_train - target_train;\n",
    "    * features_test - target_test."
   ]
  },
  {
   "cell_type": "markdown",
   "metadata": {},
   "source": [
    "## Исследование задачи"
   ]
  },
  {
   "cell_type": "markdown",
   "metadata": {},
   "source": [
    "### Исследование балансов классов"
   ]
  },
  {
   "cell_type": "code",
   "execution_count": 158,
   "metadata": {
    "scrolled": true
   },
   "outputs": [
    {
     "name": "stdout",
     "output_type": "stream",
     "text": [
      "[[1727   82]\n",
      " [ 229  235]]\n",
      "Полнота 0.5064655172413793\n",
      "Точность 0.7413249211356467\n",
      "F1 мера 0.6017925736235596\n"
     ]
    }
   ],
   "source": [
    "model = RandomForestClassifier(random_state=12345)\n",
    "model.fit(features_train, target_train)\n",
    "predicted_test = model.predict(features_test)\n",
    "\n",
    "print(confusion_matrix(target_test, predicted_test))\n",
    "print(\"Полнота\", recall_score(target_test, predicted_test))\n",
    "print(\"Точность\", precision_score(target_test, predicted_test))\n",
    "print(\"F1 мера\", f1_score(target_test, predicted_test))"
   ]
  },
  {
   "cell_type": "markdown",
   "metadata": {},
   "source": [
    "Построение круговой диаграммы показывающей распределение классов:"
   ]
  },
  {
   "cell_type": "code",
   "execution_count": 159,
   "metadata": {},
   "outputs": [
    {
     "data": {
      "text/plain": [
       "<AxesSubplot:title={'center':'Распределение классов'}, ylabel='Exited'>"
      ]
     },
     "execution_count": 159,
     "metadata": {},
     "output_type": "execute_result"
    },
    {
     "data": {
      "image/png": "[encoded data removed]",
      "text/plain": [
       "<Figure size 720x432 with 1 Axes>"
      ]
     },
     "metadata": {},
     "output_type": "display_data"
    }
   ],
   "source": [
    "data_ohe['Exited'].value_counts().to_frame().plot.pie(y='Exited', figsize=(10, 6), autopct='%1.1f%%', shadow=True, title='Распределение классов')\n"
   ]
  },
  {
   "cell_type": "markdown",
   "metadata": {},
   "source": [
    "Вывод:<br>\n",
    "* Обученная модель RandomForestClassifier выводит 82 ложноположительных и 235 истинно положительных, что говорит о том, что прогноз класса 1 не удался;<br>\n",
    "* Один класс составляет 80%, тогда как второй 20%, что говорит о том что у нас в данных дисбаланс классов."
   ]
  },
  {
   "cell_type": "markdown",
   "metadata": {},
   "source": [
    "### Построение ROC-кривой"
   ]
  },
  {
   "cell_type": "code",
   "execution_count": 160,
   "metadata": {},
   "outputs": [
    {
     "name": "stdout",
     "output_type": "stream",
     "text": [
      "AUC_ROC: 0.8623400001906177\n"
     ]
    }
   ],
   "source": [
    "model = RandomForestClassifier(random_state=12345)\n",
    "model.fit(features_train, target_train)\n",
    "\n",
    "probabilities_test = model.predict_proba(features_test)\n",
    "probabilities_one_test = probabilities_test[:, 1]\n",
    "\n",
    "auc_roc = roc_auc_score(target_test, probabilities_one_test)\n",
    "\n",
    "print(\"AUC_ROC:\", auc_roc)"
   ]
  },
  {
   "cell_type": "code",
   "execution_count": 161,
   "metadata": {},
   "outputs": [],
   "source": [
    "fpr, tpr, thresholds = roc_curve(target_test, probabilities_one_test)"
   ]
  },
  {
   "cell_type": "code",
   "execution_count": 162,
   "metadata": {},
   "outputs": [
    {
     "data": {
      "image/png": "[encoded data removed]",
      "text/plain": [
       "<Figure size 432x288 with 1 Axes>"
      ]
     },
     "metadata": {},
     "output_type": "display_data"
    }
   ],
   "source": [
    "plt.figure()\n",
    "plt.plot(fpr, tpr)\n",
    "plt.plot([0, 1], [0, 1], linestyle='--')\n",
    "plt.xlim([0.0, 1.0])\n",
    "plt.ylim([0.0, 1.0])\n",
    "plt.xlabel('False Positive Rate')\n",
    "plt.ylabel('True Positive Rate')\n",
    "plt.title('ROC-кривая')\n",
    "plt.show()"
   ]
  },
  {
   "cell_type": "markdown",
   "metadata": {},
   "source": [
    "Вывод:<br>\n",
    "Мы получили значение AUC_ROC: 0.862, что говорит о том что наша модель сильно отличается в лучшую сторону от случайной модели так как у нее AUC_ROC: 0.5."
   ]
  },
  {
   "cell_type": "markdown",
   "metadata": {},
   "source": [
    "### Изучение моделей без учета дисбаланса классов"
   ]
  },
  {
   "cell_type": "markdown",
   "metadata": {},
   "source": [
    "#### Изучение модели DecisionTree"
   ]
  },
  {
   "cell_type": "code",
   "execution_count": 163,
   "metadata": {},
   "outputs": [],
   "source": [
    "params = {'max_leaf_nodes': list(range(2, 100))\n",
    "          , 'min_samples_split': [2, 3, 4]\n",
    "          , 'max_depth': [6, 8, 10, 12, 16, 20, 24]}"
   ]
  },
  {
   "cell_type": "code",
   "execution_count": 164,
   "metadata": {},
   "outputs": [],
   "source": [
    "grid_search_cv = GridSearchCV(DecisionTreeClassifier(random_state=12345)\n",
    "                              , params\n",
    "                              , verbose=1\n",
    "                              , cv=3\n",
    "                              , scoring='f1')"
   ]
  },
  {
   "cell_type": "code",
   "execution_count": 165,
   "metadata": {},
   "outputs": [
    {
     "name": "stdout",
     "output_type": "stream",
     "text": [
      "Fitting 3 folds for each of 2058 candidates, totalling 6174 fits\n"
     ]
    },
    {
     "data": {
      "text/plain": [
       "GridSearchCV(cv=3, estimator=DecisionTreeClassifier(random_state=12345),\n",
       "             param_grid={'max_depth': [6, 8, 10, 12, 16, 20, 24],\n",
       "                         'max_leaf_nodes': [2, 3, 4, 5, 6, 7, 8, 9, 10, 11, 12,\n",
       "                                            13, 14, 15, 16, 17, 18, 19, 20, 21,\n",
       "                                            22, 23, 24, 25, 26, 27, 28, 29, 30,\n",
       "                                            31, ...],\n",
       "                         'min_samples_split': [2, 3, 4]},\n",
       "             scoring='f1', verbose=1)"
      ]
     },
     "execution_count": 165,
     "metadata": {},
     "output_type": "execute_result"
    }
   ],
   "source": [
    "grid_search_cv.fit(features_train, target_train)"
   ]
  },
  {
   "cell_type": "code",
   "execution_count": 166,
   "metadata": {},
   "outputs": [
    {
     "data": {
      "text/plain": [
       "DecisionTreeClassifier(max_depth=16, max_leaf_nodes=99, min_samples_split=4,\n",
       "                       random_state=12345)"
      ]
     },
     "execution_count": 166,
     "metadata": {},
     "output_type": "execute_result"
    }
   ],
   "source": [
    "grid_search_cv.best_estimator_"
   ]
  },
  {
   "cell_type": "code",
   "execution_count": 167,
   "metadata": {},
   "outputs": [
    {
     "name": "stdout",
     "output_type": "stream",
     "text": [
      "Best score - : 0.566\n",
      "Train Accuracy - : 0.689\n"
     ]
    }
   ],
   "source": [
    "print(f'Best score - : {grid_search_cv.best_score_:.3f}')\n",
    "print (f'Train Accuracy - : {grid_search_cv.score(features_train, target_train):.3f}')"
   ]
  },
  {
   "cell_type": "markdown",
   "metadata": {},
   "source": [
    "Вывод:<br>\n",
    "На модели DecisionTree без учета дисбаланса классов с помощью grid_search_cv получили лучший показатель 0.566 со следующими параметрами:\n",
    "* max_depth=16;\n",
    "* max_leaf_nodes=99;\n",
    "* min_samples_split=4."
   ]
  },
  {
   "cell_type": "markdown",
   "metadata": {},
   "source": [
    "#### Изучение модели RandomForest"
   ]
  },
  {
   "cell_type": "code",
   "execution_count": 169,
   "metadata": {},
   "outputs": [],
   "source": [
    "param_grid = {'n_estimators': [int(x) for x in np.linspace(start = 10, stop = 80, num = 10)],\n",
    "               'max_features': ['auto', 'sqrt'],\n",
    "               'max_depth': [6, 8, 10, 12, 16, 20, 24],\n",
    "               'min_samples_split': [2, 5],\n",
    "               'min_samples_leaf': [1, 2],\n",
    "               'bootstrap': [True, False]}"
   ]
  },
  {
   "cell_type": "code",
   "execution_count": 170,
   "metadata": {},
   "outputs": [],
   "source": [
    "rf_Model = RandomForestClassifier(random_state=12345)"
   ]
  },
  {
   "cell_type": "code",
   "execution_count": 171,
   "metadata": {},
   "outputs": [
    {
     "name": "stdout",
     "output_type": "stream",
     "text": [
      "Fitting 10 folds for each of 10 candidates, totalling 100 fits\n"
     ]
    },
    {
     "data": {
      "text/plain": [
       "{'n_estimators': 25,\n",
       " 'min_samples_split': 2,\n",
       " 'min_samples_leaf': 1,\n",
       " 'max_features': 'auto',\n",
       " 'max_depth': 16,\n",
       " 'bootstrap': False}"
      ]
     },
     "execution_count": 171,
     "metadata": {},
     "output_type": "execute_result"
    }
   ],
   "source": [
    "rf_RandomGrid = RandomizedSearchCV(estimator = rf_Model\n",
    "                                   , param_distributions = param_grid\n",
    "                                   , cv = 10\n",
    "                                   , verbose=2\n",
    "                                   , n_jobs = 4\n",
    "                                   , scoring='f1'\n",
    "                                   , random_state = 12345)\n",
    "rf_RandomGrid.fit(features_train, target_train)\n",
    "rf_RandomGrid.best_params_"
   ]
  },
  {
   "cell_type": "code",
   "execution_count": 172,
   "metadata": {},
   "outputs": [
    {
     "name": "stdout",
     "output_type": "stream",
     "text": [
      "Train Accuracy - : 0.989\n",
      "Best score - : 0.577\n"
     ]
    }
   ],
   "source": [
    "print (f'Train Accuracy - : {rf_RandomGrid.score(features_train, target_train):.3f}')\n",
    "print(f'Best score - : {rf_RandomGrid.best_score_:.3f}')"
   ]
  },
  {
   "cell_type": "markdown",
   "metadata": {},
   "source": [
    "Вывод:<br>\n",
    "На модели RandomForest без учета дисбаланса классов с помощью RandomizedSearchCV получили лучший показатель 0.577 со следующими параметрами:\n",
    "* 'n_estimators': 25;\n",
    "* 'min_samples_split': 2;\n",
    "* 'min_samples_leaf': 1;\n",
    "* 'max_features': 'auto';\n",
    "* 'max_depth': 16;\n",
    "* 'bootstrap': False."
   ]
  },
  {
   "cell_type": "markdown",
   "metadata": {},
   "source": [
    "#### Изучение модели LogisticRegression"
   ]
  },
  {
   "cell_type": "code",
   "execution_count": 174,
   "metadata": {},
   "outputs": [],
   "source": [
    "parameters = {\n",
    "    'penalty' : ['l1','l2'], \n",
    "    'C'       : np.logspace(-3,3,7),\n",
    "    'solver'  : ['newton-cg', 'lbfgs', 'liblinear'],\n",
    "}"
   ]
  },
  {
   "cell_type": "code",
   "execution_count": 175,
   "metadata": {},
   "outputs": [],
   "source": [
    "logreg = LogisticRegression(random_state=12345)\n",
    "clf = GridSearchCV(logreg\n",
    "                   , param_grid = parameters\n",
    "                   , cv=10\n",
    "                   , scoring='f1')"
   ]
  },
  {
   "cell_type": "code",
   "execution_count": 176,
   "metadata": {},
   "outputs": [
    {
     "data": {
      "text/plain": [
       "GridSearchCV(cv=10, estimator=LogisticRegression(random_state=12345),\n",
       "             param_grid={'C': array([1.e-03, 1.e-02, 1.e-01, 1.e+00, 1.e+01, 1.e+02, 1.e+03]),\n",
       "                         'penalty': ['l1', 'l2'],\n",
       "                         'solver': ['newton-cg', 'lbfgs', 'liblinear']},\n",
       "             scoring='f1')"
      ]
     },
     "execution_count": 176,
     "metadata": {},
     "output_type": "execute_result"
    }
   ],
   "source": [
    "clf.fit(features_train, target_train)"
   ]
  },
  {
   "cell_type": "code",
   "execution_count": 177,
   "metadata": {},
   "outputs": [
    {
     "name": "stdout",
     "output_type": "stream",
     "text": [
      "Tuned Hyperparameters : {'C': 1.0, 'penalty': 'l1', 'solver': 'liblinear'}\n",
      "Best score - : 0.297\n"
     ]
    }
   ],
   "source": [
    "print(\"Tuned Hyperparameters :\", clf.best_params_)\n",
    "print(f'Best score - : {clf.best_score_:.3f}')"
   ]
  },
  {
   "cell_type": "markdown",
   "metadata": {},
   "source": [
    "Вывод:<br>\n",
    "На модели LogisticRegression без учета дисбаланса классов с помощью grid_search_cv получили лучший показатель 0.297 со следующими параметрами:\n",
    "* 'C': 1.0;\n",
    "* 'penalty': 'l1';\n",
    "* 'solver': 'liblinear'."
   ]
  },
  {
   "cell_type": "markdown",
   "metadata": {},
   "source": [
    "#### Проверка моделей на адекватность"
   ]
  },
  {
   "cell_type": "code",
   "execution_count": 179,
   "metadata": {},
   "outputs": [],
   "source": [
    "strategies = ['most_frequent', 'stratified', 'uniform', 'constant']\n",
    "\n",
    "test_scores = []\n",
    "f1_scor = []\n",
    "for s in strategies:\n",
    "    if s =='constant':\n",
    "        dclf = DummyClassifier(strategy = s, random_state = 0, constant = 1)\n",
    "    else:\n",
    "        dclf = DummyClassifier(strategy = s, random_state = 0)\n",
    "    dclf.fit(features_train, target_train)\n",
    "    score = dclf.score(features_train, target_train)\n",
    "    predicted_test = dclf.predict(features_test)\n",
    "    f1 = f1_score(target_test, predicted_test)\n",
    "    \n",
    "    f1_scor.append(f1)\n",
    "    test_scores.append(score)"
   ]
  },
  {
   "cell_type": "code",
   "execution_count": 180,
   "metadata": {},
   "outputs": [
    {
     "data": {
      "image/png": "[encoded data removed]",
      "text/plain": [
       "<Figure size 720x360 with 1 Axes>"
      ]
     },
     "metadata": {},
     "output_type": "display_data"
    }
   ],
   "source": [
    "plt.figure(figsize=(10,5))\n",
    "ax = sns.stripplot(strategies, test_scores);\n",
    "ax.set(xlabel ='Strategy', ylabel ='Test Score')\n",
    "plt.show()"
   ]
  },
  {
   "cell_type": "code",
   "execution_count": 181,
   "metadata": {},
   "outputs": [
    {
     "name": "stdout",
     "output_type": "stream",
     "text": [
      "Самая высокая оценка по простым правилам 0.7961278967439132\n",
      "Самая высокая оценка по F1 параметру 0.3390573620752649\n"
     ]
    }
   ],
   "source": [
    "print(\"Самая высокая оценка по простым правилам\", test_scores[0])\n",
    "print(\"Самая высокая оценка по F1 параметру\", f1_scor[3])"
   ]
  },
  {
   "cell_type": "markdown",
   "metadata": {},
   "source": [
    "Вывод:<br>\n",
    "Мы получили f1 меру на моделях:\n",
    "* DecisionTree 0.566;\n",
    "* RandomForest 0.577;\n",
    "* LogisticRegression 0.297.<br>\n",
    "\n",
    "А на базовой модели 0.339, что говорит о том, что наши модели не сильно отличаются от базовой модели."
   ]
  },
  {
   "cell_type": "markdown",
   "metadata": {},
   "source": [
    "#### Вывод "
   ]
  },
  {
   "cell_type": "markdown",
   "metadata": {},
   "source": [
    "Вывод:<br>\n",
    "На модели DecisionTree без учета дисбаланса классов с помощью grid_search_cv получили лучший показатель 0.566 со следующими параметрами:\n",
    "* max_depth=16;\n",
    "* max_leaf_nodes=99;\n",
    "* min_samples_split=4.\n",
    "\n",
    "На модели RandomForest без учета дисбаланса классов с помощью RandomizedSearchCV получили лучший показатель 0.577 со следующими параметрами:\n",
    "* 'n_estimators': 25;\n",
    "* 'min_samples_split': 2;\n",
    "* 'min_samples_leaf': 1;\n",
    "* 'max_features': 'auto';\n",
    "* 'max_depth': 16;\n",
    "* 'bootstrap': False.\n",
    "\n",
    "На модели LogisticRegression без учета дисбаланса классов с помощью grid_search_cv получили лучший показатель 0.297 со следующими параметрами:\n",
    "* 'C': 1.0;\n",
    "* 'penalty': 'l1';\n",
    "* 'solver': 'liblinear'."
   ]
  },
  {
   "cell_type": "markdown",
   "metadata": {},
   "source": [
    "### Вывод"
   ]
  },
  {
   "cell_type": "markdown",
   "metadata": {},
   "source": [
    "* Обученная модель RandomForestClassifier выводит 82 ложноположительных и 235 истинно положительных, что говорит о том, что прогноз класса 1 не удался;<br>\n",
    "* Один класс составляет 80%, тогда как второй 20%, что говорит о том что у нас в данных дисбаланс классов.\n",
    "\n",
    "На тестовой модели RandomForestClassifier получили значение AUC_ROC: 0.862, что говорит о том что наша модель сильно отличается в лучшую сторону от случайной модели так как у нее AUC_ROC: 0.5.\n",
    "\n",
    "На модели DecisionTree без учета дисбаланса классов с помощью grid_search_cv получили лучший показатель 0.566 со следующими параметрами:\n",
    "* max_depth=16;\n",
    "* max_leaf_nodes=99;\n",
    "* min_samples_split=4.\n",
    "\n",
    "На модели RandomForest без учета дисбаланса классов с помощью RandomizedSearchCV получили лучший показатель 0.577 со следующими параметрами:\n",
    "* 'n_estimators': 25;\n",
    "* 'min_samples_split': 2;\n",
    "* 'min_samples_leaf': 1;\n",
    "* 'max_features': 'auto';\n",
    "* 'max_depth': 16;\n",
    "* 'bootstrap': False.\n",
    "\n",
    "На модели LogisticRegression без учета дисбаланса классов с помощью grid_search_cv получили лучший показатель 0.297 со следующими параметрами:\n",
    "* 'C': 1.0;\n",
    "* 'penalty': 'l1';\n",
    "* 'solver': 'liblinear'.\n",
    "\n",
    "При этом на базовой модели получили F1 меру 0.339, что говорит о том, что наши модели не сильно отличаются от базовой модели."
   ]
  },
  {
   "cell_type": "markdown",
   "metadata": {},
   "source": [
    "## Борьба с дисбалансом"
   ]
  },
  {
   "cell_type": "markdown",
   "metadata": {},
   "source": [
    "### Вариант борьбы с разностью весов с помощью class_weight='balanced'"
   ]
  },
  {
   "cell_type": "code",
   "execution_count": 182,
   "metadata": {},
   "outputs": [
    {
     "name": "stdout",
     "output_type": "stream",
     "text": [
      "Fitting 10 folds for each of 10 candidates, totalling 100 fits\n",
      "Train Accuracy - : 0.791\n",
      "Best score - : 0.617\n"
     ]
    },
    {
     "data": {
      "text/plain": [
       "{'n_estimators': 80,\n",
       " 'min_samples_split': 2,\n",
       " 'min_samples_leaf': 1,\n",
       " 'max_features': 'sqrt',\n",
       " 'max_depth': 10,\n",
       " 'bootstrap': False}"
      ]
     },
     "execution_count": 182,
     "metadata": {},
     "output_type": "execute_result"
    }
   ],
   "source": [
    "rf_Model = RandomForestClassifier(random_state=12345, class_weight='balanced')\n",
    "rf_RandomGrid = RandomizedSearchCV(estimator = rf_Model\n",
    "                                   , param_distributions = param_grid\n",
    "                                   , cv = 10\n",
    "                                   , verbose=2\n",
    "                                   , n_jobs = 4\n",
    "                                   , scoring='f1'\n",
    "                                   , random_state = 12345)\n",
    "\n",
    "rf_RandomGrid = rf_RandomGrid.fit(features_train, target_train)\n",
    "\n",
    "print (f'Train Accuracy - : {rf_RandomGrid.score(features_train, target_train):.3f}')\n",
    "print(f'Best score - : {rf_RandomGrid.best_score_:.3f}')\n",
    "\n",
    "rf_RandomGrid.best_params_"
   ]
  },
  {
   "cell_type": "markdown",
   "metadata": {},
   "source": [
    "Вывод:\n",
    "Параметры модели без учета дисбаланса классов:\n",
    "* Ф1 мера 0.577\n",
    "\n",
    "Параметры модели c учетом дисбаланса классов:\n",
    "* Ф1 мера 0.617\n",
    "\n",
    "То есть с помощью class_weight='balanced' добились повышения Ф1 меры на 0.040.\n",
    "\n",
    "Настройки модели:\n",
    "* 'n_estimators': 80;\n",
    "* 'min_samples_split': 2;\n",
    "* 'min_samples_leaf': 1;\n",
    "* 'max_features': 'sqrt';\n",
    "* 'max_depth': 10;\n",
    "* 'bootstrap': False."
   ]
  },
  {
   "cell_type": "markdown",
   "metadata": {},
   "source": [
    "### Вариант борьбы с разностью весов с помощью upsample"
   ]
  },
  {
   "cell_type": "code",
   "execution_count": 183,
   "metadata": {},
   "outputs": [
    {
     "name": "stdout",
     "output_type": "stream",
     "text": [
      "Exited    5428\n",
      "dtype: int64\n",
      "Exited    5560\n",
      "dtype: int64\n",
      "Fitting 10 folds for each of 10 candidates, totalling 100 fits\n",
      "[CV] END bootstrap=True, max_depth=24, max_features=auto, min_samples_leaf=1, min_samples_split=2, n_estimators=25; total time=   0.8s\n",
      "[CV] END bootstrap=True, max_depth=24, max_features=auto, min_samples_leaf=1, min_samples_split=2, n_estimators=25; total time=   0.9s\n",
      "[CV] END bootstrap=True, max_depth=24, max_features=auto, min_samples_leaf=1, min_samples_split=2, n_estimators=25; total time=   0.8s\n",
      "[CV] END bootstrap=True, max_depth=8, max_features=sqrt, min_samples_leaf=1, min_samples_split=2, n_estimators=80; total time=   2.3s\n",
      "[CV] END bootstrap=True, max_depth=8, max_features=sqrt, min_samples_leaf=1, min_samples_split=2, n_estimators=80; total time=   2.1s\n",
      "[CV] END bootstrap=True, max_depth=16, max_features=sqrt, min_samples_leaf=2, min_samples_split=2, n_estimators=25; total time=   0.9s\n",
      "[CV] END bootstrap=True, max_depth=16, max_features=sqrt, min_samples_leaf=2, min_samples_split=2, n_estimators=25; total time=   0.8s\n",
      "[CV] END bootstrap=True, max_depth=16, max_features=sqrt, min_samples_leaf=2, min_samples_split=2, n_estimators=25; total time=   0.9s\n",
      "[CV] END bootstrap=True, max_depth=16, max_features=sqrt, min_samples_leaf=2, min_samples_split=2, n_estimators=25; total time=   0.8s\n",
      "[CV] END bootstrap=True, max_depth=24, max_features=sqrt, min_samples_leaf=2, min_samples_split=2, n_estimators=56; total time=   2.0s\n",
      "[CV] END bootstrap=True, max_depth=24, max_features=sqrt, min_samples_leaf=2, min_samples_split=2, n_estimators=56; total time=   1.9s\n",
      "[CV] END bootstrap=True, max_depth=24, max_features=sqrt, min_samples_leaf=2, min_samples_split=2, n_estimators=56; total time=   1.8s\n",
      "[CV] END bootstrap=False, max_depth=10, max_features=sqrt, min_samples_leaf=1, min_samples_split=2, n_estimators=80; total time=   3.1s\n",
      "[CV] END bootstrap=False, max_depth=10, max_features=sqrt, min_samples_leaf=1, min_samples_split=2, n_estimators=80; total time=   3.1s\n",
      "[CV] END bootstrap=False, max_depth=8, max_features=auto, min_samples_leaf=1, min_samples_split=5, n_estimators=41; total time=   1.6s\n",
      "[CV] END bootstrap=False, max_depth=8, max_features=auto, min_samples_leaf=1, min_samples_split=5, n_estimators=41; total time=   1.3s\n",
      "[CV] END bootstrap=False, max_depth=8, max_features=auto, min_samples_leaf=1, min_samples_split=5, n_estimators=41; total time=   1.3s\n",
      "[CV] END bootstrap=True, max_depth=8, max_features=auto, min_samples_leaf=2, min_samples_split=2, n_estimators=48; total time=   1.2s\n",
      "[CV] END bootstrap=True, max_depth=8, max_features=auto, min_samples_leaf=2, min_samples_split=2, n_estimators=48; total time=   1.4s\n",
      "[CV] END bootstrap=False, max_depth=24, max_features=sqrt, min_samples_leaf=2, min_samples_split=5, n_estimators=48; total time=   2.0s\n",
      "[CV] END bootstrap=False, max_depth=24, max_features=sqrt, min_samples_leaf=2, min_samples_split=5, n_estimators=48; total time=   2.1s\n",
      "[CV] END bootstrap=False, max_depth=24, max_features=sqrt, min_samples_leaf=2, min_samples_split=5, n_estimators=48; total time=   2.3s\n",
      "[CV] END bootstrap=False, max_depth=10, max_features=auto, min_samples_leaf=2, min_samples_split=5, n_estimators=80; total time=   3.0s\n",
      "[CV] END bootstrap=False, max_depth=10, max_features=auto, min_samples_leaf=2, min_samples_split=5, n_estimators=80; total time=   3.0s\n",
      "[CV] END bootstrap=False, max_depth=16, max_features=auto, min_samples_leaf=1, min_samples_split=2, n_estimators=25; total time=   1.2s\n",
      "[CV] END bootstrap=False, max_depth=16, max_features=auto, min_samples_leaf=1, min_samples_split=2, n_estimators=25; total time=   1.2s\n",
      "[CV] END bootstrap=False, max_depth=16, max_features=auto, min_samples_leaf=1, min_samples_split=2, n_estimators=25; total time=   1.3s\n",
      "[CV] END bootstrap=True, max_depth=24, max_features=auto, min_samples_leaf=1, min_samples_split=2, n_estimators=25; total time=   1.0s\n",
      "[CV] END bootstrap=True, max_depth=24, max_features=auto, min_samples_leaf=1, min_samples_split=2, n_estimators=25; total time=   0.8s\n",
      "[CV] END bootstrap=True, max_depth=8, max_features=sqrt, min_samples_leaf=1, min_samples_split=2, n_estimators=80; total time=   2.0s\n",
      "[CV] END bootstrap=True, max_depth=8, max_features=sqrt, min_samples_leaf=1, min_samples_split=2, n_estimators=80; total time=   2.0s\n",
      "[CV] END bootstrap=True, max_depth=8, max_features=sqrt, min_samples_leaf=1, min_samples_split=2, n_estimators=80; total time=   1.9s\n",
      "[CV] END bootstrap=True, max_depth=16, max_features=sqrt, min_samples_leaf=2, min_samples_split=2, n_estimators=25; total time=   0.9s\n",
      "[CV] END bootstrap=True, max_depth=16, max_features=sqrt, min_samples_leaf=2, min_samples_split=2, n_estimators=25; total time=   1.0s\n",
      "[CV] END bootstrap=True, max_depth=24, max_features=sqrt, min_samples_leaf=2, min_samples_split=2, n_estimators=56; total time=   1.7s\n",
      "[CV] END bootstrap=True, max_depth=24, max_features=sqrt, min_samples_leaf=2, min_samples_split=2, n_estimators=56; total time=   1.9s\n",
      "[CV] END bootstrap=True, max_depth=24, max_features=sqrt, min_samples_leaf=2, min_samples_split=2, n_estimators=56; total time=   2.1s\n",
      "[CV] END bootstrap=False, max_depth=10, max_features=sqrt, min_samples_leaf=1, min_samples_split=2, n_estimators=80; total time=   3.2s\n",
      "[CV] END bootstrap=False, max_depth=10, max_features=sqrt, min_samples_leaf=1, min_samples_split=2, n_estimators=80; total time=   3.0s\n",
      "[CV] END bootstrap=False, max_depth=8, max_features=auto, min_samples_leaf=1, min_samples_split=5, n_estimators=41; total time=   1.3s\n",
      "[CV] END bootstrap=False, max_depth=8, max_features=auto, min_samples_leaf=1, min_samples_split=5, n_estimators=41; total time=   1.3s\n",
      "[CV] END bootstrap=False, max_depth=8, max_features=auto, min_samples_leaf=1, min_samples_split=5, n_estimators=41; total time=   1.2s\n",
      "[CV] END bootstrap=True, max_depth=8, max_features=auto, min_samples_leaf=2, min_samples_split=2, n_estimators=48; total time=   1.2s\n",
      "[CV] END bootstrap=True, max_depth=8, max_features=auto, min_samples_leaf=2, min_samples_split=2, n_estimators=48; total time=   1.2s\n",
      "[CV] END bootstrap=False, max_depth=24, max_features=sqrt, min_samples_leaf=2, min_samples_split=5, n_estimators=48; total time=   2.2s\n",
      "[CV] END bootstrap=False, max_depth=24, max_features=sqrt, min_samples_leaf=2, min_samples_split=5, n_estimators=48; total time=   2.6s\n",
      "[CV] END bootstrap=False, max_depth=24, max_features=sqrt, min_samples_leaf=2, min_samples_split=5, n_estimators=48; total time=   2.1s\n",
      "[CV] END bootstrap=False, max_depth=10, max_features=auto, min_samples_leaf=2, min_samples_split=5, n_estimators=80; total time=   2.5s\n",
      "[CV] END bootstrap=False, max_depth=10, max_features=auto, min_samples_leaf=2, min_samples_split=5, n_estimators=80; total time=   3.1s\n",
      "[CV] END bootstrap=False, max_depth=16, max_features=auto, min_samples_leaf=1, min_samples_split=2, n_estimators=25; total time=   1.2s\n",
      "[CV] END bootstrap=False, max_depth=16, max_features=auto, min_samples_leaf=1, min_samples_split=2, n_estimators=25; total time=   1.3s\n",
      "[CV] END bootstrap=False, max_depth=16, max_features=auto, min_samples_leaf=1, min_samples_split=2, n_estimators=25; total time=   1.1s\n",
      "[CV] END bootstrap=False, max_depth=16, max_features=auto, min_samples_leaf=1, min_samples_split=2, n_estimators=25; total time=   0.7s\n",
      "[CV] END bootstrap=True, max_depth=24, max_features=auto, min_samples_leaf=1, min_samples_split=2, n_estimators=25; total time=   1.2s\n",
      "[CV] END bootstrap=True, max_depth=24, max_features=auto, min_samples_leaf=1, min_samples_split=2, n_estimators=25; total time=   1.2s\n",
      "[CV] END bootstrap=True, max_depth=8, max_features=sqrt, min_samples_leaf=1, min_samples_split=2, n_estimators=80; total time=   2.8s\n",
      "[CV] END bootstrap=True, max_depth=8, max_features=sqrt, min_samples_leaf=1, min_samples_split=2, n_estimators=80; total time=   3.1s\n",
      "[CV] END bootstrap=True, max_depth=16, max_features=sqrt, min_samples_leaf=2, min_samples_split=2, n_estimators=25; total time=   1.5s\n",
      "[CV] END bootstrap=True, max_depth=16, max_features=sqrt, min_samples_leaf=2, min_samples_split=2, n_estimators=25; total time=   1.1s\n",
      "[CV] END bootstrap=True, max_depth=16, max_features=sqrt, min_samples_leaf=2, min_samples_split=2, n_estimators=25; total time=   1.2s\n",
      "[CV] END bootstrap=True, max_depth=24, max_features=auto, min_samples_leaf=1, min_samples_split=2, n_estimators=25; total time=   0.8s\n",
      "[CV] END bootstrap=True, max_depth=24, max_features=auto, min_samples_leaf=1, min_samples_split=2, n_estimators=25; total time=   1.0s\n",
      "[CV] END bootstrap=True, max_depth=24, max_features=auto, min_samples_leaf=1, min_samples_split=2, n_estimators=25; total time=   0.9s\n",
      "[CV] END bootstrap=True, max_depth=8, max_features=sqrt, min_samples_leaf=1, min_samples_split=2, n_estimators=80; total time=   2.2s\n",
      "[CV] END bootstrap=True, max_depth=8, max_features=sqrt, min_samples_leaf=1, min_samples_split=2, n_estimators=80; total time=   2.0s\n",
      "[CV] END bootstrap=True, max_depth=8, max_features=sqrt, min_samples_leaf=1, min_samples_split=2, n_estimators=80; total time=   2.1s\n",
      "[CV] END bootstrap=True, max_depth=16, max_features=sqrt, min_samples_leaf=2, min_samples_split=2, n_estimators=25; total time=   0.9s\n",
      "[CV] END bootstrap=True, max_depth=16, max_features=sqrt, min_samples_leaf=2, min_samples_split=2, n_estimators=25; total time=   0.8s\n",
      "[CV] END bootstrap=True, max_depth=24, max_features=sqrt, min_samples_leaf=2, min_samples_split=2, n_estimators=56; total time=   1.7s\n",
      "[CV] END bootstrap=True, max_depth=24, max_features=sqrt, min_samples_leaf=2, min_samples_split=2, n_estimators=56; total time=   2.0s\n",
      "[CV] END bootstrap=False, max_depth=10, max_features=sqrt, min_samples_leaf=1, min_samples_split=2, n_estimators=80; total time=   3.2s\n",
      "[CV] END bootstrap=False, max_depth=10, max_features=sqrt, min_samples_leaf=1, min_samples_split=2, n_estimators=80; total time=   2.9s\n",
      "[CV] END bootstrap=False, max_depth=10, max_features=sqrt, min_samples_leaf=1, min_samples_split=2, n_estimators=80; total time=   3.0s\n",
      "[CV] END bootstrap=False, max_depth=8, max_features=auto, min_samples_leaf=1, min_samples_split=5, n_estimators=41; total time=   1.3s\n",
      "[CV] END bootstrap=False, max_depth=8, max_features=auto, min_samples_leaf=1, min_samples_split=5, n_estimators=41; total time=   1.2s\n",
      "[CV] END bootstrap=True, max_depth=8, max_features=auto, min_samples_leaf=2, min_samples_split=2, n_estimators=48; total time=   1.2s\n",
      "[CV] END bootstrap=True, max_depth=8, max_features=auto, min_samples_leaf=2, min_samples_split=2, n_estimators=48; total time=   1.2s\n",
      "[CV] END bootstrap=True, max_depth=8, max_features=auto, min_samples_leaf=2, min_samples_split=2, n_estimators=48; total time=   1.1s\n",
      "[CV] END bootstrap=False, max_depth=24, max_features=sqrt, min_samples_leaf=2, min_samples_split=5, n_estimators=48; total time=   2.3s\n",
      "[CV] END bootstrap=False, max_depth=24, max_features=sqrt, min_samples_leaf=2, min_samples_split=5, n_estimators=48; total time=   2.5s\n",
      "[CV] END bootstrap=False, max_depth=10, max_features=auto, min_samples_leaf=2, min_samples_split=5, n_estimators=80; total time=   3.2s\n",
      "[CV] END bootstrap=False, max_depth=10, max_features=auto, min_samples_leaf=2, min_samples_split=5, n_estimators=80; total time=   3.0s\n",
      "[CV] END bootstrap=False, max_depth=10, max_features=auto, min_samples_leaf=2, min_samples_split=5, n_estimators=80; total time=   3.3s\n",
      "[CV] END bootstrap=False, max_depth=16, max_features=auto, min_samples_leaf=1, min_samples_split=2, n_estimators=25; total time=   1.1s\n",
      "[CV] END bootstrap=False, max_depth=16, max_features=auto, min_samples_leaf=1, min_samples_split=2, n_estimators=25; total time=   0.8s\n",
      "[CV] END bootstrap=True, max_depth=24, max_features=auto, min_samples_leaf=1, min_samples_split=2, n_estimators=25; total time=   0.8s\n",
      "[CV] END bootstrap=True, max_depth=24, max_features=auto, min_samples_leaf=1, min_samples_split=2, n_estimators=25; total time=   0.9s\n",
      "[CV] END bootstrap=True, max_depth=24, max_features=auto, min_samples_leaf=1, min_samples_split=2, n_estimators=25; total time=   0.8s\n",
      "[CV] END bootstrap=True, max_depth=8, max_features=sqrt, min_samples_leaf=1, min_samples_split=2, n_estimators=80; total time=   2.1s\n",
      "[CV] END bootstrap=True, max_depth=8, max_features=sqrt, min_samples_leaf=1, min_samples_split=2, n_estimators=80; total time=   2.4s\n",
      "[CV] END bootstrap=True, max_depth=16, max_features=sqrt, min_samples_leaf=2, min_samples_split=2, n_estimators=25; total time=   0.8s\n",
      "[CV] END bootstrap=True, max_depth=16, max_features=sqrt, min_samples_leaf=2, min_samples_split=2, n_estimators=25; total time=   0.9s\n",
      "[CV] END bootstrap=True, max_depth=16, max_features=sqrt, min_samples_leaf=2, min_samples_split=2, n_estimators=25; total time=   0.8s\n",
      "[CV] END bootstrap=True, max_depth=24, max_features=sqrt, min_samples_leaf=2, min_samples_split=2, n_estimators=56; total time=   1.9s\n",
      "[CV] END bootstrap=True, max_depth=24, max_features=sqrt, min_samples_leaf=2, min_samples_split=2, n_estimators=56; total time=   2.0s\n",
      "[CV] END bootstrap=False, max_depth=10, max_features=sqrt, min_samples_leaf=1, min_samples_split=2, n_estimators=80; total time=   3.0s\n",
      "[CV] END bootstrap=False, max_depth=10, max_features=sqrt, min_samples_leaf=1, min_samples_split=2, n_estimators=80; total time=   3.0s\n",
      "[CV] END bootstrap=False, max_depth=10, max_features=sqrt, min_samples_leaf=1, min_samples_split=2, n_estimators=80; total time=   2.6s\n",
      "[CV] END bootstrap=False, max_depth=8, max_features=auto, min_samples_leaf=1, min_samples_split=5, n_estimators=41; total time=   1.0s\n",
      "[CV] END bootstrap=False, max_depth=8, max_features=auto, min_samples_leaf=1, min_samples_split=5, n_estimators=41; total time=   1.4s\n",
      "[CV] END bootstrap=True, max_depth=8, max_features=auto, min_samples_leaf=2, min_samples_split=2, n_estimators=48; total time=   1.4s\n",
      "[CV] END bootstrap=True, max_depth=8, max_features=auto, min_samples_leaf=2, min_samples_split=2, n_estimators=48; total time=   1.4s\n",
      "[CV] END bootstrap=True, max_depth=8, max_features=auto, min_samples_leaf=2, min_samples_split=2, n_estimators=48; total time=   1.4s\n",
      "[CV] END bootstrap=False, max_depth=24, max_features=sqrt, min_samples_leaf=2, min_samples_split=5, n_estimators=48; total time=   2.3s\n",
      "[CV] END bootstrap=False, max_depth=24, max_features=sqrt, min_samples_leaf=2, min_samples_split=5, n_estimators=48; total time=   2.4s\n",
      "[CV] END bootstrap=False, max_depth=10, max_features=auto, min_samples_leaf=2, min_samples_split=5, n_estimators=80; total time=   2.8s\n",
      "[CV] END bootstrap=False, max_depth=10, max_features=auto, min_samples_leaf=2, min_samples_split=5, n_estimators=80; total time=   3.0s\n",
      "[CV] END bootstrap=False, max_depth=10, max_features=auto, min_samples_leaf=2, min_samples_split=5, n_estimators=80; total time=   2.7s\n",
      "[CV] END bootstrap=False, max_depth=16, max_features=auto, min_samples_leaf=1, min_samples_split=2, n_estimators=25; total time=   1.3s\n",
      "[CV] END bootstrap=False, max_depth=16, max_features=auto, min_samples_leaf=1, min_samples_split=2, n_estimators=25; total time=   1.1s\n",
      "[CV] END bootstrap=True, max_depth=24, max_features=auto, min_samples_leaf=1, min_samples_split=2, n_estimators=25; total time=   0.8s\n",
      "[CV] END bootstrap=True, max_depth=24, max_features=auto, min_samples_leaf=1, min_samples_split=2, n_estimators=25; total time=   1.4s\n",
      "[CV] END bootstrap=True, max_depth=24, max_features=auto, min_samples_leaf=1, min_samples_split=2, n_estimators=25; total time=   1.2s\n",
      "[CV] END bootstrap=True, max_depth=8, max_features=sqrt, min_samples_leaf=1, min_samples_split=2, n_estimators=80; total time=   2.6s\n",
      "[CV] END bootstrap=True, max_depth=8, max_features=sqrt, min_samples_leaf=1, min_samples_split=2, n_estimators=80; total time=   2.9s\n",
      "[CV] END bootstrap=True, max_depth=8, max_features=sqrt, min_samples_leaf=1, min_samples_split=2, n_estimators=80; total time=   3.2s\n",
      "[CV] END bootstrap=True, max_depth=16, max_features=sqrt, min_samples_leaf=2, min_samples_split=2, n_estimators=25; total time=   1.1s\n",
      "[CV] END bootstrap=True, max_depth=24, max_features=sqrt, min_samples_leaf=2, min_samples_split=2, n_estimators=56; total time=   2.8s\n",
      "[CV] END bootstrap=True, max_depth=24, max_features=sqrt, min_samples_leaf=2, min_samples_split=2, n_estimators=56; total time=   2.7s\n",
      "[CV] END bootstrap=True, max_depth=24, max_features=sqrt, min_samples_leaf=2, min_samples_split=2, n_estimators=56; total time=   3.0s\n",
      "[CV] END bootstrap=True, max_depth=24, max_features=auto, min_samples_leaf=1, min_samples_split=2, n_estimators=25; total time=   0.6s\n",
      "[CV] END bootstrap=True, max_depth=24, max_features=auto, min_samples_leaf=1, min_samples_split=2, n_estimators=25; total time=   0.9s\n",
      "[CV] END bootstrap=True, max_depth=24, max_features=auto, min_samples_leaf=1, min_samples_split=2, n_estimators=25; total time=   0.9s\n",
      "[CV] END bootstrap=True, max_depth=8, max_features=sqrt, min_samples_leaf=1, min_samples_split=2, n_estimators=80; total time=   1.9s\n",
      "[CV] END bootstrap=True, max_depth=8, max_features=sqrt, min_samples_leaf=1, min_samples_split=2, n_estimators=80; total time=   2.1s\n",
      "[CV] END bootstrap=True, max_depth=8, max_features=sqrt, min_samples_leaf=1, min_samples_split=2, n_estimators=80; total time=   2.0s\n",
      "[CV] END bootstrap=True, max_depth=16, max_features=sqrt, min_samples_leaf=2, min_samples_split=2, n_estimators=25; total time=   1.0s\n",
      "[CV] END bootstrap=True, max_depth=16, max_features=sqrt, min_samples_leaf=2, min_samples_split=2, n_estimators=25; total time=   1.0s\n",
      "[CV] END bootstrap=True, max_depth=24, max_features=sqrt, min_samples_leaf=2, min_samples_split=2, n_estimators=56; total time=   2.0s\n",
      "[CV] END bootstrap=True, max_depth=24, max_features=sqrt, min_samples_leaf=2, min_samples_split=2, n_estimators=56; total time=   2.0s\n",
      "[CV] END bootstrap=True, max_depth=24, max_features=sqrt, min_samples_leaf=2, min_samples_split=2, n_estimators=56; total time=   2.1s\n",
      "[CV] END bootstrap=False, max_depth=10, max_features=sqrt, min_samples_leaf=1, min_samples_split=2, n_estimators=80; total time=   2.8s\n",
      "[CV] END bootstrap=False, max_depth=10, max_features=sqrt, min_samples_leaf=1, min_samples_split=2, n_estimators=80; total time=   3.1s\n",
      "[CV] END bootstrap=False, max_depth=8, max_features=auto, min_samples_leaf=1, min_samples_split=5, n_estimators=41; total time=   1.5s\n",
      "[CV] END bootstrap=False, max_depth=8, max_features=auto, min_samples_leaf=1, min_samples_split=5, n_estimators=41; total time=   1.2s\n",
      "[CV] END bootstrap=False, max_depth=8, max_features=auto, min_samples_leaf=1, min_samples_split=5, n_estimators=41; total time=   1.4s\n",
      "[CV] END bootstrap=True, max_depth=8, max_features=auto, min_samples_leaf=2, min_samples_split=2, n_estimators=48; total time=   1.2s\n",
      "[CV] END bootstrap=True, max_depth=8, max_features=auto, min_samples_leaf=2, min_samples_split=2, n_estimators=48; total time=   1.2s\n",
      "[CV] END bootstrap=False, max_depth=24, max_features=sqrt, min_samples_leaf=2, min_samples_split=5, n_estimators=48; total time=   2.2s\n",
      "[CV] END bootstrap=False, max_depth=24, max_features=sqrt, min_samples_leaf=2, min_samples_split=5, n_estimators=48; total time=   2.1s\n",
      "[CV] END bootstrap=False, max_depth=24, max_features=sqrt, min_samples_leaf=2, min_samples_split=5, n_estimators=48; total time=   2.2s\n",
      "[CV] END bootstrap=False, max_depth=10, max_features=auto, min_samples_leaf=2, min_samples_split=5, n_estimators=80; total time=   3.2s\n",
      "[CV] END bootstrap=False, max_depth=10, max_features=auto, min_samples_leaf=2, min_samples_split=5, n_estimators=80; total time=   3.2s\n",
      "[CV] END bootstrap=False, max_depth=16, max_features=auto, min_samples_leaf=1, min_samples_split=2, n_estimators=25; total time=   1.3s\n",
      "[CV] END bootstrap=False, max_depth=16, max_features=auto, min_samples_leaf=1, min_samples_split=2, n_estimators=25; total time=   1.4s\n",
      "[CV] END bootstrap=False, max_depth=16, max_features=auto, min_samples_leaf=1, min_samples_split=2, n_estimators=25; total time=   1.2s\n",
      "[CV] END bootstrap=True, max_depth=24, max_features=auto, min_samples_leaf=1, min_samples_split=2, n_estimators=25; total time=   1.0s\n",
      "[CV] END bootstrap=True, max_depth=24, max_features=auto, min_samples_leaf=1, min_samples_split=2, n_estimators=25; total time=   1.0s\n",
      "[CV] END bootstrap=True, max_depth=8, max_features=sqrt, min_samples_leaf=1, min_samples_split=2, n_estimators=80; total time=   1.9s\n",
      "[CV] END bootstrap=True, max_depth=8, max_features=sqrt, min_samples_leaf=1, min_samples_split=2, n_estimators=80; total time=   2.1s\n",
      "[CV] END bootstrap=True, max_depth=8, max_features=sqrt, min_samples_leaf=1, min_samples_split=2, n_estimators=80; total time=   1.9s\n",
      "[CV] END bootstrap=True, max_depth=16, max_features=sqrt, min_samples_leaf=2, min_samples_split=2, n_estimators=25; total time=   0.7s\n",
      "[CV] END bootstrap=True, max_depth=24, max_features=sqrt, min_samples_leaf=2, min_samples_split=2, n_estimators=56; total time=   1.7s\n",
      "[CV] END bootstrap=True, max_depth=24, max_features=sqrt, min_samples_leaf=2, min_samples_split=2, n_estimators=56; total time=   2.0s\n",
      "[CV] END bootstrap=True, max_depth=24, max_features=sqrt, min_samples_leaf=2, min_samples_split=2, n_estimators=56; total time=   1.8s\n",
      "[CV] END bootstrap=False, max_depth=10, max_features=sqrt, min_samples_leaf=1, min_samples_split=2, n_estimators=80; total time=   2.8s\n",
      "[CV] END bootstrap=False, max_depth=10, max_features=sqrt, min_samples_leaf=1, min_samples_split=2, n_estimators=80; total time=   3.1s\n",
      "[CV] END bootstrap=False, max_depth=8, max_features=auto, min_samples_leaf=1, min_samples_split=5, n_estimators=41; total time=   1.2s\n",
      "[CV] END bootstrap=False, max_depth=8, max_features=auto, min_samples_leaf=1, min_samples_split=5, n_estimators=41; total time=   1.2s\n",
      "[CV] END bootstrap=False, max_depth=8, max_features=auto, min_samples_leaf=1, min_samples_split=5, n_estimators=41; total time=   1.2s\n",
      "[CV] END bootstrap=False, max_depth=8, max_features=auto, min_samples_leaf=1, min_samples_split=5, n_estimators=41; total time=   1.3s\n",
      "[CV] END bootstrap=True, max_depth=8, max_features=auto, min_samples_leaf=2, min_samples_split=2, n_estimators=48; total time=   1.2s\n",
      "[CV] END bootstrap=True, max_depth=8, max_features=auto, min_samples_leaf=2, min_samples_split=2, n_estimators=48; total time=   1.3s\n",
      "[CV] END bootstrap=False, max_depth=24, max_features=sqrt, min_samples_leaf=2, min_samples_split=5, n_estimators=48; total time=   2.6s\n",
      "[CV] END bootstrap=False, max_depth=24, max_features=sqrt, min_samples_leaf=2, min_samples_split=5, n_estimators=48; total time=   2.2s\n",
      "[CV] END bootstrap=False, max_depth=10, max_features=auto, min_samples_leaf=2, min_samples_split=5, n_estimators=80; total time=   2.6s\n",
      "[CV] END bootstrap=False, max_depth=10, max_features=auto, min_samples_leaf=2, min_samples_split=5, n_estimators=80; total time=   3.2s\n",
      "[CV] END bootstrap=False, max_depth=10, max_features=auto, min_samples_leaf=2, min_samples_split=5, n_estimators=80; total time=   3.5s\n",
      "[CV] END bootstrap=False, max_depth=16, max_features=auto, min_samples_leaf=1, min_samples_split=2, n_estimators=25; total time=   1.3s\n",
      "[CV] END bootstrap=False, max_depth=16, max_features=auto, min_samples_leaf=1, min_samples_split=2, n_estimators=25; total time=   0.8s\n",
      "[CV] END bootstrap=True, max_depth=24, max_features=auto, min_samples_leaf=1, min_samples_split=2, n_estimators=25; total time=   1.1s\n",
      "[CV] END bootstrap=True, max_depth=24, max_features=auto, min_samples_leaf=1, min_samples_split=2, n_estimators=25; total time=   1.6s\n",
      "[CV] END bootstrap=True, max_depth=8, max_features=sqrt, min_samples_leaf=1, min_samples_split=2, n_estimators=80; total time=   2.9s\n",
      "[CV] END bootstrap=True, max_depth=8, max_features=sqrt, min_samples_leaf=1, min_samples_split=2, n_estimators=80; total time=   3.1s\n",
      "[CV] END bootstrap=True, max_depth=8, max_features=sqrt, min_samples_leaf=1, min_samples_split=2, n_estimators=80; total time=   2.7s\n",
      "[CV] END bootstrap=True, max_depth=16, max_features=sqrt, min_samples_leaf=2, min_samples_split=2, n_estimators=25; total time=   1.3s\n",
      "[CV] END bootstrap=True, max_depth=16, max_features=sqrt, min_samples_leaf=2, min_samples_split=2, n_estimators=25; total time=   1.3s\n",
      "[CV] END bootstrap=True, max_depth=24, max_features=sqrt, min_samples_leaf=2, min_samples_split=2, n_estimators=56; total time=   2.8s\n",
      "[CV] END bootstrap=True, max_depth=24, max_features=sqrt, min_samples_leaf=2, min_samples_split=2, n_estimators=56; total time=   2.8s\n",
      "[CV] END bootstrap=False, max_depth=10, max_features=sqrt, min_samples_leaf=1, min_samples_split=2, n_estimators=80; total time=   4.0s\n",
      "[CV] END bootstrap=True, max_depth=24, max_features=auto, min_samples_leaf=1, min_samples_split=2, n_estimators=25; total time=   1.0s\n",
      "[CV] END bootstrap=True, max_depth=8, max_features=sqrt, min_samples_leaf=1, min_samples_split=2, n_estimators=80; total time=   2.1s\n",
      "[CV] END bootstrap=True, max_depth=8, max_features=sqrt, min_samples_leaf=1, min_samples_split=2, n_estimators=80; total time=   1.9s\n",
      "[CV] END bootstrap=True, max_depth=16, max_features=sqrt, min_samples_leaf=2, min_samples_split=2, n_estimators=25; total time=   0.9s\n",
      "[CV] END bootstrap=True, max_depth=16, max_features=sqrt, min_samples_leaf=2, min_samples_split=2, n_estimators=25; total time=   1.0s\n",
      "[CV] END bootstrap=True, max_depth=24, max_features=sqrt, min_samples_leaf=2, min_samples_split=2, n_estimators=56; total time=   2.1s\n",
      "[CV] END bootstrap=True, max_depth=24, max_features=sqrt, min_samples_leaf=2, min_samples_split=2, n_estimators=56; total time=   2.0s\n",
      "[CV] END bootstrap=False, max_depth=10, max_features=sqrt, min_samples_leaf=1, min_samples_split=2, n_estimators=80; total time=   2.9s\n",
      "[CV] END bootstrap=False, max_depth=10, max_features=sqrt, min_samples_leaf=1, min_samples_split=2, n_estimators=80; total time=   3.0s\n",
      "[CV] END bootstrap=False, max_depth=10, max_features=sqrt, min_samples_leaf=1, min_samples_split=2, n_estimators=80; total time=   3.0s\n",
      "[CV] END bootstrap=False, max_depth=8, max_features=auto, min_samples_leaf=1, min_samples_split=5, n_estimators=41; total time=   1.3s\n",
      "[CV] END bootstrap=False, max_depth=8, max_features=auto, min_samples_leaf=1, min_samples_split=5, n_estimators=41; total time=   1.2s\n",
      "[CV] END bootstrap=True, max_depth=8, max_features=auto, min_samples_leaf=2, min_samples_split=2, n_estimators=48; total time=   1.2s\n",
      "[CV] END bootstrap=True, max_depth=8, max_features=auto, min_samples_leaf=2, min_samples_split=2, n_estimators=48; total time=   1.3s\n",
      "[CV] END bootstrap=True, max_depth=8, max_features=auto, min_samples_leaf=2, min_samples_split=2, n_estimators=48; total time=   1.2s\n",
      "[CV] END bootstrap=False, max_depth=24, max_features=sqrt, min_samples_leaf=2, min_samples_split=5, n_estimators=48; total time=   2.3s\n",
      "[CV] END bootstrap=False, max_depth=24, max_features=sqrt, min_samples_leaf=2, min_samples_split=5, n_estimators=48; total time=   2.4s\n",
      "[CV] END bootstrap=False, max_depth=10, max_features=auto, min_samples_leaf=2, min_samples_split=5, n_estimators=80; total time=   3.0s\n",
      "[CV] END bootstrap=False, max_depth=10, max_features=auto, min_samples_leaf=2, min_samples_split=5, n_estimators=80; total time=   2.7s\n",
      "[CV] END bootstrap=False, max_depth=10, max_features=auto, min_samples_leaf=2, min_samples_split=5, n_estimators=80; total time=   2.9s\n",
      "[CV] END bootstrap=False, max_depth=16, max_features=auto, min_samples_leaf=1, min_samples_split=2, n_estimators=25; total time=   1.1s\n",
      "[CV] END bootstrap=False, max_depth=16, max_features=auto, min_samples_leaf=1, min_samples_split=2, n_estimators=25; total time=   1.2s\n",
      "[CV] END bootstrap=True, max_depth=24, max_features=auto, min_samples_leaf=1, min_samples_split=2, n_estimators=25; total time=   0.7s\n",
      "[CV] END bootstrap=True, max_depth=24, max_features=auto, min_samples_leaf=1, min_samples_split=2, n_estimators=25; total time=   0.8s\n",
      "[CV] END bootstrap=True, max_depth=24, max_features=auto, min_samples_leaf=1, min_samples_split=2, n_estimators=25; total time=   0.9s\n",
      "[CV] END bootstrap=True, max_depth=8, max_features=sqrt, min_samples_leaf=1, min_samples_split=2, n_estimators=80; total time=   1.8s\n",
      "[CV] END bootstrap=True, max_depth=8, max_features=sqrt, min_samples_leaf=1, min_samples_split=2, n_estimators=80; total time=   2.0s\n",
      "[CV] END bootstrap=True, max_depth=16, max_features=sqrt, min_samples_leaf=2, min_samples_split=2, n_estimators=25; total time=   0.7s\n",
      "[CV] END bootstrap=True, max_depth=16, max_features=sqrt, min_samples_leaf=2, min_samples_split=2, n_estimators=25; total time=   0.9s\n",
      "[CV] END bootstrap=True, max_depth=16, max_features=sqrt, min_samples_leaf=2, min_samples_split=2, n_estimators=25; total time=   1.0s\n",
      "[CV] END bootstrap=True, max_depth=16, max_features=sqrt, min_samples_leaf=2, min_samples_split=2, n_estimators=25; total time=   1.0s\n",
      "[CV] END bootstrap=True, max_depth=24, max_features=sqrt, min_samples_leaf=2, min_samples_split=2, n_estimators=56; total time=   2.0s\n",
      "[CV] END bootstrap=True, max_depth=24, max_features=sqrt, min_samples_leaf=2, min_samples_split=2, n_estimators=56; total time=   2.1s\n",
      "[CV] END bootstrap=False, max_depth=10, max_features=sqrt, min_samples_leaf=1, min_samples_split=2, n_estimators=80; total time=   2.8s\n",
      "[CV] END bootstrap=False, max_depth=10, max_features=sqrt, min_samples_leaf=1, min_samples_split=2, n_estimators=80; total time=   3.0s\n",
      "[CV] END bootstrap=False, max_depth=10, max_features=sqrt, min_samples_leaf=1, min_samples_split=2, n_estimators=80; total time=   3.5s\n",
      "[CV] END bootstrap=False, max_depth=8, max_features=auto, min_samples_leaf=1, min_samples_split=5, n_estimators=41; total time=   1.5s\n",
      "[CV] END bootstrap=True, max_depth=8, max_features=auto, min_samples_leaf=2, min_samples_split=2, n_estimators=48; total time=   1.3s\n",
      "[CV] END bootstrap=True, max_depth=8, max_features=auto, min_samples_leaf=2, min_samples_split=2, n_estimators=48; total time=   1.2s\n",
      "[CV] END bootstrap=True, max_depth=8, max_features=auto, min_samples_leaf=2, min_samples_split=2, n_estimators=48; total time=   1.3s\n",
      "[CV] END bootstrap=False, max_depth=24, max_features=sqrt, min_samples_leaf=2, min_samples_split=5, n_estimators=48; total time=   2.0s\n",
      "[CV] END bootstrap=False, max_depth=24, max_features=sqrt, min_samples_leaf=2, min_samples_split=5, n_estimators=48; total time=   2.2s\n",
      "[CV] END bootstrap=False, max_depth=24, max_features=sqrt, min_samples_leaf=2, min_samples_split=5, n_estimators=48; total time=   2.8s\n",
      "[CV] END bootstrap=False, max_depth=10, max_features=auto, min_samples_leaf=2, min_samples_split=5, n_estimators=80; total time=   3.4s\n",
      "[CV] END bootstrap=False, max_depth=10, max_features=auto, min_samples_leaf=2, min_samples_split=5, n_estimators=80; total time=   2.5s\n",
      "[CV] END bootstrap=False, max_depth=16, max_features=auto, min_samples_leaf=1, min_samples_split=2, n_estimators=25; total time=   1.3s\n",
      "[CV] END bootstrap=False, max_depth=16, max_features=auto, min_samples_leaf=1, min_samples_split=2, n_estimators=25; total time=   1.4s\n",
      "[CV] END bootstrap=True, max_depth=24, max_features=auto, min_samples_leaf=1, min_samples_split=2, n_estimators=25; total time=   1.1s\n",
      "[CV] END bootstrap=True, max_depth=24, max_features=auto, min_samples_leaf=1, min_samples_split=2, n_estimators=25; total time=   1.3s\n",
      "[CV] END bootstrap=True, max_depth=24, max_features=auto, min_samples_leaf=1, min_samples_split=2, n_estimators=25; total time=   1.3s\n",
      "[CV] END bootstrap=True, max_depth=8, max_features=sqrt, min_samples_leaf=1, min_samples_split=2, n_estimators=80; total time=   3.0s\n",
      "[CV] END bootstrap=True, max_depth=8, max_features=sqrt, min_samples_leaf=1, min_samples_split=2, n_estimators=80; total time=   2.6s\n",
      "[CV] END bootstrap=True, max_depth=16, max_features=sqrt, min_samples_leaf=2, min_samples_split=2, n_estimators=25; total time=   1.4s\n",
      "[CV] END bootstrap=True, max_depth=16, max_features=sqrt, min_samples_leaf=2, min_samples_split=2, n_estimators=25; total time=   1.2s\n",
      "[CV] END bootstrap=True, max_depth=16, max_features=sqrt, min_samples_leaf=2, min_samples_split=2, n_estimators=25; total time=   1.3s\n",
      "[CV] END bootstrap=True, max_depth=24, max_features=sqrt, min_samples_leaf=2, min_samples_split=2, n_estimators=56; total time=   2.8s\n",
      "[CV] END bootstrap=True, max_depth=24, max_features=sqrt, min_samples_leaf=2, min_samples_split=2, n_estimators=56; total time=   3.0s\n",
      "[CV] END bootstrap=True, max_depth=24, max_features=sqrt, min_samples_leaf=2, min_samples_split=2, n_estimators=56; total time=   2.9s\n",
      "[CV] END bootstrap=False, max_depth=10, max_features=sqrt, min_samples_leaf=1, min_samples_split=2, n_estimators=80; total time=   4.7s\n",
      "[CV] END bootstrap=False, max_depth=10, max_features=sqrt, min_samples_leaf=1, min_samples_split=2, n_estimators=80; total time=   5.0s\n",
      "Train Accuracy - : 0.997\n",
      "Best score - : 0.966\n"
     ]
    },
    {
     "data": {
      "text/plain": [
       "{'n_estimators': 25,\n",
       " 'min_samples_split': 2,\n",
       " 'min_samples_leaf': 1,\n",
       " 'max_features': 'auto',\n",
       " 'max_depth': 16,\n",
       " 'bootstrap': False}"
      ]
     },
     "execution_count": 183,
     "metadata": {},
     "output_type": "execute_result"
    }
   ],
   "source": [
    "def upsample(features, target, repeat):\n",
    "    features_zeros = features[target == 0]\n",
    "    features_ones = features[target == 1]\n",
    "    target_zeros = target[target == 0]\n",
    "    target_ones = target[target == 1]\n",
    "\n",
    "    features_upsampled = pd.concat([features_zeros] + [features_ones] * repeat)\n",
    "    target_upsampled = pd.concat([target_zeros] + [target_ones] * repeat)\n",
    "    \n",
    "    features_upsampled, target_upsampled = shuffle(    \n",
    "    features_upsampled, target_upsampled, random_state=12345)\n",
    "    \n",
    "    return features_upsampled, target_upsampled\n",
    "\n",
    "features_upsampled, target_upsampled = upsample(features_train, target_train, 4)\n",
    "\n",
    "target_upsampled = target_upsampled.to_frame()\n",
    "print(target_upsampled.query('Exited == 0').count())\n",
    "print(target_upsampled.query('Exited == 1').count())\n",
    "\n",
    "rf_Model_upsample = RandomForestClassifier(random_state=12345)\n",
    "rf_RandomGrid_upsample = RandomizedSearchCV(estimator = rf_Model_upsample\n",
    "                                   , param_distributions = param_grid\n",
    "                                   , cv = 10\n",
    "                                   , verbose=2\n",
    "                                   , n_jobs = 4\n",
    "                                   , scoring='f1'\n",
    "                                   , random_state = 12345)\n",
    "\n",
    "rf_RandomGrid_upsample = rf_RandomGrid_upsample.fit(features_upsampled, np.ravel(target_upsampled))\n",
    "\n",
    "print (f'Train Accuracy - : {rf_RandomGrid_upsample.score(features_train, target_train):.3f}')\n",
    "print(f'Best score - : {rf_RandomGrid_upsample.best_score_:.3f}')\n",
    "\n",
    "rf_RandomGrid_upsample.best_params_"
   ]
  },
  {
   "cell_type": "markdown",
   "metadata": {},
   "source": [
    "Вывод:\n",
    "Параметры модели без учета дисбаланса классов:\n",
    "* Ф1 мера 0.577\n",
    "\n",
    "Параметры модели c учетом дисбаланса классов:\n",
    "* Ф1 мера 0.966\n",
    "\n",
    "То есть с помощью upsample добились повышения Ф1 меры на 0.389.\n",
    "\n",
    "Настройки модели:\n",
    "* 'n_estimators': 25;\n",
    "* 'min_samples_split': 2;\n",
    "* 'min_samples_leaf': 1;\n",
    "* 'max_features': 'auto';\n",
    "* 'max_depth': 16;\n",
    "* 'bootstrap': False."
   ]
  },
  {
   "cell_type": "markdown",
   "metadata": {},
   "source": [
    "### Вариант борьбы с разностью весов с помощью downsample"
   ]
  },
  {
   "cell_type": "code",
   "execution_count": 184,
   "metadata": {},
   "outputs": [
    {
     "name": "stdout",
     "output_type": "stream",
     "text": [
      "Exited    1357\n",
      "dtype: int64\n",
      "Exited    1390\n",
      "dtype: int64\n",
      "Fitting 10 folds for each of 10 candidates, totalling 100 fits\n",
      "Train Accuracy - : 0.645\n",
      "Best score - : 0.773\n"
     ]
    },
    {
     "data": {
      "text/plain": [
       "{'n_estimators': 80,\n",
       " 'min_samples_split': 2,\n",
       " 'min_samples_leaf': 1,\n",
       " 'max_features': 'sqrt',\n",
       " 'max_depth': 8,\n",
       " 'bootstrap': True}"
      ]
     },
     "execution_count": 184,
     "metadata": {},
     "output_type": "execute_result"
    }
   ],
   "source": [
    "def downsample(features, target, fraction):\n",
    "    features_zeros = features[target == 0]\n",
    "    features_ones = features[target == 1]\n",
    "    target_zeros = target[target == 0]\n",
    "    target_ones = target[target == 1]\n",
    "\n",
    "    features_downsampled = pd.concat(\n",
    "        [features_zeros.sample(frac=fraction, random_state=12345)] + [features_ones])\n",
    "    target_downsampled = pd.concat(\n",
    "        [target_zeros.sample(frac=fraction, random_state=12345)] + [target_ones])\n",
    "    \n",
    "    features_downsampled, target_downsampled = shuffle(\n",
    "        features_downsampled, target_downsampled, random_state=12345)\n",
    "    \n",
    "    return features_downsampled, target_downsampled\n",
    "\n",
    "features_downsampled, target_downsampled = downsample(features_train, target_train, 0.25)\n",
    "\n",
    "target_downsampled = target_downsampled.to_frame()\n",
    "print(target_downsampled.query('Exited == 0').count())\n",
    "print(target_downsampled.query('Exited == 1').count())\n",
    "\n",
    "rf_Model_downsample = RandomForestClassifier(random_state=12345)\n",
    "rf_RandomGrid_downsample = RandomizedSearchCV(estimator = rf_Model_downsample\n",
    "                                   , param_distributions = param_grid\n",
    "                                   , cv = 10\n",
    "                                   , verbose=2\n",
    "                                   , n_jobs = 4\n",
    "                                   , scoring='f1'\n",
    "                                   , random_state = 12345)\n",
    "\n",
    "rf_RandomGrid_downsample = rf_RandomGrid_downsample.fit(features_downsampled, np.ravel(target_downsampled))\n",
    "\n",
    "print (f'Train Accuracy - : {rf_RandomGrid_downsample.score(features_train, target_train):.3f}')\n",
    "print(f'Best score - : {rf_RandomGrid_downsample.best_score_:.3f}')\n",
    "\n",
    "rf_RandomGrid_downsample.best_params_"
   ]
  },
  {
   "cell_type": "markdown",
   "metadata": {},
   "source": [
    "Вывод:\n",
    "Параметры модели без учета дисбаланса классов:\n",
    "* Ф1 мера 0.577\n",
    "\n",
    "Параметры модели c учетом дисбаланса классов:\n",
    "* Ф1 мера 0.594\n",
    "\n",
    "То есть с помощью downsample добились повышения Ф1 меры на 0.017.\n",
    "\n",
    "Настройки модели:\n",
    "* 'n_estimators': 80;\n",
    "* 'min_samples_split': 2;\n",
    "* 'min_samples_leaf': 1;\n",
    "* 'max_features': 'sqrt';\n",
    "* 'max_depth': 8;\n",
    "* 'bootstrap': True."
   ]
  },
  {
   "cell_type": "markdown",
   "metadata": {},
   "source": [
    "### Вывод"
   ]
  },
  {
   "cell_type": "markdown",
   "metadata": {},
   "source": [
    "**Вариант борьбы с разностью весов с помощью class_weight='balanced'**<br>\n",
    "Параметры модели без учета дисбаланса классов:\n",
    "* Ф1 мера 0.577\n",
    "\n",
    "Параметры модели c учетом дисбаланса классов:\n",
    "* Ф1 мера 0.617\n",
    "\n",
    "C помощью class_weight='balanced' добились повышения Ф1 меры на 0.040.\n",
    "\n",
    "Настройки модели:\n",
    "* 'n_estimators': 80;\n",
    "* 'min_samples_split': 2;\n",
    "* 'min_samples_leaf': 1;\n",
    "* 'max_features': 'sqrt';\n",
    "* 'max_depth': 10;\n",
    "* 'bootstrap': False.\n",
    "\n",
    "**Вариант борьбы с разностью весов с помощью upsample**<br>\n",
    "Параметры модели без учета дисбаланса классов:\n",
    "* Ф1 мера 0.577\n",
    "\n",
    "Параметры модели c учетом дисбаланса классов:\n",
    "* Ф1 мера 0.966\n",
    "\n",
    "C помощью upsample добились повышения Ф1 меры на 0.389.\n",
    "\n",
    "Настройки модели:\n",
    "* 'n_estimators': 25;\n",
    "* 'min_samples_split': 2;\n",
    "* 'min_samples_leaf': 1;\n",
    "* 'max_features': 'auto';\n",
    "* 'max_depth': 16;\n",
    "* 'bootstrap': False.\n",
    "\n",
    "**Вариант борьбы с разностью весов с помощью downsample**<br>\n",
    "Параметры модели без учета дисбаланса классов:\n",
    "* Ф1 мера 0.577\n",
    "\n",
    "Параметры модели c учетом дисбаланса классов:\n",
    "* Ф1 мера 0.594\n",
    "\n",
    "C помощью downsample добились повышения Ф1 меры на 0.017.\n",
    "\n",
    "Настройки модели:\n",
    "* 'n_estimators': 80;\n",
    "* 'min_samples_split': 2;\n",
    "* 'min_samples_leaf': 1;\n",
    "* 'max_features': 'sqrt';\n",
    "* 'max_depth': 8;\n",
    "* 'bootstrap': True."
   ]
  },
  {
   "cell_type": "markdown",
   "metadata": {},
   "source": [
    "## Тестирование модели"
   ]
  },
  {
   "cell_type": "markdown",
   "metadata": {},
   "source": [
    "Для тестирования взяли лучшую модель с вариантом борьбы с разностью весов с помощью upsample"
   ]
  },
  {
   "cell_type": "code",
   "execution_count": 185,
   "metadata": {},
   "outputs": [
    {
     "name": "stdout",
     "output_type": "stream",
     "text": [
      "[[1688  121]\n",
      " [ 211  253]]\n",
      "Точность предсказания 0.8539375274967004\n",
      "Полнота 0.5452586206896551\n",
      "Точность 0.6764705882352942\n",
      "F1 мера 0.6038186157517901\n",
      "auc_roc: 0.8414399506299919\n"
     ]
    }
   ],
   "source": [
    "predicted_test = rf_RandomGrid_upsample.predict(features_test)\n",
    "\n",
    "probabilities_test = rf_RandomGrid_upsample.predict_proba(features_test)\n",
    "probabilities_one_test = probabilities_test[:, 1]\n",
    "auc_roc = roc_auc_score(target_test, probabilities_one_test)\n",
    "\n",
    "print(confusion_matrix(target_test, predicted_test))\n",
    "print(\"Точность предсказания\", accuracy_score(target_test, predicted_test)) \n",
    "print(\"Полнота\", recall_score(target_test, predicted_test))\n",
    "print(\"Точность\", precision_score(target_test, predicted_test))\n",
    "print(\"F1 мера\", f1_score(target_test, predicted_test))\n",
    "print(\"auc_roc:\", auc_roc)"
   ]
  },
  {
   "cell_type": "markdown",
   "metadata": {},
   "source": [
    "## Вывод"
   ]
  },
  {
   "cell_type": "markdown",
   "metadata": {},
   "source": [
    "**1) Подготовка данных**<br>\n",
    "* Отсутствующие значения в колонке Tenure удаляем так как их замена не известным образом повлияет на ход исследования;\n",
    "* Колонки RowNumber, CustomerId, Surname удалены, так как не влияют на уход клиента из банка\n",
    "* Текстовые колонки перевели в цифровые с помощью get_dummies();\n",
    "* Проведено масштабирование данных с помощью метода StandardScaler;\n",
    "* Датасет разделен на две выборки обучающую и тестовую:\n",
    "    * features_train - target_train;\n",
    "    * features_test - target_test.\n",
    "    \n",
    "**2) Исследование задачи**<br>\n",
    "* Обученная модель RandomForestClassifier выводит 82 ложноположительных и 235 истинно положительных, что говорит о том, что прогноз класса 1 не удался;\n",
    "* Один класс составляет 80%, тогда как второй 20%, что говорит о том что у нас в данных дисбаланс классов.\n",
    "* На тестовой модели RandomForestClassifier получили значение AUC_ROC: 0.862, что говорит о том что наша модель сильно отличается в лучшую сторону от случайной модели так как у нее AUC_ROC: 0.5.\n",
    "* На модели DecisionTree без учета дисбаланса классов с помощью grid_search_cv получили лучший показатель 0.566 со следующими параметрами:\n",
    "    * max_depth=16;\n",
    "    * max_leaf_nodes=99;\n",
    "    * min_samples_split=4.\n",
    "* На модели RandomForest без учета дисбаланса классов с помощью RandomizedSearchCV получили лучший показатель 0.577 со следующими параметрами:\n",
    "    * 'n_estimators': 25;\n",
    "    * 'min_samples_split': 2;\n",
    "    * 'min_samples_leaf': 1;\n",
    "    * 'max_features': 'auto';\n",
    "    * 'max_depth': 16;\n",
    "    * 'bootstrap': False.\n",
    "* На модели LogisticRegression без учета дисбаланса классов с помощью grid_search_cv получили лучший показатель 0.297 со следующими параметрами:\n",
    "    * 'C': 1.0;\n",
    "    * 'penalty': 'l1';\n",
    "    * 'solver': 'liblinear'.\n",
    "* При этом на базовой модели получили F1 меру 0.339, что говорит о том, что наши модели не сильно отличаются от базовой модели.\n",
    "\n",
    "**3) Борьба с дисбалансом**<br>\n",
    "**Вариант борьбы с разностью весов с помощью class_weight='balanced'**<br>\n",
    "* C помощью class_weight='balanced' добились повышения Ф1 меры на 0.040.\n",
    "\n",
    "**Вариант борьбы с разностью весов с помощью upsample**<br>\n",
    "* C помощью upsample добились повышения Ф1 меры на 0.389.\n",
    "\n",
    "**Вариант борьбы с разностью весов с помощью downsample**<br>\n",
    "* C помощью downsample добились повышения Ф1 меры на 0.017.\n",
    "\n",
    "**4) Тестирование модели**<br>\n",
    "На тестовой модели получили следующие параметры:\n",
    "* Точность предсказания - 0.854;\n",
    "* Полнота - 0.545;\n",
    "* Точность - 0.676;\n",
    "* F1 мера - 0.603;\n",
    "* auc_roc - 0.841."
   ]
  }
 ],
 "metadata": {
  "ExecuteTimeLog": [
   {
    "duration": 1723,
    "start_time": "2022-05-05T18:07:02.236Z"
   },
   {
    "duration": 25,
    "start_time": "2022-05-05T18:07:10.544Z"
   },
   {
    "duration": 100,
    "start_time": "2022-05-05T18:07:13.522Z"
   },
   {
    "duration": 34,
    "start_time": "2022-05-05T18:08:30.837Z"
   },
   {
    "duration": 49,
    "start_time": "2022-05-05T18:08:35.953Z"
   },
   {
    "duration": 20,
    "start_time": "2022-05-05T18:17:08.437Z"
   },
   {
    "duration": 18,
    "start_time": "2022-05-05T18:17:12.877Z"
   },
   {
    "duration": 31,
    "start_time": "2022-05-05T18:17:21.696Z"
   },
   {
    "duration": 20,
    "start_time": "2022-05-05T18:18:04.003Z"
   },
   {
    "duration": 17,
    "start_time": "2022-05-05T18:18:18.002Z"
   },
   {
    "duration": 32,
    "start_time": "2022-05-05T18:19:52.591Z"
   },
   {
    "duration": 42,
    "start_time": "2022-05-05T18:20:56.075Z"
   },
   {
    "duration": 17,
    "start_time": "2022-05-05T18:22:43.858Z"
   },
   {
    "duration": 22,
    "start_time": "2022-05-05T18:23:00.585Z"
   },
   {
    "duration": 6,
    "start_time": "2022-05-05T18:24:39.164Z"
   },
   {
    "duration": 20,
    "start_time": "2022-05-05T18:24:52.289Z"
   },
   {
    "duration": 2484,
    "start_time": "2022-05-05T18:29:59.896Z"
   },
   {
    "duration": 40,
    "start_time": "2022-05-05T18:30:16.483Z"
   },
   {
    "duration": 38,
    "start_time": "2022-05-05T18:35:42.471Z"
   },
   {
    "duration": 11,
    "start_time": "2022-05-05T18:36:00.634Z"
   },
   {
    "duration": 44,
    "start_time": "2022-05-05T18:36:04.215Z"
   },
   {
    "duration": 12,
    "start_time": "2022-05-05T18:44:34.117Z"
   },
   {
    "duration": 48,
    "start_time": "2022-05-05T18:44:49.498Z"
   },
   {
    "duration": 25,
    "start_time": "2022-05-05T18:44:51.895Z"
   },
   {
    "duration": 27,
    "start_time": "2022-05-05T18:44:52.049Z"
   },
   {
    "duration": 52,
    "start_time": "2022-05-05T18:44:52.199Z"
   },
   {
    "duration": 7,
    "start_time": "2022-05-05T18:44:52.358Z"
   },
   {
    "duration": 19,
    "start_time": "2022-05-05T18:44:52.511Z"
   },
   {
    "duration": 68,
    "start_time": "2022-05-05T18:44:52.673Z"
   },
   {
    "duration": 35,
    "start_time": "2022-05-05T18:44:53.445Z"
   },
   {
    "duration": 50,
    "start_time": "2022-05-05T18:45:19.834Z"
   },
   {
    "duration": 36,
    "start_time": "2022-05-05T18:45:27.127Z"
   },
   {
    "duration": 2860,
    "start_time": "2022-05-05T18:48:25.444Z"
   },
   {
    "duration": 3135,
    "start_time": "2022-05-05T18:48:34.721Z"
   },
   {
    "duration": 24,
    "start_time": "2022-05-05T19:08:30.558Z"
   },
   {
    "duration": 29,
    "start_time": "2022-05-05T19:09:33.964Z"
   },
   {
    "duration": 2719,
    "start_time": "2022-05-05T19:09:51.607Z"
   },
   {
    "duration": 24,
    "start_time": "2022-05-05T19:10:28.563Z"
   },
   {
    "duration": 54,
    "start_time": "2022-05-05T19:10:59.883Z"
   },
   {
    "duration": 1169,
    "start_time": "2022-05-05T19:11:52.538Z"
   },
   {
    "duration": 1121,
    "start_time": "2022-05-05T19:12:08.035Z"
   },
   {
    "duration": 132,
    "start_time": "2022-05-05T19:21:57.816Z"
   },
   {
    "duration": 121,
    "start_time": "2022-05-05T19:22:02.138Z"
   },
   {
    "duration": 38,
    "start_time": "2022-05-05T19:22:10.949Z"
   },
   {
    "duration": 155,
    "start_time": "2022-05-05T19:22:12.759Z"
   },
   {
    "duration": 57,
    "start_time": "2022-05-05T19:29:04.680Z"
   },
   {
    "duration": 80,
    "start_time": "2022-05-05T19:29:10.636Z"
   },
   {
    "duration": 58,
    "start_time": "2022-05-05T19:30:03.426Z"
   },
   {
    "duration": 37,
    "start_time": "2022-05-05T19:31:56.743Z"
   },
   {
    "duration": 56,
    "start_time": "2022-05-05T19:32:03.874Z"
   },
   {
    "duration": 42,
    "start_time": "2022-05-05T19:32:20.206Z"
   },
   {
    "duration": 12,
    "start_time": "2022-05-05T19:32:30.735Z"
   },
   {
    "duration": 25,
    "start_time": "2022-05-05T19:32:38.798Z"
   },
   {
    "duration": 21,
    "start_time": "2022-05-05T19:32:45.239Z"
   },
   {
    "duration": 35,
    "start_time": "2022-05-05T19:41:58.032Z"
   },
   {
    "duration": 1542,
    "start_time": "2022-05-05T19:45:21.388Z"
   },
   {
    "duration": 1133,
    "start_time": "2022-05-05T19:45:27.994Z"
   },
   {
    "duration": 789,
    "start_time": "2022-05-05T19:46:04.253Z"
   },
   {
    "duration": 13,
    "start_time": "2022-05-05T19:46:10.125Z"
   },
   {
    "duration": 7,
    "start_time": "2022-05-05T19:47:45.708Z"
   },
   {
    "duration": 42,
    "start_time": "2022-05-05T19:48:15.234Z"
   },
   {
    "duration": 95,
    "start_time": "2022-05-05T19:48:15.287Z"
   },
   {
    "duration": 12,
    "start_time": "2022-05-05T19:48:15.385Z"
   },
   {
    "duration": 27,
    "start_time": "2022-05-05T19:48:15.400Z"
   },
   {
    "duration": 7,
    "start_time": "2022-05-05T19:48:15.477Z"
   },
   {
    "duration": 15,
    "start_time": "2022-05-05T19:48:56.118Z"
   },
   {
    "duration": 27,
    "start_time": "2022-05-05T19:56:49.301Z"
   },
   {
    "duration": 7,
    "start_time": "2022-05-05T19:57:55.811Z"
   },
   {
    "duration": 21,
    "start_time": "2022-05-05T19:57:56.061Z"
   },
   {
    "duration": 24,
    "start_time": "2022-05-05T19:57:59.276Z"
   },
   {
    "duration": 29,
    "start_time": "2022-05-05T19:58:00.104Z"
   },
   {
    "duration": 26,
    "start_time": "2022-05-05T19:58:10.040Z"
   },
   {
    "duration": 1958,
    "start_time": "2022-05-08T10:18:26.586Z"
   },
   {
    "duration": 81,
    "start_time": "2022-05-08T10:18:28.546Z"
   },
   {
    "duration": 65,
    "start_time": "2022-05-08T10:18:36.920Z"
   },
   {
    "duration": 11,
    "start_time": "2022-05-08T10:18:39.351Z"
   },
   {
    "duration": 5,
    "start_time": "2022-05-08T10:19:05.501Z"
   },
   {
    "duration": 10,
    "start_time": "2022-05-08T10:19:05.832Z"
   },
   {
    "duration": 19,
    "start_time": "2022-05-08T10:19:06.241Z"
   },
   {
    "duration": 13,
    "start_time": "2022-05-08T10:19:06.466Z"
   },
   {
    "duration": 28,
    "start_time": "2022-05-08T10:54:06.594Z"
   },
   {
    "duration": 52,
    "start_time": "2022-05-08T10:54:07.519Z"
   },
   {
    "duration": 7,
    "start_time": "2022-05-08T10:54:07.972Z"
   },
   {
    "duration": 10,
    "start_time": "2022-05-08T10:54:08.127Z"
   },
   {
    "duration": 4,
    "start_time": "2022-05-08T10:54:08.774Z"
   },
   {
    "duration": 10,
    "start_time": "2022-05-08T10:54:08.942Z"
   },
   {
    "duration": 18,
    "start_time": "2022-05-08T10:54:09.463Z"
   },
   {
    "duration": 12,
    "start_time": "2022-05-08T10:54:09.656Z"
   },
   {
    "duration": 6,
    "start_time": "2022-05-08T10:55:20.192Z"
   },
   {
    "duration": 9,
    "start_time": "2022-05-08T10:58:57.240Z"
   },
   {
    "duration": 151,
    "start_time": "2022-05-08T10:59:08.365Z"
   },
   {
    "duration": 37,
    "start_time": "2022-05-08T10:59:26.137Z"
   },
   {
    "duration": 36,
    "start_time": "2022-05-08T10:59:33.275Z"
   },
   {
    "duration": 61,
    "start_time": "2022-05-08T10:59:33.313Z"
   },
   {
    "duration": 30,
    "start_time": "2022-05-08T10:59:33.375Z"
   },
   {
    "duration": 12,
    "start_time": "2022-05-08T10:59:33.407Z"
   },
   {
    "duration": 4,
    "start_time": "2022-05-08T10:59:33.421Z"
   },
   {
    "duration": 17,
    "start_time": "2022-05-08T10:59:33.427Z"
   },
   {
    "duration": 23,
    "start_time": "2022-05-08T10:59:33.445Z"
   },
   {
    "duration": 12,
    "start_time": "2022-05-08T10:59:33.470Z"
   },
   {
    "duration": 7,
    "start_time": "2022-05-08T10:59:33.500Z"
   },
   {
    "duration": 11,
    "start_time": "2022-05-08T10:59:33.509Z"
   },
   {
    "duration": 809,
    "start_time": "2022-05-08T10:59:33.522Z"
   },
   {
    "duration": 11,
    "start_time": "2022-05-08T11:00:56.977Z"
   },
   {
    "duration": 6,
    "start_time": "2022-05-08T11:01:05.851Z"
   },
   {
    "duration": 5,
    "start_time": "2022-05-08T11:01:30.383Z"
   },
   {
    "duration": 23,
    "start_time": "2022-05-08T11:02:37.762Z"
   },
   {
    "duration": 518,
    "start_time": "2022-05-08T11:02:43.391Z"
   },
   {
    "duration": 59,
    "start_time": "2022-05-08T11:02:43.911Z"
   },
   {
    "duration": 29,
    "start_time": "2022-05-08T11:02:43.972Z"
   },
   {
    "duration": 11,
    "start_time": "2022-05-08T11:02:44.003Z"
   },
   {
    "duration": 4,
    "start_time": "2022-05-08T11:02:44.016Z"
   },
   {
    "duration": 11,
    "start_time": "2022-05-08T11:02:44.022Z"
   },
   {
    "duration": 19,
    "start_time": "2022-05-08T11:02:44.035Z"
   },
   {
    "duration": 13,
    "start_time": "2022-05-08T11:02:44.055Z"
   },
   {
    "duration": 37,
    "start_time": "2022-05-08T11:02:44.069Z"
   },
   {
    "duration": 11,
    "start_time": "2022-05-08T11:02:44.108Z"
   },
   {
    "duration": 780,
    "start_time": "2022-05-08T11:02:44.120Z"
   },
   {
    "duration": 343,
    "start_time": "2022-05-08T11:02:44.902Z"
   },
   {
    "duration": 6,
    "start_time": "2022-05-08T11:10:34.716Z"
   },
   {
    "duration": 3,
    "start_time": "2022-05-08T11:10:37.494Z"
   },
   {
    "duration": 22,
    "start_time": "2022-05-08T11:10:38.683Z"
   },
   {
    "duration": 37,
    "start_time": "2022-05-08T11:11:43.994Z"
   },
   {
    "duration": 92,
    "start_time": "2022-05-08T11:11:44.034Z"
   },
   {
    "duration": 10,
    "start_time": "2022-05-08T11:11:44.128Z"
   },
   {
    "duration": 14,
    "start_time": "2022-05-08T11:11:44.141Z"
   },
   {
    "duration": 5,
    "start_time": "2022-05-08T11:11:44.157Z"
   },
   {
    "duration": 41,
    "start_time": "2022-05-08T11:11:44.163Z"
   },
   {
    "duration": 31,
    "start_time": "2022-05-08T11:11:44.206Z"
   },
   {
    "duration": 18,
    "start_time": "2022-05-08T11:11:44.239Z"
   },
   {
    "duration": 11,
    "start_time": "2022-05-08T11:11:44.259Z"
   },
   {
    "duration": 28,
    "start_time": "2022-05-08T11:11:44.272Z"
   },
   {
    "duration": 1140,
    "start_time": "2022-05-08T11:11:44.302Z"
   },
   {
    "duration": 569,
    "start_time": "2022-05-08T11:11:45.443Z"
   },
   {
    "duration": 1175,
    "start_time": "2022-05-08T11:11:46.014Z"
   },
   {
    "duration": 11,
    "start_time": "2022-05-08T11:11:47.191Z"
   },
   {
    "duration": 8,
    "start_time": "2022-05-08T11:11:47.204Z"
   },
   {
    "duration": 13,
    "start_time": "2022-05-08T11:11:47.214Z"
   },
   {
    "duration": 638127,
    "start_time": "2022-05-08T11:11:47.229Z"
   },
   {
    "duration": 4,
    "start_time": "2022-05-08T11:22:25.359Z"
   },
   {
    "duration": 74,
    "start_time": "2022-05-08T11:22:25.365Z"
   },
   {
    "duration": 54,
    "start_time": "2022-05-08T11:22:55.547Z"
   },
   {
    "duration": 12,
    "start_time": "2022-05-08T11:23:48.323Z"
   },
   {
    "duration": 41,
    "start_time": "2022-05-08T11:24:03.754Z"
   },
   {
    "duration": 30,
    "start_time": "2022-05-08T11:24:19.448Z"
   },
   {
    "duration": 62,
    "start_time": "2022-05-08T11:24:19.480Z"
   },
   {
    "duration": 7,
    "start_time": "2022-05-08T11:24:19.543Z"
   },
   {
    "duration": 15,
    "start_time": "2022-05-08T11:24:19.552Z"
   },
   {
    "duration": 6,
    "start_time": "2022-05-08T11:24:19.568Z"
   },
   {
    "duration": 28,
    "start_time": "2022-05-08T11:24:19.575Z"
   },
   {
    "duration": 27,
    "start_time": "2022-05-08T11:24:19.605Z"
   },
   {
    "duration": 17,
    "start_time": "2022-05-08T11:24:19.634Z"
   },
   {
    "duration": 7,
    "start_time": "2022-05-08T11:24:19.653Z"
   },
   {
    "duration": 14,
    "start_time": "2022-05-08T11:24:19.663Z"
   },
   {
    "duration": 783,
    "start_time": "2022-05-08T11:24:19.679Z"
   },
   {
    "duration": 330,
    "start_time": "2022-05-08T11:24:20.464Z"
   },
   {
    "duration": 1535,
    "start_time": "2022-05-08T11:24:20.800Z"
   },
   {
    "duration": 7,
    "start_time": "2022-05-08T11:24:22.337Z"
   },
   {
    "duration": 8,
    "start_time": "2022-05-08T11:24:22.345Z"
   },
   {
    "duration": 4,
    "start_time": "2022-05-08T11:24:22.355Z"
   },
   {
    "duration": 11,
    "start_time": "2022-05-08T11:24:22.361Z"
   },
   {
    "duration": 26,
    "start_time": "2022-05-08T11:24:22.374Z"
   },
   {
    "duration": 0,
    "start_time": "2022-05-08T11:24:22.402Z"
   },
   {
    "duration": 0,
    "start_time": "2022-05-08T11:24:22.403Z"
   },
   {
    "duration": 2,
    "start_time": "2022-05-08T11:24:31.386Z"
   },
   {
    "duration": 15,
    "start_time": "2022-05-08T11:24:31.618Z"
   },
   {
    "duration": 38,
    "start_time": "2022-05-08T11:24:32.012Z"
   },
   {
    "duration": 3,
    "start_time": "2022-05-08T11:24:39.599Z"
   },
   {
    "duration": 37,
    "start_time": "2022-05-08T11:24:40.057Z"
   },
   {
    "duration": 37,
    "start_time": "2022-05-08T11:25:04.757Z"
   },
   {
    "duration": 77,
    "start_time": "2022-05-08T11:25:04.796Z"
   },
   {
    "duration": 10,
    "start_time": "2022-05-08T11:25:04.875Z"
   },
   {
    "duration": 27,
    "start_time": "2022-05-08T11:25:04.887Z"
   },
   {
    "duration": 5,
    "start_time": "2022-05-08T11:25:04.917Z"
   },
   {
    "duration": 20,
    "start_time": "2022-05-08T11:25:04.924Z"
   },
   {
    "duration": 28,
    "start_time": "2022-05-08T11:25:04.946Z"
   },
   {
    "duration": 34,
    "start_time": "2022-05-08T11:25:04.975Z"
   },
   {
    "duration": 7,
    "start_time": "2022-05-08T11:25:05.011Z"
   },
   {
    "duration": 10,
    "start_time": "2022-05-08T11:25:05.021Z"
   },
   {
    "duration": 815,
    "start_time": "2022-05-08T11:25:05.032Z"
   },
   {
    "duration": 337,
    "start_time": "2022-05-08T11:25:05.849Z"
   },
   {
    "duration": 1177,
    "start_time": "2022-05-08T11:25:06.187Z"
   },
   {
    "duration": 5,
    "start_time": "2022-05-08T11:25:07.366Z"
   },
   {
    "duration": 7,
    "start_time": "2022-05-08T11:25:07.373Z"
   },
   {
    "duration": 4,
    "start_time": "2022-05-08T11:25:07.382Z"
   },
   {
    "duration": 13,
    "start_time": "2022-05-08T11:25:07.388Z"
   },
   {
    "duration": 5,
    "start_time": "2022-05-08T11:25:07.402Z"
   },
   {
    "duration": 4,
    "start_time": "2022-05-08T11:25:07.409Z"
   },
   {
    "duration": 45,
    "start_time": "2022-05-08T11:25:07.414Z"
   },
   {
    "duration": 34,
    "start_time": "2022-05-08T11:26:20.895Z"
   },
   {
    "duration": 47,
    "start_time": "2022-05-08T11:27:37.652Z"
   },
   {
    "duration": 8,
    "start_time": "2022-05-08T11:28:21.818Z"
   },
   {
    "duration": 56,
    "start_time": "2022-05-08T11:28:59.256Z"
   },
   {
    "duration": 40,
    "start_time": "2022-05-08T11:29:23.967Z"
   },
   {
    "duration": 110,
    "start_time": "2022-05-08T11:29:24.010Z"
   },
   {
    "duration": 10,
    "start_time": "2022-05-08T11:29:24.122Z"
   },
   {
    "duration": 14,
    "start_time": "2022-05-08T11:29:24.134Z"
   },
   {
    "duration": 6,
    "start_time": "2022-05-08T11:29:24.150Z"
   },
   {
    "duration": 13,
    "start_time": "2022-05-08T11:29:24.158Z"
   },
   {
    "duration": 42,
    "start_time": "2022-05-08T11:29:24.173Z"
   },
   {
    "duration": 12,
    "start_time": "2022-05-08T11:29:24.217Z"
   },
   {
    "duration": 9,
    "start_time": "2022-05-08T11:29:24.231Z"
   },
   {
    "duration": 16,
    "start_time": "2022-05-08T11:29:24.243Z"
   },
   {
    "duration": 1159,
    "start_time": "2022-05-08T11:29:24.261Z"
   },
   {
    "duration": 668,
    "start_time": "2022-05-08T11:29:25.422Z"
   },
   {
    "duration": 1274,
    "start_time": "2022-05-08T11:29:26.101Z"
   },
   {
    "duration": 6,
    "start_time": "2022-05-08T11:29:27.377Z"
   },
   {
    "duration": 21,
    "start_time": "2022-05-08T11:29:27.385Z"
   },
   {
    "duration": 7,
    "start_time": "2022-05-08T11:29:27.409Z"
   },
   {
    "duration": 6,
    "start_time": "2022-05-08T11:29:27.418Z"
   },
   {
    "duration": 5,
    "start_time": "2022-05-08T11:29:27.426Z"
   },
   {
    "duration": 5,
    "start_time": "2022-05-08T11:29:27.433Z"
   },
   {
    "duration": 63,
    "start_time": "2022-05-08T11:29:27.441Z"
   },
   {
    "duration": 49,
    "start_time": "2022-05-08T11:30:17.721Z"
   },
   {
    "duration": 33,
    "start_time": "2022-05-08T11:30:39.080Z"
   },
   {
    "duration": 98,
    "start_time": "2022-05-08T11:30:39.115Z"
   },
   {
    "duration": 10,
    "start_time": "2022-05-08T11:30:39.216Z"
   },
   {
    "duration": 12,
    "start_time": "2022-05-08T11:30:39.228Z"
   },
   {
    "duration": 5,
    "start_time": "2022-05-08T11:30:39.242Z"
   },
   {
    "duration": 14,
    "start_time": "2022-05-08T11:30:39.248Z"
   },
   {
    "duration": 43,
    "start_time": "2022-05-08T11:30:39.264Z"
   },
   {
    "duration": 23,
    "start_time": "2022-05-08T11:30:39.309Z"
   },
   {
    "duration": 9,
    "start_time": "2022-05-08T11:30:39.334Z"
   },
   {
    "duration": 13,
    "start_time": "2022-05-08T11:30:39.347Z"
   },
   {
    "duration": 1075,
    "start_time": "2022-05-08T11:30:39.362Z"
   },
   {
    "duration": 488,
    "start_time": "2022-05-08T11:30:40.439Z"
   },
   {
    "duration": 1178,
    "start_time": "2022-05-08T11:30:40.929Z"
   },
   {
    "duration": 5,
    "start_time": "2022-05-08T11:30:42.108Z"
   },
   {
    "duration": 18,
    "start_time": "2022-05-08T11:30:42.116Z"
   },
   {
    "duration": 9,
    "start_time": "2022-05-08T11:30:42.135Z"
   },
   {
    "duration": 5,
    "start_time": "2022-05-08T11:30:42.145Z"
   },
   {
    "duration": 8,
    "start_time": "2022-05-08T11:30:42.152Z"
   },
   {
    "duration": 5,
    "start_time": "2022-05-08T11:30:42.162Z"
   },
   {
    "duration": 60,
    "start_time": "2022-05-08T11:30:42.169Z"
   },
   {
    "duration": 10,
    "start_time": "2022-05-08T11:35:51.669Z"
   },
   {
    "duration": 32,
    "start_time": "2022-05-08T11:36:13.466Z"
   },
   {
    "duration": 55,
    "start_time": "2022-05-08T11:36:13.500Z"
   },
   {
    "duration": 6,
    "start_time": "2022-05-08T11:36:13.557Z"
   },
   {
    "duration": 35,
    "start_time": "2022-05-08T11:36:13.565Z"
   },
   {
    "duration": 5,
    "start_time": "2022-05-08T11:36:13.601Z"
   },
   {
    "duration": 22,
    "start_time": "2022-05-08T11:36:13.608Z"
   },
   {
    "duration": 31,
    "start_time": "2022-05-08T11:36:13.632Z"
   },
   {
    "duration": 13,
    "start_time": "2022-05-08T11:36:13.664Z"
   },
   {
    "duration": 8,
    "start_time": "2022-05-08T11:36:13.679Z"
   },
   {
    "duration": 11,
    "start_time": "2022-05-08T11:36:13.689Z"
   },
   {
    "duration": 775,
    "start_time": "2022-05-08T11:36:13.702Z"
   },
   {
    "duration": 326,
    "start_time": "2022-05-08T11:36:14.478Z"
   },
   {
    "duration": 1164,
    "start_time": "2022-05-08T11:36:14.806Z"
   },
   {
    "duration": 4,
    "start_time": "2022-05-08T11:36:15.972Z"
   },
   {
    "duration": 7,
    "start_time": "2022-05-08T11:36:15.978Z"
   },
   {
    "duration": 2,
    "start_time": "2022-05-08T11:36:16.001Z"
   },
   {
    "duration": 6,
    "start_time": "2022-05-08T11:36:16.005Z"
   },
   {
    "duration": 4,
    "start_time": "2022-05-08T11:36:16.013Z"
   },
   {
    "duration": 5,
    "start_time": "2022-05-08T11:36:16.019Z"
   },
   {
    "duration": 44,
    "start_time": "2022-05-08T11:36:16.026Z"
   },
   {
    "duration": 46,
    "start_time": "2022-05-08T11:36:16.072Z"
   },
   {
    "duration": 42,
    "start_time": "2022-05-08T11:37:42.049Z"
   },
   {
    "duration": 38,
    "start_time": "2022-05-08T11:37:47.547Z"
   },
   {
    "duration": 38,
    "start_time": "2022-05-08T11:37:48.751Z"
   },
   {
    "duration": 67,
    "start_time": "2022-05-08T11:40:22.443Z"
   },
   {
    "duration": 19,
    "start_time": "2022-05-08T11:42:29.817Z"
   },
   {
    "duration": 28,
    "start_time": "2022-05-08T11:42:46.192Z"
   },
   {
    "duration": 54,
    "start_time": "2022-05-08T11:42:46.222Z"
   },
   {
    "duration": 7,
    "start_time": "2022-05-08T11:42:46.277Z"
   },
   {
    "duration": 11,
    "start_time": "2022-05-08T11:42:46.301Z"
   },
   {
    "duration": 3,
    "start_time": "2022-05-08T11:42:46.313Z"
   },
   {
    "duration": 14,
    "start_time": "2022-05-08T11:42:46.318Z"
   },
   {
    "duration": 18,
    "start_time": "2022-05-08T11:42:46.333Z"
   },
   {
    "duration": 12,
    "start_time": "2022-05-08T11:42:46.352Z"
   },
   {
    "duration": 6,
    "start_time": "2022-05-08T11:42:46.365Z"
   },
   {
    "duration": 33,
    "start_time": "2022-05-08T11:42:46.373Z"
   },
   {
    "duration": 776,
    "start_time": "2022-05-08T11:42:46.407Z"
   },
   {
    "duration": 328,
    "start_time": "2022-05-08T11:42:47.185Z"
   },
   {
    "duration": 1126,
    "start_time": "2022-05-08T11:42:47.514Z"
   },
   {
    "duration": 4,
    "start_time": "2022-05-08T11:42:48.642Z"
   },
   {
    "duration": 6,
    "start_time": "2022-05-08T11:42:48.648Z"
   },
   {
    "duration": 4,
    "start_time": "2022-05-08T11:42:48.656Z"
   },
   {
    "duration": 5,
    "start_time": "2022-05-08T11:42:48.662Z"
   },
   {
    "duration": 4,
    "start_time": "2022-05-08T11:42:48.668Z"
   },
   {
    "duration": 4,
    "start_time": "2022-05-08T11:42:48.673Z"
   },
   {
    "duration": 39,
    "start_time": "2022-05-08T11:42:48.699Z"
   },
   {
    "duration": 38,
    "start_time": "2022-05-08T11:42:48.740Z"
   },
   {
    "duration": 68,
    "start_time": "2022-05-08T11:42:48.780Z"
   },
   {
    "duration": 152,
    "start_time": "2022-05-08T11:42:48.849Z"
   },
   {
    "duration": 8,
    "start_time": "2022-05-08T11:44:03.886Z"
   },
   {
    "duration": 36,
    "start_time": "2022-05-08T11:44:09.218Z"
   },
   {
    "duration": 58,
    "start_time": "2022-05-08T11:44:09.257Z"
   },
   {
    "duration": 7,
    "start_time": "2022-05-08T11:44:09.316Z"
   },
   {
    "duration": 13,
    "start_time": "2022-05-08T11:44:09.325Z"
   },
   {
    "duration": 4,
    "start_time": "2022-05-08T11:44:09.339Z"
   },
   {
    "duration": 11,
    "start_time": "2022-05-08T11:44:09.345Z"
   },
   {
    "duration": 18,
    "start_time": "2022-05-08T11:44:09.358Z"
   },
   {
    "duration": 12,
    "start_time": "2022-05-08T11:44:09.399Z"
   },
   {
    "duration": 26,
    "start_time": "2022-05-08T11:44:09.413Z"
   },
   {
    "duration": 10,
    "start_time": "2022-05-08T11:44:09.442Z"
   },
   {
    "duration": 1109,
    "start_time": "2022-05-08T11:44:09.453Z"
   },
   {
    "duration": 508,
    "start_time": "2022-05-08T11:44:10.564Z"
   },
   {
    "duration": 1652,
    "start_time": "2022-05-08T11:44:11.074Z"
   },
   {
    "duration": 6,
    "start_time": "2022-05-08T11:44:12.728Z"
   },
   {
    "duration": 9,
    "start_time": "2022-05-08T11:44:12.736Z"
   },
   {
    "duration": 8,
    "start_time": "2022-05-08T11:44:12.746Z"
   },
   {
    "duration": 6,
    "start_time": "2022-05-08T11:44:12.755Z"
   },
   {
    "duration": 7,
    "start_time": "2022-05-08T11:44:12.762Z"
   },
   {
    "duration": 5,
    "start_time": "2022-05-08T11:44:12.770Z"
   },
   {
    "duration": 65,
    "start_time": "2022-05-08T11:44:12.777Z"
   },
   {
    "duration": 40,
    "start_time": "2022-05-08T11:44:12.844Z"
   },
   {
    "duration": 68,
    "start_time": "2022-05-08T11:44:12.886Z"
   },
   {
    "duration": 145,
    "start_time": "2022-05-08T11:44:12.956Z"
   },
   {
    "duration": 4,
    "start_time": "2022-05-08T11:44:13.103Z"
   },
   {
    "duration": 8,
    "start_time": "2022-05-08T11:47:43.320Z"
   },
   {
    "duration": 17,
    "start_time": "2022-05-08T12:16:04.256Z"
   },
   {
    "duration": 13,
    "start_time": "2022-05-08T12:16:56.538Z"
   },
   {
    "duration": 37,
    "start_time": "2022-05-08T12:17:04.287Z"
   },
   {
    "duration": 43,
    "start_time": "2022-05-08T12:19:44.655Z"
   },
   {
    "duration": 42,
    "start_time": "2022-05-08T12:20:11.438Z"
   },
   {
    "duration": 57,
    "start_time": "2022-05-08T12:20:11.482Z"
   },
   {
    "duration": 7,
    "start_time": "2022-05-08T12:20:11.540Z"
   },
   {
    "duration": 12,
    "start_time": "2022-05-08T12:20:11.549Z"
   },
   {
    "duration": 4,
    "start_time": "2022-05-08T12:20:11.562Z"
   },
   {
    "duration": 13,
    "start_time": "2022-05-08T12:20:11.568Z"
   },
   {
    "duration": 33,
    "start_time": "2022-05-08T12:20:11.583Z"
   },
   {
    "duration": 12,
    "start_time": "2022-05-08T12:20:11.618Z"
   },
   {
    "duration": 11,
    "start_time": "2022-05-08T12:20:11.631Z"
   },
   {
    "duration": 13,
    "start_time": "2022-05-08T12:20:11.645Z"
   },
   {
    "duration": 785,
    "start_time": "2022-05-08T12:20:11.659Z"
   },
   {
    "duration": 321,
    "start_time": "2022-05-08T12:20:12.446Z"
   },
   {
    "duration": 1106,
    "start_time": "2022-05-08T12:20:12.768Z"
   },
   {
    "duration": 4,
    "start_time": "2022-05-08T12:20:13.876Z"
   },
   {
    "duration": 6,
    "start_time": "2022-05-08T12:20:13.882Z"
   },
   {
    "duration": 3,
    "start_time": "2022-05-08T12:20:13.900Z"
   },
   {
    "duration": 8,
    "start_time": "2022-05-08T12:20:13.904Z"
   },
   {
    "duration": 8,
    "start_time": "2022-05-08T12:20:13.913Z"
   },
   {
    "duration": 5,
    "start_time": "2022-05-08T12:20:13.922Z"
   },
   {
    "duration": 42,
    "start_time": "2022-05-08T12:20:13.929Z"
   },
   {
    "duration": 46,
    "start_time": "2022-05-08T12:20:30.267Z"
   },
   {
    "duration": 41,
    "start_time": "2022-05-08T12:21:32.933Z"
   },
   {
    "duration": 42,
    "start_time": "2022-05-08T12:21:56.828Z"
   },
   {
    "duration": 14,
    "start_time": "2022-05-08T12:23:02.245Z"
   },
   {
    "duration": 6,
    "start_time": "2022-05-08T12:23:12.113Z"
   },
   {
    "duration": 6,
    "start_time": "2022-05-08T12:23:28.716Z"
   },
   {
    "duration": 6,
    "start_time": "2022-05-08T12:23:39.972Z"
   },
   {
    "duration": 7,
    "start_time": "2022-05-08T12:24:03.534Z"
   },
   {
    "duration": 7,
    "start_time": "2022-05-08T12:25:31.080Z"
   },
   {
    "duration": 6,
    "start_time": "2022-05-08T12:26:00.209Z"
   },
   {
    "duration": 5,
    "start_time": "2022-05-08T12:27:58.675Z"
   },
   {
    "duration": 5,
    "start_time": "2022-05-08T12:28:02.321Z"
   },
   {
    "duration": 2,
    "start_time": "2022-05-08T12:32:32.758Z"
   },
   {
    "duration": 3,
    "start_time": "2022-05-08T12:32:32.920Z"
   },
   {
    "duration": 11433,
    "start_time": "2022-05-08T12:32:34.379Z"
   },
   {
    "duration": 5,
    "start_time": "2022-05-08T12:32:49.284Z"
   },
   {
    "duration": 11,
    "start_time": "2022-05-08T12:32:49.558Z"
   },
   {
    "duration": 8,
    "start_time": "2022-05-08T12:33:10.076Z"
   },
   {
    "duration": 3,
    "start_time": "2022-05-08T12:33:54.020Z"
   },
   {
    "duration": 3,
    "start_time": "2022-05-08T12:33:54.167Z"
   },
   {
    "duration": 9704,
    "start_time": "2022-05-08T12:33:54.336Z"
   },
   {
    "duration": 3,
    "start_time": "2022-05-08T12:34:04.042Z"
   },
   {
    "duration": 7,
    "start_time": "2022-05-08T12:34:04.046Z"
   },
   {
    "duration": 3,
    "start_time": "2022-05-08T12:35:03.132Z"
   },
   {
    "duration": 3,
    "start_time": "2022-05-08T12:35:03.598Z"
   },
   {
    "duration": 12057,
    "start_time": "2022-05-08T12:35:03.823Z"
   },
   {
    "duration": 4,
    "start_time": "2022-05-08T12:35:15.882Z"
   },
   {
    "duration": 18,
    "start_time": "2022-05-08T12:35:15.887Z"
   },
   {
    "duration": 2,
    "start_time": "2022-05-08T12:35:19.650Z"
   },
   {
    "duration": 3,
    "start_time": "2022-05-08T12:35:19.816Z"
   },
   {
    "duration": 12057,
    "start_time": "2022-05-08T12:35:19.985Z"
   },
   {
    "duration": 4,
    "start_time": "2022-05-08T12:35:32.044Z"
   },
   {
    "duration": 15,
    "start_time": "2022-05-08T12:35:32.049Z"
   },
   {
    "duration": 12089,
    "start_time": "2022-05-08T12:36:19.269Z"
   },
   {
    "duration": 4,
    "start_time": "2022-05-08T12:36:31.360Z"
   },
   {
    "duration": 8,
    "start_time": "2022-05-08T12:36:31.365Z"
   },
   {
    "duration": 5,
    "start_time": "2022-05-08T12:37:02.380Z"
   },
   {
    "duration": 17,
    "start_time": "2022-05-08T12:37:02.789Z"
   },
   {
    "duration": 9,
    "start_time": "2022-05-08T12:41:40.768Z"
   },
   {
    "duration": 4,
    "start_time": "2022-05-08T12:41:44.697Z"
   },
   {
    "duration": 3,
    "start_time": "2022-05-08T12:41:44.857Z"
   },
   {
    "duration": 20718,
    "start_time": "2022-05-08T12:41:45.033Z"
   },
   {
    "duration": 16,
    "start_time": "2022-05-08T12:42:05.801Z"
   },
   {
    "duration": 22315,
    "start_time": "2022-05-08T12:42:27.702Z"
   },
   {
    "duration": 48,
    "start_time": "2022-05-08T12:42:52.791Z"
   },
   {
    "duration": 19148,
    "start_time": "2022-05-08T12:43:26.471Z"
   },
   {
    "duration": 37,
    "start_time": "2022-05-08T12:43:45.621Z"
   },
   {
    "duration": 3,
    "start_time": "2022-05-08T12:45:56.549Z"
   },
   {
    "duration": 3,
    "start_time": "2022-05-08T12:46:55.004Z"
   },
   {
    "duration": 3,
    "start_time": "2022-05-08T12:46:55.576Z"
   },
   {
    "duration": 366227,
    "start_time": "2022-05-08T12:46:56.531Z"
   },
   {
    "duration": 4,
    "start_time": "2022-05-08T12:53:02.759Z"
   },
   {
    "duration": 12,
    "start_time": "2022-05-08T12:57:57.931Z"
   },
   {
    "duration": 42,
    "start_time": "2022-05-08T12:58:41.493Z"
   },
   {
    "duration": 57,
    "start_time": "2022-05-08T12:58:41.537Z"
   },
   {
    "duration": 8,
    "start_time": "2022-05-08T12:58:41.601Z"
   },
   {
    "duration": 11,
    "start_time": "2022-05-08T12:58:41.612Z"
   },
   {
    "duration": 5,
    "start_time": "2022-05-08T12:58:41.624Z"
   },
   {
    "duration": 11,
    "start_time": "2022-05-08T12:58:41.630Z"
   },
   {
    "duration": 18,
    "start_time": "2022-05-08T12:58:41.643Z"
   },
   {
    "duration": 41,
    "start_time": "2022-05-08T12:58:41.663Z"
   },
   {
    "duration": 9,
    "start_time": "2022-05-08T12:58:41.706Z"
   },
   {
    "duration": 10,
    "start_time": "2022-05-08T12:58:41.717Z"
   },
   {
    "duration": 792,
    "start_time": "2022-05-08T12:58:41.728Z"
   },
   {
    "duration": 324,
    "start_time": "2022-05-08T12:58:42.521Z"
   },
   {
    "duration": 1117,
    "start_time": "2022-05-08T12:58:42.846Z"
   },
   {
    "duration": 5,
    "start_time": "2022-05-08T12:58:43.964Z"
   },
   {
    "duration": 7,
    "start_time": "2022-05-08T12:58:43.971Z"
   },
   {
    "duration": 5,
    "start_time": "2022-05-08T12:58:43.979Z"
   },
   {
    "duration": 3,
    "start_time": "2022-05-08T12:58:43.999Z"
   },
   {
    "duration": 4,
    "start_time": "2022-05-08T12:58:44.004Z"
   },
   {
    "duration": 4,
    "start_time": "2022-05-08T12:58:44.009Z"
   },
   {
    "duration": 42,
    "start_time": "2022-05-08T12:58:44.015Z"
   },
   {
    "duration": 5,
    "start_time": "2022-05-08T12:58:44.058Z"
   },
   {
    "duration": 65,
    "start_time": "2022-05-08T12:58:44.064Z"
   },
   {
    "duration": 72,
    "start_time": "2022-05-08T12:58:44.131Z"
   },
   {
    "duration": 108,
    "start_time": "2022-05-08T12:58:44.205Z"
   },
   {
    "duration": 87,
    "start_time": "2022-05-08T12:58:44.314Z"
   },
   {
    "duration": 9,
    "start_time": "2022-05-08T12:58:44.403Z"
   },
   {
    "duration": 6,
    "start_time": "2022-05-08T12:58:44.413Z"
   },
   {
    "duration": 9793,
    "start_time": "2022-05-08T12:58:44.422Z"
   },
   {
    "duration": 4,
    "start_time": "2022-05-08T12:58:54.217Z"
   },
   {
    "duration": 8,
    "start_time": "2022-05-08T12:58:54.223Z"
   },
   {
    "duration": 4,
    "start_time": "2022-05-08T12:58:54.232Z"
   },
   {
    "duration": 6,
    "start_time": "2022-05-08T12:58:54.238Z"
   },
   {
    "duration": 25985,
    "start_time": "2022-05-08T12:58:54.246Z"
   },
   {
    "duration": 44,
    "start_time": "2022-05-08T12:59:20.232Z"
   },
   {
    "duration": 3,
    "start_time": "2022-05-08T12:59:20.277Z"
   },
   {
    "duration": 23,
    "start_time": "2022-05-08T12:59:20.282Z"
   },
   {
    "duration": 22703,
    "start_time": "2022-05-08T12:59:20.306Z"
   },
   {
    "duration": 90,
    "start_time": "2022-05-08T12:59:43.011Z"
   },
   {
    "duration": 105,
    "start_time": "2022-05-08T12:59:43.105Z"
   },
   {
    "duration": 9,
    "start_time": "2022-05-08T12:59:53.973Z"
   },
   {
    "duration": 126,
    "start_time": "2022-05-08T12:59:54.640Z"
   },
   {
    "duration": 3,
    "start_time": "2022-05-08T13:00:12.655Z"
   },
   {
    "duration": 16,
    "start_time": "2022-05-08T13:09:30.639Z"
   },
   {
    "duration": 16,
    "start_time": "2022-05-08T13:10:54.465Z"
   },
   {
    "duration": 23,
    "start_time": "2022-05-08T13:12:15.303Z"
   },
   {
    "duration": 25,
    "start_time": "2022-05-08T13:13:37.829Z"
   },
   {
    "duration": 13,
    "start_time": "2022-05-08T13:21:16.573Z"
   },
   {
    "duration": 4,
    "start_time": "2022-05-08T13:21:23.618Z"
   },
   {
    "duration": 4,
    "start_time": "2022-05-08T13:21:27.477Z"
   },
   {
    "duration": 14,
    "start_time": "2022-05-08T13:21:54.337Z"
   },
   {
    "duration": 4,
    "start_time": "2022-05-08T13:21:57.666Z"
   },
   {
    "duration": 14,
    "start_time": "2022-05-08T13:22:18.316Z"
   },
   {
    "duration": 33,
    "start_time": "2022-05-08T13:22:35.940Z"
   },
   {
    "duration": 79,
    "start_time": "2022-05-08T13:22:35.975Z"
   },
   {
    "duration": 8,
    "start_time": "2022-05-08T13:22:36.056Z"
   },
   {
    "duration": 13,
    "start_time": "2022-05-08T13:22:36.067Z"
   },
   {
    "duration": 28,
    "start_time": "2022-05-08T13:22:36.081Z"
   },
   {
    "duration": 28,
    "start_time": "2022-05-08T13:22:36.113Z"
   },
   {
    "duration": 27,
    "start_time": "2022-05-08T13:22:36.143Z"
   },
   {
    "duration": 13,
    "start_time": "2022-05-08T13:22:36.172Z"
   },
   {
    "duration": 7,
    "start_time": "2022-05-08T13:22:36.187Z"
   },
   {
    "duration": 12,
    "start_time": "2022-05-08T13:22:39.760Z"
   },
   {
    "duration": 9,
    "start_time": "2022-05-08T13:22:53.993Z"
   },
   {
    "duration": 4,
    "start_time": "2022-05-08T13:22:58.790Z"
   },
   {
    "duration": 8,
    "start_time": "2022-05-08T13:23:25.569Z"
   },
   {
    "duration": 4,
    "start_time": "2022-05-08T13:23:26.372Z"
   },
   {
    "duration": 11,
    "start_time": "2022-05-08T13:23:48.159Z"
   },
   {
    "duration": 5,
    "start_time": "2022-05-08T13:23:48.775Z"
   },
   {
    "duration": 13,
    "start_time": "2022-05-08T13:23:58.099Z"
   },
   {
    "duration": 14,
    "start_time": "2022-05-08T13:25:05.050Z"
   },
   {
    "duration": 9,
    "start_time": "2022-05-08T13:25:13.285Z"
   },
   {
    "duration": 7,
    "start_time": "2022-05-08T13:25:15.614Z"
   },
   {
    "duration": 11,
    "start_time": "2022-05-08T13:25:18.952Z"
   },
   {
    "duration": 4,
    "start_time": "2022-05-08T13:25:24.453Z"
   },
   {
    "duration": 4,
    "start_time": "2022-05-08T13:25:33.840Z"
   },
   {
    "duration": 14,
    "start_time": "2022-05-08T13:25:36.990Z"
   },
   {
    "duration": 6,
    "start_time": "2022-05-08T13:25:39.132Z"
   },
   {
    "duration": 7,
    "start_time": "2022-05-08T13:25:41.314Z"
   },
   {
    "duration": 5,
    "start_time": "2022-05-08T13:25:55.083Z"
   },
   {
    "duration": 6,
    "start_time": "2022-05-08T13:25:58.917Z"
   },
   {
    "duration": 7,
    "start_time": "2022-05-08T13:26:02.597Z"
   },
   {
    "duration": 5,
    "start_time": "2022-05-08T13:26:10.689Z"
   },
   {
    "duration": 6,
    "start_time": "2022-05-08T13:30:15.850Z"
   },
   {
    "duration": 352,
    "start_time": "2022-05-08T13:30:16.185Z"
   },
   {
    "duration": 22,
    "start_time": "2022-05-08T13:36:51.995Z"
   },
   {
    "duration": 17,
    "start_time": "2022-05-08T13:37:33.416Z"
   },
   {
    "duration": 16,
    "start_time": "2022-05-08T13:37:44.942Z"
   },
   {
    "duration": 6,
    "start_time": "2022-05-08T13:39:19.346Z"
   },
   {
    "duration": 7,
    "start_time": "2022-05-08T13:39:28.643Z"
   },
   {
    "duration": 18,
    "start_time": "2022-05-08T13:39:42.720Z"
   },
   {
    "duration": 21,
    "start_time": "2022-05-08T13:42:19.599Z"
   },
   {
    "duration": 6,
    "start_time": "2022-05-08T13:42:25.320Z"
   },
   {
    "duration": 10,
    "start_time": "2022-05-08T13:42:33.413Z"
   },
   {
    "duration": 3,
    "start_time": "2022-05-08T13:42:44.189Z"
   },
   {
    "duration": 9,
    "start_time": "2022-05-08T13:42:52.129Z"
   },
   {
    "duration": 3,
    "start_time": "2022-05-08T13:42:52.288Z"
   },
   {
    "duration": 23,
    "start_time": "2022-05-08T13:42:57.361Z"
   },
   {
    "duration": 26,
    "start_time": "2022-05-08T13:43:14.809Z"
   },
   {
    "duration": 10,
    "start_time": "2022-05-08T13:43:25.341Z"
   },
   {
    "duration": 3,
    "start_time": "2022-05-08T13:43:25.521Z"
   },
   {
    "duration": 6,
    "start_time": "2022-05-08T13:43:25.735Z"
   },
   {
    "duration": 19,
    "start_time": "2022-05-08T13:43:29.842Z"
   },
   {
    "duration": 27,
    "start_time": "2022-05-08T13:44:07.743Z"
   },
   {
    "duration": 52,
    "start_time": "2022-05-08T13:44:09.731Z"
   },
   {
    "duration": 8,
    "start_time": "2022-05-08T13:44:10.186Z"
   },
   {
    "duration": 12,
    "start_time": "2022-05-08T13:44:10.325Z"
   },
   {
    "duration": 4,
    "start_time": "2022-05-08T13:44:10.956Z"
   },
   {
    "duration": 10,
    "start_time": "2022-05-08T13:44:11.121Z"
   },
   {
    "duration": 19,
    "start_time": "2022-05-08T13:44:11.417Z"
   },
   {
    "duration": 13,
    "start_time": "2022-05-08T13:44:11.569Z"
   },
   {
    "duration": 4,
    "start_time": "2022-05-08T13:44:11.881Z"
   },
   {
    "duration": 9,
    "start_time": "2022-05-08T13:44:12.534Z"
   },
   {
    "duration": 3,
    "start_time": "2022-05-08T13:44:12.723Z"
   },
   {
    "duration": 6,
    "start_time": "2022-05-08T13:44:12.891Z"
   },
   {
    "duration": 401,
    "start_time": "2022-05-08T13:44:13.223Z"
   },
   {
    "duration": 17,
    "start_time": "2022-05-08T13:44:17.388Z"
   },
   {
    "duration": 35,
    "start_time": "2022-05-08T13:45:08.674Z"
   },
   {
    "duration": 92,
    "start_time": "2022-05-08T13:45:09.116Z"
   },
   {
    "duration": 10,
    "start_time": "2022-05-08T13:45:09.552Z"
   },
   {
    "duration": 21,
    "start_time": "2022-05-08T13:45:09.718Z"
   },
   {
    "duration": 5,
    "start_time": "2022-05-08T13:45:10.346Z"
   },
   {
    "duration": 15,
    "start_time": "2022-05-08T13:45:10.518Z"
   },
   {
    "duration": 19,
    "start_time": "2022-05-08T13:45:10.859Z"
   },
   {
    "duration": 12,
    "start_time": "2022-05-08T13:45:11.011Z"
   },
   {
    "duration": 4,
    "start_time": "2022-05-08T13:45:11.342Z"
   },
   {
    "duration": 10,
    "start_time": "2022-05-08T13:45:12.014Z"
   },
   {
    "duration": 3,
    "start_time": "2022-05-08T13:45:12.181Z"
   },
   {
    "duration": 6,
    "start_time": "2022-05-08T13:45:12.337Z"
   },
   {
    "duration": 398,
    "start_time": "2022-05-08T13:45:12.693Z"
   },
   {
    "duration": 26,
    "start_time": "2022-05-08T13:45:19.361Z"
   },
   {
    "duration": 11,
    "start_time": "2022-05-08T13:45:20.468Z"
   },
   {
    "duration": 213,
    "start_time": "2022-05-08T13:45:27.787Z"
   },
   {
    "duration": 66,
    "start_time": "2022-05-08T13:45:50.876Z"
   },
   {
    "duration": 357,
    "start_time": "2022-05-08T13:45:57.862Z"
   },
   {
    "duration": 50,
    "start_time": "2022-05-08T13:46:02.885Z"
   },
   {
    "duration": 21,
    "start_time": "2022-05-08T13:46:06.124Z"
   },
   {
    "duration": 121,
    "start_time": "2022-05-08T13:46:10.591Z"
   },
   {
    "duration": 39,
    "start_time": "2022-05-08T13:46:44.728Z"
   },
   {
    "duration": 3,
    "start_time": "2022-05-08T13:48:02.717Z"
   },
   {
    "duration": 4,
    "start_time": "2022-05-08T13:48:02.989Z"
   },
   {
    "duration": 14954,
    "start_time": "2022-05-08T13:48:03.554Z"
   },
   {
    "duration": 5,
    "start_time": "2022-05-08T13:48:25.062Z"
   },
   {
    "duration": 7,
    "start_time": "2022-05-08T13:48:33.394Z"
   },
   {
    "duration": 6,
    "start_time": "2022-05-08T13:48:38.175Z"
   },
   {
    "duration": 1717,
    "start_time": "2022-05-09T08:42:29.504Z"
   },
   {
    "duration": 60,
    "start_time": "2022-05-09T08:42:31.223Z"
   },
   {
    "duration": 16,
    "start_time": "2022-05-09T08:42:31.284Z"
   },
   {
    "duration": 11,
    "start_time": "2022-05-09T08:42:31.302Z"
   },
   {
    "duration": 3,
    "start_time": "2022-05-09T08:42:31.315Z"
   },
   {
    "duration": 17,
    "start_time": "2022-05-09T08:42:31.320Z"
   },
   {
    "duration": 33,
    "start_time": "2022-05-09T08:42:31.339Z"
   },
   {
    "duration": 28,
    "start_time": "2022-05-09T08:42:31.373Z"
   },
   {
    "duration": 4,
    "start_time": "2022-05-09T08:42:31.403Z"
   },
   {
    "duration": 12,
    "start_time": "2022-05-09T08:42:31.409Z"
   },
   {
    "duration": 2,
    "start_time": "2022-05-09T08:42:31.423Z"
   },
   {
    "duration": 9,
    "start_time": "2022-05-09T08:42:31.427Z"
   },
   {
    "duration": 128,
    "start_time": "2022-05-09T08:42:31.438Z"
   },
   {
    "duration": 0,
    "start_time": "2022-05-09T08:42:31.568Z"
   },
   {
    "duration": 0,
    "start_time": "2022-05-09T08:42:31.569Z"
   },
   {
    "duration": 0,
    "start_time": "2022-05-09T08:42:31.570Z"
   },
   {
    "duration": 0,
    "start_time": "2022-05-09T08:42:31.571Z"
   },
   {
    "duration": 0,
    "start_time": "2022-05-09T08:42:31.571Z"
   },
   {
    "duration": 0,
    "start_time": "2022-05-09T08:42:31.572Z"
   },
   {
    "duration": 0,
    "start_time": "2022-05-09T08:42:31.573Z"
   },
   {
    "duration": 0,
    "start_time": "2022-05-09T08:42:31.574Z"
   },
   {
    "duration": 0,
    "start_time": "2022-05-09T08:42:31.575Z"
   },
   {
    "duration": 0,
    "start_time": "2022-05-09T08:42:31.576Z"
   },
   {
    "duration": 0,
    "start_time": "2022-05-09T08:42:31.577Z"
   },
   {
    "duration": 0,
    "start_time": "2022-05-09T08:42:31.578Z"
   },
   {
    "duration": 0,
    "start_time": "2022-05-09T08:42:31.579Z"
   },
   {
    "duration": 0,
    "start_time": "2022-05-09T08:42:31.600Z"
   },
   {
    "duration": 0,
    "start_time": "2022-05-09T08:42:31.601Z"
   },
   {
    "duration": 0,
    "start_time": "2022-05-09T08:42:31.602Z"
   },
   {
    "duration": 0,
    "start_time": "2022-05-09T08:42:31.603Z"
   },
   {
    "duration": 0,
    "start_time": "2022-05-09T08:42:31.604Z"
   },
   {
    "duration": 0,
    "start_time": "2022-05-09T08:42:31.605Z"
   },
   {
    "duration": 0,
    "start_time": "2022-05-09T08:42:31.605Z"
   },
   {
    "duration": 0,
    "start_time": "2022-05-09T08:42:31.606Z"
   },
   {
    "duration": 0,
    "start_time": "2022-05-09T08:42:31.607Z"
   },
   {
    "duration": 0,
    "start_time": "2022-05-09T08:42:31.608Z"
   },
   {
    "duration": 0,
    "start_time": "2022-05-09T08:42:31.609Z"
   },
   {
    "duration": 0,
    "start_time": "2022-05-09T08:42:31.610Z"
   },
   {
    "duration": 0,
    "start_time": "2022-05-09T08:42:31.610Z"
   },
   {
    "duration": 0,
    "start_time": "2022-05-09T08:42:31.612Z"
   },
   {
    "duration": 0,
    "start_time": "2022-05-09T08:42:31.612Z"
   },
   {
    "duration": 0,
    "start_time": "2022-05-09T08:42:31.613Z"
   },
   {
    "duration": 0,
    "start_time": "2022-05-09T08:42:31.614Z"
   },
   {
    "duration": 0,
    "start_time": "2022-05-09T08:42:31.615Z"
   },
   {
    "duration": 0,
    "start_time": "2022-05-09T08:42:31.616Z"
   },
   {
    "duration": 0,
    "start_time": "2022-05-09T08:42:31.617Z"
   },
   {
    "duration": 0,
    "start_time": "2022-05-09T08:42:31.618Z"
   },
   {
    "duration": 1211,
    "start_time": "2022-05-09T08:42:50.368Z"
   },
   {
    "duration": 4,
    "start_time": "2022-05-09T08:42:52.896Z"
   },
   {
    "duration": 3,
    "start_time": "2022-05-09T08:42:53.041Z"
   },
   {
    "duration": 3,
    "start_time": "2022-05-09T08:42:53.215Z"
   },
   {
    "duration": 2,
    "start_time": "2022-05-09T08:42:53.384Z"
   },
   {
    "duration": 2,
    "start_time": "2022-05-09T08:42:53.562Z"
   },
   {
    "duration": 2,
    "start_time": "2022-05-09T08:42:53.721Z"
   },
   {
    "duration": 9,
    "start_time": "2022-05-09T08:42:54.085Z"
   },
   {
    "duration": 4,
    "start_time": "2022-05-09T08:42:54.667Z"
   },
   {
    "duration": 9,
    "start_time": "2022-05-09T08:42:55.204Z"
   },
   {
    "duration": 10,
    "start_time": "2022-05-09T08:42:55.580Z"
   },
   {
    "duration": 9,
    "start_time": "2022-05-09T08:42:55.917Z"
   },
   {
    "duration": 9,
    "start_time": "2022-05-09T08:42:56.116Z"
   },
   {
    "duration": 2,
    "start_time": "2022-05-09T08:42:56.860Z"
   },
   {
    "duration": 3,
    "start_time": "2022-05-09T08:42:57.043Z"
   },
   {
    "duration": 8,
    "start_time": "2022-05-09T08:42:57.219Z"
   },
   {
    "duration": 9,
    "start_time": "2022-05-09T08:42:57.413Z"
   },
   {
    "duration": 9,
    "start_time": "2022-05-09T08:42:57.605Z"
   },
   {
    "duration": 9,
    "start_time": "2022-05-09T08:42:58.015Z"
   },
   {
    "duration": 5,
    "start_time": "2022-05-09T08:42:58.410Z"
   },
   {
    "duration": 2,
    "start_time": "2022-05-09T08:42:58.596Z"
   },
   {
    "duration": 10,
    "start_time": "2022-05-09T08:42:58.783Z"
   },
   {
    "duration": 8,
    "start_time": "2022-05-09T08:42:58.998Z"
   },
   {
    "duration": 3,
    "start_time": "2022-05-09T08:42:59.407Z"
   },
   {
    "duration": 3,
    "start_time": "2022-05-09T08:42:59.609Z"
   },
   {
    "duration": 8,
    "start_time": "2022-05-09T08:42:59.834Z"
   },
   {
    "duration": 9,
    "start_time": "2022-05-09T08:43:00.097Z"
   },
   {
    "duration": 11,
    "start_time": "2022-05-09T08:43:01.731Z"
   },
   {
    "duration": 18,
    "start_time": "2022-05-09T08:43:01.958Z"
   },
   {
    "duration": 8,
    "start_time": "2022-05-09T08:43:02.158Z"
   },
   {
    "duration": 181,
    "start_time": "2022-05-09T08:43:03.235Z"
   },
   {
    "duration": 10,
    "start_time": "2022-05-09T08:43:05.002Z"
   },
   {
    "duration": 9,
    "start_time": "2022-05-09T08:43:07.201Z"
   },
   {
    "duration": 40,
    "start_time": "2022-05-09T08:43:13.530Z"
   },
   {
    "duration": 18,
    "start_time": "2022-05-09T08:44:11.474Z"
   },
   {
    "duration": 18,
    "start_time": "2022-05-09T08:44:30.952Z"
   },
   {
    "duration": 19,
    "start_time": "2022-05-09T08:44:36.684Z"
   },
   {
    "duration": 31,
    "start_time": "2022-05-09T08:44:46.205Z"
   },
   {
    "duration": 25,
    "start_time": "2022-05-09T08:44:51.601Z"
   },
   {
    "duration": 16,
    "start_time": "2022-05-09T08:45:01.629Z"
   },
   {
    "duration": 24,
    "start_time": "2022-05-09T08:45:16.600Z"
   },
   {
    "duration": 29,
    "start_time": "2022-05-09T08:45:20.737Z"
   },
   {
    "duration": 30,
    "start_time": "2022-05-09T08:45:24.656Z"
   },
   {
    "duration": 42,
    "start_time": "2022-05-09T08:45:28.813Z"
   },
   {
    "duration": 44,
    "start_time": "2022-05-09T08:45:32.945Z"
   },
   {
    "duration": 27,
    "start_time": "2022-05-09T08:45:41.442Z"
   },
   {
    "duration": 23,
    "start_time": "2022-05-09T08:46:10.742Z"
   },
   {
    "duration": 27,
    "start_time": "2022-05-09T08:46:14.900Z"
   },
   {
    "duration": 27,
    "start_time": "2022-05-09T08:46:19.267Z"
   },
   {
    "duration": 25,
    "start_time": "2022-05-09T08:46:23.117Z"
   },
   {
    "duration": 26,
    "start_time": "2022-05-09T09:01:57.544Z"
   },
   {
    "duration": 27,
    "start_time": "2022-05-09T09:02:04.460Z"
   },
   {
    "duration": 3,
    "start_time": "2022-05-09T09:03:29.941Z"
   },
   {
    "duration": 111,
    "start_time": "2022-05-09T09:04:41.589Z"
   },
   {
    "duration": 19,
    "start_time": "2022-05-09T09:05:02.681Z"
   },
   {
    "duration": 25,
    "start_time": "2022-05-09T09:05:16.115Z"
   },
   {
    "duration": 31,
    "start_time": "2022-05-09T09:05:24.099Z"
   },
   {
    "duration": 20,
    "start_time": "2022-05-09T09:05:29.253Z"
   },
   {
    "duration": 21,
    "start_time": "2022-05-09T09:05:36.774Z"
   },
   {
    "duration": 23,
    "start_time": "2022-05-09T09:05:43.928Z"
   },
   {
    "duration": 21,
    "start_time": "2022-05-09T09:05:48.592Z"
   },
   {
    "duration": 23,
    "start_time": "2022-05-09T09:05:58.561Z"
   },
   {
    "duration": 22,
    "start_time": "2022-05-09T09:06:05.249Z"
   },
   {
    "duration": 24,
    "start_time": "2022-05-09T09:06:12.862Z"
   },
   {
    "duration": 22,
    "start_time": "2022-05-09T09:06:19.058Z"
   },
   {
    "duration": 16,
    "start_time": "2022-05-09T09:06:36.248Z"
   },
   {
    "duration": 417,
    "start_time": "2022-05-09T09:07:18.321Z"
   },
   {
    "duration": 847,
    "start_time": "2022-05-09T09:07:26.021Z"
   },
   {
    "duration": 936,
    "start_time": "2022-05-09T09:07:36.625Z"
   },
   {
    "duration": 1008,
    "start_time": "2022-05-09T09:07:42.333Z"
   },
   {
    "duration": 1022,
    "start_time": "2022-05-09T09:07:50.042Z"
   },
   {
    "duration": 993,
    "start_time": "2022-05-09T09:08:09.423Z"
   },
   {
    "duration": 42663,
    "start_time": "2022-05-09T09:15:24.066Z"
   },
   {
    "duration": 26,
    "start_time": "2022-05-09T09:18:12.430Z"
   },
   {
    "duration": 457,
    "start_time": "2022-05-09T09:18:50.744Z"
   },
   {
    "duration": 404,
    "start_time": "2022-05-09T09:18:59.416Z"
   },
   {
    "duration": 375,
    "start_time": "2022-05-09T09:19:04.754Z"
   },
   {
    "duration": 509,
    "start_time": "2022-05-09T09:19:25.215Z"
   },
   {
    "duration": 331,
    "start_time": "2022-05-09T09:19:31.399Z"
   },
   {
    "duration": 373,
    "start_time": "2022-05-09T09:19:36.127Z"
   },
   {
    "duration": 21869,
    "start_time": "2022-05-09T09:24:28.516Z"
   },
   {
    "duration": 17028,
    "start_time": "2022-05-09T09:27:43.694Z"
   },
   {
    "duration": 15685,
    "start_time": "2022-05-09T09:28:16.733Z"
   },
   {
    "duration": 17550,
    "start_time": "2022-05-09T09:28:52.740Z"
   },
   {
    "duration": 418,
    "start_time": "2022-05-09T09:29:25.136Z"
   },
   {
    "duration": 26713,
    "start_time": "2022-05-09T09:29:25.925Z"
   },
   {
    "duration": 371,
    "start_time": "2022-05-09T09:30:03.329Z"
   },
   {
    "duration": 22462,
    "start_time": "2022-05-09T09:30:03.702Z"
   },
   {
    "duration": 846,
    "start_time": "2022-05-09T09:31:32.401Z"
   },
   {
    "duration": 18869,
    "start_time": "2022-05-09T09:31:33.249Z"
   },
   {
    "duration": 26000,
    "start_time": "2022-05-09T09:32:07.193Z"
   },
   {
    "duration": 25,
    "start_time": "2022-05-09T09:33:07.279Z"
   },
   {
    "duration": 290,
    "start_time": "2022-05-09T09:33:18.807Z"
   },
   {
    "duration": 213,
    "start_time": "2022-05-09T09:33:45.998Z"
   },
   {
    "duration": 227,
    "start_time": "2022-05-09T09:33:50.683Z"
   },
   {
    "duration": 237,
    "start_time": "2022-05-09T09:33:55.188Z"
   },
   {
    "duration": 267,
    "start_time": "2022-05-09T09:34:02.030Z"
   },
   {
    "duration": 289,
    "start_time": "2022-05-09T09:34:06.797Z"
   },
   {
    "duration": 290,
    "start_time": "2022-05-09T09:34:11.308Z"
   },
   {
    "duration": 269,
    "start_time": "2022-05-09T09:34:37.857Z"
   },
   {
    "duration": 25840,
    "start_time": "2022-05-09T09:34:38.556Z"
   },
   {
    "duration": 22698,
    "start_time": "2022-05-09T09:35:28.602Z"
   },
   {
    "duration": 267,
    "start_time": "2022-05-09T09:36:14.400Z"
   },
   {
    "duration": 14436,
    "start_time": "2022-05-09T09:36:14.668Z"
   },
   {
    "duration": 273,
    "start_time": "2022-05-09T09:36:56.841Z"
   },
   {
    "duration": 266,
    "start_time": "2022-05-09T09:37:01.246Z"
   },
   {
    "duration": 16916,
    "start_time": "2022-05-09T09:37:01.518Z"
   },
   {
    "duration": 15092,
    "start_time": "2022-05-09T09:37:42.902Z"
   },
   {
    "duration": 261,
    "start_time": "2022-05-09T09:38:10.715Z"
   },
   {
    "duration": 14569,
    "start_time": "2022-05-09T09:38:11.662Z"
   },
   {
    "duration": 458,
    "start_time": "2022-05-09T09:38:55.145Z"
   },
   {
    "duration": 270,
    "start_time": "2022-05-09T09:39:09.288Z"
   },
   {
    "duration": 12247,
    "start_time": "2022-05-09T09:41:22.666Z"
   },
   {
    "duration": 286,
    "start_time": "2022-05-09T09:42:17.581Z"
   },
   {
    "duration": 43,
    "start_time": "2022-05-09T09:45:50.784Z"
   },
   {
    "duration": 5,
    "start_time": "2022-05-09T09:45:58.611Z"
   },
   {
    "duration": 42,
    "start_time": "2022-05-09T09:53:37.831Z"
   },
   {
    "duration": 62,
    "start_time": "2022-05-09T09:54:40.896Z"
   },
   {
    "duration": 12,
    "start_time": "2022-05-09T09:54:53.186Z"
   },
   {
    "duration": 75,
    "start_time": "2022-05-09T09:54:59.252Z"
   },
   {
    "duration": 5,
    "start_time": "2022-05-09T09:55:05.047Z"
   },
   {
    "duration": 127,
    "start_time": "2022-05-09T09:57:35.385Z"
   },
   {
    "duration": 1754,
    "start_time": "2022-05-09T20:44:55.451Z"
   },
   {
    "duration": 73,
    "start_time": "2022-05-09T20:44:57.208Z"
   },
   {
    "duration": 11,
    "start_time": "2022-05-09T20:44:57.282Z"
   },
   {
    "duration": 12,
    "start_time": "2022-05-09T20:44:57.295Z"
   },
   {
    "duration": 4,
    "start_time": "2022-05-09T20:44:58.538Z"
   },
   {
    "duration": 11,
    "start_time": "2022-05-09T20:44:58.723Z"
   },
   {
    "duration": 24,
    "start_time": "2022-05-09T20:44:59.108Z"
   },
   {
    "duration": 15,
    "start_time": "2022-05-09T20:44:59.307Z"
   },
   {
    "duration": 4,
    "start_time": "2022-05-09T20:44:59.793Z"
   },
   {
    "duration": 13,
    "start_time": "2022-05-09T20:45:02.121Z"
   },
   {
    "duration": 3,
    "start_time": "2022-05-09T20:45:02.297Z"
   },
   {
    "duration": 6,
    "start_time": "2022-05-09T20:45:02.492Z"
   },
   {
    "duration": 114,
    "start_time": "2022-05-09T20:45:02.876Z"
   },
   {
    "duration": 1270,
    "start_time": "2022-05-09T20:45:03.818Z"
   },
   {
    "duration": 6,
    "start_time": "2022-05-09T20:45:05.091Z"
   },
   {
    "duration": 28,
    "start_time": "2022-05-09T20:45:05.099Z"
   },
   {
    "duration": 34,
    "start_time": "2022-05-09T20:45:10.069Z"
   },
   {
    "duration": 76,
    "start_time": "2022-05-09T20:45:10.106Z"
   },
   {
    "duration": 9,
    "start_time": "2022-05-09T20:45:10.184Z"
   },
   {
    "duration": 14,
    "start_time": "2022-05-09T20:45:10.232Z"
   },
   {
    "duration": 4,
    "start_time": "2022-05-09T20:45:10.249Z"
   },
   {
    "duration": 19,
    "start_time": "2022-05-09T20:45:10.255Z"
   },
   {
    "duration": 26,
    "start_time": "2022-05-09T20:45:10.275Z"
   },
   {
    "duration": 31,
    "start_time": "2022-05-09T20:45:10.303Z"
   },
   {
    "duration": 8,
    "start_time": "2022-05-09T20:45:10.336Z"
   },
   {
    "duration": 13,
    "start_time": "2022-05-09T20:45:10.346Z"
   },
   {
    "duration": 3,
    "start_time": "2022-05-09T20:45:10.361Z"
   },
   {
    "duration": 8,
    "start_time": "2022-05-09T20:45:10.366Z"
   },
   {
    "duration": 13,
    "start_time": "2022-05-09T20:45:10.375Z"
   },
   {
    "duration": 0,
    "start_time": "2022-05-09T20:45:10.390Z"
   },
   {
    "duration": 0,
    "start_time": "2022-05-09T20:45:10.392Z"
   },
   {
    "duration": 0,
    "start_time": "2022-05-09T20:45:10.393Z"
   },
   {
    "duration": 0,
    "start_time": "2022-05-09T20:45:10.394Z"
   },
   {
    "duration": 0,
    "start_time": "2022-05-09T20:45:10.394Z"
   },
   {
    "duration": 0,
    "start_time": "2022-05-09T20:45:10.396Z"
   },
   {
    "duration": 0,
    "start_time": "2022-05-09T20:45:10.397Z"
   },
   {
    "duration": 0,
    "start_time": "2022-05-09T20:45:10.398Z"
   },
   {
    "duration": 0,
    "start_time": "2022-05-09T20:45:10.433Z"
   },
   {
    "duration": 0,
    "start_time": "2022-05-09T20:45:10.434Z"
   },
   {
    "duration": 0,
    "start_time": "2022-05-09T20:45:10.435Z"
   },
   {
    "duration": 0,
    "start_time": "2022-05-09T20:45:10.436Z"
   },
   {
    "duration": 0,
    "start_time": "2022-05-09T20:45:10.437Z"
   },
   {
    "duration": 0,
    "start_time": "2022-05-09T20:45:10.438Z"
   },
   {
    "duration": 0,
    "start_time": "2022-05-09T20:45:10.439Z"
   },
   {
    "duration": 0,
    "start_time": "2022-05-09T20:45:10.440Z"
   },
   {
    "duration": 0,
    "start_time": "2022-05-09T20:45:10.441Z"
   },
   {
    "duration": 0,
    "start_time": "2022-05-09T20:45:10.442Z"
   },
   {
    "duration": 0,
    "start_time": "2022-05-09T20:45:10.443Z"
   },
   {
    "duration": 0,
    "start_time": "2022-05-09T20:45:10.444Z"
   },
   {
    "duration": 1,
    "start_time": "2022-05-09T20:45:10.444Z"
   },
   {
    "duration": 0,
    "start_time": "2022-05-09T20:45:10.445Z"
   },
   {
    "duration": 0,
    "start_time": "2022-05-09T20:45:10.446Z"
   },
   {
    "duration": 0,
    "start_time": "2022-05-09T20:45:10.447Z"
   },
   {
    "duration": 0,
    "start_time": "2022-05-09T20:45:10.448Z"
   },
   {
    "duration": 0,
    "start_time": "2022-05-09T20:45:10.449Z"
   },
   {
    "duration": 0,
    "start_time": "2022-05-09T20:45:10.450Z"
   },
   {
    "duration": 0,
    "start_time": "2022-05-09T20:45:10.452Z"
   },
   {
    "duration": 0,
    "start_time": "2022-05-09T20:45:10.452Z"
   },
   {
    "duration": 0,
    "start_time": "2022-05-09T20:45:10.453Z"
   },
   {
    "duration": 0,
    "start_time": "2022-05-09T20:45:10.454Z"
   },
   {
    "duration": 0,
    "start_time": "2022-05-09T20:45:10.455Z"
   },
   {
    "duration": 1,
    "start_time": "2022-05-09T20:45:10.455Z"
   },
   {
    "duration": 0,
    "start_time": "2022-05-09T20:45:10.457Z"
   },
   {
    "duration": 0,
    "start_time": "2022-05-09T20:45:10.457Z"
   },
   {
    "duration": 0,
    "start_time": "2022-05-09T20:45:10.458Z"
   },
   {
    "duration": 0,
    "start_time": "2022-05-09T20:45:10.459Z"
   },
   {
    "duration": 0,
    "start_time": "2022-05-09T20:45:10.460Z"
   },
   {
    "duration": 3,
    "start_time": "2022-05-09T20:51:02.565Z"
   },
   {
    "duration": 3,
    "start_time": "2022-05-09T20:51:02.911Z"
   },
   {
    "duration": 10,
    "start_time": "2022-05-09T20:51:03.087Z"
   },
   {
    "duration": 9,
    "start_time": "2022-05-09T20:51:03.231Z"
   },
   {
    "duration": 10,
    "start_time": "2022-05-09T20:51:03.408Z"
   },
   {
    "duration": 13302,
    "start_time": "2022-05-09T20:51:10.532Z"
   },
   {
    "duration": 4,
    "start_time": "2022-05-09T20:51:23.836Z"
   },
   {
    "duration": 10,
    "start_time": "2022-05-09T20:51:28.042Z"
   },
   {
    "duration": 10,
    "start_time": "2022-05-09T20:51:35.406Z"
   },
   {
    "duration": 5,
    "start_time": "2022-05-09T21:00:29.938Z"
   },
   {
    "duration": 6,
    "start_time": "2022-05-09T21:00:30.113Z"
   },
   {
    "duration": 10,
    "start_time": "2022-05-09T21:04:26.382Z"
   },
   {
    "duration": 5,
    "start_time": "2022-05-09T21:04:33.712Z"
   },
   {
    "duration": 3,
    "start_time": "2022-05-09T21:04:34.532Z"
   },
   {
    "duration": 10,
    "start_time": "2022-05-09T21:04:35.061Z"
   },
   {
    "duration": 9,
    "start_time": "2022-05-09T21:04:35.495Z"
   },
   {
    "duration": 18050,
    "start_time": "2022-05-09T21:04:47.176Z"
   },
   {
    "duration": 41,
    "start_time": "2022-05-09T21:05:11.055Z"
   },
   {
    "duration": 16,
    "start_time": "2022-05-09T21:05:14.269Z"
   },
   {
    "duration": 7,
    "start_time": "2022-05-09T21:05:14.600Z"
   },
   {
    "duration": 3,
    "start_time": "2022-05-09T21:07:09.127Z"
   },
   {
    "duration": 3,
    "start_time": "2022-05-09T21:07:09.293Z"
   },
   {
    "duration": 47265,
    "start_time": "2022-05-09T21:07:15.372Z"
   },
   {
    "duration": 4,
    "start_time": "2022-05-09T21:08:08.563Z"
   },
   {
    "duration": 16,
    "start_time": "2022-05-09T21:08:14.791Z"
   },
   {
    "duration": 7,
    "start_time": "2022-05-09T21:08:18.270Z"
   },
   {
    "duration": 5,
    "start_time": "2022-05-09T21:08:44.702Z"
   },
   {
    "duration": 7,
    "start_time": "2022-05-09T21:08:44.962Z"
   },
   {
    "duration": 3,
    "start_time": "2022-05-09T21:08:51.039Z"
   },
   {
    "duration": 3,
    "start_time": "2022-05-09T21:08:51.181Z"
   },
   {
    "duration": 50777,
    "start_time": "2022-05-09T21:08:51.359Z"
   },
   {
    "duration": 95,
    "start_time": "2022-05-09T21:09:42.139Z"
   },
   {
    "duration": 6,
    "start_time": "2022-05-09T21:09:42.235Z"
   },
   {
    "duration": 88,
    "start_time": "2022-05-09T21:09:42.249Z"
   },
   {
    "duration": 3,
    "start_time": "2022-05-09T21:12:04.552Z"
   },
   {
    "duration": 4,
    "start_time": "2022-05-09T21:12:04.687Z"
   },
   {
    "duration": 50304,
    "start_time": "2022-05-09T21:12:04.834Z"
   },
   {
    "duration": 94,
    "start_time": "2022-05-09T21:12:55.141Z"
   },
   {
    "duration": 8,
    "start_time": "2022-05-09T21:12:55.236Z"
   },
   {
    "duration": 187,
    "start_time": "2022-05-09T21:12:55.247Z"
   },
   {
    "duration": 16,
    "start_time": "2022-05-09T21:13:40.408Z"
   },
   {
    "duration": 20,
    "start_time": "2022-05-09T21:13:40.649Z"
   },
   {
    "duration": 12,
    "start_time": "2022-05-09T21:13:46.368Z"
   },
   {
    "duration": 157,
    "start_time": "2022-05-09T21:13:46.597Z"
   },
   {
    "duration": 3,
    "start_time": "2022-05-09T21:13:51.982Z"
   },
   {
    "duration": 13,
    "start_time": "2022-05-09T21:18:03.298Z"
   },
   {
    "duration": 33,
    "start_time": "2022-05-09T21:18:24.668Z"
   },
   {
    "duration": 1026,
    "start_time": "2022-05-09T21:19:09.802Z"
   },
   {
    "duration": 29110,
    "start_time": "2022-05-09T21:19:20.440Z"
   },
   {
    "duration": 19,
    "start_time": "2022-05-09T21:19:49.552Z"
   },
   {
    "duration": 302,
    "start_time": "2022-05-09T21:20:40.949Z"
   },
   {
    "duration": 15423,
    "start_time": "2022-05-09T21:20:45.138Z"
   },
   {
    "duration": 9,
    "start_time": "2022-05-09T21:24:06.906Z"
   },
   {
    "duration": 32,
    "start_time": "2022-05-09T21:25:13.786Z"
   },
   {
    "duration": 8,
    "start_time": "2022-05-09T21:26:04.705Z"
   },
   {
    "duration": 1024,
    "start_time": "2022-05-09T21:27:32.969Z"
   },
   {
    "duration": 47,
    "start_time": "2022-05-10T10:45:26.725Z"
   },
   {
    "duration": 1649,
    "start_time": "2022-05-10T10:45:32.679Z"
   },
   {
    "duration": 71,
    "start_time": "2022-05-10T10:45:34.334Z"
   },
   {
    "duration": 11,
    "start_time": "2022-05-10T10:45:34.590Z"
   },
   {
    "duration": 11,
    "start_time": "2022-05-10T10:45:35.063Z"
   },
   {
    "duration": 4,
    "start_time": "2022-05-10T10:45:36.237Z"
   },
   {
    "duration": 11,
    "start_time": "2022-05-10T10:45:36.414Z"
   },
   {
    "duration": 22,
    "start_time": "2022-05-10T10:45:37.200Z"
   },
   {
    "duration": 14,
    "start_time": "2022-05-10T10:45:37.435Z"
   },
   {
    "duration": 16839,
    "start_time": "2022-05-10T10:45:38.025Z"
   },
   {
    "duration": 9542,
    "start_time": "2022-05-10T10:46:21.638Z"
   },
   {
    "duration": 18,
    "start_time": "2022-05-10T10:48:43.119Z"
   },
   {
    "duration": 11,
    "start_time": "2022-05-10T10:48:50.181Z"
   },
   {
    "duration": 27,
    "start_time": "2022-05-10T10:48:57.309Z"
   },
   {
    "duration": 57,
    "start_time": "2022-05-10T10:48:57.338Z"
   },
   {
    "duration": 33,
    "start_time": "2022-05-10T10:48:57.397Z"
   },
   {
    "duration": 17,
    "start_time": "2022-05-10T10:48:57.432Z"
   },
   {
    "duration": 4,
    "start_time": "2022-05-10T10:48:57.450Z"
   },
   {
    "duration": 13,
    "start_time": "2022-05-10T10:48:57.455Z"
   },
   {
    "duration": 20,
    "start_time": "2022-05-10T10:48:57.470Z"
   },
   {
    "duration": 12,
    "start_time": "2022-05-10T10:48:57.492Z"
   },
   {
    "duration": 30,
    "start_time": "2022-05-10T10:48:57.506Z"
   },
   {
    "duration": 13,
    "start_time": "2022-05-10T10:48:57.538Z"
   },
   {
    "duration": 3,
    "start_time": "2022-05-10T10:48:57.552Z"
   },
   {
    "duration": 6,
    "start_time": "2022-05-10T10:48:57.557Z"
   },
   {
    "duration": 1224,
    "start_time": "2022-05-10T10:48:57.564Z"
   },
   {
    "duration": 15,
    "start_time": "2022-05-10T10:51:34.568Z"
   },
   {
    "duration": 15,
    "start_time": "2022-05-10T10:51:34.702Z"
   },
   {
    "duration": 4,
    "start_time": "2022-05-10T10:52:48.138Z"
   },
   {
    "duration": 4,
    "start_time": "2022-05-10T10:52:58.067Z"
   },
   {
    "duration": 17,
    "start_time": "2022-05-10T10:53:40.503Z"
   },
   {
    "duration": 23,
    "start_time": "2022-05-10T10:53:46.386Z"
   },
   {
    "duration": 68,
    "start_time": "2022-05-10T10:53:46.411Z"
   },
   {
    "duration": 8,
    "start_time": "2022-05-10T10:53:46.480Z"
   },
   {
    "duration": 13,
    "start_time": "2022-05-10T10:53:46.490Z"
   },
   {
    "duration": 5,
    "start_time": "2022-05-10T10:53:46.528Z"
   },
   {
    "duration": 17,
    "start_time": "2022-05-10T10:53:46.535Z"
   },
   {
    "duration": 21,
    "start_time": "2022-05-10T10:53:46.554Z"
   },
   {
    "duration": 13,
    "start_time": "2022-05-10T10:53:46.577Z"
   },
   {
    "duration": 12,
    "start_time": "2022-05-10T10:53:46.591Z"
   },
   {
    "duration": 20,
    "start_time": "2022-05-10T10:53:46.606Z"
   },
   {
    "duration": 3,
    "start_time": "2022-05-10T10:53:46.628Z"
   },
   {
    "duration": 27,
    "start_time": "2022-05-10T10:53:46.633Z"
   },
   {
    "duration": 1216,
    "start_time": "2022-05-10T10:53:46.662Z"
   },
   {
    "duration": 16,
    "start_time": "2022-05-10T10:53:47.880Z"
   },
   {
    "duration": 3,
    "start_time": "2022-05-10T10:53:59.465Z"
   },
   {
    "duration": 3,
    "start_time": "2022-05-10T10:53:59.818Z"
   },
   {
    "duration": 11368,
    "start_time": "2022-05-10T10:54:00.203Z"
   },
   {
    "duration": 3,
    "start_time": "2022-05-10T10:54:11.573Z"
   },
   {
    "duration": 13,
    "start_time": "2022-05-10T10:54:11.578Z"
   },
   {
    "duration": 8,
    "start_time": "2022-05-10T10:54:11.594Z"
   },
   {
    "duration": 18,
    "start_time": "2022-05-10T10:54:11.603Z"
   },
   {
    "duration": 23,
    "start_time": "2022-05-10T10:54:11.622Z"
   },
   {
    "duration": 5,
    "start_time": "2022-05-10T10:54:17.275Z"
   },
   {
    "duration": 3,
    "start_time": "2022-05-10T10:54:17.407Z"
   },
   {
    "duration": 22869,
    "start_time": "2022-05-10T10:54:17.554Z"
   },
   {
    "duration": 24,
    "start_time": "2022-05-10T10:54:40.426Z"
   },
   {
    "duration": 8,
    "start_time": "2022-05-10T10:54:40.452Z"
   },
   {
    "duration": 8,
    "start_time": "2022-05-10T10:54:40.462Z"
   },
   {
    "duration": 12,
    "start_time": "2022-05-10T10:54:40.471Z"
   },
   {
    "duration": 3,
    "start_time": "2022-05-10T10:54:40.484Z"
   },
   {
    "duration": 6,
    "start_time": "2022-05-10T10:54:40.489Z"
   },
   {
    "duration": 58674,
    "start_time": "2022-05-10T10:54:40.533Z"
   },
   {
    "duration": 2,
    "start_time": "2022-05-10T10:55:39.209Z"
   },
   {
    "duration": 14,
    "start_time": "2022-05-10T10:55:39.214Z"
   },
   {
    "duration": 214,
    "start_time": "2022-05-10T10:55:39.230Z"
   },
   {
    "duration": 9,
    "start_time": "2022-05-10T10:55:39.446Z"
   },
   {
    "duration": 85,
    "start_time": "2022-05-10T10:55:39.456Z"
   },
   {
    "duration": 239,
    "start_time": "2022-05-10T10:55:39.545Z"
   },
   {
    "duration": 3,
    "start_time": "2022-05-10T10:55:39.786Z"
   },
   {
    "duration": 137,
    "start_time": "2022-05-10T10:55:39.792Z"
   },
   {
    "duration": 0,
    "start_time": "2022-05-10T10:55:39.931Z"
   },
   {
    "duration": 1,
    "start_time": "2022-05-10T10:55:39.932Z"
   },
   {
    "duration": 0,
    "start_time": "2022-05-10T10:55:39.934Z"
   },
   {
    "duration": 0,
    "start_time": "2022-05-10T10:55:39.936Z"
   },
   {
    "duration": 0,
    "start_time": "2022-05-10T10:55:39.937Z"
   },
   {
    "duration": 0,
    "start_time": "2022-05-10T10:55:39.938Z"
   },
   {
    "duration": 30,
    "start_time": "2022-05-10T10:56:21.749Z"
   },
   {
    "duration": 1096,
    "start_time": "2022-05-10T10:56:29.366Z"
   },
   {
    "duration": 23948,
    "start_time": "2022-05-10T10:56:30.464Z"
   },
   {
    "duration": 308,
    "start_time": "2022-05-10T10:57:18.288Z"
   },
   {
    "duration": 15290,
    "start_time": "2022-05-10T10:57:18.598Z"
   },
   {
    "duration": 29,
    "start_time": "2022-05-10T10:59:04.736Z"
   },
   {
    "duration": 66,
    "start_time": "2022-05-10T10:59:04.767Z"
   },
   {
    "duration": 9,
    "start_time": "2022-05-10T10:59:04.835Z"
   },
   {
    "duration": 12,
    "start_time": "2022-05-10T10:59:04.847Z"
   },
   {
    "duration": 4,
    "start_time": "2022-05-10T10:59:04.861Z"
   },
   {
    "duration": 13,
    "start_time": "2022-05-10T10:59:04.866Z"
   },
   {
    "duration": 48,
    "start_time": "2022-05-10T10:59:04.880Z"
   },
   {
    "duration": 15,
    "start_time": "2022-05-10T10:59:04.930Z"
   },
   {
    "duration": 5,
    "start_time": "2022-05-10T10:59:04.947Z"
   },
   {
    "duration": 11,
    "start_time": "2022-05-10T10:59:04.954Z"
   },
   {
    "duration": 4,
    "start_time": "2022-05-10T10:59:04.966Z"
   },
   {
    "duration": 7,
    "start_time": "2022-05-10T10:59:04.972Z"
   },
   {
    "duration": 1261,
    "start_time": "2022-05-10T10:59:04.980Z"
   },
   {
    "duration": 2,
    "start_time": "2022-05-10T10:59:06.245Z"
   },
   {
    "duration": 8,
    "start_time": "2022-05-10T10:59:06.249Z"
   },
   {
    "duration": 5,
    "start_time": "2022-05-10T10:59:06.258Z"
   },
   {
    "duration": 63,
    "start_time": "2022-05-10T10:59:06.265Z"
   },
   {
    "duration": 6,
    "start_time": "2022-05-10T10:59:06.330Z"
   },
   {
    "duration": 61,
    "start_time": "2022-05-10T10:59:06.337Z"
   },
   {
    "duration": 59,
    "start_time": "2022-05-10T10:59:06.400Z"
   },
   {
    "duration": 16,
    "start_time": "2022-05-10T10:59:06.460Z"
   },
   {
    "duration": 106,
    "start_time": "2022-05-10T10:59:06.530Z"
   },
   {
    "duration": 161,
    "start_time": "2022-05-10T10:59:06.638Z"
   },
   {
    "duration": 3,
    "start_time": "2022-05-10T10:59:06.801Z"
   },
   {
    "duration": 5,
    "start_time": "2022-05-10T10:59:06.805Z"
   },
   {
    "duration": 14270,
    "start_time": "2022-05-10T10:59:06.812Z"
   },
   {
    "duration": 4,
    "start_time": "2022-05-10T10:59:21.084Z"
   },
   {
    "duration": 12,
    "start_time": "2022-05-10T10:59:21.090Z"
   },
   {
    "duration": 29,
    "start_time": "2022-05-10T10:59:21.104Z"
   },
   {
    "duration": 15,
    "start_time": "2022-05-10T10:59:21.135Z"
   },
   {
    "duration": 9,
    "start_time": "2022-05-10T10:59:21.152Z"
   },
   {
    "duration": 6,
    "start_time": "2022-05-10T10:59:21.163Z"
   },
   {
    "duration": 5,
    "start_time": "2022-05-10T10:59:21.170Z"
   },
   {
    "duration": 21488,
    "start_time": "2022-05-10T10:59:21.177Z"
   },
   {
    "duration": 164,
    "start_time": "2022-05-10T10:59:42.667Z"
   },
   {
    "duration": 23,
    "start_time": "2022-05-10T10:59:42.833Z"
   },
   {
    "duration": 6,
    "start_time": "2022-05-10T10:59:42.857Z"
   },
   {
    "duration": 83,
    "start_time": "2022-05-10T10:59:42.864Z"
   },
   {
    "duration": 4,
    "start_time": "2022-05-10T10:59:42.948Z"
   },
   {
    "duration": 19,
    "start_time": "2022-05-10T10:59:42.953Z"
   },
   {
    "duration": 68254,
    "start_time": "2022-05-10T10:59:42.974Z"
   },
   {
    "duration": 16,
    "start_time": "2022-05-10T11:00:51.231Z"
   },
   {
    "duration": 15,
    "start_time": "2022-05-10T11:00:51.324Z"
   },
   {
    "duration": 97,
    "start_time": "2022-05-10T11:00:51.342Z"
   },
   {
    "duration": 97,
    "start_time": "2022-05-10T11:00:51.441Z"
   },
   {
    "duration": 193,
    "start_time": "2022-05-10T11:00:51.543Z"
   },
   {
    "duration": 155,
    "start_time": "2022-05-10T11:00:51.738Z"
   },
   {
    "duration": 3,
    "start_time": "2022-05-10T11:00:51.895Z"
   },
   {
    "duration": 148,
    "start_time": "2022-05-10T11:00:51.900Z"
   },
   {
    "duration": 0,
    "start_time": "2022-05-10T11:00:52.049Z"
   },
   {
    "duration": 0,
    "start_time": "2022-05-10T11:00:52.051Z"
   },
   {
    "duration": 0,
    "start_time": "2022-05-10T11:00:52.052Z"
   },
   {
    "duration": 1,
    "start_time": "2022-05-10T11:00:52.052Z"
   },
   {
    "duration": 0,
    "start_time": "2022-05-10T11:00:52.054Z"
   },
   {
    "duration": 0,
    "start_time": "2022-05-10T11:00:52.055Z"
   },
   {
    "duration": 3,
    "start_time": "2022-05-10T11:01:35.989Z"
   },
   {
    "duration": 14,
    "start_time": "2022-05-10T11:01:36.137Z"
   },
   {
    "duration": 29,
    "start_time": "2022-05-10T11:01:38.040Z"
   },
   {
    "duration": 998,
    "start_time": "2022-05-10T11:01:38.346Z"
   },
   {
    "duration": 25540,
    "start_time": "2022-05-10T11:01:39.345Z"
   },
   {
    "duration": 307,
    "start_time": "2022-05-10T11:02:04.887Z"
   },
   {
    "duration": 22204,
    "start_time": "2022-05-10T11:02:05.197Z"
   },
   {
    "duration": 12475,
    "start_time": "2022-05-10T11:02:39.050Z"
   },
   {
    "duration": 17245,
    "start_time": "2022-05-10T11:04:44.553Z"
   },
   {
    "duration": 52,
    "start_time": "2022-05-10T11:22:29.067Z"
   },
   {
    "duration": 54,
    "start_time": "2022-05-10T11:22:37.740Z"
   },
   {
    "duration": 23,
    "start_time": "2022-05-10T11:23:39.658Z"
   },
   {
    "duration": 38,
    "start_time": "2022-05-10T11:23:44.664Z"
   },
   {
    "duration": 4,
    "start_time": "2022-05-10T11:23:48.101Z"
   },
   {
    "duration": 154,
    "start_time": "2022-05-10T11:23:48.830Z"
   },
   {
    "duration": 8,
    "start_time": "2022-05-10T11:26:34.163Z"
   },
   {
    "duration": 753,
    "start_time": "2022-05-10T11:31:20.444Z"
   },
   {
    "duration": 4,
    "start_time": "2022-05-10T11:31:22.784Z"
   },
   {
    "duration": 146,
    "start_time": "2022-05-10T11:31:22.957Z"
   },
   {
    "duration": 728,
    "start_time": "2022-05-10T11:38:45.199Z"
   },
   {
    "duration": 147,
    "start_time": "2022-05-10T11:47:12.156Z"
   },
   {
    "duration": 150,
    "start_time": "2022-05-10T11:47:58.423Z"
   },
   {
    "duration": 145,
    "start_time": "2022-05-10T11:48:04.669Z"
   },
   {
    "duration": 152,
    "start_time": "2022-05-10T11:48:11.559Z"
   },
   {
    "duration": 151,
    "start_time": "2022-05-10T11:48:25.863Z"
   },
   {
    "duration": 148,
    "start_time": "2022-05-10T11:49:16.722Z"
   },
   {
    "duration": 159,
    "start_time": "2022-05-10T11:49:23.007Z"
   },
   {
    "duration": 270,
    "start_time": "2022-05-10T11:51:29.558Z"
   },
   {
    "duration": 149,
    "start_time": "2022-05-10T11:51:46.458Z"
   },
   {
    "duration": 147,
    "start_time": "2022-05-10T11:51:58.899Z"
   },
   {
    "duration": 146,
    "start_time": "2022-05-10T11:52:06.380Z"
   },
   {
    "duration": 138,
    "start_time": "2022-05-10T11:52:27.864Z"
   },
   {
    "duration": 9,
    "start_time": "2022-05-10T11:53:10.684Z"
   },
   {
    "duration": 146,
    "start_time": "2022-05-10T11:53:28.243Z"
   },
   {
    "duration": 306,
    "start_time": "2022-05-10T11:53:35.037Z"
   },
   {
    "duration": 170,
    "start_time": "2022-05-10T11:53:41.267Z"
   },
   {
    "duration": 28,
    "start_time": "2022-05-10T12:08:35.032Z"
   },
   {
    "duration": 56,
    "start_time": "2022-05-10T12:08:35.062Z"
   },
   {
    "duration": 7,
    "start_time": "2022-05-10T12:08:35.119Z"
   },
   {
    "duration": 39,
    "start_time": "2022-05-10T12:08:35.128Z"
   },
   {
    "duration": 5,
    "start_time": "2022-05-10T12:08:35.168Z"
   },
   {
    "duration": 13,
    "start_time": "2022-05-10T12:08:35.175Z"
   },
   {
    "duration": 22,
    "start_time": "2022-05-10T12:08:35.190Z"
   },
   {
    "duration": 13,
    "start_time": "2022-05-10T12:08:35.214Z"
   },
   {
    "duration": 5,
    "start_time": "2022-05-10T12:08:35.252Z"
   },
   {
    "duration": 13,
    "start_time": "2022-05-10T12:08:35.260Z"
   },
   {
    "duration": 6,
    "start_time": "2022-05-10T12:08:35.275Z"
   },
   {
    "duration": 8,
    "start_time": "2022-05-10T12:08:35.282Z"
   },
   {
    "duration": 9,
    "start_time": "2022-05-10T12:08:35.291Z"
   },
   {
    "duration": 21,
    "start_time": "2022-05-10T12:08:44.161Z"
   },
   {
    "duration": 53,
    "start_time": "2022-05-10T12:08:44.184Z"
   },
   {
    "duration": 13,
    "start_time": "2022-05-10T12:08:44.239Z"
   },
   {
    "duration": 17,
    "start_time": "2022-05-10T12:08:44.256Z"
   },
   {
    "duration": 4,
    "start_time": "2022-05-10T12:08:44.274Z"
   },
   {
    "duration": 10,
    "start_time": "2022-05-10T12:08:44.279Z"
   },
   {
    "duration": 30,
    "start_time": "2022-05-10T12:08:44.291Z"
   },
   {
    "duration": 34,
    "start_time": "2022-05-10T12:08:44.324Z"
   },
   {
    "duration": 7,
    "start_time": "2022-05-10T12:08:44.360Z"
   },
   {
    "duration": 15,
    "start_time": "2022-05-10T12:08:44.370Z"
   },
   {
    "duration": 4,
    "start_time": "2022-05-10T12:08:44.387Z"
   },
   {
    "duration": 5,
    "start_time": "2022-05-10T12:08:44.392Z"
   },
   {
    "duration": 15,
    "start_time": "2022-05-10T12:08:44.398Z"
   },
   {
    "duration": 1051,
    "start_time": "2022-05-10T12:08:44.415Z"
   },
   {
    "duration": 36,
    "start_time": "2022-05-10T12:08:45.467Z"
   },
   {
    "duration": 4,
    "start_time": "2022-05-10T12:08:45.505Z"
   },
   {
    "duration": 608,
    "start_time": "2022-05-10T12:08:45.511Z"
   },
   {
    "duration": 4,
    "start_time": "2022-05-10T12:08:46.120Z"
   },
   {
    "duration": 602,
    "start_time": "2022-05-10T12:08:46.125Z"
   },
   {
    "duration": 2,
    "start_time": "2022-05-10T12:08:46.729Z"
   },
   {
    "duration": 15,
    "start_time": "2022-05-10T12:08:46.733Z"
   },
   {
    "duration": 10888,
    "start_time": "2022-05-10T12:08:46.749Z"
   },
   {
    "duration": 6,
    "start_time": "2022-05-10T12:08:57.647Z"
   },
   {
    "duration": 18,
    "start_time": "2022-05-10T12:08:57.655Z"
   },
   {
    "duration": 3,
    "start_time": "2022-05-10T12:08:57.675Z"
   },
   {
    "duration": 6,
    "start_time": "2022-05-10T12:08:57.680Z"
   },
   {
    "duration": 6,
    "start_time": "2022-05-10T12:08:57.687Z"
   },
   {
    "duration": 4,
    "start_time": "2022-05-10T12:08:57.696Z"
   },
   {
    "duration": 6,
    "start_time": "2022-05-10T12:08:57.701Z"
   },
   {
    "duration": 19182,
    "start_time": "2022-05-10T12:08:57.709Z"
   },
   {
    "duration": 180,
    "start_time": "2022-05-10T12:09:16.894Z"
   },
   {
    "duration": 76,
    "start_time": "2022-05-10T12:09:17.076Z"
   },
   {
    "duration": 8,
    "start_time": "2022-05-10T12:09:17.157Z"
   },
   {
    "duration": 29,
    "start_time": "2022-05-10T12:09:17.168Z"
   },
   {
    "duration": 54,
    "start_time": "2022-05-10T12:09:17.198Z"
   },
   {
    "duration": 10,
    "start_time": "2022-05-10T12:09:17.256Z"
   },
   {
    "duration": 478020,
    "start_time": "2022-05-10T12:09:17.267Z"
   },
   {
    "duration": 0,
    "start_time": "2022-05-10T12:17:15.290Z"
   },
   {
    "duration": 0,
    "start_time": "2022-05-10T12:17:15.292Z"
   },
   {
    "duration": 0,
    "start_time": "2022-05-10T12:17:15.293Z"
   },
   {
    "duration": 0,
    "start_time": "2022-05-10T12:17:15.294Z"
   },
   {
    "duration": 0,
    "start_time": "2022-05-10T12:17:15.296Z"
   },
   {
    "duration": 0,
    "start_time": "2022-05-10T12:17:15.297Z"
   },
   {
    "duration": 0,
    "start_time": "2022-05-10T12:17:15.298Z"
   },
   {
    "duration": 0,
    "start_time": "2022-05-10T12:17:15.300Z"
   },
   {
    "duration": 0,
    "start_time": "2022-05-10T12:17:15.301Z"
   },
   {
    "duration": 0,
    "start_time": "2022-05-10T12:17:15.303Z"
   },
   {
    "duration": 0,
    "start_time": "2022-05-10T12:17:15.304Z"
   },
   {
    "duration": 0,
    "start_time": "2022-05-10T12:17:15.305Z"
   },
   {
    "duration": 27,
    "start_time": "2022-05-10T12:21:09.068Z"
   },
   {
    "duration": 61,
    "start_time": "2022-05-10T12:21:09.097Z"
   },
   {
    "duration": 8,
    "start_time": "2022-05-10T12:21:09.159Z"
   },
   {
    "duration": 11,
    "start_time": "2022-05-10T12:21:09.169Z"
   },
   {
    "duration": 4,
    "start_time": "2022-05-10T12:21:09.182Z"
   },
   {
    "duration": 12,
    "start_time": "2022-05-10T12:21:09.188Z"
   },
   {
    "duration": 57,
    "start_time": "2022-05-10T12:21:09.202Z"
   },
   {
    "duration": 13,
    "start_time": "2022-05-10T12:21:09.263Z"
   },
   {
    "duration": 6,
    "start_time": "2022-05-10T12:21:09.278Z"
   },
   {
    "duration": 11,
    "start_time": "2022-05-10T12:21:09.287Z"
   },
   {
    "duration": 2,
    "start_time": "2022-05-10T12:21:09.299Z"
   },
   {
    "duration": 6,
    "start_time": "2022-05-10T12:21:09.303Z"
   },
   {
    "duration": 12,
    "start_time": "2022-05-10T12:21:09.311Z"
   },
   {
    "duration": 1041,
    "start_time": "2022-05-10T12:21:09.325Z"
   },
   {
    "duration": 37,
    "start_time": "2022-05-10T12:21:10.367Z"
   },
   {
    "duration": 4,
    "start_time": "2022-05-10T12:21:10.406Z"
   },
   {
    "duration": 651,
    "start_time": "2022-05-10T12:21:10.413Z"
   },
   {
    "duration": 3,
    "start_time": "2022-05-10T12:21:11.066Z"
   },
   {
    "duration": 229,
    "start_time": "2022-05-10T12:21:11.071Z"
   },
   {
    "duration": 3,
    "start_time": "2022-05-10T12:21:11.302Z"
   },
   {
    "duration": 5,
    "start_time": "2022-05-10T12:21:11.306Z"
   },
   {
    "duration": 11405,
    "start_time": "2022-05-10T12:21:11.312Z"
   },
   {
    "duration": 4,
    "start_time": "2022-05-10T12:21:22.719Z"
   },
   {
    "duration": 18,
    "start_time": "2022-05-10T12:21:22.724Z"
   },
   {
    "duration": 18,
    "start_time": "2022-05-10T12:21:22.743Z"
   },
   {
    "duration": 17,
    "start_time": "2022-05-10T12:21:22.763Z"
   },
   {
    "duration": 9,
    "start_time": "2022-05-10T12:21:22.782Z"
   },
   {
    "duration": 5,
    "start_time": "2022-05-10T12:21:22.796Z"
   },
   {
    "duration": 8,
    "start_time": "2022-05-10T12:21:22.803Z"
   },
   {
    "duration": 24088,
    "start_time": "2022-05-10T12:21:22.813Z"
   },
   {
    "duration": 52,
    "start_time": "2022-05-10T12:21:46.903Z"
   },
   {
    "duration": 18,
    "start_time": "2022-05-10T12:21:46.957Z"
   },
   {
    "duration": 5,
    "start_time": "2022-05-10T12:21:46.976Z"
   },
   {
    "duration": 23,
    "start_time": "2022-05-10T12:21:46.983Z"
   },
   {
    "duration": 2,
    "start_time": "2022-05-10T12:21:47.008Z"
   },
   {
    "duration": 5,
    "start_time": "2022-05-10T12:21:47.012Z"
   },
   {
    "duration": 1450,
    "start_time": "2022-05-10T12:35:56.889Z"
   },
   {
    "duration": 64,
    "start_time": "2022-05-10T12:35:58.341Z"
   },
   {
    "duration": 10,
    "start_time": "2022-05-10T12:35:58.406Z"
   },
   {
    "duration": 11,
    "start_time": "2022-05-10T12:35:58.417Z"
   },
   {
    "duration": 5,
    "start_time": "2022-05-10T12:35:58.448Z"
   },
   {
    "duration": 16,
    "start_time": "2022-05-10T12:35:58.454Z"
   },
   {
    "duration": 20,
    "start_time": "2022-05-10T12:35:58.472Z"
   },
   {
    "duration": 12,
    "start_time": "2022-05-10T12:35:58.493Z"
   },
   {
    "duration": 7,
    "start_time": "2022-05-10T12:35:58.506Z"
   },
   {
    "duration": 12,
    "start_time": "2022-05-10T12:35:58.514Z"
   },
   {
    "duration": 2,
    "start_time": "2022-05-10T12:35:58.528Z"
   },
   {
    "duration": 19,
    "start_time": "2022-05-10T12:35:58.531Z"
   },
   {
    "duration": 13,
    "start_time": "2022-05-10T12:35:58.560Z"
   },
   {
    "duration": 1006,
    "start_time": "2022-05-10T12:35:58.576Z"
   },
   {
    "duration": 44,
    "start_time": "2022-05-10T12:35:59.583Z"
   },
   {
    "duration": 32,
    "start_time": "2022-05-10T12:35:59.628Z"
   },
   {
    "duration": 629,
    "start_time": "2022-05-10T12:35:59.662Z"
   },
   {
    "duration": 4,
    "start_time": "2022-05-10T12:36:00.292Z"
   },
   {
    "duration": 148,
    "start_time": "2022-05-10T12:36:00.297Z"
   },
   {
    "duration": 3,
    "start_time": "2022-05-10T12:36:00.448Z"
   },
   {
    "duration": 24,
    "start_time": "2022-05-10T12:36:00.453Z"
   },
   {
    "duration": 12601,
    "start_time": "2022-05-10T12:36:00.478Z"
   },
   {
    "duration": 4,
    "start_time": "2022-05-10T12:36:13.081Z"
   },
   {
    "duration": 12,
    "start_time": "2022-05-10T12:36:13.087Z"
   },
   {
    "duration": 24,
    "start_time": "2022-05-10T12:36:13.100Z"
   },
   {
    "duration": 23,
    "start_time": "2022-05-10T12:36:13.126Z"
   },
   {
    "duration": 25,
    "start_time": "2022-05-10T12:36:13.151Z"
   },
   {
    "duration": 17,
    "start_time": "2022-05-10T12:36:13.177Z"
   },
   {
    "duration": 18,
    "start_time": "2022-05-10T12:36:13.196Z"
   },
   {
    "duration": 20553,
    "start_time": "2022-05-10T12:36:13.216Z"
   },
   {
    "duration": 42,
    "start_time": "2022-05-10T12:36:33.771Z"
   },
   {
    "duration": 15,
    "start_time": "2022-05-10T12:36:33.814Z"
   },
   {
    "duration": 20,
    "start_time": "2022-05-10T12:36:33.831Z"
   },
   {
    "duration": 22,
    "start_time": "2022-05-10T12:36:33.853Z"
   },
   {
    "duration": 3,
    "start_time": "2022-05-10T12:36:33.877Z"
   },
   {
    "duration": 5,
    "start_time": "2022-05-10T12:36:33.882Z"
   },
   {
    "duration": 849220,
    "start_time": "2022-05-10T12:36:33.888Z"
   },
   {
    "duration": 0,
    "start_time": "2022-05-10T12:50:43.110Z"
   },
   {
    "duration": 0,
    "start_time": "2022-05-10T12:50:43.111Z"
   },
   {
    "duration": 0,
    "start_time": "2022-05-10T12:50:43.112Z"
   },
   {
    "duration": 0,
    "start_time": "2022-05-10T12:50:43.114Z"
   },
   {
    "duration": 0,
    "start_time": "2022-05-10T12:50:43.115Z"
   },
   {
    "duration": 0,
    "start_time": "2022-05-10T12:50:43.117Z"
   },
   {
    "duration": 0,
    "start_time": "2022-05-10T12:50:43.118Z"
   },
   {
    "duration": 0,
    "start_time": "2022-05-10T12:50:43.119Z"
   },
   {
    "duration": 0,
    "start_time": "2022-05-10T12:50:43.121Z"
   },
   {
    "duration": 0,
    "start_time": "2022-05-10T12:50:43.122Z"
   },
   {
    "duration": 0,
    "start_time": "2022-05-10T12:50:43.123Z"
   },
   {
    "duration": 0,
    "start_time": "2022-05-10T12:50:43.125Z"
   },
   {
    "duration": 0,
    "start_time": "2022-05-10T12:50:43.126Z"
   },
   {
    "duration": 0,
    "start_time": "2022-05-10T12:50:43.128Z"
   },
   {
    "duration": 39,
    "start_time": "2022-05-10T12:50:57.504Z"
   },
   {
    "duration": 65,
    "start_time": "2022-05-10T12:50:57.544Z"
   },
   {
    "duration": 7,
    "start_time": "2022-05-10T12:50:57.611Z"
   },
   {
    "duration": 19,
    "start_time": "2022-05-10T12:50:57.651Z"
   },
   {
    "duration": 10,
    "start_time": "2022-05-10T12:50:57.671Z"
   },
   {
    "duration": 10,
    "start_time": "2022-05-10T12:50:57.683Z"
   },
   {
    "duration": 27,
    "start_time": "2022-05-10T12:50:57.695Z"
   },
   {
    "duration": 11,
    "start_time": "2022-05-10T12:50:57.724Z"
   },
   {
    "duration": 12,
    "start_time": "2022-05-10T12:50:57.736Z"
   },
   {
    "duration": 34,
    "start_time": "2022-05-10T12:50:57.751Z"
   },
   {
    "duration": 3,
    "start_time": "2022-05-10T12:50:57.786Z"
   },
   {
    "duration": 7,
    "start_time": "2022-05-10T12:50:57.790Z"
   },
   {
    "duration": 4,
    "start_time": "2022-05-10T12:50:57.798Z"
   },
   {
    "duration": 1213,
    "start_time": "2022-05-10T12:50:57.803Z"
   },
   {
    "duration": 61,
    "start_time": "2022-05-10T12:50:59.018Z"
   },
   {
    "duration": 5,
    "start_time": "2022-05-10T12:50:59.081Z"
   },
   {
    "duration": 829,
    "start_time": "2022-05-10T12:50:59.087Z"
   },
   {
    "duration": 4,
    "start_time": "2022-05-10T12:50:59.917Z"
   },
   {
    "duration": 155,
    "start_time": "2022-05-10T12:50:59.922Z"
   },
   {
    "duration": 2,
    "start_time": "2022-05-10T12:51:00.080Z"
   },
   {
    "duration": 6,
    "start_time": "2022-05-10T12:51:00.084Z"
   },
   {
    "duration": 13337,
    "start_time": "2022-05-10T12:51:00.091Z"
   },
   {
    "duration": 3,
    "start_time": "2022-05-10T12:51:13.430Z"
   },
   {
    "duration": 10,
    "start_time": "2022-05-10T12:51:13.447Z"
   },
   {
    "duration": 12,
    "start_time": "2022-05-10T12:51:13.459Z"
   },
   {
    "duration": 10,
    "start_time": "2022-05-10T12:51:13.473Z"
   },
   {
    "duration": 12,
    "start_time": "2022-05-10T12:51:13.485Z"
   },
   {
    "duration": 6,
    "start_time": "2022-05-10T12:51:13.502Z"
   },
   {
    "duration": 8,
    "start_time": "2022-05-10T12:51:13.510Z"
   },
   {
    "duration": 21356,
    "start_time": "2022-05-10T12:51:13.520Z"
   },
   {
    "duration": 68,
    "start_time": "2022-05-10T12:51:34.878Z"
   },
   {
    "duration": 23,
    "start_time": "2022-05-10T12:51:34.948Z"
   },
   {
    "duration": 7,
    "start_time": "2022-05-10T12:51:34.973Z"
   },
   {
    "duration": 24,
    "start_time": "2022-05-10T12:51:34.981Z"
   },
   {
    "duration": 3,
    "start_time": "2022-05-10T12:51:35.007Z"
   },
   {
    "duration": 10,
    "start_time": "2022-05-10T12:51:35.011Z"
   },
   {
    "duration": 1538,
    "start_time": "2022-05-10T14:17:52.252Z"
   },
   {
    "duration": 23,
    "start_time": "2022-05-10T14:17:57.462Z"
   },
   {
    "duration": 72,
    "start_time": "2022-05-10T14:17:57.487Z"
   },
   {
    "duration": 8,
    "start_time": "2022-05-10T14:17:57.561Z"
   },
   {
    "duration": 11,
    "start_time": "2022-05-10T14:17:57.570Z"
   },
   {
    "duration": 4,
    "start_time": "2022-05-10T14:17:57.582Z"
   },
   {
    "duration": 13,
    "start_time": "2022-05-10T14:17:57.587Z"
   },
   {
    "duration": 46,
    "start_time": "2022-05-10T14:17:57.601Z"
   },
   {
    "duration": 12,
    "start_time": "2022-05-10T14:17:57.649Z"
   },
   {
    "duration": 6,
    "start_time": "2022-05-10T14:17:57.662Z"
   },
   {
    "duration": 11,
    "start_time": "2022-05-10T14:17:57.670Z"
   },
   {
    "duration": 3,
    "start_time": "2022-05-10T14:17:57.682Z"
   },
   {
    "duration": 7,
    "start_time": "2022-05-10T14:17:57.686Z"
   },
   {
    "duration": 3,
    "start_time": "2022-05-10T14:17:57.694Z"
   },
   {
    "duration": 1107,
    "start_time": "2022-05-10T14:17:57.699Z"
   },
   {
    "duration": 54,
    "start_time": "2022-05-10T14:17:58.808Z"
   },
   {
    "duration": 4,
    "start_time": "2022-05-10T14:17:58.864Z"
   },
   {
    "duration": 715,
    "start_time": "2022-05-10T14:17:58.870Z"
   },
   {
    "duration": 3,
    "start_time": "2022-05-10T14:17:59.587Z"
   },
   {
    "duration": 135,
    "start_time": "2022-05-10T14:17:59.592Z"
   },
   {
    "duration": 3,
    "start_time": "2022-05-10T14:17:59.729Z"
   },
   {
    "duration": 14,
    "start_time": "2022-05-10T14:17:59.733Z"
   },
   {
    "duration": 11847,
    "start_time": "2022-05-10T14:17:59.749Z"
   },
   {
    "duration": 3,
    "start_time": "2022-05-10T14:18:11.598Z"
   },
   {
    "duration": 10,
    "start_time": "2022-05-10T14:18:11.603Z"
   },
   {
    "duration": 4,
    "start_time": "2022-05-10T14:18:11.614Z"
   },
   {
    "duration": 6,
    "start_time": "2022-05-10T14:18:11.620Z"
   },
   {
    "duration": 26,
    "start_time": "2022-05-10T14:18:11.627Z"
   },
   {
    "duration": 4,
    "start_time": "2022-05-10T14:18:11.654Z"
   },
   {
    "duration": 7,
    "start_time": "2022-05-10T14:18:11.659Z"
   },
   {
    "duration": 19136,
    "start_time": "2022-05-10T14:18:11.667Z"
   },
   {
    "duration": 44,
    "start_time": "2022-05-10T14:18:30.805Z"
   },
   {
    "duration": 14,
    "start_time": "2022-05-10T14:18:30.851Z"
   },
   {
    "duration": 7,
    "start_time": "2022-05-10T14:18:30.866Z"
   },
   {
    "duration": 18,
    "start_time": "2022-05-10T14:18:30.875Z"
   },
   {
    "duration": 3,
    "start_time": "2022-05-10T14:18:30.894Z"
   },
   {
    "duration": 6,
    "start_time": "2022-05-10T14:18:30.899Z"
   },
   {
    "duration": 35746,
    "start_time": "2022-05-10T14:18:30.906Z"
   },
   {
    "duration": 4,
    "start_time": "2022-05-10T14:19:06.654Z"
   },
   {
    "duration": 106,
    "start_time": "2022-05-10T14:19:06.660Z"
   },
   {
    "duration": 84,
    "start_time": "2022-05-10T14:19:06.768Z"
   },
   {
    "duration": 104,
    "start_time": "2022-05-10T14:19:06.857Z"
   },
   {
    "duration": 95,
    "start_time": "2022-05-10T14:19:06.963Z"
   },
   {
    "duration": 238,
    "start_time": "2022-05-10T14:19:07.060Z"
   },
   {
    "duration": 4,
    "start_time": "2022-05-10T14:19:07.300Z"
   },
   {
    "duration": 43,
    "start_time": "2022-05-10T14:19:07.305Z"
   },
   {
    "duration": 943,
    "start_time": "2022-05-10T14:19:07.350Z"
   },
   {
    "duration": 20073,
    "start_time": "2022-05-10T14:19:08.296Z"
   },
   {
    "duration": 262,
    "start_time": "2022-05-10T14:19:28.371Z"
   },
   {
    "duration": 8394,
    "start_time": "2022-05-10T14:19:28.635Z"
   },
   {
    "duration": 24,
    "start_time": "2022-05-10T14:20:31.915Z"
   },
   {
    "duration": 56,
    "start_time": "2022-05-10T14:20:31.941Z"
   },
   {
    "duration": 7,
    "start_time": "2022-05-10T14:20:31.999Z"
   },
   {
    "duration": 41,
    "start_time": "2022-05-10T14:20:32.007Z"
   },
   {
    "duration": 4,
    "start_time": "2022-05-10T14:20:32.050Z"
   },
   {
    "duration": 14,
    "start_time": "2022-05-10T14:20:32.056Z"
   },
   {
    "duration": 20,
    "start_time": "2022-05-10T14:20:32.072Z"
   },
   {
    "duration": 12,
    "start_time": "2022-05-10T14:20:32.093Z"
   },
   {
    "duration": 5,
    "start_time": "2022-05-10T14:20:32.107Z"
   },
   {
    "duration": 39,
    "start_time": "2022-05-10T14:20:32.114Z"
   },
   {
    "duration": 3,
    "start_time": "2022-05-10T14:20:32.155Z"
   },
   {
    "duration": 8,
    "start_time": "2022-05-10T14:20:32.159Z"
   },
   {
    "duration": 11,
    "start_time": "2022-05-10T14:20:32.169Z"
   },
   {
    "duration": 939,
    "start_time": "2022-05-10T14:20:32.183Z"
   },
   {
    "duration": 49,
    "start_time": "2022-05-10T14:20:33.124Z"
   },
   {
    "duration": 5,
    "start_time": "2022-05-10T14:20:33.175Z"
   },
   {
    "duration": 588,
    "start_time": "2022-05-10T14:20:33.182Z"
   },
   {
    "duration": 4,
    "start_time": "2022-05-10T14:20:33.771Z"
   },
   {
    "duration": 143,
    "start_time": "2022-05-10T14:20:33.777Z"
   },
   {
    "duration": 3,
    "start_time": "2022-05-10T14:20:33.922Z"
   },
   {
    "duration": 5,
    "start_time": "2022-05-10T14:20:33.926Z"
   },
   {
    "duration": 9552,
    "start_time": "2022-05-10T14:20:33.932Z"
   },
   {
    "duration": 4,
    "start_time": "2022-05-10T14:20:43.485Z"
   },
   {
    "duration": 8,
    "start_time": "2022-05-10T14:20:43.491Z"
   },
   {
    "duration": 4,
    "start_time": "2022-05-10T14:20:43.501Z"
   },
   {
    "duration": 7,
    "start_time": "2022-05-10T14:20:43.506Z"
   },
   {
    "duration": 6,
    "start_time": "2022-05-10T14:20:43.515Z"
   },
   {
    "duration": 5,
    "start_time": "2022-05-10T14:20:43.547Z"
   },
   {
    "duration": 7,
    "start_time": "2022-05-10T14:20:43.553Z"
   },
   {
    "duration": 19712,
    "start_time": "2022-05-10T14:20:43.562Z"
   },
   {
    "duration": 50,
    "start_time": "2022-05-10T14:21:03.276Z"
   },
   {
    "duration": 31,
    "start_time": "2022-05-10T14:21:03.328Z"
   },
   {
    "duration": 5,
    "start_time": "2022-05-10T14:21:03.360Z"
   },
   {
    "duration": 23,
    "start_time": "2022-05-10T14:21:03.366Z"
   },
   {
    "duration": 4,
    "start_time": "2022-05-10T14:21:03.390Z"
   },
   {
    "duration": 4,
    "start_time": "2022-05-10T14:21:03.396Z"
   },
   {
    "duration": 125999,
    "start_time": "2022-05-10T14:21:03.401Z"
   },
   {
    "duration": 0,
    "start_time": "2022-05-10T14:23:09.402Z"
   },
   {
    "duration": 0,
    "start_time": "2022-05-10T14:23:09.403Z"
   },
   {
    "duration": 0,
    "start_time": "2022-05-10T14:23:09.405Z"
   },
   {
    "duration": 0,
    "start_time": "2022-05-10T14:23:09.406Z"
   },
   {
    "duration": 0,
    "start_time": "2022-05-10T14:23:09.407Z"
   },
   {
    "duration": 0,
    "start_time": "2022-05-10T14:23:09.407Z"
   },
   {
    "duration": 0,
    "start_time": "2022-05-10T14:23:09.447Z"
   },
   {
    "duration": 0,
    "start_time": "2022-05-10T14:23:09.449Z"
   },
   {
    "duration": 0,
    "start_time": "2022-05-10T14:23:09.450Z"
   },
   {
    "duration": 0,
    "start_time": "2022-05-10T14:23:09.451Z"
   },
   {
    "duration": 0,
    "start_time": "2022-05-10T14:23:09.452Z"
   },
   {
    "duration": 0,
    "start_time": "2022-05-10T14:23:09.453Z"
   },
   {
    "duration": 30,
    "start_time": "2022-05-10T14:23:14.527Z"
   },
   {
    "duration": 56,
    "start_time": "2022-05-10T14:23:14.559Z"
   },
   {
    "duration": 8,
    "start_time": "2022-05-10T14:23:14.648Z"
   },
   {
    "duration": 11,
    "start_time": "2022-05-10T14:23:14.657Z"
   },
   {
    "duration": 4,
    "start_time": "2022-05-10T14:23:14.670Z"
   },
   {
    "duration": 12,
    "start_time": "2022-05-10T14:23:14.675Z"
   },
   {
    "duration": 19,
    "start_time": "2022-05-10T14:23:14.688Z"
   },
   {
    "duration": 39,
    "start_time": "2022-05-10T14:23:14.709Z"
   },
   {
    "duration": 6,
    "start_time": "2022-05-10T14:23:14.750Z"
   },
   {
    "duration": 12,
    "start_time": "2022-05-10T14:23:14.757Z"
   },
   {
    "duration": 3,
    "start_time": "2022-05-10T14:23:14.770Z"
   },
   {
    "duration": 4,
    "start_time": "2022-05-10T14:23:14.774Z"
   },
   {
    "duration": 9,
    "start_time": "2022-05-10T14:23:14.779Z"
   },
   {
    "duration": 983,
    "start_time": "2022-05-10T14:23:14.791Z"
   },
   {
    "duration": 37,
    "start_time": "2022-05-10T14:23:15.775Z"
   },
   {
    "duration": 5,
    "start_time": "2022-05-10T14:23:15.813Z"
   },
   {
    "duration": 613,
    "start_time": "2022-05-10T14:23:15.819Z"
   },
   {
    "duration": 4,
    "start_time": "2022-05-10T14:23:16.433Z"
   },
   {
    "duration": 133,
    "start_time": "2022-05-10T14:23:16.448Z"
   },
   {
    "duration": 3,
    "start_time": "2022-05-10T14:23:16.583Z"
   },
   {
    "duration": 6,
    "start_time": "2022-05-10T14:23:16.587Z"
   },
   {
    "duration": 9992,
    "start_time": "2022-05-10T14:23:16.594Z"
   },
   {
    "duration": 3,
    "start_time": "2022-05-10T14:23:26.587Z"
   },
   {
    "duration": 10,
    "start_time": "2022-05-10T14:23:26.592Z"
   },
   {
    "duration": 4,
    "start_time": "2022-05-10T14:23:26.603Z"
   },
   {
    "duration": 7,
    "start_time": "2022-05-10T14:23:26.608Z"
   },
   {
    "duration": 31,
    "start_time": "2022-05-10T14:23:26.616Z"
   },
   {
    "duration": 4,
    "start_time": "2022-05-10T14:23:26.649Z"
   },
   {
    "duration": 6,
    "start_time": "2022-05-10T14:23:26.655Z"
   },
   {
    "duration": 22653,
    "start_time": "2022-05-10T14:23:26.663Z"
   },
   {
    "duration": 32,
    "start_time": "2022-05-10T14:23:49.318Z"
   },
   {
    "duration": 10,
    "start_time": "2022-05-10T14:23:49.352Z"
   },
   {
    "duration": 5,
    "start_time": "2022-05-10T14:23:49.364Z"
   },
   {
    "duration": 12,
    "start_time": "2022-05-10T14:23:49.371Z"
   },
   {
    "duration": 3,
    "start_time": "2022-05-10T14:23:49.385Z"
   },
   {
    "duration": 5,
    "start_time": "2022-05-10T14:23:49.389Z"
   },
   {
    "duration": 137565,
    "start_time": "2022-05-10T14:23:49.396Z"
   },
   {
    "duration": 0,
    "start_time": "2022-05-10T14:26:06.963Z"
   },
   {
    "duration": 0,
    "start_time": "2022-05-10T14:26:06.965Z"
   },
   {
    "duration": 0,
    "start_time": "2022-05-10T14:26:07.048Z"
   },
   {
    "duration": 0,
    "start_time": "2022-05-10T14:26:07.062Z"
   },
   {
    "duration": 0,
    "start_time": "2022-05-10T14:26:07.065Z"
   },
   {
    "duration": 0,
    "start_time": "2022-05-10T14:26:07.066Z"
   },
   {
    "duration": 0,
    "start_time": "2022-05-10T14:26:07.148Z"
   },
   {
    "duration": 0,
    "start_time": "2022-05-10T14:26:07.150Z"
   },
   {
    "duration": 0,
    "start_time": "2022-05-10T14:26:07.151Z"
   },
   {
    "duration": 0,
    "start_time": "2022-05-10T14:26:07.152Z"
   },
   {
    "duration": 0,
    "start_time": "2022-05-10T14:26:07.154Z"
   },
   {
    "duration": 0,
    "start_time": "2022-05-10T14:26:07.156Z"
   },
   {
    "duration": 40,
    "start_time": "2022-05-10T14:27:33.749Z"
   },
   {
    "duration": 34,
    "start_time": "2022-05-10T14:28:03.700Z"
   },
   {
    "duration": 24,
    "start_time": "2022-05-10T14:28:39.493Z"
   },
   {
    "duration": 56,
    "start_time": "2022-05-10T14:28:39.518Z"
   },
   {
    "duration": 7,
    "start_time": "2022-05-10T14:28:39.576Z"
   },
   {
    "duration": 11,
    "start_time": "2022-05-10T14:28:39.585Z"
   },
   {
    "duration": 3,
    "start_time": "2022-05-10T14:28:39.599Z"
   },
   {
    "duration": 43,
    "start_time": "2022-05-10T14:28:39.604Z"
   },
   {
    "duration": 19,
    "start_time": "2022-05-10T14:28:39.649Z"
   },
   {
    "duration": 12,
    "start_time": "2022-05-10T14:28:39.669Z"
   },
   {
    "duration": 5,
    "start_time": "2022-05-10T14:28:39.682Z"
   },
   {
    "duration": 11,
    "start_time": "2022-05-10T14:28:39.689Z"
   },
   {
    "duration": 3,
    "start_time": "2022-05-10T14:28:39.701Z"
   },
   {
    "duration": 5,
    "start_time": "2022-05-10T14:28:39.705Z"
   },
   {
    "duration": 10,
    "start_time": "2022-05-10T14:28:39.711Z"
   },
   {
    "duration": 33,
    "start_time": "2022-05-10T14:28:39.749Z"
   },
   {
    "duration": 951,
    "start_time": "2022-05-10T14:28:39.783Z"
   },
   {
    "duration": 36,
    "start_time": "2022-05-10T14:28:40.748Z"
   },
   {
    "duration": 5,
    "start_time": "2022-05-10T14:28:40.785Z"
   },
   {
    "duration": 588,
    "start_time": "2022-05-10T14:28:40.791Z"
   },
   {
    "duration": 3,
    "start_time": "2022-05-10T14:28:41.381Z"
   },
   {
    "duration": 137,
    "start_time": "2022-05-10T14:28:41.385Z"
   },
   {
    "duration": 2,
    "start_time": "2022-05-10T14:28:41.524Z"
   },
   {
    "duration": 5,
    "start_time": "2022-05-10T14:28:41.528Z"
   },
   {
    "duration": 9773,
    "start_time": "2022-05-10T14:28:41.534Z"
   },
   {
    "duration": 4,
    "start_time": "2022-05-10T14:28:51.308Z"
   },
   {
    "duration": 11,
    "start_time": "2022-05-10T14:28:51.313Z"
   },
   {
    "duration": 4,
    "start_time": "2022-05-10T14:28:51.325Z"
   },
   {
    "duration": 5,
    "start_time": "2022-05-10T14:28:51.348Z"
   },
   {
    "duration": 7,
    "start_time": "2022-05-10T14:28:51.355Z"
   },
   {
    "duration": 4,
    "start_time": "2022-05-10T14:28:51.364Z"
   },
   {
    "duration": 6,
    "start_time": "2022-05-10T14:28:51.370Z"
   },
   {
    "duration": 20979,
    "start_time": "2022-05-10T14:28:51.378Z"
   },
   {
    "duration": 44,
    "start_time": "2022-05-10T14:29:12.358Z"
   },
   {
    "duration": 16,
    "start_time": "2022-05-10T14:29:12.404Z"
   },
   {
    "duration": 5,
    "start_time": "2022-05-10T14:29:12.421Z"
   },
   {
    "duration": 19,
    "start_time": "2022-05-10T14:29:12.448Z"
   },
   {
    "duration": 3,
    "start_time": "2022-05-10T14:29:12.468Z"
   },
   {
    "duration": 5,
    "start_time": "2022-05-10T14:29:12.472Z"
   },
   {
    "duration": 1528,
    "start_time": "2022-05-10T14:33:18.034Z"
   },
   {
    "duration": 64,
    "start_time": "2022-05-10T14:33:19.564Z"
   },
   {
    "duration": 26,
    "start_time": "2022-05-10T14:33:19.629Z"
   },
   {
    "duration": 11,
    "start_time": "2022-05-10T14:33:19.657Z"
   },
   {
    "duration": 4,
    "start_time": "2022-05-10T14:33:19.669Z"
   },
   {
    "duration": 15,
    "start_time": "2022-05-10T14:33:19.674Z"
   },
   {
    "duration": 31,
    "start_time": "2022-05-10T14:33:19.690Z"
   },
   {
    "duration": 26,
    "start_time": "2022-05-10T14:33:19.723Z"
   },
   {
    "duration": 5,
    "start_time": "2022-05-10T14:33:19.751Z"
   },
   {
    "duration": 10,
    "start_time": "2022-05-10T14:33:19.759Z"
   },
   {
    "duration": 3,
    "start_time": "2022-05-10T14:33:19.770Z"
   },
   {
    "duration": 4,
    "start_time": "2022-05-10T14:33:19.774Z"
   },
   {
    "duration": 10,
    "start_time": "2022-05-10T14:33:19.779Z"
   },
   {
    "duration": 63,
    "start_time": "2022-05-10T14:33:19.791Z"
   },
   {
    "duration": 988,
    "start_time": "2022-05-10T14:33:19.855Z"
   },
   {
    "duration": 35,
    "start_time": "2022-05-10T14:33:20.846Z"
   },
   {
    "duration": 4,
    "start_time": "2022-05-10T14:33:20.883Z"
   },
   {
    "duration": 597,
    "start_time": "2022-05-10T14:33:20.888Z"
   },
   {
    "duration": 4,
    "start_time": "2022-05-10T14:33:21.486Z"
   },
   {
    "duration": 135,
    "start_time": "2022-05-10T14:33:21.492Z"
   },
   {
    "duration": 3,
    "start_time": "2022-05-10T14:33:21.629Z"
   },
   {
    "duration": 14,
    "start_time": "2022-05-10T14:33:21.633Z"
   },
   {
    "duration": 11199,
    "start_time": "2022-05-10T14:33:21.649Z"
   },
   {
    "duration": 4,
    "start_time": "2022-05-10T14:33:32.849Z"
   },
   {
    "duration": 11,
    "start_time": "2022-05-10T14:33:32.855Z"
   },
   {
    "duration": 5,
    "start_time": "2022-05-10T14:33:32.868Z"
   },
   {
    "duration": 7,
    "start_time": "2022-05-10T14:33:32.875Z"
   },
   {
    "duration": 9,
    "start_time": "2022-05-10T14:33:32.887Z"
   },
   {
    "duration": 5,
    "start_time": "2022-05-10T14:33:32.898Z"
   },
   {
    "duration": 7,
    "start_time": "2022-05-10T14:33:32.905Z"
   },
   {
    "duration": 15374,
    "start_time": "2022-05-10T14:33:32.914Z"
   },
   {
    "duration": 39,
    "start_time": "2022-05-10T14:33:48.289Z"
   },
   {
    "duration": 27,
    "start_time": "2022-05-10T14:33:48.329Z"
   },
   {
    "duration": 5,
    "start_time": "2022-05-10T14:33:48.357Z"
   },
   {
    "duration": 17,
    "start_time": "2022-05-10T14:33:48.364Z"
   },
   {
    "duration": 3,
    "start_time": "2022-05-10T14:33:48.382Z"
   },
   {
    "duration": 5,
    "start_time": "2022-05-10T14:33:48.387Z"
   },
   {
    "duration": 4,
    "start_time": "2022-05-10T14:33:48.393Z"
   },
   {
    "duration": 6,
    "start_time": "2022-05-10T14:33:48.398Z"
   },
   {
    "duration": 3,
    "start_time": "2022-05-10T14:33:48.406Z"
   },
   {
    "duration": 5,
    "start_time": "2022-05-10T14:33:48.411Z"
   },
   {
    "duration": 30,
    "start_time": "2022-05-10T14:33:48.418Z"
   },
   {
    "duration": 10,
    "start_time": "2022-05-10T14:33:48.449Z"
   },
   {
    "duration": 159,
    "start_time": "2022-05-10T14:33:48.460Z"
   },
   {
    "duration": 3,
    "start_time": "2022-05-10T14:33:48.621Z"
   },
   {
    "duration": 39,
    "start_time": "2022-05-10T14:33:48.625Z"
   },
   {
    "duration": 781,
    "start_time": "2022-05-10T14:33:48.666Z"
   },
   {
    "duration": 16324,
    "start_time": "2022-05-10T14:33:49.449Z"
   },
   {
    "duration": 241,
    "start_time": "2022-05-10T14:34:05.775Z"
   },
   {
    "duration": 11164,
    "start_time": "2022-05-10T14:34:06.018Z"
   },
   {
    "duration": 213,
    "start_time": "2022-05-10T14:37:08.978Z"
   },
   {
    "duration": 12420,
    "start_time": "2022-05-10T14:37:15.114Z"
   },
   {
    "duration": 225,
    "start_time": "2022-05-10T14:37:43.477Z"
   },
   {
    "duration": 12978,
    "start_time": "2022-05-10T14:37:43.704Z"
   },
   {
    "duration": 104,
    "start_time": "2022-05-10T14:38:33.113Z"
   },
   {
    "duration": 30,
    "start_time": "2022-05-10T14:38:53.244Z"
   },
   {
    "duration": 26,
    "start_time": "2022-05-10T14:39:00.303Z"
   },
   {
    "duration": 10252,
    "start_time": "2022-05-10T14:39:17.311Z"
   },
   {
    "duration": 218,
    "start_time": "2022-05-10T14:39:30.633Z"
   },
   {
    "duration": 25,
    "start_time": "2022-05-10T14:39:30.853Z"
   },
   {
    "duration": 9667,
    "start_time": "2022-05-10T14:39:37.309Z"
   },
   {
    "duration": 26,
    "start_time": "2022-05-10T14:39:46.978Z"
   },
   {
    "duration": 251,
    "start_time": "2022-05-10T14:40:18.165Z"
   },
   {
    "duration": 35,
    "start_time": "2022-05-10T14:40:18.418Z"
   },
   {
    "duration": 10277,
    "start_time": "2022-05-10T14:40:18.455Z"
   },
   {
    "duration": 36,
    "start_time": "2022-05-10T14:40:28.734Z"
   },
   {
    "duration": 195,
    "start_time": "2022-05-10T14:40:50.511Z"
   },
   {
    "duration": 25,
    "start_time": "2022-05-10T14:40:50.708Z"
   },
   {
    "duration": 10145,
    "start_time": "2022-05-10T14:40:50.811Z"
   },
   {
    "duration": 24,
    "start_time": "2022-05-10T14:41:00.958Z"
   },
   {
    "duration": 216,
    "start_time": "2022-05-10T14:41:12.915Z"
   },
   {
    "duration": 30,
    "start_time": "2022-05-10T14:41:13.133Z"
   },
   {
    "duration": 11368,
    "start_time": "2022-05-10T14:41:13.189Z"
   },
   {
    "duration": 24,
    "start_time": "2022-05-10T14:41:24.559Z"
   },
   {
    "duration": 226,
    "start_time": "2022-05-10T14:41:38.243Z"
   },
   {
    "duration": 24,
    "start_time": "2022-05-10T14:41:38.470Z"
   },
   {
    "duration": 9575,
    "start_time": "2022-05-10T14:41:38.563Z"
   },
   {
    "duration": 29,
    "start_time": "2022-05-10T14:41:48.140Z"
   },
   {
    "duration": 239,
    "start_time": "2022-05-10T14:41:59.734Z"
   },
   {
    "duration": 26,
    "start_time": "2022-05-10T14:42:00.604Z"
   },
   {
    "duration": 11712,
    "start_time": "2022-05-10T14:42:00.748Z"
   },
   {
    "duration": 26,
    "start_time": "2022-05-10T14:42:12.463Z"
   },
   {
    "duration": 234,
    "start_time": "2022-05-10T14:42:24.318Z"
   },
   {
    "duration": 25,
    "start_time": "2022-05-10T14:42:24.556Z"
   },
   {
    "duration": 12204,
    "start_time": "2022-05-10T14:42:24.590Z"
   },
   {
    "duration": 25,
    "start_time": "2022-05-10T14:42:36.796Z"
   },
   {
    "duration": 11,
    "start_time": "2022-05-10T14:43:36.466Z"
   },
   {
    "duration": 10,
    "start_time": "2022-05-10T14:43:42.252Z"
   },
   {
    "duration": 36,
    "start_time": "2022-05-10T14:44:31.183Z"
   },
   {
    "duration": 27,
    "start_time": "2022-05-10T14:44:37.661Z"
   },
   {
    "duration": 67,
    "start_time": "2022-05-10T14:44:37.690Z"
   },
   {
    "duration": 8,
    "start_time": "2022-05-10T14:44:37.758Z"
   },
   {
    "duration": 15,
    "start_time": "2022-05-10T14:44:37.767Z"
   },
   {
    "duration": 8,
    "start_time": "2022-05-10T14:44:37.785Z"
   },
   {
    "duration": 12,
    "start_time": "2022-05-10T14:44:37.794Z"
   },
   {
    "duration": 44,
    "start_time": "2022-05-10T14:44:37.808Z"
   },
   {
    "duration": 13,
    "start_time": "2022-05-10T14:44:37.854Z"
   },
   {
    "duration": 6,
    "start_time": "2022-05-10T14:44:37.868Z"
   },
   {
    "duration": 11,
    "start_time": "2022-05-10T14:44:37.875Z"
   },
   {
    "duration": 2,
    "start_time": "2022-05-10T14:44:37.888Z"
   },
   {
    "duration": 4,
    "start_time": "2022-05-10T14:44:37.892Z"
   },
   {
    "duration": 12,
    "start_time": "2022-05-10T14:44:37.898Z"
   },
   {
    "duration": 55,
    "start_time": "2022-05-10T14:44:37.913Z"
   },
   {
    "duration": 964,
    "start_time": "2022-05-10T14:44:37.970Z"
   },
   {
    "duration": 42,
    "start_time": "2022-05-10T14:44:38.935Z"
   },
   {
    "duration": 5,
    "start_time": "2022-05-10T14:44:38.978Z"
   },
   {
    "duration": 588,
    "start_time": "2022-05-10T14:44:38.984Z"
   },
   {
    "duration": 4,
    "start_time": "2022-05-10T14:44:39.573Z"
   },
   {
    "duration": 136,
    "start_time": "2022-05-10T14:44:39.578Z"
   },
   {
    "duration": 3,
    "start_time": "2022-05-10T14:44:39.715Z"
   },
   {
    "duration": 5,
    "start_time": "2022-05-10T14:44:39.719Z"
   },
   {
    "duration": 9743,
    "start_time": "2022-05-10T14:44:39.725Z"
   },
   {
    "duration": 4,
    "start_time": "2022-05-10T14:44:49.470Z"
   },
   {
    "duration": 10,
    "start_time": "2022-05-10T14:44:49.476Z"
   },
   {
    "duration": 6,
    "start_time": "2022-05-10T14:44:49.488Z"
   },
   {
    "duration": 6,
    "start_time": "2022-05-10T14:44:49.495Z"
   },
   {
    "duration": 9,
    "start_time": "2022-05-10T14:44:49.502Z"
   },
   {
    "duration": 36,
    "start_time": "2022-05-10T14:44:49.512Z"
   },
   {
    "duration": 8,
    "start_time": "2022-05-10T14:44:49.549Z"
   },
   {
    "duration": 13939,
    "start_time": "2022-05-10T14:44:49.559Z"
   },
   {
    "duration": 19,
    "start_time": "2022-05-10T14:45:03.499Z"
   },
   {
    "duration": 8,
    "start_time": "2022-05-10T14:45:03.520Z"
   },
   {
    "duration": 22,
    "start_time": "2022-05-10T14:45:03.530Z"
   },
   {
    "duration": 11,
    "start_time": "2022-05-10T14:45:03.553Z"
   },
   {
    "duration": 5,
    "start_time": "2022-05-10T14:45:03.566Z"
   },
   {
    "duration": 5,
    "start_time": "2022-05-10T14:45:03.572Z"
   },
   {
    "duration": 6,
    "start_time": "2022-05-10T14:45:03.578Z"
   },
   {
    "duration": 6,
    "start_time": "2022-05-10T14:45:03.585Z"
   },
   {
    "duration": 5,
    "start_time": "2022-05-10T14:45:03.593Z"
   },
   {
    "duration": 3,
    "start_time": "2022-05-10T14:45:03.602Z"
   },
   {
    "duration": 5,
    "start_time": "2022-05-10T14:45:03.607Z"
   },
   {
    "duration": 10,
    "start_time": "2022-05-10T14:45:03.614Z"
   },
   {
    "duration": 165,
    "start_time": "2022-05-10T14:45:03.626Z"
   },
   {
    "duration": 3,
    "start_time": "2022-05-10T14:45:03.793Z"
   },
   {
    "duration": 24,
    "start_time": "2022-05-10T14:45:03.797Z"
   },
   {
    "duration": 706,
    "start_time": "2022-05-10T14:45:03.823Z"
   },
   {
    "duration": 18845,
    "start_time": "2022-05-10T14:45:04.531Z"
   },
   {
    "duration": 405,
    "start_time": "2022-05-10T14:45:23.378Z"
   },
   {
    "duration": 27,
    "start_time": "2022-05-10T14:45:23.785Z"
   },
   {
    "duration": 11457,
    "start_time": "2022-05-10T14:45:23.813Z"
   },
   {
    "duration": 25,
    "start_time": "2022-05-10T14:45:35.272Z"
   },
   {
    "duration": 218,
    "start_time": "2022-05-10T14:45:52.190Z"
   },
   {
    "duration": 25,
    "start_time": "2022-05-10T14:45:52.410Z"
   },
   {
    "duration": 9274,
    "start_time": "2022-05-10T14:46:00.435Z"
   },
   {
    "duration": 25,
    "start_time": "2022-05-10T14:46:09.711Z"
   },
   {
    "duration": 12,
    "start_time": "2022-05-10T14:46:15.736Z"
   },
   {
    "duration": 14,
    "start_time": "2022-05-10T14:46:44.651Z"
   },
   {
    "duration": 227,
    "start_time": "2022-05-10T14:46:49.389Z"
   },
   {
    "duration": 33,
    "start_time": "2022-05-10T14:46:49.618Z"
   },
   {
    "duration": 12026,
    "start_time": "2022-05-10T14:46:49.679Z"
   },
   {
    "duration": 19,
    "start_time": "2022-05-10T14:47:01.707Z"
   },
   {
    "duration": 16,
    "start_time": "2022-05-10T14:50:24.552Z"
   },
   {
    "duration": 9,
    "start_time": "2022-05-10T14:50:34.958Z"
   },
   {
    "duration": 3,
    "start_time": "2022-05-10T14:50:47.788Z"
   },
   {
    "duration": 3,
    "start_time": "2022-05-10T14:50:48.273Z"
   },
   {
    "duration": 398548,
    "start_time": "2022-05-10T14:50:48.778Z"
   },
   {
    "duration": 26,
    "start_time": "2022-05-10T15:15:21.624Z"
   },
   {
    "duration": 56,
    "start_time": "2022-05-10T15:15:21.652Z"
   },
   {
    "duration": 7,
    "start_time": "2022-05-10T15:15:21.710Z"
   },
   {
    "duration": 37,
    "start_time": "2022-05-10T15:15:21.718Z"
   },
   {
    "duration": 4,
    "start_time": "2022-05-10T15:15:21.757Z"
   },
   {
    "duration": 13,
    "start_time": "2022-05-10T15:15:21.762Z"
   },
   {
    "duration": 19,
    "start_time": "2022-05-10T15:15:21.777Z"
   },
   {
    "duration": 12,
    "start_time": "2022-05-10T15:15:21.797Z"
   },
   {
    "duration": 4,
    "start_time": "2022-05-10T15:15:21.811Z"
   },
   {
    "duration": 36,
    "start_time": "2022-05-10T15:15:21.817Z"
   },
   {
    "duration": 3,
    "start_time": "2022-05-10T15:15:21.855Z"
   },
   {
    "duration": 4,
    "start_time": "2022-05-10T15:15:21.859Z"
   },
   {
    "duration": 8,
    "start_time": "2022-05-10T15:15:21.864Z"
   },
   {
    "duration": 33,
    "start_time": "2022-05-10T15:15:21.874Z"
   },
   {
    "duration": 988,
    "start_time": "2022-05-10T15:15:21.909Z"
   },
   {
    "duration": 34,
    "start_time": "2022-05-10T15:15:22.899Z"
   },
   {
    "duration": 4,
    "start_time": "2022-05-10T15:15:22.948Z"
   },
   {
    "duration": 589,
    "start_time": "2022-05-10T15:15:22.954Z"
   },
   {
    "duration": 5,
    "start_time": "2022-05-10T15:15:23.544Z"
   },
   {
    "duration": 132,
    "start_time": "2022-05-10T15:15:23.551Z"
   },
   {
    "duration": 3,
    "start_time": "2022-05-10T15:15:23.685Z"
   },
   {
    "duration": 4,
    "start_time": "2022-05-10T15:15:23.690Z"
   },
   {
    "duration": 10227,
    "start_time": "2022-05-10T15:15:23.696Z"
   },
   {
    "duration": 4,
    "start_time": "2022-05-10T15:15:33.925Z"
   },
   {
    "duration": 22,
    "start_time": "2022-05-10T15:15:33.930Z"
   },
   {
    "duration": 4,
    "start_time": "2022-05-10T15:15:33.953Z"
   },
   {
    "duration": 5,
    "start_time": "2022-05-10T15:15:33.959Z"
   },
   {
    "duration": 7,
    "start_time": "2022-05-10T15:15:33.966Z"
   },
   {
    "duration": 4,
    "start_time": "2022-05-10T15:15:33.974Z"
   },
   {
    "duration": 6,
    "start_time": "2022-05-10T15:15:33.980Z"
   },
   {
    "duration": 18365,
    "start_time": "2022-05-10T15:15:33.987Z"
   },
   {
    "duration": 35,
    "start_time": "2022-05-10T15:15:52.354Z"
   },
   {
    "duration": 68,
    "start_time": "2022-05-10T15:15:52.390Z"
   },
   {
    "duration": 5,
    "start_time": "2022-05-10T15:15:52.460Z"
   },
   {
    "duration": 16,
    "start_time": "2022-05-10T15:15:52.466Z"
   },
   {
    "duration": 3,
    "start_time": "2022-05-10T15:15:52.483Z"
   },
   {
    "duration": 61,
    "start_time": "2022-05-10T15:15:52.487Z"
   },
   {
    "duration": 2,
    "start_time": "2022-05-10T15:15:52.550Z"
   },
   {
    "duration": 16,
    "start_time": "2022-05-10T15:15:52.553Z"
   },
   {
    "duration": 0,
    "start_time": "2022-05-10T15:15:52.571Z"
   },
   {
    "duration": 0,
    "start_time": "2022-05-10T15:15:52.572Z"
   },
   {
    "duration": 0,
    "start_time": "2022-05-10T15:15:52.573Z"
   },
   {
    "duration": 0,
    "start_time": "2022-05-10T15:15:52.574Z"
   },
   {
    "duration": 0,
    "start_time": "2022-05-10T15:15:52.575Z"
   },
   {
    "duration": 0,
    "start_time": "2022-05-10T15:15:52.577Z"
   },
   {
    "duration": 0,
    "start_time": "2022-05-10T15:15:52.578Z"
   },
   {
    "duration": 0,
    "start_time": "2022-05-10T15:15:52.579Z"
   },
   {
    "duration": 0,
    "start_time": "2022-05-10T15:15:52.581Z"
   },
   {
    "duration": 0,
    "start_time": "2022-05-10T15:15:52.582Z"
   },
   {
    "duration": 0,
    "start_time": "2022-05-10T15:15:52.583Z"
   },
   {
    "duration": 0,
    "start_time": "2022-05-10T15:15:52.584Z"
   },
   {
    "duration": 0,
    "start_time": "2022-05-10T15:15:52.585Z"
   },
   {
    "duration": 24,
    "start_time": "2022-05-10T15:16:26.128Z"
   },
   {
    "duration": 57,
    "start_time": "2022-05-10T15:16:26.154Z"
   },
   {
    "duration": 41,
    "start_time": "2022-05-10T15:16:26.213Z"
   },
   {
    "duration": 11,
    "start_time": "2022-05-10T15:16:26.256Z"
   },
   {
    "duration": 4,
    "start_time": "2022-05-10T15:16:26.268Z"
   },
   {
    "duration": 11,
    "start_time": "2022-05-10T15:16:26.273Z"
   },
   {
    "duration": 19,
    "start_time": "2022-05-10T15:16:26.286Z"
   },
   {
    "duration": 43,
    "start_time": "2022-05-10T15:16:26.307Z"
   },
   {
    "duration": 15,
    "start_time": "2022-05-10T15:16:26.352Z"
   },
   {
    "duration": 10,
    "start_time": "2022-05-10T15:16:26.369Z"
   },
   {
    "duration": 3,
    "start_time": "2022-05-10T15:16:26.381Z"
   },
   {
    "duration": 6,
    "start_time": "2022-05-10T15:16:26.386Z"
   },
   {
    "duration": 10,
    "start_time": "2022-05-10T15:16:26.393Z"
   },
   {
    "duration": 59,
    "start_time": "2022-05-10T15:16:26.404Z"
   },
   {
    "duration": 972,
    "start_time": "2022-05-10T15:16:26.465Z"
   },
   {
    "duration": 41,
    "start_time": "2022-05-10T15:16:27.438Z"
   },
   {
    "duration": 6,
    "start_time": "2022-05-10T15:16:27.481Z"
   },
   {
    "duration": 618,
    "start_time": "2022-05-10T15:16:27.489Z"
   },
   {
    "duration": 5,
    "start_time": "2022-05-10T15:16:28.109Z"
   },
   {
    "duration": 144,
    "start_time": "2022-05-10T15:16:28.115Z"
   },
   {
    "duration": 3,
    "start_time": "2022-05-10T15:16:28.261Z"
   },
   {
    "duration": 5,
    "start_time": "2022-05-10T15:16:28.265Z"
   },
   {
    "duration": 10377,
    "start_time": "2022-05-10T15:16:28.272Z"
   },
   {
    "duration": 4,
    "start_time": "2022-05-10T15:16:38.650Z"
   },
   {
    "duration": 10,
    "start_time": "2022-05-10T15:16:38.655Z"
   },
   {
    "duration": 4,
    "start_time": "2022-05-10T15:16:38.666Z"
   },
   {
    "duration": 6,
    "start_time": "2022-05-10T15:16:38.671Z"
   },
   {
    "duration": 7,
    "start_time": "2022-05-10T15:16:38.680Z"
   },
   {
    "duration": 3,
    "start_time": "2022-05-10T15:16:38.689Z"
   },
   {
    "duration": 13,
    "start_time": "2022-05-10T15:16:38.694Z"
   },
   {
    "duration": 16793,
    "start_time": "2022-05-10T15:16:38.708Z"
   },
   {
    "duration": 30,
    "start_time": "2022-05-10T15:16:55.503Z"
   },
   {
    "duration": 22,
    "start_time": "2022-05-10T15:16:55.535Z"
   },
   {
    "duration": 6,
    "start_time": "2022-05-10T15:16:55.558Z"
   },
   {
    "duration": 17,
    "start_time": "2022-05-10T15:16:55.565Z"
   },
   {
    "duration": 3,
    "start_time": "2022-05-10T15:16:55.583Z"
   },
   {
    "duration": 4,
    "start_time": "2022-05-10T15:16:55.588Z"
   },
   {
    "duration": 6,
    "start_time": "2022-05-10T15:16:55.593Z"
   },
   {
    "duration": 6,
    "start_time": "2022-05-10T15:16:55.600Z"
   },
   {
    "duration": 3,
    "start_time": "2022-05-10T15:16:55.608Z"
   },
   {
    "duration": 4,
    "start_time": "2022-05-10T15:16:55.613Z"
   },
   {
    "duration": 30,
    "start_time": "2022-05-10T15:16:55.618Z"
   },
   {
    "duration": 9,
    "start_time": "2022-05-10T15:16:55.649Z"
   },
   {
    "duration": 261,
    "start_time": "2022-05-10T15:16:55.660Z"
   },
   {
    "duration": 18,
    "start_time": "2022-05-10T15:16:55.923Z"
   },
   {
    "duration": 29,
    "start_time": "2022-05-10T15:16:55.942Z"
   },
   {
    "duration": 723,
    "start_time": "2022-05-10T15:16:55.972Z"
   },
   {
    "duration": 17338,
    "start_time": "2022-05-10T15:16:56.696Z"
   },
   {
    "duration": 224,
    "start_time": "2022-05-10T15:17:14.036Z"
   },
   {
    "duration": 24,
    "start_time": "2022-05-10T15:17:14.261Z"
   },
   {
    "duration": 13521,
    "start_time": "2022-05-10T15:17:14.286Z"
   },
   {
    "duration": 20,
    "start_time": "2022-05-10T15:17:27.808Z"
   },
   {
    "duration": 29,
    "start_time": "2022-05-10T15:22:00.877Z"
   },
   {
    "duration": 596,
    "start_time": "2022-05-10T15:22:17.694Z"
   },
   {
    "duration": 5,
    "start_time": "2022-05-10T15:22:48.477Z"
   },
   {
    "duration": 582,
    "start_time": "2022-05-10T15:22:51.398Z"
   },
   {
    "duration": 322,
    "start_time": "2022-05-10T15:30:01.393Z"
   },
   {
    "duration": 722,
    "start_time": "2022-05-10T15:30:14.770Z"
   },
   {
    "duration": 20790,
    "start_time": "2022-05-10T15:30:15.538Z"
   },
   {
    "duration": 234,
    "start_time": "2022-05-10T15:30:36.331Z"
   },
   {
    "duration": 26,
    "start_time": "2022-05-10T15:30:36.566Z"
   },
   {
    "duration": 11785,
    "start_time": "2022-05-10T15:30:36.594Z"
   },
   {
    "duration": 18,
    "start_time": "2022-05-10T15:30:48.380Z"
   },
   {
    "duration": 343,
    "start_time": "2022-05-10T15:32:37.605Z"
   },
   {
    "duration": 812,
    "start_time": "2022-05-10T15:34:35.043Z"
   },
   {
    "duration": 14963,
    "start_time": "2022-05-10T15:40:32.597Z"
   },
   {
    "duration": 32,
    "start_time": "2022-05-10T15:40:47.563Z"
   },
   {
    "duration": 692,
    "start_time": "2022-05-10T15:44:46.093Z"
   },
   {
    "duration": 161,
    "start_time": "2022-05-10T15:51:44.009Z"
   },
   {
    "duration": 154,
    "start_time": "2022-05-10T15:51:52.695Z"
   },
   {
    "duration": 225,
    "start_time": "2022-05-10T15:52:44.914Z"
   },
   {
    "duration": 2313,
    "start_time": "2022-05-10T21:01:54.413Z"
   },
   {
    "duration": 95,
    "start_time": "2022-05-10T21:01:56.729Z"
   },
   {
    "duration": 26,
    "start_time": "2022-05-10T21:01:56.827Z"
   },
   {
    "duration": 17,
    "start_time": "2022-05-10T21:01:56.855Z"
   },
   {
    "duration": 6,
    "start_time": "2022-05-10T21:01:56.875Z"
   },
   {
    "duration": 17,
    "start_time": "2022-05-10T21:01:56.883Z"
   },
   {
    "duration": 62,
    "start_time": "2022-05-10T21:01:56.902Z"
   },
   {
    "duration": 19,
    "start_time": "2022-05-10T21:01:56.966Z"
   },
   {
    "duration": 7,
    "start_time": "2022-05-10T21:01:56.987Z"
   },
   {
    "duration": 17,
    "start_time": "2022-05-10T21:01:56.996Z"
   },
   {
    "duration": 4,
    "start_time": "2022-05-10T21:01:57.015Z"
   },
   {
    "duration": 30,
    "start_time": "2022-05-10T21:01:57.022Z"
   },
   {
    "duration": 13,
    "start_time": "2022-05-10T21:01:57.054Z"
   },
   {
    "duration": 94,
    "start_time": "2022-05-10T21:01:57.074Z"
   },
   {
    "duration": 1714,
    "start_time": "2022-05-10T21:01:57.170Z"
   },
   {
    "duration": 975,
    "start_time": "2022-05-10T21:01:58.886Z"
   },
   {
    "duration": 6,
    "start_time": "2022-05-10T21:01:59.864Z"
   },
   {
    "duration": 1085,
    "start_time": "2022-05-10T21:01:59.873Z"
   },
   {
    "duration": 6,
    "start_time": "2022-05-10T21:02:00.961Z"
   },
   {
    "duration": 263,
    "start_time": "2022-05-10T21:02:00.970Z"
   },
   {
    "duration": 5,
    "start_time": "2022-05-10T21:02:01.235Z"
   },
   {
    "duration": 4,
    "start_time": "2022-05-10T21:02:01.252Z"
   },
   {
    "duration": 16762,
    "start_time": "2022-05-10T21:02:01.258Z"
   },
   {
    "duration": 7,
    "start_time": "2022-05-10T21:02:18.023Z"
   },
   {
    "duration": 26,
    "start_time": "2022-05-10T21:02:18.032Z"
   },
   {
    "duration": 6,
    "start_time": "2022-05-10T21:02:18.060Z"
   },
   {
    "duration": 10,
    "start_time": "2022-05-10T21:02:18.068Z"
   },
   {
    "duration": 9,
    "start_time": "2022-05-10T21:02:18.081Z"
   },
   {
    "duration": 6,
    "start_time": "2022-05-10T21:02:18.092Z"
   },
   {
    "duration": 52,
    "start_time": "2022-05-10T21:02:18.100Z"
   },
   {
    "duration": 34723,
    "start_time": "2022-05-10T21:02:18.154Z"
   },
   {
    "duration": 112,
    "start_time": "2022-05-10T21:02:52.880Z"
   },
   {
    "duration": 76,
    "start_time": "2022-05-10T21:02:52.994Z"
   },
   {
    "duration": 8,
    "start_time": "2022-05-10T21:02:53.072Z"
   },
   {
    "duration": 83,
    "start_time": "2022-05-10T21:02:53.082Z"
   },
   {
    "duration": 4,
    "start_time": "2022-05-10T21:02:53.167Z"
   },
   {
    "duration": 9,
    "start_time": "2022-05-10T21:02:53.173Z"
   },
   {
    "duration": 2104,
    "start_time": "2022-05-10T21:03:56.200Z"
   },
   {
    "duration": 104,
    "start_time": "2022-05-10T21:03:58.307Z"
   },
   {
    "duration": 15,
    "start_time": "2022-05-10T21:03:58.413Z"
   },
   {
    "duration": 39,
    "start_time": "2022-05-10T21:03:58.431Z"
   },
   {
    "duration": 5,
    "start_time": "2022-05-10T21:03:58.473Z"
   },
   {
    "duration": 18,
    "start_time": "2022-05-10T21:03:58.480Z"
   },
   {
    "duration": 55,
    "start_time": "2022-05-10T21:03:58.500Z"
   },
   {
    "duration": 20,
    "start_time": "2022-05-10T21:03:58.563Z"
   },
   {
    "duration": 6,
    "start_time": "2022-05-10T21:03:58.586Z"
   },
   {
    "duration": 16,
    "start_time": "2022-05-10T21:03:58.594Z"
   },
   {
    "duration": 4,
    "start_time": "2022-05-10T21:03:58.612Z"
   },
   {
    "duration": 6,
    "start_time": "2022-05-10T21:03:58.618Z"
   },
   {
    "duration": 21,
    "start_time": "2022-05-10T21:03:58.660Z"
   },
   {
    "duration": 76,
    "start_time": "2022-05-10T21:03:58.685Z"
   },
   {
    "duration": 1871,
    "start_time": "2022-05-10T21:03:58.764Z"
   },
   {
    "duration": 993,
    "start_time": "2022-05-10T21:04:00.637Z"
   },
   {
    "duration": 7,
    "start_time": "2022-05-10T21:04:01.633Z"
   },
   {
    "duration": 976,
    "start_time": "2022-05-10T21:04:01.653Z"
   },
   {
    "duration": 6,
    "start_time": "2022-05-10T21:04:02.631Z"
   },
   {
    "duration": 242,
    "start_time": "2022-05-10T21:04:02.655Z"
   },
   {
    "duration": 4,
    "start_time": "2022-05-10T21:04:02.899Z"
   },
   {
    "duration": 7,
    "start_time": "2022-05-10T21:04:02.905Z"
   },
   {
    "duration": 16188,
    "start_time": "2022-05-10T21:04:02.915Z"
   },
   {
    "duration": 5,
    "start_time": "2022-05-10T21:04:19.105Z"
   },
   {
    "duration": 15,
    "start_time": "2022-05-10T21:04:19.112Z"
   },
   {
    "duration": 34,
    "start_time": "2022-05-10T21:04:19.129Z"
   },
   {
    "duration": 9,
    "start_time": "2022-05-10T21:04:19.166Z"
   },
   {
    "duration": 9,
    "start_time": "2022-05-10T21:04:19.178Z"
   },
   {
    "duration": 7,
    "start_time": "2022-05-10T21:04:19.189Z"
   },
   {
    "duration": 9,
    "start_time": "2022-05-10T21:04:19.197Z"
   },
   {
    "duration": 37983,
    "start_time": "2022-05-10T21:04:19.208Z"
   },
   {
    "duration": 88,
    "start_time": "2022-05-10T21:04:57.193Z"
   },
   {
    "duration": 28,
    "start_time": "2022-05-10T21:04:57.283Z"
   },
   {
    "duration": 7,
    "start_time": "2022-05-10T21:04:57.313Z"
   },
   {
    "duration": 54,
    "start_time": "2022-05-10T21:04:57.322Z"
   },
   {
    "duration": 4,
    "start_time": "2022-05-10T21:04:57.378Z"
   },
   {
    "duration": 7,
    "start_time": "2022-05-10T21:04:57.384Z"
   },
   {
    "duration": 548440,
    "start_time": "2022-05-10T21:04:57.393Z"
   },
   {
    "duration": 3,
    "start_time": "2022-05-10T21:14:05.836Z"
   },
   {
    "duration": 18,
    "start_time": "2022-05-10T21:14:05.841Z"
   },
   {
    "duration": 9,
    "start_time": "2022-05-10T21:14:05.867Z"
   },
   {
    "duration": 7,
    "start_time": "2022-05-10T21:14:05.878Z"
   },
   {
    "duration": 18,
    "start_time": "2022-05-10T21:14:05.888Z"
   },
   {
    "duration": 313,
    "start_time": "2022-05-10T21:14:05.908Z"
   },
   {
    "duration": 5,
    "start_time": "2022-05-10T21:14:06.224Z"
   },
   {
    "duration": 614,
    "start_time": "2022-05-10T21:14:06.251Z"
   },
   {
    "duration": 1212,
    "start_time": "2022-05-10T21:14:06.868Z"
   },
   {
    "duration": 27751,
    "start_time": "2022-05-10T21:14:08.082Z"
   },
   {
    "duration": 390,
    "start_time": "2022-05-10T21:14:35.835Z"
   },
   {
    "duration": 383,
    "start_time": "2022-05-10T21:14:36.227Z"
   },
   {
    "duration": 15697,
    "start_time": "2022-05-10T21:14:36.612Z"
   },
   {
    "duration": 21,
    "start_time": "2022-05-10T21:14:52.311Z"
   },
   {
    "duration": 51,
    "start_time": "2022-05-10T21:25:55.924Z"
   },
   {
    "duration": 112,
    "start_time": "2022-05-10T21:25:55.982Z"
   },
   {
    "duration": 11,
    "start_time": "2022-05-10T21:25:56.098Z"
   },
   {
    "duration": 26,
    "start_time": "2022-05-10T21:25:56.113Z"
   },
   {
    "duration": 7,
    "start_time": "2022-05-10T21:25:56.155Z"
   },
   {
    "duration": 32,
    "start_time": "2022-05-10T21:25:56.164Z"
   },
   {
    "duration": 78,
    "start_time": "2022-05-10T21:25:56.199Z"
   },
   {
    "duration": 20,
    "start_time": "2022-05-10T21:25:56.283Z"
   },
   {
    "duration": 12,
    "start_time": "2022-05-10T21:25:56.305Z"
   },
   {
    "duration": 15,
    "start_time": "2022-05-10T21:25:56.321Z"
   },
   {
    "duration": 18,
    "start_time": "2022-05-10T21:25:56.339Z"
   },
   {
    "duration": 25,
    "start_time": "2022-05-10T21:25:56.360Z"
   },
   {
    "duration": 15,
    "start_time": "2022-05-10T21:25:56.388Z"
   },
   {
    "duration": 89,
    "start_time": "2022-05-10T21:25:56.405Z"
   },
   {
    "duration": 1814,
    "start_time": "2022-05-10T21:25:56.496Z"
   },
   {
    "duration": 1047,
    "start_time": "2022-05-10T21:25:58.312Z"
   },
   {
    "duration": 20,
    "start_time": "2022-05-10T21:25:59.361Z"
   },
   {
    "duration": 1040,
    "start_time": "2022-05-10T21:25:59.385Z"
   },
   {
    "duration": 6,
    "start_time": "2022-05-10T21:26:00.427Z"
   },
   {
    "duration": 279,
    "start_time": "2022-05-10T21:26:00.435Z"
   },
   {
    "duration": 4,
    "start_time": "2022-05-10T21:26:00.716Z"
   },
   {
    "duration": 11,
    "start_time": "2022-05-10T21:26:00.722Z"
   },
   {
    "duration": 18685,
    "start_time": "2022-05-10T21:26:00.736Z"
   },
   {
    "duration": 6,
    "start_time": "2022-05-10T21:26:19.423Z"
   },
   {
    "duration": 40,
    "start_time": "2022-05-10T21:26:19.431Z"
   },
   {
    "duration": 17,
    "start_time": "2022-05-10T21:26:19.473Z"
   },
   {
    "duration": 9,
    "start_time": "2022-05-10T21:26:19.493Z"
   },
   {
    "duration": 9,
    "start_time": "2022-05-10T21:26:19.508Z"
   },
   {
    "duration": 6,
    "start_time": "2022-05-10T21:26:19.519Z"
   },
   {
    "duration": 8,
    "start_time": "2022-05-10T21:26:19.557Z"
   },
   {
    "duration": 29541,
    "start_time": "2022-05-10T21:26:19.567Z"
   },
   {
    "duration": 66,
    "start_time": "2022-05-10T21:26:49.111Z"
   },
   {
    "duration": 19,
    "start_time": "2022-05-10T21:26:49.179Z"
   },
   {
    "duration": 7,
    "start_time": "2022-05-10T21:26:49.200Z"
   },
   {
    "duration": 56,
    "start_time": "2022-05-10T21:26:49.209Z"
   },
   {
    "duration": 5,
    "start_time": "2022-05-10T21:26:49.267Z"
   },
   {
    "duration": 18,
    "start_time": "2022-05-10T21:26:49.274Z"
   },
   {
    "duration": 1127316,
    "start_time": "2022-05-10T21:26:49.294Z"
   },
   {
    "duration": 0,
    "start_time": "2022-05-10T21:45:36.612Z"
   },
   {
    "duration": 0,
    "start_time": "2022-05-10T21:45:36.614Z"
   },
   {
    "duration": 0,
    "start_time": "2022-05-10T21:45:36.615Z"
   },
   {
    "duration": 0,
    "start_time": "2022-05-10T21:45:36.617Z"
   },
   {
    "duration": 0,
    "start_time": "2022-05-10T21:45:36.618Z"
   },
   {
    "duration": 0,
    "start_time": "2022-05-10T21:45:36.620Z"
   },
   {
    "duration": 0,
    "start_time": "2022-05-10T21:45:36.622Z"
   },
   {
    "duration": 0,
    "start_time": "2022-05-10T21:45:36.623Z"
   },
   {
    "duration": 0,
    "start_time": "2022-05-10T21:45:36.624Z"
   },
   {
    "duration": 0,
    "start_time": "2022-05-10T21:45:36.651Z"
   },
   {
    "duration": 0,
    "start_time": "2022-05-10T21:45:36.653Z"
   },
   {
    "duration": 0,
    "start_time": "2022-05-10T21:45:36.654Z"
   },
   {
    "duration": 0,
    "start_time": "2022-05-10T21:45:36.655Z"
   },
   {
    "duration": 0,
    "start_time": "2022-05-10T21:45:36.658Z"
   },
   {
    "duration": 45,
    "start_time": "2022-05-10T21:45:40.930Z"
   },
   {
    "duration": 119,
    "start_time": "2022-05-10T21:45:40.978Z"
   },
   {
    "duration": 11,
    "start_time": "2022-05-10T21:45:41.099Z"
   },
   {
    "duration": 61,
    "start_time": "2022-05-10T21:45:41.114Z"
   },
   {
    "duration": 7,
    "start_time": "2022-05-10T21:45:41.178Z"
   },
   {
    "duration": 18,
    "start_time": "2022-05-10T21:45:41.188Z"
   },
   {
    "duration": 69,
    "start_time": "2022-05-10T21:45:41.209Z"
   },
   {
    "duration": 19,
    "start_time": "2022-05-10T21:45:41.287Z"
   },
   {
    "duration": 6,
    "start_time": "2022-05-10T21:45:41.308Z"
   },
   {
    "duration": 17,
    "start_time": "2022-05-10T21:45:41.318Z"
   },
   {
    "duration": 25,
    "start_time": "2022-05-10T21:45:41.337Z"
   },
   {
    "duration": 20,
    "start_time": "2022-05-10T21:45:41.365Z"
   },
   {
    "duration": 18,
    "start_time": "2022-05-10T21:45:41.388Z"
   },
   {
    "duration": 68,
    "start_time": "2022-05-10T21:45:41.408Z"
   },
   {
    "duration": 1762,
    "start_time": "2022-05-10T21:45:41.478Z"
   },
   {
    "duration": 1003,
    "start_time": "2022-05-10T21:45:43.251Z"
   },
   {
    "duration": 7,
    "start_time": "2022-05-10T21:45:44.257Z"
   },
   {
    "duration": 1015,
    "start_time": "2022-05-10T21:45:44.271Z"
   },
   {
    "duration": 6,
    "start_time": "2022-05-10T21:45:45.289Z"
   },
   {
    "duration": 265,
    "start_time": "2022-05-10T21:45:45.297Z"
   },
   {
    "duration": 13,
    "start_time": "2022-05-10T21:45:45.564Z"
   },
   {
    "duration": 14,
    "start_time": "2022-05-10T21:45:45.579Z"
   },
   {
    "duration": 16329,
    "start_time": "2022-05-10T21:45:45.596Z"
   },
   {
    "duration": 6,
    "start_time": "2022-05-10T21:46:01.927Z"
   },
   {
    "duration": 52,
    "start_time": "2022-05-10T21:46:01.935Z"
   },
   {
    "duration": 6,
    "start_time": "2022-05-10T21:46:01.989Z"
   },
   {
    "duration": 14,
    "start_time": "2022-05-10T21:46:01.997Z"
   },
   {
    "duration": 11,
    "start_time": "2022-05-10T21:46:02.017Z"
   },
   {
    "duration": 8,
    "start_time": "2022-05-10T21:46:02.030Z"
   },
   {
    "duration": 38,
    "start_time": "2022-05-10T21:46:02.040Z"
   },
   {
    "duration": 29288,
    "start_time": "2022-05-10T21:46:02.080Z"
   },
   {
    "duration": 83,
    "start_time": "2022-05-10T21:46:31.371Z"
   },
   {
    "duration": 33,
    "start_time": "2022-05-10T21:46:31.459Z"
   },
   {
    "duration": 9,
    "start_time": "2022-05-10T21:46:31.495Z"
   },
   {
    "duration": 68,
    "start_time": "2022-05-10T21:46:31.507Z"
   },
   {
    "duration": 9,
    "start_time": "2022-05-10T21:46:31.578Z"
   },
   {
    "duration": 19,
    "start_time": "2022-05-10T21:46:31.590Z"
   },
   {
    "duration": 10,
    "start_time": "2022-05-10T21:46:31.611Z"
   },
   {
    "duration": 18,
    "start_time": "2022-05-10T21:46:31.623Z"
   },
   {
    "duration": 36,
    "start_time": "2022-05-10T21:46:31.643Z"
   },
   {
    "duration": 23,
    "start_time": "2022-05-10T21:46:31.681Z"
   },
   {
    "duration": 20,
    "start_time": "2022-05-10T21:46:31.707Z"
   },
   {
    "duration": 16,
    "start_time": "2022-05-10T21:46:31.729Z"
   },
   {
    "duration": 292,
    "start_time": "2022-05-10T21:46:31.748Z"
   },
   {
    "duration": 15,
    "start_time": "2022-05-10T21:46:32.043Z"
   },
   {
    "duration": 599,
    "start_time": "2022-05-10T21:46:32.060Z"
   },
   {
    "duration": 1231,
    "start_time": "2022-05-10T21:46:32.661Z"
   },
   {
    "duration": 33094,
    "start_time": "2022-05-10T21:46:33.894Z"
   },
   {
    "duration": 391,
    "start_time": "2022-05-10T21:47:06.990Z"
   },
   {
    "duration": 410,
    "start_time": "2022-05-10T21:47:07.383Z"
   },
   {
    "duration": 22634,
    "start_time": "2022-05-10T21:47:07.795Z"
   },
   {
    "duration": 44,
    "start_time": "2022-05-10T21:47:30.432Z"
   },
   {
    "duration": 89,
    "start_time": "2022-05-10T21:52:27.351Z"
   },
   {
    "duration": 24,
    "start_time": "2022-05-10T22:00:59.194Z"
   },
   {
    "duration": 18,
    "start_time": "2022-05-10T22:01:28.148Z"
   },
   {
    "duration": 37,
    "start_time": "2022-05-10T22:01:57.169Z"
   },
   {
    "duration": 92,
    "start_time": "2022-05-10T22:01:57.209Z"
   },
   {
    "duration": 12,
    "start_time": "2022-05-10T22:01:57.304Z"
   },
   {
    "duration": 38,
    "start_time": "2022-05-10T22:01:57.318Z"
   },
   {
    "duration": 6,
    "start_time": "2022-05-10T22:01:57.358Z"
   },
   {
    "duration": 17,
    "start_time": "2022-05-10T22:01:57.366Z"
   },
   {
    "duration": 27,
    "start_time": "2022-05-10T22:01:57.386Z"
   },
   {
    "duration": 48,
    "start_time": "2022-05-10T22:01:57.415Z"
   },
   {
    "duration": 6,
    "start_time": "2022-05-10T22:01:57.466Z"
   },
   {
    "duration": 27,
    "start_time": "2022-05-10T22:01:57.475Z"
   },
   {
    "duration": 54,
    "start_time": "2022-05-10T22:01:57.504Z"
   },
   {
    "duration": 17,
    "start_time": "2022-05-10T22:02:22.533Z"
   },
   {
    "duration": 16,
    "start_time": "2022-05-10T22:02:34.405Z"
   },
   {
    "duration": 35,
    "start_time": "2022-05-10T22:02:40.808Z"
   },
   {
    "duration": 152,
    "start_time": "2022-05-10T22:02:40.845Z"
   },
   {
    "duration": 13,
    "start_time": "2022-05-10T22:02:41.000Z"
   },
   {
    "duration": 53,
    "start_time": "2022-05-10T22:02:41.017Z"
   },
   {
    "duration": 6,
    "start_time": "2022-05-10T22:02:41.073Z"
   },
   {
    "duration": 18,
    "start_time": "2022-05-10T22:02:41.081Z"
   },
   {
    "duration": 66,
    "start_time": "2022-05-10T22:02:41.102Z"
   },
   {
    "duration": 21,
    "start_time": "2022-05-10T22:02:41.170Z"
   },
   {
    "duration": 19,
    "start_time": "2022-05-10T22:02:41.193Z"
   },
   {
    "duration": 32,
    "start_time": "2022-05-10T22:02:41.216Z"
   },
   {
    "duration": 31,
    "start_time": "2022-05-10T22:02:41.251Z"
   },
   {
    "duration": 0,
    "start_time": "2022-05-10T22:02:41.286Z"
   },
   {
    "duration": 0,
    "start_time": "2022-05-10T22:02:41.288Z"
   },
   {
    "duration": 0,
    "start_time": "2022-05-10T22:02:41.290Z"
   },
   {
    "duration": 0,
    "start_time": "2022-05-10T22:02:41.292Z"
   },
   {
    "duration": 0,
    "start_time": "2022-05-10T22:02:41.294Z"
   },
   {
    "duration": 0,
    "start_time": "2022-05-10T22:02:41.296Z"
   },
   {
    "duration": 0,
    "start_time": "2022-05-10T22:02:41.299Z"
   },
   {
    "duration": 0,
    "start_time": "2022-05-10T22:02:41.300Z"
   },
   {
    "duration": 0,
    "start_time": "2022-05-10T22:02:41.302Z"
   },
   {
    "duration": 0,
    "start_time": "2022-05-10T22:02:41.304Z"
   },
   {
    "duration": 0,
    "start_time": "2022-05-10T22:02:41.306Z"
   },
   {
    "duration": 0,
    "start_time": "2022-05-10T22:02:41.308Z"
   },
   {
    "duration": 0,
    "start_time": "2022-05-10T22:02:41.311Z"
   },
   {
    "duration": 0,
    "start_time": "2022-05-10T22:02:41.352Z"
   },
   {
    "duration": 0,
    "start_time": "2022-05-10T22:02:41.354Z"
   },
   {
    "duration": 0,
    "start_time": "2022-05-10T22:02:41.357Z"
   },
   {
    "duration": 0,
    "start_time": "2022-05-10T22:02:41.359Z"
   },
   {
    "duration": 0,
    "start_time": "2022-05-10T22:02:41.364Z"
   },
   {
    "duration": 0,
    "start_time": "2022-05-10T22:02:41.367Z"
   },
   {
    "duration": 0,
    "start_time": "2022-05-10T22:02:41.369Z"
   },
   {
    "duration": 0,
    "start_time": "2022-05-10T22:02:41.371Z"
   },
   {
    "duration": 0,
    "start_time": "2022-05-10T22:02:41.374Z"
   },
   {
    "duration": 0,
    "start_time": "2022-05-10T22:02:41.376Z"
   },
   {
    "duration": 0,
    "start_time": "2022-05-10T22:02:41.378Z"
   },
   {
    "duration": 0,
    "start_time": "2022-05-10T22:02:41.381Z"
   },
   {
    "duration": 0,
    "start_time": "2022-05-10T22:02:41.383Z"
   },
   {
    "duration": 0,
    "start_time": "2022-05-10T22:02:41.385Z"
   },
   {
    "duration": 0,
    "start_time": "2022-05-10T22:02:41.387Z"
   },
   {
    "duration": 0,
    "start_time": "2022-05-10T22:02:41.452Z"
   },
   {
    "duration": 0,
    "start_time": "2022-05-10T22:02:41.454Z"
   },
   {
    "duration": 0,
    "start_time": "2022-05-10T22:02:41.455Z"
   },
   {
    "duration": 0,
    "start_time": "2022-05-10T22:02:41.456Z"
   },
   {
    "duration": 0,
    "start_time": "2022-05-10T22:02:41.457Z"
   },
   {
    "duration": 0,
    "start_time": "2022-05-10T22:02:41.458Z"
   },
   {
    "duration": 0,
    "start_time": "2022-05-10T22:02:41.459Z"
   },
   {
    "duration": 0,
    "start_time": "2022-05-10T22:02:41.460Z"
   },
   {
    "duration": 0,
    "start_time": "2022-05-10T22:02:41.461Z"
   },
   {
    "duration": 0,
    "start_time": "2022-05-10T22:02:41.463Z"
   },
   {
    "duration": 0,
    "start_time": "2022-05-10T22:02:41.465Z"
   },
   {
    "duration": 0,
    "start_time": "2022-05-10T22:02:41.467Z"
   },
   {
    "duration": 0,
    "start_time": "2022-05-10T22:02:41.468Z"
   },
   {
    "duration": 32,
    "start_time": "2022-05-10T22:03:04.517Z"
   },
   {
    "duration": 142,
    "start_time": "2022-05-10T22:03:04.552Z"
   },
   {
    "duration": 12,
    "start_time": "2022-05-10T22:03:04.696Z"
   },
   {
    "duration": 54,
    "start_time": "2022-05-10T22:03:04.711Z"
   },
   {
    "duration": 5,
    "start_time": "2022-05-10T22:03:04.767Z"
   },
   {
    "duration": 18,
    "start_time": "2022-05-10T22:03:04.774Z"
   },
   {
    "duration": 27,
    "start_time": "2022-05-10T22:03:04.795Z"
   },
   {
    "duration": 20,
    "start_time": "2022-05-10T22:03:04.851Z"
   },
   {
    "duration": 6,
    "start_time": "2022-05-10T22:03:04.874Z"
   },
   {
    "duration": 18,
    "start_time": "2022-05-10T22:03:04.884Z"
   },
   {
    "duration": 48,
    "start_time": "2022-05-10T22:03:04.904Z"
   },
   {
    "duration": 0,
    "start_time": "2022-05-10T22:03:04.956Z"
   },
   {
    "duration": 0,
    "start_time": "2022-05-10T22:03:04.957Z"
   },
   {
    "duration": 0,
    "start_time": "2022-05-10T22:03:04.959Z"
   },
   {
    "duration": 0,
    "start_time": "2022-05-10T22:03:04.961Z"
   },
   {
    "duration": 0,
    "start_time": "2022-05-10T22:03:04.962Z"
   },
   {
    "duration": 0,
    "start_time": "2022-05-10T22:03:04.963Z"
   },
   {
    "duration": 0,
    "start_time": "2022-05-10T22:03:04.965Z"
   },
   {
    "duration": 0,
    "start_time": "2022-05-10T22:03:04.966Z"
   },
   {
    "duration": 0,
    "start_time": "2022-05-10T22:03:04.967Z"
   },
   {
    "duration": 0,
    "start_time": "2022-05-10T22:03:04.968Z"
   },
   {
    "duration": 0,
    "start_time": "2022-05-10T22:03:04.970Z"
   },
   {
    "duration": 0,
    "start_time": "2022-05-10T22:03:04.972Z"
   },
   {
    "duration": 0,
    "start_time": "2022-05-10T22:03:04.973Z"
   },
   {
    "duration": 0,
    "start_time": "2022-05-10T22:03:04.975Z"
   },
   {
    "duration": 0,
    "start_time": "2022-05-10T22:03:04.976Z"
   },
   {
    "duration": 0,
    "start_time": "2022-05-10T22:03:04.977Z"
   },
   {
    "duration": 0,
    "start_time": "2022-05-10T22:03:04.979Z"
   },
   {
    "duration": 0,
    "start_time": "2022-05-10T22:03:04.981Z"
   },
   {
    "duration": 0,
    "start_time": "2022-05-10T22:03:04.982Z"
   },
   {
    "duration": 0,
    "start_time": "2022-05-10T22:03:04.983Z"
   },
   {
    "duration": 0,
    "start_time": "2022-05-10T22:03:04.984Z"
   },
   {
    "duration": 0,
    "start_time": "2022-05-10T22:03:04.986Z"
   },
   {
    "duration": 0,
    "start_time": "2022-05-10T22:03:04.987Z"
   },
   {
    "duration": 0,
    "start_time": "2022-05-10T22:03:04.988Z"
   },
   {
    "duration": 0,
    "start_time": "2022-05-10T22:03:04.989Z"
   },
   {
    "duration": 0,
    "start_time": "2022-05-10T22:03:04.991Z"
   },
   {
    "duration": 0,
    "start_time": "2022-05-10T22:03:05.052Z"
   },
   {
    "duration": 0,
    "start_time": "2022-05-10T22:03:05.054Z"
   },
   {
    "duration": 0,
    "start_time": "2022-05-10T22:03:05.056Z"
   },
   {
    "duration": 0,
    "start_time": "2022-05-10T22:03:05.057Z"
   },
   {
    "duration": 0,
    "start_time": "2022-05-10T22:03:05.059Z"
   },
   {
    "duration": 0,
    "start_time": "2022-05-10T22:03:05.060Z"
   },
   {
    "duration": 0,
    "start_time": "2022-05-10T22:03:05.061Z"
   },
   {
    "duration": 0,
    "start_time": "2022-05-10T22:03:05.063Z"
   },
   {
    "duration": 0,
    "start_time": "2022-05-10T22:03:05.064Z"
   },
   {
    "duration": 0,
    "start_time": "2022-05-10T22:03:05.065Z"
   },
   {
    "duration": 0,
    "start_time": "2022-05-10T22:03:05.067Z"
   },
   {
    "duration": 0,
    "start_time": "2022-05-10T22:03:05.068Z"
   },
   {
    "duration": 0,
    "start_time": "2022-05-10T22:03:05.070Z"
   },
   {
    "duration": 0,
    "start_time": "2022-05-10T22:03:05.071Z"
   },
   {
    "duration": 0,
    "start_time": "2022-05-10T22:03:05.073Z"
   },
   {
    "duration": 34,
    "start_time": "2022-05-10T22:04:20.588Z"
   },
   {
    "duration": 96,
    "start_time": "2022-05-10T22:04:20.625Z"
   },
   {
    "duration": 32,
    "start_time": "2022-05-10T22:04:20.723Z"
   },
   {
    "duration": 23,
    "start_time": "2022-05-10T22:04:20.758Z"
   },
   {
    "duration": 6,
    "start_time": "2022-05-10T22:04:20.784Z"
   },
   {
    "duration": 17,
    "start_time": "2022-05-10T22:04:20.792Z"
   },
   {
    "duration": 70,
    "start_time": "2022-05-10T22:04:20.811Z"
   },
   {
    "duration": 20,
    "start_time": "2022-05-10T22:04:20.884Z"
   },
   {
    "duration": 6,
    "start_time": "2022-05-10T22:04:20.906Z"
   },
   {
    "duration": 21,
    "start_time": "2022-05-10T22:04:20.954Z"
   },
   {
    "duration": 20,
    "start_time": "2022-05-10T22:04:20.977Z"
   },
   {
    "duration": 0,
    "start_time": "2022-05-10T22:04:21.000Z"
   },
   {
    "duration": 0,
    "start_time": "2022-05-10T22:04:21.002Z"
   },
   {
    "duration": 0,
    "start_time": "2022-05-10T22:04:21.003Z"
   },
   {
    "duration": 0,
    "start_time": "2022-05-10T22:04:21.004Z"
   },
   {
    "duration": 1,
    "start_time": "2022-05-10T22:04:21.005Z"
   },
   {
    "duration": 0,
    "start_time": "2022-05-10T22:04:21.007Z"
   },
   {
    "duration": 0,
    "start_time": "2022-05-10T22:04:21.009Z"
   },
   {
    "duration": 0,
    "start_time": "2022-05-10T22:04:21.010Z"
   },
   {
    "duration": 0,
    "start_time": "2022-05-10T22:04:21.011Z"
   },
   {
    "duration": 0,
    "start_time": "2022-05-10T22:04:21.013Z"
   },
   {
    "duration": 0,
    "start_time": "2022-05-10T22:04:21.014Z"
   },
   {
    "duration": 0,
    "start_time": "2022-05-10T22:04:21.052Z"
   },
   {
    "duration": 0,
    "start_time": "2022-05-10T22:04:21.053Z"
   },
   {
    "duration": 0,
    "start_time": "2022-05-10T22:04:21.058Z"
   },
   {
    "duration": 0,
    "start_time": "2022-05-10T22:04:21.059Z"
   },
   {
    "duration": 0,
    "start_time": "2022-05-10T22:04:21.060Z"
   },
   {
    "duration": 0,
    "start_time": "2022-05-10T22:04:21.061Z"
   },
   {
    "duration": 0,
    "start_time": "2022-05-10T22:04:21.063Z"
   },
   {
    "duration": 0,
    "start_time": "2022-05-10T22:04:21.066Z"
   },
   {
    "duration": 0,
    "start_time": "2022-05-10T22:04:21.068Z"
   },
   {
    "duration": 0,
    "start_time": "2022-05-10T22:04:21.070Z"
   },
   {
    "duration": 0,
    "start_time": "2022-05-10T22:04:21.072Z"
   },
   {
    "duration": 0,
    "start_time": "2022-05-10T22:04:21.074Z"
   },
   {
    "duration": 0,
    "start_time": "2022-05-10T22:04:21.076Z"
   },
   {
    "duration": 0,
    "start_time": "2022-05-10T22:04:21.078Z"
   },
   {
    "duration": 0,
    "start_time": "2022-05-10T22:04:21.080Z"
   },
   {
    "duration": 0,
    "start_time": "2022-05-10T22:04:21.082Z"
   },
   {
    "duration": 0,
    "start_time": "2022-05-10T22:04:21.084Z"
   },
   {
    "duration": 0,
    "start_time": "2022-05-10T22:04:21.086Z"
   },
   {
    "duration": 0,
    "start_time": "2022-05-10T22:04:21.088Z"
   },
   {
    "duration": 0,
    "start_time": "2022-05-10T22:04:21.090Z"
   },
   {
    "duration": 0,
    "start_time": "2022-05-10T22:04:21.092Z"
   },
   {
    "duration": 0,
    "start_time": "2022-05-10T22:04:21.094Z"
   },
   {
    "duration": 0,
    "start_time": "2022-05-10T22:04:21.156Z"
   },
   {
    "duration": 1,
    "start_time": "2022-05-10T22:04:21.161Z"
   },
   {
    "duration": 0,
    "start_time": "2022-05-10T22:04:21.166Z"
   },
   {
    "duration": 0,
    "start_time": "2022-05-10T22:04:21.168Z"
   },
   {
    "duration": 0,
    "start_time": "2022-05-10T22:04:21.169Z"
   },
   {
    "duration": 0,
    "start_time": "2022-05-10T22:04:21.171Z"
   },
   {
    "duration": 0,
    "start_time": "2022-05-10T22:04:21.172Z"
   },
   {
    "duration": 0,
    "start_time": "2022-05-10T22:04:21.174Z"
   },
   {
    "duration": 21,
    "start_time": "2022-05-10T22:05:18.774Z"
   },
   {
    "duration": 20,
    "start_time": "2022-05-10T22:05:27.144Z"
   },
   {
    "duration": 31,
    "start_time": "2022-05-10T22:05:33.221Z"
   },
   {
    "duration": 122,
    "start_time": "2022-05-10T22:05:33.255Z"
   },
   {
    "duration": 11,
    "start_time": "2022-05-10T22:05:33.379Z"
   },
   {
    "duration": 20,
    "start_time": "2022-05-10T22:05:33.393Z"
   },
   {
    "duration": 6,
    "start_time": "2022-05-10T22:05:33.452Z"
   },
   {
    "duration": 21,
    "start_time": "2022-05-10T22:05:33.461Z"
   },
   {
    "duration": 30,
    "start_time": "2022-05-10T22:05:33.485Z"
   },
   {
    "duration": 50,
    "start_time": "2022-05-10T22:05:33.518Z"
   },
   {
    "duration": 8,
    "start_time": "2022-05-10T22:05:33.570Z"
   },
   {
    "duration": 19,
    "start_time": "2022-05-10T22:05:33.582Z"
   },
   {
    "duration": 62,
    "start_time": "2022-05-10T22:05:33.603Z"
   },
   {
    "duration": 0,
    "start_time": "2022-05-10T22:05:33.670Z"
   },
   {
    "duration": 0,
    "start_time": "2022-05-10T22:05:33.672Z"
   },
   {
    "duration": 0,
    "start_time": "2022-05-10T22:05:33.674Z"
   },
   {
    "duration": 0,
    "start_time": "2022-05-10T22:05:33.676Z"
   },
   {
    "duration": 0,
    "start_time": "2022-05-10T22:05:33.678Z"
   },
   {
    "duration": 0,
    "start_time": "2022-05-10T22:05:33.680Z"
   },
   {
    "duration": 0,
    "start_time": "2022-05-10T22:05:33.682Z"
   },
   {
    "duration": 0,
    "start_time": "2022-05-10T22:05:33.684Z"
   },
   {
    "duration": 0,
    "start_time": "2022-05-10T22:05:33.687Z"
   },
   {
    "duration": 1,
    "start_time": "2022-05-10T22:05:33.688Z"
   },
   {
    "duration": 0,
    "start_time": "2022-05-10T22:05:33.691Z"
   },
   {
    "duration": 0,
    "start_time": "2022-05-10T22:05:33.693Z"
   },
   {
    "duration": 0,
    "start_time": "2022-05-10T22:05:33.695Z"
   },
   {
    "duration": 0,
    "start_time": "2022-05-10T22:05:33.697Z"
   },
   {
    "duration": 0,
    "start_time": "2022-05-10T22:05:33.699Z"
   },
   {
    "duration": 0,
    "start_time": "2022-05-10T22:05:33.752Z"
   },
   {
    "duration": 0,
    "start_time": "2022-05-10T22:05:33.754Z"
   },
   {
    "duration": 0,
    "start_time": "2022-05-10T22:05:33.756Z"
   },
   {
    "duration": 0,
    "start_time": "2022-05-10T22:05:33.758Z"
   },
   {
    "duration": 0,
    "start_time": "2022-05-10T22:05:33.759Z"
   },
   {
    "duration": 0,
    "start_time": "2022-05-10T22:05:33.760Z"
   },
   {
    "duration": 0,
    "start_time": "2022-05-10T22:05:33.762Z"
   },
   {
    "duration": 0,
    "start_time": "2022-05-10T22:05:33.764Z"
   },
   {
    "duration": 0,
    "start_time": "2022-05-10T22:05:33.765Z"
   },
   {
    "duration": 0,
    "start_time": "2022-05-10T22:05:33.767Z"
   },
   {
    "duration": 0,
    "start_time": "2022-05-10T22:05:33.768Z"
   },
   {
    "duration": 0,
    "start_time": "2022-05-10T22:05:33.770Z"
   },
   {
    "duration": 0,
    "start_time": "2022-05-10T22:05:33.771Z"
   },
   {
    "duration": 0,
    "start_time": "2022-05-10T22:05:33.773Z"
   },
   {
    "duration": 0,
    "start_time": "2022-05-10T22:05:33.775Z"
   },
   {
    "duration": 0,
    "start_time": "2022-05-10T22:05:33.776Z"
   },
   {
    "duration": 0,
    "start_time": "2022-05-10T22:05:33.777Z"
   },
   {
    "duration": 0,
    "start_time": "2022-05-10T22:05:33.780Z"
   },
   {
    "duration": 0,
    "start_time": "2022-05-10T22:05:33.781Z"
   },
   {
    "duration": 0,
    "start_time": "2022-05-10T22:05:33.784Z"
   },
   {
    "duration": 0,
    "start_time": "2022-05-10T22:05:33.785Z"
   },
   {
    "duration": 1,
    "start_time": "2022-05-10T22:05:33.787Z"
   },
   {
    "duration": 0,
    "start_time": "2022-05-10T22:05:33.853Z"
   },
   {
    "duration": 0,
    "start_time": "2022-05-10T22:05:33.855Z"
   },
   {
    "duration": 0,
    "start_time": "2022-05-10T22:05:33.857Z"
   },
   {
    "duration": 0,
    "start_time": "2022-05-10T22:05:33.859Z"
   },
   {
    "duration": 29,
    "start_time": "2022-05-10T22:06:02.841Z"
   },
   {
    "duration": 31,
    "start_time": "2022-05-10T22:06:07.702Z"
   },
   {
    "duration": 118,
    "start_time": "2022-05-10T22:06:07.736Z"
   },
   {
    "duration": 11,
    "start_time": "2022-05-10T22:06:07.856Z"
   },
   {
    "duration": 20,
    "start_time": "2022-05-10T22:06:07.870Z"
   },
   {
    "duration": 5,
    "start_time": "2022-05-10T22:06:07.892Z"
   },
   {
    "duration": 64,
    "start_time": "2022-05-10T22:06:07.899Z"
   },
   {
    "duration": 35,
    "start_time": "2022-05-10T22:06:07.966Z"
   },
   {
    "duration": 20,
    "start_time": "2022-05-10T22:06:08.003Z"
   },
   {
    "duration": 6,
    "start_time": "2022-05-10T22:06:08.052Z"
   },
   {
    "duration": 26,
    "start_time": "2022-05-10T22:06:08.062Z"
   },
   {
    "duration": 0,
    "start_time": "2022-05-10T22:06:08.091Z"
   },
   {
    "duration": 0,
    "start_time": "2022-05-10T22:06:08.093Z"
   },
   {
    "duration": 0,
    "start_time": "2022-05-10T22:06:08.094Z"
   },
   {
    "duration": 0,
    "start_time": "2022-05-10T22:06:08.096Z"
   },
   {
    "duration": 0,
    "start_time": "2022-05-10T22:06:08.098Z"
   },
   {
    "duration": 0,
    "start_time": "2022-05-10T22:06:08.100Z"
   },
   {
    "duration": 0,
    "start_time": "2022-05-10T22:06:08.101Z"
   },
   {
    "duration": 0,
    "start_time": "2022-05-10T22:06:08.102Z"
   },
   {
    "duration": 0,
    "start_time": "2022-05-10T22:06:08.104Z"
   },
   {
    "duration": 0,
    "start_time": "2022-05-10T22:06:08.105Z"
   },
   {
    "duration": 0,
    "start_time": "2022-05-10T22:06:08.107Z"
   },
   {
    "duration": 0,
    "start_time": "2022-05-10T22:06:08.152Z"
   },
   {
    "duration": 0,
    "start_time": "2022-05-10T22:06:08.154Z"
   },
   {
    "duration": 0,
    "start_time": "2022-05-10T22:06:08.156Z"
   },
   {
    "duration": 0,
    "start_time": "2022-05-10T22:06:08.158Z"
   },
   {
    "duration": 0,
    "start_time": "2022-05-10T22:06:08.159Z"
   },
   {
    "duration": 0,
    "start_time": "2022-05-10T22:06:08.161Z"
   },
   {
    "duration": 0,
    "start_time": "2022-05-10T22:06:08.162Z"
   },
   {
    "duration": 0,
    "start_time": "2022-05-10T22:06:08.164Z"
   },
   {
    "duration": 0,
    "start_time": "2022-05-10T22:06:08.165Z"
   },
   {
    "duration": 0,
    "start_time": "2022-05-10T22:06:08.167Z"
   },
   {
    "duration": 0,
    "start_time": "2022-05-10T22:06:08.168Z"
   },
   {
    "duration": 0,
    "start_time": "2022-05-10T22:06:08.169Z"
   },
   {
    "duration": 0,
    "start_time": "2022-05-10T22:06:08.171Z"
   },
   {
    "duration": 0,
    "start_time": "2022-05-10T22:06:08.172Z"
   },
   {
    "duration": 0,
    "start_time": "2022-05-10T22:06:08.174Z"
   },
   {
    "duration": 0,
    "start_time": "2022-05-10T22:06:08.175Z"
   },
   {
    "duration": 0,
    "start_time": "2022-05-10T22:06:08.176Z"
   },
   {
    "duration": 0,
    "start_time": "2022-05-10T22:06:08.178Z"
   },
   {
    "duration": 0,
    "start_time": "2022-05-10T22:06:08.179Z"
   },
   {
    "duration": 0,
    "start_time": "2022-05-10T22:06:08.180Z"
   },
   {
    "duration": 0,
    "start_time": "2022-05-10T22:06:08.182Z"
   },
   {
    "duration": 0,
    "start_time": "2022-05-10T22:06:08.183Z"
   },
   {
    "duration": 0,
    "start_time": "2022-05-10T22:06:08.185Z"
   },
   {
    "duration": 0,
    "start_time": "2022-05-10T22:06:08.186Z"
   },
   {
    "duration": 0,
    "start_time": "2022-05-10T22:06:08.187Z"
   },
   {
    "duration": 0,
    "start_time": "2022-05-10T22:06:08.188Z"
   },
   {
    "duration": 0,
    "start_time": "2022-05-10T22:06:08.190Z"
   },
   {
    "duration": 1,
    "start_time": "2022-05-10T22:06:08.251Z"
   },
   {
    "duration": 0,
    "start_time": "2022-05-10T22:06:08.253Z"
   },
   {
    "duration": 0,
    "start_time": "2022-05-10T22:06:08.255Z"
   },
   {
    "duration": 0,
    "start_time": "2022-05-10T22:06:08.256Z"
   },
   {
    "duration": 53,
    "start_time": "2022-05-10T22:06:37.547Z"
   },
   {
    "duration": 31,
    "start_time": "2022-05-10T22:06:43.445Z"
   },
   {
    "duration": 117,
    "start_time": "2022-05-10T22:06:43.478Z"
   },
   {
    "duration": 10,
    "start_time": "2022-05-10T22:06:43.598Z"
   },
   {
    "duration": 54,
    "start_time": "2022-05-10T22:06:43.611Z"
   },
   {
    "duration": 7,
    "start_time": "2022-05-10T22:06:43.667Z"
   },
   {
    "duration": 19,
    "start_time": "2022-05-10T22:06:43.676Z"
   },
   {
    "duration": 62,
    "start_time": "2022-05-10T22:06:43.697Z"
   },
   {
    "duration": 21,
    "start_time": "2022-05-10T22:06:43.761Z"
   },
   {
    "duration": 7,
    "start_time": "2022-05-10T22:06:43.785Z"
   },
   {
    "duration": 64,
    "start_time": "2022-05-10T22:06:43.796Z"
   },
   {
    "duration": 19,
    "start_time": "2022-05-10T22:06:43.862Z"
   },
   {
    "duration": 0,
    "start_time": "2022-05-10T22:06:43.884Z"
   },
   {
    "duration": 0,
    "start_time": "2022-05-10T22:06:43.886Z"
   },
   {
    "duration": 0,
    "start_time": "2022-05-10T22:06:43.887Z"
   },
   {
    "duration": 0,
    "start_time": "2022-05-10T22:06:43.889Z"
   },
   {
    "duration": 0,
    "start_time": "2022-05-10T22:06:43.890Z"
   },
   {
    "duration": 0,
    "start_time": "2022-05-10T22:06:43.892Z"
   },
   {
    "duration": 0,
    "start_time": "2022-05-10T22:06:43.893Z"
   },
   {
    "duration": 0,
    "start_time": "2022-05-10T22:06:43.895Z"
   },
   {
    "duration": 0,
    "start_time": "2022-05-10T22:06:43.897Z"
   },
   {
    "duration": 0,
    "start_time": "2022-05-10T22:06:43.898Z"
   },
   {
    "duration": 0,
    "start_time": "2022-05-10T22:06:43.900Z"
   },
   {
    "duration": 0,
    "start_time": "2022-05-10T22:06:43.902Z"
   },
   {
    "duration": 0,
    "start_time": "2022-05-10T22:06:43.903Z"
   },
   {
    "duration": 0,
    "start_time": "2022-05-10T22:06:43.951Z"
   },
   {
    "duration": 0,
    "start_time": "2022-05-10T22:06:43.953Z"
   },
   {
    "duration": 0,
    "start_time": "2022-05-10T22:06:43.955Z"
   },
   {
    "duration": 0,
    "start_time": "2022-05-10T22:06:43.956Z"
   },
   {
    "duration": 0,
    "start_time": "2022-05-10T22:06:43.957Z"
   },
   {
    "duration": 0,
    "start_time": "2022-05-10T22:06:43.959Z"
   },
   {
    "duration": 0,
    "start_time": "2022-05-10T22:06:43.960Z"
   },
   {
    "duration": 0,
    "start_time": "2022-05-10T22:06:43.962Z"
   },
   {
    "duration": 0,
    "start_time": "2022-05-10T22:06:43.964Z"
   },
   {
    "duration": 0,
    "start_time": "2022-05-10T22:06:43.965Z"
   },
   {
    "duration": 0,
    "start_time": "2022-05-10T22:06:43.966Z"
   },
   {
    "duration": 0,
    "start_time": "2022-05-10T22:06:43.968Z"
   },
   {
    "duration": 0,
    "start_time": "2022-05-10T22:06:43.969Z"
   },
   {
    "duration": 0,
    "start_time": "2022-05-10T22:06:43.971Z"
   },
   {
    "duration": 0,
    "start_time": "2022-05-10T22:06:43.972Z"
   },
   {
    "duration": 0,
    "start_time": "2022-05-10T22:06:43.974Z"
   },
   {
    "duration": 0,
    "start_time": "2022-05-10T22:06:43.975Z"
   },
   {
    "duration": 0,
    "start_time": "2022-05-10T22:06:43.977Z"
   },
   {
    "duration": 0,
    "start_time": "2022-05-10T22:06:43.978Z"
   },
   {
    "duration": 0,
    "start_time": "2022-05-10T22:06:43.980Z"
   },
   {
    "duration": 0,
    "start_time": "2022-05-10T22:06:43.981Z"
   },
   {
    "duration": 0,
    "start_time": "2022-05-10T22:06:43.983Z"
   },
   {
    "duration": 0,
    "start_time": "2022-05-10T22:06:43.984Z"
   },
   {
    "duration": 0,
    "start_time": "2022-05-10T22:06:43.986Z"
   },
   {
    "duration": 0,
    "start_time": "2022-05-10T22:06:43.987Z"
   },
   {
    "duration": 0,
    "start_time": "2022-05-10T22:06:44.053Z"
   },
   {
    "duration": 0,
    "start_time": "2022-05-10T22:06:44.055Z"
   },
   {
    "duration": 0,
    "start_time": "2022-05-10T22:06:44.056Z"
   },
   {
    "duration": 20,
    "start_time": "2022-05-10T22:07:18.983Z"
   },
   {
    "duration": 5,
    "start_time": "2022-05-10T22:07:24.997Z"
   },
   {
    "duration": 11,
    "start_time": "2022-05-10T22:07:28.760Z"
   },
   {
    "duration": 54,
    "start_time": "2022-05-10T22:07:30.343Z"
   },
   {
    "duration": 36,
    "start_time": "2022-05-10T22:07:54.741Z"
   },
   {
    "duration": 109,
    "start_time": "2022-05-10T22:07:54.780Z"
   },
   {
    "duration": 11,
    "start_time": "2022-05-10T22:07:54.891Z"
   },
   {
    "duration": 52,
    "start_time": "2022-05-10T22:07:54.904Z"
   },
   {
    "duration": 5,
    "start_time": "2022-05-10T22:07:54.959Z"
   },
   {
    "duration": 19,
    "start_time": "2022-05-10T22:07:54.966Z"
   },
   {
    "duration": 28,
    "start_time": "2022-05-10T22:07:54.987Z"
   },
   {
    "duration": 47,
    "start_time": "2022-05-10T22:07:55.018Z"
   },
   {
    "duration": 11,
    "start_time": "2022-05-10T22:07:55.067Z"
   },
   {
    "duration": 40,
    "start_time": "2022-05-10T22:07:55.081Z"
   },
   {
    "duration": 29,
    "start_time": "2022-05-10T22:07:55.123Z"
   },
   {
    "duration": 3,
    "start_time": "2022-05-10T22:07:55.155Z"
   },
   {
    "duration": 12,
    "start_time": "2022-05-10T22:07:55.160Z"
   },
   {
    "duration": 89,
    "start_time": "2022-05-10T22:07:55.175Z"
   },
   {
    "duration": 1750,
    "start_time": "2022-05-10T22:07:55.266Z"
   },
   {
    "duration": 945,
    "start_time": "2022-05-10T22:07:57.018Z"
   },
   {
    "duration": 6,
    "start_time": "2022-05-10T22:07:57.965Z"
   },
   {
    "duration": 943,
    "start_time": "2022-05-10T22:07:57.974Z"
   },
   {
    "duration": 6,
    "start_time": "2022-05-10T22:07:58.920Z"
   },
   {
    "duration": 262,
    "start_time": "2022-05-10T22:07:58.928Z"
   },
   {
    "duration": 4,
    "start_time": "2022-05-10T22:07:59.193Z"
   },
   {
    "duration": 8,
    "start_time": "2022-05-10T22:07:59.199Z"
   },
   {
    "duration": 16917,
    "start_time": "2022-05-10T22:07:59.209Z"
   },
   {
    "duration": 6,
    "start_time": "2022-05-10T22:08:16.128Z"
   },
   {
    "duration": 22,
    "start_time": "2022-05-10T22:08:16.136Z"
   },
   {
    "duration": 6,
    "start_time": "2022-05-10T22:08:16.161Z"
   },
   {
    "duration": 9,
    "start_time": "2022-05-10T22:08:16.168Z"
   },
   {
    "duration": 10,
    "start_time": "2022-05-10T22:08:16.182Z"
   },
   {
    "duration": 6,
    "start_time": "2022-05-10T22:08:16.194Z"
   },
   {
    "duration": 52,
    "start_time": "2022-05-10T22:08:16.202Z"
   },
   {
    "duration": 29860,
    "start_time": "2022-05-10T22:08:16.256Z"
   },
   {
    "duration": 55,
    "start_time": "2022-05-10T22:08:46.119Z"
   },
   {
    "duration": 19,
    "start_time": "2022-05-10T22:08:46.177Z"
   },
   {
    "duration": 10,
    "start_time": "2022-05-10T22:08:46.198Z"
   },
   {
    "duration": 57,
    "start_time": "2022-05-10T22:08:46.211Z"
   },
   {
    "duration": 6,
    "start_time": "2022-05-10T22:08:46.270Z"
   },
   {
    "duration": 23,
    "start_time": "2022-05-10T22:08:46.278Z"
   },
   {
    "duration": 12,
    "start_time": "2022-05-10T22:08:46.304Z"
   },
   {
    "duration": 17,
    "start_time": "2022-05-10T22:08:46.318Z"
   },
   {
    "duration": 10,
    "start_time": "2022-05-10T22:08:46.338Z"
   },
   {
    "duration": 14,
    "start_time": "2022-05-10T22:08:46.349Z"
   },
   {
    "duration": 7,
    "start_time": "2022-05-10T22:08:46.366Z"
   },
   {
    "duration": 19,
    "start_time": "2022-05-10T22:08:46.375Z"
   },
   {
    "duration": 322,
    "start_time": "2022-05-10T22:08:46.397Z"
   },
   {
    "duration": 4,
    "start_time": "2022-05-10T22:08:46.721Z"
   },
   {
    "duration": 562,
    "start_time": "2022-05-10T22:08:46.728Z"
   },
   {
    "duration": 1083,
    "start_time": "2022-05-10T22:08:47.292Z"
   },
   {
    "duration": 27268,
    "start_time": "2022-05-10T22:08:48.377Z"
   },
   {
    "duration": 371,
    "start_time": "2022-05-10T22:09:15.648Z"
   },
   {
    "duration": 380,
    "start_time": "2022-05-10T22:09:16.021Z"
   },
   {
    "duration": 16904,
    "start_time": "2022-05-10T22:09:16.403Z"
   },
   {
    "duration": 28,
    "start_time": "2022-05-10T22:09:33.309Z"
   },
   {
    "duration": 420,
    "start_time": "2022-05-10T22:17:42.107Z"
   },
   {
    "duration": 429,
    "start_time": "2022-05-10T22:23:29.131Z"
   },
   {
    "duration": 33,
    "start_time": "2022-05-10T22:25:24.906Z"
   },
   {
    "duration": 113,
    "start_time": "2022-05-10T22:25:24.941Z"
   },
   {
    "duration": 22,
    "start_time": "2022-05-10T22:25:25.056Z"
   },
   {
    "duration": 25,
    "start_time": "2022-05-10T22:25:25.081Z"
   },
   {
    "duration": 5,
    "start_time": "2022-05-10T22:25:25.109Z"
   },
   {
    "duration": 45,
    "start_time": "2022-05-10T22:25:25.117Z"
   },
   {
    "duration": 36,
    "start_time": "2022-05-10T22:25:25.167Z"
   },
   {
    "duration": 30,
    "start_time": "2022-05-10T22:25:25.206Z"
   },
   {
    "duration": 5,
    "start_time": "2022-05-10T22:25:25.265Z"
   },
   {
    "duration": 54,
    "start_time": "2022-05-10T22:25:25.277Z"
   },
   {
    "duration": 4,
    "start_time": "2022-05-10T22:25:25.333Z"
   },
   {
    "duration": 7,
    "start_time": "2022-05-10T22:25:25.339Z"
   },
   {
    "duration": 32,
    "start_time": "2022-05-10T22:25:25.356Z"
   },
   {
    "duration": 80,
    "start_time": "2022-05-10T22:25:25.390Z"
   },
   {
    "duration": 1827,
    "start_time": "2022-05-10T22:25:25.473Z"
   },
   {
    "duration": 1035,
    "start_time": "2022-05-10T22:25:27.302Z"
   },
   {
    "duration": 16,
    "start_time": "2022-05-10T22:25:28.340Z"
   },
   {
    "duration": 1021,
    "start_time": "2022-05-10T22:25:28.359Z"
   },
   {
    "duration": 7,
    "start_time": "2022-05-10T22:25:29.383Z"
   },
   {
    "duration": 266,
    "start_time": "2022-05-10T22:25:29.393Z"
   },
   {
    "duration": 4,
    "start_time": "2022-05-10T22:25:29.664Z"
   },
   {
    "duration": 28,
    "start_time": "2022-05-10T22:25:29.669Z"
   },
   {
    "duration": 19730,
    "start_time": "2022-05-10T22:25:29.700Z"
   },
   {
    "duration": 6,
    "start_time": "2022-05-10T22:25:49.432Z"
   },
   {
    "duration": 44,
    "start_time": "2022-05-10T22:25:49.451Z"
   },
   {
    "duration": 14,
    "start_time": "2022-05-10T22:25:49.498Z"
   },
   {
    "duration": 32,
    "start_time": "2022-05-10T22:25:49.514Z"
   },
   {
    "duration": 39,
    "start_time": "2022-05-10T22:25:49.557Z"
   },
   {
    "duration": 30,
    "start_time": "2022-05-10T22:25:49.599Z"
   },
   {
    "duration": 59,
    "start_time": "2022-05-10T22:25:49.631Z"
   },
   {
    "duration": 35899,
    "start_time": "2022-05-10T22:25:49.692Z"
   },
   {
    "duration": 92,
    "start_time": "2022-05-10T22:26:25.595Z"
   },
   {
    "duration": 23,
    "start_time": "2022-05-10T22:26:25.690Z"
   },
   {
    "duration": 8,
    "start_time": "2022-05-10T22:26:25.715Z"
   },
   {
    "duration": 59,
    "start_time": "2022-05-10T22:26:25.725Z"
   },
   {
    "duration": 5,
    "start_time": "2022-05-10T22:26:25.785Z"
   },
   {
    "duration": 7,
    "start_time": "2022-05-10T22:26:25.793Z"
   },
   {
    "duration": 180882,
    "start_time": "2022-05-10T22:26:25.803Z"
   },
   {
    "duration": 7,
    "start_time": "2022-05-10T22:29:26.687Z"
   },
   {
    "duration": 17,
    "start_time": "2022-05-10T22:29:26.696Z"
   },
   {
    "duration": 112,
    "start_time": "2022-05-10T22:29:26.758Z"
   },
   {
    "duration": 25,
    "start_time": "2022-05-10T22:29:26.873Z"
   },
   {
    "duration": 174,
    "start_time": "2022-05-10T22:29:26.901Z"
   },
   {
    "duration": 296,
    "start_time": "2022-05-10T22:29:27.082Z"
   },
   {
    "duration": 5,
    "start_time": "2022-05-10T22:29:27.381Z"
   },
   {
    "duration": 599,
    "start_time": "2022-05-10T22:29:27.389Z"
   },
   {
    "duration": 1533,
    "start_time": "2022-05-10T22:29:27.990Z"
   },
   {
    "duration": 32671,
    "start_time": "2022-05-10T22:29:29.526Z"
   },
   {
    "duration": 435,
    "start_time": "2022-05-10T22:30:02.200Z"
   },
   {
    "duration": 438,
    "start_time": "2022-05-10T22:30:02.637Z"
   },
   {
    "duration": 19073,
    "start_time": "2022-05-10T22:30:03.077Z"
   },
   {
    "duration": 47,
    "start_time": "2022-05-10T22:30:22.155Z"
   },
   {
    "duration": 35,
    "start_time": "2022-05-10T23:01:51.192Z"
   },
   {
    "duration": 126,
    "start_time": "2022-05-10T23:01:51.229Z"
   },
   {
    "duration": 13,
    "start_time": "2022-05-10T23:01:51.358Z"
   },
   {
    "duration": 18,
    "start_time": "2022-05-10T23:01:51.374Z"
   },
   {
    "duration": 7,
    "start_time": "2022-05-10T23:01:51.394Z"
   },
   {
    "duration": 53,
    "start_time": "2022-05-10T23:01:51.404Z"
   },
   {
    "duration": 30,
    "start_time": "2022-05-10T23:01:51.460Z"
   },
   {
    "duration": 19,
    "start_time": "2022-05-10T23:01:51.493Z"
   },
   {
    "duration": 6,
    "start_time": "2022-05-10T23:01:51.515Z"
   },
   {
    "duration": 39,
    "start_time": "2022-05-10T23:01:51.551Z"
   },
   {
    "duration": 4,
    "start_time": "2022-05-10T23:01:51.592Z"
   },
   {
    "duration": 6,
    "start_time": "2022-05-10T23:01:51.598Z"
   },
   {
    "duration": 13,
    "start_time": "2022-05-10T23:01:51.607Z"
   },
   {
    "duration": 87,
    "start_time": "2022-05-10T23:01:51.621Z"
   },
   {
    "duration": 1750,
    "start_time": "2022-05-10T23:01:51.711Z"
   },
   {
    "duration": 940,
    "start_time": "2022-05-10T23:01:53.464Z"
   },
   {
    "duration": 7,
    "start_time": "2022-05-10T23:01:54.406Z"
   },
   {
    "duration": 1054,
    "start_time": "2022-05-10T23:01:54.416Z"
   },
   {
    "duration": 6,
    "start_time": "2022-05-10T23:01:55.473Z"
   },
   {
    "duration": 356,
    "start_time": "2022-05-10T23:01:55.481Z"
   },
   {
    "duration": 14,
    "start_time": "2022-05-10T23:01:55.839Z"
   },
   {
    "duration": 10,
    "start_time": "2022-05-10T23:01:55.855Z"
   },
   {
    "duration": 19307,
    "start_time": "2022-05-10T23:01:55.867Z"
   },
   {
    "duration": 5,
    "start_time": "2022-05-10T23:02:15.176Z"
   },
   {
    "duration": 20,
    "start_time": "2022-05-10T23:02:15.183Z"
   },
   {
    "duration": 6,
    "start_time": "2022-05-10T23:02:15.205Z"
   },
   {
    "duration": 42,
    "start_time": "2022-05-10T23:02:15.213Z"
   },
   {
    "duration": 10,
    "start_time": "2022-05-10T23:02:15.261Z"
   },
   {
    "duration": 11,
    "start_time": "2022-05-10T23:02:15.273Z"
   },
   {
    "duration": 16,
    "start_time": "2022-05-10T23:02:15.286Z"
   },
   {
    "duration": 28271,
    "start_time": "2022-05-10T23:02:15.304Z"
   },
   {
    "duration": 80,
    "start_time": "2022-05-10T23:02:43.577Z"
   },
   {
    "duration": 26,
    "start_time": "2022-05-10T23:02:43.660Z"
   },
   {
    "duration": 7,
    "start_time": "2022-05-10T23:02:43.688Z"
   },
   {
    "duration": 59,
    "start_time": "2022-05-10T23:02:43.698Z"
   },
   {
    "duration": 4,
    "start_time": "2022-05-10T23:02:43.759Z"
   },
   {
    "duration": 10,
    "start_time": "2022-05-10T23:02:43.766Z"
   },
   {
    "duration": 70084,
    "start_time": "2022-05-10T23:02:43.779Z"
   },
   {
    "duration": 6,
    "start_time": "2022-05-10T23:03:53.865Z"
   },
   {
    "duration": 79,
    "start_time": "2022-05-10T23:03:53.873Z"
   },
   {
    "duration": 104,
    "start_time": "2022-05-10T23:03:53.956Z"
   },
   {
    "duration": 13,
    "start_time": "2022-05-10T23:03:54.062Z"
   },
   {
    "duration": 174,
    "start_time": "2022-05-10T23:03:54.078Z"
   },
   {
    "duration": 288,
    "start_time": "2022-05-10T23:03:54.255Z"
   },
   {
    "duration": 9,
    "start_time": "2022-05-10T23:03:54.545Z"
   },
   {
    "duration": 570,
    "start_time": "2022-05-10T23:03:54.557Z"
   },
   {
    "duration": 1152,
    "start_time": "2022-05-10T23:03:55.130Z"
   },
   {
    "duration": 23955,
    "start_time": "2022-05-10T23:03:56.285Z"
   },
   {
    "duration": 389,
    "start_time": "2022-05-10T23:04:20.242Z"
   },
   {
    "duration": 397,
    "start_time": "2022-05-10T23:04:20.633Z"
   },
   {
    "duration": 18521,
    "start_time": "2022-05-10T23:04:21.032Z"
   },
   {
    "duration": 33,
    "start_time": "2022-05-10T23:04:39.555Z"
   },
   {
    "duration": 1907,
    "start_time": "2022-05-11T19:16:22.357Z"
   },
   {
    "duration": 82,
    "start_time": "2022-05-11T19:16:24.267Z"
   },
   {
    "duration": 13,
    "start_time": "2022-05-11T19:16:24.352Z"
   },
   {
    "duration": 15,
    "start_time": "2022-05-11T19:16:24.368Z"
   },
   {
    "duration": 4,
    "start_time": "2022-05-11T19:16:24.386Z"
   },
   {
    "duration": 15,
    "start_time": "2022-05-11T19:16:24.392Z"
   },
   {
    "duration": 49,
    "start_time": "2022-05-11T19:16:24.409Z"
   },
   {
    "duration": 13,
    "start_time": "2022-05-11T19:16:24.460Z"
   },
   {
    "duration": 8,
    "start_time": "2022-05-11T19:16:24.475Z"
   },
   {
    "duration": 30,
    "start_time": "2022-05-11T19:16:24.485Z"
   },
   {
    "duration": 4,
    "start_time": "2022-05-11T19:16:24.517Z"
   },
   {
    "duration": 3,
    "start_time": "2022-05-11T19:16:24.542Z"
   },
   {
    "duration": 11,
    "start_time": "2022-05-11T19:16:24.547Z"
   },
   {
    "duration": 38,
    "start_time": "2022-05-11T19:16:24.560Z"
   },
   {
    "duration": 1171,
    "start_time": "2022-05-11T19:16:24.599Z"
   },
   {
    "duration": 701,
    "start_time": "2022-05-11T19:16:25.772Z"
   },
   {
    "duration": 5,
    "start_time": "2022-05-11T19:16:26.475Z"
   },
   {
    "duration": 752,
    "start_time": "2022-05-11T19:16:26.482Z"
   },
   {
    "duration": 9,
    "start_time": "2022-05-11T19:16:27.236Z"
   },
   {
    "duration": 146,
    "start_time": "2022-05-11T19:16:27.246Z"
   },
   {
    "duration": 4,
    "start_time": "2022-05-11T19:16:27.394Z"
   },
   {
    "duration": 41,
    "start_time": "2022-05-11T19:16:27.399Z"
   },
   {
    "duration": 12401,
    "start_time": "2022-05-11T19:16:27.443Z"
   },
   {
    "duration": 5,
    "start_time": "2022-05-11T19:16:39.847Z"
   },
   {
    "duration": 14,
    "start_time": "2022-05-11T19:16:39.854Z"
   },
   {
    "duration": 6,
    "start_time": "2022-05-11T19:16:39.871Z"
   },
   {
    "duration": 7,
    "start_time": "2022-05-11T19:16:39.879Z"
   },
   {
    "duration": 10,
    "start_time": "2022-05-11T19:16:39.892Z"
   },
   {
    "duration": 7,
    "start_time": "2022-05-11T19:16:39.942Z"
   },
   {
    "duration": 11,
    "start_time": "2022-05-11T19:16:39.952Z"
   },
   {
    "duration": 28173,
    "start_time": "2022-05-11T19:16:39.965Z"
   },
   {
    "duration": 58,
    "start_time": "2022-05-11T19:17:08.140Z"
   },
   {
    "duration": 21,
    "start_time": "2022-05-11T19:17:08.200Z"
   },
   {
    "duration": 21,
    "start_time": "2022-05-11T19:17:08.222Z"
   },
   {
    "duration": 25,
    "start_time": "2022-05-11T19:17:08.245Z"
   },
   {
    "duration": 3,
    "start_time": "2022-05-11T19:17:08.272Z"
   },
   {
    "duration": 17,
    "start_time": "2022-05-11T19:17:08.276Z"
   },
   {
    "duration": 53782,
    "start_time": "2022-05-11T19:17:08.295Z"
   },
   {
    "duration": 4,
    "start_time": "2022-05-11T19:18:02.079Z"
   },
   {
    "duration": 62,
    "start_time": "2022-05-11T19:18:02.085Z"
   },
   {
    "duration": 214,
    "start_time": "2022-05-11T19:18:02.150Z"
   },
   {
    "duration": 22,
    "start_time": "2022-05-11T19:18:02.366Z"
   },
   {
    "duration": 65,
    "start_time": "2022-05-11T19:18:02.391Z"
   },
   {
    "duration": 280,
    "start_time": "2022-05-11T19:18:02.544Z"
   },
   {
    "duration": 4,
    "start_time": "2022-05-11T19:18:02.827Z"
   },
   {
    "duration": 421,
    "start_time": "2022-05-11T19:18:02.833Z"
   },
   {
    "duration": 822,
    "start_time": "2022-05-11T19:18:03.255Z"
   },
   {
    "duration": 22973,
    "start_time": "2022-05-11T19:18:04.079Z"
   },
   {
    "duration": 417,
    "start_time": "2022-05-11T19:18:27.055Z"
   },
   {
    "duration": 428,
    "start_time": "2022-05-11T19:18:27.474Z"
   },
   {
    "duration": 13288,
    "start_time": "2022-05-11T19:18:27.904Z"
   },
   {
    "duration": 34,
    "start_time": "2022-05-11T19:18:41.194Z"
   },
   {
    "duration": 2480,
    "start_time": "2022-05-12T17:03:48.056Z"
   },
   {
    "duration": 99,
    "start_time": "2022-05-12T17:03:50.538Z"
   },
   {
    "duration": 14,
    "start_time": "2022-05-12T17:03:50.639Z"
   },
   {
    "duration": 16,
    "start_time": "2022-05-12T17:03:50.656Z"
   },
   {
    "duration": 6,
    "start_time": "2022-05-12T17:03:54.789Z"
   },
   {
    "duration": 20,
    "start_time": "2022-05-12T17:03:55.393Z"
   },
   {
    "duration": 27,
    "start_time": "2022-05-12T17:03:56.334Z"
   },
   {
    "duration": 51,
    "start_time": "2022-05-12T17:09:37.607Z"
   },
   {
    "duration": 103,
    "start_time": "2022-05-12T17:09:37.661Z"
   },
   {
    "duration": 27,
    "start_time": "2022-05-12T17:09:37.766Z"
   },
   {
    "duration": 18,
    "start_time": "2022-05-12T17:09:37.796Z"
   },
   {
    "duration": 6,
    "start_time": "2022-05-12T17:09:37.816Z"
   },
   {
    "duration": 22,
    "start_time": "2022-05-12T17:09:37.825Z"
   },
   {
    "duration": 6,
    "start_time": "2022-05-12T17:09:37.849Z"
   },
   {
    "duration": 3766,
    "start_time": "2022-05-12T17:09:37.857Z"
   },
   {
    "duration": 36,
    "start_time": "2022-05-12T17:09:55.810Z"
   },
   {
    "duration": 48,
    "start_time": "2022-05-12T17:10:50.200Z"
   },
   {
    "duration": 107,
    "start_time": "2022-05-12T17:10:50.251Z"
   },
   {
    "duration": 11,
    "start_time": "2022-05-12T17:10:50.361Z"
   },
   {
    "duration": 18,
    "start_time": "2022-05-12T17:10:50.393Z"
   },
   {
    "duration": 9,
    "start_time": "2022-05-12T17:10:50.415Z"
   },
   {
    "duration": 29,
    "start_time": "2022-05-12T17:10:50.426Z"
   },
   {
    "duration": 35,
    "start_time": "2022-05-12T17:10:50.458Z"
   },
   {
    "duration": 29,
    "start_time": "2022-05-12T17:10:50.496Z"
   },
   {
    "duration": 23,
    "start_time": "2022-05-12T17:10:55.231Z"
   },
   {
    "duration": 57,
    "start_time": "2022-05-12T17:11:23.408Z"
   },
   {
    "duration": 107,
    "start_time": "2022-05-12T17:11:23.468Z"
   },
   {
    "duration": 12,
    "start_time": "2022-05-12T17:11:23.593Z"
   },
   {
    "duration": 27,
    "start_time": "2022-05-12T17:11:23.608Z"
   },
   {
    "duration": 5,
    "start_time": "2022-05-12T17:11:23.638Z"
   },
   {
    "duration": 48,
    "start_time": "2022-05-12T17:11:23.646Z"
   },
   {
    "duration": 4,
    "start_time": "2022-05-12T17:11:23.697Z"
   },
   {
    "duration": 31,
    "start_time": "2022-05-12T17:11:29.089Z"
   },
   {
    "duration": 3008,
    "start_time": "2022-05-12T17:16:43.115Z"
   },
   {
    "duration": 169,
    "start_time": "2022-05-12T17:16:46.127Z"
   },
   {
    "duration": 15,
    "start_time": "2022-05-12T17:16:46.298Z"
   },
   {
    "duration": 21,
    "start_time": "2022-05-12T17:16:46.317Z"
   },
   {
    "duration": 6,
    "start_time": "2022-05-12T17:16:46.341Z"
   },
   {
    "duration": 55,
    "start_time": "2022-05-12T17:16:46.351Z"
   },
   {
    "duration": 7,
    "start_time": "2022-05-12T17:16:46.409Z"
   },
   {
    "duration": 26,
    "start_time": "2022-05-12T17:16:46.418Z"
   },
   {
    "duration": 181,
    "start_time": "2022-05-12T17:16:46.446Z"
   },
   {
    "duration": 0,
    "start_time": "2022-05-12T17:16:46.631Z"
   },
   {
    "duration": 0,
    "start_time": "2022-05-12T17:16:46.632Z"
   },
   {
    "duration": 0,
    "start_time": "2022-05-12T17:16:46.634Z"
   },
   {
    "duration": 0,
    "start_time": "2022-05-12T17:16:46.635Z"
   },
   {
    "duration": 0,
    "start_time": "2022-05-12T17:16:46.637Z"
   },
   {
    "duration": 0,
    "start_time": "2022-05-12T17:16:46.638Z"
   },
   {
    "duration": 0,
    "start_time": "2022-05-12T17:16:46.639Z"
   },
   {
    "duration": 0,
    "start_time": "2022-05-12T17:16:46.641Z"
   },
   {
    "duration": 0,
    "start_time": "2022-05-12T17:16:46.642Z"
   },
   {
    "duration": 0,
    "start_time": "2022-05-12T17:16:46.644Z"
   },
   {
    "duration": 0,
    "start_time": "2022-05-12T17:16:46.645Z"
   },
   {
    "duration": 0,
    "start_time": "2022-05-12T17:16:46.647Z"
   },
   {
    "duration": 0,
    "start_time": "2022-05-12T17:16:46.649Z"
   },
   {
    "duration": 0,
    "start_time": "2022-05-12T17:16:46.650Z"
   },
   {
    "duration": 0,
    "start_time": "2022-05-12T17:16:46.652Z"
   },
   {
    "duration": 0,
    "start_time": "2022-05-12T17:16:46.695Z"
   },
   {
    "duration": 0,
    "start_time": "2022-05-12T17:16:46.696Z"
   },
   {
    "duration": 0,
    "start_time": "2022-05-12T17:16:46.699Z"
   },
   {
    "duration": 0,
    "start_time": "2022-05-12T17:16:46.701Z"
   },
   {
    "duration": 0,
    "start_time": "2022-05-12T17:16:46.703Z"
   },
   {
    "duration": 0,
    "start_time": "2022-05-12T17:16:46.706Z"
   },
   {
    "duration": 0,
    "start_time": "2022-05-12T17:16:46.708Z"
   },
   {
    "duration": 0,
    "start_time": "2022-05-12T17:16:46.713Z"
   },
   {
    "duration": 0,
    "start_time": "2022-05-12T17:16:46.716Z"
   },
   {
    "duration": 0,
    "start_time": "2022-05-12T17:16:46.717Z"
   },
   {
    "duration": 0,
    "start_time": "2022-05-12T17:16:46.719Z"
   },
   {
    "duration": 0,
    "start_time": "2022-05-12T17:16:46.720Z"
   },
   {
    "duration": 0,
    "start_time": "2022-05-12T17:16:46.721Z"
   },
   {
    "duration": 0,
    "start_time": "2022-05-12T17:16:46.723Z"
   },
   {
    "duration": 0,
    "start_time": "2022-05-12T17:16:46.725Z"
   },
   {
    "duration": 0,
    "start_time": "2022-05-12T17:16:46.726Z"
   },
   {
    "duration": 0,
    "start_time": "2022-05-12T17:16:46.727Z"
   },
   {
    "duration": 0,
    "start_time": "2022-05-12T17:16:46.729Z"
   },
   {
    "duration": 0,
    "start_time": "2022-05-12T17:16:46.730Z"
   },
   {
    "duration": 0,
    "start_time": "2022-05-12T17:16:46.794Z"
   },
   {
    "duration": 0,
    "start_time": "2022-05-12T17:16:46.795Z"
   },
   {
    "duration": 0,
    "start_time": "2022-05-12T17:16:46.797Z"
   },
   {
    "duration": 0,
    "start_time": "2022-05-12T17:16:46.798Z"
   },
   {
    "duration": 0,
    "start_time": "2022-05-12T17:16:46.800Z"
   },
   {
    "duration": 0,
    "start_time": "2022-05-12T17:16:46.801Z"
   },
   {
    "duration": 0,
    "start_time": "2022-05-12T17:16:46.803Z"
   },
   {
    "duration": 0,
    "start_time": "2022-05-12T17:16:46.805Z"
   },
   {
    "duration": 0,
    "start_time": "2022-05-12T17:16:46.806Z"
   },
   {
    "duration": 8,
    "start_time": "2022-05-12T17:17:20.718Z"
   },
   {
    "duration": 55,
    "start_time": "2022-05-12T17:24:45.040Z"
   },
   {
    "duration": 109,
    "start_time": "2022-05-12T17:24:45.098Z"
   },
   {
    "duration": 10,
    "start_time": "2022-05-12T17:24:45.209Z"
   },
   {
    "duration": 17,
    "start_time": "2022-05-12T17:24:45.222Z"
   },
   {
    "duration": 5,
    "start_time": "2022-05-12T17:24:45.242Z"
   },
   {
    "duration": 59,
    "start_time": "2022-05-12T17:24:45.251Z"
   },
   {
    "duration": 6,
    "start_time": "2022-05-12T17:24:45.313Z"
   },
   {
    "duration": 27,
    "start_time": "2022-05-12T17:24:45.322Z"
   },
   {
    "duration": 7,
    "start_time": "2022-05-12T17:24:45.351Z"
   },
   {
    "duration": 5,
    "start_time": "2022-05-12T17:24:45.392Z"
   },
   {
    "duration": 7,
    "start_time": "2022-05-12T17:24:45.399Z"
   },
   {
    "duration": 10,
    "start_time": "2022-05-12T17:24:45.409Z"
   },
   {
    "duration": 4,
    "start_time": "2022-05-12T17:24:45.421Z"
   },
   {
    "duration": 81,
    "start_time": "2022-05-12T17:24:45.427Z"
   },
   {
    "duration": 41,
    "start_time": "2022-05-12T17:25:00.170Z"
   },
   {
    "duration": 123,
    "start_time": "2022-05-12T17:25:00.214Z"
   },
   {
    "duration": 10,
    "start_time": "2022-05-12T17:25:00.340Z"
   },
   {
    "duration": 19,
    "start_time": "2022-05-12T17:25:00.353Z"
   },
   {
    "duration": 6,
    "start_time": "2022-05-12T17:25:00.393Z"
   },
   {
    "duration": 30,
    "start_time": "2022-05-12T17:25:00.402Z"
   },
   {
    "duration": 26,
    "start_time": "2022-05-12T17:25:00.435Z"
   },
   {
    "duration": 43,
    "start_time": "2022-05-12T17:25:00.465Z"
   },
   {
    "duration": 24,
    "start_time": "2022-05-12T17:25:00.511Z"
   },
   {
    "duration": 33,
    "start_time": "2022-05-12T17:25:00.538Z"
   },
   {
    "duration": 55,
    "start_time": "2022-05-12T17:25:00.574Z"
   },
   {
    "duration": 24,
    "start_time": "2022-05-12T17:25:00.632Z"
   },
   {
    "duration": 23,
    "start_time": "2022-05-12T17:25:00.658Z"
   },
   {
    "duration": 42,
    "start_time": "2022-05-12T17:25:00.684Z"
   },
   {
    "duration": 26,
    "start_time": "2022-05-12T17:25:09.980Z"
   },
   {
    "duration": 33,
    "start_time": "2022-05-12T17:25:26.831Z"
   },
   {
    "duration": 1212,
    "start_time": "2022-05-12T17:26:13.130Z"
   },
   {
    "duration": 1975,
    "start_time": "2022-05-12T17:27:04.866Z"
   },
   {
    "duration": 1576,
    "start_time": "2022-05-12T17:30:20.533Z"
   },
   {
    "duration": 1641,
    "start_time": "2022-05-12T17:31:20.988Z"
   },
   {
    "duration": 1666,
    "start_time": "2022-05-12T17:31:54.993Z"
   },
   {
    "duration": 1543,
    "start_time": "2022-05-12T17:32:13.808Z"
   },
   {
    "duration": 1182,
    "start_time": "2022-05-12T17:37:27.844Z"
   },
   {
    "duration": 1500,
    "start_time": "2022-05-12T17:37:45.179Z"
   },
   {
    "duration": 1265,
    "start_time": "2022-05-12T17:38:01.323Z"
   },
   {
    "duration": 8,
    "start_time": "2022-05-12T17:39:31.108Z"
   },
   {
    "duration": 2721,
    "start_time": "2022-05-12T17:41:29.959Z"
   },
   {
    "duration": 3488,
    "start_time": "2022-05-12T17:41:55.162Z"
   },
   {
    "duration": 10,
    "start_time": "2022-05-12T17:42:04.927Z"
   },
   {
    "duration": 323,
    "start_time": "2022-05-12T17:43:05.622Z"
   },
   {
    "duration": 312,
    "start_time": "2022-05-12T17:43:25.818Z"
   },
   {
    "duration": 10,
    "start_time": "2022-05-12T17:44:39.613Z"
   },
   {
    "duration": 218,
    "start_time": "2022-05-12T17:44:44.848Z"
   },
   {
    "duration": 19,
    "start_time": "2022-05-12T17:45:31.904Z"
   },
   {
    "duration": 14,
    "start_time": "2022-05-12T17:45:39.644Z"
   },
   {
    "duration": 345,
    "start_time": "2022-05-12T17:45:46.109Z"
   },
   {
    "duration": 326,
    "start_time": "2022-05-12T17:45:58.722Z"
   },
   {
    "duration": 555,
    "start_time": "2022-05-12T17:46:03.242Z"
   },
   {
    "duration": 398,
    "start_time": "2022-05-12T17:46:45.474Z"
   },
   {
    "duration": 342,
    "start_time": "2022-05-12T17:46:57.945Z"
   },
   {
    "duration": 581,
    "start_time": "2022-05-12T17:48:21.201Z"
   },
   {
    "duration": 13,
    "start_time": "2022-05-12T17:48:21.784Z"
   },
   {
    "duration": 1339,
    "start_time": "2022-05-12T17:48:22.004Z"
   },
   {
    "duration": 1134,
    "start_time": "2022-05-12T17:48:48.463Z"
   },
   {
    "duration": 1184,
    "start_time": "2022-05-12T17:48:57.738Z"
   },
   {
    "duration": 5,
    "start_time": "2022-05-12T17:49:05.787Z"
   },
   {
    "duration": 232,
    "start_time": "2022-05-12T17:49:07.985Z"
   },
   {
    "duration": 233,
    "start_time": "2022-05-12T17:50:10.945Z"
   },
   {
    "duration": 54,
    "start_time": "2022-05-12T18:08:37.913Z"
   },
   {
    "duration": 156,
    "start_time": "2022-05-12T18:08:37.970Z"
   },
   {
    "duration": 13,
    "start_time": "2022-05-12T18:08:38.128Z"
   },
   {
    "duration": 19,
    "start_time": "2022-05-12T18:08:38.145Z"
   },
   {
    "duration": 27,
    "start_time": "2022-05-12T18:08:38.166Z"
   },
   {
    "duration": 19,
    "start_time": "2022-05-12T18:08:38.196Z"
   },
   {
    "duration": 7,
    "start_time": "2022-05-12T18:08:38.217Z"
   },
   {
    "duration": 32,
    "start_time": "2022-05-12T18:08:38.226Z"
   },
   {
    "duration": 33,
    "start_time": "2022-05-12T18:08:38.261Z"
   },
   {
    "duration": 4,
    "start_time": "2022-05-12T18:08:38.299Z"
   },
   {
    "duration": 10,
    "start_time": "2022-05-12T18:08:38.306Z"
   },
   {
    "duration": 13,
    "start_time": "2022-05-12T18:08:38.318Z"
   },
   {
    "duration": 3,
    "start_time": "2022-05-12T18:08:38.334Z"
   },
   {
    "duration": 82,
    "start_time": "2022-05-12T18:08:38.340Z"
   },
   {
    "duration": 37,
    "start_time": "2022-05-12T18:08:38.425Z"
   },
   {
    "duration": 1903,
    "start_time": "2022-05-12T18:08:38.464Z"
   },
   {
    "duration": 1167,
    "start_time": "2022-05-12T18:08:40.370Z"
   },
   {
    "duration": 5,
    "start_time": "2022-05-12T18:08:41.540Z"
   },
   {
    "duration": 0,
    "start_time": "2022-05-12T18:08:41.548Z"
   },
   {
    "duration": 0,
    "start_time": "2022-05-12T18:08:41.549Z"
   },
   {
    "duration": 0,
    "start_time": "2022-05-12T18:08:41.552Z"
   },
   {
    "duration": 0,
    "start_time": "2022-05-12T18:08:41.554Z"
   },
   {
    "duration": 0,
    "start_time": "2022-05-12T18:08:41.555Z"
   },
   {
    "duration": 0,
    "start_time": "2022-05-12T18:08:41.558Z"
   },
   {
    "duration": 0,
    "start_time": "2022-05-12T18:08:41.560Z"
   },
   {
    "duration": 0,
    "start_time": "2022-05-12T18:08:41.596Z"
   },
   {
    "duration": 0,
    "start_time": "2022-05-12T18:08:41.598Z"
   },
   {
    "duration": 0,
    "start_time": "2022-05-12T18:08:41.600Z"
   },
   {
    "duration": 0,
    "start_time": "2022-05-12T18:08:41.602Z"
   },
   {
    "duration": 0,
    "start_time": "2022-05-12T18:08:41.603Z"
   },
   {
    "duration": 0,
    "start_time": "2022-05-12T18:08:41.605Z"
   },
   {
    "duration": 0,
    "start_time": "2022-05-12T18:08:41.606Z"
   },
   {
    "duration": 52,
    "start_time": "2022-05-12T18:10:15.451Z"
   },
   {
    "duration": 123,
    "start_time": "2022-05-12T18:10:15.506Z"
   },
   {
    "duration": 11,
    "start_time": "2022-05-12T18:10:15.631Z"
   },
   {
    "duration": 22,
    "start_time": "2022-05-12T18:10:15.645Z"
   },
   {
    "duration": 24,
    "start_time": "2022-05-12T18:10:15.670Z"
   },
   {
    "duration": 24,
    "start_time": "2022-05-12T18:10:15.697Z"
   },
   {
    "duration": 6,
    "start_time": "2022-05-12T18:10:15.724Z"
   },
   {
    "duration": 33,
    "start_time": "2022-05-12T18:10:15.733Z"
   },
   {
    "duration": 8,
    "start_time": "2022-05-12T18:10:15.794Z"
   },
   {
    "duration": 14,
    "start_time": "2022-05-12T18:10:15.807Z"
   },
   {
    "duration": 15,
    "start_time": "2022-05-12T18:10:15.824Z"
   },
   {
    "duration": 15,
    "start_time": "2022-05-12T18:10:15.843Z"
   },
   {
    "duration": 30,
    "start_time": "2022-05-12T18:10:15.863Z"
   },
   {
    "duration": 38,
    "start_time": "2022-05-12T18:10:15.896Z"
   },
   {
    "duration": 57,
    "start_time": "2022-05-12T18:10:15.936Z"
   },
   {
    "duration": 2054,
    "start_time": "2022-05-12T18:10:15.995Z"
   },
   {
    "duration": 1189,
    "start_time": "2022-05-12T18:10:18.051Z"
   },
   {
    "duration": 486,
    "start_time": "2022-05-12T18:10:19.243Z"
   },
   {
    "duration": 7,
    "start_time": "2022-05-12T18:10:19.732Z"
   },
   {
    "duration": 1334,
    "start_time": "2022-05-12T18:10:19.741Z"
   },
   {
    "duration": 6,
    "start_time": "2022-05-12T18:10:21.077Z"
   },
   {
    "duration": 525,
    "start_time": "2022-05-12T18:10:21.094Z"
   },
   {
    "duration": 5,
    "start_time": "2022-05-12T18:10:21.621Z"
   },
   {
    "duration": 0,
    "start_time": "2022-05-12T18:10:21.628Z"
   },
   {
    "duration": 0,
    "start_time": "2022-05-12T18:10:21.629Z"
   },
   {
    "duration": 0,
    "start_time": "2022-05-12T18:10:21.631Z"
   },
   {
    "duration": 0,
    "start_time": "2022-05-12T18:10:21.632Z"
   },
   {
    "duration": 0,
    "start_time": "2022-05-12T18:10:21.634Z"
   },
   {
    "duration": 0,
    "start_time": "2022-05-12T18:10:21.635Z"
   },
   {
    "duration": 0,
    "start_time": "2022-05-12T18:10:21.637Z"
   },
   {
    "duration": 0,
    "start_time": "2022-05-12T18:10:21.639Z"
   },
   {
    "duration": 41,
    "start_time": "2022-05-12T18:10:34.142Z"
   },
   {
    "duration": 113,
    "start_time": "2022-05-12T18:10:34.186Z"
   },
   {
    "duration": 11,
    "start_time": "2022-05-12T18:10:34.302Z"
   },
   {
    "duration": 22,
    "start_time": "2022-05-12T18:10:34.316Z"
   },
   {
    "duration": 5,
    "start_time": "2022-05-12T18:10:34.341Z"
   },
   {
    "duration": 51,
    "start_time": "2022-05-12T18:10:34.349Z"
   },
   {
    "duration": 15,
    "start_time": "2022-05-12T18:10:34.402Z"
   },
   {
    "duration": 41,
    "start_time": "2022-05-12T18:10:34.420Z"
   },
   {
    "duration": 7,
    "start_time": "2022-05-12T18:10:34.463Z"
   },
   {
    "duration": 22,
    "start_time": "2022-05-12T18:10:34.474Z"
   },
   {
    "duration": 12,
    "start_time": "2022-05-12T18:10:34.498Z"
   },
   {
    "duration": 14,
    "start_time": "2022-05-12T18:10:34.513Z"
   },
   {
    "duration": 8,
    "start_time": "2022-05-12T18:10:34.530Z"
   },
   {
    "duration": 53,
    "start_time": "2022-05-12T18:10:34.540Z"
   },
   {
    "duration": 37,
    "start_time": "2022-05-12T18:10:34.596Z"
   },
   {
    "duration": 2063,
    "start_time": "2022-05-12T18:10:34.635Z"
   },
   {
    "duration": 1185,
    "start_time": "2022-05-12T18:10:36.700Z"
   },
   {
    "duration": 403,
    "start_time": "2022-05-12T18:10:37.892Z"
   },
   {
    "duration": 8,
    "start_time": "2022-05-12T18:10:38.298Z"
   },
   {
    "duration": 1220,
    "start_time": "2022-05-12T18:10:38.308Z"
   },
   {
    "duration": 7,
    "start_time": "2022-05-12T18:10:39.530Z"
   },
   {
    "duration": 261,
    "start_time": "2022-05-12T18:10:39.540Z"
   },
   {
    "duration": 5,
    "start_time": "2022-05-12T18:10:39.803Z"
   },
   {
    "duration": 10,
    "start_time": "2022-05-12T18:10:39.811Z"
   },
   {
    "duration": 144665,
    "start_time": "2022-05-12T18:10:39.823Z"
   },
   {
    "duration": 0,
    "start_time": "2022-05-12T18:13:04.493Z"
   },
   {
    "duration": 0,
    "start_time": "2022-05-12T18:13:04.496Z"
   },
   {
    "duration": 0,
    "start_time": "2022-05-12T18:13:04.498Z"
   },
   {
    "duration": 0,
    "start_time": "2022-05-12T18:13:04.500Z"
   },
   {
    "duration": 0,
    "start_time": "2022-05-12T18:13:04.502Z"
   },
   {
    "duration": 44,
    "start_time": "2022-05-12T18:13:11.030Z"
   },
   {
    "duration": 145,
    "start_time": "2022-05-12T18:13:11.077Z"
   },
   {
    "duration": 11,
    "start_time": "2022-05-12T18:13:11.225Z"
   },
   {
    "duration": 31,
    "start_time": "2022-05-12T18:13:11.240Z"
   },
   {
    "duration": 33,
    "start_time": "2022-05-12T18:13:11.274Z"
   },
   {
    "duration": 28,
    "start_time": "2022-05-12T18:13:11.310Z"
   },
   {
    "duration": 11,
    "start_time": "2022-05-12T18:13:11.343Z"
   },
   {
    "duration": 56,
    "start_time": "2022-05-12T18:13:11.356Z"
   },
   {
    "duration": 9,
    "start_time": "2022-05-12T18:13:11.415Z"
   },
   {
    "duration": 7,
    "start_time": "2022-05-12T18:13:11.428Z"
   },
   {
    "duration": 3,
    "start_time": "2022-05-12T18:13:11.448Z"
   },
   {
    "duration": 17,
    "start_time": "2022-05-12T18:13:11.454Z"
   },
   {
    "duration": 27,
    "start_time": "2022-05-12T18:13:11.474Z"
   },
   {
    "duration": 31,
    "start_time": "2022-05-12T18:13:11.504Z"
   },
   {
    "duration": 63,
    "start_time": "2022-05-12T18:13:11.538Z"
   },
   {
    "duration": 2095,
    "start_time": "2022-05-12T18:13:11.603Z"
   },
   {
    "duration": 1187,
    "start_time": "2022-05-12T18:13:13.700Z"
   },
   {
    "duration": 470,
    "start_time": "2022-05-12T18:13:14.893Z"
   },
   {
    "duration": 8,
    "start_time": "2022-05-12T18:13:15.366Z"
   },
   {
    "duration": 1163,
    "start_time": "2022-05-12T18:13:15.395Z"
   },
   {
    "duration": 7,
    "start_time": "2022-05-12T18:13:16.561Z"
   },
   {
    "duration": 269,
    "start_time": "2022-05-12T18:13:16.572Z"
   },
   {
    "duration": 6,
    "start_time": "2022-05-12T18:13:16.843Z"
   },
   {
    "duration": 10,
    "start_time": "2022-05-12T18:13:16.852Z"
   },
   {
    "duration": 167035,
    "start_time": "2022-05-12T18:13:16.864Z"
   },
   {
    "duration": 11,
    "start_time": "2022-05-12T18:16:03.903Z"
   },
   {
    "duration": 24,
    "start_time": "2022-05-12T18:16:03.918Z"
   },
   {
    "duration": 7,
    "start_time": "2022-05-12T18:16:03.947Z"
   },
   {
    "duration": 47,
    "start_time": "2022-05-12T18:16:03.957Z"
   },
   {
    "duration": 17,
    "start_time": "2022-05-12T18:16:04.007Z"
   },
   {
    "duration": 5,
    "start_time": "2022-05-12T18:21:15.918Z"
   },
   {
    "duration": 3,
    "start_time": "2022-05-12T18:21:34.745Z"
   },
   {
    "duration": 1458,
    "start_time": "2022-05-12T18:27:34.701Z"
   },
   {
    "duration": 2054,
    "start_time": "2022-05-12T18:28:21.419Z"
   },
   {
    "duration": 1660,
    "start_time": "2022-05-12T18:29:53.533Z"
   },
   {
    "duration": 1550,
    "start_time": "2022-05-12T18:30:17.369Z"
   },
   {
    "duration": 1760,
    "start_time": "2022-05-12T18:30:27.823Z"
   },
   {
    "duration": 1527,
    "start_time": "2022-05-12T18:30:42.657Z"
   },
   {
    "duration": 1464,
    "start_time": "2022-05-12T18:31:03.203Z"
   },
   {
    "duration": 1605,
    "start_time": "2022-05-12T18:31:10.814Z"
   },
   {
    "duration": 1858,
    "start_time": "2022-05-12T18:31:23.410Z"
   },
   {
    "duration": 1909,
    "start_time": "2022-05-12T18:31:30.184Z"
   },
   {
    "duration": 22,
    "start_time": "2022-05-12T18:31:59.169Z"
   },
   {
    "duration": 28,
    "start_time": "2022-05-12T18:32:29.436Z"
   },
   {
    "duration": 433,
    "start_time": "2022-05-12T18:32:49.929Z"
   },
   {
    "duration": 19,
    "start_time": "2022-05-12T18:33:00.408Z"
   },
   {
    "duration": 456,
    "start_time": "2022-05-12T18:33:20.450Z"
   },
   {
    "duration": 482,
    "start_time": "2022-05-12T18:33:30.234Z"
   },
   {
    "duration": 518,
    "start_time": "2022-05-12T18:33:35.166Z"
   },
   {
    "duration": 400,
    "start_time": "2022-05-12T18:33:41.486Z"
   },
   {
    "duration": 392,
    "start_time": "2022-05-12T18:33:48.212Z"
   },
   {
    "duration": 407,
    "start_time": "2022-05-12T18:33:54.594Z"
   },
   {
    "duration": 496,
    "start_time": "2022-05-12T18:34:11.997Z"
   },
   {
    "duration": 470,
    "start_time": "2022-05-12T18:34:37.310Z"
   },
   {
    "duration": 407,
    "start_time": "2022-05-12T18:34:39.457Z"
   },
   {
    "duration": 407,
    "start_time": "2022-05-12T18:34:43.902Z"
   },
   {
    "duration": 638,
    "start_time": "2022-05-12T18:34:48.661Z"
   },
   {
    "duration": 633,
    "start_time": "2022-05-12T18:34:52.744Z"
   },
   {
    "duration": 519,
    "start_time": "2022-05-12T18:36:34.293Z"
   },
   {
    "duration": 600,
    "start_time": "2022-05-12T18:37:22.695Z"
   },
   {
    "duration": 40,
    "start_time": "2022-05-12T18:43:56.550Z"
   },
   {
    "duration": 128,
    "start_time": "2022-05-12T18:43:56.593Z"
   },
   {
    "duration": 13,
    "start_time": "2022-05-12T18:43:56.724Z"
   },
   {
    "duration": 20,
    "start_time": "2022-05-12T18:43:56.740Z"
   },
   {
    "duration": 32,
    "start_time": "2022-05-12T18:43:56.762Z"
   },
   {
    "duration": 16,
    "start_time": "2022-05-12T18:43:56.797Z"
   },
   {
    "duration": 6,
    "start_time": "2022-05-12T18:43:56.817Z"
   },
   {
    "duration": 78,
    "start_time": "2022-05-12T18:43:56.826Z"
   },
   {
    "duration": 7,
    "start_time": "2022-05-12T18:43:56.906Z"
   },
   {
    "duration": 6,
    "start_time": "2022-05-12T18:43:56.917Z"
   },
   {
    "duration": 7,
    "start_time": "2022-05-12T18:43:56.925Z"
   },
   {
    "duration": 10,
    "start_time": "2022-05-12T18:43:56.934Z"
   },
   {
    "duration": 48,
    "start_time": "2022-05-12T18:43:56.946Z"
   },
   {
    "duration": 31,
    "start_time": "2022-05-12T18:43:56.996Z"
   },
   {
    "duration": 63,
    "start_time": "2022-05-12T18:43:57.030Z"
   },
   {
    "duration": 1924,
    "start_time": "2022-05-12T18:43:57.095Z"
   },
   {
    "duration": 2472,
    "start_time": "2022-05-12T18:43:59.022Z"
   },
   {
    "duration": 706,
    "start_time": "2022-05-12T18:44:01.496Z"
   },
   {
    "duration": 7,
    "start_time": "2022-05-12T18:44:02.204Z"
   },
   {
    "duration": 2696,
    "start_time": "2022-05-12T18:44:02.213Z"
   },
   {
    "duration": 6,
    "start_time": "2022-05-12T18:44:04.912Z"
   },
   {
    "duration": 567,
    "start_time": "2022-05-12T18:44:04.921Z"
   },
   {
    "duration": 5,
    "start_time": "2022-05-12T18:44:05.492Z"
   },
   {
    "duration": 8,
    "start_time": "2022-05-12T18:44:05.500Z"
   },
   {
    "duration": 147764,
    "start_time": "2022-05-12T18:44:05.511Z"
   },
   {
    "duration": 6,
    "start_time": "2022-05-12T18:46:33.277Z"
   },
   {
    "duration": 17,
    "start_time": "2022-05-12T18:46:33.294Z"
   },
   {
    "duration": 6,
    "start_time": "2022-05-12T18:46:33.317Z"
   },
   {
    "duration": 9,
    "start_time": "2022-05-12T18:46:33.325Z"
   },
   {
    "duration": 13,
    "start_time": "2022-05-12T18:46:33.338Z"
   },
   {
    "duration": 6,
    "start_time": "2022-05-12T18:46:33.394Z"
   },
   {
    "duration": 11,
    "start_time": "2022-05-12T18:46:33.403Z"
   },
   {
    "duration": 33621,
    "start_time": "2022-05-12T18:46:33.416Z"
   },
   {
    "duration": 67,
    "start_time": "2022-05-12T18:47:07.040Z"
   },
   {
    "duration": 0,
    "start_time": "2022-05-12T18:47:07.110Z"
   },
   {
    "duration": 0,
    "start_time": "2022-05-12T18:47:07.112Z"
   },
   {
    "duration": 0,
    "start_time": "2022-05-12T18:47:07.115Z"
   },
   {
    "duration": 0,
    "start_time": "2022-05-12T18:47:07.116Z"
   },
   {
    "duration": 0,
    "start_time": "2022-05-12T18:47:07.118Z"
   },
   {
    "duration": 0,
    "start_time": "2022-05-12T18:47:07.120Z"
   },
   {
    "duration": 0,
    "start_time": "2022-05-12T18:47:07.121Z"
   },
   {
    "duration": 0,
    "start_time": "2022-05-12T18:47:07.123Z"
   },
   {
    "duration": 0,
    "start_time": "2022-05-12T18:47:07.125Z"
   },
   {
    "duration": 0,
    "start_time": "2022-05-12T18:47:07.128Z"
   },
   {
    "duration": 0,
    "start_time": "2022-05-12T18:47:07.130Z"
   },
   {
    "duration": 0,
    "start_time": "2022-05-12T18:47:07.132Z"
   },
   {
    "duration": 0,
    "start_time": "2022-05-12T18:47:07.134Z"
   },
   {
    "duration": 0,
    "start_time": "2022-05-12T18:47:07.136Z"
   },
   {
    "duration": 0,
    "start_time": "2022-05-12T18:47:07.138Z"
   },
   {
    "duration": 1,
    "start_time": "2022-05-12T18:47:07.192Z"
   },
   {
    "duration": 0,
    "start_time": "2022-05-12T18:47:07.194Z"
   },
   {
    "duration": 0,
    "start_time": "2022-05-12T18:47:07.197Z"
   },
   {
    "duration": 0,
    "start_time": "2022-05-12T18:47:07.199Z"
   },
   {
    "duration": 0,
    "start_time": "2022-05-12T18:47:07.201Z"
   },
   {
    "duration": 11,
    "start_time": "2022-05-12T18:53:02.873Z"
   },
   {
    "duration": 175,
    "start_time": "2022-05-12T18:53:23.805Z"
   },
   {
    "duration": 91,
    "start_time": "2022-05-12T18:53:23.983Z"
   },
   {
    "duration": 11,
    "start_time": "2022-05-12T18:53:24.094Z"
   },
   {
    "duration": 18,
    "start_time": "2022-05-12T18:53:24.108Z"
   },
   {
    "duration": 5,
    "start_time": "2022-05-12T18:53:24.128Z"
   },
   {
    "duration": 19,
    "start_time": "2022-05-12T18:53:24.136Z"
   },
   {
    "duration": 7,
    "start_time": "2022-05-12T18:53:24.195Z"
   },
   {
    "duration": 26,
    "start_time": "2022-05-12T18:53:24.204Z"
   },
   {
    "duration": 7,
    "start_time": "2022-05-12T18:53:24.232Z"
   },
   {
    "duration": 6,
    "start_time": "2022-05-12T18:53:24.242Z"
   },
   {
    "duration": 43,
    "start_time": "2022-05-12T18:53:24.250Z"
   },
   {
    "duration": 8,
    "start_time": "2022-05-12T18:53:24.295Z"
   },
   {
    "duration": 8,
    "start_time": "2022-05-12T18:53:24.305Z"
   },
   {
    "duration": 32,
    "start_time": "2022-05-12T18:53:24.316Z"
   },
   {
    "duration": 67,
    "start_time": "2022-05-12T18:53:24.350Z"
   },
   {
    "duration": 2419,
    "start_time": "2022-05-12T18:53:24.419Z"
   },
   {
    "duration": 2320,
    "start_time": "2022-05-12T18:53:26.894Z"
   },
   {
    "duration": 626,
    "start_time": "2022-05-12T18:53:29.216Z"
   },
   {
    "duration": 14,
    "start_time": "2022-05-12T18:53:29.845Z"
   },
   {
    "duration": 10,
    "start_time": "2022-05-12T18:54:16.025Z"
   },
   {
    "duration": 8,
    "start_time": "2022-05-12T18:54:23.079Z"
   },
   {
    "duration": 11,
    "start_time": "2022-05-12T18:54:34.635Z"
   },
   {
    "duration": 3203,
    "start_time": "2022-05-12T18:57:30.717Z"
   },
   {
    "duration": 0,
    "start_time": "2022-05-12T18:57:33.922Z"
   },
   {
    "duration": 44,
    "start_time": "2022-05-12T18:57:45.120Z"
   },
   {
    "duration": 90,
    "start_time": "2022-05-12T18:57:45.167Z"
   },
   {
    "duration": 33,
    "start_time": "2022-05-12T18:57:45.259Z"
   },
   {
    "duration": 18,
    "start_time": "2022-05-12T18:57:45.296Z"
   },
   {
    "duration": 5,
    "start_time": "2022-05-12T18:57:45.316Z"
   },
   {
    "duration": 18,
    "start_time": "2022-05-12T18:57:45.324Z"
   },
   {
    "duration": 10,
    "start_time": "2022-05-12T18:57:45.344Z"
   },
   {
    "duration": 66,
    "start_time": "2022-05-12T18:57:45.356Z"
   },
   {
    "duration": 9,
    "start_time": "2022-05-12T18:57:45.425Z"
   },
   {
    "duration": 12,
    "start_time": "2022-05-12T19:01:54.914Z"
   },
   {
    "duration": 48,
    "start_time": "2022-05-12T19:02:35.465Z"
   },
   {
    "duration": 3144,
    "start_time": "2022-05-13T15:28:55.382Z"
   },
   {
    "duration": 113,
    "start_time": "2022-05-13T15:28:58.528Z"
   },
   {
    "duration": 15,
    "start_time": "2022-05-13T15:28:58.644Z"
   },
   {
    "duration": 41,
    "start_time": "2022-05-13T15:28:58.662Z"
   },
   {
    "duration": 6,
    "start_time": "2022-05-13T15:28:58.706Z"
   },
   {
    "duration": 20,
    "start_time": "2022-05-13T15:28:58.715Z"
   },
   {
    "duration": 4,
    "start_time": "2022-05-13T15:28:58.737Z"
   },
   {
    "duration": 65,
    "start_time": "2022-05-13T15:28:58.744Z"
   },
   {
    "duration": 8,
    "start_time": "2022-05-13T15:28:58.811Z"
   },
   {
    "duration": 7,
    "start_time": "2022-05-13T15:28:58.823Z"
   },
   {
    "duration": 21,
    "start_time": "2022-05-13T15:28:58.832Z"
   },
   {
    "duration": 3,
    "start_time": "2022-05-13T15:28:58.855Z"
   },
   {
    "duration": 55,
    "start_time": "2022-05-13T15:28:58.861Z"
   },
   {
    "duration": 33,
    "start_time": "2022-05-13T15:28:58.918Z"
   },
   {
    "duration": 1946,
    "start_time": "2022-05-13T15:28:58.954Z"
   },
   {
    "duration": 1211,
    "start_time": "2022-05-13T15:29:00.902Z"
   },
   {
    "duration": 353,
    "start_time": "2022-05-13T15:29:02.115Z"
   },
   {
    "duration": 23,
    "start_time": "2022-05-13T15:29:02.470Z"
   },
   {
    "duration": 1226,
    "start_time": "2022-05-13T15:29:02.495Z"
   },
   {
    "duration": 6,
    "start_time": "2022-05-13T15:29:03.723Z"
   },
   {
    "duration": 247,
    "start_time": "2022-05-13T15:29:03.731Z"
   },
   {
    "duration": 13,
    "start_time": "2022-05-13T15:29:03.980Z"
   },
   {
    "duration": 4,
    "start_time": "2022-05-13T15:29:03.996Z"
   },
   {
    "duration": 151532,
    "start_time": "2022-05-13T15:29:04.003Z"
   },
   {
    "duration": 6,
    "start_time": "2022-05-13T15:31:35.537Z"
   },
   {
    "duration": 49,
    "start_time": "2022-05-13T15:31:35.546Z"
   },
   {
    "duration": 8,
    "start_time": "2022-05-13T15:31:35.597Z"
   },
   {
    "duration": 16,
    "start_time": "2022-05-13T15:31:35.611Z"
   },
   {
    "duration": 19,
    "start_time": "2022-05-13T15:31:35.629Z"
   },
   {
    "duration": 10,
    "start_time": "2022-05-13T15:31:35.651Z"
   },
   {
    "duration": 39,
    "start_time": "2022-05-13T15:31:35.664Z"
   },
   {
    "duration": 43174,
    "start_time": "2022-05-13T15:31:35.706Z"
   },
   {
    "duration": 227,
    "start_time": "2022-05-13T15:32:18.883Z"
   },
   {
    "duration": 0,
    "start_time": "2022-05-13T15:32:19.113Z"
   },
   {
    "duration": 0,
    "start_time": "2022-05-13T15:32:19.115Z"
   },
   {
    "duration": 0,
    "start_time": "2022-05-13T15:32:19.117Z"
   },
   {
    "duration": 0,
    "start_time": "2022-05-13T15:32:19.120Z"
   },
   {
    "duration": 0,
    "start_time": "2022-05-13T15:32:19.121Z"
   },
   {
    "duration": 0,
    "start_time": "2022-05-13T15:32:19.123Z"
   },
   {
    "duration": 0,
    "start_time": "2022-05-13T15:32:19.124Z"
   },
   {
    "duration": 0,
    "start_time": "2022-05-13T15:32:19.126Z"
   },
   {
    "duration": 0,
    "start_time": "2022-05-13T15:32:19.127Z"
   },
   {
    "duration": 0,
    "start_time": "2022-05-13T15:32:19.129Z"
   },
   {
    "duration": 1,
    "start_time": "2022-05-13T15:32:19.130Z"
   },
   {
    "duration": 0,
    "start_time": "2022-05-13T15:32:19.132Z"
   },
   {
    "duration": 0,
    "start_time": "2022-05-13T15:32:19.134Z"
   },
   {
    "duration": 0,
    "start_time": "2022-05-13T15:32:19.135Z"
   },
   {
    "duration": 0,
    "start_time": "2022-05-13T15:32:19.137Z"
   },
   {
    "duration": 0,
    "start_time": "2022-05-13T15:32:19.138Z"
   },
   {
    "duration": 0,
    "start_time": "2022-05-13T15:32:19.139Z"
   },
   {
    "duration": 0,
    "start_time": "2022-05-13T15:32:19.140Z"
   },
   {
    "duration": 0,
    "start_time": "2022-05-13T15:32:19.141Z"
   },
   {
    "duration": 0,
    "start_time": "2022-05-13T15:32:19.194Z"
   },
   {
    "duration": 82,
    "start_time": "2022-05-13T15:32:32.854Z"
   },
   {
    "duration": 49,
    "start_time": "2022-05-13T15:33:04.251Z"
   },
   {
    "duration": 132,
    "start_time": "2022-05-13T15:33:04.303Z"
   },
   {
    "duration": 10,
    "start_time": "2022-05-13T15:33:04.437Z"
   },
   {
    "duration": 20,
    "start_time": "2022-05-13T15:33:04.493Z"
   },
   {
    "duration": 6,
    "start_time": "2022-05-13T15:33:04.515Z"
   },
   {
    "duration": 19,
    "start_time": "2022-05-13T15:33:04.524Z"
   },
   {
    "duration": 6,
    "start_time": "2022-05-13T15:33:04.545Z"
   },
   {
    "duration": 64,
    "start_time": "2022-05-13T15:33:04.554Z"
   },
   {
    "duration": 9,
    "start_time": "2022-05-13T15:33:04.621Z"
   },
   {
    "duration": 4,
    "start_time": "2022-05-13T15:33:04.637Z"
   },
   {
    "duration": 48,
    "start_time": "2022-05-13T15:33:04.644Z"
   },
   {
    "duration": 4,
    "start_time": "2022-05-13T15:33:04.695Z"
   },
   {
    "duration": 58,
    "start_time": "2022-05-13T15:33:04.702Z"
   },
   {
    "duration": 51,
    "start_time": "2022-05-13T15:33:04.763Z"
   },
   {
    "duration": 2277,
    "start_time": "2022-05-13T15:33:04.817Z"
   },
   {
    "duration": 2332,
    "start_time": "2022-05-13T15:33:07.096Z"
   },
   {
    "duration": 489,
    "start_time": "2022-05-13T15:33:09.430Z"
   },
   {
    "duration": 9,
    "start_time": "2022-05-13T15:33:09.922Z"
   },
   {
    "duration": 1195,
    "start_time": "2022-05-13T15:33:09.933Z"
   },
   {
    "duration": 5,
    "start_time": "2022-05-13T15:33:11.130Z"
   },
   {
    "duration": 258,
    "start_time": "2022-05-13T15:33:11.138Z"
   },
   {
    "duration": 5,
    "start_time": "2022-05-13T15:33:11.398Z"
   },
   {
    "duration": 7,
    "start_time": "2022-05-13T15:33:11.405Z"
   },
   {
    "duration": 147087,
    "start_time": "2022-05-13T15:33:11.414Z"
   },
   {
    "duration": 6,
    "start_time": "2022-05-13T15:35:38.503Z"
   },
   {
    "duration": 36,
    "start_time": "2022-05-13T15:35:38.512Z"
   },
   {
    "duration": 9,
    "start_time": "2022-05-13T15:35:38.551Z"
   },
   {
    "duration": 29,
    "start_time": "2022-05-13T15:35:38.568Z"
   },
   {
    "duration": 14,
    "start_time": "2022-05-13T15:35:38.600Z"
   },
   {
    "duration": 8,
    "start_time": "2022-05-13T15:35:38.616Z"
   },
   {
    "duration": 25,
    "start_time": "2022-05-13T15:35:38.626Z"
   },
   {
    "duration": 28261,
    "start_time": "2022-05-13T15:35:38.653Z"
   },
   {
    "duration": 31,
    "start_time": "2022-05-13T15:36:06.916Z"
   },
   {
    "duration": 14,
    "start_time": "2022-05-13T15:36:06.949Z"
   },
   {
    "duration": 34,
    "start_time": "2022-05-13T15:36:06.965Z"
   },
   {
    "duration": 22,
    "start_time": "2022-05-13T15:36:07.001Z"
   },
   {
    "duration": 5,
    "start_time": "2022-05-13T15:36:07.027Z"
   },
   {
    "duration": 9,
    "start_time": "2022-05-13T15:36:07.035Z"
   },
   {
    "duration": 105911,
    "start_time": "2022-05-13T15:36:07.047Z"
   },
   {
    "duration": 4,
    "start_time": "2022-05-13T15:37:52.960Z"
   },
   {
    "duration": 33,
    "start_time": "2022-05-13T15:37:52.967Z"
   },
   {
    "duration": 0,
    "start_time": "2022-05-13T15:37:53.003Z"
   },
   {
    "duration": 0,
    "start_time": "2022-05-13T15:37:53.004Z"
   },
   {
    "duration": 0,
    "start_time": "2022-05-13T15:37:53.006Z"
   },
   {
    "duration": 0,
    "start_time": "2022-05-13T15:37:53.007Z"
   },
   {
    "duration": 0,
    "start_time": "2022-05-13T15:37:53.009Z"
   },
   {
    "duration": 0,
    "start_time": "2022-05-13T15:37:53.010Z"
   },
   {
    "duration": 0,
    "start_time": "2022-05-13T15:37:53.011Z"
   },
   {
    "duration": 0,
    "start_time": "2022-05-13T15:37:53.013Z"
   },
   {
    "duration": 0,
    "start_time": "2022-05-13T15:37:53.014Z"
   },
   {
    "duration": 0,
    "start_time": "2022-05-13T15:37:53.016Z"
   },
   {
    "duration": 0,
    "start_time": "2022-05-13T15:37:53.017Z"
   },
   {
    "duration": 0,
    "start_time": "2022-05-13T15:37:53.019Z"
   },
   {
    "duration": 38011,
    "start_time": "2022-05-13T15:38:14.194Z"
   },
   {
    "duration": 16,
    "start_time": "2022-05-13T15:46:29.071Z"
   },
   {
    "duration": 11,
    "start_time": "2022-05-13T15:47:19.564Z"
   },
   {
    "duration": 62,
    "start_time": "2022-05-13T15:48:28.184Z"
   },
   {
    "duration": 36,
    "start_time": "2022-05-13T15:50:16.708Z"
   },
   {
    "duration": 103,
    "start_time": "2022-05-13T15:50:16.747Z"
   },
   {
    "duration": 40,
    "start_time": "2022-05-13T15:50:16.853Z"
   },
   {
    "duration": 20,
    "start_time": "2022-05-13T15:50:16.896Z"
   },
   {
    "duration": 6,
    "start_time": "2022-05-13T15:50:16.919Z"
   },
   {
    "duration": 17,
    "start_time": "2022-05-13T15:50:16.928Z"
   },
   {
    "duration": 45,
    "start_time": "2022-05-13T15:50:16.948Z"
   },
   {
    "duration": 25,
    "start_time": "2022-05-13T15:50:16.996Z"
   },
   {
    "duration": 6,
    "start_time": "2022-05-13T15:50:17.023Z"
   },
   {
    "duration": 7,
    "start_time": "2022-05-13T15:50:17.033Z"
   },
   {
    "duration": 18,
    "start_time": "2022-05-13T15:50:17.042Z"
   },
   {
    "duration": 31,
    "start_time": "2022-05-13T15:50:17.062Z"
   },
   {
    "duration": 29,
    "start_time": "2022-05-13T15:50:17.095Z"
   },
   {
    "duration": 34,
    "start_time": "2022-05-13T15:50:17.126Z"
   },
   {
    "duration": 2644,
    "start_time": "2022-05-13T15:50:17.195Z"
   },
   {
    "duration": 1615,
    "start_time": "2022-05-13T15:50:19.842Z"
   },
   {
    "duration": 510,
    "start_time": "2022-05-13T15:50:21.461Z"
   },
   {
    "duration": 25,
    "start_time": "2022-05-13T15:50:21.974Z"
   },
   {
    "duration": 1694,
    "start_time": "2022-05-13T15:50:22.002Z"
   },
   {
    "duration": 6,
    "start_time": "2022-05-13T15:50:23.699Z"
   },
   {
    "duration": 356,
    "start_time": "2022-05-13T15:50:23.708Z"
   },
   {
    "duration": 6,
    "start_time": "2022-05-13T15:50:24.067Z"
   },
   {
    "duration": 19,
    "start_time": "2022-05-13T15:50:24.076Z"
   },
   {
    "duration": 157612,
    "start_time": "2022-05-13T15:50:24.098Z"
   },
   {
    "duration": 7,
    "start_time": "2022-05-13T15:53:01.712Z"
   },
   {
    "duration": 25,
    "start_time": "2022-05-13T15:53:01.721Z"
   },
   {
    "duration": 9,
    "start_time": "2022-05-13T15:53:01.748Z"
   },
   {
    "duration": 34,
    "start_time": "2022-05-13T15:53:01.763Z"
   },
   {
    "duration": 15,
    "start_time": "2022-05-13T15:53:01.799Z"
   },
   {
    "duration": 6,
    "start_time": "2022-05-13T15:53:01.816Z"
   },
   {
    "duration": 11,
    "start_time": "2022-05-13T15:53:01.825Z"
   },
   {
    "duration": 41819,
    "start_time": "2022-05-13T15:53:01.838Z"
   },
   {
    "duration": 88,
    "start_time": "2022-05-13T15:53:43.660Z"
   },
   {
    "duration": 27,
    "start_time": "2022-05-13T15:53:43.750Z"
   },
   {
    "duration": 24,
    "start_time": "2022-05-13T15:53:43.779Z"
   },
   {
    "duration": 38,
    "start_time": "2022-05-13T15:53:43.806Z"
   },
   {
    "duration": 5,
    "start_time": "2022-05-13T15:53:43.846Z"
   },
   {
    "duration": 200,
    "start_time": "2022-05-13T15:53:43.853Z"
   },
   {
    "duration": 0,
    "start_time": "2022-05-13T15:53:44.056Z"
   },
   {
    "duration": 0,
    "start_time": "2022-05-13T15:53:44.058Z"
   },
   {
    "duration": 0,
    "start_time": "2022-05-13T15:53:44.060Z"
   },
   {
    "duration": 0,
    "start_time": "2022-05-13T15:53:44.061Z"
   },
   {
    "duration": 0,
    "start_time": "2022-05-13T15:53:44.062Z"
   },
   {
    "duration": 0,
    "start_time": "2022-05-13T15:53:44.064Z"
   },
   {
    "duration": 0,
    "start_time": "2022-05-13T15:53:44.066Z"
   },
   {
    "duration": 0,
    "start_time": "2022-05-13T15:53:44.067Z"
   },
   {
    "duration": 0,
    "start_time": "2022-05-13T15:53:44.069Z"
   },
   {
    "duration": 0,
    "start_time": "2022-05-13T15:53:44.071Z"
   },
   {
    "duration": 0,
    "start_time": "2022-05-13T15:53:44.073Z"
   },
   {
    "duration": 0,
    "start_time": "2022-05-13T15:53:44.075Z"
   },
   {
    "duration": 0,
    "start_time": "2022-05-13T15:53:44.076Z"
   },
   {
    "duration": 0,
    "start_time": "2022-05-13T15:53:44.078Z"
   },
   {
    "duration": 0,
    "start_time": "2022-05-13T15:53:44.079Z"
   },
   {
    "duration": 46,
    "start_time": "2022-05-13T15:57:39.397Z"
   },
   {
    "duration": 106,
    "start_time": "2022-05-13T15:57:39.447Z"
   },
   {
    "duration": 10,
    "start_time": "2022-05-13T15:57:39.556Z"
   },
   {
    "duration": 44,
    "start_time": "2022-05-13T15:57:39.568Z"
   },
   {
    "duration": 6,
    "start_time": "2022-05-13T15:57:39.619Z"
   },
   {
    "duration": 17,
    "start_time": "2022-05-13T15:57:39.627Z"
   },
   {
    "duration": 12,
    "start_time": "2022-05-13T15:57:39.646Z"
   },
   {
    "duration": 40,
    "start_time": "2022-05-13T15:57:39.660Z"
   },
   {
    "duration": 18,
    "start_time": "2022-05-13T15:57:39.702Z"
   },
   {
    "duration": 11,
    "start_time": "2022-05-13T15:57:39.722Z"
   },
   {
    "duration": 16,
    "start_time": "2022-05-13T15:57:39.736Z"
   },
   {
    "duration": 5,
    "start_time": "2022-05-13T15:57:39.754Z"
   },
   {
    "duration": 42,
    "start_time": "2022-05-13T15:57:39.761Z"
   },
   {
    "duration": 35,
    "start_time": "2022-05-13T15:57:39.808Z"
   },
   {
    "duration": 1986,
    "start_time": "2022-05-13T15:57:39.845Z"
   },
   {
    "duration": 1186,
    "start_time": "2022-05-13T15:57:41.834Z"
   },
   {
    "duration": 359,
    "start_time": "2022-05-13T15:57:43.023Z"
   },
   {
    "duration": 22,
    "start_time": "2022-05-13T15:57:43.384Z"
   },
   {
    "duration": 0,
    "start_time": "2022-05-13T15:58:46.600Z"
   },
   {
    "duration": 0,
    "start_time": "2022-05-13T15:58:46.601Z"
   },
   {
    "duration": 0,
    "start_time": "2022-05-13T15:58:46.604Z"
   },
   {
    "duration": 0,
    "start_time": "2022-05-13T15:58:46.607Z"
   },
   {
    "duration": 0,
    "start_time": "2022-05-13T15:58:46.609Z"
   },
   {
    "duration": 0,
    "start_time": "2022-05-13T15:58:46.611Z"
   },
   {
    "duration": 0,
    "start_time": "2022-05-13T15:58:46.613Z"
   },
   {
    "duration": 0,
    "start_time": "2022-05-13T15:58:46.617Z"
   },
   {
    "duration": 0,
    "start_time": "2022-05-13T15:58:46.619Z"
   },
   {
    "duration": 0,
    "start_time": "2022-05-13T15:58:46.621Z"
   },
   {
    "duration": 0,
    "start_time": "2022-05-13T15:58:46.623Z"
   },
   {
    "duration": 0,
    "start_time": "2022-05-13T15:58:46.626Z"
   },
   {
    "duration": 0,
    "start_time": "2022-05-13T15:58:46.628Z"
   },
   {
    "duration": 0,
    "start_time": "2022-05-13T15:58:46.629Z"
   },
   {
    "duration": 0,
    "start_time": "2022-05-13T15:58:46.631Z"
   },
   {
    "duration": 0,
    "start_time": "2022-05-13T15:58:46.633Z"
   },
   {
    "duration": 0,
    "start_time": "2022-05-13T15:58:46.634Z"
   },
   {
    "duration": 0,
    "start_time": "2022-05-13T15:58:46.636Z"
   },
   {
    "duration": 0,
    "start_time": "2022-05-13T15:58:46.637Z"
   },
   {
    "duration": 0,
    "start_time": "2022-05-13T15:58:46.639Z"
   },
   {
    "duration": 0,
    "start_time": "2022-05-13T15:58:46.641Z"
   },
   {
    "duration": 0,
    "start_time": "2022-05-13T15:58:46.642Z"
   },
   {
    "duration": 0,
    "start_time": "2022-05-13T15:58:46.643Z"
   },
   {
    "duration": 0,
    "start_time": "2022-05-13T15:58:46.700Z"
   },
   {
    "duration": 1,
    "start_time": "2022-05-13T15:58:46.702Z"
   },
   {
    "duration": 0,
    "start_time": "2022-05-13T15:58:46.708Z"
   },
   {
    "duration": 0,
    "start_time": "2022-05-13T15:58:46.709Z"
   },
   {
    "duration": 0,
    "start_time": "2022-05-13T15:58:46.710Z"
   },
   {
    "duration": 0,
    "start_time": "2022-05-13T15:58:46.714Z"
   },
   {
    "duration": 0,
    "start_time": "2022-05-13T15:58:46.719Z"
   },
   {
    "duration": 0,
    "start_time": "2022-05-13T15:58:46.720Z"
   },
   {
    "duration": 0,
    "start_time": "2022-05-13T15:58:46.721Z"
   },
   {
    "duration": 0,
    "start_time": "2022-05-13T15:58:46.722Z"
   },
   {
    "duration": 1,
    "start_time": "2022-05-13T15:58:46.724Z"
   },
   {
    "duration": 0,
    "start_time": "2022-05-13T15:58:46.726Z"
   },
   {
    "duration": 0,
    "start_time": "2022-05-13T15:58:46.728Z"
   },
   {
    "duration": 0,
    "start_time": "2022-05-13T15:58:46.730Z"
   },
   {
    "duration": 0,
    "start_time": "2022-05-13T15:58:46.732Z"
   },
   {
    "duration": 1,
    "start_time": "2022-05-13T15:58:46.734Z"
   },
   {
    "duration": 0,
    "start_time": "2022-05-13T15:58:46.737Z"
   },
   {
    "duration": 0,
    "start_time": "2022-05-13T15:58:46.739Z"
   },
   {
    "duration": 0,
    "start_time": "2022-05-13T15:58:46.741Z"
   },
   {
    "duration": 0,
    "start_time": "2022-05-13T15:58:46.742Z"
   },
   {
    "duration": 0,
    "start_time": "2022-05-13T15:58:46.743Z"
   },
   {
    "duration": 0,
    "start_time": "2022-05-13T15:58:46.795Z"
   },
   {
    "duration": 0,
    "start_time": "2022-05-13T15:58:46.804Z"
   },
   {
    "duration": 0,
    "start_time": "2022-05-13T15:58:46.805Z"
   },
   {
    "duration": 0,
    "start_time": "2022-05-13T15:58:46.806Z"
   },
   {
    "duration": 0,
    "start_time": "2022-05-13T15:58:46.809Z"
   },
   {
    "duration": 0,
    "start_time": "2022-05-13T15:58:46.811Z"
   },
   {
    "duration": 0,
    "start_time": "2022-05-13T15:58:46.812Z"
   },
   {
    "duration": 0,
    "start_time": "2022-05-13T15:58:46.813Z"
   },
   {
    "duration": 0,
    "start_time": "2022-05-13T15:58:46.814Z"
   },
   {
    "duration": 2076,
    "start_time": "2022-05-13T15:58:55.640Z"
   },
   {
    "duration": 113,
    "start_time": "2022-05-13T15:58:57.719Z"
   },
   {
    "duration": 13,
    "start_time": "2022-05-13T15:58:57.834Z"
   },
   {
    "duration": 17,
    "start_time": "2022-05-13T15:58:57.850Z"
   },
   {
    "duration": 8,
    "start_time": "2022-05-13T15:58:57.892Z"
   },
   {
    "duration": 42,
    "start_time": "2022-05-13T15:58:57.902Z"
   },
   {
    "duration": 7,
    "start_time": "2022-05-13T15:58:57.946Z"
   },
   {
    "duration": 28,
    "start_time": "2022-05-13T15:58:57.956Z"
   },
   {
    "duration": 18,
    "start_time": "2022-05-13T15:58:57.986Z"
   },
   {
    "duration": 13,
    "start_time": "2022-05-13T15:58:58.011Z"
   },
   {
    "duration": 20,
    "start_time": "2022-05-13T15:58:58.026Z"
   },
   {
    "duration": 4,
    "start_time": "2022-05-13T15:58:58.048Z"
   },
   {
    "duration": 47,
    "start_time": "2022-05-13T15:58:58.054Z"
   },
   {
    "duration": 37,
    "start_time": "2022-05-13T15:58:58.104Z"
   },
   {
    "duration": 2083,
    "start_time": "2022-05-13T15:58:58.144Z"
   },
   {
    "duration": 1212,
    "start_time": "2022-05-13T15:59:00.229Z"
   },
   {
    "duration": 385,
    "start_time": "2022-05-13T15:59:01.444Z"
   },
   {
    "duration": 13,
    "start_time": "2022-05-13T15:59:01.832Z"
   },
   {
    "duration": 1174,
    "start_time": "2022-05-13T15:59:01.847Z"
   },
   {
    "duration": 7,
    "start_time": "2022-05-13T15:59:03.024Z"
   },
   {
    "duration": 267,
    "start_time": "2022-05-13T15:59:03.033Z"
   },
   {
    "duration": 5,
    "start_time": "2022-05-13T15:59:03.303Z"
   },
   {
    "duration": 13,
    "start_time": "2022-05-13T15:59:03.310Z"
   },
   {
    "duration": 144605,
    "start_time": "2022-05-13T15:59:03.325Z"
   },
   {
    "duration": 6,
    "start_time": "2022-05-13T16:01:27.932Z"
   },
   {
    "duration": 22,
    "start_time": "2022-05-13T16:01:27.941Z"
   },
   {
    "duration": 35,
    "start_time": "2022-05-13T16:01:27.966Z"
   },
   {
    "duration": 9,
    "start_time": "2022-05-13T16:01:28.007Z"
   },
   {
    "duration": 11,
    "start_time": "2022-05-13T16:01:28.018Z"
   },
   {
    "duration": 11,
    "start_time": "2022-05-13T16:01:28.031Z"
   },
   {
    "duration": 24,
    "start_time": "2022-05-13T16:01:28.044Z"
   },
   {
    "duration": 44985,
    "start_time": "2022-05-13T16:01:28.070Z"
   },
   {
    "duration": 52,
    "start_time": "2022-05-13T16:02:13.058Z"
   },
   {
    "duration": 11,
    "start_time": "2022-05-13T16:02:13.113Z"
   },
   {
    "duration": 13,
    "start_time": "2022-05-13T16:02:13.126Z"
   },
   {
    "duration": 23,
    "start_time": "2022-05-13T16:02:13.141Z"
   },
   {
    "duration": 5,
    "start_time": "2022-05-13T16:02:13.167Z"
   },
   {
    "duration": 27,
    "start_time": "2022-05-13T16:02:13.174Z"
   },
   {
    "duration": 133195,
    "start_time": "2022-05-13T16:02:13.203Z"
   },
   {
    "duration": 7,
    "start_time": "2022-05-13T16:04:26.400Z"
   },
   {
    "duration": 12,
    "start_time": "2022-05-13T16:04:26.409Z"
   },
   {
    "duration": 174,
    "start_time": "2022-05-13T16:04:26.425Z"
   },
   {
    "duration": 26,
    "start_time": "2022-05-13T16:04:26.603Z"
   },
   {
    "duration": 268,
    "start_time": "2022-05-13T16:04:26.693Z"
   },
   {
    "duration": 0,
    "start_time": "2022-05-13T16:04:26.963Z"
   },
   {
    "duration": 0,
    "start_time": "2022-05-13T16:04:26.965Z"
   },
   {
    "duration": 0,
    "start_time": "2022-05-13T16:04:26.967Z"
   },
   {
    "duration": 0,
    "start_time": "2022-05-13T16:04:26.969Z"
   },
   {
    "duration": 0,
    "start_time": "2022-05-13T16:04:26.971Z"
   },
   {
    "duration": 0,
    "start_time": "2022-05-13T16:04:26.972Z"
   },
   {
    "duration": 0,
    "start_time": "2022-05-13T16:04:26.974Z"
   },
   {
    "duration": 0,
    "start_time": "2022-05-13T16:04:26.994Z"
   },
   {
    "duration": 1,
    "start_time": "2022-05-13T16:04:26.999Z"
   },
   {
    "duration": 28,
    "start_time": "2022-05-13T16:06:04.186Z"
   },
   {
    "duration": 27,
    "start_time": "2022-05-13T16:06:57.107Z"
   },
   {
    "duration": 29,
    "start_time": "2022-05-13T16:07:18.274Z"
   },
   {
    "duration": 31,
    "start_time": "2022-05-13T16:08:10.706Z"
   },
   {
    "duration": 18,
    "start_time": "2022-05-13T16:08:26.153Z"
   },
   {
    "duration": 25,
    "start_time": "2022-05-13T16:09:29.624Z"
   },
   {
    "duration": 17,
    "start_time": "2022-05-13T16:09:42.545Z"
   },
   {
    "duration": 21,
    "start_time": "2022-05-13T16:09:52.310Z"
   },
   {
    "duration": 20,
    "start_time": "2022-05-13T16:10:01.112Z"
   },
   {
    "duration": 23,
    "start_time": "2022-05-13T16:10:18.120Z"
   },
   {
    "duration": 20,
    "start_time": "2022-05-13T16:10:58.559Z"
   },
   {
    "duration": 17,
    "start_time": "2022-05-13T16:11:50.535Z"
   },
   {
    "duration": 2175,
    "start_time": "2022-05-13T16:11:57.271Z"
   },
   {
    "duration": 104,
    "start_time": "2022-05-13T16:11:59.449Z"
   },
   {
    "duration": 13,
    "start_time": "2022-05-13T16:11:59.556Z"
   },
   {
    "duration": 18,
    "start_time": "2022-05-13T16:11:59.593Z"
   },
   {
    "duration": 6,
    "start_time": "2022-05-13T16:11:59.613Z"
   },
   {
    "duration": 19,
    "start_time": "2022-05-13T16:11:59.621Z"
   },
   {
    "duration": 6,
    "start_time": "2022-05-13T16:11:59.642Z"
   },
   {
    "duration": 57,
    "start_time": "2022-05-13T16:11:59.651Z"
   },
   {
    "duration": 7,
    "start_time": "2022-05-13T16:11:59.711Z"
   },
   {
    "duration": 5,
    "start_time": "2022-05-13T16:11:59.722Z"
   },
   {
    "duration": 14,
    "start_time": "2022-05-13T16:11:59.729Z"
   },
   {
    "duration": 3,
    "start_time": "2022-05-13T16:11:59.745Z"
   },
   {
    "duration": 64,
    "start_time": "2022-05-13T16:11:59.750Z"
   },
   {
    "duration": 33,
    "start_time": "2022-05-13T16:11:59.816Z"
   },
   {
    "duration": 1984,
    "start_time": "2022-05-13T16:11:59.851Z"
   },
   {
    "duration": 1147,
    "start_time": "2022-05-13T16:12:01.837Z"
   },
   {
    "duration": 374,
    "start_time": "2022-05-13T16:12:02.993Z"
   },
   {
    "duration": 11,
    "start_time": "2022-05-13T16:12:03.370Z"
   },
   {
    "duration": 1321,
    "start_time": "2022-05-13T16:12:03.393Z"
   },
   {
    "duration": 6,
    "start_time": "2022-05-13T16:12:04.717Z"
   },
   {
    "duration": 285,
    "start_time": "2022-05-13T16:12:04.725Z"
   },
   {
    "duration": 5,
    "start_time": "2022-05-13T16:12:05.012Z"
   },
   {
    "duration": 10,
    "start_time": "2022-05-13T16:12:05.020Z"
   },
   {
    "duration": 143797,
    "start_time": "2022-05-13T16:12:05.033Z"
   },
   {
    "duration": 5,
    "start_time": "2022-05-13T16:14:28.833Z"
   },
   {
    "duration": 18,
    "start_time": "2022-05-13T16:14:28.841Z"
   },
   {
    "duration": 46,
    "start_time": "2022-05-13T16:14:28.862Z"
   },
   {
    "duration": 14,
    "start_time": "2022-05-13T16:14:28.915Z"
   },
   {
    "duration": 10,
    "start_time": "2022-05-13T16:14:28.932Z"
   },
   {
    "duration": 5,
    "start_time": "2022-05-13T16:14:28.944Z"
   },
   {
    "duration": 6,
    "start_time": "2022-05-13T16:14:28.951Z"
   },
   {
    "duration": 40579,
    "start_time": "2022-05-13T16:14:28.959Z"
   },
   {
    "duration": 35,
    "start_time": "2022-05-13T16:15:09.540Z"
   },
   {
    "duration": 27,
    "start_time": "2022-05-13T16:15:09.593Z"
   },
   {
    "duration": 20,
    "start_time": "2022-05-13T16:15:09.622Z"
   },
   {
    "duration": 18,
    "start_time": "2022-05-13T16:15:09.644Z"
   },
   {
    "duration": 4,
    "start_time": "2022-05-13T16:15:09.665Z"
   },
   {
    "duration": 8,
    "start_time": "2022-05-13T16:15:09.671Z"
   },
   {
    "duration": 179394,
    "start_time": "2022-05-13T16:15:09.695Z"
   },
   {
    "duration": 5,
    "start_time": "2022-05-13T16:18:09.091Z"
   },
   {
    "duration": 21,
    "start_time": "2022-05-13T16:18:09.099Z"
   },
   {
    "duration": 191,
    "start_time": "2022-05-13T16:18:09.124Z"
   },
   {
    "duration": 84,
    "start_time": "2022-05-13T16:18:09.318Z"
   },
   {
    "duration": 112,
    "start_time": "2022-05-13T16:18:09.406Z"
   },
   {
    "duration": 294,
    "start_time": "2022-05-13T16:18:09.521Z"
   },
   {
    "duration": 5,
    "start_time": "2022-05-13T16:18:09.817Z"
   },
   {
    "duration": 631,
    "start_time": "2022-05-13T16:18:09.824Z"
   },
   {
    "duration": 186,
    "start_time": "2022-05-13T16:18:10.457Z"
   },
   {
    "duration": 0,
    "start_time": "2022-05-13T16:18:10.645Z"
   },
   {
    "duration": 0,
    "start_time": "2022-05-13T16:18:10.647Z"
   },
   {
    "duration": 0,
    "start_time": "2022-05-13T16:18:10.650Z"
   },
   {
    "duration": 0,
    "start_time": "2022-05-13T16:18:10.652Z"
   },
   {
    "duration": 0,
    "start_time": "2022-05-13T16:18:10.654Z"
   },
   {
    "duration": 5,
    "start_time": "2022-05-13T16:18:49.330Z"
   },
   {
    "duration": 24,
    "start_time": "2022-05-13T16:19:20.793Z"
   },
   {
    "duration": 398,
    "start_time": "2022-05-13T16:19:22.248Z"
   },
   {
    "duration": 7,
    "start_time": "2022-05-13T16:19:22.993Z"
   },
   {
    "duration": 6,
    "start_time": "2022-05-13T16:19:24.258Z"
   },
   {
    "duration": 7,
    "start_time": "2022-05-13T16:19:43.521Z"
   },
   {
    "duration": 24,
    "start_time": "2022-05-13T16:19:53.488Z"
   },
   {
    "duration": 264,
    "start_time": "2022-05-13T16:19:53.940Z"
   },
   {
    "duration": 5,
    "start_time": "2022-05-13T16:19:54.207Z"
   },
   {
    "duration": 6,
    "start_time": "2022-05-13T16:19:54.289Z"
   },
   {
    "duration": 1869,
    "start_time": "2022-05-13T16:20:56.871Z"
   },
   {
    "duration": 1849,
    "start_time": "2022-05-13T16:21:15.146Z"
   },
   {
    "duration": 1819,
    "start_time": "2022-05-13T16:21:21.054Z"
   },
   {
    "duration": 1802,
    "start_time": "2022-05-13T16:21:30.641Z"
   },
   {
    "duration": 63967,
    "start_time": "2022-05-13T16:22:20.564Z"
   },
   {
    "duration": 38378,
    "start_time": "2022-05-13T16:25:45.455Z"
   },
   {
    "duration": 32674,
    "start_time": "2022-05-13T16:42:25.425Z"
   },
   {
    "duration": 43470,
    "start_time": "2022-05-13T16:48:29.898Z"
   },
   {
    "duration": 2197,
    "start_time": "2022-05-13T17:02:53.740Z"
   },
   {
    "duration": 156,
    "start_time": "2022-05-13T17:02:55.942Z"
   },
   {
    "duration": 17,
    "start_time": "2022-05-13T17:02:56.101Z"
   },
   {
    "duration": 18,
    "start_time": "2022-05-13T17:02:56.121Z"
   },
   {
    "duration": 6,
    "start_time": "2022-05-13T17:02:56.142Z"
   },
   {
    "duration": 53,
    "start_time": "2022-05-13T17:02:56.151Z"
   },
   {
    "duration": 6,
    "start_time": "2022-05-13T17:02:56.206Z"
   },
   {
    "duration": 27,
    "start_time": "2022-05-13T17:02:56.214Z"
   },
   {
    "duration": 8,
    "start_time": "2022-05-13T17:02:56.243Z"
   },
   {
    "duration": 4,
    "start_time": "2022-05-13T17:02:56.255Z"
   },
   {
    "duration": 12,
    "start_time": "2022-05-13T17:02:56.294Z"
   },
   {
    "duration": 3,
    "start_time": "2022-05-13T17:02:56.308Z"
   },
   {
    "duration": 32,
    "start_time": "2022-05-13T17:02:56.314Z"
   },
   {
    "duration": 66,
    "start_time": "2022-05-13T17:02:56.348Z"
   },
   {
    "duration": 1976,
    "start_time": "2022-05-13T17:02:56.417Z"
   },
   {
    "duration": 1145,
    "start_time": "2022-05-13T17:02:58.395Z"
   },
   {
    "duration": 357,
    "start_time": "2022-05-13T17:02:59.543Z"
   },
   {
    "duration": 11,
    "start_time": "2022-05-13T17:02:59.902Z"
   },
   {
    "duration": 1174,
    "start_time": "2022-05-13T17:02:59.916Z"
   },
   {
    "duration": 6,
    "start_time": "2022-05-13T17:03:01.094Z"
   },
   {
    "duration": 267,
    "start_time": "2022-05-13T17:03:01.102Z"
   },
   {
    "duration": 4,
    "start_time": "2022-05-13T17:03:01.371Z"
   },
   {
    "duration": 184,
    "start_time": "2022-05-13T17:03:01.392Z"
   },
   {
    "duration": 0,
    "start_time": "2022-05-13T17:03:01.581Z"
   },
   {
    "duration": 0,
    "start_time": "2022-05-13T17:03:01.582Z"
   },
   {
    "duration": 0,
    "start_time": "2022-05-13T17:03:01.584Z"
   },
   {
    "duration": 0,
    "start_time": "2022-05-13T17:03:01.593Z"
   },
   {
    "duration": 0,
    "start_time": "2022-05-13T17:03:01.596Z"
   },
   {
    "duration": 0,
    "start_time": "2022-05-13T17:03:01.598Z"
   },
   {
    "duration": 0,
    "start_time": "2022-05-13T17:03:01.600Z"
   },
   {
    "duration": 0,
    "start_time": "2022-05-13T17:03:01.603Z"
   },
   {
    "duration": 0,
    "start_time": "2022-05-13T17:03:01.605Z"
   },
   {
    "duration": 0,
    "start_time": "2022-05-13T17:03:01.607Z"
   },
   {
    "duration": 0,
    "start_time": "2022-05-13T17:03:01.609Z"
   },
   {
    "duration": 0,
    "start_time": "2022-05-13T17:03:01.611Z"
   },
   {
    "duration": 0,
    "start_time": "2022-05-13T17:03:01.613Z"
   },
   {
    "duration": 0,
    "start_time": "2022-05-13T17:03:01.615Z"
   },
   {
    "duration": 0,
    "start_time": "2022-05-13T17:03:01.617Z"
   },
   {
    "duration": 0,
    "start_time": "2022-05-13T17:03:01.619Z"
   },
   {
    "duration": 0,
    "start_time": "2022-05-13T17:03:01.621Z"
   },
   {
    "duration": 0,
    "start_time": "2022-05-13T17:03:01.623Z"
   },
   {
    "duration": 0,
    "start_time": "2022-05-13T17:03:01.625Z"
   },
   {
    "duration": 0,
    "start_time": "2022-05-13T17:03:01.627Z"
   },
   {
    "duration": 0,
    "start_time": "2022-05-13T17:03:01.629Z"
   },
   {
    "duration": 0,
    "start_time": "2022-05-13T17:03:01.632Z"
   },
   {
    "duration": 0,
    "start_time": "2022-05-13T17:03:01.633Z"
   },
   {
    "duration": 0,
    "start_time": "2022-05-13T17:03:01.694Z"
   },
   {
    "duration": 0,
    "start_time": "2022-05-13T17:03:01.696Z"
   },
   {
    "duration": 0,
    "start_time": "2022-05-13T17:03:01.698Z"
   },
   {
    "duration": 0,
    "start_time": "2022-05-13T17:03:01.700Z"
   },
   {
    "duration": 0,
    "start_time": "2022-05-13T17:03:01.702Z"
   },
   {
    "duration": 0,
    "start_time": "2022-05-13T17:03:01.704Z"
   },
   {
    "duration": 0,
    "start_time": "2022-05-13T17:03:01.706Z"
   },
   {
    "duration": 0,
    "start_time": "2022-05-13T17:03:01.709Z"
   },
   {
    "duration": 0,
    "start_time": "2022-05-13T17:03:01.711Z"
   },
   {
    "duration": 5,
    "start_time": "2022-05-13T17:06:07.439Z"
   },
   {
    "duration": 2609,
    "start_time": "2022-05-13T17:08:41.617Z"
   },
   {
    "duration": 106,
    "start_time": "2022-05-13T17:08:44.229Z"
   },
   {
    "duration": 15,
    "start_time": "2022-05-13T17:08:44.337Z"
   },
   {
    "duration": 17,
    "start_time": "2022-05-13T17:08:44.355Z"
   },
   {
    "duration": 6,
    "start_time": "2022-05-13T17:08:44.394Z"
   },
   {
    "duration": 20,
    "start_time": "2022-05-13T17:08:44.402Z"
   },
   {
    "duration": 5,
    "start_time": "2022-05-13T17:08:44.425Z"
   },
   {
    "duration": 27,
    "start_time": "2022-05-13T17:08:44.432Z"
   },
   {
    "duration": 37,
    "start_time": "2022-05-13T17:08:44.462Z"
   },
   {
    "duration": 4,
    "start_time": "2022-05-13T17:08:44.504Z"
   },
   {
    "duration": 22,
    "start_time": "2022-05-13T17:08:44.510Z"
   },
   {
    "duration": 4,
    "start_time": "2022-05-13T17:08:44.534Z"
   },
   {
    "duration": 79,
    "start_time": "2022-05-13T17:08:44.541Z"
   },
   {
    "duration": 50,
    "start_time": "2022-05-13T17:08:44.623Z"
   },
   {
    "duration": 2776,
    "start_time": "2022-05-13T17:08:44.676Z"
   },
   {
    "duration": 1706,
    "start_time": "2022-05-13T17:08:47.455Z"
   },
   {
    "duration": 596,
    "start_time": "2022-05-13T17:08:49.164Z"
   },
   {
    "duration": 15,
    "start_time": "2022-05-13T17:08:49.763Z"
   },
   {
    "duration": 1636,
    "start_time": "2022-05-13T17:08:49.794Z"
   },
   {
    "duration": 6,
    "start_time": "2022-05-13T17:08:51.433Z"
   },
   {
    "duration": 255,
    "start_time": "2022-05-13T17:08:51.441Z"
   },
   {
    "duration": 5,
    "start_time": "2022-05-13T17:08:51.698Z"
   },
   {
    "duration": 9,
    "start_time": "2022-05-13T17:08:51.705Z"
   },
   {
    "duration": 168714,
    "start_time": "2022-05-13T17:08:51.717Z"
   },
   {
    "duration": 6,
    "start_time": "2022-05-13T17:11:40.434Z"
   },
   {
    "duration": 51,
    "start_time": "2022-05-13T17:11:40.443Z"
   },
   {
    "duration": 10,
    "start_time": "2022-05-13T17:11:40.497Z"
   },
   {
    "duration": 11,
    "start_time": "2022-05-13T17:11:40.517Z"
   },
   {
    "duration": 16,
    "start_time": "2022-05-13T17:11:40.531Z"
   },
   {
    "duration": 43,
    "start_time": "2022-05-13T17:11:40.550Z"
   },
   {
    "duration": 8,
    "start_time": "2022-05-13T17:11:40.596Z"
   },
   {
    "duration": 32473,
    "start_time": "2022-05-13T17:11:40.606Z"
   },
   {
    "duration": 67,
    "start_time": "2022-05-13T17:12:13.081Z"
   },
   {
    "duration": 24,
    "start_time": "2022-05-13T17:12:13.151Z"
   },
   {
    "duration": 11,
    "start_time": "2022-05-13T17:12:13.194Z"
   },
   {
    "duration": 31,
    "start_time": "2022-05-13T17:12:13.208Z"
   },
   {
    "duration": 7,
    "start_time": "2022-05-13T17:12:13.242Z"
   },
   {
    "duration": 41,
    "start_time": "2022-05-13T17:12:13.252Z"
   },
   {
    "duration": 119157,
    "start_time": "2022-05-13T17:12:13.297Z"
   },
   {
    "duration": 5,
    "start_time": "2022-05-13T17:14:12.456Z"
   },
   {
    "duration": 39,
    "start_time": "2022-05-13T17:14:12.463Z"
   },
   {
    "duration": 95,
    "start_time": "2022-05-13T17:14:12.505Z"
   },
   {
    "duration": 104,
    "start_time": "2022-05-13T17:14:12.603Z"
   },
   {
    "duration": 192,
    "start_time": "2022-05-13T17:14:12.710Z"
   },
   {
    "duration": 294,
    "start_time": "2022-05-13T17:14:12.905Z"
   },
   {
    "duration": 5,
    "start_time": "2022-05-13T17:14:13.201Z"
   },
   {
    "duration": 9,
    "start_time": "2022-05-13T17:14:13.208Z"
   },
   {
    "duration": 8,
    "start_time": "2022-05-13T17:14:13.220Z"
   },
   {
    "duration": 27302,
    "start_time": "2022-05-13T17:14:13.230Z"
   },
   {
    "duration": 34696,
    "start_time": "2022-05-13T17:14:40.534Z"
   },
   {
    "duration": 23704,
    "start_time": "2022-05-13T17:15:15.233Z"
   },
   {
    "duration": 1168,
    "start_time": "2022-05-13T17:15:38.939Z"
   },
   {
    "duration": 0,
    "start_time": "2022-05-13T17:15:40.109Z"
   },
   {
    "duration": 0,
    "start_time": "2022-05-13T17:15:40.111Z"
   },
   {
    "duration": 0,
    "start_time": "2022-05-13T17:15:40.113Z"
   },
   {
    "duration": 677,
    "start_time": "2022-05-13T17:17:58.706Z"
   },
   {
    "duration": 1496,
    "start_time": "2022-05-13T17:24:07.826Z"
   },
   {
    "duration": 7,
    "start_time": "2022-05-13T17:31:07.778Z"
   },
   {
    "duration": 8,
    "start_time": "2022-05-13T17:31:07.941Z"
   },
   {
    "duration": 5,
    "start_time": "2022-05-13T17:31:52.641Z"
   },
   {
    "duration": 4,
    "start_time": "2022-05-13T17:31:52.781Z"
   },
   {
    "duration": 31196,
    "start_time": "2022-05-13T17:31:53.380Z"
   },
   {
    "duration": 67,
    "start_time": "2022-05-13T17:32:24.579Z"
   },
   {
    "duration": 24,
    "start_time": "2022-05-13T17:32:24.648Z"
   },
   {
    "duration": 7,
    "start_time": "2022-05-13T17:32:24.694Z"
   },
   {
    "duration": 25,
    "start_time": "2022-05-13T17:34:44.409Z"
   },
   {
    "duration": 415,
    "start_time": "2022-05-13T17:34:44.802Z"
   },
   {
    "duration": 6,
    "start_time": "2022-05-13T17:34:45.597Z"
   },
   {
    "duration": 6,
    "start_time": "2022-05-13T17:35:29.227Z"
   },
   {
    "duration": 5,
    "start_time": "2022-05-13T17:54:53.330Z"
   },
   {
    "duration": 31213,
    "start_time": "2022-05-13T18:14:57.667Z"
   },
   {
    "duration": 18069,
    "start_time": "2022-05-13T18:20:14.124Z"
   },
   {
    "duration": 7,
    "start_time": "2022-05-13T18:22:27.256Z"
   },
   {
    "duration": 5,
    "start_time": "2022-05-13T18:23:27.308Z"
   },
   {
    "duration": 2211,
    "start_time": "2022-05-13T18:23:39.301Z"
   },
   {
    "duration": 117,
    "start_time": "2022-05-13T18:23:41.515Z"
   },
   {
    "duration": 13,
    "start_time": "2022-05-13T18:23:41.635Z"
   },
   {
    "duration": 18,
    "start_time": "2022-05-13T18:23:41.651Z"
   },
   {
    "duration": 23,
    "start_time": "2022-05-13T18:23:41.672Z"
   },
   {
    "duration": 24,
    "start_time": "2022-05-13T18:23:41.698Z"
   },
   {
    "duration": 6,
    "start_time": "2022-05-13T18:23:41.724Z"
   },
   {
    "duration": 26,
    "start_time": "2022-05-13T18:23:41.732Z"
   },
   {
    "duration": 45,
    "start_time": "2022-05-13T18:23:41.760Z"
   },
   {
    "duration": 6,
    "start_time": "2022-05-13T18:23:41.812Z"
   },
   {
    "duration": 14,
    "start_time": "2022-05-13T18:23:41.820Z"
   },
   {
    "duration": 3,
    "start_time": "2022-05-13T18:23:41.836Z"
   },
   {
    "duration": 52,
    "start_time": "2022-05-13T18:23:41.841Z"
   },
   {
    "duration": 34,
    "start_time": "2022-05-13T18:23:41.905Z"
   },
   {
    "duration": 2067,
    "start_time": "2022-05-13T18:23:41.941Z"
   },
   {
    "duration": 1176,
    "start_time": "2022-05-13T18:23:44.011Z"
   },
   {
    "duration": 385,
    "start_time": "2022-05-13T18:23:45.194Z"
   },
   {
    "duration": 1153,
    "start_time": "2022-05-13T18:23:45.582Z"
   },
   {
    "duration": 5,
    "start_time": "2022-05-13T18:23:46.737Z"
   },
   {
    "duration": 259,
    "start_time": "2022-05-13T18:23:46.744Z"
   },
   {
    "duration": 4,
    "start_time": "2022-05-13T18:23:47.007Z"
   },
   {
    "duration": 8,
    "start_time": "2022-05-13T18:23:47.013Z"
   },
   {
    "duration": 153921,
    "start_time": "2022-05-13T18:23:47.023Z"
   },
   {
    "duration": 6,
    "start_time": "2022-05-13T18:26:20.946Z"
   },
   {
    "duration": 38,
    "start_time": "2022-05-13T18:26:20.955Z"
   },
   {
    "duration": 8,
    "start_time": "2022-05-13T18:26:20.995Z"
   },
   {
    "duration": 10,
    "start_time": "2022-05-13T18:26:21.005Z"
   },
   {
    "duration": 11,
    "start_time": "2022-05-13T18:26:21.021Z"
   },
   {
    "duration": 6,
    "start_time": "2022-05-13T18:26:21.034Z"
   },
   {
    "duration": 7,
    "start_time": "2022-05-13T18:26:21.043Z"
   },
   {
    "duration": 2979,
    "start_time": "2022-05-13T18:26:24.348Z"
   },
   {
    "duration": 168,
    "start_time": "2022-05-13T18:26:27.331Z"
   },
   {
    "duration": 18,
    "start_time": "2022-05-13T18:26:27.502Z"
   },
   {
    "duration": 27,
    "start_time": "2022-05-13T18:26:27.523Z"
   },
   {
    "duration": 7,
    "start_time": "2022-05-13T18:26:27.555Z"
   },
   {
    "duration": 24,
    "start_time": "2022-05-13T18:26:27.592Z"
   },
   {
    "duration": 5,
    "start_time": "2022-05-13T18:26:27.618Z"
   },
   {
    "duration": 29,
    "start_time": "2022-05-13T18:26:27.626Z"
   },
   {
    "duration": 36,
    "start_time": "2022-05-13T18:26:27.657Z"
   },
   {
    "duration": 4,
    "start_time": "2022-05-13T18:26:27.695Z"
   },
   {
    "duration": 15,
    "start_time": "2022-05-13T18:26:27.702Z"
   },
   {
    "duration": 4,
    "start_time": "2022-05-13T18:26:27.719Z"
   },
   {
    "duration": 68,
    "start_time": "2022-05-13T18:26:27.726Z"
   },
   {
    "duration": 36,
    "start_time": "2022-05-13T18:26:27.800Z"
   },
   {
    "duration": 1934,
    "start_time": "2022-05-13T18:26:27.839Z"
   },
   {
    "duration": 1384,
    "start_time": "2022-05-13T18:26:29.776Z"
   },
   {
    "duration": 374,
    "start_time": "2022-05-13T18:26:31.163Z"
   },
   {
    "duration": 1131,
    "start_time": "2022-05-13T18:26:31.540Z"
   },
   {
    "duration": 6,
    "start_time": "2022-05-13T18:26:32.674Z"
   },
   {
    "duration": 258,
    "start_time": "2022-05-13T18:26:32.693Z"
   },
   {
    "duration": 6,
    "start_time": "2022-05-13T18:26:32.953Z"
   },
   {
    "duration": 5,
    "start_time": "2022-05-13T18:26:32.962Z"
   },
   {
    "duration": 145071,
    "start_time": "2022-05-13T18:26:32.992Z"
   },
   {
    "duration": 6,
    "start_time": "2022-05-13T18:28:58.065Z"
   },
   {
    "duration": 31,
    "start_time": "2022-05-13T18:28:58.074Z"
   },
   {
    "duration": 7,
    "start_time": "2022-05-13T18:28:58.108Z"
   },
   {
    "duration": 17,
    "start_time": "2022-05-13T18:28:58.118Z"
   },
   {
    "duration": 11,
    "start_time": "2022-05-13T18:28:58.138Z"
   },
   {
    "duration": 41,
    "start_time": "2022-05-13T18:28:58.152Z"
   },
   {
    "duration": 8,
    "start_time": "2022-05-13T18:28:58.196Z"
   },
   {
    "duration": 76619,
    "start_time": "2022-05-13T18:28:58.207Z"
   },
   {
    "duration": 81,
    "start_time": "2022-05-13T18:30:14.828Z"
   },
   {
    "duration": 23,
    "start_time": "2022-05-13T18:30:14.911Z"
   },
   {
    "duration": 7,
    "start_time": "2022-05-13T18:30:14.936Z"
   },
   {
    "duration": 55,
    "start_time": "2022-05-13T18:30:14.945Z"
   },
   {
    "duration": 5,
    "start_time": "2022-05-13T18:30:15.002Z"
   },
   {
    "duration": 14,
    "start_time": "2022-05-13T18:30:15.010Z"
   },
   {
    "duration": 90346,
    "start_time": "2022-05-13T18:30:15.026Z"
   },
   {
    "duration": 5,
    "start_time": "2022-05-13T18:31:45.375Z"
   },
   {
    "duration": 9,
    "start_time": "2022-05-13T18:31:45.393Z"
   },
   {
    "duration": 86,
    "start_time": "2022-05-13T18:31:45.411Z"
   },
   {
    "duration": 109,
    "start_time": "2022-05-13T18:31:45.501Z"
   },
   {
    "duration": 200,
    "start_time": "2022-05-13T18:31:45.613Z"
   },
   {
    "duration": 271,
    "start_time": "2022-05-13T18:31:45.815Z"
   },
   {
    "duration": 6,
    "start_time": "2022-05-13T18:31:46.092Z"
   },
   {
    "duration": 64099,
    "start_time": "2022-05-13T18:31:46.100Z"
   },
   {
    "duration": 92475,
    "start_time": "2022-05-13T18:32:50.201Z"
   },
   {
    "duration": 40094,
    "start_time": "2022-05-13T18:34:22.678Z"
   },
   {
    "duration": 429,
    "start_time": "2022-05-13T18:35:02.775Z"
   },
   {
    "duration": 6,
    "start_time": "2022-05-13T18:35:03.206Z"
   },
   {
    "duration": 32040,
    "start_time": "2022-05-13T18:35:03.214Z"
   },
   {
    "duration": 0,
    "start_time": "2022-05-13T18:35:35.256Z"
   },
   {
    "duration": 0,
    "start_time": "2022-05-13T18:35:35.258Z"
   },
   {
    "duration": 39730,
    "start_time": "2022-05-13T18:43:10.575Z"
   },
   {
    "duration": 32638,
    "start_time": "2022-05-13T18:44:00.732Z"
   },
   {
    "duration": 31340,
    "start_time": "2022-05-13T18:46:44.336Z"
   },
   {
    "duration": 37397,
    "start_time": "2022-05-13T18:48:08.708Z"
   },
   {
    "duration": 42,
    "start_time": "2022-05-13T18:49:18.234Z"
   },
   {
    "duration": 148,
    "start_time": "2022-05-13T18:49:18.279Z"
   },
   {
    "duration": 11,
    "start_time": "2022-05-13T18:49:18.430Z"
   },
   {
    "duration": 47,
    "start_time": "2022-05-13T18:49:18.446Z"
   },
   {
    "duration": 6,
    "start_time": "2022-05-13T18:49:18.496Z"
   },
   {
    "duration": 19,
    "start_time": "2022-05-13T18:49:18.506Z"
   },
   {
    "duration": 6,
    "start_time": "2022-05-13T18:49:18.527Z"
   },
   {
    "duration": 27,
    "start_time": "2022-05-13T18:49:18.535Z"
   },
   {
    "duration": 6,
    "start_time": "2022-05-13T18:49:18.593Z"
   },
   {
    "duration": 6,
    "start_time": "2022-05-13T18:49:18.603Z"
   },
   {
    "duration": 18,
    "start_time": "2022-05-13T18:49:18.611Z"
   },
   {
    "duration": 7,
    "start_time": "2022-05-13T18:49:18.631Z"
   },
   {
    "duration": 57,
    "start_time": "2022-05-13T18:49:18.640Z"
   },
   {
    "duration": 34,
    "start_time": "2022-05-13T18:49:18.699Z"
   },
   {
    "duration": 1841,
    "start_time": "2022-05-13T18:49:18.736Z"
   },
   {
    "duration": 1090,
    "start_time": "2022-05-13T18:49:20.579Z"
   },
   {
    "duration": 346,
    "start_time": "2022-05-13T18:49:21.671Z"
   },
   {
    "duration": 1096,
    "start_time": "2022-05-13T18:49:22.019Z"
   },
   {
    "duration": 5,
    "start_time": "2022-05-13T18:49:23.118Z"
   },
   {
    "duration": 242,
    "start_time": "2022-05-13T18:49:23.125Z"
   },
   {
    "duration": 5,
    "start_time": "2022-05-13T18:49:23.369Z"
   },
   {
    "duration": 37,
    "start_time": "2022-05-13T18:49:23.376Z"
   },
   {
    "duration": 134588,
    "start_time": "2022-05-13T18:49:23.415Z"
   },
   {
    "duration": 6,
    "start_time": "2022-05-13T18:51:38.005Z"
   },
   {
    "duration": 20,
    "start_time": "2022-05-13T18:51:38.013Z"
   },
   {
    "duration": 6,
    "start_time": "2022-05-13T18:51:38.035Z"
   },
   {
    "duration": 9,
    "start_time": "2022-05-13T18:51:38.043Z"
   },
   {
    "duration": 10,
    "start_time": "2022-05-13T18:51:38.096Z"
   },
   {
    "duration": 5,
    "start_time": "2022-05-13T18:51:38.109Z"
   },
   {
    "duration": 6,
    "start_time": "2022-05-13T18:51:38.116Z"
   },
   {
    "duration": 65335,
    "start_time": "2022-05-13T18:51:38.124Z"
   },
   {
    "duration": 78,
    "start_time": "2022-05-13T18:52:43.462Z"
   },
   {
    "duration": 22,
    "start_time": "2022-05-13T18:52:43.543Z"
   },
   {
    "duration": 7,
    "start_time": "2022-05-13T18:52:43.568Z"
   },
   {
    "duration": 40,
    "start_time": "2022-05-13T18:52:43.577Z"
   },
   {
    "duration": 4,
    "start_time": "2022-05-13T18:52:43.620Z"
   },
   {
    "duration": 9,
    "start_time": "2022-05-13T18:52:43.626Z"
   },
   {
    "duration": 89293,
    "start_time": "2022-05-13T18:52:43.637Z"
   },
   {
    "duration": 6,
    "start_time": "2022-05-13T18:54:12.932Z"
   },
   {
    "duration": 53,
    "start_time": "2022-05-13T18:54:12.940Z"
   },
   {
    "duration": 105,
    "start_time": "2022-05-13T18:54:12.996Z"
   },
   {
    "duration": 93,
    "start_time": "2022-05-13T18:54:13.103Z"
   },
   {
    "duration": 114,
    "start_time": "2022-05-13T18:54:13.200Z"
   },
   {
    "duration": 273,
    "start_time": "2022-05-13T18:54:13.317Z"
   },
   {
    "duration": 5,
    "start_time": "2022-05-13T18:54:13.594Z"
   },
   {
    "duration": 66864,
    "start_time": "2022-05-13T18:54:13.601Z"
   },
   {
    "duration": 94837,
    "start_time": "2022-05-13T18:55:20.468Z"
   },
   {
    "duration": 32466,
    "start_time": "2022-05-13T18:56:55.307Z"
   },
   {
    "duration": 90318,
    "start_time": "2022-05-13T18:57:27.776Z"
   },
   {
    "duration": 6,
    "start_time": "2022-05-13T18:58:58.096Z"
   },
   {
    "duration": 31373,
    "start_time": "2022-05-13T18:58:58.105Z"
   },
   {
    "duration": 0,
    "start_time": "2022-05-13T18:59:29.481Z"
   },
   {
    "duration": 0,
    "start_time": "2022-05-13T18:59:29.482Z"
   },
   {
    "duration": 198,
    "start_time": "2022-05-13T19:04:41.875Z"
   },
   {
    "duration": 2165,
    "start_time": "2022-05-13T19:05:32.758Z"
   },
   {
    "duration": 102,
    "start_time": "2022-05-13T19:05:34.926Z"
   },
   {
    "duration": 13,
    "start_time": "2022-05-13T19:05:35.030Z"
   },
   {
    "duration": 18,
    "start_time": "2022-05-13T19:05:35.046Z"
   },
   {
    "duration": 7,
    "start_time": "2022-05-13T19:05:35.094Z"
   },
   {
    "duration": 20,
    "start_time": "2022-05-13T19:05:35.103Z"
   },
   {
    "duration": 5,
    "start_time": "2022-05-13T19:05:35.125Z"
   },
   {
    "duration": 29,
    "start_time": "2022-05-13T19:05:35.133Z"
   },
   {
    "duration": 32,
    "start_time": "2022-05-13T19:05:35.165Z"
   },
   {
    "duration": 6,
    "start_time": "2022-05-13T19:05:35.201Z"
   },
   {
    "duration": 32,
    "start_time": "2022-05-13T19:05:35.209Z"
   },
   {
    "duration": 7,
    "start_time": "2022-05-13T19:05:35.243Z"
   },
   {
    "duration": 45,
    "start_time": "2022-05-13T19:05:35.252Z"
   },
   {
    "duration": 33,
    "start_time": "2022-05-13T19:05:35.300Z"
   },
   {
    "duration": 1878,
    "start_time": "2022-05-13T19:05:35.335Z"
   },
   {
    "duration": 1109,
    "start_time": "2022-05-13T19:05:37.216Z"
   },
   {
    "duration": 373,
    "start_time": "2022-05-13T19:05:38.327Z"
   },
   {
    "duration": 1063,
    "start_time": "2022-05-13T19:05:38.702Z"
   },
   {
    "duration": 5,
    "start_time": "2022-05-13T19:05:39.767Z"
   },
   {
    "duration": 239,
    "start_time": "2022-05-13T19:05:39.774Z"
   },
   {
    "duration": 4,
    "start_time": "2022-05-13T19:05:40.015Z"
   },
   {
    "duration": 12,
    "start_time": "2022-05-13T19:05:40.021Z"
   },
   {
    "duration": 134526,
    "start_time": "2022-05-13T19:05:40.035Z"
   },
   {
    "duration": 5,
    "start_time": "2022-05-13T19:07:54.563Z"
   },
   {
    "duration": 34,
    "start_time": "2022-05-13T19:07:54.570Z"
   },
   {
    "duration": 6,
    "start_time": "2022-05-13T19:07:54.606Z"
   },
   {
    "duration": 7,
    "start_time": "2022-05-13T19:07:54.614Z"
   },
   {
    "duration": 9,
    "start_time": "2022-05-13T19:07:54.627Z"
   },
   {
    "duration": 5,
    "start_time": "2022-05-13T19:07:54.638Z"
   },
   {
    "duration": 5,
    "start_time": "2022-05-13T19:07:54.645Z"
   },
   {
    "duration": 70081,
    "start_time": "2022-05-13T19:07:54.694Z"
   },
   {
    "duration": 72,
    "start_time": "2022-05-13T19:09:04.779Z"
   },
   {
    "duration": 49,
    "start_time": "2022-05-13T19:09:04.854Z"
   },
   {
    "duration": 9,
    "start_time": "2022-05-13T19:09:04.905Z"
   },
   {
    "duration": 29,
    "start_time": "2022-05-13T19:09:04.916Z"
   },
   {
    "duration": 4,
    "start_time": "2022-05-13T19:09:04.948Z"
   },
   {
    "duration": 38,
    "start_time": "2022-05-13T19:09:04.955Z"
   },
   {
    "duration": 99279,
    "start_time": "2022-05-13T19:09:04.996Z"
   },
   {
    "duration": 5,
    "start_time": "2022-05-13T19:10:44.277Z"
   },
   {
    "duration": 34,
    "start_time": "2022-05-13T19:10:44.284Z"
   },
   {
    "duration": 79,
    "start_time": "2022-05-13T19:10:44.321Z"
   },
   {
    "duration": 103,
    "start_time": "2022-05-13T19:10:44.403Z"
   },
   {
    "duration": 118,
    "start_time": "2022-05-13T19:10:44.592Z"
   },
   {
    "duration": 285,
    "start_time": "2022-05-13T19:10:44.712Z"
   },
   {
    "duration": 6,
    "start_time": "2022-05-13T19:10:44.999Z"
   },
   {
    "duration": 64957,
    "start_time": "2022-05-13T19:10:45.007Z"
   },
   {
    "duration": 93170,
    "start_time": "2022-05-13T19:11:49.967Z"
   },
   {
    "duration": 33098,
    "start_time": "2022-05-13T19:13:23.139Z"
   },
   {
    "duration": 96842,
    "start_time": "2022-05-13T19:13:56.239Z"
   },
   {
    "duration": 188,
    "start_time": "2022-05-14T13:30:17.721Z"
   },
   {
    "duration": 1898,
    "start_time": "2022-05-14T16:22:51.712Z"
   },
   {
    "duration": 66,
    "start_time": "2022-05-14T16:22:53.613Z"
   },
   {
    "duration": 10,
    "start_time": "2022-05-14T16:22:53.681Z"
   },
   {
    "duration": 12,
    "start_time": "2022-05-14T16:22:53.694Z"
   },
   {
    "duration": 5,
    "start_time": "2022-05-14T16:22:53.723Z"
   },
   {
    "duration": 12,
    "start_time": "2022-05-14T16:22:53.729Z"
   },
   {
    "duration": 3,
    "start_time": "2022-05-14T16:22:53.743Z"
   },
   {
    "duration": 17,
    "start_time": "2022-05-14T16:22:53.747Z"
   },
   {
    "duration": 5,
    "start_time": "2022-05-14T16:22:53.765Z"
   },
   {
    "duration": 2,
    "start_time": "2022-05-14T16:22:53.773Z"
   },
   {
    "duration": 11,
    "start_time": "2022-05-14T16:22:53.777Z"
   },
   {
    "duration": 3,
    "start_time": "2022-05-14T16:22:53.789Z"
   },
   {
    "duration": 23,
    "start_time": "2022-05-14T16:22:53.823Z"
   },
   {
    "duration": 21,
    "start_time": "2022-05-14T16:22:53.847Z"
   },
   {
    "duration": 1247,
    "start_time": "2022-05-14T16:22:53.870Z"
   },
   {
    "duration": 830,
    "start_time": "2022-05-14T16:22:55.118Z"
   },
   {
    "duration": 222,
    "start_time": "2022-05-14T16:22:55.949Z"
   },
   {
    "duration": 814,
    "start_time": "2022-05-14T16:22:56.173Z"
   },
   {
    "duration": 5,
    "start_time": "2022-05-14T16:22:56.988Z"
   },
   {
    "duration": 148,
    "start_time": "2022-05-14T16:22:56.994Z"
   },
   {
    "duration": 3,
    "start_time": "2022-05-14T16:22:57.143Z"
   },
   {
    "duration": 13,
    "start_time": "2022-05-14T16:22:57.148Z"
   },
   {
    "duration": 104530,
    "start_time": "2022-05-14T16:22:57.162Z"
   },
   {
    "duration": 4,
    "start_time": "2022-05-14T16:24:41.693Z"
   },
   {
    "duration": 29,
    "start_time": "2022-05-14T16:24:41.698Z"
   },
   {
    "duration": 4,
    "start_time": "2022-05-14T16:24:41.729Z"
   },
   {
    "duration": 8,
    "start_time": "2022-05-14T16:24:41.734Z"
   },
   {
    "duration": 7,
    "start_time": "2022-05-14T16:24:41.746Z"
   },
   {
    "duration": 5,
    "start_time": "2022-05-14T16:26:07.514Z"
   },
   {
    "duration": 9,
    "start_time": "2022-05-14T16:29:48.052Z"
   },
   {
    "duration": 14,
    "start_time": "2022-05-14T16:30:13.153Z"
   },
   {
    "duration": 3,
    "start_time": "2022-05-14T16:30:19.657Z"
   },
   {
    "duration": 2,
    "start_time": "2022-05-14T16:30:22.494Z"
   },
   {
    "duration": 3,
    "start_time": "2022-05-14T16:31:18.652Z"
   },
   {
    "duration": 30,
    "start_time": "2022-05-14T16:45:21.135Z"
   },
   {
    "duration": 77,
    "start_time": "2022-05-14T16:45:21.167Z"
   },
   {
    "duration": 7,
    "start_time": "2022-05-14T16:45:21.246Z"
   },
   {
    "duration": 13,
    "start_time": "2022-05-14T16:45:21.255Z"
   },
   {
    "duration": 4,
    "start_time": "2022-05-14T16:45:21.270Z"
   },
   {
    "duration": 48,
    "start_time": "2022-05-14T16:45:21.276Z"
   },
   {
    "duration": 3,
    "start_time": "2022-05-14T16:45:21.326Z"
   },
   {
    "duration": 17,
    "start_time": "2022-05-14T16:45:21.331Z"
   },
   {
    "duration": 5,
    "start_time": "2022-05-14T16:45:21.350Z"
   },
   {
    "duration": 4,
    "start_time": "2022-05-14T16:45:21.358Z"
   },
   {
    "duration": 10,
    "start_time": "2022-05-14T16:45:21.363Z"
   },
   {
    "duration": 3,
    "start_time": "2022-05-14T16:45:21.374Z"
   },
   {
    "duration": 59,
    "start_time": "2022-05-14T16:45:21.378Z"
   },
   {
    "duration": 23,
    "start_time": "2022-05-14T16:45:21.438Z"
   },
   {
    "duration": 1304,
    "start_time": "2022-05-14T16:45:21.463Z"
   },
   {
    "duration": 857,
    "start_time": "2022-05-14T16:45:22.768Z"
   },
   {
    "duration": 226,
    "start_time": "2022-05-14T16:45:23.627Z"
   },
   {
    "duration": 826,
    "start_time": "2022-05-14T16:45:23.855Z"
   },
   {
    "duration": 4,
    "start_time": "2022-05-14T16:45:24.683Z"
   },
   {
    "duration": 161,
    "start_time": "2022-05-14T16:45:24.688Z"
   },
   {
    "duration": 3,
    "start_time": "2022-05-14T16:45:24.851Z"
   },
   {
    "duration": 5,
    "start_time": "2022-05-14T16:45:24.855Z"
   },
   {
    "duration": 108516,
    "start_time": "2022-05-14T16:45:24.862Z"
   },
   {
    "duration": 4,
    "start_time": "2022-05-14T16:47:13.380Z"
   },
   {
    "duration": 13,
    "start_time": "2022-05-14T16:47:13.386Z"
   },
   {
    "duration": 2,
    "start_time": "2022-05-14T16:47:13.401Z"
   },
   {
    "duration": 4,
    "start_time": "2022-05-14T16:47:13.423Z"
   },
   {
    "duration": 4,
    "start_time": "2022-05-14T16:47:13.430Z"
   },
   {
    "duration": 52337,
    "start_time": "2022-05-14T16:47:13.436Z"
   },
   {
    "duration": 58,
    "start_time": "2022-05-14T16:48:05.776Z"
   },
   {
    "duration": 3,
    "start_time": "2022-05-14T16:51:21.284Z"
   },
   {
    "duration": 3,
    "start_time": "2022-05-14T16:51:30.098Z"
   },
   {
    "duration": 4,
    "start_time": "2022-05-14T16:51:31.062Z"
   },
   {
    "duration": 4,
    "start_time": "2022-05-14T16:51:31.288Z"
   },
   {
    "duration": 72915,
    "start_time": "2022-05-14T16:51:31.746Z"
   },
   {
    "duration": 4,
    "start_time": "2022-05-14T16:52:44.664Z"
   },
   {
    "duration": 4,
    "start_time": "2022-05-14T16:52:44.722Z"
   },
   {
    "duration": 1772,
    "start_time": "2022-05-15T07:27:24.299Z"
   },
   {
    "duration": 58,
    "start_time": "2022-05-15T07:27:26.073Z"
   },
   {
    "duration": 9,
    "start_time": "2022-05-15T07:27:26.133Z"
   },
   {
    "duration": 10,
    "start_time": "2022-05-15T07:27:26.143Z"
   },
   {
    "duration": 3,
    "start_time": "2022-05-15T07:27:26.155Z"
   },
   {
    "duration": 12,
    "start_time": "2022-05-15T07:27:26.159Z"
   },
   {
    "duration": 4,
    "start_time": "2022-05-15T07:27:26.173Z"
   },
   {
    "duration": 36,
    "start_time": "2022-05-15T07:27:26.178Z"
   },
   {
    "duration": 4,
    "start_time": "2022-05-15T07:27:26.216Z"
   },
   {
    "duration": 6,
    "start_time": "2022-05-15T07:27:26.223Z"
   },
   {
    "duration": 11,
    "start_time": "2022-05-15T07:27:26.231Z"
   },
   {
    "duration": 2,
    "start_time": "2022-05-15T07:27:26.244Z"
   },
   {
    "duration": 21,
    "start_time": "2022-05-15T07:27:26.247Z"
   },
   {
    "duration": 37,
    "start_time": "2022-05-15T07:27:26.269Z"
   },
   {
    "duration": 1170,
    "start_time": "2022-05-15T07:27:26.307Z"
   },
   {
    "duration": 1925,
    "start_time": "2022-05-15T07:27:27.479Z"
   },
   {
    "duration": 602,
    "start_time": "2022-05-15T07:27:29.406Z"
   },
   {
    "duration": 1408,
    "start_time": "2022-05-15T07:27:30.010Z"
   },
   {
    "duration": 3,
    "start_time": "2022-05-15T07:27:31.420Z"
   },
   {
    "duration": 233,
    "start_time": "2022-05-15T07:27:31.425Z"
   },
   {
    "duration": 2,
    "start_time": "2022-05-15T07:27:31.660Z"
   },
   {
    "duration": 9,
    "start_time": "2022-05-15T07:27:31.664Z"
   },
   {
    "duration": 91133,
    "start_time": "2022-05-15T07:27:31.675Z"
   },
   {
    "duration": 5,
    "start_time": "2022-05-15T07:29:02.809Z"
   },
   {
    "duration": 10,
    "start_time": "2022-05-15T07:29:02.816Z"
   },
   {
    "duration": 2,
    "start_time": "2022-05-15T07:29:02.828Z"
   },
   {
    "duration": 7,
    "start_time": "2022-05-15T07:29:02.832Z"
   },
   {
    "duration": 6,
    "start_time": "2022-05-15T07:29:02.843Z"
   },
   {
    "duration": 47821,
    "start_time": "2022-05-15T07:29:02.850Z"
   },
   {
    "duration": 43,
    "start_time": "2022-05-15T07:29:50.673Z"
   },
   {
    "duration": 3,
    "start_time": "2022-05-15T07:29:50.718Z"
   },
   {
    "duration": 4,
    "start_time": "2022-05-15T07:29:50.723Z"
   },
   {
    "duration": 10,
    "start_time": "2022-05-15T07:29:50.729Z"
   },
   {
    "duration": 61321,
    "start_time": "2022-05-15T07:29:50.741Z"
   },
   {
    "duration": 4,
    "start_time": "2022-05-15T07:30:52.064Z"
   },
   {
    "duration": 4,
    "start_time": "2022-05-15T07:30:52.070Z"
   },
   {
    "duration": 29,
    "start_time": "2022-05-15T07:30:52.075Z"
   },
   {
    "duration": 153,
    "start_time": "2022-05-15T07:30:52.105Z"
   },
   {
    "duration": 4,
    "start_time": "2022-05-15T07:30:52.261Z"
   },
   {
    "duration": 40141,
    "start_time": "2022-05-15T07:30:52.267Z"
   },
   {
    "duration": 60175,
    "start_time": "2022-05-15T07:31:32.410Z"
   },
   {
    "duration": 21355,
    "start_time": "2022-05-15T07:32:32.587Z"
   },
   {
    "duration": 63186,
    "start_time": "2022-05-15T07:32:53.944Z"
   },
   {
    "duration": 47228,
    "start_time": "2022-05-15T07:44:58.446Z"
   },
   {
    "duration": 43558,
    "start_time": "2022-05-15T07:46:42.887Z"
   },
   {
    "duration": 59822,
    "start_time": "2022-05-15T07:51:38.373Z"
   },
   {
    "duration": 27012,
    "start_time": "2022-05-15T07:57:54.088Z"
   },
   {
    "duration": 22307,
    "start_time": "2022-05-15T07:58:47.828Z"
   },
   {
    "duration": 23444,
    "start_time": "2022-05-15T07:59:20.971Z"
   },
   {
    "duration": 61101,
    "start_time": "2022-05-15T08:00:21.158Z"
   },
   {
    "duration": 57253,
    "start_time": "2022-05-15T08:01:23.616Z"
   },
   {
    "duration": 63578,
    "start_time": "2022-05-15T08:12:51.926Z"
   },
   {
    "duration": 64711,
    "start_time": "2022-05-15T08:14:18.659Z"
   },
   {
    "duration": 23619,
    "start_time": "2022-05-15T08:15:23.373Z"
   },
   {
    "duration": 41,
    "start_time": "2022-05-15T08:17:18.451Z"
   },
   {
    "duration": 39,
    "start_time": "2022-05-15T08:23:34.654Z"
   },
   {
    "duration": 51,
    "start_time": "2022-05-15T08:28:13.469Z"
   },
   {
    "duration": 104,
    "start_time": "2022-05-15T08:28:13.522Z"
   },
   {
    "duration": 9,
    "start_time": "2022-05-15T08:28:13.628Z"
   },
   {
    "duration": 15,
    "start_time": "2022-05-15T08:28:13.640Z"
   },
   {
    "duration": 5,
    "start_time": "2022-05-15T08:28:13.656Z"
   },
   {
    "duration": 37,
    "start_time": "2022-05-15T08:28:13.663Z"
   },
   {
    "duration": 3,
    "start_time": "2022-05-15T08:28:13.702Z"
   },
   {
    "duration": 25,
    "start_time": "2022-05-15T08:28:13.707Z"
   },
   {
    "duration": 5,
    "start_time": "2022-05-15T08:28:13.734Z"
   },
   {
    "duration": 3,
    "start_time": "2022-05-15T08:28:13.743Z"
   },
   {
    "duration": 15,
    "start_time": "2022-05-15T08:28:13.748Z"
   },
   {
    "duration": 3,
    "start_time": "2022-05-15T08:28:13.764Z"
   },
   {
    "duration": 21,
    "start_time": "2022-05-15T08:28:13.801Z"
   },
   {
    "duration": 21,
    "start_time": "2022-05-15T08:28:13.824Z"
   },
   {
    "duration": 1163,
    "start_time": "2022-05-15T08:28:13.847Z"
   },
   {
    "duration": 754,
    "start_time": "2022-05-15T08:28:15.012Z"
   },
   {
    "duration": 205,
    "start_time": "2022-05-15T08:28:15.768Z"
   },
   {
    "duration": 760,
    "start_time": "2022-05-15T08:28:15.974Z"
   },
   {
    "duration": 4,
    "start_time": "2022-05-15T08:28:16.736Z"
   },
   {
    "duration": 150,
    "start_time": "2022-05-15T08:28:16.742Z"
   },
   {
    "duration": 7,
    "start_time": "2022-05-15T08:28:16.894Z"
   },
   {
    "duration": 6,
    "start_time": "2022-05-15T08:28:16.902Z"
   },
   {
    "duration": 93774,
    "start_time": "2022-05-15T08:28:16.910Z"
   },
   {
    "duration": 5,
    "start_time": "2022-05-15T08:29:50.686Z"
   },
   {
    "duration": 9,
    "start_time": "2022-05-15T08:29:50.700Z"
   },
   {
    "duration": 3,
    "start_time": "2022-05-15T08:29:50.711Z"
   },
   {
    "duration": 4,
    "start_time": "2022-05-15T08:29:50.717Z"
   },
   {
    "duration": 6,
    "start_time": "2022-05-15T08:29:50.723Z"
   },
   {
    "duration": 44453,
    "start_time": "2022-05-15T08:29:50.730Z"
   },
   {
    "duration": 44,
    "start_time": "2022-05-15T08:30:35.185Z"
   },
   {
    "duration": 2,
    "start_time": "2022-05-15T08:30:35.231Z"
   },
   {
    "duration": 6,
    "start_time": "2022-05-15T08:30:35.235Z"
   },
   {
    "duration": 6,
    "start_time": "2022-05-15T08:30:35.242Z"
   },
   {
    "duration": 66116,
    "start_time": "2022-05-15T08:30:35.250Z"
   },
   {
    "duration": 4,
    "start_time": "2022-05-15T08:31:41.367Z"
   },
   {
    "duration": 5,
    "start_time": "2022-05-15T08:31:41.372Z"
   },
   {
    "duration": 28,
    "start_time": "2022-05-15T08:31:41.378Z"
   },
   {
    "duration": 146,
    "start_time": "2022-05-15T08:31:41.407Z"
   },
   {
    "duration": 3,
    "start_time": "2022-05-15T08:31:41.555Z"
   },
   {
    "duration": 42534,
    "start_time": "2022-05-15T08:31:41.560Z"
   },
   {
    "duration": 61148,
    "start_time": "2022-05-15T08:32:24.100Z"
   },
   {
    "duration": 22096,
    "start_time": "2022-05-15T08:33:25.250Z"
   },
   {
    "duration": 54,
    "start_time": "2022-05-15T08:33:47.347Z"
   },
   {
    "duration": 32,
    "start_time": "2022-05-15T08:36:30.518Z"
   },
   {
    "duration": 71,
    "start_time": "2022-05-15T08:36:30.553Z"
   },
   {
    "duration": 8,
    "start_time": "2022-05-15T08:36:30.626Z"
   },
   {
    "duration": 13,
    "start_time": "2022-05-15T08:36:30.637Z"
   },
   {
    "duration": 6,
    "start_time": "2022-05-15T08:36:30.652Z"
   },
   {
    "duration": 49,
    "start_time": "2022-05-15T08:36:30.659Z"
   },
   {
    "duration": 6,
    "start_time": "2022-05-15T08:36:30.709Z"
   },
   {
    "duration": 24,
    "start_time": "2022-05-15T08:36:30.717Z"
   },
   {
    "duration": 13,
    "start_time": "2022-05-15T08:36:30.743Z"
   },
   {
    "duration": 39,
    "start_time": "2022-05-15T08:36:30.758Z"
   },
   {
    "duration": 35,
    "start_time": "2022-05-15T08:36:30.799Z"
   },
   {
    "duration": 11,
    "start_time": "2022-05-15T08:36:30.836Z"
   },
   {
    "duration": 36,
    "start_time": "2022-05-15T08:36:30.849Z"
   },
   {
    "duration": 55,
    "start_time": "2022-05-15T08:36:30.886Z"
   },
   {
    "duration": 1139,
    "start_time": "2022-05-15T08:36:30.942Z"
   },
   {
    "duration": 790,
    "start_time": "2022-05-15T08:36:32.083Z"
   },
   {
    "duration": 204,
    "start_time": "2022-05-15T08:36:32.875Z"
   },
   {
    "duration": 729,
    "start_time": "2022-05-15T08:36:33.080Z"
   },
   {
    "duration": 4,
    "start_time": "2022-05-15T08:36:33.810Z"
   },
   {
    "duration": 142,
    "start_time": "2022-05-15T08:36:33.816Z"
   },
   {
    "duration": 3,
    "start_time": "2022-05-15T08:36:33.960Z"
   },
   {
    "duration": 16,
    "start_time": "2022-05-15T08:36:33.965Z"
   },
   {
    "duration": 95091,
    "start_time": "2022-05-15T08:36:33.982Z"
   },
   {
    "duration": 4,
    "start_time": "2022-05-15T08:38:09.075Z"
   },
   {
    "duration": 23,
    "start_time": "2022-05-15T08:38:09.080Z"
   },
   {
    "duration": 3,
    "start_time": "2022-05-15T08:38:09.104Z"
   },
   {
    "duration": 5,
    "start_time": "2022-05-15T08:38:09.108Z"
   },
   {
    "duration": 2,
    "start_time": "2022-05-15T08:38:09.117Z"
   },
   {
    "duration": 32,
    "start_time": "2022-05-15T09:44:16.020Z"
   },
   {
    "duration": 66,
    "start_time": "2022-05-15T09:44:16.054Z"
   },
   {
    "duration": 8,
    "start_time": "2022-05-15T09:44:16.122Z"
   },
   {
    "duration": 14,
    "start_time": "2022-05-15T09:44:16.133Z"
   },
   {
    "duration": 4,
    "start_time": "2022-05-15T09:44:16.149Z"
   },
   {
    "duration": 17,
    "start_time": "2022-05-15T09:44:16.155Z"
   },
   {
    "duration": 5,
    "start_time": "2022-05-15T09:44:16.208Z"
   },
   {
    "duration": 18,
    "start_time": "2022-05-15T09:44:16.214Z"
   },
   {
    "duration": 5,
    "start_time": "2022-05-15T09:44:16.234Z"
   },
   {
    "duration": 3,
    "start_time": "2022-05-15T09:44:16.241Z"
   },
   {
    "duration": 10,
    "start_time": "2022-05-15T09:44:16.245Z"
   },
   {
    "duration": 2,
    "start_time": "2022-05-15T09:44:16.257Z"
   },
   {
    "duration": 47,
    "start_time": "2022-05-15T09:44:16.261Z"
   },
   {
    "duration": 23,
    "start_time": "2022-05-15T09:44:16.311Z"
   },
   {
    "duration": 1232,
    "start_time": "2022-05-15T09:44:16.335Z"
   },
   {
    "duration": 824,
    "start_time": "2022-05-15T09:44:17.568Z"
   },
   {
    "duration": 199,
    "start_time": "2022-05-15T09:44:18.394Z"
   },
   {
    "duration": 768,
    "start_time": "2022-05-15T09:44:18.595Z"
   },
   {
    "duration": 4,
    "start_time": "2022-05-15T09:44:19.365Z"
   },
   {
    "duration": 155,
    "start_time": "2022-05-15T09:44:19.370Z"
   },
   {
    "duration": 3,
    "start_time": "2022-05-15T09:44:19.526Z"
   },
   {
    "duration": 6,
    "start_time": "2022-05-15T09:44:19.530Z"
   },
   {
    "duration": 98991,
    "start_time": "2022-05-15T09:44:19.537Z"
   },
   {
    "duration": 4,
    "start_time": "2022-05-15T09:45:58.530Z"
   },
   {
    "duration": 11,
    "start_time": "2022-05-15T09:45:58.535Z"
   },
   {
    "duration": 2,
    "start_time": "2022-05-15T09:45:58.548Z"
   },
   {
    "duration": 5,
    "start_time": "2022-05-15T09:45:58.552Z"
   },
   {
    "duration": 2,
    "start_time": "2022-05-15T09:45:58.561Z"
   },
   {
    "duration": 53448,
    "start_time": "2022-05-15T09:45:58.565Z"
   },
   {
    "duration": 35,
    "start_time": "2022-05-15T09:46:52.015Z"
   },
   {
    "duration": 2,
    "start_time": "2022-05-15T09:46:52.052Z"
   },
   {
    "duration": 6,
    "start_time": "2022-05-15T09:46:52.055Z"
   },
   {
    "duration": 5,
    "start_time": "2022-05-15T09:46:52.062Z"
   },
   {
    "duration": 100210,
    "start_time": "2022-05-15T09:46:52.068Z"
   },
   {
    "duration": 4,
    "start_time": "2022-05-15T09:48:32.280Z"
   },
   {
    "duration": 18,
    "start_time": "2022-05-15T09:48:32.286Z"
   },
   {
    "duration": 34,
    "start_time": "2022-05-15T09:48:32.307Z"
   },
   {
    "duration": 240,
    "start_time": "2022-05-15T09:48:32.343Z"
   },
   {
    "duration": 5,
    "start_time": "2022-05-15T09:48:32.585Z"
   },
   {
    "duration": 49221,
    "start_time": "2022-05-15T09:48:32.601Z"
   },
   {
    "duration": 69667,
    "start_time": "2022-05-15T09:49:21.825Z"
   },
   {
    "duration": 27969,
    "start_time": "2022-05-15T09:50:31.494Z"
   },
   {
    "duration": 59,
    "start_time": "2022-05-15T09:50:59.465Z"
   }
  ],
  "kernelspec": {
   "display_name": "Python 3 (ipykernel)",
   "language": "python",
   "name": "python3"
  },
  "language_info": {
   "codemirror_mode": {
    "name": "ipython",
    "version": 3
   },
   "file_extension": ".py",
   "mimetype": "text/x-python",
   "name": "python",
   "nbconvert_exporter": "python",
   "pygments_lexer": "ipython3",
   "version": "3.9.12"
  },
  "toc": {
   "base_numbering": 1,
   "nav_menu": {},
   "number_sections": true,
   "sideBar": true,
   "skip_h1_title": true,
   "title_cell": "Содержание",
   "title_sidebar": "Contents",
   "toc_cell": true,
   "toc_position": {
    "height": "calc(100% - 180px)",
    "left": "10px",
    "top": "150px",
    "width": "353px"
   },
   "toc_section_display": true,
   "toc_window_display": true
  }
 },
 "nbformat": 4,
 "nbformat_minor": 4
}
