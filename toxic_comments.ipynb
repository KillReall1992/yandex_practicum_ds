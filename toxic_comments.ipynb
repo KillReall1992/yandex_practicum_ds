{
 "cells": [
  {
   "cell_type": "markdown",
   "metadata": {
    "toc": true
   },
   "source": [
    "<h1>Содержание<span class=\"tocSkip\"></span></h1>\n",
    "<div class=\"toc\"><ul class=\"toc-item\"><li><span><a href=\"#Подготовка\" data-toc-modified-id=\"Подготовка-1\"><span class=\"toc-item-num\">1&nbsp;&nbsp;</span>Подготовка</a></span><ul class=\"toc-item\"><li><span><a href=\"#Лемматизация\" data-toc-modified-id=\"Лемматизация-1.1\"><span class=\"toc-item-num\">1.1&nbsp;&nbsp;</span>Лемматизация</a></span></li><li><span><a href=\"#Векторизация\" data-toc-modified-id=\"Векторизация-1.2\"><span class=\"toc-item-num\">1.2&nbsp;&nbsp;</span>Векторизация</a></span></li><li><span><a href=\"#Разделение-на-тестовую-и-обучающую-выборки\" data-toc-modified-id=\"Разделение-на-тестовую-и-обучающую-выборки-1.3\"><span class=\"toc-item-num\">1.3&nbsp;&nbsp;</span>Разделение на тестовую и обучающую выборки</a></span></li><li><span><a href=\"#Разделение-на-тестовую-и-обучающую-выборки\" data-toc-modified-id=\"Разделение-на-тестовую-и-обучающую-выборки-1.4\"><span class=\"toc-item-num\">1.4&nbsp;&nbsp;</span>Разделение на тестовую и обучающую выборки</a></span></li><li><span><a href=\"#Векторизация\" data-toc-modified-id=\"Векторизация-1.5\"><span class=\"toc-item-num\">1.5&nbsp;&nbsp;</span>Векторизация</a></span></li><li><span><a href=\"#Вывод\" data-toc-modified-id=\"Вывод-1.6\"><span class=\"toc-item-num\">1.6&nbsp;&nbsp;</span>Вывод</a></span></li></ul></li><li><span><a href=\"#Обучение\" data-toc-modified-id=\"Обучение-2\"><span class=\"toc-item-num\">2&nbsp;&nbsp;</span>Обучение</a></span><ul class=\"toc-item\"><li><span><a href=\"#Вывод:\" data-toc-modified-id=\"Вывод:-2.1\"><span class=\"toc-item-num\">2.1&nbsp;&nbsp;</span>Вывод:</a></span></li></ul></li><li><span><a href=\"#Выводы\" data-toc-modified-id=\"Выводы-3\"><span class=\"toc-item-num\">3&nbsp;&nbsp;</span>Выводы</a></span></li><li><span><a href=\"#Чек-лист-проверки\" data-toc-modified-id=\"Чек-лист-проверки-4\"><span class=\"toc-item-num\">4&nbsp;&nbsp;</span>Чек-лист проверки</a></span></li></ul></div>"
   ]
  },
  {
   "cell_type": "markdown",
   "metadata": {},
   "source": [
    "# Проект для «Викишоп»"
   ]
  },
  {
   "cell_type": "markdown",
   "metadata": {},
   "source": [
    "Интернет-магазин «Викишоп» запускает новый сервис. Теперь пользователи могут редактировать и дополнять описания товаров, как в вики-сообществах. То есть клиенты предлагают свои правки и комментируют изменения других. Магазину нужен инструмент, который будет искать токсичные комментарии и отправлять их на модерацию. \n",
    "\n",
    "Обучите модель классифицировать комментарии на позитивные и негативные. В вашем распоряжении набор данных с разметкой о токсичности правок.\n",
    "\n",
    "Постройте модель со значением метрики качества *F1* не меньше 0.75. \n",
    "\n",
    "**Инструкция по выполнению проекта**\n",
    "\n",
    "1. Загрузите и подготовьте данные.\n",
    "2. Обучите разные модели. \n",
    "3. Сделайте выводы.\n",
    "\n",
    "Для выполнения проекта применять *BERT* необязательно, но вы можете попробовать.\n",
    "\n",
    "**Описание данных**\n",
    "\n",
    "Данные находятся в файле `toxic_comments.csv`. Столбец *text* в нём содержит текст комментария, а *toxic* — целевой признак."
   ]
  },
  {
   "cell_type": "markdown",
   "metadata": {},
   "source": [
    "## Подготовка"
   ]
  },
  {
   "cell_type": "code",
   "execution_count": 23,
   "metadata": {},
   "outputs": [],
   "source": [
    "import pandas as pd\n",
    "import numpy as np\n",
    "import seaborn as sns\n",
    "import matplotlib.pyplot as plt\n",
    "from matplotlib.pyplot import figure\n",
    "\n",
    "from sklearn.preprocessing import StandardScaler\n",
    "from sklearn.model_selection import train_test_split\n",
    "\n",
    "\n",
    "import lightgbm as lgb\n",
    "import xgboost as xgb\n",
    "from sklearn.ensemble import RandomForestClassifier\n",
    "from sklearn.linear_model import LinearRegression\n",
    "\n",
    "from sklearn.preprocessing import OrdinalEncoder\n",
    "\n",
    "from sklearn.model_selection import StratifiedKFold\n",
    "from sklearn.model_selection import train_test_split\n",
    "from sklearn.metrics import mean_absolute_error\n",
    "\n",
    "from sklearn.model_selection import GridSearchCV\n",
    "from sklearn.model_selection import RandomizedSearchCV\n",
    "\n",
    "from sklearn.metrics import mean_squared_error\n",
    "from sklearn.metrics import f1_score\n",
    "\n",
    "\n",
    "from scipy import stats as st\n",
    "\n",
    "random = 12345\n",
    "\n",
    "import warnings\n",
    "warnings.filterwarnings('ignore')\n",
    "\n",
    "import time\n",
    "\n",
    "from nltk.stem import WordNetLemmatizer\n",
    "import re\n",
    "import nltk\n",
    "from nltk.corpus import stopwords\n",
    "import pickle\n",
    "from sklearn.feature_extraction.text import TfidfVectorizer\n",
    "\n",
    "import spacy #load spacy\n",
    "from tqdm.notebook import tqdm"
   ]
  },
  {
   "cell_type": "code",
   "execution_count": 24,
   "metadata": {},
   "outputs": [],
   "source": [
    "toxic_comments = pd.read_csv('toxic_comments (1).csv')"
   ]
  },
  {
   "cell_type": "code",
   "execution_count": 25,
   "metadata": {},
   "outputs": [
    {
     "data": {
      "text/html": [
       "<div>\n",
       "<style scoped>\n",
       "    .dataframe tbody tr th:only-of-type {\n",
       "        vertical-align: middle;\n",
       "    }\n",
       "\n",
       "    .dataframe tbody tr th {\n",
       "        vertical-align: top;\n",
       "    }\n",
       "\n",
       "    .dataframe thead th {\n",
       "        text-align: right;\n",
       "    }\n",
       "</style>\n",
       "<table border=\"1\" class=\"dataframe\">\n",
       "  <thead>\n",
       "    <tr style=\"text-align: right;\">\n",
       "      <th></th>\n",
       "      <th>Unnamed: 0</th>\n",
       "      <th>text</th>\n",
       "      <th>toxic</th>\n",
       "    </tr>\n",
       "  </thead>\n",
       "  <tbody>\n",
       "    <tr>\n",
       "      <th>0</th>\n",
       "      <td>0</td>\n",
       "      <td>Explanation\\nWhy the edits made under my usern...</td>\n",
       "      <td>0</td>\n",
       "    </tr>\n",
       "    <tr>\n",
       "      <th>1</th>\n",
       "      <td>1</td>\n",
       "      <td>D'aww! He matches this background colour I'm s...</td>\n",
       "      <td>0</td>\n",
       "    </tr>\n",
       "    <tr>\n",
       "      <th>2</th>\n",
       "      <td>2</td>\n",
       "      <td>Hey man, I'm really not trying to edit war. It...</td>\n",
       "      <td>0</td>\n",
       "    </tr>\n",
       "    <tr>\n",
       "      <th>3</th>\n",
       "      <td>3</td>\n",
       "      <td>\"\\nMore\\nI can't make any real suggestions on ...</td>\n",
       "      <td>0</td>\n",
       "    </tr>\n",
       "    <tr>\n",
       "      <th>4</th>\n",
       "      <td>4</td>\n",
       "      <td>You, sir, are my hero. Any chance you remember...</td>\n",
       "      <td>0</td>\n",
       "    </tr>\n",
       "    <tr>\n",
       "      <th>...</th>\n",
       "      <td>...</td>\n",
       "      <td>...</td>\n",
       "      <td>...</td>\n",
       "    </tr>\n",
       "    <tr>\n",
       "      <th>159287</th>\n",
       "      <td>159446</td>\n",
       "      <td>\":::::And for the second time of asking, when ...</td>\n",
       "      <td>0</td>\n",
       "    </tr>\n",
       "    <tr>\n",
       "      <th>159288</th>\n",
       "      <td>159447</td>\n",
       "      <td>You should be ashamed of yourself \\n\\nThat is ...</td>\n",
       "      <td>0</td>\n",
       "    </tr>\n",
       "    <tr>\n",
       "      <th>159289</th>\n",
       "      <td>159448</td>\n",
       "      <td>Spitzer \\n\\nUmm, theres no actual article for ...</td>\n",
       "      <td>0</td>\n",
       "    </tr>\n",
       "    <tr>\n",
       "      <th>159290</th>\n",
       "      <td>159449</td>\n",
       "      <td>And it looks like it was actually you who put ...</td>\n",
       "      <td>0</td>\n",
       "    </tr>\n",
       "    <tr>\n",
       "      <th>159291</th>\n",
       "      <td>159450</td>\n",
       "      <td>\"\\nAnd ... I really don't think you understand...</td>\n",
       "      <td>0</td>\n",
       "    </tr>\n",
       "  </tbody>\n",
       "</table>\n",
       "<p>159292 rows × 3 columns</p>\n",
       "</div>"
      ],
      "text/plain": [
       "        Unnamed: 0                                               text  toxic\n",
       "0                0  Explanation\\nWhy the edits made under my usern...      0\n",
       "1                1  D'aww! He matches this background colour I'm s...      0\n",
       "2                2  Hey man, I'm really not trying to edit war. It...      0\n",
       "3                3  \"\\nMore\\nI can't make any real suggestions on ...      0\n",
       "4                4  You, sir, are my hero. Any chance you remember...      0\n",
       "...            ...                                                ...    ...\n",
       "159287      159446  \":::::And for the second time of asking, when ...      0\n",
       "159288      159447  You should be ashamed of yourself \\n\\nThat is ...      0\n",
       "159289      159448  Spitzer \\n\\nUmm, theres no actual article for ...      0\n",
       "159290      159449  And it looks like it was actually you who put ...      0\n",
       "159291      159450  \"\\nAnd ... I really don't think you understand...      0\n",
       "\n",
       "[159292 rows x 3 columns]"
      ]
     },
     "execution_count": 25,
     "metadata": {},
     "output_type": "execute_result"
    }
   ],
   "source": [
    "toxic_comments"
   ]
  },
  {
   "cell_type": "code",
   "execution_count": 26,
   "metadata": {},
   "outputs": [
    {
     "data": {
      "text/html": [
       "<div>\n",
       "<style scoped>\n",
       "    .dataframe tbody tr th:only-of-type {\n",
       "        vertical-align: middle;\n",
       "    }\n",
       "\n",
       "    .dataframe tbody tr th {\n",
       "        vertical-align: top;\n",
       "    }\n",
       "\n",
       "    .dataframe thead th {\n",
       "        text-align: right;\n",
       "    }\n",
       "</style>\n",
       "<table border=\"1\" class=\"dataframe\">\n",
       "  <thead>\n",
       "    <tr style=\"text-align: right;\">\n",
       "      <th></th>\n",
       "      <th>Unnamed: 0</th>\n",
       "      <th>text</th>\n",
       "      <th>toxic</th>\n",
       "    </tr>\n",
       "  </thead>\n",
       "  <tbody>\n",
       "    <tr>\n",
       "      <th>0</th>\n",
       "      <td>0</td>\n",
       "      <td>Explanation\\nWhy the edits made under my usern...</td>\n",
       "      <td>0</td>\n",
       "    </tr>\n",
       "    <tr>\n",
       "      <th>1</th>\n",
       "      <td>1</td>\n",
       "      <td>D'aww! He matches this background colour I'm s...</td>\n",
       "      <td>0</td>\n",
       "    </tr>\n",
       "    <tr>\n",
       "      <th>2</th>\n",
       "      <td>2</td>\n",
       "      <td>Hey man, I'm really not trying to edit war. It...</td>\n",
       "      <td>0</td>\n",
       "    </tr>\n",
       "    <tr>\n",
       "      <th>3</th>\n",
       "      <td>3</td>\n",
       "      <td>\"\\nMore\\nI can't make any real suggestions on ...</td>\n",
       "      <td>0</td>\n",
       "    </tr>\n",
       "    <tr>\n",
       "      <th>4</th>\n",
       "      <td>4</td>\n",
       "      <td>You, sir, are my hero. Any chance you remember...</td>\n",
       "      <td>0</td>\n",
       "    </tr>\n",
       "  </tbody>\n",
       "</table>\n",
       "</div>"
      ],
      "text/plain": [
       "   Unnamed: 0                                               text  toxic\n",
       "0           0  Explanation\\nWhy the edits made under my usern...      0\n",
       "1           1  D'aww! He matches this background colour I'm s...      0\n",
       "2           2  Hey man, I'm really not trying to edit war. It...      0\n",
       "3           3  \"\\nMore\\nI can't make any real suggestions on ...      0\n",
       "4           4  You, sir, are my hero. Any chance you remember...      0"
      ]
     },
     "metadata": {},
     "output_type": "display_data"
    },
    {
     "name": "stdout",
     "output_type": "stream",
     "text": [
      "<class 'pandas.core.frame.DataFrame'>\n",
      "RangeIndex: 159292 entries, 0 to 159291\n",
      "Data columns (total 3 columns):\n",
      " #   Column      Non-Null Count   Dtype \n",
      "---  ------      --------------   ----- \n",
      " 0   Unnamed: 0  159292 non-null  int64 \n",
      " 1   text        159292 non-null  object\n",
      " 2   toxic       159292 non-null  int64 \n",
      "dtypes: int64(2), object(1)\n",
      "memory usage: 3.6+ MB\n"
     ]
    },
    {
     "data": {
      "text/plain": [
       "None"
      ]
     },
     "metadata": {},
     "output_type": "display_data"
    },
    {
     "data": {
      "text/html": [
       "<div>\n",
       "<style scoped>\n",
       "    .dataframe tbody tr th:only-of-type {\n",
       "        vertical-align: middle;\n",
       "    }\n",
       "\n",
       "    .dataframe tbody tr th {\n",
       "        vertical-align: top;\n",
       "    }\n",
       "\n",
       "    .dataframe thead th {\n",
       "        text-align: right;\n",
       "    }\n",
       "</style>\n",
       "<table border=\"1\" class=\"dataframe\">\n",
       "  <thead>\n",
       "    <tr style=\"text-align: right;\">\n",
       "      <th></th>\n",
       "      <th>Unnamed: 0</th>\n",
       "      <th>toxic</th>\n",
       "    </tr>\n",
       "  </thead>\n",
       "  <tbody>\n",
       "    <tr>\n",
       "      <th>count</th>\n",
       "      <td>159292.000000</td>\n",
       "      <td>159292.000000</td>\n",
       "    </tr>\n",
       "    <tr>\n",
       "      <th>mean</th>\n",
       "      <td>79725.697242</td>\n",
       "      <td>0.101612</td>\n",
       "    </tr>\n",
       "    <tr>\n",
       "      <th>std</th>\n",
       "      <td>46028.837471</td>\n",
       "      <td>0.302139</td>\n",
       "    </tr>\n",
       "    <tr>\n",
       "      <th>min</th>\n",
       "      <td>0.000000</td>\n",
       "      <td>0.000000</td>\n",
       "    </tr>\n",
       "    <tr>\n",
       "      <th>25%</th>\n",
       "      <td>39872.750000</td>\n",
       "      <td>0.000000</td>\n",
       "    </tr>\n",
       "    <tr>\n",
       "      <th>50%</th>\n",
       "      <td>79721.500000</td>\n",
       "      <td>0.000000</td>\n",
       "    </tr>\n",
       "    <tr>\n",
       "      <th>75%</th>\n",
       "      <td>119573.250000</td>\n",
       "      <td>0.000000</td>\n",
       "    </tr>\n",
       "    <tr>\n",
       "      <th>max</th>\n",
       "      <td>159450.000000</td>\n",
       "      <td>1.000000</td>\n",
       "    </tr>\n",
       "  </tbody>\n",
       "</table>\n",
       "</div>"
      ],
      "text/plain": [
       "          Unnamed: 0          toxic\n",
       "count  159292.000000  159292.000000\n",
       "mean    79725.697242       0.101612\n",
       "std     46028.837471       0.302139\n",
       "min         0.000000       0.000000\n",
       "25%     39872.750000       0.000000\n",
       "50%     79721.500000       0.000000\n",
       "75%    119573.250000       0.000000\n",
       "max    159450.000000       1.000000"
      ]
     },
     "metadata": {},
     "output_type": "display_data"
    }
   ],
   "source": [
    "display(toxic_comments.head(5))\n",
    "display(toxic_comments.info())\n",
    "display(toxic_comments.describe())"
   ]
  },
  {
   "cell_type": "markdown",
   "metadata": {},
   "source": [
    "Судя по среднему 0.01 у нас наблюдается дисбаланс классов, что надо иметь ввиду в случае неудовлетворительных результатов."
   ]
  },
  {
   "cell_type": "markdown",
   "metadata": {},
   "source": [
    "### Лемматизация"
   ]
  },
  {
   "cell_type": "code",
   "execution_count": 27,
   "metadata": {},
   "outputs": [],
   "source": [
    "def clear_text(row):\n",
    "    text = row['text']\n",
    "    text = text.lower()\n",
    "    text = re.sub(r'[^a-zA-Z\\']', ' ', text)\n",
    "    text = text.split()\n",
    "    text = \" \".join(text)    \n",
    "    return text"
   ]
  },
  {
   "cell_type": "code",
   "execution_count": 28,
   "metadata": {},
   "outputs": [],
   "source": [
    "toxic_comments['clear_text'] = toxic_comments.apply(clear_text, axis=1)"
   ]
  },
  {
   "cell_type": "code",
   "execution_count": 29,
   "metadata": {},
   "outputs": [],
   "source": [
    "nlp = spacy.load('en_core_web_sm', disable=['parser', 'ner'])"
   ]
  },
  {
   "cell_type": "code",
   "execution_count": 30,
   "metadata": {},
   "outputs": [],
   "source": [
    "def lematization(row):\n",
    "    text = row['clear_text']\n",
    "    doc = nlp(text)\n",
    "    tokens = [token.lemma_ for token in doc if not token.is_stop]\n",
    "    \n",
    "    return ' '.join(tokens)"
   ]
  },
  {
   "cell_type": "code",
   "execution_count": 31,
   "metadata": {},
   "outputs": [],
   "source": [
    "toxic_comments['text_spacy'] = toxic_comments.apply(lematization, axis=1)"
   ]
  },
  {
   "cell_type": "code",
   "execution_count": 32,
   "metadata": {},
   "outputs": [
    {
     "data": {
      "text/html": [
       "<div>\n",
       "<style scoped>\n",
       "    .dataframe tbody tr th:only-of-type {\n",
       "        vertical-align: middle;\n",
       "    }\n",
       "\n",
       "    .dataframe tbody tr th {\n",
       "        vertical-align: top;\n",
       "    }\n",
       "\n",
       "    .dataframe thead th {\n",
       "        text-align: right;\n",
       "    }\n",
       "</style>\n",
       "<table border=\"1\" class=\"dataframe\">\n",
       "  <thead>\n",
       "    <tr style=\"text-align: right;\">\n",
       "      <th></th>\n",
       "      <th>Unnamed: 0</th>\n",
       "      <th>text</th>\n",
       "      <th>toxic</th>\n",
       "      <th>clear_text</th>\n",
       "      <th>text_spacy</th>\n",
       "    </tr>\n",
       "  </thead>\n",
       "  <tbody>\n",
       "    <tr>\n",
       "      <th>0</th>\n",
       "      <td>0</td>\n",
       "      <td>Explanation\\nWhy the edits made under my usern...</td>\n",
       "      <td>0</td>\n",
       "      <td>explanation why the edits made under my userna...</td>\n",
       "      <td>explanation edit username hardcore metallica f...</td>\n",
       "    </tr>\n",
       "    <tr>\n",
       "      <th>1</th>\n",
       "      <td>1</td>\n",
       "      <td>D'aww! He matches this background colour I'm s...</td>\n",
       "      <td>0</td>\n",
       "      <td>d'aww he matches this background colour i'm se...</td>\n",
       "      <td>d'aww match background colour seemingly stick ...</td>\n",
       "    </tr>\n",
       "    <tr>\n",
       "      <th>2</th>\n",
       "      <td>2</td>\n",
       "      <td>Hey man, I'm really not trying to edit war. It...</td>\n",
       "      <td>0</td>\n",
       "      <td>hey man i'm really not trying to edit war it's...</td>\n",
       "      <td>hey man try edit war guy constantly remove rel...</td>\n",
       "    </tr>\n",
       "    <tr>\n",
       "      <th>3</th>\n",
       "      <td>3</td>\n",
       "      <td>\"\\nMore\\nI can't make any real suggestions on ...</td>\n",
       "      <td>0</td>\n",
       "      <td>more i can't make any real suggestions on impr...</td>\n",
       "      <td>real suggestion improvement wonder section sta...</td>\n",
       "    </tr>\n",
       "    <tr>\n",
       "      <th>4</th>\n",
       "      <td>4</td>\n",
       "      <td>You, sir, are my hero. Any chance you remember...</td>\n",
       "      <td>0</td>\n",
       "      <td>you sir are my hero any chance you remember wh...</td>\n",
       "      <td>sir hero chance remember page</td>\n",
       "    </tr>\n",
       "  </tbody>\n",
       "</table>\n",
       "</div>"
      ],
      "text/plain": [
       "   Unnamed: 0                                               text  toxic  \\\n",
       "0           0  Explanation\\nWhy the edits made under my usern...      0   \n",
       "1           1  D'aww! He matches this background colour I'm s...      0   \n",
       "2           2  Hey man, I'm really not trying to edit war. It...      0   \n",
       "3           3  \"\\nMore\\nI can't make any real suggestions on ...      0   \n",
       "4           4  You, sir, are my hero. Any chance you remember...      0   \n",
       "\n",
       "                                          clear_text  \\\n",
       "0  explanation why the edits made under my userna...   \n",
       "1  d'aww he matches this background colour i'm se...   \n",
       "2  hey man i'm really not trying to edit war it's...   \n",
       "3  more i can't make any real suggestions on impr...   \n",
       "4  you sir are my hero any chance you remember wh...   \n",
       "\n",
       "                                          text_spacy  \n",
       "0  explanation edit username hardcore metallica f...  \n",
       "1  d'aww match background colour seemingly stick ...  \n",
       "2  hey man try edit war guy constantly remove rel...  \n",
       "3  real suggestion improvement wonder section sta...  \n",
       "4                      sir hero chance remember page  "
      ]
     },
     "execution_count": 32,
     "metadata": {},
     "output_type": "execute_result"
    }
   ],
   "source": [
    "toxic_comments.head(5)"
   ]
  },
  {
   "cell_type": "markdown",
   "metadata": {},
   "source": [
    "### Разделение на тестовую и обучающую выборки"
   ]
  },
  {
   "cell_type": "code",
   "execution_count": 33,
   "metadata": {},
   "outputs": [],
   "source": [
    "features = toxic_comments['text_spacy']\n",
    "target = toxic_comments['toxic']"
   ]
  },
  {
   "cell_type": "code",
   "execution_count": 34,
   "metadata": {},
   "outputs": [],
   "source": [
    "X_train, X_test, y_train, y_test = train_test_split(features, target, test_size=0.2, random_state=0)"
   ]
  },
  {
   "cell_type": "code",
   "execution_count": 35,
   "metadata": {},
   "outputs": [
    {
     "data": {
      "text/plain": [
       "((127433,), (31859,), (127433,), (31859,))"
      ]
     },
     "execution_count": 35,
     "metadata": {},
     "output_type": "execute_result"
    }
   ],
   "source": [
    "X_train.shape, X_test.shape, y_train.shape, y_test.shape"
   ]
  },
  {
   "cell_type": "markdown",
   "metadata": {},
   "source": [
    "### Векторизация"
   ]
  },
  {
   "cell_type": "code",
   "execution_count": 36,
   "metadata": {},
   "outputs": [],
   "source": [
    "tfidfconverter = TfidfVectorizer(max_features=2000, min_df=5, max_df=0.7, stop_words=stopwords.words('russian'))\n",
    "\n",
    "X_train = tfidfconverter.fit_transform(X_train.values)\n",
    "X_test = tfidfconverter.transform(X_test.values)"
   ]
  },
  {
   "cell_type": "markdown",
   "metadata": {},
   "source": [
    "### Вывод"
   ]
  },
  {
   "cell_type": "markdown",
   "metadata": {},
   "source": [
    "- Библиотеки загружены;\n",
    "- Данные загружены;\n",
    "- Данные осмотрены;\n",
    "    - Наблюдается дисбаланс классов (при неуд. результатах работы модели, сбалансировать классы);\n",
    "- Данные подготовлены;\n",
    "    - Проведена лемматизация;\n",
    "    - Проведена векторизация;\n",
    "    - Проведен раздел на обучающую и тестовую выборки."
   ]
  },
  {
   "cell_type": "markdown",
   "metadata": {},
   "source": [
    "## Обучение"
   ]
  },
  {
   "cell_type": "code",
   "execution_count": 37,
   "metadata": {},
   "outputs": [],
   "source": [
    "variable = ['F1', 'T_train', 'T_predict']\n",
    "model = ['RandomForestRegressor', 'LGBMRegressor', 'XGBRegressor']\n",
    "F1 = []\n",
    "training_time = []\n",
    "prediction_time = []"
   ]
  },
  {
   "cell_type": "code",
   "execution_count": 38,
   "metadata": {},
   "outputs": [
    {
     "name": "stderr",
     "output_type": "stream",
     "text": [
      "/Users/kirilligorevich/opt/anaconda3/envs/sd/lib/python3.10/site-packages/sklearn/ensemble/_forest.py:427: FutureWarning: `max_features='auto'` has been deprecated in 1.1 and will be removed in 1.3. To keep the past behaviour, explicitly set `max_features='sqrt'` or remove this parameter as it is also the default value for RandomForestClassifiers and ExtraTreesClassifiers.\n",
      "  warn(\n",
      "/Users/kirilligorevich/opt/anaconda3/envs/sd/lib/python3.10/site-packages/sklearn/ensemble/_forest.py:427: FutureWarning: `max_features='auto'` has been deprecated in 1.1 and will be removed in 1.3. To keep the past behaviour, explicitly set `max_features='sqrt'` or remove this parameter as it is also the default value for RandomForestClassifiers and ExtraTreesClassifiers.\n",
      "  warn(\n",
      "/Users/kirilligorevich/opt/anaconda3/envs/sd/lib/python3.10/site-packages/sklearn/ensemble/_forest.py:427: FutureWarning: `max_features='auto'` has been deprecated in 1.1 and will be removed in 1.3. To keep the past behaviour, explicitly set `max_features='sqrt'` or remove this parameter as it is also the default value for RandomForestClassifiers and ExtraTreesClassifiers.\n",
      "  warn(\n",
      "/Users/kirilligorevich/opt/anaconda3/envs/sd/lib/python3.10/site-packages/sklearn/ensemble/_forest.py:427: FutureWarning: `max_features='auto'` has been deprecated in 1.1 and will be removed in 1.3. To keep the past behaviour, explicitly set `max_features='sqrt'` or remove this parameter as it is also the default value for RandomForestClassifiers and ExtraTreesClassifiers.\n",
      "  warn(\n",
      "/Users/kirilligorevich/opt/anaconda3/envs/sd/lib/python3.10/site-packages/sklearn/ensemble/_forest.py:427: FutureWarning: `max_features='auto'` has been deprecated in 1.1 and will be removed in 1.3. To keep the past behaviour, explicitly set `max_features='sqrt'` or remove this parameter as it is also the default value for RandomForestClassifiers and ExtraTreesClassifiers.\n",
      "  warn(\n",
      "/Users/kirilligorevich/opt/anaconda3/envs/sd/lib/python3.10/site-packages/sklearn/ensemble/_forest.py:427: FutureWarning: `max_features='auto'` has been deprecated in 1.1 and will be removed in 1.3. To keep the past behaviour, explicitly set `max_features='sqrt'` or remove this parameter as it is also the default value for RandomForestClassifiers and ExtraTreesClassifiers.\n",
      "  warn(\n",
      "/Users/kirilligorevich/opt/anaconda3/envs/sd/lib/python3.10/site-packages/sklearn/ensemble/_forest.py:427: FutureWarning: `max_features='auto'` has been deprecated in 1.1 and will be removed in 1.3. To keep the past behaviour, explicitly set `max_features='sqrt'` or remove this parameter as it is also the default value for RandomForestClassifiers and ExtraTreesClassifiers.\n",
      "  warn(\n",
      "/Users/kirilligorevich/opt/anaconda3/envs/sd/lib/python3.10/site-packages/sklearn/ensemble/_forest.py:427: FutureWarning: `max_features='auto'` has been deprecated in 1.1 and will be removed in 1.3. To keep the past behaviour, explicitly set `max_features='sqrt'` or remove this parameter as it is also the default value for RandomForestClassifiers and ExtraTreesClassifiers.\n",
      "  warn(\n",
      "/Users/kirilligorevich/opt/anaconda3/envs/sd/lib/python3.10/site-packages/sklearn/ensemble/_forest.py:427: FutureWarning: `max_features='auto'` has been deprecated in 1.1 and will be removed in 1.3. To keep the past behaviour, explicitly set `max_features='sqrt'` or remove this parameter as it is also the default value for RandomForestClassifiers and ExtraTreesClassifiers.\n",
      "  warn(\n",
      "/Users/kirilligorevich/opt/anaconda3/envs/sd/lib/python3.10/site-packages/sklearn/ensemble/_forest.py:427: FutureWarning: `max_features='auto'` has been deprecated in 1.1 and will be removed in 1.3. To keep the past behaviour, explicitly set `max_features='sqrt'` or remove this parameter as it is also the default value for RandomForestClassifiers and ExtraTreesClassifiers.\n",
      "  warn(\n",
      "/Users/kirilligorevich/opt/anaconda3/envs/sd/lib/python3.10/site-packages/sklearn/ensemble/_forest.py:427: FutureWarning: `max_features='auto'` has been deprecated in 1.1 and will be removed in 1.3. To keep the past behaviour, explicitly set `max_features='sqrt'` or remove this parameter as it is also the default value for RandomForestClassifiers and ExtraTreesClassifiers.\n",
      "  warn(\n",
      "/Users/kirilligorevich/opt/anaconda3/envs/sd/lib/python3.10/site-packages/sklearn/ensemble/_forest.py:427: FutureWarning: `max_features='auto'` has been deprecated in 1.1 and will be removed in 1.3. To keep the past behaviour, explicitly set `max_features='sqrt'` or remove this parameter as it is also the default value for RandomForestClassifiers and ExtraTreesClassifiers.\n",
      "  warn(\n",
      "/Users/kirilligorevich/opt/anaconda3/envs/sd/lib/python3.10/site-packages/sklearn/ensemble/_forest.py:427: FutureWarning: `max_features='auto'` has been deprecated in 1.1 and will be removed in 1.3. To keep the past behaviour, explicitly set `max_features='sqrt'` or remove this parameter as it is also the default value for RandomForestClassifiers and ExtraTreesClassifiers.\n",
      "  warn(\n",
      "/Users/kirilligorevich/opt/anaconda3/envs/sd/lib/python3.10/site-packages/sklearn/ensemble/_forest.py:427: FutureWarning: `max_features='auto'` has been deprecated in 1.1 and will be removed in 1.3. To keep the past behaviour, explicitly set `max_features='sqrt'` or remove this parameter as it is also the default value for RandomForestClassifiers and ExtraTreesClassifiers.\n",
      "  warn(\n",
      "/Users/kirilligorevich/opt/anaconda3/envs/sd/lib/python3.10/site-packages/sklearn/ensemble/_forest.py:427: FutureWarning: `max_features='auto'` has been deprecated in 1.1 and will be removed in 1.3. To keep the past behaviour, explicitly set `max_features='sqrt'` or remove this parameter as it is also the default value for RandomForestClassifiers and ExtraTreesClassifiers.\n",
      "  warn(\n",
      "/Users/kirilligorevich/opt/anaconda3/envs/sd/lib/python3.10/site-packages/sklearn/ensemble/_forest.py:427: FutureWarning: `max_features='auto'` has been deprecated in 1.1 and will be removed in 1.3. To keep the past behaviour, explicitly set `max_features='sqrt'` or remove this parameter as it is also the default value for RandomForestClassifiers and ExtraTreesClassifiers.\n",
      "  warn(\n",
      "/Users/kirilligorevich/opt/anaconda3/envs/sd/lib/python3.10/site-packages/sklearn/ensemble/_forest.py:427: FutureWarning: `max_features='auto'` has been deprecated in 1.1 and will be removed in 1.3. To keep the past behaviour, explicitly set `max_features='sqrt'` or remove this parameter as it is also the default value for RandomForestClassifiers and ExtraTreesClassifiers.\n",
      "  warn(\n",
      "/Users/kirilligorevich/opt/anaconda3/envs/sd/lib/python3.10/site-packages/sklearn/ensemble/_forest.py:427: FutureWarning: `max_features='auto'` has been deprecated in 1.1 and will be removed in 1.3. To keep the past behaviour, explicitly set `max_features='sqrt'` or remove this parameter as it is also the default value for RandomForestClassifiers and ExtraTreesClassifiers.\n",
      "  warn(\n",
      "/Users/kirilligorevich/opt/anaconda3/envs/sd/lib/python3.10/site-packages/sklearn/ensemble/_forest.py:427: FutureWarning: `max_features='auto'` has been deprecated in 1.1 and will be removed in 1.3. To keep the past behaviour, explicitly set `max_features='sqrt'` or remove this parameter as it is also the default value for RandomForestClassifiers and ExtraTreesClassifiers.\n",
      "  warn(\n",
      "/Users/kirilligorevich/opt/anaconda3/envs/sd/lib/python3.10/site-packages/sklearn/ensemble/_forest.py:427: FutureWarning: `max_features='auto'` has been deprecated in 1.1 and will be removed in 1.3. To keep the past behaviour, explicitly set `max_features='sqrt'` or remove this parameter as it is also the default value for RandomForestClassifiers and ExtraTreesClassifiers.\n",
      "  warn(\n"
     ]
    },
    {
     "name": "stdout",
     "output_type": "stream",
     "text": [
      "-----------------------\n",
      "Лучшие параметры модели:\n",
      "RandomForestClassifier(max_depth=24, max_features='auto', min_samples_leaf=2,\n",
      "                       n_estimators=30, random_state=12345)\n",
      "\n",
      "F1:\n",
      "0.47746120590849966\n",
      "-----------------------\n",
      "F1 модели линейной регрессии на валидационной выборке: 0.4835932045613218\n",
      "Затраченное время на обучение модели: 4.3478310108184814\n",
      "Затраченное время предсказания модели: 0.12276196479797363\n"
     ]
    }
   ],
   "source": [
    "skf = StratifiedKFold(n_splits=5, shuffle=True, random_state=12345)\n",
    "\n",
    "param_grid = {'n_estimators': [int(x) for x in np.linspace(start = 10, stop = 110, num = 30)],\n",
    "               'max_features': ['auto', 'sqrt'],\n",
    "               'max_depth': [6, 10, 24],\n",
    "               'min_samples_split': [2, 5],\n",
    "               'min_samples_leaf': [1, 2],\n",
    "               'bootstrap': [True, False]}\n",
    "\n",
    "rf_RandomGrid = RandomizedSearchCV(estimator = RandomForestClassifier(random_state=12345)\n",
    "                                   , param_distributions = param_grid\n",
    "                                   , cv = skf\n",
    "                                   , verbose=0\n",
    "                                   , n_jobs = -1\n",
    "                                   , scoring=\"f1\"\n",
    "                                   , random_state = 12345)\n",
    "  \n",
    "rf_RandomGrid.fit(X_train, y_train)\n",
    "\n",
    "print('-----------------------')\n",
    "print('Лучшие параметры модели:')\n",
    "print(rf_RandomGrid.best_estimator_)\n",
    "print('')\n",
    "print('F1:')\n",
    "print(rf_RandomGrid.best_score_)\n",
    "print('-----------------------')\n",
    "\n",
    "best_rf_classifier = RandomForestClassifier(n_estimators = rf_RandomGrid.best_params_[\"n_estimators\"],\n",
    "                            max_features      = rf_RandomGrid.best_params_[\"max_features\"],\n",
    "                            max_depth         = rf_RandomGrid.best_params_[\"max_depth\"],\n",
    "                            min_samples_split = rf_RandomGrid.best_params_[\"min_samples_split\"],\n",
    "                            min_samples_leaf  = rf_RandomGrid.best_params_[\"min_samples_leaf\"],\n",
    "                            bootstrap         = rf_RandomGrid.best_params_[\"bootstrap\"])\n",
    "\n",
    "t0 = time.time()\n",
    "best_rf_classifier.fit(X_train, y_train)\n",
    "t1 = time.time()\n",
    "\n",
    "t2 = time.time()\n",
    "predictions = best_rf_classifier.predict(X_test)\n",
    "t3 = time.time()\n",
    "\n",
    "#Так можно вывести результаты всех итераций\n",
    "#cv_results = rf_RandomGrid.cv_results_\n",
    "#for mean_score, params in zip(cv_results[\"mean_test_score\"], cv_results[\"params\"]):\n",
    "#    print(np.sqrt(-mean_score), params)\n",
    "\n",
    "result = f1_score(y_test, predictions)\n",
    "print(\"F1 модели RandomForestClassifier на валидационной выборке:\", result)\n",
    "\n",
    "print('Затраченное время на обучение модели:', t1-t0)\n",
    "print('Затраченное время предсказания модели:', t3-t2)\n",
    "\n",
    "F1.append(result)\n",
    "training_time.append(t1-t0)\n",
    "prediction_time.append(t3-t2)"
   ]
  },
  {
   "cell_type": "code",
   "execution_count": 39,
   "metadata": {},
   "outputs": [
    {
     "name": "stdout",
     "output_type": "stream",
     "text": [
      "-----------------------\n",
      "Лучшие параметры модели:\n",
      "LGBMClassifier(num_leaves=100, objective='binary', random_state=12345)\n",
      "\n",
      "F1:\n",
      "0.745700292128544\n",
      "-----------------------\n",
      "F1 модели линейной регрессии на валидационной выборке: 0.7492907801418439\n",
      "Затраченное время на обучение модели: 25.709641933441162\n",
      "Затраченное время на предсказание модели: 0.5894439220428467\n"
     ]
    }
   ],
   "source": [
    "skf = StratifiedKFold(n_splits=5, shuffle=True, random_state=12345)\n",
    "\n",
    "params = {\n",
    "    'num_leaves': [7, 100],\n",
    "    'objective': ['regression','binary'],\n",
    "    'n_estimators': [1, 100],\n",
    "}\n",
    "\n",
    "lgbm_RandomGrid = RandomizedSearchCV(lgb.LGBMClassifier(random_state=12345), \n",
    "                                     params, \n",
    "                                     verbose=0,\n",
    "                                     n_jobs = -1,\n",
    "                                     scoring='f1',\n",
    "                                     cv=skf,\n",
    "                                     random_state = 12345)\n",
    "\n",
    "lgbm_RandomGrid.fit(X_train, y_train)\n",
    "\n",
    "\n",
    "print('-----------------------')\n",
    "print('Лучшие параметры модели:')\n",
    "print(lgbm_RandomGrid.best_estimator_)\n",
    "print('')\n",
    "print('F1:')\n",
    "print(lgbm_RandomGrid.best_score_)\n",
    "print('-----------------------')\n",
    "\n",
    "best_lgbm_classifier = lgb.LGBMClassifier(num_leaves = lgbm_RandomGrid.best_params_[\"num_leaves\"],\n",
    "                           n_estimators  = lgbm_RandomGrid.best_params_[\"n_estimators\"],\n",
    "                           objective     = lgbm_RandomGrid.best_params_[\"objective\"],\n",
    "                           scoring='f1')\n",
    "\n",
    "t0 = time.time()\n",
    "best_lgbm_classifier.fit(X_train, y_train)\n",
    "t1 = time.time()\n",
    "\n",
    "t2 = time.time()\n",
    "predictions = best_lgbm_classifier.predict(X_test)\n",
    "t3 = time.time()\n",
    "\n",
    "result = f1_score(y_test, predictions) \n",
    "print(\"F1 модели LGBMClassifier на валидационной выборке:\", result)\n",
    "\n",
    "print('Затраченное время на обучение модели:', t1-t0)\n",
    "print('Затраченное время на предсказание модели:', t3-t2)\n",
    "\n",
    "#F1.append(result)\n",
    "#training_time.append(t1-t0)\n",
    "#prediction_time.append(t3-t2)"
   ]
  },
  {
   "cell_type": "markdown",
   "metadata": {},
   "source": [
    "Подготовка данных для xgboost (без урезания данных считалось слишком долго)"
   ]
  },
  {
   "cell_type": "code",
   "execution_count": 40,
   "metadata": {},
   "outputs": [
    {
     "name": "stdout",
     "output_type": "stream",
     "text": [
      "[14:13:07] WARNING: /Users/runner/miniforge3/conda-bld/xgboost-split_1662013913324/work/src/learner.cc:627: \n",
      "Parameters: { \"scoring\" } might not be used.\n",
      "\n",
      "  This could be a false alarm, with some parameters getting used by language bindings but\n",
      "  then being mistakenly passed down to XGBoost core, or some parameter actually being used\n",
      "  but getting flagged wrongly here. Please open an issue if you find any such cases.\n",
      "\n",
      "\n",
      "[14:13:34] WARNING: /Users/runner/miniforge3/conda-bld/xgboost-split_1662013913324/work/src/learner.cc:627: \n",
      "Parameters: { \"scoring\" } might not be used.\n",
      "\n",
      "  This could be a false alarm, with some parameters getting used by language bindings but\n",
      "  then being mistakenly passed down to XGBoost core, or some parameter actually being used\n",
      "  but getting flagged wrongly here. Please open an issue if you find any such cases.\n",
      "\n",
      "\n",
      "[14:14:02] WARNING: /Users/runner/miniforge3/conda-bld/xgboost-split_1662013913324/work/src/learner.cc:627: \n",
      "Parameters: { \"scoring\" } might not be used.\n",
      "\n",
      "  This could be a false alarm, with some parameters getting used by language bindings but\n",
      "  then being mistakenly passed down to XGBoost core, or some parameter actually being used\n",
      "  but getting flagged wrongly here. Please open an issue if you find any such cases.\n",
      "\n",
      "\n",
      "[14:14:31] WARNING: /Users/runner/miniforge3/conda-bld/xgboost-split_1662013913324/work/src/learner.cc:627: \n",
      "Parameters: { \"scoring\" } might not be used.\n",
      "\n",
      "  This could be a false alarm, with some parameters getting used by language bindings but\n",
      "  then being mistakenly passed down to XGBoost core, or some parameter actually being used\n",
      "  but getting flagged wrongly here. Please open an issue if you find any such cases.\n",
      "\n",
      "\n",
      "[14:14:58] WARNING: /Users/runner/miniforge3/conda-bld/xgboost-split_1662013913324/work/src/learner.cc:627: \n",
      "Parameters: { \"scoring\" } might not be used.\n",
      "\n",
      "  This could be a false alarm, with some parameters getting used by language bindings but\n",
      "  then being mistakenly passed down to XGBoost core, or some parameter actually being used\n",
      "  but getting flagged wrongly here. Please open an issue if you find any such cases.\n",
      "\n",
      "\n",
      "[14:15:26] WARNING: /Users/runner/miniforge3/conda-bld/xgboost-split_1662013913324/work/src/learner.cc:627: \n",
      "Parameters: { \"scoring\" } might not be used.\n",
      "\n",
      "  This could be a false alarm, with some parameters getting used by language bindings but\n",
      "  then being mistakenly passed down to XGBoost core, or some parameter actually being used\n",
      "  but getting flagged wrongly here. Please open an issue if you find any such cases.\n",
      "\n",
      "\n",
      "[14:16:46] WARNING: /Users/runner/miniforge3/conda-bld/xgboost-split_1662013913324/work/src/learner.cc:627: \n",
      "Parameters: { \"scoring\" } might not be used.\n",
      "\n",
      "  This could be a false alarm, with some parameters getting used by language bindings but\n",
      "  then being mistakenly passed down to XGBoost core, or some parameter actually being used\n",
      "  but getting flagged wrongly here. Please open an issue if you find any such cases.\n",
      "\n",
      "\n",
      "[14:18:08] WARNING: /Users/runner/miniforge3/conda-bld/xgboost-split_1662013913324/work/src/learner.cc:627: \n",
      "Parameters: { \"scoring\" } might not be used.\n",
      "\n",
      "  This could be a false alarm, with some parameters getting used by language bindings but\n",
      "  then being mistakenly passed down to XGBoost core, or some parameter actually being used\n",
      "  but getting flagged wrongly here. Please open an issue if you find any such cases.\n",
      "\n",
      "\n",
      "[14:19:25] WARNING: /Users/runner/miniforge3/conda-bld/xgboost-split_1662013913324/work/src/learner.cc:627: \n",
      "Parameters: { \"scoring\" } might not be used.\n",
      "\n",
      "  This could be a false alarm, with some parameters getting used by language bindings but\n",
      "  then being mistakenly passed down to XGBoost core, or some parameter actually being used\n",
      "  but getting flagged wrongly here. Please open an issue if you find any such cases.\n",
      "\n",
      "\n",
      "[14:20:46] WARNING: /Users/runner/miniforge3/conda-bld/xgboost-split_1662013913324/work/src/learner.cc:627: \n",
      "Parameters: { \"scoring\" } might not be used.\n",
      "\n",
      "  This could be a false alarm, with some parameters getting used by language bindings but\n",
      "  then being mistakenly passed down to XGBoost core, or some parameter actually being used\n",
      "  but getting flagged wrongly here. Please open an issue if you find any such cases.\n",
      "\n",
      "\n",
      "[14:22:04] WARNING: /Users/runner/miniforge3/conda-bld/xgboost-split_1662013913324/work/src/learner.cc:627: \n",
      "Parameters: { \"scoring\" } might not be used.\n",
      "\n",
      "  This could be a false alarm, with some parameters getting used by language bindings but\n",
      "  then being mistakenly passed down to XGBoost core, or some parameter actually being used\n",
      "  but getting flagged wrongly here. Please open an issue if you find any such cases.\n",
      "\n",
      "\n",
      "[14:22:30] WARNING: /Users/runner/miniforge3/conda-bld/xgboost-split_1662013913324/work/src/learner.cc:627: \n",
      "Parameters: { \"scoring\" } might not be used.\n",
      "\n",
      "  This could be a false alarm, with some parameters getting used by language bindings but\n",
      "  then being mistakenly passed down to XGBoost core, or some parameter actually being used\n",
      "  but getting flagged wrongly here. Please open an issue if you find any such cases.\n",
      "\n",
      "\n",
      "[14:22:57] WARNING: /Users/runner/miniforge3/conda-bld/xgboost-split_1662013913324/work/src/learner.cc:627: \n",
      "Parameters: { \"scoring\" } might not be used.\n",
      "\n",
      "  This could be a false alarm, with some parameters getting used by language bindings but\n",
      "  then being mistakenly passed down to XGBoost core, or some parameter actually being used\n",
      "  but getting flagged wrongly here. Please open an issue if you find any such cases.\n",
      "\n",
      "\n",
      "[14:23:23] WARNING: /Users/runner/miniforge3/conda-bld/xgboost-split_1662013913324/work/src/learner.cc:627: \n",
      "Parameters: { \"scoring\" } might not be used.\n",
      "\n",
      "  This could be a false alarm, with some parameters getting used by language bindings but\n",
      "  then being mistakenly passed down to XGBoost core, or some parameter actually being used\n",
      "  but getting flagged wrongly here. Please open an issue if you find any such cases.\n",
      "\n",
      "\n",
      "[14:23:50] WARNING: /Users/runner/miniforge3/conda-bld/xgboost-split_1662013913324/work/src/learner.cc:627: \n",
      "Parameters: { \"scoring\" } might not be used.\n",
      "\n",
      "  This could be a false alarm, with some parameters getting used by language bindings but\n",
      "  then being mistakenly passed down to XGBoost core, or some parameter actually being used\n",
      "  but getting flagged wrongly here. Please open an issue if you find any such cases.\n",
      "\n",
      "\n",
      "[14:24:16] WARNING: /Users/runner/miniforge3/conda-bld/xgboost-split_1662013913324/work/src/learner.cc:627: \n",
      "Parameters: { \"scoring\" } might not be used.\n",
      "\n",
      "  This could be a false alarm, with some parameters getting used by language bindings but\n",
      "  then being mistakenly passed down to XGBoost core, or some parameter actually being used\n",
      "  but getting flagged wrongly here. Please open an issue if you find any such cases.\n",
      "\n",
      "\n",
      "[14:25:29] WARNING: /Users/runner/miniforge3/conda-bld/xgboost-split_1662013913324/work/src/learner.cc:627: \n",
      "Parameters: { \"scoring\" } might not be used.\n",
      "\n",
      "  This could be a false alarm, with some parameters getting used by language bindings but\n",
      "  then being mistakenly passed down to XGBoost core, or some parameter actually being used\n",
      "  but getting flagged wrongly here. Please open an issue if you find any such cases.\n",
      "\n",
      "\n",
      "[14:27:14] WARNING: /Users/runner/miniforge3/conda-bld/xgboost-split_1662013913324/work/src/learner.cc:627: \n",
      "Parameters: { \"scoring\" } might not be used.\n",
      "\n",
      "  This could be a false alarm, with some parameters getting used by language bindings but\n",
      "  then being mistakenly passed down to XGBoost core, or some parameter actually being used\n",
      "  but getting flagged wrongly here. Please open an issue if you find any such cases.\n",
      "\n",
      "\n",
      "[14:28:50] WARNING: /Users/runner/miniforge3/conda-bld/xgboost-split_1662013913324/work/src/learner.cc:627: \n",
      "Parameters: { \"scoring\" } might not be used.\n",
      "\n",
      "  This could be a false alarm, with some parameters getting used by language bindings but\n",
      "  then being mistakenly passed down to XGBoost core, or some parameter actually being used\n",
      "  but getting flagged wrongly here. Please open an issue if you find any such cases.\n",
      "\n",
      "\n",
      "[14:30:14] WARNING: /Users/runner/miniforge3/conda-bld/xgboost-split_1662013913324/work/src/learner.cc:627: \n",
      "Parameters: { \"scoring\" } might not be used.\n",
      "\n",
      "  This could be a false alarm, with some parameters getting used by language bindings but\n",
      "  then being mistakenly passed down to XGBoost core, or some parameter actually being used\n",
      "  but getting flagged wrongly here. Please open an issue if you find any such cases.\n",
      "\n",
      "\n",
      "[14:31:35] WARNING: /Users/runner/miniforge3/conda-bld/xgboost-split_1662013913324/work/src/learner.cc:627: \n",
      "Parameters: { \"scoring\" } might not be used.\n",
      "\n",
      "  This could be a false alarm, with some parameters getting used by language bindings but\n",
      "  then being mistakenly passed down to XGBoost core, or some parameter actually being used\n",
      "  but getting flagged wrongly here. Please open an issue if you find any such cases.\n",
      "\n",
      "\n",
      "-----------------------\n",
      "Лучшие параметры модели:\n",
      "XGBClassifier(base_score=0.5, booster='gbtree', callbacks=None,\n",
      "              colsample_bylevel=1, colsample_bynode=1, colsample_bytree=1,\n",
      "              early_stopping_rounds=None, enable_categorical=False,\n",
      "              eval_metric=None, gamma=0, gpu_id=-1, grow_policy='depthwise',\n",
      "              importance_type=None, interaction_constraints='',\n",
      "              learning_rate=0.1, max_bin=256, max_cat_to_onehot=4,\n",
      "              max_delta_step=0, max_depth=30, max_leaves=0, min_child_weight=1,\n",
      "              missing=nan, monotone_constraints='()', n_estimators=50, n_jobs=0,\n",
      "              num_parallel_tree=1, predictor='auto', random_state=12345,\n",
      "              reg_alpha=0, reg_lambda=1, ...)\n",
      "\n",
      "F1:\n",
      "0.9511586479326841\n",
      "-----------------------\n",
      "[14:33:17] WARNING: /Users/runner/miniforge3/conda-bld/xgboost-split_1662013913324/work/src/learner.cc:627: \n",
      "Parameters: { \"scoring\" } might not be used.\n",
      "\n",
      "  This could be a false alarm, with some parameters getting used by language bindings but\n",
      "  then being mistakenly passed down to XGBoost core, or some parameter actually being used\n",
      "  but getting flagged wrongly here. Please open an issue if you find any such cases.\n",
      "\n",
      "\n",
      "F1 модели линейной регрессии на валидационной выборке: 0.7031602708803611\n",
      "Затраченное время на обучение модели: 128.64461398124695\n",
      "Затраченное время на предсказание модели: 0.3292081356048584\n"
     ]
    }
   ],
   "source": [
    "skf = StratifiedKFold(n_splits=5, shuffle=True, random_state=12345)\n",
    "\n",
    "param_grid = {\"max_depth\":    [10, 30],\n",
    "              \"learning_rate\": [0.01, 0.1]}\n",
    "\n",
    "\n",
    "XGBR_RandomGrid = RandomizedSearchCV(xgb.XGBClassifier(scoring='f1', n_estimators = 50, random_state = 12345),\n",
    "                                     param_grid,\n",
    "                                     verbose=0,\n",
    "                                     cv=skf,\n",
    "                                     #n_jobs = -1,\n",
    "                                     random_state=12345)\n",
    "\n",
    "XGBR_RandomGrid.fit(X_train, y_train)\n",
    "\n",
    "print('-----------------------')\n",
    "print('Лучшие параметры модели:')\n",
    "print(XGBR_RandomGrid.best_estimator_)\n",
    "print('')\n",
    "print('F1:')\n",
    "print(XGBR_RandomGrid.best_score_)\n",
    "print('-----------------------')\n",
    "\n",
    "best_xgbr_classifier = xgb.XGBClassifier(learning_rate = XGBR_RandomGrid.best_params_[\"learning_rate\"],\n",
    "                           n_estimators  = 50,\n",
    "                           max_depth     = XGBR_RandomGrid.best_params_[\"max_depth\"],\n",
    "                           scoring='f1')\n",
    "\n",
    "t0 = time.time()\n",
    "best_xgbr_classifier.fit(X_train, y_train)\n",
    "t1 = time.time()\n",
    "\n",
    "t2 = time.time()\n",
    "predictions = best_xgbr_classifier.predict(X_test)\n",
    "t3 = time.time()\n",
    "\n",
    "result = f1_score(y_test, predictions) \n",
    "print(\"F1 модели XGBClassifier на валидационной выборке:\", result)\n",
    "\n",
    "print('Затраченное время на обучение модели:', t1-t0)\n",
    "print('Затраченное время на предсказание модели:', t3-t2)\n",
    "\n",
    "#F1.append(result)\n",
    "#training_time.append(t1-t0)\n",
    "#prediction_time.append(t3-t2)"
   ]
  },
  {
   "cell_type": "code",
   "execution_count": 41,
   "metadata": {},
   "outputs": [
    {
     "name": "stdout",
     "output_type": "stream",
     "text": [
      "F1 модели линейной регрессии на валидационной выборке: 0.45961265942371277\n",
      "Затраченное время на обучение модели: 4.183363914489746\n",
      "Затраченное время предсказания модели: 0.07943320274353027\n"
     ]
    }
   ],
   "source": [
    "best_rf_classifier = RandomForestClassifier(n_estimators = 13,\n",
    "                            max_features      = 'sqrt',\n",
    "                            max_depth         = 24,\n",
    "                            min_samples_split = 2,\n",
    "                            min_samples_leaf  = 2,\n",
    "                            bootstrap         = False)\n",
    "\n",
    "t0 = time.time()\n",
    "best_rf_classifier.fit(X_train, y_train)\n",
    "t1 = time.time()\n",
    "\n",
    "t2 = time.time()\n",
    "predictions = best_rf_classifier.predict(X_test)\n",
    "t3 = time.time()\n",
    "\n",
    "#Так можно вывести результаты всех итераций\n",
    "#cv_results = rf_RandomGrid.cv_results_\n",
    "#for mean_score, params in zip(cv_results[\"mean_test_score\"], cv_results[\"params\"]):\n",
    "#    print(np.sqrt(-mean_score), params)\n",
    "\n",
    "result = f1_score(y_test, predictions)\n",
    "print(\"F1 модели RandomForestClassifier на валидационной выборке:\", result)\n",
    "\n",
    "print('Затраченное время на обучение модели:', t1-t0)\n",
    "print('Затраченное время предсказания модели:', t3-t2)\n",
    "\n",
    "#F1.append(result)\n",
    "#training_time.append(t1-t0)\n",
    "#prediction_time.append(t3-t2)"
   ]
  },
  {
   "cell_type": "code",
   "execution_count": 42,
   "metadata": {},
   "outputs": [
    {
     "name": "stdout",
     "output_type": "stream",
     "text": [
      "[LightGBM] [Warning] Unknown parameter: scoring\n",
      "F1 модели линейной регрессии на валидационной выборке: 0.7492907801418439\n",
      "Затраченное время на обучение модели: 33.645912885665894\n",
      "Затраченное время на предсказание модели: 0.7104558944702148\n"
     ]
    }
   ],
   "source": [
    "best_lgbm_classifier = lgb.LGBMClassifier(num_leaves = 100,\n",
    "                           n_estimators  = 100,\n",
    "                           objective     = 'binary',\n",
    "                           scoring='f1')\n",
    "\n",
    "t0 = time.time()\n",
    "best_lgbm_classifier.fit(X_train, y_train)\n",
    "t1 = time.time()\n",
    "\n",
    "t2 = time.time()\n",
    "predictions = best_lgbm_classifier.predict(X_test)\n",
    "t3 = time.time()\n",
    "\n",
    "result = f1_score(y_test, predictions) \n",
    "print(\"F1 модели LGBMClassifier на валидационной выборке:\", result)\n",
    "\n",
    "print('Затраченное время на обучение модели:', t1-t0)\n",
    "print('Затраченное время на предсказание модели:', t3-t2)\n",
    "\n",
    "F1.append(result)\n",
    "training_time.append(t1-t0)\n",
    "prediction_time.append(t3-t2)"
   ]
  },
  {
   "cell_type": "code",
   "execution_count": 43,
   "metadata": {},
   "outputs": [
    {
     "name": "stdout",
     "output_type": "stream",
     "text": [
      "[14:36:05] WARNING: /Users/runner/miniforge3/conda-bld/xgboost-split_1662013913324/work/src/learner.cc:627: \n",
      "Parameters: { \"scoring\" } might not be used.\n",
      "\n",
      "  This could be a false alarm, with some parameters getting used by language bindings but\n",
      "  then being mistakenly passed down to XGBoost core, or some parameter actually being used\n",
      "  but getting flagged wrongly here. Please open an issue if you find any such cases.\n",
      "\n",
      "\n",
      "F1 модели линейной регрессии на валидационной выборке: 0.7031602708803611\n",
      "Затраченное время на обучение модели: 127.11199903488159\n",
      "Затраченное время на предсказание модели: 0.1878190040588379\n"
     ]
    }
   ],
   "source": [
    "best_xgbr_classifier = xgb.XGBClassifier(learning_rate = XGBR_RandomGrid.best_params_[\"learning_rate\"],\n",
    "                           n_estimators  = 50,\n",
    "                           max_depth     = XGBR_RandomGrid.best_params_[\"max_depth\"],\n",
    "                           scoring='f1')\n",
    "\n",
    "t0 = time.time()\n",
    "best_xgbr_classifier.fit(X_train, y_train)\n",
    "t1 = time.time()\n",
    "\n",
    "t2 = time.time()\n",
    "predictions = best_xgbr_classifier.predict(X_test)\n",
    "t3 = time.time()\n",
    "\n",
    "result = f1_score(y_test, predictions) \n",
    "print(\"F1 модели XGBClassifier на валидационной выборке:\", result)\n",
    "\n",
    "print('Затраченное время на обучение модели:', t1-t0)\n",
    "print('Затраченное время на предсказание модели:', t3-t2)\n",
    "\n",
    "F1.append(result)\n",
    "training_time.append(t1-t0)\n",
    "prediction_time.append(t3-t2)"
   ]
  },
  {
   "cell_type": "markdown",
   "metadata": {},
   "source": [
    "### Вывод:"
   ]
  },
  {
   "cell_type": "markdown",
   "metadata": {},
   "source": [
    "**Модель RandomForestRegressor:**<br>\n",
    "С помощью модели RandomForestRegressor получили лучший результат на тренировочной выборке F1 - 0.45 на валидационной выборке F1 - 0.49 на следующих параметрах:\n",
    "- n_estimators - 13;\n",
    "- min_samples_split - 2;\n",
    "- min_samples_leaf - 2;\n",
    "- max_features - sqrt;\n",
    "- max_depth - 24;\n",
    "- bootstrap - False.\n",
    "\n",
    "Затраченное время:\n",
    "- На обучение модели: 3 с;\n",
    "- На предсказание: 0.1 с.\n",
    "\n",
    "**Модель LightGBM:**<br>\n",
    "С помощью модели lightgbm получили лучший результат на тренировочной выборке F1 - 0.75 на валидационной выборке F1 - 0.76 на следующих параметрах:\n",
    "- objective - 'binary';\n",
    "- num_leaves - 100;\n",
    "- n_estimators - 100.\n",
    "\n",
    "Затраченное время:\n",
    "- На нахождение лучшей модели: 86 с;\n",
    "- На предсказание: 1.9 с.\n",
    "\n",
    "**Модель XGBClassifier:**<br>\n",
    "С помощью модели XGBClassifier получили лучший результат на тренировочной выборке F1 - 0.95 на валидационной выборке F1 - 0.72 на следующих параметрах:\n",
    "- max_depth - 30;\n",
    "- learning_rate - 0.1;\n",
    "- n_estimators - 50.\n",
    "\n",
    "Затраченное время:\n",
    "- На нахождение лучшей модели: 144 с;\n",
    "- На предсказание: 0.7 с."
   ]
  },
  {
   "cell_type": "code",
   "execution_count": 44,
   "metadata": {},
   "outputs": [
    {
     "data": {
      "text/html": [
       "<div>\n",
       "<style scoped>\n",
       "    .dataframe tbody tr th:only-of-type {\n",
       "        vertical-align: middle;\n",
       "    }\n",
       "\n",
       "    .dataframe tbody tr th {\n",
       "        vertical-align: top;\n",
       "    }\n",
       "\n",
       "    .dataframe thead th {\n",
       "        text-align: right;\n",
       "    }\n",
       "</style>\n",
       "<table border=\"1\" class=\"dataframe\">\n",
       "  <thead>\n",
       "    <tr style=\"text-align: right;\">\n",
       "      <th></th>\n",
       "      <th>F1</th>\n",
       "      <th>T_train</th>\n",
       "      <th>T_predict</th>\n",
       "    </tr>\n",
       "  </thead>\n",
       "  <tbody>\n",
       "    <tr>\n",
       "      <th>RandomForestRegressor</th>\n",
       "      <td>0.483593</td>\n",
       "      <td>4.347831</td>\n",
       "      <td>0.122762</td>\n",
       "    </tr>\n",
       "    <tr>\n",
       "      <th>LGBMRegressor</th>\n",
       "      <td>0.749291</td>\n",
       "      <td>33.645913</td>\n",
       "      <td>0.710456</td>\n",
       "    </tr>\n",
       "    <tr>\n",
       "      <th>XGBRegressor</th>\n",
       "      <td>0.703160</td>\n",
       "      <td>127.111999</td>\n",
       "      <td>0.187819</td>\n",
       "    </tr>\n",
       "  </tbody>\n",
       "</table>\n",
       "</div>"
      ],
      "text/plain": [
       "                             F1     T_train  T_predict\n",
       "RandomForestRegressor  0.483593    4.347831   0.122762\n",
       "LGBMRegressor          0.749291   33.645913   0.710456\n",
       "XGBRegressor           0.703160  127.111999   0.187819"
      ]
     },
     "metadata": {},
     "output_type": "display_data"
    }
   ],
   "source": [
    "res_df = pd.DataFrame(np.column_stack([F1, training_time, prediction_time]), \n",
    "                               columns=variable, index=model)\n",
    "display(res_df)"
   ]
  },
  {
   "cell_type": "markdown",
   "metadata": {},
   "source": [
    "## Выводы"
   ]
  },
  {
   "cell_type": "markdown",
   "metadata": {},
   "source": [
    "- Библиотеки загружены;\n",
    "- Данные загружены;\n",
    "- Данные осмотрены;\n",
    "    - Наблюдается дисбаланс классов (при неуд. результатах работы модели, сбалансировать классы);\n",
    "- Данные подготовлены;\n",
    "    - Проведена лемматизация;\n",
    "    - Проведена векторизация;\n",
    "    - Проведен раздел на обучающую и тестовую выборки.\n",
    "    \n",
    "**Обучены модели RandomForestRegressor, LightGBM, XGBRegressor и проведен их анализ**<br>\n",
    "**Модель RandomForestRegressor:**<br>\n",
    "С помощью модели RandomForestRegressor получили лучший результат на тренировочной выборке F1 - 0.45 на валидационной выборке F1 - 0.49 на следующих параметрах:\n",
    "- n_estimators - 13;\n",
    "- min_samples_split - 2;\n",
    "- min_samples_leaf - 2;\n",
    "- max_features - sqrt;\n",
    "- max_depth - 24;\n",
    "- bootstrap - False.\n",
    "\n",
    "Затраченное время:\n",
    "- На обучение модели: 3 с;\n",
    "- На предсказание: 0.1 с.\n",
    "\n",
    "**Модель LightGBM:**<br>\n",
    "С помощью модели lightgbm получили лучший результат на тренировочной выборке F1 - 0.75 на валидационной выборке F1 - 0.76 на следующих параметрах:\n",
    "- objective - 'binary';\n",
    "- num_leaves - 100;\n",
    "- n_estimators - 100.\n",
    "\n",
    "Затраченное время:\n",
    "- На нахождение лучшей модели: 86 с;\n",
    "- На предсказание: 1.9 с.\n",
    "\n",
    "**Модель XGBClassifier:**<br>\n",
    "С помощью модели XGBClassifier получили лучший результат на тренировочной выборке F1 - 0.95 на валидационной выборке F1 - 0.72 на следующих параметрах:\n",
    "- max_depth - 30;\n",
    "- learning_rate - 0.1;\n",
    "- n_estimators - 50.\n",
    "\n",
    "Затраченное время:\n",
    "- На нахождение лучшей модели: 144 с;\n",
    "- На предсказание: 0.7 с.\n",
    "\n",
    "**Выбор модели останавливаем на LightGBM, так как она показала лучшее значение F1 предсказания.**"
   ]
  },
  {
   "cell_type": "markdown",
   "metadata": {},
   "source": [
    "## Чек-лист проверки"
   ]
  },
  {
   "cell_type": "markdown",
   "metadata": {},
   "source": [
    "- [x]  Jupyter Notebook открыт\n",
    "- [x]  Весь код выполняется без ошибок\n",
    "- [x]  Ячейки с кодом расположены в порядке исполнения\n",
    "- [x]  Данные загружены и подготовлены\n",
    "- [x]  Модели обучены\n",
    "- [x]  Значение метрики *F1* не меньше 0.75\n",
    "- [x]  Выводы написаны"
   ]
  }
 ],
 "metadata": {
  "ExecuteTimeLog": [
   {
    "duration": 75423,
    "start_time": "2022-07-18T18:56:00.945Z"
   },
   {
    "duration": 0,
    "start_time": "2022-07-18T18:57:16.369Z"
   },
   {
    "duration": 0,
    "start_time": "2022-07-18T18:57:16.370Z"
   },
   {
    "duration": 0,
    "start_time": "2022-07-18T18:57:16.371Z"
   },
   {
    "duration": 45119,
    "start_time": "2022-07-18T18:57:35.076Z"
   },
   {
    "duration": 76,
    "start_time": "2022-07-18T19:07:08.329Z"
   },
   {
    "duration": 92,
    "start_time": "2022-07-18T19:07:13.376Z"
   },
   {
    "duration": 48720,
    "start_time": "2022-07-18T19:07:46.153Z"
   },
   {
    "duration": 77,
    "start_time": "2022-07-18T19:11:32.234Z"
   },
   {
    "duration": 1048,
    "start_time": "2022-07-18T19:12:32.556Z"
   },
   {
    "duration": 115,
    "start_time": "2022-07-18T19:12:35.778Z"
   },
   {
    "duration": 20,
    "start_time": "2022-07-18T19:12:35.950Z"
   },
   {
    "duration": 2865,
    "start_time": "2022-07-18T19:12:49.154Z"
   },
   {
    "duration": 15,
    "start_time": "2022-07-18T19:12:52.021Z"
   },
   {
    "duration": 51,
    "start_time": "2022-07-18T19:12:56.147Z"
   },
   {
    "duration": 43323,
    "start_time": "2022-07-18T19:12:58.386Z"
   },
   {
    "duration": 81,
    "start_time": "2022-07-18T19:13:41.711Z"
   },
   {
    "duration": 1783,
    "start_time": "2022-07-18T19:14:12.106Z"
   },
   {
    "duration": 1724,
    "start_time": "2022-07-18T19:21:11.994Z"
   },
   {
    "duration": 717,
    "start_time": "2022-07-18T19:21:13.844Z"
   },
   {
    "duration": 15,
    "start_time": "2022-07-18T19:21:14.600Z"
   },
   {
    "duration": 48,
    "start_time": "2022-07-18T19:21:17.677Z"
   },
   {
    "duration": 1224894,
    "start_time": "2022-07-18T19:21:21.823Z"
   },
   {
    "duration": 15,
    "start_time": "2022-07-18T19:51:26.657Z"
   },
   {
    "duration": 107169,
    "start_time": "2022-07-19T16:26:03.146Z"
   },
   {
    "duration": 4248,
    "start_time": "2022-07-19T16:27:50.318Z"
   },
   {
    "duration": 24,
    "start_time": "2022-07-19T16:27:54.568Z"
   },
   {
    "duration": 67,
    "start_time": "2022-07-19T16:27:54.596Z"
   },
   {
    "duration": 1133,
    "start_time": "2022-07-19T16:29:29.772Z"
   },
   {
    "duration": 7,
    "start_time": "2022-07-19T16:30:23.664Z"
   },
   {
    "duration": 6,
    "start_time": "2022-07-19T16:30:32.011Z"
   },
   {
    "duration": 617,
    "start_time": "2022-07-19T16:30:39.662Z"
   },
   {
    "duration": 8,
    "start_time": "2022-07-19T16:30:45.805Z"
   },
   {
    "duration": 56991,
    "start_time": "2022-07-21T20:55:02.555Z"
   },
   {
    "duration": 2194,
    "start_time": "2022-07-21T20:55:59.548Z"
   },
   {
    "duration": 14,
    "start_time": "2022-07-21T20:56:01.744Z"
   },
   {
    "duration": 55,
    "start_time": "2022-07-21T20:56:01.760Z"
   },
   {
    "duration": 2,
    "start_time": "2022-07-21T20:56:01.818Z"
   },
   {
    "duration": 4,
    "start_time": "2022-07-21T20:56:01.846Z"
   },
   {
    "duration": 4924,
    "start_time": "2022-07-21T20:56:01.852Z"
   },
   {
    "duration": 578,
    "start_time": "2022-07-21T20:56:06.778Z"
   },
   {
    "duration": 3,
    "start_time": "2022-07-21T20:56:07.358Z"
   }
  ],
  "kernelspec": {
   "display_name": "Python 3 (ipykernel)",
   "language": "python",
   "name": "python3"
  },
  "language_info": {
   "codemirror_mode": {
    "name": "ipython",
    "version": 3
   },
   "file_extension": ".py",
   "mimetype": "text/x-python",
   "name": "python",
   "nbconvert_exporter": "python",
   "pygments_lexer": "ipython3",
   "version": "3.9.12"
  },
  "toc": {
   "base_numbering": 1,
   "nav_menu": {},
   "number_sections": true,
   "sideBar": true,
   "skip_h1_title": true,
   "title_cell": "Содержание",
   "title_sidebar": "Contents",
   "toc_cell": true,
   "toc_position": {
    "height": "calc(100% - 180px)",
    "left": "10px",
    "top": "150px",
    "width": "302.391px"
   },
   "toc_section_display": true,
   "toc_window_display": false
  }
 },
 "nbformat": 4,
 "nbformat_minor": 4
}
